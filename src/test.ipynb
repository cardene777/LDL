{
 "cells": [
  {
   "cell_type": "markdown",
   "id": "6c3ff6ec",
   "metadata": {},
   "source": [
    "$$\n",
    "\\mu = \\frac{1}{m} \\sum_{i=1}^m x_i\n",
    "$$"
   ]
  },
  {
   "cell_type": "markdown",
   "id": "3c9fd201",
   "metadata": {},
   "source": [
    "$$\n",
    "\\sum_{} = \\frac{1}{m}\\sum_{i=1}^m (x_i - μ)(x_i - μ)^{\\mathrm{T}}\n",
    "$$"
   ]
  },
  {
   "cell_type": "markdown",
   "id": "bc95788c",
   "metadata": {},
   "source": [
    "$$\n",
    "θ < \\sqrt{(x_i - μ) ^{\\mathrm{T}}\\sum{}^{-1} (x_i - μ) }\n",
    "$$"
   ]
  },
  {
   "cell_type": "code",
   "execution_count": 3,
   "id": "fdffcb30",
   "metadata": {},
   "outputs": [
    {
     "name": "stdout",
     "output_type": "stream",
     "text": [
      "[[1, 2, 1, 1, 3, 3, 1, 1, 1, 2, 1, 2, 1, 3, 3, 2, 2, 1, 1, 1], [3, 3, 3, 1, 2, 1, 1, 2, 2, 2, 3, 1, 1, 3, 2, 3, 3, 2, 2, 2], [1, 2, 3, 3, 3, 1, 1, 3, 2, 3, 2, 2, 2, 2, 3, 1, 2, 1, 1, 3], [3, 2, 2, 1, 2, 1, 1, 1, 3, 1, 2, 1, 2, 2, 1, 1, 2, 1, 1, 3], [1, 2, 3, 2, 2, 1, 1, 1, 1, 3, 2, 2, 2, 2, 3, 3, 1, 2, 1, 1], [3, 1, 2, 3, 2, 3, 3, 2, 2, 3, 3, 2, 3, 1, 3, 2, 3, 3, 1, 2], [2, 2, 3, 3, 1, 1, 2, 1, 3, 3, 2, 2, 2, 1, 1, 2, 2, 1, 2, 2], [3, 2, 3, 1, 2, 2, 1, 1, 3, 3, 1, 2, 3, 2, 3, 1, 1, 3, 2, 3], [1, 3, 3, 2, 1, 1, 1, 3, 1, 2, 3, 1, 2, 3, 1, 2, 2, 3, 1, 1], [1, 2, 2, 1, 3, 3, 3, 2, 1, 2, 2, 3, 1, 1, 3, 3, 3, 2, 3, 3], [1, 1, 1, 2, 1, 3, 3, 1, 2, 1, 1, 2, 2, 3, 3, 1, 2, 1, 3, 3], [3, 2, 2, 3, 2, 2, 3, 1, 1, 1, 1, 3, 1, 3, 2, 2, 2, 2, 3, 1], [3, 1, 3, 1, 3, 2, 3, 3, 3, 1, 2, 1, 3, 2, 3, 1, 1, 2, 3, 2], [1, 3, 3, 3, 2, 3, 1, 1, 1, 3, 2, 1, 3, 3, 1, 1, 3, 1, 3, 1], [3, 2, 3, 2, 1, 2, 1, 2, 3, 3, 3, 1, 3, 1, 2, 1, 2, 1, 2, 2], [3, 3, 3, 3, 3, 2, 2, 2, 1, 2, 3, 2, 1, 3, 3, 3, 2, 2, 1, 1], [2, 1, 2, 2, 1, 3, 3, 1, 1, 3, 2, 2, 1, 3, 3, 3, 1, 2, 1, 3], [3, 3, 2, 3, 1, 3, 2, 1, 2, 2, 2, 1, 1, 1, 1, 1, 3, 2, 1, 2], [1, 2, 2, 3, 2, 2, 2, 1, 1, 3, 1, 1, 3, 3, 3, 2, 2, 2, 1, 3], [2, 2, 2, 2, 2, 1, 3, 3, 3, 2, 2, 3, 2, 2, 2, 2, 3, 1, 2, 3]]\n"
     ]
    }
   ],
   "source": [
    "import random\n",
    "\n",
    "lists = []\n",
    "for _ in range(20):\n",
    "    a = []\n",
    "    for _ in range(20):\n",
    "        a.append(random.randint(1, 3))\n",
    "    lists.append(a)\n",
    "    \n",
    "print(lists)"
   ]
  },
  {
   "cell_type": "code",
   "execution_count": null,
   "id": "5da3c1d2",
   "metadata": {},
   "outputs": [],
   "source": []
  }
 ],
 "metadata": {
  "kernelspec": {
   "display_name": "Python 3",
   "language": "python",
   "name": "python3"
  },
  "language_info": {
   "codemirror_mode": {
    "name": "ipython",
    "version": 3
   },
   "file_extension": ".py",
   "mimetype": "text/x-python",
   "name": "python",
   "nbconvert_exporter": "python",
   "pygments_lexer": "ipython3",
   "version": "3.9.5"
  }
 },
 "nbformat": 4,
 "nbformat_minor": 5
}
