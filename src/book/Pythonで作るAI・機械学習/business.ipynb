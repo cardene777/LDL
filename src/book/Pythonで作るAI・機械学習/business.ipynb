{
 "cells": [
  {
   "cell_type": "markdown",
   "id": "6fc02560",
   "metadata": {},
   "source": [
    "# 学習済みデータの保存と読み込み"
   ]
  },
  {
   "cell_type": "code",
   "execution_count": 1,
   "id": "0e5e70a4",
   "metadata": {},
   "outputs": [],
   "source": [
    "from sklearn import datasets, svm\n",
    "import pickle\n",
    "\n",
    "# アヤメのサンプルデータを読み込む\n",
    "iris = datasets.load_iris()\n",
    "\n",
    "# データを学習\n",
    "clf = svm.SVC()\n",
    "clf.fit(iris.data, iris.target)\n",
    "\n",
    "# 学習済みデータを保存\n",
    "with open('iris.pkl', 'wb') as fp:\n",
    "    pickle.dump(clf, fp)"
   ]
  },
  {
   "cell_type": "code",
   "execution_count": 2,
   "id": "c445c25e",
   "metadata": {},
   "outputs": [
    {
     "name": "stdout",
     "output_type": "stream",
     "text": [
      "0.9733333333333334\n"
     ]
    }
   ],
   "source": [
    "from sklearn import datasets, svm\n",
    "from sklearn.metrics import accuracy_score\n",
    "import pickle\n",
    "\n",
    "# 保存した学習済みデータと分類器を読み込む\n",
    "with open('iris.pkl', 'rb') as fp:\n",
    "    clf = pickle.load(fp)\n",
    "\n",
    "# アヤメのサンプルデータを読み込み\n",
    "iris = datasets.load_iris()\n",
    "# 予測する\n",
    "pre = clf.predict(iris.data)\n",
    "# 正解率を調べる\n",
    "print(accuracy_score(iris.target, pre))"
   ]
  },
  {
   "cell_type": "markdown",
   "id": "9e65d797",
   "metadata": {},
   "source": [
    "# TensorflowとKerasで学習済みデータの保存と読み込み"
   ]
  },
  {
   "cell_type": "code",
   "execution_count": 3,
   "id": "610ef521",
   "metadata": {},
   "outputs": [
    {
     "name": "stderr",
     "output_type": "stream",
     "text": [
      "Using TensorFlow backend.\n"
     ]
    },
    {
     "name": "stdout",
     "output_type": "stream",
     "text": [
      "Epoch 1/50\n",
      "150/150 [==============================] - 1s 4ms/step - loss: 0.8875 - accuracy: 0.5400\n",
      "Epoch 2/50\n",
      "150/150 [==============================] - 0s 402us/step - loss: 0.5835 - accuracy: 0.6867\n",
      "Epoch 3/50\n",
      "150/150 [==============================] - 0s 393us/step - loss: 0.4448 - accuracy: 0.7867\n",
      "Epoch 4/50\n",
      "150/150 [==============================] - 0s 396us/step - loss: 0.3551 - accuracy: 0.8267\n",
      "Epoch 5/50\n",
      "150/150 [==============================] - 0s 382us/step - loss: 0.3053 - accuracy: 0.8933\n",
      "Epoch 6/50\n",
      "150/150 [==============================] - 0s 384us/step - loss: 0.2206 - accuracy: 0.9600\n",
      "Epoch 7/50\n",
      "150/150 [==============================] - 0s 388us/step - loss: 0.1991 - accuracy: 0.9600\n",
      "Epoch 8/50\n",
      "150/150 [==============================] - 0s 399us/step - loss: 0.1699 - accuracy: 0.9600\n",
      "Epoch 9/50\n",
      "150/150 [==============================] - 0s 392us/step - loss: 0.1526 - accuracy: 0.9800\n",
      "Epoch 10/50\n",
      "150/150 [==============================] - 0s 383us/step - loss: 0.1335 - accuracy: 0.9800\n",
      "Epoch 11/50\n",
      "150/150 [==============================] - 0s 392us/step - loss: 0.1529 - accuracy: 0.9400\n",
      "Epoch 12/50\n",
      "150/150 [==============================] - 0s 389us/step - loss: 0.1273 - accuracy: 0.9467\n",
      "Epoch 13/50\n",
      "150/150 [==============================] - 0s 390us/step - loss: 0.1134 - accuracy: 0.9733\n",
      "Epoch 14/50\n",
      "150/150 [==============================] - 0s 389us/step - loss: 0.1089 - accuracy: 0.9600\n",
      "Epoch 15/50\n",
      "150/150 [==============================] - 0s 393us/step - loss: 0.1187 - accuracy: 0.9533\n",
      "Epoch 16/50\n",
      "150/150 [==============================] - 0s 388us/step - loss: 0.0971 - accuracy: 0.9733\n",
      "Epoch 17/50\n",
      "150/150 [==============================] - 0s 377us/step - loss: 0.1341 - accuracy: 0.9533\n",
      "Epoch 18/50\n",
      "150/150 [==============================] - 0s 387us/step - loss: 0.1211 - accuracy: 0.9467\n",
      "Epoch 19/50\n",
      "150/150 [==============================] - 0s 378us/step - loss: 0.1054 - accuracy: 0.9667\n",
      "Epoch 20/50\n",
      "150/150 [==============================] - 0s 386us/step - loss: 0.1256 - accuracy: 0.9467\n",
      "Epoch 21/50\n",
      "150/150 [==============================] - 0s 391us/step - loss: 0.1622 - accuracy: 0.9200\n",
      "Epoch 22/50\n",
      "150/150 [==============================] - 0s 380us/step - loss: 0.1118 - accuracy: 0.9667\n",
      "Epoch 23/50\n",
      "150/150 [==============================] - 0s 379us/step - loss: 0.0991 - accuracy: 0.9533\n",
      "Epoch 24/50\n",
      "150/150 [==============================] - 0s 382us/step - loss: 0.1100 - accuracy: 0.9600\n",
      "Epoch 25/50\n",
      "150/150 [==============================] - 0s 391us/step - loss: 0.1161 - accuracy: 0.9400\n",
      "Epoch 26/50\n",
      "150/150 [==============================] - 0s 387us/step - loss: 0.1360 - accuracy: 0.9400\n",
      "Epoch 27/50\n",
      "150/150 [==============================] - 0s 377us/step - loss: 0.1158 - accuracy: 0.9333\n",
      "Epoch 28/50\n",
      "150/150 [==============================] - 0s 384us/step - loss: 0.1214 - accuracy: 0.9467\n",
      "Epoch 29/50\n",
      "150/150 [==============================] - 0s 382us/step - loss: 0.0858 - accuracy: 0.9733\n",
      "Epoch 30/50\n",
      "150/150 [==============================] - 0s 388us/step - loss: 0.0888 - accuracy: 0.9867\n",
      "Epoch 31/50\n",
      "150/150 [==============================] - 0s 395us/step - loss: 0.1006 - accuracy: 0.9533\n",
      "Epoch 32/50\n",
      "150/150 [==============================] - 0s 388us/step - loss: 0.0853 - accuracy: 0.9733\n",
      "Epoch 33/50\n",
      "150/150 [==============================] - 0s 385us/step - loss: 0.0965 - accuracy: 0.9533\n",
      "Epoch 34/50\n",
      "150/150 [==============================] - 0s 390us/step - loss: 0.0942 - accuracy: 0.9733\n",
      "Epoch 35/50\n",
      "150/150 [==============================] - 0s 387us/step - loss: 0.1287 - accuracy: 0.9467\n",
      "Epoch 36/50\n",
      "150/150 [==============================] - 0s 384us/step - loss: 0.1465 - accuracy: 0.9533\n",
      "Epoch 37/50\n",
      "150/150 [==============================] - 0s 383us/step - loss: 0.1235 - accuracy: 0.9400\n",
      "Epoch 38/50\n",
      "150/150 [==============================] - 0s 393us/step - loss: 0.0844 - accuracy: 0.9600\n",
      "Epoch 39/50\n",
      "150/150 [==============================] - 0s 386us/step - loss: 0.1074 - accuracy: 0.9467\n",
      "Epoch 40/50\n",
      "150/150 [==============================] - 0s 387us/step - loss: 0.1041 - accuracy: 0.9733\n",
      "Epoch 41/50\n",
      "150/150 [==============================] - 0s 386us/step - loss: 0.1209 - accuracy: 0.9400\n",
      "Epoch 42/50\n",
      "150/150 [==============================] - 0s 378us/step - loss: 0.1342 - accuracy: 0.9467\n",
      "Epoch 43/50\n",
      "150/150 [==============================] - 0s 381us/step - loss: 0.0980 - accuracy: 0.9533\n",
      "Epoch 44/50\n",
      "150/150 [==============================] - 0s 380us/step - loss: 0.0848 - accuracy: 0.9733\n",
      "Epoch 45/50\n",
      "150/150 [==============================] - 0s 383us/step - loss: 0.0827 - accuracy: 0.9667\n",
      "Epoch 46/50\n",
      "150/150 [==============================] - 0s 385us/step - loss: 0.0861 - accuracy: 0.9733\n",
      "Epoch 47/50\n",
      "150/150 [==============================] - 0s 395us/step - loss: 0.0576 - accuracy: 0.9867\n",
      "Epoch 48/50\n",
      "150/150 [==============================] - 0s 393us/step - loss: 0.0738 - accuracy: 0.9733\n",
      "Epoch 49/50\n",
      "150/150 [==============================] - 0s 390us/step - loss: 0.0790 - accuracy: 0.9733\n",
      "Epoch 50/50\n",
      "150/150 [==============================] - 0s 394us/step - loss: 0.0578 - accuracy: 0.9867\n"
     ]
    }
   ],
   "source": [
    "from sklearn import datasets\n",
    "import keras\n",
    "from keras.models import Sequential\n",
    "from keras.layers import Dense, Dropout\n",
    "from keras.utils.np_utils import to_categorical\n",
    "\n",
    "# アヤメのサンプルデータを読み込む\n",
    "iris = datasets.load_iris()\n",
    "in_size = 4\n",
    "nb_classes=3\n",
    "# ラベルデータをone-hotベクトルに直す\n",
    "x = iris.data\n",
    "y = to_categorical(iris.target, nb_classes)\n",
    "\n",
    "# モデルを定義 --- (*1)\n",
    "model = Sequential()\n",
    "model.add(Dense(512, activation='relu', input_shape=(in_size,)))\n",
    "model.add(Dense(512, activation='relu'))\n",
    "model.add(Dropout(0.2))\n",
    "model.add(Dense(nb_classes, activation='softmax'))\n",
    "# コンパイル --- (*2)\n",
    "model.compile(\n",
    "    loss='categorical_crossentropy',\n",
    "    optimizer='adam',\n",
    "    metrics=['accuracy'])\n",
    "# 学習を実行 --- (*3)\n",
    "model.fit(x, y, batch_size=20, epochs=50)\n",
    "\n",
    "# モデルを保存 --- (*4)\n",
    "model.save('iris_model.h5')\n",
    "# 学習済み重みデータを保存 --- (*5)\n",
    "model.save_weights('iris_weight.h5')"
   ]
  },
  {
   "cell_type": "code",
   "execution_count": 4,
   "id": "898e8adb",
   "metadata": {},
   "outputs": [
    {
     "name": "stdout",
     "output_type": "stream",
     "text": [
      "150/150 [==============================] - 0s 659us/step\n",
      "正解率= 0.9800000190734863\n"
     ]
    }
   ],
   "source": [
    "from sklearn import datasets\n",
    "import keras\n",
    "from keras.models import load_model\n",
    "from keras.utils.np_utils import to_categorical\n",
    "\n",
    "# アヤメのサンプルデータを読み込む\n",
    "iris = datasets.load_iris()\n",
    "in_size = 4\n",
    "nb_classes=3\n",
    "# ラベルデータをone-hotベクトルに直す\n",
    "x = iris.data\n",
    "y = to_categorical(iris.target, nb_classes)\n",
    "\n",
    "# モデルを読込 --- (*1)\n",
    "model = load_model('iris_model.h5')\n",
    "# 重みデータを読込 --- (*2)\n",
    "model.load_weights('iris_weight.h5')\n",
    "\n",
    "# モデルを評価 --- (*3)\n",
    "score = model.evaluate(x, y, verbose=1)\n",
    "print(\"正解率=\", score[1])"
   ]
  }
 ],
 "metadata": {
  "kernelspec": {
   "display_name": "Python 3",
   "language": "python",
   "name": "python3"
  },
  "language_info": {
   "codemirror_mode": {
    "name": "ipython",
    "version": 3
   },
   "file_extension": ".py",
   "mimetype": "text/x-python",
   "name": "python",
   "nbconvert_exporter": "python",
   "pygments_lexer": "ipython3",
   "version": "3.7.10"
  }
 },
 "nbformat": 4,
 "nbformat_minor": 5
}
