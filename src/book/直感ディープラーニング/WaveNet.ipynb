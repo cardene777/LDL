{
 "cells": [
  {
   "cell_type": "markdown",
   "id": "3adebd59",
   "metadata": {},
   "source": [
    "# WaveNet\n",
    "\n",
    "## 波形接続型音声合成システム\n",
    "- さまざまな音声の断片を保存しておき、合成する際にそれらを組み合わせて出力する手法。\n",
    "- 拡張性は高くない。\n",
    "- あらかじめ音声の断片を保存しておく必要があるため、新しい話者や異なる種類の音声に対応する場合はまずその断片の録音から始めなくてはならない。\n",
    "\n",
    "## パラメトリック音声合成システム\n",
    "- 音声合成を行うための特徴量を保持したモデルを作成する手法。\n",
    "- WaveNet以前の信号処理アプ語リズムの処理結果を用いるのに対し、音声を直接モデリングすることで最高精度の更新に成功。"
   ]
  },
  {
   "cell_type": "code",
   "execution_count": 1,
   "id": "971fcd26",
   "metadata": {},
   "outputs": [],
   "source": [
    "import datetime\n",
    "import json\n",
    "import os\n",
    "import re\n",
    "import wave\n",
    "\n",
    "import keras.backend as K\n",
    "import numpy as np\n",
    "import scipy.io.wavfile\n",
    "import scipy.signal\n",
    "from keras import layers\n",
    "from keras import metrics\n",
    "from keras import objectives\n",
    "from keras.callbacks import ModelCheckpoint, EarlyStopping, ReduceLROnPlateau, CSVLogger\n",
    "from keras.engine import Input\n",
    "from keras.engine import Model\n",
    "from keras.optimizers import Adam, SGD\n",
    "from keras.regularizers import l2\n",
    "from sacred import Experiment\n",
    "from sacred.commands import print_config\n",
    "from tqdm import tqdm\n",
    "from time import gmtime, strftime\n",
    "from keras.callbacks import TensorBoard\n",
    "from keras.layers.convolutional import Conv1D"
   ]
  },
  {
   "cell_type": "code",
   "execution_count": 2,
   "id": "c2f23ef0",
   "metadata": {},
   "outputs": [],
   "source": [
    "def categorical_mean_squared_error(y_true, y_pred):\n",
    "    \"\"\"MSE for categorical variables.\"\"\"\n",
    "    return K.mean(K.square(K.argmax(y_true, axis=-1) -\n",
    "                           K.argmax(y_pred, axis=-1)))\n",
    "\n",
    "\n",
    "class CausalAtrousConvolution1D(Conv1D):\n",
    "    def __init__(self, filters, kernel_size, init='glorot_uniform', activation=None,\n",
    "                 padding='valid', strides=1, dilation_rate=1, bias_regularizer=None,\n",
    "                 activity_regularizer=None, kernel_constraint=None, bias_constraint=None, use_bias=True, causal=False, **kwargs):\n",
    "        super(CausalAtrousConvolution1D, self).__init__(filters,\n",
    "                                                        kernel_size=kernel_size,\n",
    "                                                        strides=strides,\n",
    "                                                        padding=padding,\n",
    "                                                        dilation_rate=dilation_rate,\n",
    "                                                        activation=activation,\n",
    "                                                        use_bias=use_bias,\n",
    "                                                        kernel_initializer=init,\n",
    "                                                        activity_regularizer=activity_regularizer,\n",
    "                                                        bias_regularizer=bias_regularizer,\n",
    "                                                        kernel_constraint=kernel_constraint,\n",
    "                                                        bias_constraint=bias_constraint,\n",
    "                                                        **kwargs)\n",
    "\n",
    "        self.causal = causal\n",
    "        if self.causal and padding != 'valid':\n",
    "            raise ValueError(\"Causal mode dictates border_mode=valid.\")"
   ]
  },
  {
   "cell_type": "code",
   "execution_count": null,
   "id": "4448c2d6",
   "metadata": {},
   "outputs": [],
   "source": []
  }
 ],
 "metadata": {
  "kernelspec": {
   "display_name": "Python 3",
   "language": "python",
   "name": "python3"
  },
  "language_info": {
   "codemirror_mode": {
    "name": "ipython",
    "version": 3
   },
   "file_extension": ".py",
   "mimetype": "text/x-python",
   "name": "python",
   "nbconvert_exporter": "python",
   "pygments_lexer": "ipython3",
   "version": "3.8.8"
  }
 },
 "nbformat": 4,
 "nbformat_minor": 5
}
