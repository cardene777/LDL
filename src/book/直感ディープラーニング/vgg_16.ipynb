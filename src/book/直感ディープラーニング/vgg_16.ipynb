{
 "cells": [
  {
   "cell_type": "code",
   "execution_count": 1,
   "id": "sustainable-appendix",
   "metadata": {},
   "outputs": [],
   "source": [
    "import os\n",
    "os.environ['KMP_DUPLICATE_LIB_OK']='TRUE'"
   ]
  },
  {
   "cell_type": "code",
   "execution_count": 2,
   "id": "analyzed-custom",
   "metadata": {},
   "outputs": [
    {
     "name": "stderr",
     "output_type": "stream",
     "text": [
      "Using TensorFlow backend.\n"
     ]
    },
    {
     "name": "stdout",
     "output_type": "stream",
     "text": [
      "steam_locomotive\n"
     ]
    }
   ],
   "source": [
    "from keras.applications.vgg16 import VGG16\n",
    "from keras.applications.vgg16 import preprocess_input, decode_predictions\n",
    "import keras.preprocessing.image as Image\n",
    "import numpy as np\n",
    "\n",
    "\n",
    "model = VGG16(weights=\"imagenet\", include_top=True)\n",
    "\n",
    "image_path = \"sample_images_pretrain/steaming_train.png\"\n",
    "image = Image.load_img(image_path, target_size=(224, 224))  # imagenet size\n",
    "x = Image.img_to_array(image)\n",
    "x = np.expand_dims(x, axis=0)  # add batch size dim\n",
    "x = preprocess_input(x)\n",
    "\n",
    "result = model.predict(x)\n",
    "result = decode_predictions(result, top=3)[0]\n",
    "print(result[0][1])  # show description"
   ]
  },
  {
   "cell_type": "code",
   "execution_count": 3,
   "id": "duplicate-potter",
   "metadata": {},
   "outputs": [],
   "source": [
    "from keras.applications.vgg19 import VGG19\n",
    "from keras.preprocessing import image\n",
    "from keras.applications.vgg19 import preprocess_input\n",
    "from keras.models import Model\n",
    "import numpy as np\n",
    "\n",
    "base_model = VGG19(weights=\"imagenet\")\n",
    "model = Model(inputs=base_model.input, outputs=base_model.get_layer(\"block4_pool\").output)\n",
    "\n",
    "img_path = \"sample_images_pretrain/elephant.jpg\"\n",
    "img = image.load_img(img_path, target_size=(224, 224))\n",
    "x = image.img_to_array(img)\n",
    "x = np.expand_dims(x, axis=0)\n",
    "x = preprocess_input(x)\n",
    "\n",
    "block4_pool_features = model.predict(x)"
   ]
  }
 ],
 "metadata": {
  "kernelspec": {
   "display_name": "Python 3",
   "language": "python",
   "name": "python3"
  },
  "language_info": {
   "codemirror_mode": {
    "name": "ipython",
    "version": 3
   },
   "file_extension": ".py",
   "mimetype": "text/x-python",
   "name": "python",
   "nbconvert_exporter": "python",
   "pygments_lexer": "ipython3",
   "version": "3.7.10"
  }
 },
 "nbformat": 4,
 "nbformat_minor": 5
}
