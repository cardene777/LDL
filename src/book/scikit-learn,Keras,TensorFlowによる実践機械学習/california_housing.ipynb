{
 "cells": [
  {
   "cell_type": "code",
   "execution_count": 1,
   "id": "dd19c8f0",
   "metadata": {},
   "outputs": [],
   "source": [
    "import tensorflow as tf\n",
    "from tensorflow import keras\n",
    "\n",
    "from sklearn.datasets import fetch_california_housing\n",
    "from sklearn.model_selection import train_test_split\n",
    "from sklearn.preprocessing import StandardScaler"
   ]
  },
  {
   "cell_type": "code",
   "execution_count": 2,
   "id": "ff49eba6",
   "metadata": {},
   "outputs": [],
   "source": [
    "housing = fetch_california_housing()"
   ]
  },
  {
   "cell_type": "code",
   "execution_count": 3,
   "id": "bc0d43fa",
   "metadata": {},
   "outputs": [],
   "source": [
    "X_train_full, X_test, y_train_full, y_test = train_test_split(housing.data, housing.target)\n",
    "X_train, X_valid, y_train, y_valid = train_test_split(X_train_full, y_train_full)\n",
    "\n",
    "scaler = StandardScaler()\n",
    "X_train = scaler.fit_transform(X_train)\n",
    "X_valid = scaler.transform(X_valid)\n",
    "X_test = scaler.transform(X_test)"
   ]
  },
  {
   "cell_type": "code",
   "execution_count": 4,
   "id": "9802ef08",
   "metadata": {},
   "outputs": [
    {
     "name": "stdout",
     "output_type": "stream",
     "text": [
      "Epoch 1/20\n",
      "363/363 [==============================] - 1s 1ms/step - loss: 1.3545 - val_loss: 0.5609\n",
      "Epoch 2/20\n",
      "363/363 [==============================] - 0s 442us/step - loss: 0.5797 - val_loss: 0.4827\n",
      "Epoch 3/20\n",
      "363/363 [==============================] - 0s 440us/step - loss: 0.4997 - val_loss: 0.4513\n",
      "Epoch 4/20\n",
      "363/363 [==============================] - 0s 442us/step - loss: 0.4627 - val_loss: 0.4407\n",
      "Epoch 5/20\n",
      "363/363 [==============================] - 0s 438us/step - loss: 0.4695 - val_loss: 0.4446\n",
      "Epoch 6/20\n",
      "363/363 [==============================] - 0s 420us/step - loss: 0.4405 - val_loss: 0.4148\n",
      "Epoch 7/20\n",
      "363/363 [==============================] - 0s 421us/step - loss: 0.4453 - val_loss: 0.4152\n",
      "Epoch 8/20\n",
      "363/363 [==============================] - 0s 417us/step - loss: 0.4228 - val_loss: 0.4068\n",
      "Epoch 9/20\n",
      "363/363 [==============================] - 0s 415us/step - loss: 0.4419 - val_loss: 0.4073\n",
      "Epoch 10/20\n",
      "363/363 [==============================] - 0s 424us/step - loss: 0.4275 - val_loss: 0.3992\n",
      "Epoch 11/20\n",
      "363/363 [==============================] - 0s 415us/step - loss: 0.4157 - val_loss: 0.3953\n",
      "Epoch 12/20\n",
      "363/363 [==============================] - 0s 418us/step - loss: 0.4116 - val_loss: 0.3859\n",
      "Epoch 13/20\n",
      "363/363 [==============================] - 0s 414us/step - loss: 0.4429 - val_loss: 0.3881\n",
      "Epoch 14/20\n",
      "363/363 [==============================] - 0s 417us/step - loss: 0.3982 - val_loss: 0.3819\n",
      "Epoch 15/20\n",
      "363/363 [==============================] - 0s 423us/step - loss: 0.4247 - val_loss: 0.3795\n",
      "Epoch 16/20\n",
      "363/363 [==============================] - 0s 420us/step - loss: 0.4094 - val_loss: 0.3750\n",
      "Epoch 17/20\n",
      "363/363 [==============================] - 0s 416us/step - loss: 0.3895 - val_loss: 0.3784\n",
      "Epoch 18/20\n",
      "363/363 [==============================] - 0s 414us/step - loss: 0.4046 - val_loss: 0.3728\n",
      "Epoch 19/20\n",
      "363/363 [==============================] - 0s 409us/step - loss: 0.3946 - val_loss: 0.3750\n",
      "Epoch 20/20\n",
      "363/363 [==============================] - 0s 417us/step - loss: 0.3943 - val_loss: 0.3704\n",
      "162/162 [==============================] - 0s 245us/step - loss: 0.3808\n"
     ]
    }
   ],
   "source": [
    "# モデル構築\n",
    "model = keras.models.Sequential([\n",
    "    keras.layers.Dense(30, activation=\"relu\", input_shape=X_train.shape[1:]),\n",
    "    keras.layers.Dense(1)\n",
    "])\n",
    "\n",
    "# コンパイル\n",
    "model.compile(loss=\"mean_squared_error\", optimizer=\"sgd\")\n",
    "\n",
    "history = model.fit(\n",
    "    X_train, \n",
    "    y_train,\n",
    "    epochs=20,\n",
    "    validation_data=(X_valid, y_valid)\n",
    ")\n",
    "\n",
    "mse_test = model.evaluate(X_test, y_test)\n",
    "X_new = X_test[:3]\n",
    "y_pred = model.predict(X_new)"
   ]
  },
  {
   "cell_type": "markdown",
   "id": "0bbf0345",
   "metadata": {},
   "source": [
    "# 関数型APIを使ったモデルの構築\n",
    "### 非シーケンシャルニューラルネットワーク\n",
    "\n",
    "- 入力の全てまたは一部を直接出力層に接続する。"
   ]
  },
  {
   "cell_type": "code",
   "execution_count": 5,
   "id": "1055e260",
   "metadata": {},
   "outputs": [],
   "source": [
    "input_ = keras.layers.Input(shape=X_train.shape[1:])   # 入力タイプを指定\n",
    "hidden1 = keras.layers.Dense(30, activation=\"relu\")(input_)\n",
    "hidden2 = keras.layers.Dense(30, activation=\"relu\")(hidden1)\n",
    "concat = keras.layers.Concatenate()([input_, hidden2])\n",
    "output = keras.layers.Dense(1)(concat)\n",
    "model = keras.Model(inputs=[input_], outputs=[output])"
   ]
  },
  {
   "cell_type": "code",
   "execution_count": 6,
   "id": "0451ba2b",
   "metadata": {},
   "outputs": [],
   "source": [
    "# 2つのパスを連結\n",
    "input_A = keras.layers.Input(shape=[5], name=\"wide_input\")\n",
    "input_B = keras.layers.Input(shape=[6], name=\"deep_input\")\n",
    "hidden1 = keras.layers.Dense(30, activation=\"relu\")(input_B)\n",
    "hidden2 = keras.layers.Dense(30, activation=\"relu\")(hidden1)\n",
    "concat = keras.layers.Concatenate()([input_A, hidden2])\n",
    "output = keras.layers.Dense(1, name=\"output\")(concat)\n",
    "model = keras.Model(inputs=[input_A, input_B], outputs=[output])"
   ]
  },
  {
   "cell_type": "code",
   "execution_count": 7,
   "id": "9ac702a4",
   "metadata": {},
   "outputs": [
    {
     "name": "stdout",
     "output_type": "stream",
     "text": [
      "Epoch 1/20\n",
      "363/363 [==============================] - 0s 624us/step - loss: 2.5746 - val_loss: 0.9179\n",
      "Epoch 2/20\n",
      "363/363 [==============================] - 0s 462us/step - loss: 0.8468 - val_loss: 0.6782\n",
      "Epoch 3/20\n",
      "363/363 [==============================] - 0s 459us/step - loss: 0.7074 - val_loss: 0.6375\n",
      "Epoch 4/20\n",
      "363/363 [==============================] - 0s 461us/step - loss: 0.6514 - val_loss: 0.6039\n",
      "Epoch 5/20\n",
      "363/363 [==============================] - 0s 460us/step - loss: 0.6428 - val_loss: 0.5808\n",
      "Epoch 6/20\n",
      "363/363 [==============================] - 0s 465us/step - loss: 0.6127 - val_loss: 0.5600\n",
      "Epoch 7/20\n",
      "363/363 [==============================] - 0s 459us/step - loss: 0.5996 - val_loss: 0.5419\n",
      "Epoch 8/20\n",
      "363/363 [==============================] - 0s 458us/step - loss: 0.5775 - val_loss: 0.5271\n",
      "Epoch 9/20\n",
      "363/363 [==============================] - 0s 458us/step - loss: 0.5619 - val_loss: 0.5197\n",
      "Epoch 10/20\n",
      "363/363 [==============================] - 0s 457us/step - loss: 0.5319 - val_loss: 0.5046\n",
      "Epoch 11/20\n",
      "363/363 [==============================] - 0s 458us/step - loss: 0.5499 - val_loss: 0.4962\n",
      "Epoch 12/20\n",
      "363/363 [==============================] - 0s 460us/step - loss: 0.5270 - val_loss: 0.4885\n",
      "Epoch 13/20\n",
      "363/363 [==============================] - 0s 460us/step - loss: 0.5123 - val_loss: 0.4850\n",
      "Epoch 14/20\n",
      "363/363 [==============================] - 0s 457us/step - loss: 0.5081 - val_loss: 0.4758\n",
      "Epoch 15/20\n",
      "363/363 [==============================] - 0s 457us/step - loss: 0.4829 - val_loss: 0.4829\n",
      "Epoch 16/20\n",
      "363/363 [==============================] - 0s 457us/step - loss: 0.5018 - val_loss: 0.4719\n",
      "Epoch 17/20\n",
      "363/363 [==============================] - 0s 458us/step - loss: 0.5005 - val_loss: 0.4688\n",
      "Epoch 18/20\n",
      "363/363 [==============================] - 0s 459us/step - loss: 0.4904 - val_loss: 0.4639\n",
      "Epoch 19/20\n",
      "363/363 [==============================] - 0s 456us/step - loss: 0.5038 - val_loss: 0.4626\n",
      "Epoch 20/20\n",
      "363/363 [==============================] - 0s 459us/step - loss: 0.4888 - val_loss: 0.4583\n",
      "162/162 [==============================] - 0s 267us/step - loss: 0.4710\n"
     ]
    }
   ],
   "source": [
    "model.compile(loss=\"mse\", optimizer=keras.optimizers.SGD(lr=1e-3))\n",
    "X_train_A, X_train_B = X_train[:, :5], X_train[:, 2:]\n",
    "X_valid_A, X_valid_B = X_valid[:, :5], X_valid[:, 2:]\n",
    "X_test_A, X_test_B = X_test[:, :5], X_test[:, 2:]\n",
    "X_new_A, X_new_B = X_test_A[:3], X_test_B[:3]\n",
    "\n",
    "history = model.fit(\n",
    "    (X_train_A, X_train_B),\n",
    "    y_train, \n",
    "    epochs=20,\n",
    "    validation_data=((X_valid_A, X_valid_B), y_valid)\n",
    ")\n",
    "\n",
    "mse_test = model.evaluate((X_test_A, X_test_B), y_test)\n",
    "y_pred = model.predict((X_new_A, X_new_B))"
   ]
  },
  {
   "cell_type": "code",
   "execution_count": 8,
   "id": "07132dc8",
   "metadata": {},
   "outputs": [],
   "source": [
    "# 補助出力の追加\n",
    "input_A = keras.layers.Input(shape=[5], name=\"wide_input\")\n",
    "input_B = keras.layers.Input(shape=[6], name=\"deep_input\")\n",
    "hidden1 = keras.layers.Dense(30, activation=\"relu\")(input_B)\n",
    "hidden2 = keras.layers.Dense(30, activation=\"relu\")(hidden1)\n",
    "concat = keras.layers.Concatenate()([input_A, hidden2])\n",
    "output = keras.layers.Dense(1, name=\"main_output\")(concat)\n",
    "aux_output = keras.layers.Dense(1, name=\"aux_output\")(hidden2)\n",
    "model = keras.Model(inputs=[input_A, input_B], outputs=[output, aux_output])"
   ]
  },
  {
   "cell_type": "code",
   "execution_count": 9,
   "id": "6c6b3554",
   "metadata": {},
   "outputs": [
    {
     "name": "stdout",
     "output_type": "stream",
     "text": [
      "Epoch 1/20\n",
      "363/363 [==============================] - 1s 811us/step - loss: 1.8773 - main_output_loss: 1.7421 - aux_output_loss: 3.0948 - val_loss: 0.5516 - val_main_output_loss: 0.4808 - val_aux_output_loss: 1.1890\n",
      "Epoch 2/20\n",
      "363/363 [==============================] - 0s 564us/step - loss: 0.5629 - main_output_loss: 0.5014 - aux_output_loss: 1.1165 - val_loss: 0.5032 - val_main_output_loss: 0.4489 - val_aux_output_loss: 0.9920\n",
      "Epoch 3/20\n",
      "363/363 [==============================] - 0s 563us/step - loss: 0.5267 - main_output_loss: 0.4801 - aux_output_loss: 0.9466 - val_loss: 0.4927 - val_main_output_loss: 0.4494 - val_aux_output_loss: 0.8824\n",
      "Epoch 4/20\n",
      "363/363 [==============================] - 0s 564us/step - loss: 0.4992 - main_output_loss: 0.4608 - aux_output_loss: 0.8451 - val_loss: 0.4580 - val_main_output_loss: 0.4228 - val_aux_output_loss: 0.7751\n",
      "Epoch 5/20\n",
      "363/363 [==============================] - 0s 568us/step - loss: 0.4730 - main_output_loss: 0.4428 - aux_output_loss: 0.7454 - val_loss: 0.4517 - val_main_output_loss: 0.4220 - val_aux_output_loss: 0.7195\n",
      "Epoch 6/20\n",
      "363/363 [==============================] - 0s 563us/step - loss: 0.4805 - main_output_loss: 0.4535 - aux_output_loss: 0.7234 - val_loss: 0.4353 - val_main_output_loss: 0.4065 - val_aux_output_loss: 0.6950\n",
      "Epoch 7/20\n",
      "363/363 [==============================] - 0s 563us/step - loss: 0.4581 - main_output_loss: 0.4327 - aux_output_loss: 0.6869 - val_loss: 0.4335 - val_main_output_loss: 0.4078 - val_aux_output_loss: 0.6651\n",
      "Epoch 8/20\n",
      "363/363 [==============================] - 0s 564us/step - loss: 0.4713 - main_output_loss: 0.4475 - aux_output_loss: 0.6852 - val_loss: 0.4487 - val_main_output_loss: 0.4268 - val_aux_output_loss: 0.6454\n",
      "Epoch 9/20\n",
      "363/363 [==============================] - 0s 563us/step - loss: 0.4542 - main_output_loss: 0.4309 - aux_output_loss: 0.6638 - val_loss: 0.4190 - val_main_output_loss: 0.3951 - val_aux_output_loss: 0.6347\n",
      "Epoch 10/20\n",
      "363/363 [==============================] - 0s 569us/step - loss: 0.4603 - main_output_loss: 0.4395 - aux_output_loss: 0.6474 - val_loss: 0.4104 - val_main_output_loss: 0.3883 - val_aux_output_loss: 0.6094\n",
      "Epoch 11/20\n",
      "363/363 [==============================] - 0s 564us/step - loss: 0.4461 - main_output_loss: 0.4249 - aux_output_loss: 0.6369 - val_loss: 0.4069 - val_main_output_loss: 0.3850 - val_aux_output_loss: 0.6039\n",
      "Epoch 12/20\n",
      "363/363 [==============================] - 0s 563us/step - loss: 0.4257 - main_output_loss: 0.4056 - aux_output_loss: 0.6072 - val_loss: 0.4034 - val_main_output_loss: 0.3824 - val_aux_output_loss: 0.5919\n",
      "Epoch 13/20\n",
      "363/363 [==============================] - 0s 562us/step - loss: 0.4314 - main_output_loss: 0.4122 - aux_output_loss: 0.6045 - val_loss: 0.3941 - val_main_output_loss: 0.3739 - val_aux_output_loss: 0.5763\n",
      "Epoch 14/20\n",
      "363/363 [==============================] - 0s 565us/step - loss: 0.4227 - main_output_loss: 0.4039 - aux_output_loss: 0.5919 - val_loss: 0.3825 - val_main_output_loss: 0.3626 - val_aux_output_loss: 0.5621\n",
      "Epoch 15/20\n",
      "363/363 [==============================] - 0s 568us/step - loss: 0.4211 - main_output_loss: 0.4057 - aux_output_loss: 0.5597 - val_loss: 0.3840 - val_main_output_loss: 0.3653 - val_aux_output_loss: 0.5525\n",
      "Epoch 16/20\n",
      "363/363 [==============================] - 0s 563us/step - loss: 0.3945 - main_output_loss: 0.3766 - aux_output_loss: 0.5557 - val_loss: 0.3935 - val_main_output_loss: 0.3763 - val_aux_output_loss: 0.5487\n",
      "Epoch 17/20\n",
      "363/363 [==============================] - 0s 571us/step - loss: 0.3903 - main_output_loss: 0.3734 - aux_output_loss: 0.5428 - val_loss: 0.3675 - val_main_output_loss: 0.3498 - val_aux_output_loss: 0.5272\n",
      "Epoch 18/20\n",
      "363/363 [==============================] - 0s 563us/step - loss: 0.4093 - main_output_loss: 0.3937 - aux_output_loss: 0.5499 - val_loss: 0.3702 - val_main_output_loss: 0.3537 - val_aux_output_loss: 0.5191\n",
      "Epoch 19/20\n",
      "363/363 [==============================] - 0s 567us/step - loss: 0.4144 - main_output_loss: 0.4000 - aux_output_loss: 0.5437 - val_loss: 0.3548 - val_main_output_loss: 0.3376 - val_aux_output_loss: 0.5093\n",
      "Epoch 20/20\n",
      "363/363 [==============================] - 0s 565us/step - loss: 0.3986 - main_output_loss: 0.3830 - aux_output_loss: 0.5398 - val_loss: 0.3528 - val_main_output_loss: 0.3361 - val_aux_output_loss: 0.5030\n",
      "162/162 [==============================] - 0s 337us/step - loss: 0.3709 - main_output_loss: 0.3548 - aux_output_loss: 0.5157\n"
     ]
    }
   ],
   "source": [
    "model.compile(loss=[\"mse\", \"mse\"], loss_weights=[0.9, 0.1], optimizer=\"sgd\")   # メイン出力の損失に大きな重みを与える。\n",
    "\n",
    "history = model.fit(\n",
    "    [X_train_A, X_train_B],\n",
    "    [y_train, y_train], \n",
    "    epochs=20,\n",
    "    validation_data=([X_valid_A, X_valid_B], [y_valid, y_valid])\n",
    ")\n",
    "\n",
    "total_loss, main_loss, aux_loss = model.evaluate([X_test_A, X_test_B], [y_test, y_test])\n",
    "y_pred_main, y_pred_aux = model.predict((X_new_A, X_new_B))"
   ]
  },
  {
   "cell_type": "markdown",
   "id": "c6b341ca",
   "metadata": {},
   "source": [
    "## サブクラス化APIを使用したダイナミックなモデルの構築\n",
    "- ループを含んだり、形を変更したり、条件分岐したりといったダイナミックな動作を必要とするクラスを作成できる。\n",
    "- モデルのアーキテクチャがメソッド内に隠れてしまうため、Kerasは簡単にモデルを精査できないし、保存、クローン作成もできない。\n",
    "- summary()メソッドを呼び出してもメソッドを呼び出しても、層のリストが得られるだけで、層がどのように接続されているかについての情報は得られない。"
   ]
  },
  {
   "cell_type": "code",
   "execution_count": 10,
   "id": "e765758f",
   "metadata": {},
   "outputs": [],
   "source": [
    "class WideAndDeepModel(keras.Model):\n",
    "    def __init__(self, units=30, activation=\"relu\", **kwargs):\n",
    "        super().__init__(**kwargs)\n",
    "        super().__init__(**kwargs)\n",
    "        self.hidden1 = keras.layers.Dense(units, activation=activation)\n",
    "        self.hidden2 = keras.layers.Dense(units, activation=activation)\n",
    "        self.main_output = keras.layers.Dense(1)\n",
    "        self.aux_output = keras.layers.Dense(1)\n",
    "        \n",
    "    def call(self, inputs):\n",
    "        input_A, input_B = inputs\n",
    "        hidden1 = self.hidden1(input_B)\n",
    "        hidden2 = self.hidden2(hidden1)\n",
    "        concat = keras.layers.concatnate([input_A, hidden2])\n",
    "        main_output = self.main_output(concat)\n",
    "        aux_output = self.aux_output(hidden2)\n",
    "        return main_output, aux_output\n",
    "    \n",
    "# model = WideAndDeepModel()"
   ]
  },
  {
   "cell_type": "code",
   "execution_count": 11,
   "id": "9d71a0d7",
   "metadata": {},
   "outputs": [],
   "source": [
    "# モデルの保存\n",
    "model.save(\"models/my_keras_model.h5\")"
   ]
  },
  {
   "cell_type": "code",
   "execution_count": 12,
   "id": "10f103cb",
   "metadata": {},
   "outputs": [],
   "source": [
    "# モデルをロード\n",
    "model = keras.models.load_model(\"models/my_keras_model.h5\")"
   ]
  },
  {
   "cell_type": "markdown",
   "id": "8140397c",
   "metadata": {},
   "source": [
    "# コールバック\n",
    "- 訓練の開始、終了時、各エポックの開始、終了時、さらにバッチを１つ処理する前後にKerasが呼び出すオブジェクトのリストを指定できるようになっている。\n",
    "- モデルの訓練中、定期的な間隔で（デフォルトでは各エポック終了後）モデルのチェックポイントを保存する。"
   ]
  },
  {
   "cell_type": "code",
   "execution_count": 13,
   "id": "bc1de092",
   "metadata": {},
   "outputs": [
    {
     "name": "stdout",
     "output_type": "stream",
     "text": [
      "Epoch 1/20\n",
      "363/363 [==============================] - 0s 558us/step - loss: 1.7458 - val_loss: 0.5306\n",
      "Epoch 2/20\n",
      "363/363 [==============================] - 0s 405us/step - loss: 1.3604 - val_loss: 0.4311\n",
      "Epoch 3/20\n",
      "363/363 [==============================] - 0s 405us/step - loss: 0.4910 - val_loss: 0.4171\n",
      "Epoch 4/20\n",
      "363/363 [==============================] - 0s 406us/step - loss: 0.4357 - val_loss: 0.3950\n",
      "Epoch 5/20\n",
      "363/363 [==============================] - 0s 409us/step - loss: 0.4125 - val_loss: 0.3864\n",
      "Epoch 6/20\n",
      "363/363 [==============================] - 0s 405us/step - loss: 0.4038 - val_loss: 0.4381\n",
      "Epoch 7/20\n",
      "363/363 [==============================] - 0s 412us/step - loss: 0.4261 - val_loss: 0.3805\n",
      "Epoch 8/20\n",
      "363/363 [==============================] - 0s 434us/step - loss: 0.3977 - val_loss: 0.3743\n",
      "Epoch 9/20\n",
      "363/363 [==============================] - 0s 402us/step - loss: 0.3856 - val_loss: 0.3675\n",
      "Epoch 10/20\n",
      "363/363 [==============================] - 0s 410us/step - loss: 0.3977 - val_loss: 0.3791\n",
      "Epoch 11/20\n",
      "363/363 [==============================] - 0s 410us/step - loss: 0.3946 - val_loss: 0.3597\n",
      "Epoch 12/20\n",
      "363/363 [==============================] - 0s 405us/step - loss: 0.3835 - val_loss: 0.3588\n",
      "Epoch 13/20\n",
      "363/363 [==============================] - 0s 407us/step - loss: 0.3856 - val_loss: 0.3755\n",
      "Epoch 14/20\n",
      "363/363 [==============================] - 0s 408us/step - loss: 0.3818 - val_loss: 0.3591\n",
      "Epoch 15/20\n",
      "363/363 [==============================] - 0s 410us/step - loss: 0.3836 - val_loss: 0.3482\n",
      "Epoch 16/20\n",
      "363/363 [==============================] - 0s 404us/step - loss: 0.3890 - val_loss: 0.3545\n",
      "Epoch 17/20\n",
      "363/363 [==============================] - 0s 411us/step - loss: 0.3586 - val_loss: 0.3517\n",
      "Epoch 18/20\n",
      "363/363 [==============================] - 0s 409us/step - loss: 0.3605 - val_loss: 0.3491\n",
      "Epoch 19/20\n",
      "363/363 [==============================] - 0s 410us/step - loss: 0.3787 - val_loss: 0.3467\n",
      "Epoch 20/20\n",
      "363/363 [==============================] - 0s 402us/step - loss: 0.3644 - val_loss: 0.3442\n"
     ]
    }
   ],
   "source": [
    "# モデル構築\n",
    "model = keras.models.Sequential([\n",
    "    keras.layers.Dense(30, activation=\"relu\", input_shape=X_train.shape[1:]),\n",
    "    keras.layers.Dense(1)\n",
    "])\n",
    "\n",
    "# コンパイル\n",
    "model.compile(loss=\"mean_squared_error\", optimizer=\"sgd\")\n",
    "\n",
    "checkpoint_cb = keras.callbacks.ModelCheckpoint(\"models/my_keras_model_callback.h5\", save_best_only=True)   # 検証セットに対する性能が最高になった時だけモデルを保存する。\n",
    "\n",
    "history = model.fit(\n",
    "    X_train, \n",
    "    y_train,\n",
    "    epochs=20,\n",
    "    validation_data=(X_valid, y_valid),\n",
    "    callbacks=[checkpoint_cb]\n",
    ")"
   ]
  },
  {
   "cell_type": "code",
   "execution_count": 14,
   "id": "82883b58",
   "metadata": {},
   "outputs": [
    {
     "name": "stdout",
     "output_type": "stream",
     "text": [
      "Epoch 1/20\n",
      "363/363 [==============================] - 0s 560us/step - loss: 1.0704 - val_loss: 0.5615\n",
      "Epoch 2/20\n",
      "363/363 [==============================] - 0s 411us/step - loss: 0.6089 - val_loss: 0.4724\n",
      "Epoch 3/20\n",
      "363/363 [==============================] - 0s 409us/step - loss: 0.5338 - val_loss: 0.4511\n",
      "Epoch 4/20\n",
      "363/363 [==============================] - 0s 407us/step - loss: 0.4718 - val_loss: 0.4405\n",
      "Epoch 5/20\n",
      "363/363 [==============================] - 0s 411us/step - loss: 0.4584 - val_loss: 0.4253\n",
      "Epoch 6/20\n",
      "363/363 [==============================] - 0s 410us/step - loss: 0.4500 - val_loss: 0.4218\n",
      "Epoch 7/20\n",
      "363/363 [==============================] - 0s 410us/step - loss: 0.4315 - val_loss: 0.4143\n",
      "Epoch 8/20\n",
      "363/363 [==============================] - 0s 409us/step - loss: 0.4439 - val_loss: 0.4031\n",
      "Epoch 9/20\n",
      "363/363 [==============================] - 0s 405us/step - loss: 0.4368 - val_loss: 0.4057\n",
      "Epoch 10/20\n",
      "363/363 [==============================] - 0s 412us/step - loss: 0.4412 - val_loss: 0.3955\n",
      "Epoch 11/20\n",
      "363/363 [==============================] - 0s 407us/step - loss: 0.4075 - val_loss: 0.3911\n",
      "Epoch 12/20\n",
      "363/363 [==============================] - 0s 406us/step - loss: 0.4219 - val_loss: 0.3858\n",
      "Epoch 13/20\n",
      "363/363 [==============================] - 0s 405us/step - loss: 0.4063 - val_loss: 0.3868\n",
      "Epoch 14/20\n",
      "363/363 [==============================] - 0s 413us/step - loss: 0.4370 - val_loss: 0.3767\n",
      "Epoch 15/20\n",
      "363/363 [==============================] - 0s 409us/step - loss: 0.3947 - val_loss: 0.3741\n",
      "Epoch 16/20\n",
      "363/363 [==============================] - 0s 409us/step - loss: 0.3972 - val_loss: 0.3783\n",
      "Epoch 17/20\n",
      "363/363 [==============================] - 0s 416us/step - loss: 0.4006 - val_loss: 0.3701\n",
      "Epoch 18/20\n",
      "363/363 [==============================] - 0s 406us/step - loss: 0.4014 - val_loss: 0.3647\n",
      "Epoch 19/20\n",
      "363/363 [==============================] - 0s 407us/step - loss: 0.3989 - val_loss: 0.3650\n",
      "Epoch 20/20\n",
      "363/363 [==============================] - 0s 411us/step - loss: 0.3977 - val_loss: 0.3618\n"
     ]
    }
   ],
   "source": [
    "# 早期打ち切り\n",
    "# patience引数で指定されたエポック数だけ検証セットに対する性能が上がらない時に訓練を中止し、オプションで最良のモデルにロールバックする。\n",
    "# 性能が上がらなくなった時に、訓練を早期打ち切りする。（時間とリソースの浪費を防ぐため）\n",
    "\n",
    "# モデル構築\n",
    "model = keras.models.Sequential([\n",
    "    keras.layers.Dense(30, activation=\"relu\", input_shape=X_train.shape[1:]),\n",
    "    keras.layers.Dense(1)\n",
    "])\n",
    "\n",
    "# コンパイル\n",
    "model.compile(loss=\"mean_squared_error\", optimizer=\"sgd\")\n",
    "\n",
    "checkpoint_cb = keras.callbacks.ModelCheckpoint(\"models/my_keras_model_callback.h5\", save_best_only=True)   # 検証セットに対する性能が最高になった時だけモデルを保存する。\n",
    "\n",
    "early_stopping_cb = keras.callbacks.EarlyStopping(patience=10, restore_best_weights=True)\n",
    "\n",
    "history = model.fit(\n",
    "    X_train, \n",
    "    y_train,\n",
    "    epochs=20,\n",
    "    validation_data=(X_valid, y_valid),\n",
    "    callbacks=[checkpoint_cb, early_stopping_cb]\n",
    ")"
   ]
  },
  {
   "cell_type": "code",
   "execution_count": 15,
   "id": "ffca674c",
   "metadata": {},
   "outputs": [],
   "source": [
    "# 過学習を検知するカスタムコールバック関数\n",
    "class PrintValTrainRationCallback(keras.callbacks.Callback):\n",
    "    def on_epoch_end(self, epoch, logs):\n",
    "        print(\"\\nval/train: {:.2f}\".format(logs[\"val_loss\"] / logs[\"loss\"]))"
   ]
  },
  {
   "cell_type": "markdown",
   "id": "b2fbfc85",
   "metadata": {},
   "source": [
    "# TensorBoardで可視化\n",
    "- 訓練中に学習曲線を表示したり、複数の実行で学習曲線を比較したり、計算グラフを可視化したり、訓練の統計情報を解析したり、モデルが生成した画像を表示したり、複雑な多次元データを３じげんに射影したり、自動的にクラスタリングしたり、その他様々なことのために使用できる優れた対話的可視化ツール。\n",
    "- 可視化したいデータをイベントファイルと呼ばれる特別なバイナリファイルに出力するようにプログラムを書き換える必要がある。\n",
    "- TensorBoardサーバーはログディレクトリを監視し、自動的に変換箇所を取り出して可視化データを更新。\n",
    "    - 訓練中の学習曲線を表示できる。"
   ]
  },
  {
   "cell_type": "code",
   "execution_count": 16,
   "id": "77e02dc9",
   "metadata": {},
   "outputs": [
    {
     "name": "stdout",
     "output_type": "stream",
     "text": [
      "Epoch 1/20\n",
      "363/363 [==============================] - 0s 578us/step - loss: 1.1690 - val_loss: 0.5517\n",
      "Epoch 2/20\n",
      "363/363 [==============================] - 0s 412us/step - loss: 0.5632 - val_loss: 0.5280\n",
      "Epoch 3/20\n",
      "363/363 [==============================] - 0s 408us/step - loss: 0.4925 - val_loss: 0.4401\n",
      "Epoch 4/20\n",
      "363/363 [==============================] - 0s 411us/step - loss: 0.4576 - val_loss: 0.4332\n",
      "Epoch 5/20\n",
      "363/363 [==============================] - 0s 408us/step - loss: 0.4707 - val_loss: 0.4218\n",
      "Epoch 6/20\n",
      "363/363 [==============================] - 0s 416us/step - loss: 0.4670 - val_loss: 0.4169\n",
      "Epoch 7/20\n",
      "363/363 [==============================] - 0s 413us/step - loss: 0.4831 - val_loss: 0.4117\n",
      "Epoch 8/20\n",
      "363/363 [==============================] - 0s 409us/step - loss: 0.4607 - val_loss: 0.3994\n",
      "Epoch 9/20\n",
      "363/363 [==============================] - 0s 409us/step - loss: 0.4542 - val_loss: 0.3999\n",
      "Epoch 10/20\n",
      "363/363 [==============================] - 0s 416us/step - loss: 0.4416 - val_loss: 0.3950\n",
      "Epoch 11/20\n",
      "363/363 [==============================] - 0s 408us/step - loss: 0.4216 - val_loss: 0.4112\n",
      "Epoch 12/20\n",
      "363/363 [==============================] - 0s 421us/step - loss: 0.4194 - val_loss: 0.3886\n",
      "Epoch 13/20\n",
      "363/363 [==============================] - 0s 412us/step - loss: 0.4167 - val_loss: 0.3811\n",
      "Epoch 14/20\n",
      "363/363 [==============================] - 0s 411us/step - loss: 0.4095 - val_loss: 0.3782\n",
      "Epoch 15/20\n",
      "363/363 [==============================] - 0s 407us/step - loss: 0.4093 - val_loss: 0.3794\n",
      "Epoch 16/20\n",
      "363/363 [==============================] - 0s 414us/step - loss: 0.4252 - val_loss: 0.3830\n",
      "Epoch 17/20\n",
      "363/363 [==============================] - 0s 417us/step - loss: 0.4068 - val_loss: 0.3685\n",
      "Epoch 18/20\n",
      "363/363 [==============================] - 0s 410us/step - loss: 0.4066 - val_loss: 0.3730\n",
      "Epoch 19/20\n",
      "363/363 [==============================] - 0s 416us/step - loss: 0.3823 - val_loss: 0.3943\n",
      "Epoch 20/20\n",
      "363/363 [==============================] - 0s 418us/step - loss: 0.4044 - val_loss: 0.3627\n"
     ]
    }
   ],
   "source": [
    "import os \n",
    "root_loggir = os.path.join(os.curdir, \"models/my_logs\")\n",
    "\n",
    "def get_run_loggir():\n",
    "    import time\n",
    "    run_id = time.strftime(\"run_%Y_%m_%d-%H_%M_%S\")\n",
    "    return os.path.join(root_loggir, run_id)\n",
    "\n",
    "run_loggir = get_run_loggir()\n",
    "\n",
    "# Keras\n",
    "# モデル構築\n",
    "model = keras.models.Sequential([\n",
    "    keras.layers.Dense(30, activation=\"relu\", input_shape=X_train.shape[1:]),\n",
    "    keras.layers.Dense(1)\n",
    "])\n",
    "\n",
    "# コンパイル\n",
    "model.compile(loss=\"mean_squared_error\", optimizer=\"sgd\")\n",
    "\n",
    "checkpoint_cb = keras.callbacks.ModelCheckpoint(\"models/my_keras_model_callback.h5\", save_best_only=True)   # 検証セットに対する性能が最高になった時だけモデルを保存する。\n",
    "\n",
    "early_stopping_cb = keras.callbacks.EarlyStopping(patience=10, restore_best_weights=True)\n",
    "\n",
    "tensorboard_cb = keras.callbacks.TensorBoard(run_loggir)\n",
    "\n",
    "history = model.fit(\n",
    "    X_train, \n",
    "    y_train,\n",
    "    epochs=20,\n",
    "    validation_data=(X_valid, y_valid),\n",
    "    callbacks=[checkpoint_cb, early_stopping_cb, tensorboard_cb]\n",
    ")"
   ]
  },
  {
   "cell_type": "code",
   "execution_count": 17,
   "id": "2ad42122",
   "metadata": {},
   "outputs": [
    {
     "data": {
      "text/html": [
       "\n",
       "      <iframe id=\"tensorboard-frame-d0e2d4a4b26e3fd9\" width=\"100%\" height=\"800\" frameborder=\"0\">\n",
       "      </iframe>\n",
       "      <script>\n",
       "        (function() {\n",
       "          const frame = document.getElementById(\"tensorboard-frame-d0e2d4a4b26e3fd9\");\n",
       "          const url = new URL(\"/\", window.location);\n",
       "          const port = 6006;\n",
       "          if (port) {\n",
       "            url.port = port;\n",
       "          }\n",
       "          frame.src = url;\n",
       "        })();\n",
       "      </script>\n",
       "    "
      ],
      "text/plain": [
       "<IPython.core.display.HTML object>"
      ]
     },
     "metadata": {},
     "output_type": "display_data"
    }
   ],
   "source": [
    "# !tensorboard --logdir=./my_logs --port=6006\n",
    "%load_ext tensorboard\n",
    "%tensorboard --logdir=./my_logs --port=6006"
   ]
  },
  {
   "cell_type": "code",
   "execution_count": 18,
   "id": "4a564630",
   "metadata": {},
   "outputs": [],
   "source": [
    "# スカラ、ヒストグラム、イメージ、オーディオ、テキストをロギングするためのコンテキスト\n",
    "\n",
    "import numpy as np\n",
    "test_loggir = get_run_loggir()\n",
    "writer = tf.summary.create_file_writer(test_loggir)\n",
    "with writer.as_default():\n",
    "    for step in range(1, 1000 + 1):\n",
    "        tf.summary.scalar(\"my_scalar\", np.sin(step / 10), step=step)\n",
    "        data = (np.random.randn(100) + 2) * step / 100   # 何らかの無作為なデータ\n",
    "        tf.summary.histogram(\"my_hist\", data, buckets=50, step=step)\n",
    "        images = np.random.rand(2, 32, 32, 3)   # 無作為な32x32 RGB画像\n",
    "        tf.summary.image(\"my_images\", images * step / 1000, step=step)\n",
    "        texts = [\"The step is \" + str(step), \"Its square is \" + str(step**2)]\n",
    "        tf.summary.text(\"my_text\", texts, step=step)\n",
    "        sine_wave = tf.math.sin(tf.range(12000) / 48000 * 2 * np.pi * step)\n",
    "        audio = tf.reshape(tf.cast(sine_wave, tf.float32), [1, -1, 1])\n",
    "        tf.summary.audio(\"my_audio\", audio, sample_rate=48000, step=step)"
   ]
  },
  {
   "cell_type": "code",
   "execution_count": 19,
   "id": "669ccb42",
   "metadata": {},
   "outputs": [
    {
     "name": "stdout",
     "output_type": "stream",
     "text": [
      "The tensorboard extension is already loaded. To reload it, use:\n",
      "  %reload_ext tensorboard\n"
     ]
    },
    {
     "data": {
      "text/plain": [
       "Reusing TensorBoard on port 6006 (pid 7842), started 0:00:06 ago. (Use '!kill 7842' to kill it.)"
      ]
     },
     "metadata": {},
     "output_type": "display_data"
    },
    {
     "data": {
      "text/html": [
       "\n",
       "      <iframe id=\"tensorboard-frame-9c2ed59770c920b\" width=\"100%\" height=\"800\" frameborder=\"0\">\n",
       "      </iframe>\n",
       "      <script>\n",
       "        (function() {\n",
       "          const frame = document.getElementById(\"tensorboard-frame-9c2ed59770c920b\");\n",
       "          const url = new URL(\"/\", window.location);\n",
       "          const port = 6006;\n",
       "          if (port) {\n",
       "            url.port = port;\n",
       "          }\n",
       "          frame.src = url;\n",
       "        })();\n",
       "      </script>\n",
       "    "
      ],
      "text/plain": [
       "<IPython.core.display.HTML object>"
      ]
     },
     "metadata": {},
     "output_type": "display_data"
    }
   ],
   "source": [
    "# !tensorboard --logdir=./my_logs --port=6006\n",
    "%load_ext tensorboard\n",
    "%tensorboard --logdir=./my_logs --port=6006"
   ]
  },
  {
   "cell_type": "code",
   "execution_count": null,
   "id": "0f34ce0b",
   "metadata": {},
   "outputs": [],
   "source": []
  }
 ],
 "metadata": {
  "kernelspec": {
   "display_name": "Python 3",
   "language": "python",
   "name": "python3"
  },
  "language_info": {
   "codemirror_mode": {
    "name": "ipython",
    "version": 3
   },
   "file_extension": ".py",
   "mimetype": "text/x-python",
   "name": "python",
   "nbconvert_exporter": "python",
   "pygments_lexer": "ipython3",
   "version": "3.8.8"
  }
 },
 "nbformat": 4,
 "nbformat_minor": 5
}
