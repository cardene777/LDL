{
 "cells": [
  {
   "cell_type": "code",
   "execution_count": 1,
   "id": "dd19c8f0",
   "metadata": {},
   "outputs": [],
   "source": [
    "import tensorflow as tf\n",
    "from tensorflow import keras\n",
    "\n",
    "from sklearn.datasets import fetch_california_housing\n",
    "from sklearn.model_selection import train_test_split\n",
    "from sklearn.preprocessing import StandardScaler"
   ]
  },
  {
   "cell_type": "code",
   "execution_count": 2,
   "id": "ff49eba6",
   "metadata": {},
   "outputs": [],
   "source": [
    "housing = fetch_california_housing()"
   ]
  },
  {
   "cell_type": "code",
   "execution_count": 3,
   "id": "bc0d43fa",
   "metadata": {},
   "outputs": [],
   "source": [
    "X_train_full, X_test, y_train_full, y_test = train_test_split(housing.data, housing.target)\n",
    "X_train, X_valid, y_train, y_valid = train_test_split(X_train_full, y_train_full)\n",
    "\n",
    "scaler = StandardScaler()\n",
    "X_train = scaler.fit_transform(X_train)\n",
    "X_valid = scaler.transform(X_valid)\n",
    "X_test = scaler.transform(X_test)"
   ]
  },
  {
   "cell_type": "code",
   "execution_count": 4,
   "id": "9802ef08",
   "metadata": {},
   "outputs": [
    {
     "name": "stdout",
     "output_type": "stream",
     "text": [
      "Epoch 1/20\n",
      "363/363 [==============================] - 1s 1ms/step - loss: 1.3971 - val_loss: 0.5603\n",
      "Epoch 2/20\n",
      "363/363 [==============================] - 0s 412us/step - loss: 0.6813 - val_loss: 0.5062\n",
      "Epoch 3/20\n",
      "363/363 [==============================] - 0s 411us/step - loss: 0.4739 - val_loss: 0.5105\n",
      "Epoch 4/20\n",
      "363/363 [==============================] - 0s 411us/step - loss: 0.4581 - val_loss: 0.4523\n",
      "Epoch 5/20\n",
      "363/363 [==============================] - 0s 409us/step - loss: 0.4294 - val_loss: 0.4361\n",
      "Epoch 6/20\n",
      "363/363 [==============================] - 0s 423us/step - loss: 0.4121 - val_loss: 0.4267\n",
      "Epoch 7/20\n",
      "363/363 [==============================] - 0s 409us/step - loss: 0.4189 - val_loss: 0.4195\n",
      "Epoch 8/20\n",
      "363/363 [==============================] - 0s 409us/step - loss: 0.4037 - val_loss: 0.4177\n",
      "Epoch 9/20\n",
      "363/363 [==============================] - 0s 408us/step - loss: 0.4119 - val_loss: 0.4087\n",
      "Epoch 10/20\n",
      "363/363 [==============================] - 0s 407us/step - loss: 0.3885 - val_loss: 0.4011\n",
      "Epoch 11/20\n",
      "363/363 [==============================] - 0s 409us/step - loss: 0.3771 - val_loss: 0.4000\n",
      "Epoch 12/20\n",
      "363/363 [==============================] - 0s 408us/step - loss: 0.3775 - val_loss: 0.3961\n",
      "Epoch 13/20\n",
      "363/363 [==============================] - 0s 410us/step - loss: 0.3684 - val_loss: 0.3924\n",
      "Epoch 14/20\n",
      "363/363 [==============================] - 0s 409us/step - loss: 0.3811 - val_loss: 0.3886\n",
      "Epoch 15/20\n",
      "363/363 [==============================] - 0s 409us/step - loss: 0.3701 - val_loss: 0.3838\n",
      "Epoch 16/20\n",
      "363/363 [==============================] - 0s 410us/step - loss: 0.3616 - val_loss: 0.3876\n",
      "Epoch 17/20\n",
      "363/363 [==============================] - 0s 407us/step - loss: 0.3704 - val_loss: 0.3824\n",
      "Epoch 18/20\n",
      "363/363 [==============================] - 0s 411us/step - loss: 0.3592 - val_loss: 0.3826\n",
      "Epoch 19/20\n",
      "363/363 [==============================] - 0s 408us/step - loss: 0.3572 - val_loss: 0.3773\n",
      "Epoch 20/20\n",
      "363/363 [==============================] - 0s 407us/step - loss: 0.3597 - val_loss: 0.3751\n",
      "162/162 [==============================] - 0s 243us/step - loss: 0.3751\n"
     ]
    }
   ],
   "source": [
    "# モデル構築\n",
    "model = keras.models.Sequential([\n",
    "    keras.layers.Dense(30, activation=\"relu\", input_shape=X_train.shape[1:]),\n",
    "    keras.layers.Dense(1)\n",
    "])\n",
    "\n",
    "# コンパイル\n",
    "model.compile(loss=\"mean_squared_error\", optimizer=\"sgd\")\n",
    "\n",
    "history = model.fit(\n",
    "    X_train, \n",
    "    y_train,\n",
    "    epochs=20,\n",
    "    validation_data=(X_valid, y_valid)\n",
    ")\n",
    "\n",
    "mse_test = model.evaluate(X_test, y_test)\n",
    "X_new = X_test[:3]\n",
    "y_pred = model.predict(X_new)"
   ]
  },
  {
   "cell_type": "markdown",
   "id": "31f172bc",
   "metadata": {},
   "source": [
    "# 関数型APIを使ったモデルの構築\n",
    "### 非シーケンシャルニューラルネットワーク\n",
    "\n",
    "- 入力の全てまたは一部を直接出力層に接続する。"
   ]
  },
  {
   "cell_type": "code",
   "execution_count": 5,
   "id": "19be6305",
   "metadata": {},
   "outputs": [],
   "source": [
    "input_ = keras.layers.Input(shape=X_train.shape[1:])   # 入力タイプを指定\n",
    "hidden1 = keras.layers.Dense(30, activation=\"relu\")(input_)\n",
    "hidden2 = keras.layers.Dense(30, activation=\"relu\")(hidden1)\n",
    "concat = keras.layers.Concatenate()([input_, hidden2])\n",
    "output = keras.layers.Dense(1)(concat)\n",
    "model = keras.Model(inputs=[input_], outputs=[output])"
   ]
  },
  {
   "cell_type": "code",
   "execution_count": 6,
   "id": "6e38446b",
   "metadata": {},
   "outputs": [],
   "source": [
    "# 2つのパスを連結\n",
    "input_A = keras.layers.Input(shape=[5], name=\"wide_input\")\n",
    "input_B = keras.layers.Input(shape=[6], name=\"deep_input\")\n",
    "hidden1 = keras.layers.Dense(30, activation=\"relu\")(input_B)\n",
    "hidden2 = keras.layers.Dense(30, activation=\"relu\")(hidden1)\n",
    "concat = keras.layers.Concatenate()([input_A, hidden2])\n",
    "output = keras.layers.Dense(1, name=\"output\")(concat)\n",
    "model = keras.Model(inputs=[input_A, input_B], outputs=[output])"
   ]
  },
  {
   "cell_type": "code",
   "execution_count": 8,
   "id": "b6de2fda",
   "metadata": {},
   "outputs": [
    {
     "name": "stdout",
     "output_type": "stream",
     "text": [
      "Epoch 1/20\n",
      "363/363 [==============================] - 0s 604us/step - loss: 0.9108 - val_loss: 0.7313\n",
      "Epoch 2/20\n",
      "363/363 [==============================] - 0s 491us/step - loss: 0.7053 - val_loss: 0.6575\n",
      "Epoch 3/20\n",
      "363/363 [==============================] - 0s 486us/step - loss: 0.6451 - val_loss: 0.6223\n",
      "Epoch 4/20\n",
      "363/363 [==============================] - 0s 492us/step - loss: 0.6220 - val_loss: 0.6001\n",
      "Epoch 5/20\n",
      "363/363 [==============================] - 0s 551us/step - loss: 0.5921 - val_loss: 0.5828\n",
      "Epoch 6/20\n",
      "363/363 [==============================] - 0s 514us/step - loss: 0.5702 - val_loss: 0.5690\n",
      "Epoch 7/20\n",
      "363/363 [==============================] - 0s 492us/step - loss: 0.5482 - val_loss: 0.5574\n",
      "Epoch 8/20\n",
      "363/363 [==============================] - 0s 492us/step - loss: 0.5254 - val_loss: 0.5477\n",
      "Epoch 9/20\n",
      "363/363 [==============================] - 0s 491us/step - loss: 0.5256 - val_loss: 0.5395\n",
      "Epoch 10/20\n",
      "363/363 [==============================] - 0s 491us/step - loss: 0.5299 - val_loss: 0.5333\n",
      "Epoch 11/20\n",
      "363/363 [==============================] - 0s 491us/step - loss: 0.5047 - val_loss: 0.5261\n",
      "Epoch 12/20\n",
      "363/363 [==============================] - 0s 492us/step - loss: 0.5045 - val_loss: 0.5195\n",
      "Epoch 13/20\n",
      "363/363 [==============================] - 0s 501us/step - loss: 0.4961 - val_loss: 0.5131\n",
      "Epoch 14/20\n",
      "363/363 [==============================] - 0s 490us/step - loss: 0.4973 - val_loss: 0.5064\n",
      "Epoch 15/20\n",
      "363/363 [==============================] - 0s 491us/step - loss: 0.4695 - val_loss: 0.5016\n",
      "Epoch 16/20\n",
      "363/363 [==============================] - 0s 493us/step - loss: 0.4879 - val_loss: 0.4972\n",
      "Epoch 17/20\n",
      "363/363 [==============================] - 0s 492us/step - loss: 0.4684 - val_loss: 0.4914\n",
      "Epoch 18/20\n",
      "363/363 [==============================] - 0s 495us/step - loss: 0.4686 - val_loss: 0.4856\n",
      "Epoch 19/20\n",
      "363/363 [==============================] - 0s 495us/step - loss: 0.4524 - val_loss: 0.4819\n",
      "Epoch 20/20\n",
      "363/363 [==============================] - 0s 495us/step - loss: 0.4520 - val_loss: 0.4772\n",
      "162/162 [==============================] - 0s 270us/step - loss: 0.4504\n"
     ]
    }
   ],
   "source": [
    "model.compile(loss=\"mse\", optimizer=keras.optimizers.SGD(lr=1e-3))\n",
    "X_train_A, X_train_B = X_train[:, :5], X_train[:, 2:]\n",
    "X_valid_A, X_valid_B = X_valid[:, :5], X_valid[:, 2:]\n",
    "X_test_A, X_test_B = X_test[:, :5], X_test[:, 2:]\n",
    "X_new_A, X_new_B = X_test_A[:3], X_test_B[:3]\n",
    "\n",
    "history = model.fit(\n",
    "    (X_train_A, X_train_B),\n",
    "    y_train, \n",
    "    epochs=20,\n",
    "    validation_data=((X_valid_A, X_valid_B), y_valid)\n",
    ")\n",
    "\n",
    "mse_test = model.evaluate((X_test_A, X_test_B), y_test)\n",
    "y_pred = model.predict((X_new_A, X_new_B))"
   ]
  },
  {
   "cell_type": "code",
   "execution_count": 9,
   "id": "ab2bfeab",
   "metadata": {},
   "outputs": [],
   "source": [
    "# 補助出力の追加\n",
    "input_A = keras.layers.Input(shape=[5], name=\"wide_input\")\n",
    "input_B = keras.layers.Input(shape=[6], name=\"deep_input\")\n",
    "hidden1 = keras.layers.Dense(30, activation=\"relu\")(input_B)\n",
    "hidden2 = keras.layers.Dense(30, activation=\"relu\")(hidden1)\n",
    "concat = keras.layers.Concatenate()([input_A, hidden2])\n",
    "output = keras.layers.Dense(1, name=\"main_output\")(concat)\n",
    "aux_output = keras.layers.Dense(1, name=\"aux_output\")(hidden2)\n",
    "model = keras.Model(inputs=[input_A, input_B], outputs=[output, aux_output])"
   ]
  },
  {
   "cell_type": "code",
   "execution_count": 10,
   "id": "5220944a",
   "metadata": {},
   "outputs": [
    {
     "name": "stdout",
     "output_type": "stream",
     "text": [
      "Epoch 1/20\n",
      "363/363 [==============================] - 1s 798us/step - loss: 1.6122 - main_output_loss: 1.4133 - aux_output_loss: 3.4026 - val_loss: 0.5898 - val_main_output_loss: 0.5279 - val_aux_output_loss: 1.1471\n",
      "Epoch 2/20\n",
      "363/363 [==============================] - 0s 564us/step - loss: 0.5584 - main_output_loss: 0.4970 - aux_output_loss: 1.1111 - val_loss: 0.5916 - val_main_output_loss: 0.5473 - val_aux_output_loss: 0.9903\n",
      "Epoch 3/20\n",
      "363/363 [==============================] - 0s 570us/step - loss: 0.5759 - main_output_loss: 0.5312 - aux_output_loss: 0.9782 - val_loss: 0.4974 - val_main_output_loss: 0.4589 - val_aux_output_loss: 0.8442\n",
      "Epoch 4/20\n",
      "363/363 [==============================] - 0s 632us/step - loss: 0.4735 - main_output_loss: 0.4346 - aux_output_loss: 0.8234 - val_loss: 0.4740 - val_main_output_loss: 0.4439 - val_aux_output_loss: 0.7456\n",
      "Epoch 5/20\n",
      "363/363 [==============================] - 0s 577us/step - loss: 0.4567 - main_output_loss: 0.4229 - aux_output_loss: 0.7615 - val_loss: 0.4605 - val_main_output_loss: 0.4359 - val_aux_output_loss: 0.6824\n",
      "Epoch 6/20\n",
      "363/363 [==============================] - 0s 563us/step - loss: 0.4346 - main_output_loss: 0.4066 - aux_output_loss: 0.6872 - val_loss: 0.4490 - val_main_output_loss: 0.4279 - val_aux_output_loss: 0.6392\n",
      "Epoch 7/20\n",
      "363/363 [==============================] - 0s 561us/step - loss: 0.4254 - main_output_loss: 0.4007 - aux_output_loss: 0.6470 - val_loss: 0.4474 - val_main_output_loss: 0.4288 - val_aux_output_loss: 0.6148\n",
      "Epoch 8/20\n",
      "363/363 [==============================] - 0s 563us/step - loss: 0.4276 - main_output_loss: 0.4044 - aux_output_loss: 0.6365 - val_loss: 0.4333 - val_main_output_loss: 0.4160 - val_aux_output_loss: 0.5892\n",
      "Epoch 9/20\n",
      "363/363 [==============================] - 0s 563us/step - loss: 0.4069 - main_output_loss: 0.3856 - aux_output_loss: 0.5987 - val_loss: 0.4278 - val_main_output_loss: 0.4114 - val_aux_output_loss: 0.5758\n",
      "Epoch 10/20\n",
      "363/363 [==============================] - 0s 564us/step - loss: 0.4065 - main_output_loss: 0.3854 - aux_output_loss: 0.5963 - val_loss: 0.4253 - val_main_output_loss: 0.4097 - val_aux_output_loss: 0.5654\n",
      "Epoch 11/20\n",
      "363/363 [==============================] - 0s 564us/step - loss: 0.3915 - main_output_loss: 0.3721 - aux_output_loss: 0.5661 - val_loss: 0.4165 - val_main_output_loss: 0.4013 - val_aux_output_loss: 0.5528\n",
      "Epoch 12/20\n",
      "363/363 [==============================] - 0s 564us/step - loss: 0.3868 - main_output_loss: 0.3670 - aux_output_loss: 0.5651 - val_loss: 0.4104 - val_main_output_loss: 0.3953 - val_aux_output_loss: 0.5459\n",
      "Epoch 13/20\n",
      "363/363 [==============================] - 0s 564us/step - loss: 0.3823 - main_output_loss: 0.3625 - aux_output_loss: 0.5605 - val_loss: 0.4106 - val_main_output_loss: 0.3959 - val_aux_output_loss: 0.5435\n",
      "Epoch 14/20\n",
      "363/363 [==============================] - 0s 563us/step - loss: 0.3825 - main_output_loss: 0.3644 - aux_output_loss: 0.5453 - val_loss: 0.4032 - val_main_output_loss: 0.3892 - val_aux_output_loss: 0.5296\n",
      "Epoch 15/20\n",
      "363/363 [==============================] - 0s 564us/step - loss: 0.3750 - main_output_loss: 0.3570 - aux_output_loss: 0.5370 - val_loss: 0.3991 - val_main_output_loss: 0.3853 - val_aux_output_loss: 0.5229\n",
      "Epoch 16/20\n",
      "363/363 [==============================] - 0s 565us/step - loss: 0.3749 - main_output_loss: 0.3580 - aux_output_loss: 0.5268 - val_loss: 0.3953 - val_main_output_loss: 0.3816 - val_aux_output_loss: 0.5183\n",
      "Epoch 17/20\n",
      "363/363 [==============================] - 0s 564us/step - loss: 0.3779 - main_output_loss: 0.3602 - aux_output_loss: 0.5372 - val_loss: 0.3979 - val_main_output_loss: 0.3850 - val_aux_output_loss: 0.5136\n",
      "Epoch 18/20\n",
      "363/363 [==============================] - 0s 565us/step - loss: 0.3771 - main_output_loss: 0.3597 - aux_output_loss: 0.5343 - val_loss: 0.3893 - val_main_output_loss: 0.3761 - val_aux_output_loss: 0.5087\n",
      "Epoch 19/20\n",
      "363/363 [==============================] - 0s 561us/step - loss: 0.3752 - main_output_loss: 0.3573 - aux_output_loss: 0.5361 - val_loss: 0.3953 - val_main_output_loss: 0.3827 - val_aux_output_loss: 0.5090\n",
      "Epoch 20/20\n",
      "363/363 [==============================] - 0s 562us/step - loss: 0.3776 - main_output_loss: 0.3602 - aux_output_loss: 0.5338 - val_loss: 0.3851 - val_main_output_loss: 0.3727 - val_aux_output_loss: 0.4967\n",
      "162/162 [==============================] - 0s 340us/step - loss: 0.3685 - main_output_loss: 0.3518 - aux_output_loss: 0.5190\n"
     ]
    }
   ],
   "source": [
    "model.compile(loss=[\"mse\", \"mse\"], loss_weights=[0.9, 0.1], optimizer=\"sgd\")   # メイン出力の損失に大きな重みを与える。\n",
    "\n",
    "history = model.fit(\n",
    "    [X_train_A, X_train_B],\n",
    "    [y_train, y_train], \n",
    "    epochs=20,\n",
    "    validation_data=([X_valid_A, X_valid_B], [y_valid, y_valid])\n",
    ")\n",
    "\n",
    "total_loss, main_loss, aux_loss = model.evaluate([X_test_A, X_test_B], [y_test, y_test])\n",
    "y_pred_main, y_pred_aux = model.predict((X_new_A, X_new_B))"
   ]
  },
  {
   "cell_type": "markdown",
   "id": "b55d3e88",
   "metadata": {},
   "source": [
    "## サブクラス化APIを使用したダイナミックなモデルの構築\n",
    "- ループを含んだり、形を変更したり、条件分岐したりといったダイナミックな動作を必要とするクラスを作成できる。"
   ]
  },
  {
   "cell_type": "code",
   "execution_count": null,
   "id": "c5c5734a",
   "metadata": {},
   "outputs": [],
   "source": [
    "class WideAndDeepModel"
   ]
  }
 ],
 "metadata": {
  "kernelspec": {
   "display_name": "Python 3",
   "language": "python",
   "name": "python3"
  },
  "language_info": {
   "codemirror_mode": {
    "name": "ipython",
    "version": 3
   },
   "file_extension": ".py",
   "mimetype": "text/x-python",
   "name": "python",
   "nbconvert_exporter": "python",
   "pygments_lexer": "ipython3",
   "version": "3.8.8"
  }
 },
 "nbformat": 4,
 "nbformat_minor": 5
}
