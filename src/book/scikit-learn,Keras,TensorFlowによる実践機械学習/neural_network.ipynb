{
 "cells": [
  {
   "cell_type": "code",
   "execution_count": 1,
   "id": "1e7ca94a",
   "metadata": {},
   "outputs": [
    {
     "name": "stdout",
     "output_type": "stream",
     "text": [
      "2.4.0\n"
     ]
    }
   ],
   "source": [
    "import tensorflow as tf\n",
    "from tensorflow import keras\n",
    "\n",
    "print(tf.__version__)"
   ]
  },
  {
   "cell_type": "markdown",
   "id": "188d188f",
   "metadata": {},
   "source": [
    "## バッチ正規化\n",
    "\n",
    "```python\n",
    "model = keras.models.Sequential([\n",
    "    keras.layers.Flatten(input_shape=[28, 28]),\n",
    "    keras.layers.BatchNormalization(),\n",
    "    keras.layers.Dense(300, activation=\"elu\", kernel_initializer=\"he_normal\"),\n",
    "    keras.layers.BatchNormalization(),\n",
    "    keras.layers.Dense(100, activation=\"elu\", kernel_initializer=\"he_normal\"),\n",
    "    keras.layers.BatchNormalization(),\n",
    "    keras.layers.Dense(10, activation=\"softmax\")\n",
    "])\n",
    "```"
   ]
  },
  {
   "cell_type": "code",
   "execution_count": 2,
   "id": "7bd08d3b",
   "metadata": {},
   "outputs": [],
   "source": [
    "model = keras.models.Sequential([\n",
    "    keras.layers.Flatten(input_shape=[28, 28]),\n",
    "    keras.layers.BatchNormalization(),\n",
    "    keras.layers.Dense(300, activation=\"elu\", kernel_initializer=\"he_normal\"),\n",
    "    keras.layers.BatchNormalization(),\n",
    "    keras.layers.Dense(100, activation=\"elu\", kernel_initializer=\"he_normal\"),\n",
    "    keras.layers.BatchNormalization(),\n",
    "    keras.layers.Dense(10, activation=\"softmax\")\n",
    "])"
   ]
  },
  {
   "cell_type": "code",
   "execution_count": 3,
   "id": "2839ee72",
   "metadata": {},
   "outputs": [
    {
     "name": "stdout",
     "output_type": "stream",
     "text": [
      "Model: \"sequential\"\n",
      "_________________________________________________________________\n",
      "Layer (type)                 Output Shape              Param #   \n",
      "=================================================================\n",
      "flatten (Flatten)            (None, 784)               0         \n",
      "_________________________________________________________________\n",
      "batch_normalization (BatchNo (None, 784)               3136      \n",
      "_________________________________________________________________\n",
      "dense (Dense)                (None, 300)               235500    \n",
      "_________________________________________________________________\n",
      "batch_normalization_1 (Batch (None, 300)               1200      \n",
      "_________________________________________________________________\n",
      "dense_1 (Dense)              (None, 100)               30100     \n",
      "_________________________________________________________________\n",
      "batch_normalization_2 (Batch (None, 100)               400       \n",
      "_________________________________________________________________\n",
      "dense_2 (Dense)              (None, 10)                1010      \n",
      "=================================================================\n",
      "Total params: 271,346\n",
      "Trainable params: 268,978\n",
      "Non-trainable params: 2,368\n",
      "_________________________________________________________________\n"
     ]
    }
   ],
   "source": [
    "model.summary()"
   ]
  },
  {
   "cell_type": "code",
   "execution_count": 4,
   "id": "7f438ba5",
   "metadata": {},
   "outputs": [
    {
     "data": {
      "text/plain": [
       "[('batch_normalization/gamma:0', True),\n",
       " ('batch_normalization/beta:0', True),\n",
       " ('batch_normalization/moving_mean:0', False),\n",
       " ('batch_normalization/moving_variance:0', False)]"
      ]
     },
     "execution_count": 4,
     "metadata": {},
     "output_type": "execute_result"
    }
   ],
   "source": [
    "# 訓練可能か確認\n",
    "[(var.name, var.trainable) for var in model.layers[1].variables]"
   ]
  },
  {
   "cell_type": "code",
   "execution_count": 5,
   "id": "9056a6a8",
   "metadata": {},
   "outputs": [
    {
     "name": "stderr",
     "output_type": "stream",
     "text": [
      "/opt/anaconda3/envs/local/lib/python3.8/site-packages/tensorflow/python/keras/engine/base_layer.py:1402: UserWarning: `layer.updates` will be removed in a future version. This property should not be used in TensorFlow 2.0, as `updates` are applied automatically.\n",
      "  warnings.warn('`layer.updates` will be removed in a future version. '\n"
     ]
    },
    {
     "data": {
      "text/plain": [
       "[]"
      ]
     },
     "execution_count": 5,
     "metadata": {},
     "output_type": "execute_result"
    }
   ],
   "source": [
    "model.layers[1].updates"
   ]
  },
  {
   "cell_type": "code",
   "execution_count": 7,
   "id": "eb68fefe",
   "metadata": {},
   "outputs": [],
   "source": [
    "model = keras.models.Sequential([\n",
    "    keras.layers.Flatten(input_shape=[28, 28]),\n",
    "    keras.layers.BatchNormalization(),\n",
    "    keras.layers.Dense(300, activation=\"elu\", kernel_initializer=\"he_normal\", use_bias=False),\n",
    "    keras.layers.BatchNormalization(),\n",
    "    keras.layers.Dense(100, activation=\"elu\", kernel_initializer=\"he_normal\", use_bias=False),\n",
    "    keras.layers.Activation(\"elu\"),\n",
    "    keras.layers.BatchNormalization(),\n",
    "    keras.layers.Activation(\"elu\"),\n",
    "    keras.layers.Dense(10, activation=\"softmax\")\n",
    "])"
   ]
  },
  {
   "cell_type": "markdown",
   "id": "65022afd",
   "metadata": {},
   "source": [
    "# 転移学習\n",
    "\n",
    "```python\n",
    "model_A = keras.models.load_model(\"my_model_A.h5\")   # モデルをロード\n",
    "model_B_on_A = keras.models.Sequential(model_A.layers[:-1])\n",
    "model_B_on_A.add(keras.layers.Dense(1, activation=\"sigmoid\"))\n",
    "\n",
    "# model_Aとmodel_B_on_Aが同じ層を共有することを避ける。\n",
    "model_A_clone = keras.models.clone_model(model_A)\n",
    "model_A_clone.set_weights(model_A.get_weights())\n",
    "\n",
    "# 新しい出力層は無作為に初期化されているため、大きな誤差を生んでしまう。\n",
    "# この誤差により大きな誤差勾配が生まれ、再利用した重みが壊れてしまう。\n",
    "# 対策として、最初の数エポックのうちは再利用した層を凍結し、新しい層に妥当な重みを学習するための時間を与える。\n",
    "# 層を凍結したり、凍結解除した時には、必ずモデルをコンパイルしなければいけない。\n",
    "for layer in model_B_on_A.layers[:-1]:\n",
    "    layer.trainable = False\n",
    "\n",
    "model_B_on_A.compile(loss=\"binary_crossentropy\", optimizer=\"sgd\", metrics=[\"accuracy\"])\n",
    "\n",
    "# モデルを数エポック訓練しれから、再利用の層の凍結を解除して訓練を続け、再利用の層をタスクBに合わせて微調整する。\n",
    "# 再利用の像の凍結を解除した後は、それらの層の重みを壊さないように学習率を下げる。\n",
    "history = model_B_on_A.fit(X_train_B, y_train_B, epochs=4, validation_data=(X_valid_B,y_valid_B))\n",
    "\n",
    "for layer in model_B_on_A.layers[:-1]:\n",
    "    layer.trainable = True\n",
    "    \n",
    "optimizer = keras.optimizer.SGD(lr=1e-4)\n",
    "model_B_on_A.compile(loss=\"binary_crossentropy\", optimizer=optimizer, metrics=[\"accuracy\"])\n",
    "\n",
    "history = model_B_on_A.fit(X_train_B, y_train_B, epochs=16, validation_data=(X_valid_B,y_valid_B))\n",
    "```"
   ]
  },
  {
   "cell_type": "markdown",
   "id": "94136334",
   "metadata": {},
   "source": [
    "# 正則化\n",
    "\n",
    "\n",
    "\n",
    "```python\n",
    "layer = keras.layers.Dense(100, activation=\"elu\",\n",
    "                           kernel_initalizer=\"he_normal\",\n",
    "                           kernel_regularizer=keras.regularizers.l2(0.01)\n",
    "                          )\n",
    "```\n",
    "\n",
    "- 何度も同じことを書くのではなく、最初に定義してしまう。\n",
    "\n",
    "```python\n",
    "from functools import partial\n",
    "\n",
    "RegulatrizerDense = partial(keras.layers.Dense,\n",
    "                            activation=\"elu\",\n",
    "                            kernel_initalizer=\"he_normal\",\n",
    "                           kernel_regularizer=keras.regularizers.l2(0.01)\n",
    "                          )\n",
    "\n",
    "model = keras.layers.Sequential([\n",
    "    keras.layers.Flatten(input_shape=[28, 28]),\n",
    "    RegulatrizerDense(300),\n",
    "    RegulatrizerDense(100)\n",
    "    RegulatrizerDense(10, activation=\"softmax\",\n",
    "                      kernel_initalizer=\"glorot_uniform\"\n",
    "                     )\n",
    "])\n",
    "```"
   ]
  },
  {
   "cell_type": "markdown",
   "id": "d6b95308",
   "metadata": {},
   "source": [
    "# ドロップアウト\n",
    "\n",
    "- p=50%にすると、テスト中のニューロンは、訓練中の平均にして２倍の入力ニューロンが接続される。\n",
    "    - 訓練後は、ここの入力ニューロンの接続重みを0.5倍しなければいけない。\n",
    "    - これを忘れると、各ニューロンは全体として訓練中の２倍の入力信号を受けることになり、うなく機能しなくなる。\n",
    "- モデルが過学習しているなら数値を上げ、訓練セットに過少適合しているなら数値を下げる。"
   ]
  },
  {
   "cell_type": "markdown",
   "id": "4fb02449",
   "metadata": {},
   "source": [
    "# ガイドライン\n",
    "\n",
    "| ハイパーパラメータ | デフォルト値 |\n",
    "| :--- | :--- |\n",
    "| 初期値 | Heの初期値 |\n",
    "| 活性化関数 | ELU |\n",
    "| 正規化 | 浅い場合はなし、深い場合はバッチ正規化 |\n",
    "| 正則化 | 早期打ち切り（さらに必要ならL2正則化） |\n",
    "| オプティマイザ | もーメンタム最適化 |\n",
    "| 学収率スケジューリング | １サイクル |"
   ]
  },
  {
   "cell_type": "code",
   "execution_count": null,
   "id": "d04c7d04",
   "metadata": {},
   "outputs": [],
   "source": []
  }
 ],
 "metadata": {
  "kernelspec": {
   "display_name": "Python 3",
   "language": "python",
   "name": "python3"
  },
  "language_info": {
   "codemirror_mode": {
    "name": "ipython",
    "version": 3
   },
   "file_extension": ".py",
   "mimetype": "text/x-python",
   "name": "python",
   "nbconvert_exporter": "python",
   "pygments_lexer": "ipython3",
   "version": "3.8.8"
  }
 },
 "nbformat": 4,
 "nbformat_minor": 5
}
