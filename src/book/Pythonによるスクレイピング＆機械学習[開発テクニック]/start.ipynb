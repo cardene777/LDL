{
 "cells": [
  {
   "cell_type": "code",
   "execution_count": 1,
   "id": "981cc3b9",
   "metadata": {},
   "outputs": [
    {
     "name": "stdout",
     "output_type": "stream",
     "text": [
      "保存しました\n"
     ]
    }
   ],
   "source": [
    "# ライブラリの取り込み --- (※1)\n",
    "import urllib.request\n",
    "\n",
    "# URLと保存パスを指定\n",
    "url = \"https://uta.pw/shodou/img/28/214.png\"\n",
    "savename = \"images/test.png\"\n",
    "\n",
    "# ダウンロード --- (※2)\n",
    "urllib.request.urlretrieve(url, savename)\n",
    "print(\"保存しました\")"
   ]
  },
  {
   "cell_type": "markdown",
   "id": "6ba676f4",
   "metadata": {},
   "source": [
    "## データを取得できたら、それをファイルに保存する"
   ]
  },
  {
   "cell_type": "code",
   "execution_count": 2,
   "id": "9dc8c329",
   "metadata": {},
   "outputs": [
    {
     "name": "stdout",
     "output_type": "stream",
     "text": [
      "保存しました\n"
     ]
    }
   ],
   "source": [
    "import urllib.request \n",
    "\n",
    "# URLと保存パスを指定\n",
    "url = \"https://uta.pw/shodou/img/28/214.png\"\n",
    "savename = \"test.png\"\n",
    "\n",
    "# ダウンロード --- (※1)\n",
    "mem = urllib.request.urlopen(url).read()\n",
    "\n",
    "# ファイルへ保存 --- (※2)\n",
    "with open(savename, mode=\"wb\") as f:\n",
    "    f.write(mem)\n",
    "    print(\"保存しました\")"
   ]
  },
  {
   "cell_type": "markdown",
   "id": "aedb969a",
   "metadata": {},
   "source": [
    "## 接続クライアントの情報を表示"
   ]
  },
  {
   "cell_type": "code",
   "execution_count": 3,
   "id": "a7aa638b",
   "metadata": {},
   "outputs": [
    {
     "name": "stdout",
     "output_type": "stream",
     "text": [
      "[ip]\n",
      "API_URI=http://api.aoikujira.com/ip/get.php\n",
      "REMOTE_ADDR=122.220.235.86\n",
      "REMOTE_HOST=122x220x235x86.ap122.ftth.ucom.ne.jp\n",
      "REMOTE_PORT=47788\n",
      "HTTP_HOST=api.aoikujira.com\n",
      "HTTP_USER_AGENT=Python-urllib/3.8\n",
      "HTTP_ACCEPT_LANGUAGE=\n",
      "HTTP_ACCEPT_CHARSET=\n",
      "SERVER_PORT=443\n",
      "FORMAT=ini\n",
      "\n",
      "\n"
     ]
    }
   ],
   "source": [
    "# IP確認APIへアクセスして結果を表示する\n",
    "\n",
    "# モジュールを取り込む --- (※1)\n",
    "import urllib.request\n",
    "\n",
    "# データを取得する --- (※2)\n",
    "url = \"https://api.aoikujira.com/ip/ini\"\n",
    "res = urllib.request.urlopen(url)\n",
    "data = res.read()\n",
    "\n",
    "# バイナリを文字列に変換 --- (※3)\n",
    "text = data.decode(\"utf-8\")\n",
    "print(text)"
   ]
  },
  {
   "cell_type": "markdown",
   "id": "64afbe8a",
   "metadata": {},
   "source": [
    "## 郵便番号から住所を取得"
   ]
  },
  {
   "cell_type": "code",
   "execution_count": 4,
   "id": "a00dc5f8",
   "metadata": {},
   "outputs": [
    {
     "name": "stdout",
     "output_type": "stream",
     "text": [
      "url= https://api.aoikujira.com/zip/xml/get.php?fmt=xml&zn=1500042\n",
      "<?xml version=\"1.0\" encoding=\"utf-8\" ?>\n",
      "<address result=\"1\">\n",
      "<header>\n",
      "  <result>1</result>\n",
      "  <api>api.aoikujira.com/zip</api>\n",
      "  <version>1.1</version>\n",
      "</header>\n",
      "<value>\n",
      "  <zip>1500042</zip>\n",
      "  <ken>東京都</ken>\n",
      "  <shi>渋谷区</shi>\n",
      "  <cho>宇田川町</cho>\n",
      "  <disp>東京都渋谷区宇田川町</disp>\n",
      "  <kenkana>トウキョウト</kenkana>\n",
      "  <shikana>シブヤク</shikana>\n",
      "  <chokana>ウダガワチョウ</chokana>\n",
      "</value>\n",
      "</address>\n"
     ]
    }
   ],
   "source": [
    "import urllib.request\n",
    "import urllib.parse\n",
    "\n",
    "API = \"https://api.aoikujira.com/zip/xml/get.php\"\n",
    "\n",
    "# パラメータをURLエンコードする --- (※1)\n",
    "values = {\n",
    "    'fmt': 'xml',   # データのフォーマットをjsonからxmlで指定\n",
    "    'zn': '1500042'   # 住所を知りたい郵便番号を指定\n",
    "}\n",
    "params = urllib.parse.urlencode(values)\n",
    "\n",
    "# リクエスト用のURLを生成 --- (※2)\n",
    "url = API + \"?\" + params\n",
    "print(\"url=\", url)\n",
    "\n",
    "# ダウンロード --- (※3)\n",
    "data = urllib.request.urlopen(url).read()\n",
    "text = data.decode(\"utf-8\")\n",
    "print(text)"
   ]
  },
  {
   "cell_type": "markdown",
   "id": "da6a6a99",
   "metadata": {},
   "source": [
    "## 百人一首を検索するコマンド"
   ]
  },
  {
   "cell_type": "code",
   "execution_count": 5,
   "id": "7c031195",
   "metadata": {},
   "outputs": [
    {
     "name": "stdout",
     "output_type": "stream",
     "text": [
      "url= https://api.aoikujira.com/hyakunin/get.php?fmt=ini&key=%E7%A7%8B%E3%81%AE%E7%94%B0\n",
      "[item1]\n",
      "kami=秋の田の かりほの庵の 苫をあらみ\n",
      "simo=我が衣手は 露にぬれつつ\n",
      "kami_kana=あきのたのかりほのいほのとまをあらみ\n",
      "simo_kana=わかころもてはつゆにぬれつつ\n",
      "sakusya=天智天皇\n",
      "\n",
      "\n"
     ]
    }
   ],
   "source": [
    "# ライブラリの取り込み --- (※1)\n",
    "import sys\n",
    "import urllib.request as req\n",
    "import urllib.parse as parse\n",
    "\n",
    "# コマンドライン引数を得る --- (※2)\n",
    "# if len(sys.argv) <= 1:\n",
    "#     print(\"USAGE: hyakunin.ipynb (keyword)\")\n",
    "#     sys.exit()\n",
    "keyword = \"秋の田\"\n",
    "\n",
    "# パラメータをURLエンコードする --- (※3)\n",
    "API = \"https://api.aoikujira.com/hyakunin/get.php\"\n",
    "query = {\n",
    "    \"fmt\": \"ini\",   # 検索結果の形式をini | xml | jsonで指定\n",
    "    \"key\": keyword   # 検索キーワードを指定\n",
    "}\n",
    "params = parse.urlencode(query)\n",
    "url = API + \"?\" + params\n",
    "print(\"url=\", url)\n",
    "\n",
    "# ダウンロード --- (※4)\n",
    "with req.urlopen(url) as r:\n",
    "    b = r.read()\n",
    "    data = b.decode('utf-8')\n",
    "    print(data)"
   ]
  },
  {
   "cell_type": "code",
   "execution_count": null,
   "id": "6ec4627e",
   "metadata": {},
   "outputs": [],
   "source": []
  },
  {
   "cell_type": "code",
   "execution_count": null,
   "id": "4b686018",
   "metadata": {},
   "outputs": [],
   "source": []
  }
 ],
 "metadata": {
  "kernelspec": {
   "display_name": "Python 3",
   "language": "python",
   "name": "python3"
  },
  "language_info": {
   "codemirror_mode": {
    "name": "ipython",
    "version": 3
   },
   "file_extension": ".py",
   "mimetype": "text/x-python",
   "name": "python",
   "nbconvert_exporter": "python",
   "pygments_lexer": "ipython3",
   "version": "3.8.8"
  }
 },
 "nbformat": 4,
 "nbformat_minor": 5
}
