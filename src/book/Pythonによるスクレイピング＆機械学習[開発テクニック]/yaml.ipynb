{
 "cells": [
  {
   "cell_type": "markdown",
   "id": "9e1e07a5",
   "metadata": {},
   "source": [
    "# YAML\n",
    "\n",
    "- インデントを利用して階層構造を表現するという特徴を持ったデータ形式。\n",
    "\n",
    "```python\n",
    "yaml.load(str)   # 文字列 str(YAML)を解析\n",
    "yaml.dump(v)   # PythonデータvをYAML形式で出力\n",
    "```"
   ]
  },
  {
   "cell_type": "code",
   "execution_count": 1,
   "id": "b78c09c9",
   "metadata": {},
   "outputs": [
    {
     "name": "stdout",
     "output_type": "stream",
     "text": [
      "Banana 800\n",
      "Orange 1400\n",
      "Apple 2400\n"
     ]
    },
    {
     "name": "stderr",
     "output_type": "stream",
     "text": [
      "<ipython-input-1-b4acfc3007be>:25: YAMLLoadWarning: calling yaml.load() without Loader=... is deprecated, as the default Loader is unsafe. Please read https://msg.pyyaml.org/load for full details.\n",
      "  data = yaml.load(yaml_str)\n"
     ]
    }
   ],
   "source": [
    "import yaml\n",
    "\n",
    "# YAMLの定義 ---- (※1)\n",
    "yaml_str = \"\"\"\n",
    "Date: 2017-03-10\n",
    "PriceList:\n",
    "    -\n",
    "        item_id: 1000\n",
    "        name: Banana\n",
    "        color: yellow\n",
    "        price: 800\n",
    "    -\n",
    "        item_id: 1001\n",
    "        name: Orange\n",
    "        color: orange\n",
    "        price: 1400\n",
    "    -\n",
    "        item_id: 1002\n",
    "        name: Apple\n",
    "        color: red\n",
    "        price: 2400\n",
    "\"\"\"\n",
    "\n",
    "# YAMLを解析する --- (※2)\n",
    "data = yaml.load(yaml_str)\n",
    "\n",
    "# 名前と値段だけ表示する --- (※3)\n",
    "for item in data['PriceList']:\n",
    "    print(item[\"name\"], item[\"price\"])"
   ]
  },
  {
   "cell_type": "markdown",
   "id": "c13ff378",
   "metadata": {},
   "source": [
    "## YAMLの読み書き"
   ]
  },
  {
   "cell_type": "code",
   "execution_count": 2,
   "id": "53175329",
   "metadata": {},
   "outputs": [
    {
     "name": "stdout",
     "output_type": "stream",
     "text": [
      "- age: '35'\n",
      "  gender: man\n",
      "  name: Yamada\n",
      "- age: '58'\n",
      "  gender: woman\n",
      "  name: Sato\n",
      "- age: '42'\n",
      "  gender: man\n",
      "  name: Kato\n",
      "- age: '22'\n",
      "  gender: man\n",
      "  name: Nishi\n",
      "\n",
      "--- --- ---\n",
      "Yamada\n",
      "Sato\n",
      "Kato\n",
      "Nishi\n"
     ]
    },
    {
     "name": "stderr",
     "output_type": "stream",
     "text": [
      "<ipython-input-2-8baaf88307ef>:17: YAMLLoadWarning: calling yaml.load() without Loader=... is deprecated, as the default Loader is unsafe. Please read https://msg.pyyaml.org/load for full details.\n",
      "  data = yaml.load(yaml_str)\n"
     ]
    }
   ],
   "source": [
    "import yaml\n",
    "\n",
    "# PythoのデータをYAMLで出力\n",
    "customer = [\n",
    "    { \"name\": \"Yamada\", \"age\": \"35\", \"gender\": \"man\"  },\n",
    "    { \"name\": \"Sato\",   \"age\": \"58\", \"gender\": \"woman\" },\n",
    "    { \"name\": \"Kato\",   \"age\": \"42\", \"gender\": \"man\" },\n",
    "    { \"name\": \"Nishi\",  \"age\": \"22\", \"gender\": \"man\" }\n",
    "]\n",
    "\n",
    "# PythonのデータをYAMLに変換\n",
    "yaml_str = yaml.dump(customer)\n",
    "print(yaml_str)\n",
    "print(\"--- --- ---\")\n",
    "\n",
    "# YAMLをPythonデータに変換\n",
    "data = yaml.load(yaml_str)\n",
    "\n",
    "# 顧客名だけを表示\n",
    "for p in data:\n",
    "    print(p[\"name\"])"
   ]
  },
  {
   "cell_type": "markdown",
   "id": "c0726e7b",
   "metadata": {},
   "source": [
    "## エイリアス"
   ]
  },
  {
   "cell_type": "code",
   "execution_count": 3,
   "id": "ddadf3ab",
   "metadata": {},
   "outputs": [
    {
     "name": "stdout",
     "output_type": "stream",
     "text": [
      "title= #FF0000\n",
      "body= #00FF00\n",
      "link= #0000FF\n"
     ]
    },
    {
     "name": "stderr",
     "output_type": "stream",
     "text": [
      "<ipython-input-3-dba59030342b>:18: YAMLLoadWarning: calling yaml.load() without Loader=... is deprecated, as the default Loader is unsafe. Please read https://msg.pyyaml.org/load for full details.\n",
      "  data = yaml.load(yaml_str)\n"
     ]
    }
   ],
   "source": [
    "import yaml\n",
    "\n",
    "# 文字列でYAMLを定義\n",
    "yaml_str = \"\"\"\n",
    "# 定義\n",
    "color_def:\n",
    "  - &color1 \"#FF0000\"\n",
    "  - &color2 \"#00FF00\"\n",
    "  - &color3 \"#0000FF\"\n",
    "# エイリアスのテスト\n",
    "color:\n",
    "  title: *color1\n",
    "  body: *color2\n",
    "  link: *color3\n",
    "\"\"\"\n",
    "\n",
    "# YAMLを解析\n",
    "data = yaml.load(yaml_str)\n",
    "\n",
    "# エイリアスが展開されているかテスト\n",
    "print(\"title=\", data[\"color\"][\"title\"])\n",
    "print(\"body=\", data[\"color\"][\"body\"])\n",
    "print(\"link=\", data[\"color\"][\"link\"])"
   ]
  },
  {
   "cell_type": "code",
   "execution_count": null,
   "id": "6b11ab78",
   "metadata": {},
   "outputs": [],
   "source": []
  }
 ],
 "metadata": {
  "kernelspec": {
   "display_name": "Python 3",
   "language": "python",
   "name": "python3"
  },
  "language_info": {
   "codemirror_mode": {
    "name": "ipython",
    "version": 3
   },
   "file_extension": ".py",
   "mimetype": "text/x-python",
   "name": "python",
   "nbconvert_exporter": "python",
   "pygments_lexer": "ipython3",
   "version": "3.8.8"
  }
 },
 "nbformat": 4,
 "nbformat_minor": 5
}
