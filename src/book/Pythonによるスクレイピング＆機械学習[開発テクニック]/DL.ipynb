{
 "cells": [
  {
   "cell_type": "markdown",
   "id": "ac532fa5",
   "metadata": {},
   "source": [
    "## Tensorflowの基本"
   ]
  },
  {
   "cell_type": "code",
   "execution_count": 1,
   "id": "fd382247",
   "metadata": {},
   "outputs": [
    {
     "ename": "AttributeError",
     "evalue": "module 'tensorflow' has no attribute 'assign'",
     "output_type": "error",
     "traceback": [
      "\u001b[0;31m---------------------------------------------------------------------------\u001b[0m",
      "\u001b[0;31mAttributeError\u001b[0m                            Traceback (most recent call last)",
      "\u001b[0;32m<ipython-input-1-a86bc7440d18>\u001b[0m in \u001b[0;36m<module>\u001b[0;34m\u001b[0m\n\u001b[1;32m     10\u001b[0m \u001b[0;31m# データフローグラフを定義 --- (※3)\u001b[0m\u001b[0;34m\u001b[0m\u001b[0;34m\u001b[0m\u001b[0;34m\u001b[0m\u001b[0m\n\u001b[1;32m     11\u001b[0m \u001b[0mcalc_op\u001b[0m \u001b[0;34m=\u001b[0m \u001b[0ma\u001b[0m \u001b[0;34m+\u001b[0m \u001b[0mb\u001b[0m \u001b[0;34m+\u001b[0m \u001b[0mc\u001b[0m\u001b[0;34m\u001b[0m\u001b[0;34m\u001b[0m\u001b[0m\n\u001b[0;32m---> 12\u001b[0;31m \u001b[0massign_op\u001b[0m \u001b[0;34m=\u001b[0m \u001b[0mtf\u001b[0m\u001b[0;34m.\u001b[0m\u001b[0massign\u001b[0m\u001b[0;34m(\u001b[0m\u001b[0mv\u001b[0m\u001b[0;34m,\u001b[0m \u001b[0mcalc_op\u001b[0m\u001b[0;34m)\u001b[0m\u001b[0;34m\u001b[0m\u001b[0;34m\u001b[0m\u001b[0m\n\u001b[0m\u001b[1;32m     13\u001b[0m \u001b[0;34m\u001b[0m\u001b[0m\n\u001b[1;32m     14\u001b[0m \u001b[0;31m# セッションにて実行する --- (※4)\u001b[0m\u001b[0;34m\u001b[0m\u001b[0;34m\u001b[0m\u001b[0;34m\u001b[0m\u001b[0m\n",
      "\u001b[0;31mAttributeError\u001b[0m: module 'tensorflow' has no attribute 'assign'"
     ]
    }
   ],
   "source": [
    "import tensorflow as tf\n",
    "\n",
    "# 定数を定義 --- (※1)\n",
    "a = tf.constant(120, name=\"a\")\n",
    "b = tf.constant(130, name=\"b\")\n",
    "c = tf.constant(140, name=\"c\")\n",
    "# 変数を定義 --- (※2)\n",
    "v = tf.Variable(0, name=\"v\")\n",
    "\n",
    "# データフローグラフを定義 --- (※3)\n",
    "calc_op = a + b + c\n",
    "assign_op = tf.assign(v, calc_op)\n",
    "\n",
    "# セッションにて実行する --- (※4)\n",
    "sess = tf.Session()\n",
    "sess.run(assign_op)\n",
    "\n",
    "# vの内容を表示する --- (※5)\n",
    "print( sess.run(v) )"
   ]
  },
  {
   "cell_type": "code",
   "execution_count": null,
   "id": "99fa8787",
   "metadata": {},
   "outputs": [],
   "source": []
  },
  {
   "cell_type": "code",
   "execution_count": null,
   "id": "275532cb",
   "metadata": {},
   "outputs": [],
   "source": []
  }
 ],
 "metadata": {
  "kernelspec": {
   "display_name": "Python 3",
   "language": "python",
   "name": "python3"
  },
  "language_info": {
   "codemirror_mode": {
    "name": "ipython",
    "version": 3
   },
   "file_extension": ".py",
   "mimetype": "text/x-python",
   "name": "python",
   "nbconvert_exporter": "python",
   "pygments_lexer": "ipython3",
   "version": "3.8.8"
  }
 },
 "nbformat": 4,
 "nbformat_minor": 5
}
