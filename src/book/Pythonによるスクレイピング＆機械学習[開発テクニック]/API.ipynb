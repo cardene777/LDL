{
 "cells": [
  {
   "cell_type": "markdown",
   "id": "2e6407e9",
   "metadata": {},
   "source": [
    "# Weather API\n",
    "https://home.openweathermap.org/api_keys"
   ]
  },
  {
   "cell_type": "code",
   "execution_count": 1,
   "id": "e61e6c97",
   "metadata": {},
   "outputs": [
    {
     "name": "stdout",
     "output_type": "stream",
     "text": [
      "+ 都市= Tokyo\n",
      "| 天気= clear sky\n",
      "| 最低気温= 16.670000000000016\n",
      "| 最高気温= 21.110000000000014\n",
      "| 湿度= 55\n",
      "| 気圧= 1019\n",
      "| 風速度= 2.57\n",
      "\n",
      "+ 都市= London\n",
      "| 天気= scattered clouds\n",
      "| 最低気温= 3.330000000000041\n",
      "| 最高気温= 5.560000000000002\n",
      "| 湿度= 70\n",
      "| 気圧= 1026\n",
      "| 風速度= 3.09\n",
      "\n",
      "+ 都市= New York\n",
      "| 天気= overcast clouds\n",
      "| 最低気温= 5.560000000000002\n",
      "| 最高気温= 8.0\n",
      "| 湿度= 49\n",
      "| 気圧= 1006\n",
      "| 風速度= 1.54\n",
      "\n"
     ]
    }
   ],
   "source": [
    "import requests\n",
    "import json, pprint\n",
    "\n",
    "# APIキーの指定 - 以下を書き換えてください★ --- (※1)\n",
    "apikey = \"3cc509367bbc0724449b5e83d3420e86\"\n",
    "\n",
    "# 天気を調べたい都市の一覧 --- (※2)\n",
    "cities = [\"Tokyo,JP\", \"London,UK\", \"New York,US\"]\n",
    "# APIのひな型 --- (※3)\n",
    "api = \"https://api.openweathermap.org/data/2.5/weather?q={city}&APPID={key}\"\n",
    "\n",
    "# 温度変換(ケルビン→摂氏) --- (※4)\n",
    "k2c = lambda k: k - 273.15\n",
    "\n",
    "# 各都市の温度を取得する --- (※5)\n",
    "for name in cities:\n",
    "    # APIのURLを得る --- (※6)\n",
    "    url = api.format(city=name, key=apikey)\n",
    "    # 実際にAPIにリクエストを送信して結果を取得する\n",
    "    r = requests.get(url)\n",
    "    # 結果はJSON形式なのでデコードする --- (※7)\n",
    "    data = json.loads(r.text)\n",
    "    # 結果を画面に表示 --- (※8)\n",
    "    print(\"+ 都市=\", data[\"name\"])\n",
    "    print(\"| 天気=\", data[\"weather\"][0][\"description\"])\n",
    "    print(\"| 最低気温=\", k2c(data[\"main\"][\"temp_min\"]))\n",
    "    print(\"| 最高気温=\", k2c(data[\"main\"][\"temp_max\"]))\n",
    "    print(\"| 湿度=\", data[\"main\"][\"humidity\"])\n",
    "    print(\"| 気圧=\", data[\"main\"][\"pressure\"])\n",
    "    print(\"| 風速度=\", data[\"wind\"][\"speed\"])\n",
    "    print(\"\")"
   ]
  },
  {
   "cell_type": "code",
   "execution_count": 2,
   "id": "197b04ac",
   "metadata": {},
   "outputs": [
    {
     "data": {
      "text/plain": [
       "{'coord': {'lon': -74.006, 'lat': 40.7143},\n",
       " 'weather': [{'id': 804,\n",
       "   'main': 'Clouds',\n",
       "   'description': 'overcast clouds',\n",
       "   'icon': '04n'}],\n",
       " 'base': 'stations',\n",
       " 'main': {'temp': 279.72,\n",
       "  'feels_like': 278.84,\n",
       "  'temp_min': 278.71,\n",
       "  'temp_max': 281.15,\n",
       "  'pressure': 1006,\n",
       "  'humidity': 49},\n",
       " 'visibility': 10000,\n",
       " 'wind': {'speed': 1.54, 'deg': 0},\n",
       " 'clouds': {'all': 90},\n",
       " 'dt': 1619051161,\n",
       " 'sys': {'type': 1,\n",
       "  'id': 4610,\n",
       "  'country': 'US',\n",
       "  'sunrise': 1618999665,\n",
       "  'sunset': 1619048472},\n",
       " 'timezone': -14400,\n",
       " 'id': 5128581,\n",
       " 'name': 'New York',\n",
       " 'cod': 200}"
      ]
     },
     "execution_count": 2,
     "metadata": {},
     "output_type": "execute_result"
    }
   ],
   "source": [
    "data"
   ]
  },
  {
   "cell_type": "code",
   "execution_count": null,
   "id": "459437e1",
   "metadata": {},
   "outputs": [],
   "source": []
  }
 ],
 "metadata": {
  "kernelspec": {
   "display_name": "Python 3",
   "language": "python",
   "name": "python3"
  },
  "language_info": {
   "codemirror_mode": {
    "name": "ipython",
    "version": 3
   },
   "file_extension": ".py",
   "mimetype": "text/x-python",
   "name": "python",
   "nbconvert_exporter": "python",
   "pygments_lexer": "ipython3",
   "version": "3.8.8"
  }
 },
 "nbformat": 4,
 "nbformat_minor": 5
}
