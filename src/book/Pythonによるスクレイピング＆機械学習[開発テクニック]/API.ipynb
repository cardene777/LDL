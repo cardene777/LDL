{
 "cells": [
  {
   "cell_type": "markdown",
   "id": "2e6407e9",
   "metadata": {},
   "source": [
    "# Weather API\n",
    "https://home.openweathermap.org/api_keys"
   ]
  },
  {
   "cell_type": "code",
   "execution_count": 3,
   "id": "e61e6c97",
   "metadata": {},
   "outputs": [
    {
     "ename": "KeyError",
     "evalue": "'name'",
     "output_type": "error",
     "traceback": [
      "\u001b[0;31m---------------------------------------------------------------------------\u001b[0m",
      "\u001b[0;31mKeyError\u001b[0m                                  Traceback (most recent call last)",
      "\u001b[0;32m<ipython-input-3-66d7d103ce79>\u001b[0m in \u001b[0;36m<module>\u001b[0;34m\u001b[0m\n\u001b[1;32m     22\u001b[0m     \u001b[0mdata\u001b[0m \u001b[0;34m=\u001b[0m \u001b[0mjson\u001b[0m\u001b[0;34m.\u001b[0m\u001b[0mloads\u001b[0m\u001b[0;34m(\u001b[0m\u001b[0mr\u001b[0m\u001b[0;34m.\u001b[0m\u001b[0mtext\u001b[0m\u001b[0;34m)\u001b[0m\u001b[0;34m\u001b[0m\u001b[0;34m\u001b[0m\u001b[0m\n\u001b[1;32m     23\u001b[0m     \u001b[0;31m# 結果を画面に表示 --- (※8)\u001b[0m\u001b[0;34m\u001b[0m\u001b[0;34m\u001b[0m\u001b[0;34m\u001b[0m\u001b[0m\n\u001b[0;32m---> 24\u001b[0;31m     \u001b[0mprint\u001b[0m\u001b[0;34m(\u001b[0m\u001b[0;34m\"+ 都市=\"\u001b[0m\u001b[0;34m,\u001b[0m \u001b[0mdata\u001b[0m\u001b[0;34m[\u001b[0m\u001b[0;34m\"name\"\u001b[0m\u001b[0;34m]\u001b[0m\u001b[0;34m)\u001b[0m\u001b[0;34m\u001b[0m\u001b[0;34m\u001b[0m\u001b[0m\n\u001b[0m\u001b[1;32m     25\u001b[0m     \u001b[0mprint\u001b[0m\u001b[0;34m(\u001b[0m\u001b[0;34m\"| 天気=\"\u001b[0m\u001b[0;34m,\u001b[0m \u001b[0mdata\u001b[0m\u001b[0;34m[\u001b[0m\u001b[0;34m\"weather\"\u001b[0m\u001b[0;34m]\u001b[0m\u001b[0;34m[\u001b[0m\u001b[0;36m0\u001b[0m\u001b[0;34m]\u001b[0m\u001b[0;34m[\u001b[0m\u001b[0;34m\"description\"\u001b[0m\u001b[0;34m]\u001b[0m\u001b[0;34m)\u001b[0m\u001b[0;34m\u001b[0m\u001b[0;34m\u001b[0m\u001b[0m\n\u001b[1;32m     26\u001b[0m     \u001b[0mprint\u001b[0m\u001b[0;34m(\u001b[0m\u001b[0;34m\"| 最低気温=\"\u001b[0m\u001b[0;34m,\u001b[0m \u001b[0mk2c\u001b[0m\u001b[0;34m(\u001b[0m\u001b[0mdata\u001b[0m\u001b[0;34m[\u001b[0m\u001b[0;34m\"main\"\u001b[0m\u001b[0;34m]\u001b[0m\u001b[0;34m[\u001b[0m\u001b[0;34m\"temp_min\"\u001b[0m\u001b[0;34m]\u001b[0m\u001b[0;34m)\u001b[0m\u001b[0;34m)\u001b[0m\u001b[0;34m\u001b[0m\u001b[0;34m\u001b[0m\u001b[0m\n",
      "\u001b[0;31mKeyError\u001b[0m: 'name'"
     ]
    }
   ],
   "source": [
    "import requests\n",
    "import json, pprint\n",
    "\n",
    "# APIキーの指定 - 以下を書き換えてください★ --- (※1)\n",
    "apikey = \"3cc509367bbc0724449b5e83d3420e86\"\n",
    "\n",
    "# 天気を調べたい都市の一覧 --- (※2)\n",
    "cities = [\"Tokyo,JP\", \"London,UK\", \"New York,US\"]\n",
    "# APIのひな型 --- (※3)\n",
    "api = \"https://api.openweathermap.org/data/2.5/weather?q={city}&APPID={key}\"\n",
    "\n",
    "# 温度変換(ケルビン→摂氏) --- (※4)\n",
    "k2c = lambda k: k - 273.15\n",
    "\n",
    "# 各都市の温度を取得する --- (※5)\n",
    "for name in cities:\n",
    "    # APIのURLを得る --- (※6)\n",
    "    url = api.format(city=name, key=apikey)\n",
    "    # 実際にAPIにリクエストを送信して結果を取得する\n",
    "    r = requests.get(url)\n",
    "    # 結果はJSON形式なのでデコードする --- (※7)\n",
    "    data = json.loads(r.text)\n",
    "    # 結果を画面に表示 --- (※8)\n",
    "    print(\"+ 都市=\", data[\"name\"])\n",
    "    print(\"| 天気=\", data[\"weather\"][0][\"description\"])\n",
    "    print(\"| 最低気温=\", k2c(data[\"main\"][\"temp_min\"]))\n",
    "    print(\"| 最高気温=\", k2c(data[\"main\"][\"temp_max\"]))\n",
    "    print(\"| 湿度=\", data[\"main\"][\"humidity\"])\n",
    "    print(\"| 気圧=\", data[\"main\"][\"pressure\"])\n",
    "    print(\"| 風速度=\", data[\"wind\"][\"speed\"])\n",
    "    print(\"\")"
   ]
  },
  {
   "cell_type": "code",
   "execution_count": 4,
   "id": "197b04ac",
   "metadata": {},
   "outputs": [
    {
     "data": {
      "text/plain": [
       "{'cod': 401,\n",
       " 'message': 'Invalid API key. Please see http://openweathermap.org/faq#error401 for more info.'}"
      ]
     },
     "execution_count": 4,
     "metadata": {},
     "output_type": "execute_result"
    }
   ],
   "source": [
    "data"
   ]
  },
  {
   "cell_type": "code",
   "execution_count": null,
   "id": "459437e1",
   "metadata": {},
   "outputs": [],
   "source": []
  }
 ],
 "metadata": {
  "kernelspec": {
   "display_name": "Python 3",
   "language": "python",
   "name": "python3"
  },
  "language_info": {
   "codemirror_mode": {
    "name": "ipython",
    "version": 3
   },
   "file_extension": ".py",
   "mimetype": "text/x-python",
   "name": "python",
   "nbconvert_exporter": "python",
   "pygments_lexer": "ipython3",
   "version": "3.8.8"
  }
 },
 "nbformat": 4,
 "nbformat_minor": 5
}
