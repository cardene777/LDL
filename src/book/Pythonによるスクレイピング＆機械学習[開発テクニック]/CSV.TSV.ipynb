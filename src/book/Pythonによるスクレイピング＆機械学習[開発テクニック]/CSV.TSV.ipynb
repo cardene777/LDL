{
 "cells": [
  {
   "cell_type": "markdown",
   "id": "b112bae9",
   "metadata": {},
   "source": [
    "# CSV\n",
    "\n",
    "- カンマ区切りのファイル。\n",
    "\n",
    "# TSV\n",
    "\n",
    "- タブ区切りのファイル。"
   ]
  },
  {
   "cell_type": "markdown",
   "id": "d9890b5f",
   "metadata": {},
   "source": [
    "## 読み込み"
   ]
  },
  {
   "cell_type": "code",
   "execution_count": 1,
   "id": "0f9f587c",
   "metadata": {},
   "outputs": [
    {
     "name": "stdout",
     "output_type": "stream",
     "text": [
      "商品名 値段\n",
      "石けん 300\n",
      "手袋 150\n",
      "マスク 230\n"
     ]
    }
   ],
   "source": [
    "import codecs\n",
    "\n",
    "# Shift_JISのCSVファイルを読む\n",
    "filename = \"file/list-sjis.csv\"\n",
    "csv = codecs.open(filename, \"r\", \"shift_jis\").read()\n",
    "\n",
    "# CSVをPythonのリストに変換する\n",
    "data = []\n",
    "rows = csv.split(\"\\r\\n\")\n",
    "for row in rows:\n",
    "    if row == \"\": continue\n",
    "    cells = row.split(\",\")\n",
    "    data.append(cells)\n",
    "\n",
    "# 変換結果を表示\n",
    "for c in data:\n",
    "    print(c[1], c[2])"
   ]
  },
  {
   "cell_type": "code",
   "execution_count": 2,
   "id": "aaa61d44",
   "metadata": {},
   "outputs": [
    {
     "name": "stdout",
     "output_type": "stream",
     "text": [
      "商品名 値段\n",
      "石けん 300\n",
      "手袋 150\n",
      "マスク 230\n"
     ]
    }
   ],
   "source": [
    "import csv, codecs\n",
    "\n",
    "# CSVファイルを開く\n",
    "filename = \"file/list-sjis.csv\"\n",
    "fp = codecs.open(filename, \"r\", \"shift_jis\")\n",
    "\n",
    "# 一行ずつ読む\n",
    "reader = csv.reader(fp, delimiter=\",\", quotechar='\"')\n",
    "for cells in reader:\n",
    "    print(cells[1], cells[2])"
   ]
  },
  {
   "cell_type": "markdown",
   "id": "ece00713",
   "metadata": {},
   "source": [
    "## 書き込み"
   ]
  },
  {
   "cell_type": "code",
   "execution_count": 3,
   "id": "32870d1c",
   "metadata": {},
   "outputs": [],
   "source": [
    "import csv, codecs\n",
    "\n",
    "with codecs.open(\"file/test.csv\", \"w\", \"shift_jis\") as fp:\n",
    "    writer = csv.writer(fp, delimiter=\",\", quotechar='\"')\n",
    "    writer.writerow([\"ID\", \"商品名\", \"値段\"])\n",
    "    writer.writerow([\"1000\", \"SDカード\", 300])\n",
    "    writer.writerow([\"1001\", \"キーボード\", 2100])\n",
    "    writer.writerow([\"1002\", \"マジック(赤,青)\", 150])"
   ]
  },
  {
   "cell_type": "code",
   "execution_count": null,
   "id": "95f4ae5c",
   "metadata": {},
   "outputs": [],
   "source": []
  }
 ],
 "metadata": {
  "kernelspec": {
   "display_name": "Python 3",
   "language": "python",
   "name": "python3"
  },
  "language_info": {
   "codemirror_mode": {
    "name": "ipython",
    "version": 3
   },
   "file_extension": ".py",
   "mimetype": "text/x-python",
   "name": "python",
   "nbconvert_exporter": "python",
   "pygments_lexer": "ipython3",
   "version": "3.8.8"
  }
 },
 "nbformat": 4,
 "nbformat_minor": 5
}
