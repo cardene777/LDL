{
 "cells": [
  {
   "cell_type": "markdown",
   "id": "c1539c7a",
   "metadata": {},
   "source": [
    "## XOR演算を学習"
   ]
  },
  {
   "cell_type": "code",
   "execution_count": 1,
   "id": "d14e0cbb",
   "metadata": {},
   "outputs": [
    {
     "name": "stdout",
     "output_type": "stream",
     "text": [
      "予測結果: [0 1 1 0]\n",
      "正解率: 4 / 4 = 1.0\n"
     ]
    }
   ],
   "source": [
    "from sklearn import svm\n",
    "\n",
    "# XORの演算結果 --- (※1)\n",
    "xor_data = [\n",
    "    #P, Q, result\n",
    "    [0, 0, 0],\n",
    "    [0, 1, 1],\n",
    "    [1, 0, 1],\n",
    "    [1, 1, 0]\n",
    "]\n",
    "\n",
    "# 学習させるためにデータとラベルに分ける --- (※2)\n",
    "data = []\n",
    "label = []\n",
    "for row in xor_data:\n",
    "    p = row[0]\n",
    "    q = row[1]\n",
    "    r = row[2]\n",
    "    data.append([p, q])\n",
    "    label.append(r)\n",
    "\n",
    "# データの学習 --- (※3)\n",
    "clf = svm.SVC()\n",
    "clf.fit(data, label)\n",
    "\n",
    "# データを予測 --- (※4)\n",
    "pre = clf.predict(data)\n",
    "print(\"予測結果:\", pre)\n",
    "\n",
    "# 正解と合っているか結果を確認 --- (※5)\n",
    "ok = 0; total = 0\n",
    "for idx, answer in enumerate(label):\n",
    "    p = pre[idx]\n",
    "    if p == answer: ok += 1\n",
    "    total += 1\n",
    "print(\"正解率:\", ok, \"/\", total, \"=\", ok/total)"
   ]
  },
  {
   "cell_type": "code",
   "execution_count": 2,
   "id": "72a4615f",
   "metadata": {},
   "outputs": [
    {
     "name": "stdout",
     "output_type": "stream",
     "text": [
      "正解率= 1.0\n"
     ]
    }
   ],
   "source": [
    "import pandas as pd\n",
    "from sklearn import svm, metrics\n",
    "\n",
    "# XORの演算結果\n",
    "xor_input = [\n",
    "    [0, 0, 0],\n",
    "    [0, 1, 1],\n",
    "    [1, 0, 1],\n",
    "    [1, 1, 0]\n",
    "]\n",
    "# 入力を学習データとラベルに分ける --- (※1)\n",
    "xor_df = pd.DataFrame(xor_input)\n",
    "xor_data  = xor_df.loc[:,0:1] # データ\n",
    "xor_label = xor_df.loc[:,2]   # ラベル\n",
    "\n",
    "# データの学習と予測 --- (※2)\n",
    "clf = svm.SVC()\n",
    "clf.fit(xor_data, xor_label)\n",
    "pre = clf.predict(xor_data)\n",
    "\n",
    "# 正解率を求める --- (※3)\n",
    "ac_score = metrics.accuracy_score(xor_label, pre)\n",
    "print(\"正解率=\", ac_score)"
   ]
  },
  {
   "cell_type": "markdown",
   "id": "6b858030",
   "metadata": {},
   "source": [
    "## アヤメの分類"
   ]
  },
  {
   "cell_type": "code",
   "execution_count": 3,
   "id": "4dfd209f",
   "metadata": {},
   "outputs": [
    {
     "name": "stdout",
     "output_type": "stream",
     "text": [
      "正解率= 0.98\n"
     ]
    }
   ],
   "source": [
    "from sklearn import svm, metrics\n",
    "import random, re\n",
    "\n",
    "# アヤメのCSVデータを読み込む --- (※1)\n",
    "csv = []\n",
    "with open('file/iris.csv', 'r', encoding='utf-8') as fp:\n",
    "    # 一行ずつ読む\n",
    "    for line in fp:\n",
    "        line = line.strip()    # 改行を削除\n",
    "        cols = line.split(',') # カンマで区切る \n",
    "        # 文字列データを数値に変換\n",
    "        fn = lambda n : float(n) if re.match(r'^[0-9\\.]+$', n) else n\n",
    "        cols = list(map(fn, cols))\n",
    "        csv.append(cols)\n",
    "\n",
    "# 先頭のヘッダ行を削除\n",
    "del csv[0]\n",
    "\n",
    "# データをシャッフル --- (※2)\n",
    "random.shuffle(csv)\n",
    "\n",
    "# 学習用とテスト用に分割する(2:1の比率) --- (※3)\n",
    "total_len = len(csv)\n",
    "train_len = int(total_len * 2 / 3)\n",
    "train_data = []\n",
    "train_label = []\n",
    "test_data = []\n",
    "test_label = []\n",
    "for i in range(total_len):\n",
    "    data  = csv[i][0:4]\n",
    "    label = csv[i][4]\n",
    "    if i < train_len:\n",
    "        train_data.append(data)\n",
    "        train_label.append(label)\n",
    "    else:\n",
    "        test_data.append(data)\n",
    "        test_label.append(label)\n",
    "\n",
    "# データを学習し、予測する --- (※4)\n",
    "clf = svm.SVC()\n",
    "clf.fit(train_data, train_label)\n",
    "pre = clf.predict(test_data)\n",
    "\n",
    "# 正解率を求める --- (※5)\n",
    "ac_score = metrics.accuracy_score(test_label, pre)\n",
    "print(\"正解率=\", ac_score)"
   ]
  },
  {
   "cell_type": "code",
   "execution_count": 4,
   "id": "fb6291ef",
   "metadata": {},
   "outputs": [
    {
     "name": "stdout",
     "output_type": "stream",
     "text": [
      "正解率= 0.9473684210526315\n"
     ]
    }
   ],
   "source": [
    "import pandas as pd\n",
    "from sklearn import svm, metrics\n",
    "from sklearn.model_selection import train_test_split\n",
    "\n",
    "# アヤメのCSVデータを読み込む --- (※1)\n",
    "csv = pd.read_csv('file/iris.csv')\n",
    "\n",
    "# 任意の列を取り出す --- (※2)\n",
    "csv_data = csv[[\"SepalLength\",\"SepalWidth\",\"PetalLength\",\"PetalWidth\"]]\n",
    "csv_label = csv[\"Name\"]\n",
    "\n",
    "# 学習用とテスト用に分割する --- (※3)\n",
    "train_data, test_data, train_label, test_label = \\\n",
    "    train_test_split(csv_data, csv_label)\n",
    "\n",
    "# データを学習し、予測する --- (※4)\n",
    "clf = svm.SVC()\n",
    "clf.fit(train_data, train_label)\n",
    "pre = clf.predict(test_data)\n",
    "\n",
    "# 正解率を求める --- (※5)\n",
    "ac_score = metrics.accuracy_score(test_label, pre)\n",
    "print(\"正解率=\", ac_score)"
   ]
  },
  {
   "cell_type": "markdown",
   "id": "ee9fc378",
   "metadata": {},
   "source": [
    "## 文章判定"
   ]
  },
  {
   "cell_type": "code",
   "execution_count": 5,
   "id": "692ef51b",
   "metadata": {},
   "outputs": [
    {
     "name": "stdout",
     "output_type": "stream",
     "text": [
      "正解率= 1.0\n",
      "レポート=\n",
      "              precision    recall  f1-score   support\n",
      "\n",
      "          en       1.00      1.00      1.00         2\n",
      "          fr       1.00      1.00      1.00         2\n",
      "          id       1.00      1.00      1.00         2\n",
      "          tl       1.00      1.00      1.00         2\n",
      "\n",
      "    accuracy                           1.00         8\n",
      "   macro avg       1.00      1.00      1.00         8\n",
      "weighted avg       1.00      1.00      1.00         8\n",
      "\n"
     ]
    }
   ],
   "source": [
    "from sklearn import svm, metrics\n",
    "import glob, os.path, re, json\n",
    "\n",
    "\n",
    "# テキストを読んで出現頻度を調べる --- (※1)\n",
    "def check_freq(fname):\n",
    "    name = os.path.basename(fname)\n",
    "    lang = re.match(r'^[a-z]{2,}', name).group()\n",
    "    with open(fname, \"r\", encoding=\"utf-8\") as f:\n",
    "        text = f.read()\n",
    "    text = text.lower() # 小文字に変換\n",
    "    # カウンタを0に\n",
    "    cnt = [0 for n in range(0, 26)]\n",
    "    code_a = ord(\"a\")\n",
    "    code_z = ord(\"z\")\n",
    "    # アルファベットの出現回数を調べる --- (※2)\n",
    "    for ch in text:\n",
    "        n = ord(ch)\n",
    "        if code_a <= n <= code_z: # a-zの間なら\n",
    "            cnt[n - code_a] += 1\n",
    "    # 正規化する --- (※3)\n",
    "    total = sum(cnt)\n",
    "    freq = list(map(lambda n: n / total, cnt))\n",
    "    return (freq, lang)\n",
    "    \n",
    "# 各ファイルを処理する\n",
    "def load_files(path):\n",
    "    freqs = []\n",
    "    labels = []\n",
    "    file_list = glob.glob(path)\n",
    "    for fname in file_list:\n",
    "        r = check_freq(fname)\n",
    "        freqs.append(r[0])\n",
    "        labels.append(r[1])\n",
    "    return {\"freqs\":freqs, \"labels\":labels}\n",
    "    \n",
    "data = load_files(\"./file/lang/train/*.txt\")\n",
    "test = load_files(\"./file/lang/test/*.txt\")\n",
    "# 今後のためにJSONで結果を保存\n",
    "with open(\"./file/lang/freq.json\", \"w\", encoding=\"utf-8\") as fp:\n",
    "    json.dump([data, test], fp)\n",
    "\n",
    "# 学習 --- (※4)\n",
    "clf = svm.SVC()\n",
    "clf.fit(data[\"freqs\"], data[\"labels\"])\n",
    "\n",
    "# 予測 --- (※5)\n",
    "predict = clf.predict(test[\"freqs\"])\n",
    "\n",
    "# 結果がどの程度合っていたか確認 --- (※6)\n",
    "ac_score = metrics.accuracy_score(test[\"labels\"], predict)\n",
    "cl_report = metrics.classification_report(test[\"labels\"], predict)\n",
    "print(\"正解率=\", ac_score)\n",
    "print(\"レポート=\")\n",
    "print(cl_report)\n"
   ]
  },
  {
   "cell_type": "code",
   "execution_count": 6,
   "id": "11471e4c",
   "metadata": {},
   "outputs": [
    {
     "data": {
      "image/png": "[encoded data removed]",
      "text/plain": [
       "<Figure size 432x288 with 4 Axes>"
      ]
     },
     "metadata": {},
     "output_type": "display_data"
    }
   ],
   "source": [
    "import matplotlib.pyplot as plt\n",
    "import pandas as pd\n",
    "import json\n",
    "\n",
    "# アルファベットの出現頻度データを読み込む --- (※1)\n",
    "with open(\"./file/lang/freq.json\", \"r\", encoding=\"utf-8\") as fp:\n",
    "    freq = json.load(fp)\n",
    "\n",
    "# 言語ごとに集計する --- (※2)\n",
    "lang_dic = {}\n",
    "for i, lbl in enumerate(freq[0][\"labels\"]):\n",
    "    fq = freq[0][\"freqs\"][i]\n",
    "    if not (lbl in lang_dic):\n",
    "        lang_dic[lbl] = fq\n",
    "        continue\n",
    "    for idx, v in enumerate(fq):\n",
    "        lang_dic[lbl][idx] = (lang_dic[lbl][idx] + v) / 2\n",
    "\n",
    "# PandasのDataFrameにデータを入れる --- (※3)\n",
    "asclist = [[chr(n) for n in range(97,97+26)]]\n",
    "df = pd.DataFrame(lang_dic, index=asclist)\n",
    "\n",
    "# プロット --- (※4)\n",
    "plt.style.use('ggplot')\n",
    "df.plot(kind=\"bar\", subplots=True, ylim=(0,0.15))\n",
    "plt.savefig(\"images/lang-plot.png\")"
   ]
  },
  {
   "cell_type": "code",
   "execution_count": 7,
   "id": "c199a789",
   "metadata": {},
   "outputs": [
    {
     "name": "stdout",
     "output_type": "stream",
     "text": [
      "ok\n"
     ]
    }
   ],
   "source": [
    "from sklearn import svm \n",
    "# from sklearn.externals import joblib\n",
    "import joblib\n",
    "import json\n",
    "\n",
    "# 各言語の頻出データ(JSON)を読み込む\n",
    "with open(\"./file/lang/freq.json\", \"r\", encoding=\"utf-8\") as fp:\n",
    "    d = json.load(fp)\n",
    "    data = d[0]\n",
    "\n",
    "# データを学習する\n",
    "clf = svm.SVC()\n",
    "clf.fit(data[\"freqs\"], data[\"labels\"])\n",
    "\n",
    "# 学習データを保存する\n",
    "joblib.dump(clf, \"./file/freq.pkl\")\n",
    "print(\"ok\")"
   ]
  },
  {
   "cell_type": "markdown",
   "id": "c2e7ac9e",
   "metadata": {},
   "source": [
    "## SVM"
   ]
  },
  {
   "cell_type": "code",
   "execution_count": 8,
   "id": "33e7d426",
   "metadata": {},
   "outputs": [
    {
     "name": "stdout",
     "output_type": "stream",
     "text": [
      "ok, {'thin': 6371, 'normal': 5802, 'fat': 7827}\n"
     ]
    }
   ],
   "source": [
    "import random\n",
    "\n",
    "# BMIを計算して体型を返す\n",
    "def calc_bmi(h, w):\n",
    "    bmi = w / (h/100) ** 2\n",
    "    if bmi < 18.5: return \"thin\"\n",
    "    if bmi < 25.0: return \"normal\"\n",
    "    return \"fat\"\n",
    "\n",
    "# 出力ファイルの準備\n",
    "fp = open(\"file/bmi.csv\",\"w\",encoding=\"utf-8\")\n",
    "fp.write(\"height,weight,label\\r\\n\")\n",
    "\n",
    "# ランダムなデータを生成\n",
    "cnt = {\"thin\":0, \"normal\":0, \"fat\":0}\n",
    "for i in range(20000):\n",
    "    h = random.randint(120,200)\n",
    "    w = random.randint(35, 80)\n",
    "    label = calc_bmi(h, w)\n",
    "    cnt[label] += 1\n",
    "    fp.write(\"{0},{1},{2}\\r\\n\".format(h, w, label))\n",
    "fp.close()\n",
    "print(\"ok,\", cnt)"
   ]
  },
  {
   "cell_type": "code",
   "execution_count": 9,
   "id": "59b0941c",
   "metadata": {},
   "outputs": [
    {
     "name": "stdout",
     "output_type": "stream",
     "text": [
      "正解率= 0.9948\n",
      "レポート=\n",
      "               precision    recall  f1-score   support\n",
      "\n",
      "         fat       1.00      1.00      1.00      1975\n",
      "      normal       0.99      0.99      0.99      1472\n",
      "        thin       0.99      1.00      1.00      1553\n",
      "\n",
      "    accuracy                           0.99      5000\n",
      "   macro avg       0.99      0.99      0.99      5000\n",
      "weighted avg       0.99      0.99      0.99      5000\n",
      "\n"
     ]
    }
   ],
   "source": [
    "from sklearn import svm, metrics\n",
    "from sklearn.model_selection import train_test_split\n",
    "import matplotlib.pyplot as plt\n",
    "import pandas as pd\n",
    "\n",
    "# 身長・体重データの読み込み --- (※1)\n",
    "tbl = pd.read_csv(\"file/bmi.csv\")\n",
    "\n",
    "# カラム(列)をスライスして正規化 --- (※2)\n",
    "label = tbl[\"label\"]\n",
    "w = tbl[\"weight\"] / 100 # 最大100kgと考える\n",
    "h = tbl[\"height\"] / 200 # 最長200cmと考える\n",
    "wh = pd.concat([w, h], axis=1)\n",
    "\n",
    "# 学習用とテスト用データに分ける --- (※3)\n",
    "data_train, data_test, label_train, label_test = \\\n",
    "    train_test_split(wh, label)\n",
    "\n",
    "# データを学習 --- (※4)\n",
    "clf = svm.SVC()\n",
    "clf.fit(data_train, label_train)\n",
    "\n",
    "# データを予測 --- (※5)\n",
    "predict = clf.predict(data_test)\n",
    "\n",
    "# 合っているか結果を確認 --- (※6)\n",
    "ac_score = metrics.accuracy_score(label_test, predict)\n",
    "cl_report = metrics.classification_report(label_test, predict)\n",
    "print(\"正解率=\", ac_score)\n",
    "print(\"レポート=\\n\", cl_report)"
   ]
  },
  {
   "cell_type": "code",
   "execution_count": 10,
   "id": "a3e94a2e",
   "metadata": {},
   "outputs": [
    {
     "data": {
      "image/png": "[encoded data removed]",
      "text/plain": [
       "<Figure size 432x288 with 1 Axes>"
      ]
     },
     "metadata": {},
     "output_type": "display_data"
    }
   ],
   "source": [
    "import matplotlib.pyplot as plt\n",
    "import pandas as pd\n",
    "\n",
    "# PandasでCSVファイルを読む\n",
    "tbl = pd.read_csv(\"file/bmi.csv\", index_col=2)\n",
    "\n",
    "# 描画を開始する\n",
    "fig = plt.figure()\n",
    "ax = fig.add_subplot(1, 1, 1)\n",
    "\n",
    "# サブプロット用 - 指定のラベルを任意の色で描画\n",
    "def scatter(lbl, color):\n",
    "    b = tbl.loc[lbl]\n",
    "    ax.scatter(b[\"weight\"],b[\"height\"], c=color, label=lbl)\n",
    "\n",
    "scatter(\"fat\",    \"red\")\n",
    "scatter(\"normal\", \"yellow\")\n",
    "scatter(\"thin\",   \"purple\")\n",
    "\n",
    "ax.legend() \n",
    "plt.savefig(\"images/bmi-test.png\")\n",
    "# plt.show()"
   ]
  },
  {
   "cell_type": "code",
   "execution_count": 11,
   "id": "184b4982",
   "metadata": {},
   "outputs": [
    {
     "name": "stdout",
     "output_type": "stream",
     "text": [
      "正解率= 1.0\n",
      "レポート=\n",
      "               precision    recall  f1-score   support\n",
      "\n",
      "           e       1.00      1.00      1.00      1052\n",
      "           p       1.00      1.00      1.00       979\n",
      "\n",
      "    accuracy                           1.00      2031\n",
      "   macro avg       1.00      1.00      1.00      2031\n",
      "weighted avg       1.00      1.00      1.00      2031\n",
      "\n"
     ]
    }
   ],
   "source": [
    "import pandas as pd\n",
    "from sklearn.ensemble import RandomForestClassifier\n",
    "from sklearn import metrics\n",
    "from sklearn.model_selection import train_test_split\n",
    "\n",
    "# データの読み込み --- (※1)\n",
    "mr = pd.read_csv(\"file/mushroom.csv\", header=None)\n",
    "\n",
    "# データ中の記号を数値に変換する --- (※2)\n",
    "label = []\n",
    "data = []\n",
    "attr_list = []\n",
    "for row_index, row in mr.iterrows():\n",
    "    label.append(row.loc[0])\n",
    "    row_data = []\n",
    "    for v in row.loc[1:]:\n",
    "        row_data.append(ord(v))\n",
    "    data.append(row_data)\n",
    "\n",
    "# 学習用とテスト用データに分ける --- (※3)\n",
    "data_train, data_test, label_train, label_test = \\\n",
    "    train_test_split(data, label)\n",
    "\n",
    "# データの学習 --- (※4)\n",
    "clf = RandomForestClassifier()\n",
    "clf.fit(data_train, label_train)\n",
    "\n",
    "# データを予測 --- (※5)\n",
    "predict = clf.predict(data_test)\n",
    "\n",
    "# 合っているか結果を確認 --- (※6)\n",
    "ac_score = metrics.accuracy_score(label_test, predict)\n",
    "cl_report = metrics.classification_report(label_test, predict)\n",
    "print(\"正解率=\", ac_score)\n",
    "print(\"レポート=\\n\", cl_report)"
   ]
  },
  {
   "cell_type": "code",
   "execution_count": 12,
   "id": "5470335d",
   "metadata": {},
   "outputs": [
    {
     "name": "stdout",
     "output_type": "stream",
     "text": [
      "正解率= 1.0\n"
     ]
    }
   ],
   "source": [
    "import pandas as pd\n",
    "from sklearn.ensemble import RandomForestClassifier\n",
    "from sklearn import metrics\n",
    "from sklearn.model_selection import train_test_split\n",
    "\n",
    "# データの読み込み\n",
    "mr = pd.read_csv(\"file/mushroom.csv\", header=None)\n",
    "\n",
    "# データ中の分類変数を展開する\n",
    "label = []\n",
    "data = []\n",
    "attr_list = []\n",
    "for row_index, row in mr.iterrows():\n",
    "    label.append(row.loc[0])\n",
    "    exdata = []\n",
    "    for col, v in enumerate(row.loc[1:]):\n",
    "        if row_index == 0:\n",
    "            attr = {\"dic\": {}, \"cnt\":0}\n",
    "            attr_list.append(attr)\n",
    "        else:\n",
    "            attr = attr_list[col]\n",
    "        # キノコの特徴を表す記号を12列で表す\n",
    "        d = [0,0,0,0,0,0,0,0,0,0,0,0]\n",
    "        if v in attr[\"dic\"]:\n",
    "            idx = attr[\"dic\"][v]\n",
    "        else:\n",
    "            idx = attr[\"cnt\"]\n",
    "            attr[\"dic\"][v] = idx\n",
    "            attr[\"cnt\"] += 1\n",
    "        d[idx] = 1\n",
    "        exdata += d\n",
    "    data.append(exdata)\n",
    "\n",
    "\n",
    "# 学習用とテスト用データに分ける\n",
    "data_train, data_test, label_train, label_test = \\\n",
    "    train_test_split(data, label)\n",
    "#データの学習\n",
    "clf = RandomForestClassifier()\n",
    "clf.fit(data_train, label_train)\n",
    "# データを予測\n",
    "predict = clf.predict(data_test)\n",
    "# 合っているか結果を確認\n",
    "ac_score = metrics.accuracy_score(label_test, predict)\n",
    "print(\"正解率=\", ac_score)"
   ]
  },
  {
   "cell_type": "markdown",
   "id": "4820c850",
   "metadata": {},
   "source": [
    "## クロスバリデーション\n",
    "1. 集合Xを、AとBとCに分割。\n",
    "2. Aをテストデータ、残りのB/Cを訓練データとして分割精度s1を求める。\n",
    "3. Bをテストデータ、残りのA/Cを訓練データとして分割精度s2を求める。\n",
    "4. Cをテストデータ、残りのA/Bを訓練データとして分割精度s3を求める。\n",
    "5. 分割精度s1/s2/s3の平均を求め分割精度とする。"
   ]
  },
  {
   "cell_type": "code",
   "execution_count": 13,
   "id": "3691e1e3",
   "metadata": {},
   "outputs": [
    {
     "name": "stdout",
     "output_type": "stream",
     "text": [
      "各正解率= [1.0, 0.9666666666666667, 0.9333333333333333, 0.9333333333333333, 1.0]\n",
      "平均正解率= 0.9666666666666668\n"
     ]
    }
   ],
   "source": [
    "from sklearn import svm, metrics\n",
    "import random, re\n",
    "\n",
    "# アヤメのCSVデータを読み込む --- (※1)\n",
    "lines = open('file/iris.csv', 'r', encoding='utf-8').read().split(\"\\n\")\n",
    "f_tonum = lambda n : float(n) if re.match(r'^[0-9\\.]+$', n) else n\n",
    "f_cols  = lambda li: list(map(f_tonum,li.strip().split(',')))\n",
    "csv = list(map(f_cols, lines))\n",
    "del csv[0] # 先頭のヘッダ行を削除\n",
    "random.shuffle(csv) # データをシャッフル\n",
    "\n",
    "# データをK分割する --- (※2)\n",
    "K = 5 \n",
    "csvk = [ [] for i in range(K) ]\n",
    "for i in range(len(csv)):\n",
    "    csvk[i % K].append(csv[i])\n",
    "\n",
    "# リストを訓練データとラベルに分割する関数\n",
    "def split_data_label(rows):\n",
    "    data = []; label = []\n",
    "    for row in rows:\n",
    "        data.append(row[0:4])\n",
    "        label.append(row[4])\n",
    "    return (data, label)\n",
    "\n",
    "# 正解率を求める --- (※3)\n",
    "def calc_score(test, train):\n",
    "    test_f, test_l = split_data_label(test)\n",
    "    train_f, train_l = split_data_label(train)\n",
    "    # 区連データを学習して分類して正解率を求める\n",
    "    clf = svm.SVC()\n",
    "    clf.fit(train_f, train_l)\n",
    "    pre = clf.predict(test_f)\n",
    "    return metrics.accuracy_score(test_l, pre)\n",
    "\n",
    "# K分割したデータについて正解率を求める --- (※4)\n",
    "score_list = []\n",
    "for testc in csvk:\n",
    "    # testc以外のデータを訓練データとする\n",
    "    trainc = []\n",
    "    for i in csvk:\n",
    "        if i != testc: trainc += i\n",
    "    sc = calc_score(testc, trainc)\n",
    "    score_list.append(sc)\n",
    "print(\"各正解率=\", score_list)\n",
    "print(\"平均正解率=\", sum(score_list) / len(score_list))"
   ]
  },
  {
   "cell_type": "code",
   "execution_count": 14,
   "id": "373bfbf3",
   "metadata": {},
   "outputs": [
    {
     "name": "stdout",
     "output_type": "stream",
     "text": [
      "各正解率= [0.96666667 0.96666667 0.96666667 0.93333333 1.        ]\n",
      "正解率= 0.9666666666666666\n"
     ]
    }
   ],
   "source": [
    "import pandas as pd\n",
    "from sklearn import svm, metrics, model_selection\n",
    "import random, re\n",
    "\n",
    "# アヤメのCSVデータを読み込む --- (※1)\n",
    "csv = pd.read_csv('file/iris.csv')\n",
    "\n",
    "# リストを訓練データとラベルに分割する --- (※2)\n",
    "data = csv[[\"SepalLength\",\"SepalWidth\",\"PetalLength\",\"PetalWidth\"]]\n",
    "label = csv[\"Name\"]\n",
    "\n",
    "# クロスバリデーションを行う --- (※3)\n",
    "clf = svm.SVC()\n",
    "scores = model_selection.cross_val_score(\n",
    "\tclf, data, label, cv=5)\n",
    "print(\"各正解率=\", scores)\n",
    "print(\"正解率=\", scores.mean())"
   ]
  },
  {
   "cell_type": "markdown",
   "id": "48e22004",
   "metadata": {},
   "source": [
    "## グリッドサーチ"
   ]
  },
  {
   "cell_type": "code",
   "execution_count": 15,
   "id": "bdac821b",
   "metadata": {},
   "outputs": [],
   "source": [
    "# import pandas as pd\n",
    "# from sklearn import model_selection, svm, metrics\n",
    "\n",
    "# # MNISTの学習データを読み込む --- (※1)\n",
    "# train_csv = pd.read_csv(\"./mnist/train.csv\")\n",
    "# test_csv  = pd.read_csv(\"./mnist/t10k.csv\")\n",
    "\n",
    "# # 必要な列を抽出 --- (※2)\n",
    "# train_label = train_csv.iloc[:, 0]\n",
    "# train_data  = train_csv.iloc[:, 1:577]\n",
    "# test_label  = test_csv.iloc[:, 0]\n",
    "# test_data   = test_csv.iloc[:, 1:577]\n",
    "# print(\"学習データ数=\", len(train_label))\n",
    "\n",
    "# # グリッドサーチのパラメータを設定 --- (※3)\n",
    "# params = [\n",
    "#     {\"C\": [1,10,100,1000], \"kernel\":[\"linear\"]},\n",
    "#     {\"C\": [1,10,100,1000], \"kernel\":[\"rbf\"], \"gamma\":[0.001, 0.0001]}\n",
    "# ]\n",
    "\n",
    "# # グリッドサーチを行う --- (※4)\n",
    "# clf = model_selection.GridSearchCV(\n",
    "#         svm.SVC(), params, n_jobs=-1)\n",
    "# clf.fit(train_data, train_label)\n",
    "# print(\"学習器=\", clf.best_estimator_)\n",
    "\n",
    "# # テストデータで確認 --- (※5)\n",
    "# pre = clf.predict(test_data)\n",
    "# ac_score = metrics.accuracy_score(pre, test_label)\n",
    "# print(\"正解率=\",ac_score)"
   ]
  }
 ],
 "metadata": {
  "kernelspec": {
   "display_name": "Python 3",
   "language": "python",
   "name": "python3"
  },
  "language_info": {
   "codemirror_mode": {
    "name": "ipython",
    "version": 3
   },
   "file_extension": ".py",
   "mimetype": "text/x-python",
   "name": "python",
   "nbconvert_exporter": "python",
   "pygments_lexer": "ipython3",
   "version": "3.8.8"
  }
 },
 "nbformat": 4,
 "nbformat_minor": 5
}
