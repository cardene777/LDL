{
 "cells": [
  {
   "cell_type": "code",
   "execution_count": 1,
   "id": "6b078493",
   "metadata": {},
   "outputs": [
    {
     "name": "stdout",
     "output_type": "stream",
     "text": [
      "恋すてふ 我が名はまだき 立ちにけり 人しれずこそ 思ひそめしか\n"
     ]
    }
   ],
   "source": [
    "import urllib.request as req\n",
    "import os.path, random\n",
    "import json\n",
    "\n",
    "# JSONデータをダウンロード --- (※1)\n",
    "# WebAPIからダウンロード\n",
    "url = \"https://api.aoikujira.com/hyakunin/get.php?fmt=json\"\n",
    "savename = \"hyakunin.json\"\n",
    "if not os.path.exists(url):\n",
    "    req.urlretrieve(url, savename)\n",
    "\n",
    "# JSONファイルを解析 --- (※2)\n",
    "# json文字列を読み込み\n",
    "data = json.load(open(savename, \"r\", encoding=\"utf-8\"))\n",
    "# あるいは...\n",
    "# s = open(savename, \"r\", encoding=\"utf-8\").read()\n",
    "# data = json.loads(s)\n",
    "\n",
    "# ランダムに一首表示 --- (※3)\n",
    "r = random.choice(data)\n",
    "print(r['kami'], r['simo'])"
   ]
  },
  {
   "cell_type": "markdown",
   "id": "27f3c447",
   "metadata": {},
   "source": [
    "## JSON形式に書き出す"
   ]
  },
  {
   "cell_type": "code",
   "execution_count": 2,
   "id": "8cd3199c",
   "metadata": {},
   "outputs": [
    {
     "name": "stdout",
     "output_type": "stream",
     "text": [
      "{\"date\": \"2020-05-10\", \"price\": {\"Apple\": 80, \"Orange\": 55, \"Banana\": 40}}\n"
     ]
    }
   ],
   "source": [
    "import json\n",
    "\n",
    "price = {\n",
    "    \"date\": \"2020-05-10\",\n",
    "    \"price\": {\n",
    "        \"Apple\": 80,\n",
    "        \"Orange\": 55,\n",
    "        \"Banana\": 40\n",
    "    }}\n",
    "\n",
    "s = json.dumps(price)\n",
    "print(s)"
   ]
  },
  {
   "cell_type": "code",
   "execution_count": null,
   "id": "c9e6ca32",
   "metadata": {},
   "outputs": [],
   "source": []
  }
 ],
 "metadata": {
  "kernelspec": {
   "display_name": "Python 3",
   "language": "python",
   "name": "python3"
  },
  "language_info": {
   "codemirror_mode": {
    "name": "ipython",
    "version": 3
   },
   "file_extension": ".py",
   "mimetype": "text/x-python",
   "name": "python",
   "nbconvert_exporter": "python",
   "pygments_lexer": "ipython3",
   "version": "3.8.8"
  }
 },
 "nbformat": 4,
 "nbformat_minor": 5
}
