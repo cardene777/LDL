{
 "cells": [
  {
   "cell_type": "markdown",
   "id": "e968c81c",
   "metadata": {},
   "source": [
    "# データベース\n",
    "\n",
    "- データを一元管理。\n",
    "- さまざまなデータを関連付けて格納。\n",
    "- 重複データを認めないなど制約をつけてデータを格納。\n",
    "- データの一貫性（整合性）を確保できる。\n",
    "- 複数人でデータを共有できる。\n",
    "- データへの同時アクセスを処理できる。\n",
    "- 大量のデータでも、少しずつ読み出したり、並べ替えたりできる。"
   ]
  },
  {
   "cell_type": "markdown",
   "id": "9844d689",
   "metadata": {},
   "source": [
    "## SQLite"
   ]
  },
  {
   "cell_type": "code",
   "execution_count": 1,
   "id": "424bddcd",
   "metadata": {},
   "outputs": [
    {
     "name": "stdout",
     "output_type": "stream",
     "text": [
      "(1, 'Apple', 800)\n",
      "(2, 'Orange', 780)\n",
      "(3, 'Banana', 430)\n"
     ]
    }
   ],
   "source": [
    "import sqlite3\n",
    "\n",
    "# sqliteのデータベースに接続 --- (※1)\n",
    "dbpath = \"file/test.sqlite\"\n",
    "conn = sqlite3.connect(dbpath)\n",
    "\n",
    "# テーブルを作成し、データを挿入する --- (※2)\n",
    "cur = conn.cursor()   # データベースを操作するカーソルを取得。\n",
    "cur.executescript(\"\"\"\n",
    "/* itemsテーブルが既にあれば削除する */\n",
    "DROP TABLE IF EXISTS items;\n",
    "/* テーブルの作成 */\n",
    "CREATE TABLE items(\n",
    "    item_id INTEGER PRIMARY KEY,\n",
    "    name TEXT UNIQUE,\n",
    "    price INTEGER\n",
    ");\n",
    "/* データを挿入  */\n",
    "INSERT INTO items(name, price)VALUES('Apple', 800);\n",
    "INSERT INTO items(name, price)VALUES('Orange', 780);\n",
    "INSERT INTO items(name, price)VALUES('Banana', 430);\n",
    "\"\"\")\n",
    "# 上記の操作をデータベースに反映させる --- (※3)\n",
    "conn.commit()\n",
    "\n",
    "# データを抽出する --- (※4)\n",
    "cur = conn.cursor()\n",
    "cur.execute(\"SELECT item_id,name,price FROM items\")\n",
    "item_list = cur.fetchall()   # 全て取得。\n",
    "# 一行ずつ表示\n",
    "for it in item_list:\n",
    "    print(it)"
   ]
  },
  {
   "cell_type": "code",
   "execution_count": 2,
   "id": "9c9a068c",
   "metadata": {},
   "outputs": [
    {
     "name": "stdout",
     "output_type": "stream",
     "text": [
      "(1, 'Orange', 520)\n",
      "(3, 'Kiwi', 400)\n",
      "(6, 'Persimmon', 700)\n",
      "(7, 'Banana', 400)\n"
     ]
    }
   ],
   "source": [
    "import sqlite3\n",
    "\n",
    "# データベースに接続 --- (※1)\n",
    "filepath = \"file/test2.sqlite\"\n",
    "conn = sqlite3.connect(filepath)\n",
    "\n",
    "# テーブルを作成 --- (※2)\n",
    "cur = conn.cursor()\n",
    "cur.execute(\"DROP TABLE IF EXISTS items\") \n",
    "cur.execute(\"\"\" CREATE TABLE items (\n",
    "    item_id INTEGER PRIMARY KEY,\n",
    "    name    TEXT,\n",
    "    price   INTEGER)\"\"\")\n",
    "conn.commit()\n",
    "\n",
    "# 単発でデータを挿入 --- (※3)\n",
    "cur = conn.cursor()\n",
    "cur.execute(\n",
    "    \"INSERT INTO items (name,price) VALUES (?,?)\",   # 挿入する値を「？」を使って表現。\n",
    "    (\"Orange\", 520))\n",
    "conn.commit()\n",
    "\n",
    "# 連続でデータを挿入 --- (※4)\n",
    "cur = conn.cursor()\n",
    "data = [(\"Mango\",770), (\"Kiwi\",400), (\"Grape\",800),\n",
    "    (\"Peach\",940),(\"Persimmon\",700),(\"Banana\", 400)]\n",
    "cur.executemany(\n",
    "    \"INSERT INTO items(name,price) VALUES (?,?)\",\n",
    "    data)\n",
    "conn.commit()\n",
    "\n",
    "# 400-700円のデータを抽出して表示 --- (※5)\n",
    "cur = conn.cursor()\n",
    "price_range = (400, 700)\n",
    "cur.execute(\n",
    "    \"SELECT * FROM items WHERE price>=? AND price<=?\",\n",
    "    price_range)\n",
    "fr_list = cur.fetchall()\n",
    "for fr in fr_list:\n",
    "    print(fr)"
   ]
  },
  {
   "cell_type": "markdown",
   "id": "8b4b55a6",
   "metadata": {},
   "source": [
    "## MySQL"
   ]
  },
  {
   "cell_type": "code",
   "execution_count": 3,
   "id": "d12217f2",
   "metadata": {},
   "outputs": [],
   "source": [
    "# # ライブラリのインポート --- (※1)\n",
    "# import MySQLdb\n",
    "\n",
    "# # MySQLに接続する --- (※2)\n",
    "# conn = MySQLdb.connect(\n",
    "#     user='root',\n",
    "#     passwd='test-password',\n",
    "#     host='localhost',\n",
    "#     db='test')\n",
    "\n",
    "# # カーソルを取得する --- (※3)\n",
    "# cur = conn.cursor()\n",
    "\n",
    "# # テーブルを作成する --- (※4)\n",
    "# cur.execute('DROP TABLE IF EXISTS items')\n",
    "# cur.execute('''\n",
    "#     CREATE TABLE items (\n",
    "#         item_id INTEGER PRIMARY KEY AUTO_INCREMENT,\n",
    "#         name TEXT,\n",
    "#         price INTEGER\n",
    "#     )\n",
    "#     ''')\n",
    "\n",
    "# # データを挿入する --- (※5)\n",
    "# data = [('Banana', 300),('Mango', 640), ('Kiwi', 280)]\n",
    "# for i in data:\n",
    "#     cur.execute(\"INSERT INTO items(name,price) VALUES(%s,%s)\", i)\n",
    "\n",
    "# # データを抽出する --- (※6)\n",
    "# cur.execute(\"SELECT * FROM items\")\n",
    "# for row in cur.fetchall():\n",
    "#     print(row)"
   ]
  },
  {
   "cell_type": "markdown",
   "id": "223c7f9f",
   "metadata": {},
   "source": [
    "## TinyDB"
   ]
  },
  {
   "cell_type": "code",
   "execution_count": 4,
   "id": "b4680b2e",
   "metadata": {},
   "outputs": [
    {
     "name": "stdout",
     "output_type": "stream",
     "text": [
      "[{'name': 'Banana', 'price': 600}, {'name': 'Orange', 'price': 1200}, {'name': 'Mango', 'price': 840}, {'name': 'Banana', 'price': 600}, {'name': 'Orange', 'price': 1200}, {'name': 'Mango', 'price': 840}]\n",
      "Orange is  1200\n",
      "800円以上のもの:\n",
      "- Orange\n",
      "- Mango\n",
      "- Orange\n",
      "- Mango\n"
     ]
    }
   ],
   "source": [
    "# TinyDBを使うためライブラリのインポート\n",
    "from tinydb import TinyDB, Query\n",
    "\n",
    "# データベースに接続 --- (※1)\n",
    "filepath = \"file/test-tynydb.json\"\n",
    "db = TinyDB(filepath)\n",
    "\n",
    "# 既存のデータがあれば破棄 --- (※2)\n",
    "# db.purge_table('fruits')\n",
    "\n",
    "# テーブルを得る --- (※3)\n",
    "table = db.table('fruits')\n",
    "\n",
    "# データをデータベースに挿入 --- (※4)\n",
    "table.insert( {'name': 'Banana', 'price': 600} )\n",
    "table.insert( {'name': 'Orange', 'price': 1200} )\n",
    "table.insert( {'name': 'Mango', 'price': 840} )\n",
    "\n",
    "# 全データを抽出して表示 --- (※5)\n",
    "print(table.all())\n",
    "\n",
    "# 特定のデータを抽出して表示\n",
    "# Orangeを検索 --- (※6)\n",
    "Item = Query()\n",
    "res = table.search(Item.name == 'Orange')\n",
    "print('Orange is ', res[0]['price'])\n",
    "\n",
    "# 値段が800円以上のものを抽出 --- (※7)\n",
    "print(\"800円以上のもの:\")\n",
    "res = table.search(Item.price >= 800)\n",
    "for it in res:\n",
    "    print(\"-\", it['name'])"
   ]
  },
  {
   "cell_type": "code",
   "execution_count": null,
   "id": "a00ba266",
   "metadata": {},
   "outputs": [],
   "source": []
  }
 ],
 "metadata": {
  "kernelspec": {
   "display_name": "Python 3",
   "language": "python",
   "name": "python3"
  },
  "language_info": {
   "codemirror_mode": {
    "name": "ipython",
    "version": 3
   },
   "file_extension": ".py",
   "mimetype": "text/x-python",
   "name": "python",
   "nbconvert_exporter": "python",
   "pygments_lexer": "ipython3",
   "version": "3.8.8"
  }
 },
 "nbformat": 4,
 "nbformat_minor": 5
}
