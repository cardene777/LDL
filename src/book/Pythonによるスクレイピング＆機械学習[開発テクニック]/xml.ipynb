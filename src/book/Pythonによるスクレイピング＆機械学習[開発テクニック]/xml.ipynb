{
 "cells": [
  {
   "cell_type": "code",
   "execution_count": null,
   "id": "c0540adb",
   "metadata": {},
   "outputs": [],
   "source": [
    "from bs4 import BeautifulSoup \n",
    "import urllib.request as req\n",
    "import os.path\n",
    "import zipfile\n",
    "\n",
    "# ZIPをダウンロード --- (※1)\n",
    "url = \"https://www.city.yokohama.lg.jp/kurashi/bousai-kyukyu-bohan/bousai-saigai/bosai/data/data.files/shelter.zip\"\n",
    "savezip = \"shelter.zip\"\n",
    "savename = \"shelter.xml\"\n",
    "# 何度もダウンロードせず、ダウンロードしたファイルが存在しないときにのみダウンロードしてくる。\n",
    "if not os.path.exists(savezip):\n",
    "    req.urlretrieve(url, savezip)\n",
    "# ZIPを解凍\n",
    "with zipfile.ZipFile(savezip, 'r')as zf:\n",
    "    zf.extractall('./')\n",
    "\n",
    "# BeautifulSoupで解析 --- (※2)\n",
    "xml = open(savename, \"r\", encoding=\"utf-8\").read()\n",
    "soup = BeautifulSoup(xml, 'html.parser')\n",
    "\n",
    "# データを各区ごとに確認 --- (※3)\n",
    "info = {}\n",
    "# 任意のタグを抽出\n",
    "# タグ名は本来は大文字だが、解析するときは小文字に変換されてしまうため、小文字で指定。\n",
    "for i in soup.find_all(\"shelter\"):\n",
    "    name = i.find('name').string\n",
    "    ward = i.find('ward').string\n",
    "    addr = i.find('address').string\n",
    "    note = i.find('notes').string\n",
    "    if not (ward in info):\n",
    "        info[ward] = []\n",
    "    info[ward].append(name)\n",
    "\n",
    "# 区ごとに防災拠点を表示\n",
    "for ward in info.keys():\n",
    "    print(\"+\", ward)\n",
    "    for name in info[ward]:\n",
    "        print(\"| - \", name)"
   ]
  }
 ],
 "metadata": {
  "kernelspec": {
   "display_name": "Python 3",
   "language": "python",
   "name": "python3"
  },
  "language_info": {
   "codemirror_mode": {
    "name": "ipython",
    "version": 3
   },
   "file_extension": ".py",
   "mimetype": "text/x-python",
   "name": "python",
   "nbconvert_exporter": "python",
   "pygments_lexer": "ipython3",
   "version": "3.8.8"
  }
 },
 "nbformat": 4,
 "nbformat_minor": 5
}
