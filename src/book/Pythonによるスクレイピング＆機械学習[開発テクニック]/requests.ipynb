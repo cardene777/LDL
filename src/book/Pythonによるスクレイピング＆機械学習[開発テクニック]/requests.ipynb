{
 "cells": [
  {
   "cell_type": "markdown",
   "id": "20a3b617",
   "metadata": {},
   "source": [
    "## クッキー\n",
    "- 訪問者のPCに一時的なデータを書き込んで保存する仕組み。\n",
    "- 4096バイトと最大データが限られている。\n",
    "- また、訪問者側で容易にデータの改変が可能。\n",
    "\n",
    "## セッション\n",
    "- クッキーを使用してデータを保存するが、クッキーには訪問者に付与する固有のIDのみで、データはWebサーバー側に保存。\n",
    "- 保存データのサイズ制限を気にしなくて良い。"
   ]
  },
  {
   "cell_type": "markdown",
   "id": "8f7e7ecf",
   "metadata": {},
   "source": [
    "## 作詞掲示板からデータを取得\n",
    "[https://uta.pw/sakusibbs/](https://uta.pw/sakusibbs/)\n",
    "- ユーザー名：JS-TESTER\n",
    "- パスワード：ipCU12ySxI"
   ]
  },
  {
   "cell_type": "code",
   "execution_count": 1,
   "id": "7b600af3",
   "metadata": {},
   "outputs": [
    {
     "name": "stdout",
     "output_type": "stream",
     "text": [
      "マイページ= https://uta.pw/sakusibbs/users.php?user_id=32\n",
      "- 今日も明日もJS三昧 by JS-TESTER > post.php?mml_id=161\n",
      "- 眠ってもデバッグ by JS-TESTER > post.php?mml_id=162\n",
      "- プリンとシュークリーム by JS-TESTER > post.php?mml_id=246\n",
      "- 吾輩はテスターである by JS-TESTER > post.php?mml_id=268\n",
      "- 吾輩はテスターである　その２ by JS-TESTER > post.php?mml_id=269\n",
      "- テスト by JS-TESTER > post.php?mml_id=816\n",
      "- ぱいソング by JS-TESTER > post.php?mml_id=845\n",
      "- Learning Python by JS-TESTER > post.php?mml_id=938\n",
      "- Learning Python Song by JS-TESTER > post.php?mml_id=939\n",
      "- 詠み人知らず by 吟遊詩人に成れない > post.php?mml_id=979\n",
      "- 春はそこまで by 吟遊詩人に成れない > post.php?mml_id=983\n",
      "- 色情熱情・嗚呼純情 by 月城 麻里奈 > post.php?mml_id=936\n",
      "- 儚い愛はかすみ色 by 月城 麻里奈 > post.php?mml_id=945\n",
      "- kusa by marimo > post.php?mml_id=915\n",
      "- テストとはテスト by クジラ飛行机 > post.php?mml_id=421\n",
      "- Jump out, yourself! by Shibu-gack > post.php?mml_id=842\n",
      "- Higher!!!! by Shibu-gack > post.php?mml_id=843\n",
      "- Runner tomorrow by Shibu-gack > post.php?mml_id=844\n",
      "- Berry love by Shibu-gack > post.php?mml_id=847\n",
      "- Grab! by Shibu-gack > post.php?mml_id=848\n",
      "- Cry, Fly, Try by Shibu-gack > post.php?mml_id=851\n",
      "- Shout out loud by Shibu-gack > post.php?mml_id=852\n",
      "- The goal is in front of you by Shibu-gack > post.php?mml_id=853\n",
      "- Promises made by Shibu-gack > post.php?mml_id=856\n",
      "- Towards the future by Shibu-gack > post.php?mml_id=863\n",
      "- Flapping into the sky by Shibu-gack > post.php?mml_id=874\n",
      "- Never fade memories by Shibu-gack > post.php?mml_id=879\n",
      "- いっぽいっぽ by Shibu-gack > post.php?mml_id=888\n",
      "- decoration by Shibu-gack > post.php?mml_id=890\n",
      "- Phalaenopsis orchid by Shibu-gack > post.php?mml_id=899\n",
      "- ♪ 涙のしずく by 歌うんだパンダ > post.php?mml_id=905\n",
      "- ZIRETAI 愛だから by 月城 麻里奈 > post.php?mml_id=884\n",
      "- この愛を邪魔しないで by 月城 麻里奈 > post.php?mml_id=885\n",
      "- 友達以上になれなくて by 月城 麻里奈 > post.php?mml_id=887\n",
      "- 海辺の風はあなた色 by 月城 麻里奈 > post.php?mml_id=894\n",
      "- 死んじゃうほどの愛を by 月城 麻里奈 > post.php?mml_id=895\n",
      "- 儚い愛のReflection by 月城 麻里奈 > post.php?mml_id=896\n",
      "- 狂おしい愛のセレナーデ by 月城 麻里奈 > post.php?mml_id=897\n",
      "- 禁断のラプソディー by 月城 麻里奈 > post.php?mml_id=898\n",
      "- 愛してるでもウソつきね by 月城 麻里奈 > post.php?mml_id=900\n",
      "- 貴方に愛されていたくて by 月城 麻里奈 > post.php?mml_id=901\n",
      "- ×５の愛情 by 月城 麻里奈 > post.php?mml_id=902\n",
      "- 真夏の太陽が妬いている by 月城 麻里奈 > post.php?mml_id=903\n",
      "- いけない愛を知りたい by 月城 麻里奈 > post.php?mml_id=893\n",
      "- I said ''Thanks'' by Shibu-gack > post.php?mml_id=892\n",
      "- Happy journey by Shibu-gack > post.php?mml_id=881\n",
      "- ひとりじゃない - Tyobi a long side Yulala by Tyobi > post.php?mml_id=882\n"
     ]
    }
   ],
   "source": [
    "# 作詞掲示板にログインしてお気に入りの詞を取得する\n",
    "import requests\n",
    "from bs4 import BeautifulSoup\n",
    "from urllib.parse import urljoin\n",
    "\n",
    "# ユーザー名とパスワードの指定 --- (※1)\n",
    "USER = \"JS-TESTER\"\n",
    "PASS = \"ipCU12ySxI\"\n",
    "\n",
    "# セッションを開始 --- (※2)\n",
    "session = requests.session()\n",
    "\n",
    "# ログイン --- (※3)\n",
    "login_info = {\n",
    "    \"username_mmlbbs6\": USER,  # ユーザー名を指定\n",
    "    \"password_mmlbbs6\": PASS,  # パスワードを指定\n",
    "    \"back\": \"index.php\",       # ログイン時に指定する値\n",
    "    \"mml_id\": \"0\"              # ログイン時に指定する値\n",
    "}\n",
    "url_login = \"https://uta.pw/sakusibbs/users.php?action=login&m=try\"\n",
    "res = session.post(url_login, data=login_info)\n",
    "res.raise_for_status() # エラーならここで例外を発生させる\n",
    "\n",
    "# マイページのURLをピックアップする --- (※4)\n",
    "soup = BeautifulSoup(res.text, \"html.parser\")\n",
    "a = soup.select_one(\".islogin a\")\n",
    "if a is None:\n",
    "    print(\"マイページが取得できませんでした\")\n",
    "    quit()\n",
    "# 相対URLを絶対URLに変換\n",
    "url_mypage = urljoin(url_login, a.attrs[\"href\"]) \n",
    "print(\"マイページ=\", url_mypage)\n",
    "\n",
    "# マイページにアクセス --- (※5)\n",
    "res = session.get(url_mypage)\n",
    "res.raise_for_status()\n",
    "\n",
    "# お気に入りの詞のタイトルを列挙 --- (※6)\n",
    "soup = BeautifulSoup(res.text, \"html.parser\")\n",
    "links = soup.select(\"#favlist li > a\")\n",
    "for a in links:\n",
    "    href = a.attrs[\"href\"]\n",
    "    title = a.get_text()\n",
    "    print(\"-\", title, \">\", href)"
   ]
  },
  {
   "cell_type": "markdown",
   "id": "ec66aca8",
   "metadata": {},
   "source": [
    "## requestsモジュール\n",
    "\n",
    "```\n",
    "# GETメソッドを送信\n",
    "r = requests.get(\"https://google.com\")\n",
    "# POSTメソッド送信\n",
    "formdata = {\"key1\": \"value1\", \"key2\": \"value2\"}\n",
    "r = requests.post(\"https://example.com\", data=formdata)\n",
    "\n",
    "r = requests.put(\"https://httpbin.org/put\", data=formdata)\n",
    "r = requests.delete(\"https://httpbin.org/delete\", data=formdata)\n",
    "r = requests.head(\"https://httpbin.org/get\", data=formdata)\n",
    "```"
   ]
  },
  {
   "cell_type": "markdown",
   "id": "8de62f32",
   "metadata": {},
   "source": [
    "### 現在時刻のデータを取得して、取得したデータをテキスト形式とバイナリー形式で表示"
   ]
  },
  {
   "cell_type": "code",
   "execution_count": 2,
   "id": "f0cddde1",
   "metadata": {},
   "outputs": [
    {
     "name": "stdout",
     "output_type": "stream",
     "text": [
      "2021/04/21 09:23:28\n",
      "b'2021/04/21 09:23:28'\n"
     ]
    }
   ],
   "source": [
    "# データを取得\n",
    "import requests\n",
    "r = requests.get(\"https://api.aoikujira.com/time/get.php\")\n",
    "\n",
    "# テキスト形式でデータを得る\n",
    "text = r.text\n",
    "print(text)\n",
    "\n",
    "# バイナリ形式でデータを得る\n",
    "bin = r.content\n",
    "print(bin)"
   ]
  },
  {
   "cell_type": "code",
   "execution_count": 3,
   "id": "0758053e",
   "metadata": {},
   "outputs": [
    {
     "name": "stdout",
     "output_type": "stream",
     "text": [
      "saved\n"
     ]
    }
   ],
   "source": [
    "# 画像データを取得\n",
    "import requests\n",
    "r = requests.get(\"https://uta.pw/shodou/img/3/3.png\")\n",
    "\n",
    "# バイナリ形式でデータを得て保存\n",
    "with open(\"images/test.png\", \"wb\") as f:\n",
    "    f.write(r.content)\n",
    "\n",
    "print(\"saved\")"
   ]
  },
  {
   "cell_type": "code",
   "execution_count": null,
   "id": "f9f3477f",
   "metadata": {},
   "outputs": [],
   "source": []
  }
 ],
 "metadata": {
  "kernelspec": {
   "display_name": "Python 3",
   "language": "python",
   "name": "python3"
  },
  "language_info": {
   "codemirror_mode": {
    "name": "ipython",
    "version": 3
   },
   "file_extension": ".py",
   "mimetype": "text/x-python",
   "name": "python",
   "nbconvert_exporter": "python",
   "pygments_lexer": "ipython3",
   "version": "3.8.8"
  }
 },
 "nbformat": 4,
 "nbformat_minor": 5
}
