{
 "cells": [
  {
   "cell_type": "markdown",
   "id": "806d35a8",
   "metadata": {},
   "source": [
    "```\n",
    "scrapy genspider getall uta.pw\n",
    "```"
   ]
  },
  {
   "cell_type": "code",
   "execution_count": 1,
   "id": "af1689d0",
   "metadata": {},
   "outputs": [
    {
     "name": "stdout",
     "output_type": "stream",
     "text": [
      "Created spider 'getall' using template 'basic' in module:\r\n",
      "  sakusibbs.spiders.getall\r\n"
     ]
    }
   ],
   "source": [
    "!scrapy genspider getall uta.pw"
   ]
  },
  {
   "cell_type": "code",
   "execution_count": null,
   "id": "ac73149a",
   "metadata": {},
   "outputs": [],
   "source": [
    "!scrapy crawl getall"
   ]
  }
 ],
 "metadata": {
  "kernelspec": {
   "display_name": "Python 3",
   "language": "python",
   "name": "python3"
  },
  "language_info": {
   "codemirror_mode": {
    "name": "ipython",
    "version": 3
   },
   "file_extension": ".py",
   "mimetype": "text/x-python",
   "name": "python",
   "nbconvert_exporter": "python",
   "pygments_lexer": "ipython3",
   "version": "3.8.8"
  }
 },
 "nbformat": 4,
 "nbformat_minor": 5
}
