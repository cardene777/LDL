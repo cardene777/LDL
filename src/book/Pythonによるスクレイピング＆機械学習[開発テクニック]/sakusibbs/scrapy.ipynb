{
 "cells": [
  {
   "cell_type": "markdown",
   "id": "ef89ac9d",
   "metadata": {},
   "source": [
    "```\n",
    "scrapy genspider getall uta.pw\n",
    "```"
   ]
  },
  {
   "cell_type": "code",
   "execution_count": 1,
   "id": "4716eda9",
   "metadata": {},
   "outputs": [
    {
     "name": "stdout",
     "output_type": "stream",
     "text": [
      "Created spider 'getall' using template 'basic' in module:\r\n",
      "  sakusibbs.spiders.getall\r\n"
     ]
    }
   ],
   "source": [
    "!scrapy genspider getall uta.pw"
   ]
  },
  {
   "cell_type": "code",
   "execution_count": null,
   "id": "74a72944",
   "metadata": {},
   "outputs": [],
   "source": [
    "!scrapy crawl getall"
   ]
  }
 ],
 "metadata": {
  "kernelspec": {
   "display_name": "Python 3",
   "language": "python",
   "name": "python3"
  },
  "language_info": {
   "codemirror_mode": {
    "name": "ipython",
    "version": 3
   },
   "file_extension": ".py",
   "mimetype": "text/x-python",
   "name": "python",
   "nbconvert_exporter": "python",
   "pygments_lexer": "ipython3",
   "version": "3.8.8"
  }
 },
 "nbformat": 4,
 "nbformat_minor": 5
}
