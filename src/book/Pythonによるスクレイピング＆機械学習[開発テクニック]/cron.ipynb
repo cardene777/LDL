{
 "cells": [
  {
   "cell_type": "code",
   "execution_count": 1,
   "id": "9fb2b87a",
   "metadata": {},
   "outputs": [
    {
     "name": "stdout",
     "output_type": "stream",
     "text": [
      "1USD=108.11373JPY\n"
     ]
    }
   ],
   "source": [
    "import urllib.request as request\n",
    "import datetime\n",
    "import json\n",
    "\n",
    "# Web APIにアクセス\n",
    "API = \"https://api.aoikujira.com/kawase/get.php?code=USD&format=json\"\n",
    "json_str = request.urlopen(API).read().decode(\"utf-8\")\n",
    "data = json.loads(json_str)\n",
    "print(\"1USD=\"+data[\"JPY\"]+\"JPY\")\n",
    "\n",
    "# 保存ファイル名を決定\n",
    "t = datetime.date.today()\n",
    "fname = t.strftime(\"%Y-%m-%d\") + \".json\"\n",
    "with open(fname, \"w\", encoding=\"utf-8\") as f:\n",
    "    f.write(json_str)"
   ]
  },
  {
   "cell_type": "code",
   "execution_count": null,
   "id": "771e4f41",
   "metadata": {},
   "outputs": [],
   "source": []
  }
 ],
 "metadata": {
  "kernelspec": {
   "display_name": "Python 3",
   "language": "python",
   "name": "python3"
  },
  "language_info": {
   "codemirror_mode": {
    "name": "ipython",
    "version": 3
   },
   "file_extension": ".py",
   "mimetype": "text/x-python",
   "name": "python",
   "nbconvert_exporter": "python",
   "pygments_lexer": "ipython3",
   "version": "3.8.8"
  }
 },
 "nbformat": 4,
 "nbformat_minor": 5
}
