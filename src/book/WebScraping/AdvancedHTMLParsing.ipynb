{
 "cells": [
  {
   "cell_type": "code",
   "execution_count": 1,
   "id": "8104363b",
   "metadata": {},
   "outputs": [],
   "source": [
    "from urllib.request import urlopen\n",
    "from bs4 import BeautifulSoup\n",
    "html = urlopen('http://www.pythonscraping.com/pages/warandpeace.html')\n",
    "bs = BeautifulSoup(html, \"html.parser\")"
   ]
  },
  {
   "cell_type": "code",
   "execution_count": 2,
   "id": "630aaa9e",
   "metadata": {},
   "outputs": [
    {
     "name": "stdout",
     "output_type": "stream",
     "text": [
      "Anna\n",
      "Pavlovna Scherer\n",
      "Empress Marya\n",
      "Fedorovna\n",
      "Prince Vasili Kuragin\n",
      "Anna Pavlovna\n",
      "St. Petersburg\n",
      "the prince\n",
      "Anna Pavlovna\n",
      "Anna Pavlovna\n",
      "the prince\n",
      "the prince\n",
      "the prince\n",
      "Prince Vasili\n",
      "Anna Pavlovna\n",
      "Anna Pavlovna\n",
      "the prince\n",
      "Wintzingerode\n",
      "King of Prussia\n",
      "le Vicomte de Mortemart\n",
      "Montmorencys\n",
      "Rohans\n",
      "Abbe Morio\n",
      "the Emperor\n",
      "the prince\n",
      "Prince Vasili\n",
      "Dowager Empress Marya Fedorovna\n",
      "the baron\n",
      "Anna Pavlovna\n",
      "the Empress\n",
      "the Empress\n",
      "Anna Pavlovna's\n",
      "Her Majesty\n",
      "Baron\n",
      "Funke\n",
      "The prince\n",
      "Anna\n",
      "Pavlovna\n",
      "the Empress\n",
      "The prince\n",
      "Anatole\n",
      "the prince\n",
      "The prince\n",
      "Anna\n",
      "Pavlovna\n",
      "Anna Pavlovna\n"
     ]
    }
   ],
   "source": [
    "# リストで取得して出力\n",
    "nameList = bs.findAll('span', {'class': 'green'})\n",
    "for name in nameList:\n",
    "    print(name.get_text())   # タグからコンテンツを分離\n",
    "\n",
    "# get_text()はタグを取り除いてしまうため、印刷、格納、最終データの処理の直前で用いる。\n",
    "# タグ情報はできるだけ長く保持しておいた方が良い。"
   ]
  },
  {
   "cell_type": "markdown",
   "id": "cbdedc96",
   "metadata": {},
   "source": [
    "## find()\n",
    "\n",
    "```python\n",
    "find(tag, attributes, recursive, text, ketwords)\n",
    "```\n",
    "\n",
    "\n",
    "\n",
    "## findAll()\n",
    "\n",
    "```python\n",
    "findAll(tag, attributes, recursive, text, limit, ketwords)\n",
    "```\n",
    "\n",
    "## 引数\n",
    "- tag\n",
    "    - タグの文字列やタグ名文字列のPythonリストを渡せる。\n",
    "    ```python\n",
    "    .findAll({\"h1\", \"h2\", \"h3\", ...})   # h1, h2, h3, ...を返す。\n",
    "    ```\n",
    "- attributes\n",
    "    - 属性のPython辞書をとって、その中の属性のいずれかを含むタグに対応させる。\n",
    "    ```python\n",
    "    .findAll(\"span\", {\"class\": {\"green\"m \"red\"}})   # class名が\"green\"と\"red\"のspanタグを返す。\n",
    "    ```\n",
    "- recursive\n",
    "    - 論理値を取る。\n",
    "    - 文書のレイヤーのどこまで深く探したいかを指定。\n",
    "    - Trueならどんどん下まで見ていき(再帰的)、Falseならトップしか見ない。\n",
    "- text\n",
    "    - タグの性質そのものではなく、タグのテキストコンテンツが合致するか検討する。\n",
    "    - コンテンツでfilterをかけるイメージ。\n",
    "    ```python\n",
    "    .findAll(text=\"~\")   # ~でコンテンツにフィルターをかけてリストで取得。\n",
    "    ```\n",
    "- limit\n",
    "    - ページから最初のx個の要素だけ取り出したいという指定方法。\n",
    "    - findは「limit=1」と同じ。\n",
    "    - ページの中の順番で最初から数えることに注意。\n",
    "- ketwords\n",
    "    - 特別な属性や属性集合を持つタグを選ぶことができる。\n",
    "    ```python\n",
    "    .findAll(id=\"title\", class=\"text\")   # id属性が\"title\"で、class属性が\"text\"のものを取得。\n",
    "    ```\n",
    "    \n",
    "```python\n",
    ".findAll(id=\"text\")\n",
    ".findAll(\"\", {\"id\": \"text\"})\n",
    "\n",
    ".findAll(class_=\"green\")\n",
    ".findAll(\"\", {\"class\": \"green\"})\n",
    "```\n",
    "\n",
    "## BeautifulSoupのオブジェクト\n",
    "- BeautifulSoupオブジェクト\n",
    "- Tagオブジェクト\n",
    "     - findやfindAllを呼び出して得られる個別オブジェクトまたはオブジェクトのリスト、あるいは「bsObj.div.h1」のようにドリルダウンして得られるもの。\n",
    "- NavigablesStringオブジェクト\n",
    "    - タグそのものではなく、タグ内のテキストを表現するのに使用される。\n",
    "    - 関数によっては、tagオブジェクトではなく、NavigablesStringを生成したり、操作するのがある。\n",
    "- Commentオブジェクト\n",
    "    - コメントタグにおいてHTMLコメントを見つけるために使用。"
   ]
  },
  {
   "cell_type": "markdown",
   "id": "53231878",
   "metadata": {},
   "source": [
    "## 子供を見つける"
   ]
  },
  {
   "cell_type": "code",
   "execution_count": 3,
   "id": "7b2d990a",
   "metadata": {},
   "outputs": [
    {
     "name": "stdout",
     "output_type": "stream",
     "text": [
      "\n",
      "\n",
      "<tr><th>\n",
      "Item Title\n",
      "</th><th>\n",
      "Description\n",
      "</th><th>\n",
      "Cost\n",
      "</th><th>\n",
      "Image\n",
      "</th></tr>\n",
      "\n",
      "\n",
      "<tr class=\"gift\" id=\"gift1\"><td>\n",
      "Vegetable Basket\n",
      "</td><td>\n",
      "This vegetable basket is the perfect gift for your health conscious (or overweight) friends!\n",
      "<span class=\"excitingNote\">Now with super-colorful bell peppers!</span>\n",
      "</td><td>\n",
      "$15.00\n",
      "</td><td>\n",
      "<img src=\"../img/gifts/img1.jpg\"/>\n",
      "</td></tr>\n",
      "\n",
      "\n",
      "<tr class=\"gift\" id=\"gift2\"><td>\n",
      "Russian Nesting Dolls\n",
      "</td><td>\n",
      "Hand-painted by trained monkeys, these exquisite dolls are priceless! And by \"priceless,\" we mean \"extremely expensive\"! <span class=\"excitingNote\">8 entire dolls per set! Octuple the presents!</span>\n",
      "</td><td>\n",
      "$10,000.52\n",
      "</td><td>\n",
      "<img src=\"../img/gifts/img2.jpg\"/>\n",
      "</td></tr>\n",
      "\n",
      "\n",
      "<tr class=\"gift\" id=\"gift3\"><td>\n",
      "Fish Painting\n",
      "</td><td>\n",
      "If something seems fishy about this painting, it's because it's a fish! <span class=\"excitingNote\">Also hand-painted by trained monkeys!</span>\n",
      "</td><td>\n",
      "$10,005.00\n",
      "</td><td>\n",
      "<img src=\"../img/gifts/img3.jpg\"/>\n",
      "</td></tr>\n",
      "\n",
      "\n",
      "<tr class=\"gift\" id=\"gift4\"><td>\n",
      "Dead Parrot\n",
      "</td><td>\n",
      "This is an ex-parrot! <span class=\"excitingNote\">Or maybe he's only resting?</span>\n",
      "</td><td>\n",
      "$0.50\n",
      "</td><td>\n",
      "<img src=\"../img/gifts/img4.jpg\"/>\n",
      "</td></tr>\n",
      "\n",
      "\n",
      "<tr class=\"gift\" id=\"gift5\"><td>\n",
      "Mystery Box\n",
      "</td><td>\n",
      "If you love suprises, this mystery box is for you! Do not place on light-colored surfaces. May cause oil staining. <span class=\"excitingNote\">Keep your friends guessing!</span>\n",
      "</td><td>\n",
      "$1.50\n",
      "</td><td>\n",
      "<img src=\"../img/gifts/img6.jpg\"/>\n",
      "</td></tr>\n",
      "\n",
      "\n"
     ]
    }
   ],
   "source": [
    "from urllib.request import urlopen\n",
    "from bs4 import BeautifulSoup\n",
    "\n",
    "html = urlopen('http://www.pythonscraping.com/pages/page3.html')\n",
    "bs = BeautifulSoup(html, 'html.parser')\n",
    "\n",
    "for child in bs.find('table',{'id':'giftList'}).children:   # childrenで子である子孫を指定。\n",
    "    print(child)"
   ]
  },
  {
   "cell_type": "markdown",
   "id": "f19290b1",
   "metadata": {},
   "source": [
    "## 兄弟を見つける"
   ]
  },
  {
   "cell_type": "code",
   "execution_count": 4,
   "id": "17511756",
   "metadata": {},
   "outputs": [
    {
     "name": "stdout",
     "output_type": "stream",
     "text": [
      "\n",
      "\n",
      "<tr class=\"gift\" id=\"gift1\"><td>\n",
      "Vegetable Basket\n",
      "</td><td>\n",
      "This vegetable basket is the perfect gift for your health conscious (or overweight) friends!\n",
      "<span class=\"excitingNote\">Now with super-colorful bell peppers!</span>\n",
      "</td><td>\n",
      "$15.00\n",
      "</td><td>\n",
      "<img src=\"../img/gifts/img1.jpg\"/>\n",
      "</td></tr>\n",
      "\n",
      "\n",
      "<tr class=\"gift\" id=\"gift2\"><td>\n",
      "Russian Nesting Dolls\n",
      "</td><td>\n",
      "Hand-painted by trained monkeys, these exquisite dolls are priceless! And by \"priceless,\" we mean \"extremely expensive\"! <span class=\"excitingNote\">8 entire dolls per set! Octuple the presents!</span>\n",
      "</td><td>\n",
      "$10,000.52\n",
      "</td><td>\n",
      "<img src=\"../img/gifts/img2.jpg\"/>\n",
      "</td></tr>\n",
      "\n",
      "\n",
      "<tr class=\"gift\" id=\"gift3\"><td>\n",
      "Fish Painting\n",
      "</td><td>\n",
      "If something seems fishy about this painting, it's because it's a fish! <span class=\"excitingNote\">Also hand-painted by trained monkeys!</span>\n",
      "</td><td>\n",
      "$10,005.00\n",
      "</td><td>\n",
      "<img src=\"../img/gifts/img3.jpg\"/>\n",
      "</td></tr>\n",
      "\n",
      "\n",
      "<tr class=\"gift\" id=\"gift4\"><td>\n",
      "Dead Parrot\n",
      "</td><td>\n",
      "This is an ex-parrot! <span class=\"excitingNote\">Or maybe he's only resting?</span>\n",
      "</td><td>\n",
      "$0.50\n",
      "</td><td>\n",
      "<img src=\"../img/gifts/img4.jpg\"/>\n",
      "</td></tr>\n",
      "\n",
      "\n",
      "<tr class=\"gift\" id=\"gift5\"><td>\n",
      "Mystery Box\n",
      "</td><td>\n",
      "If you love suprises, this mystery box is for you! Do not place on light-colored surfaces. May cause oil staining. <span class=\"excitingNote\">Keep your friends guessing!</span>\n",
      "</td><td>\n",
      "$1.50\n",
      "</td><td>\n",
      "<img src=\"../img/gifts/img6.jpg\"/>\n",
      "</td></tr>\n",
      "\n",
      "\n"
     ]
    }
   ],
   "source": [
    "from urllib.request import urlopen\n",
    "from bs4 import BeautifulSoup\n",
    "\n",
    "html = urlopen('http://www.pythonscraping.com/pages/page3.html')\n",
    "bs = BeautifulSoup(html, 'html.parser')\n",
    "\n",
    "for sibling in bs.find('table', {'id':'giftList'}).tr.next_siblings:   # 次の表の兄弟を取得\n",
    "    print(sibling)"
   ]
  },
  {
   "cell_type": "markdown",
   "id": "34960ed4",
   "metadata": {},
   "source": [
    "- previous_siblings : next_siblingsを補うために、得たい兄弟タグのリストの末尾のタグを選ぶ場合に役立つ。\n",
    "- next_sibling, previous_siblings : タグを１つだけ返す。"
   ]
  },
  {
   "cell_type": "code",
   "execution_count": 6,
   "id": "355b70b6",
   "metadata": {},
   "outputs": [
    {
     "name": "stdout",
     "output_type": "stream",
     "text": [
      "\n",
      "\n"
     ]
    }
   ],
   "source": [
    "from urllib.request import urlopen\n",
    "from bs4 import BeautifulSoup\n",
    "\n",
    "html = urlopen('http://www.pythonscraping.com/pages/page3.html')\n",
    "bs = BeautifulSoup(html, 'html.parser')\n",
    "\n",
    "print(bs.find('table', {'id':'giftList'}).tr.next_sibling)"
   ]
  },
  {
   "cell_type": "markdown",
   "id": "5ff62909",
   "metadata": {},
   "source": [
    "## 親を見つける\n",
    "\n",
    "```html\n",
    "<tr>\n",
    "    <td>\n",
    "    </td>\n",
    "    <td>\n",
    "    </td>\n",
    "    <td>\n",
    "        <p>$15.00</p>\n",
    "    </td>\n",
    "    <td>\n",
    "        <img src=\"../img/gifts/img1.jpg\">\n",
    "    </td>\n",
    "</tr>\n",
    "    "
   ]
  },
  {
   "cell_type": "code",
   "execution_count": 7,
   "id": "465ff1cd",
   "metadata": {},
   "outputs": [
    {
     "name": "stdout",
     "output_type": "stream",
     "text": [
      "\n",
      "$15.00\n",
      "\n"
     ]
    }
   ],
   "source": [
    "from urllib.request import urlopen\n",
    "from bs4 import BeautifulSoup\n",
    "\n",
    "html = urlopen('http://www.pythonscraping.com/pages/page3.html')\n",
    "bs = BeautifulSoup(html, 'html.parser')\n",
    "print(bs.find('img',\n",
    "              {'src':'../img/gifts/img1.jpg'})   # imgタグの１つ上のタグの１つ前のタグを選択し、その中のテキストを取得。\n",
    "      .parent.previous_sibling.get_text())"
   ]
  },
  {
   "cell_type": "markdown",
   "id": "5712a382",
   "metadata": {},
   "source": [
    "## 正規表現"
   ]
  },
  {
   "cell_type": "code",
   "execution_count": 8,
   "id": "6d624f7e",
   "metadata": {},
   "outputs": [
    {
     "name": "stdout",
     "output_type": "stream",
     "text": [
      "../img/gifts/img1.jpg\n",
      "../img/gifts/img2.jpg\n",
      "../img/gifts/img3.jpg\n",
      "../img/gifts/img4.jpg\n",
      "../img/gifts/img6.jpg\n"
     ]
    }
   ],
   "source": [
    "from urllib.request import urlopen\n",
    "from bs4 import BeautifulSoup\n",
    "import re\n",
    "\n",
    "html = urlopen('http://www.pythonscraping.com/pages/page3.html')\n",
    "bs = BeautifulSoup(html, 'html.parser')\n",
    "images = bs.find_all('img', {'src':re.compile('\\.\\.\\/img\\/gifts/img.*\\.jpg')})\n",
    "for image in images: \n",
    "    print(image['src'])"
   ]
  },
  {
   "cell_type": "code",
   "execution_count": null,
   "id": "68ed0a1e",
   "metadata": {},
   "outputs": [],
   "source": []
  }
 ],
 "metadata": {
  "kernelspec": {
   "display_name": "Python 3",
   "language": "python",
   "name": "python3"
  },
  "language_info": {
   "codemirror_mode": {
    "name": "ipython",
    "version": 3
   },
   "file_extension": ".py",
   "mimetype": "text/x-python",
   "name": "python",
   "nbconvert_exporter": "python",
   "pygments_lexer": "ipython3",
   "version": "3.8.8"
  }
 },
 "nbformat": 4,
 "nbformat_minor": 5
}
