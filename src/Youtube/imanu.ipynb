{
 "cells": [
  {
   "cell_type": "code",
   "execution_count": 1,
   "id": "8c9e4f68",
   "metadata": {},
   "outputs": [],
   "source": [
    "from selenium import webdriver\n",
    "from time import sleep"
   ]
  },
  {
   "cell_type": "code",
   "execution_count": 2,
   "id": "e1cf638c",
   "metadata": {},
   "outputs": [],
   "source": [
    "# browser = webdriver.Chrome()\n",
    "# url = \"https://scraping-for-beginner.herokuapp.com/login_page\"\n",
    "# browser.get(url)\n",
    "\n",
    "# # 場所の取得\n",
    "# elem_username = browser.find_element_by_id(\"username\")\n",
    "\n",
    "# # ID入力\n",
    "# elem_username.send_keys(\"imanishi\")\n",
    "\n",
    "# # パスワード入力\n",
    "# elem_password = browser.find_element_by_id(\"password\")\n",
    "# elem_password.send_keys(\"kohei\")\n",
    "\n",
    "# # ログインボタンクリック\n",
    "# elem_login_btn = browser.find_element_by_id(\"login-btn\")\n",
    "# elem_login_btn.click()"
   ]
  },
  {
   "cell_type": "code",
   "execution_count": 3,
   "id": "4894a92a",
   "metadata": {},
   "outputs": [],
   "source": [
    "# ヘッドレスモード\n",
    "from selenium.webdriver.chrome.options import Options\n",
    "\n",
    "options = Options()\n",
    "options.add_argument(\"--headless\")\n",
    "\n",
    "browser = webdriver.Chrome(options=options)\n",
    "url = \"https://scraping-for-beginner.herokuapp.com/login_page\"\n",
    "browser.get(url)\n",
    "\n",
    "# 場所の取得\n",
    "elem_username = browser.find_element_by_id(\"username\")\n",
    "\n",
    "# ID入力\n",
    "elem_username.send_keys(\"imanishi\")\n",
    "\n",
    "# パスワード入力\n",
    "elem_password = browser.find_element_by_id(\"password\")\n",
    "elem_password.send_keys(\"kohei\")\n",
    "\n",
    "# ログインボタンクリック\n",
    "elem_login_btn = browser.find_element_by_id(\"login-btn\")\n",
    "elem_login_btn.click()\n",
    "browser.quit()"
   ]
  },
  {
   "cell_type": "code",
   "execution_count": null,
   "id": "8c81f992",
   "metadata": {},
   "outputs": [],
   "source": []
  }
 ],
 "metadata": {
  "kernelspec": {
   "display_name": "Python 3",
   "language": "python",
   "name": "python3"
  },
  "language_info": {
   "codemirror_mode": {
    "name": "ipython",
    "version": 3
   },
   "file_extension": ".py",
   "mimetype": "text/x-python",
   "name": "python",
   "nbconvert_exporter": "python",
   "pygments_lexer": "ipython3",
   "version": "3.8.8"
  }
 },
 "nbformat": 4,
 "nbformat_minor": 5
}
