{
 "cells": [
  {
   "cell_type": "markdown",
   "id": "bb09b27d",
   "metadata": {},
   "source": [
    "# 正規表現\n",
    "- メールアドレス\n",
    "    | 規則 | 正規表現 | 解説 |\n",
    "    | :--- | :--- | :--- |\n",
    "    | 最初の部分は「大文字・小文字・数字0-9、ピリオド、ブラス記号、下線」を含む。 | [A-Za-z0-9\\._+]+ | []の中のものがいくつあってもよいが、少なくとも１つはあること(+) |\n",
    "    | @を含む | @ | １つのみ |\n",
    "    | 少なくとも１つの大文字か小文字を含む | [A-Za-z]+ | []の中のものがいくつあってもよいが、少なくとも１つはあること(+) |\n",
    "    | ピリオド | \\. | ドメイン直線にピリオドを含む |\n",
    "    | ドメイン名 | (com, org, edu, net) | どれかを含む |\n",
    "    \n",
    "    ```python\n",
    "    [A-Za-z0-9\\._+]+@[A-Za-z]+\\.(com|org|edu|net) \n",
    "    ```\n"
   ]
  },
  {
   "cell_type": "code",
   "execution_count": null,
   "id": "2e3de355",
   "metadata": {},
   "outputs": [],
   "source": []
  }
 ],
 "metadata": {
  "kernelspec": {
   "display_name": "Python 3",
   "language": "python",
   "name": "python3"
  },
  "language_info": {
   "codemirror_mode": {
    "name": "ipython",
    "version": 3
   },
   "file_extension": ".py",
   "mimetype": "text/x-python",
   "name": "python",
   "nbconvert_exporter": "python",
   "pygments_lexer": "ipython3",
   "version": "3.8.8"
  }
 },
 "nbformat": 4,
 "nbformat_minor": 5
}
