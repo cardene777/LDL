{
 "cells": [
  {
   "cell_type": "markdown",
   "id": "fbe1142e",
   "metadata": {},
   "source": [
    "- lxml\n",
    "    - 効率的なXMLおよびHTMLパーサー\n",
    "\n",
    "- parsel\n",
    "    - lxmlで記述されたHTML/XMLデータ抽出ライブラリ\n",
    "\n",
    "- w3lib\n",
    "    - URLとWebページのエンコーディングを扱うための多目的ヘルパー\n",
    "\n",
    "- twisted \n",
    "    - 非同期ネットワーキングフレームワーク\n",
    "\n",
    "- さまざまなネットワークレベルのセキュリティニーズに対処するための cryptography (暗号化) と pyOpenSSL"
   ]
  }
 ],
 "metadata": {
  "kernelspec": {
   "display_name": "Python 3",
   "language": "python",
   "name": "python3"
  },
  "language_info": {
   "codemirror_mode": {
    "name": "ipython",
    "version": 3
   },
   "file_extension": ".py",
   "mimetype": "text/x-python",
   "name": "python",
   "nbconvert_exporter": "python",
   "pygments_lexer": "ipython3",
   "version": "3.8.8"
  }
 },
 "nbformat": 4,
 "nbformat_minor": 5
}
