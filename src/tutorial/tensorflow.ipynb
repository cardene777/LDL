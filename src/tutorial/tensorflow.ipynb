{
 "cells": [
  {
   "cell_type": "markdown",
   "id": "224add7a",
   "metadata": {},
   "source": [
    "# 初心者のための TensorFlow 2.0 入門"
   ]
  },
  {
   "cell_type": "code",
   "execution_count": 1,
   "id": "cd984830",
   "metadata": {},
   "outputs": [],
   "source": [
    "import tensorflow as tf\n",
    "import os\n",
    "os.environ['KMP_DUPLICATE_LIB_OK']='TRUE'"
   ]
  },
  {
   "cell_type": "code",
   "execution_count": 2,
   "id": "b9ff9ed5",
   "metadata": {},
   "outputs": [],
   "source": [
    "# mnistデータ取得\n",
    "mnist = tf.keras.datasets.mnist\n",
    "\n",
    "# 学習データと検証データに分割\n",
    "(x_train, y_train), (x_test, y_test) = mnist.load_data()\n",
    "x_train, x_test = x_train / 255.0, x_test / 255.0"
   ]
  },
  {
   "cell_type": "code",
   "execution_count": 3,
   "id": "fa988998",
   "metadata": {},
   "outputs": [],
   "source": [
    "model = tf.keras.models.Sequential([\n",
    "  tf.keras.layers.Flatten(input_shape=(28, 28)),   # 28x28の２次元データを784の１次元データに平滑化。\n",
    "  tf.keras.layers.Dense(128, activation='relu'),   # 出力を128に設定し、全結合。活性化関数はrelu。\n",
    "  tf.keras.layers.Dropout(0.2),   # 0.2%を次のノードに伝えない。\n",
    "  tf.keras.layers.Dense(10)   # 全結合。出力は１０分類の「１０」。\n",
    "])"
   ]
  },
  {
   "cell_type": "code",
   "execution_count": 4,
   "id": "fcf3012f",
   "metadata": {},
   "outputs": [
    {
     "name": "stdout",
     "output_type": "stream",
     "text": [
      "predictions=[[-0.44439182 -0.04019667  0.11102664  0.20543712  0.10932892  0.137478\n",
      "   0.2672064  -0.09041736  0.16276312  0.6562215 ]]\n",
      "predictions_tensor=[[-0.44439182 -0.04019667  0.11102664  0.20543712  0.10932892  0.137478\n",
      "   0.2672064  -0.09041736  0.16276312  0.6562215 ]]\n"
     ]
    }
   ],
   "source": [
    "predictions = model(x_train[:1]).numpy()\n",
    "predictions_tensor = model(x_train[:1])\n",
    "print(f\"predictions={predictions}\")\n",
    "print(f\"predictions_tensor={predictions_tensor}\")"
   ]
  },
  {
   "cell_type": "code",
   "execution_count": 5,
   "id": "38d983e3",
   "metadata": {},
   "outputs": [
    {
     "data": {
      "text/plain": [
       "array([[0.05559185, 0.08328194, 0.09687824, 0.10647024, 0.09671392,\n",
       "        0.099475  , 0.11325418, 0.07920274, 0.10202231, 0.1671096 ]],\n",
       "      dtype=float32)"
      ]
     },
     "execution_count": 5,
     "metadata": {},
     "output_type": "execute_result"
    }
   ],
   "source": [
    "# ネットワークの最終レイヤーに対する活性化関数として組み込むことは可能。\n",
    "# モデルの出力に対して直接的に解釈できる一方で、ソフトマックスの出力を用いる場合、\n",
    "# すべてのモデルに対して正確で数値的安定に損失を計算できないため、このアプローチは推奨されない。\n",
    "tf.nn.softmax(predictions).numpy()"
   ]
  },
  {
   "cell_type": "code",
   "execution_count": 6,
   "id": "738bd808",
   "metadata": {},
   "outputs": [],
   "source": [
    "# この損失は、クラスが正しい確率の対数をとって符号を反転させたもの。\n",
    "# この値はモデルがこのクラスが正しいと確信しているときに 0 になりる。\n",
    "loss_fn = tf.keras.losses.SparseCategoricalCrossentropy(from_logits=True)\n",
    "# この訓練されていないモデルはランダムに近い確率 (それぞれのクラスについて 1/10) を出力する。\n",
    "# 最初の損失は -tf.log(1/10) ~= 2.3 に近い値になるはず。"
   ]
  },
  {
   "cell_type": "code",
   "execution_count": 7,
   "id": "84b85ede",
   "metadata": {},
   "outputs": [
    {
     "data": {
      "text/plain": [
       "2.307849"
      ]
     },
     "execution_count": 7,
     "metadata": {},
     "output_type": "execute_result"
    }
   ],
   "source": [
    "loss_fn(y_train[:1], predictions).numpy()"
   ]
  },
  {
   "cell_type": "code",
   "execution_count": 8,
   "id": "5939e0a7",
   "metadata": {},
   "outputs": [],
   "source": [
    "model.compile(optimizer='adam',\n",
    "              loss=loss_fn,\n",
    "              metrics=['accuracy'])"
   ]
  },
  {
   "cell_type": "code",
   "execution_count": 9,
   "id": "16cd30ca",
   "metadata": {},
   "outputs": [
    {
     "name": "stdout",
     "output_type": "stream",
     "text": [
      "Epoch 1/5\n",
      "1875/1875 [==============================] - 2s 805us/step - loss: 0.4917 - accuracy: 0.8578\n",
      "Epoch 2/5\n",
      "1875/1875 [==============================] - 2s 928us/step - loss: 0.1494 - accuracy: 0.9561\n",
      "Epoch 3/5\n",
      "1875/1875 [==============================] - 2s 889us/step - loss: 0.1086 - accuracy: 0.9675\n",
      "Epoch 4/5\n",
      "1875/1875 [==============================] - 2s 892us/step - loss: 0.0898 - accuracy: 0.9718\n",
      "Epoch 5/5\n",
      "1875/1875 [==============================] - 2s 862us/step - loss: 0.0746 - accuracy: 0.9761\n"
     ]
    },
    {
     "data": {
      "text/plain": [
       "<tensorflow.python.keras.callbacks.History at 0x7f8da02981c0>"
      ]
     },
     "execution_count": 9,
     "metadata": {},
     "output_type": "execute_result"
    }
   ],
   "source": [
    "# 学習\n",
    "model.fit(x_train, y_train, epochs=5)"
   ]
  },
  {
   "cell_type": "code",
   "execution_count": 10,
   "id": "0bae2e96",
   "metadata": {},
   "outputs": [
    {
     "name": "stdout",
     "output_type": "stream",
     "text": [
      "313/313 - 0s - loss: 0.0706 - accuracy: 0.9775\n"
     ]
    },
    {
     "data": {
      "text/plain": [
       "[0.07064929604530334, 0.9775000214576721]"
      ]
     },
     "execution_count": 10,
     "metadata": {},
     "output_type": "execute_result"
    }
   ],
   "source": [
    "# 精度検証\n",
    "model.evaluate(x_test,  y_test, verbose=2)"
   ]
  },
  {
   "cell_type": "code",
   "execution_count": 11,
   "id": "83f5880b",
   "metadata": {},
   "outputs": [],
   "source": [
    "# 確率を返すように、モデルをラップしてソフトマックス関数を適用。\n",
    "probability_model = tf.keras.Sequential([\n",
    "  model,\n",
    "  tf.keras.layers.Softmax()\n",
    "])"
   ]
  },
  {
   "cell_type": "code",
   "execution_count": 12,
   "id": "0918ba55",
   "metadata": {},
   "outputs": [
    {
     "data": {
      "text/plain": [
       "<tf.Tensor: shape=(5, 10), dtype=float32, numpy=\n",
       "array([[5.98791075e-07, 4.31483071e-09, 3.45883245e-06, 2.18408968e-04,\n",
       "        7.91592208e-11, 1.10303654e-06, 9.50328249e-13, 9.99755681e-01,\n",
       "        6.13515886e-06, 1.45620206e-05],\n",
       "       [1.48266244e-08, 5.87109476e-04, 9.99409676e-01, 3.79604650e-08,\n",
       "        9.23185378e-17, 6.26535609e-07, 2.02711999e-06, 1.00225362e-12,\n",
       "        4.23725425e-07, 2.45901898e-14],\n",
       "       [1.13235665e-05, 9.99312401e-01, 1.08904278e-04, 1.93725900e-05,\n",
       "        1.54880963e-05, 5.80604274e-06, 1.36709350e-05, 3.11228010e-04,\n",
       "        1.96311317e-04, 5.51524090e-06],\n",
       "       [9.99920964e-01, 8.59994298e-11, 4.41561860e-05, 1.41950849e-07,\n",
       "        1.65563421e-07, 1.20092091e-05, 6.87966349e-06, 1.11660402e-05,\n",
       "        1.48595475e-07, 4.32474644e-06],\n",
       "       [2.07995472e-05, 2.04984634e-08, 3.22829487e-06, 1.81246875e-07,\n",
       "        9.96569991e-01, 9.59122008e-06, 1.07821143e-05, 4.89730970e-04,\n",
       "        5.05931212e-07, 2.89514195e-03]], dtype=float32)>"
      ]
     },
     "execution_count": 12,
     "metadata": {},
     "output_type": "execute_result"
    }
   ],
   "source": [
    "probability_model(x_test[:5])"
   ]
  },
  {
   "cell_type": "markdown",
   "id": "40dc3493",
   "metadata": {},
   "source": [
    "# はじめてのニューラルネットワーク：分類問題の初歩\n",
    "\n",
    "[はじめてのニューラルネットワーク：分類問題の初歩](https://www.tensorflow.org/tutorials/keras/classification?hl=ja)"
   ]
  },
  {
   "cell_type": "code",
   "execution_count": 13,
   "id": "05116962",
   "metadata": {},
   "outputs": [
    {
     "name": "stdout",
     "output_type": "stream",
     "text": [
      "2.4.0\n"
     ]
    }
   ],
   "source": [
    "# TensorFlow と tf.keras のインポート\n",
    "import tensorflow as tf\n",
    "from tensorflow import keras\n",
    "\n",
    "# ヘルパーライブラリのインポート\n",
    "import numpy as np\n",
    "import matplotlib.pyplot as plt\n",
    "\n",
    "print(tf.__version__)"
   ]
  },
  {
   "cell_type": "code",
   "execution_count": 14,
   "id": "d01c12e8",
   "metadata": {},
   "outputs": [],
   "source": [
    "fashion_mnist = keras.datasets.fashion_mnist\n",
    "\n",
    "(train_images, train_labels), (test_images, test_labels) = fashion_mnist.load_data()"
   ]
  },
  {
   "cell_type": "code",
   "execution_count": 15,
   "id": "c71c9ff2",
   "metadata": {},
   "outputs": [],
   "source": [
    "# ラベルのクラス名\n",
    "class_names = ['T-shirt/top', 'Trouser', 'Pullover', 'Dress', 'Coat', \n",
    "               'Sandal', 'Shirt', 'Sneaker', 'Bag', 'Ankle boot']"
   ]
  },
  {
   "cell_type": "code",
   "execution_count": 16,
   "id": "53d86063",
   "metadata": {},
   "outputs": [
    {
     "data": {
      "text/plain": [
       "(60000, 28, 28)"
      ]
     },
     "execution_count": 16,
     "metadata": {},
     "output_type": "execute_result"
    }
   ],
   "source": [
    "# データ観察\n",
    "train_images.shape"
   ]
  },
  {
   "cell_type": "code",
   "execution_count": 17,
   "id": "51a282f0",
   "metadata": {},
   "outputs": [
    {
     "data": {
      "text/plain": [
       "60000"
      ]
     },
     "execution_count": 17,
     "metadata": {},
     "output_type": "execute_result"
    }
   ],
   "source": [
    "len(train_labels)"
   ]
  },
  {
   "cell_type": "code",
   "execution_count": 18,
   "id": "4319072c",
   "metadata": {},
   "outputs": [
    {
     "data": {
      "text/plain": [
       "array([9, 0, 0, ..., 3, 0, 5], dtype=uint8)"
      ]
     },
     "execution_count": 18,
     "metadata": {},
     "output_type": "execute_result"
    }
   ],
   "source": [
    "train_labels"
   ]
  },
  {
   "cell_type": "code",
   "execution_count": 19,
   "id": "3e63dd6f",
   "metadata": {},
   "outputs": [
    {
     "data": {
      "text/plain": [
       "(10000, 28, 28)"
      ]
     },
     "execution_count": 19,
     "metadata": {},
     "output_type": "execute_result"
    }
   ],
   "source": [
    "test_images.shape"
   ]
  },
  {
   "cell_type": "code",
   "execution_count": 20,
   "id": "cdd8ce3d",
   "metadata": {},
   "outputs": [
    {
     "data": {
      "text/plain": [
       "10000"
      ]
     },
     "execution_count": 20,
     "metadata": {},
     "output_type": "execute_result"
    }
   ],
   "source": [
    "len(test_labels)"
   ]
  },
  {
   "cell_type": "code",
   "execution_count": 21,
   "id": "f77a3e36",
   "metadata": {},
   "outputs": [
    {
     "data": {
      "image/png": "[encoded data removed]",
      "text/plain": [
       "<Figure size 432x288 with 2 Axes>"
      ]
     },
     "metadata": {
      "needs_background": "light"
     },
     "output_type": "display_data"
    }
   ],
   "source": [
    "# 可視化\n",
    "plt.figure()\n",
    "plt.imshow(train_images[0])\n",
    "plt.colorbar()\n",
    "plt.grid(False)\n",
    "plt.show()"
   ]
  },
  {
   "cell_type": "code",
   "execution_count": 22,
   "id": "30391ff2",
   "metadata": {},
   "outputs": [],
   "source": [
    "# 前処理\n",
    "\n",
    "# 0~1にスケール\n",
    "train_images = train_images / 255.0\n",
    "test_images = test_images / 255.0"
   ]
  },
  {
   "cell_type": "code",
   "execution_count": 23,
   "id": "19fd9f55",
   "metadata": {},
   "outputs": [
    {
     "data": {
      "image/png": "[encoded data removed]",
      "text/plain": [
       "<Figure size 720x720 with 25 Axes>"
      ]
     },
     "metadata": {},
     "output_type": "display_data"
    }
   ],
   "source": [
    "# 訓練用データセットの最初の25枚の画像を、クラス名付きで表示。\n",
    "plt.figure(figsize=(10,10))\n",
    "for i in range(25):\n",
    "    plt.subplot(5,5,i+1)\n",
    "    plt.xticks([])\n",
    "    plt.yticks([])\n",
    "    plt.grid(False)\n",
    "    plt.imshow(train_images[i], cmap=plt.cm.binary)\n",
    "    plt.xlabel(class_names[train_labels[i]])\n",
    "plt.show()"
   ]
  },
  {
   "cell_type": "code",
   "execution_count": 24,
   "id": "901479a4",
   "metadata": {},
   "outputs": [],
   "source": [
    "# モデル構築\n",
    "model = keras.Sequential([\n",
    "    keras.layers.Flatten(input_shape=(28, 28)),\n",
    "    keras.layers.Dense(128, activation='relu'),\n",
    "    keras.layers.Dense(10, activation='softmax')   # 合計が1になる10個の確率の配列を返す。\n",
    "])"
   ]
  },
  {
   "cell_type": "code",
   "execution_count": 25,
   "id": "12146766",
   "metadata": {},
   "outputs": [],
   "source": [
    "# モデルのコンパイル\n",
    "# 損失関数（loss function） —訓練中のモデルが不正確であるほど大きな値となる関数。この関数の値を最小化し、訓練中のモデルを正しい方向に向かわせる。\n",
    "# オプティマイザ（optimizer）—モデルが見ているデータと、損失関数の値から、どのようにモデルを更新するかを決定。\n",
    "# メトリクス（metrics） —訓練とテストのステップを監視するのに使用。下記の例ではaccuracy （正解率）、つまり、画像が正しく分類された比率を使用。\n",
    "\n",
    "model.compile(optimizer='adam', \n",
    "              loss='sparse_categorical_crossentropy',\n",
    "              metrics=['accuracy'])"
   ]
  },
  {
   "cell_type": "code",
   "execution_count": 26,
   "id": "4decd7e6",
   "metadata": {},
   "outputs": [
    {
     "name": "stdout",
     "output_type": "stream",
     "text": [
      "Epoch 1/5\n",
      "1875/1875 [==============================] - 2s 848us/step - loss: 0.6324 - accuracy: 0.7784\n",
      "Epoch 2/5\n",
      "1875/1875 [==============================] - 2s 867us/step - loss: 0.3910 - accuracy: 0.8578\n",
      "Epoch 3/5\n",
      "1875/1875 [==============================] - 2s 821us/step - loss: 0.3408 - accuracy: 0.8773\n",
      "Epoch 4/5\n",
      "1875/1875 [==============================] - 2s 858us/step - loss: 0.3203 - accuracy: 0.8808\n",
      "Epoch 5/5\n",
      "1875/1875 [==============================] - 2s 833us/step - loss: 0.2979 - accuracy: 0.8916\n"
     ]
    },
    {
     "data": {
      "text/plain": [
       "<tensorflow.python.keras.callbacks.History at 0x7f8da0280ac0>"
      ]
     },
     "execution_count": 26,
     "metadata": {},
     "output_type": "execute_result"
    }
   ],
   "source": [
    "# モデルの訓練\n",
    "model.fit(train_images, train_labels, epochs=5)"
   ]
  },
  {
   "cell_type": "code",
   "execution_count": 27,
   "id": "b6199121",
   "metadata": {},
   "outputs": [
    {
     "name": "stdout",
     "output_type": "stream",
     "text": [
      "313/313 - 0s - loss: 0.3715 - accuracy: 0.8634\n",
      "\n",
      "Test accuracy: 0.8633999824523926\n"
     ]
    }
   ],
   "source": [
    "# 正解率の評価\n",
    "test_loss, test_acc = model.evaluate(test_images,  test_labels, verbose=2)\n",
    "print('\\nTest accuracy:', test_acc)"
   ]
  },
  {
   "cell_type": "code",
   "execution_count": 28,
   "id": "b25e4d6a",
   "metadata": {},
   "outputs": [],
   "source": [
    "# 予測\n",
    "predictions = model.predict(test_images)"
   ]
  },
  {
   "cell_type": "code",
   "execution_count": 29,
   "id": "d66ca20a",
   "metadata": {},
   "outputs": [
    {
     "data": {
      "text/plain": [
       "array([1.3245498e-06, 2.9693836e-09, 2.7274675e-07, 3.9647423e-07,\n",
       "       2.0611463e-07, 2.3123648e-03, 4.2014294e-06, 6.5101911e-03,\n",
       "       3.6563692e-06, 9.9116737e-01], dtype=float32)"
      ]
     },
     "execution_count": 29,
     "metadata": {},
     "output_type": "execute_result"
    }
   ],
   "source": [
    "predictions[0]"
   ]
  },
  {
   "cell_type": "code",
   "execution_count": 30,
   "id": "0e88d2e6",
   "metadata": {},
   "outputs": [
    {
     "data": {
      "text/plain": [
       "9"
      ]
     },
     "execution_count": 30,
     "metadata": {},
     "output_type": "execute_result"
    }
   ],
   "source": [
    "np.argmax(predictions[0])"
   ]
  },
  {
   "cell_type": "code",
   "execution_count": 31,
   "id": "ea9886fa",
   "metadata": {},
   "outputs": [
    {
     "data": {
      "text/plain": [
       "9"
      ]
     },
     "execution_count": 31,
     "metadata": {},
     "output_type": "execute_result"
    }
   ],
   "source": [
    "test_labels[0]"
   ]
  },
  {
   "cell_type": "code",
   "execution_count": 32,
   "id": "9a5210d3",
   "metadata": {},
   "outputs": [],
   "source": [
    "# 10チャンネル全てをグラフ化\n",
    "def plot_image(i, predictions_array, true_label, img):\n",
    "    predictions_array, true_label, img = predictions_array[i], true_label[i], img[i]\n",
    "    plt.grid(False)\n",
    "    plt.xticks([])\n",
    "    plt.yticks([])\n",
    "\n",
    "    plt.imshow(img, cmap=plt.cm.binary)\n",
    "\n",
    "    predicted_label = np.argmax(predictions_array)\n",
    "    if predicted_label == true_label:\n",
    "        color = 'blue'\n",
    "    else:\n",
    "        color = 'red'\n",
    "\n",
    "    plt.xlabel(\"{} {:2.0f}% ({})\".format(class_names[predicted_label],\n",
    "                                    100*np.max(predictions_array),\n",
    "                                    class_names[true_label]),\n",
    "                                    color=color)\n",
    "\n",
    "def plot_value_array(i, predictions_array, true_label):\n",
    "    predictions_array, true_label = predictions_array[i], true_label[i]\n",
    "    plt.grid(False)\n",
    "    plt.xticks([])\n",
    "    plt.yticks([])\n",
    "    thisplot = plt.bar(range(10), predictions_array, color=\"#777777\")\n",
    "    plt.ylim([0, 1]) \n",
    "    predicted_label = np.argmax(predictions_array)\n",
    "\n",
    "    thisplot[predicted_label].set_color('red')\n",
    "    thisplot[true_label].set_color('blue')"
   ]
  },
  {
   "cell_type": "code",
   "execution_count": 33,
   "id": "6bed6714",
   "metadata": {},
   "outputs": [
    {
     "data": {
      "image/png": "[encoded data removed]",
      "text/plain": [
       "<Figure size 432x216 with 2 Axes>"
      ]
     },
     "metadata": {},
     "output_type": "display_data"
    }
   ],
   "source": [
    "i = 0\n",
    "plt.figure(figsize=(6,3))\n",
    "plt.subplot(1,2,1)\n",
    "plot_image(i, predictions, test_labels, test_images)\n",
    "plt.subplot(1,2,2)\n",
    "plot_value_array(i, predictions,  test_labels)\n",
    "plt.show()"
   ]
  },
  {
   "cell_type": "code",
   "execution_count": 34,
   "id": "e4096581",
   "metadata": {},
   "outputs": [
    {
     "data": {
      "image/png": "[encoded data removed]",
      "text/plain": [
       "<Figure size 432x216 with 2 Axes>"
      ]
     },
     "metadata": {},
     "output_type": "display_data"
    }
   ],
   "source": [
    "i = 12\n",
    "plt.figure(figsize=(6,3))\n",
    "plt.subplot(1,2,1)\n",
    "plot_image(i, predictions, test_labels, test_images)\n",
    "plt.subplot(1,2,2)\n",
    "plot_value_array(i, predictions,  test_labels)\n",
    "plt.show()"
   ]
  },
  {
   "cell_type": "code",
   "execution_count": 35,
   "id": "90e55c40",
   "metadata": {},
   "outputs": [
    {
     "data": {
      "image/png": "[encoded data removed]",
      "text/plain": [
       "<Figure size 864x720 with 30 Axes>"
      ]
     },
     "metadata": {},
     "output_type": "display_data"
    }
   ],
   "source": [
    "# X個のテスト画像、予測されたラベル、正解ラベルを表示します。\n",
    "# 正しい予測は青で、間違った予測は赤で表示しています。\n",
    "num_rows = 5\n",
    "num_cols = 3\n",
    "num_images = num_rows*num_cols\n",
    "plt.figure(figsize=(2*2*num_cols, 2*num_rows))\n",
    "for i in range(num_images):\n",
    "    plt.subplot(num_rows, 2*num_cols, 2*i+1)\n",
    "    plot_image(i, predictions, test_labels, test_images)\n",
    "    plt.subplot(num_rows, 2*num_cols, 2*i+2)\n",
    "    plot_value_array(i, predictions, test_labels)\n",
    "plt.show()"
   ]
  },
  {
   "cell_type": "code",
   "execution_count": 36,
   "id": "710c2350",
   "metadata": {},
   "outputs": [
    {
     "name": "stdout",
     "output_type": "stream",
     "text": [
      "(28, 28)\n"
     ]
    }
   ],
   "source": [
    "# 1枚の画像で予測\n",
    "# テスト用データセットから画像を1枚取り出す\n",
    "img = test_images[0]\n",
    "\n",
    "print(img.shape)"
   ]
  },
  {
   "cell_type": "code",
   "execution_count": 37,
   "id": "be2a5ae7",
   "metadata": {},
   "outputs": [
    {
     "name": "stdout",
     "output_type": "stream",
     "text": [
      "(1, 28, 28)\n"
     ]
    }
   ],
   "source": [
    "# 画像を1枚だけのバッチのメンバーにする\n",
    "img = (np.expand_dims(img,0))\n",
    "\n",
    "print(img.shape)"
   ]
  },
  {
   "cell_type": "code",
   "execution_count": 38,
   "id": "35357336",
   "metadata": {},
   "outputs": [
    {
     "name": "stdout",
     "output_type": "stream",
     "text": [
      "[[1.3245448e-06 2.9693781e-09 2.7274598e-07 3.9647423e-07 2.0611482e-07\n",
      "  2.3123638e-03 4.2014212e-06 6.5101911e-03 3.6563656e-06 9.9116737e-01]]\n"
     ]
    }
   ],
   "source": [
    "# 予測\n",
    "predictions_single = model.predict(img)\n",
    "\n",
    "print(predictions_single)"
   ]
  },
  {
   "cell_type": "code",
   "execution_count": 39,
   "id": "bc68a015",
   "metadata": {},
   "outputs": [
    {
     "data": {
      "image/png": "[encoded data removed]",
      "text/plain": [
       "<Figure size 432x288 with 1 Axes>"
      ]
     },
     "metadata": {
      "needs_background": "light"
     },
     "output_type": "display_data"
    }
   ],
   "source": [
    "plot_value_array(0, predictions_single, test_labels)\n",
    "_ = plt.xticks(range(10), class_names, rotation=45)"
   ]
  },
  {
   "cell_type": "code",
   "execution_count": 40,
   "id": "bee62659",
   "metadata": {},
   "outputs": [
    {
     "data": {
      "text/plain": [
       "9"
      ]
     },
     "execution_count": 40,
     "metadata": {},
     "output_type": "execute_result"
    }
   ],
   "source": [
    "np.argmax(predictions_single[0])"
   ]
  },
  {
   "cell_type": "markdown",
   "id": "76ddcde2",
   "metadata": {},
   "source": [
    "# 映画レビューのテキスト分類\n",
    "\n",
    "[映画レビューのテキスト分類](https://www.tensorflow.org/tutorials/keras/text_classification?hl=ja)"
   ]
  },
  {
   "cell_type": "code",
   "execution_count": 41,
   "id": "750c34c3",
   "metadata": {},
   "outputs": [
    {
     "name": "stdout",
     "output_type": "stream",
     "text": [
      "2.4.0\n"
     ]
    }
   ],
   "source": [
    "import tensorflow as tf\n",
    "from tensorflow import keras\n",
    "\n",
    "import numpy as np\n",
    "\n",
    "print(tf.__version__)"
   ]
  },
  {
   "cell_type": "code",
   "execution_count": 42,
   "id": "b45ae198",
   "metadata": {},
   "outputs": [
    {
     "name": "stderr",
     "output_type": "stream",
     "text": [
      "<__array_function__ internals>:5: VisibleDeprecationWarning: Creating an ndarray from ragged nested sequences (which is a list-or-tuple of lists-or-tuples-or ndarrays with different lengths or shapes) is deprecated. If you meant to do this, you must specify 'dtype=object' when creating the ndarray\n",
      "/opt/anaconda3/envs/local/lib/python3.8/site-packages/tensorflow/python/keras/datasets/imdb.py:159: VisibleDeprecationWarning: Creating an ndarray from ragged nested sequences (which is a list-or-tuple of lists-or-tuples-or ndarrays with different lengths or shapes) is deprecated. If you meant to do this, you must specify 'dtype=object' when creating the ndarray\n",
      "  x_train, y_train = np.array(xs[:idx]), np.array(labels[:idx])\n",
      "/opt/anaconda3/envs/local/lib/python3.8/site-packages/tensorflow/python/keras/datasets/imdb.py:160: VisibleDeprecationWarning: Creating an ndarray from ragged nested sequences (which is a list-or-tuple of lists-or-tuples-or ndarrays with different lengths or shapes) is deprecated. If you meant to do this, you must specify 'dtype=object' when creating the ndarray\n",
      "  x_test, y_test = np.array(xs[idx:]), np.array(labels[idx:])\n"
     ]
    }
   ],
   "source": [
    "# データセットダウンロード\n",
    "imdb = keras.datasets.imdb\n",
    "(train_data, train_labels), (test_data, test_labels) = imdb.load_data(num_words=10000)"
   ]
  },
  {
   "cell_type": "code",
   "execution_count": 43,
   "id": "c68d54cb",
   "metadata": {},
   "outputs": [
    {
     "name": "stdout",
     "output_type": "stream",
     "text": [
      "Training entries: 25000, labels: 25000\n",
      "[1, 14, 22, 16, 43, 530, 973, 1622, 1385, 65, 458, 4468, 66, 3941, 4, 173, 36, 256, 5, 25, 100, 43, 838, 112, 50, 670, 2, 9, 35, 480, 284, 5, 150, 4, 172, 112, 167, 2, 336, 385, 39, 4, 172, 4536, 1111, 17, 546, 38, 13, 447, 4, 192, 50, 16, 6, 147, 2025, 19, 14, 22, 4, 1920, 4613, 469, 4, 22, 71, 87, 12, 16, 43, 530, 38, 76, 15, 13, 1247, 4, 22, 17, 515, 17, 12, 16, 626, 18, 2, 5, 62, 386, 12, 8, 316, 8, 106, 5, 4, 2223, 5244, 16, 480, 66, 3785, 33, 4, 130, 12, 16, 38, 619, 5, 25, 124, 51, 36, 135, 48, 25, 1415, 33, 6, 22, 12, 215, 28, 77, 52, 5, 14, 407, 16, 82, 2, 8, 4, 107, 117, 5952, 15, 256, 4, 2, 7, 3766, 5, 723, 36, 71, 43, 530, 476, 26, 400, 317, 46, 7, 4, 2, 1029, 13, 104, 88, 4, 381, 15, 297, 98, 32, 2071, 56, 26, 141, 6, 194, 7486, 18, 4, 226, 22, 21, 134, 476, 26, 480, 5, 144, 30, 5535, 18, 51, 36, 28, 224, 92, 25, 104, 4, 226, 65, 16, 38, 1334, 88, 12, 16, 283, 5, 16, 4472, 113, 103, 32, 15, 16, 5345, 19, 178, 32]\n"
     ]
    },
    {
     "data": {
      "text/plain": [
       "(218, 189)"
      ]
     },
     "execution_count": 43,
     "metadata": {},
     "output_type": "execute_result"
    }
   ],
   "source": [
    "# データ確認\n",
    "print(\"Training entries: {}, labels: {}\".format(len(train_data), len(train_labels)))\n",
    "print(train_data[0])\n",
    "len(train_data[0]), len(train_data[1])"
   ]
  },
  {
   "cell_type": "code",
   "execution_count": 44,
   "id": "82301612",
   "metadata": {},
   "outputs": [],
   "source": [
    "# 整数を単語に変換\n",
    "\n",
    "# 単語を整数にマッピングする辞書\n",
    "word_index = imdb.get_word_index()\n",
    "\n",
    "# インデックスの最初の方は予約済み\n",
    "word_index = {k:(v+3) for k,v in word_index.items()} \n",
    "word_index[\"<PAD>\"] = 0\n",
    "word_index[\"<START>\"] = 1\n",
    "word_index[\"<UNK>\"] = 2  # unknown\n",
    "word_index[\"<UNUSED>\"] = 3\n",
    "\n",
    "reverse_word_index = dict([(value, key) for (key, value) in word_index.items()])\n",
    "\n",
    "def decode_review(text):\n",
    "    return ' '.join([reverse_word_index.get(i, '?') for i in text])"
   ]
  },
  {
   "cell_type": "code",
   "execution_count": 45,
   "id": "9d72eb4e",
   "metadata": {},
   "outputs": [
    {
     "data": {
      "text/plain": [
       "\"<START> this film was just brilliant casting location scenery story direction everyone's really suited the part they played and you could just imagine being there robert <UNK> is an amazing actor and now the same being director <UNK> father came from the same scottish island as myself so i loved the fact there was a real connection with this film the witty remarks throughout the film were great it was just brilliant so much that i bought the film as soon as it was released for <UNK> and would recommend it to everyone to watch and the fly fishing was amazing really cried at the end it was so sad and you know what they say if you cry at a film it must have been good and this definitely was also <UNK> to the two little boy's that played the <UNK> of norman and paul they were just brilliant children are often left out of the <UNK> list i think because the stars that play them all grown up are such a big profile for the whole film but these children are amazing and should be praised for what they have done don't you think the whole story was so lovely because it was true and was someone's life after all that was shared with us all\""
      ]
     },
     "execution_count": 45,
     "metadata": {},
     "output_type": "execute_result"
    }
   ],
   "source": [
    "decode_review(train_data[0])"
   ]
  },
  {
   "cell_type": "code",
   "execution_count": 46,
   "id": "620e3755",
   "metadata": {},
   "outputs": [],
   "source": [
    "# データの準備\n",
    "\n",
    "# テンソルに変換\n",
    "# 配列をワンホット（one-hot）エンコーディングと同じように、単語の出現を表す0と1のベクトルに変換。\n",
    "# 例えば、[3, 5]という配列は、インデックス3と5を除いてすべてゼロの10,000次元のベクトルになる。\n",
    "# そして、これをネットワークの最初の層、すなわち、浮動小数点のベクトルデータを扱うことができるDense（全結合）層とする。\n",
    "# ただし、これは単語数×レビュー数の行列が必要なメモリ集約的な方法。\n",
    "\n",
    "# もう一つの方法では、配列をパディングによって同じ長さに揃え、サンプル数 * 長さの最大値の形の整数テンソルにする。\n",
    "# そして、この形式を扱うことができるEmbedding（埋め込み）層をネットワークの最初の層にする。\n",
    "\n",
    "# pad_sequences：長さを標準化する関数\n",
    "\n",
    "train_data = keras.preprocessing.sequence.pad_sequences(train_data,\n",
    "                                                        value=word_index[\"<PAD>\"],\n",
    "                                                        padding='post',\n",
    "                                                        maxlen=256)\n",
    "\n",
    "test_data = keras.preprocessing.sequence.pad_sequences(test_data,\n",
    "                                                       value=word_index[\"<PAD>\"],\n",
    "                                                       padding='post',\n",
    "                                                       maxlen=256)"
   ]
  },
  {
   "cell_type": "code",
   "execution_count": 47,
   "id": "8853dbcf",
   "metadata": {},
   "outputs": [
    {
     "data": {
      "text/plain": [
       "(256, 256)"
      ]
     },
     "execution_count": 47,
     "metadata": {},
     "output_type": "execute_result"
    }
   ],
   "source": [
    "# サンプルの長さ確認\n",
    "len(train_data[0]), len(train_data[1])"
   ]
  },
  {
   "cell_type": "code",
   "execution_count": 48,
   "id": "740dcdaf",
   "metadata": {},
   "outputs": [
    {
     "name": "stdout",
     "output_type": "stream",
     "text": [
      "[   1   14   22   16   43  530  973 1622 1385   65  458 4468   66 3941\n",
      "    4  173   36  256    5   25  100   43  838  112   50  670    2    9\n",
      "   35  480  284    5  150    4  172  112  167    2  336  385   39    4\n",
      "  172 4536 1111   17  546   38   13  447    4  192   50   16    6  147\n",
      " 2025   19   14   22    4 1920 4613  469    4   22   71   87   12   16\n",
      "   43  530   38   76   15   13 1247    4   22   17  515   17   12   16\n",
      "  626   18    2    5   62  386   12    8  316    8  106    5    4 2223\n",
      " 5244   16  480   66 3785   33    4  130   12   16   38  619    5   25\n",
      "  124   51   36  135   48   25 1415   33    6   22   12  215   28   77\n",
      "   52    5   14  407   16   82    2    8    4  107  117 5952   15  256\n",
      "    4    2    7 3766    5  723   36   71   43  530  476   26  400  317\n",
      "   46    7    4    2 1029   13  104   88    4  381   15  297   98   32\n",
      " 2071   56   26  141    6  194 7486   18    4  226   22   21  134  476\n",
      "   26  480    5  144   30 5535   18   51   36   28  224   92   25  104\n",
      "    4  226   65   16   38 1334   88   12   16  283    5   16 4472  113\n",
      "  103   32   15   16 5345   19  178   32    0    0    0    0    0    0\n",
      "    0    0    0    0    0    0    0    0    0    0    0    0    0    0\n",
      "    0    0    0    0    0    0    0    0    0    0    0    0    0    0\n",
      "    0    0    0    0]\n"
     ]
    }
   ],
   "source": [
    "# パディング済みの最初のサンプル確認\n",
    "print(train_data[0])"
   ]
  },
  {
   "cell_type": "code",
   "execution_count": 49,
   "id": "ec0e4683",
   "metadata": {},
   "outputs": [
    {
     "name": "stdout",
     "output_type": "stream",
     "text": [
      "Model: \"sequential_3\"\n",
      "_________________________________________________________________\n",
      "Layer (type)                 Output Shape              Param #   \n",
      "=================================================================\n",
      "embedding (Embedding)        (None, None, 16)          160000    \n",
      "_________________________________________________________________\n",
      "global_average_pooling1d (Gl (None, 16)                0         \n",
      "_________________________________________________________________\n",
      "dense_4 (Dense)              (None, 16)                272       \n",
      "_________________________________________________________________\n",
      "dense_5 (Dense)              (None, 1)                 17        \n",
      "=================================================================\n",
      "Total params: 160,289\n",
      "Trainable params: 160,289\n",
      "Non-trainable params: 0\n",
      "_________________________________________________________________\n"
     ]
    }
   ],
   "source": [
    "# モデルの構築\n",
    "# モデルを作成する際、以下の２つの決定が必要。\n",
    "# モデルにいくつの層を設けるか？\n",
    "# 層ごとに何個の隠れユニットを使用するか？\n",
    "\n",
    "# 入力の形式は映画レビューで使われている語彙数（10,000語）\n",
    "vocab_size = 10000\n",
    "\n",
    "model = keras.Sequential()\n",
    "model.add(keras.layers.Embedding(vocab_size, 16))   # 埋め込み層。整数にエンコードされた語彙を受け取り、それぞれの単語インデックスに対応する埋め込みベクトルを検索。ベクトル化のために、出力行列には次元が１つ追加\n",
    "model.add(keras.layers.GlobalAveragePooling1D())   # １次元のグローバル平均プーリング層。それぞれのサンプルについて、シーケンスの次元方向に平均値をもとめ、固定長のベクトルを返す。モデルは最も単純な形で、可変長の入力を扱うことができるようになる。\n",
    "model.add(keras.layers.Dense(16, activation='relu'))   # 16個の隠れユニットを持つ全結合（Dense）層。\n",
    "model.add(keras.layers.Dense(1, activation='sigmoid'))   # 1個の出力ノードに全結合。シグモイド（sigmoid）活性化関数を使うことで、値は確率あるいは確信度を表す0と1の間の浮動小数点数となる。\n",
    "\n",
    "model.summary()"
   ]
  },
  {
   "cell_type": "code",
   "execution_count": 50,
   "id": "9e63e933",
   "metadata": {},
   "outputs": [],
   "source": [
    "# モデルのオプティマイザと損失関数を設定\n",
    "model.compile(optimizer='adam',\n",
    "              loss='binary_crossentropy',\n",
    "              metrics=['accuracy'])"
   ]
  },
  {
   "cell_type": "code",
   "execution_count": 51,
   "id": "09834138",
   "metadata": {},
   "outputs": [],
   "source": [
    "# 検証用データ作成\n",
    "x_val = train_data[:10000]\n",
    "partial_x_train = train_data[10000:]\n",
    "\n",
    "y_val = train_labels[:10000]\n",
    "partial_y_train = train_labels[10000:]"
   ]
  },
  {
   "cell_type": "code",
   "execution_count": 52,
   "id": "50bf645e",
   "metadata": {},
   "outputs": [
    {
     "name": "stdout",
     "output_type": "stream",
     "text": [
      "Epoch 1/40\n",
      "30/30 [==============================] - 1s 16ms/step - loss: 0.6924 - accuracy: 0.5621 - val_loss: 0.6892 - val_accuracy: 0.6760\n",
      "Epoch 2/40\n",
      "30/30 [==============================] - 0s 7ms/step - loss: 0.6868 - accuracy: 0.7053 - val_loss: 0.6798 - val_accuracy: 0.7231\n",
      "Epoch 3/40\n",
      "30/30 [==============================] - 0s 7ms/step - loss: 0.6746 - accuracy: 0.7478 - val_loss: 0.6619 - val_accuracy: 0.7276\n",
      "Epoch 4/40\n",
      "30/30 [==============================] - 0s 7ms/step - loss: 0.6523 - accuracy: 0.7578 - val_loss: 0.6336 - val_accuracy: 0.7638\n",
      "Epoch 5/40\n",
      "30/30 [==============================] - 0s 7ms/step - loss: 0.6175 - accuracy: 0.7895 - val_loss: 0.5963 - val_accuracy: 0.7672\n",
      "Epoch 6/40\n",
      "30/30 [==============================] - 0s 7ms/step - loss: 0.5737 - accuracy: 0.8110 - val_loss: 0.5534 - val_accuracy: 0.7994\n",
      "Epoch 7/40\n",
      "30/30 [==============================] - 0s 7ms/step - loss: 0.5284 - accuracy: 0.8271 - val_loss: 0.5098 - val_accuracy: 0.8196\n",
      "Epoch 8/40\n",
      "30/30 [==============================] - 0s 7ms/step - loss: 0.4777 - accuracy: 0.8468 - val_loss: 0.4689 - val_accuracy: 0.8349\n",
      "Epoch 9/40\n",
      "30/30 [==============================] - 0s 7ms/step - loss: 0.4351 - accuracy: 0.8597 - val_loss: 0.4332 - val_accuracy: 0.8442\n",
      "Epoch 10/40\n",
      "30/30 [==============================] - 0s 7ms/step - loss: 0.4001 - accuracy: 0.8679 - val_loss: 0.4036 - val_accuracy: 0.8540\n",
      "Epoch 11/40\n",
      "30/30 [==============================] - 0s 7ms/step - loss: 0.3635 - accuracy: 0.8825 - val_loss: 0.3798 - val_accuracy: 0.8611\n",
      "Epoch 12/40\n",
      "30/30 [==============================] - 0s 7ms/step - loss: 0.3318 - accuracy: 0.8924 - val_loss: 0.3606 - val_accuracy: 0.8652\n",
      "Epoch 13/40\n",
      "30/30 [==============================] - 0s 7ms/step - loss: 0.3144 - accuracy: 0.8961 - val_loss: 0.3453 - val_accuracy: 0.8707\n",
      "Epoch 14/40\n",
      "30/30 [==============================] - 0s 7ms/step - loss: 0.2881 - accuracy: 0.9053 - val_loss: 0.3331 - val_accuracy: 0.8705\n",
      "Epoch 15/40\n",
      "30/30 [==============================] - 0s 7ms/step - loss: 0.2722 - accuracy: 0.9077 - val_loss: 0.3227 - val_accuracy: 0.8747\n",
      "Epoch 16/40\n",
      "30/30 [==============================] - 0s 7ms/step - loss: 0.2581 - accuracy: 0.9101 - val_loss: 0.3146 - val_accuracy: 0.8782\n",
      "Epoch 17/40\n",
      "30/30 [==============================] - 0s 7ms/step - loss: 0.2433 - accuracy: 0.9143 - val_loss: 0.3080 - val_accuracy: 0.8802\n",
      "Epoch 18/40\n",
      "30/30 [==============================] - 0s 7ms/step - loss: 0.2274 - accuracy: 0.9245 - val_loss: 0.3023 - val_accuracy: 0.8811\n",
      "Epoch 19/40\n",
      "30/30 [==============================] - 0s 7ms/step - loss: 0.2207 - accuracy: 0.9253 - val_loss: 0.2980 - val_accuracy: 0.8814\n",
      "Epoch 20/40\n",
      "30/30 [==============================] - 0s 7ms/step - loss: 0.2080 - accuracy: 0.9284 - val_loss: 0.2942 - val_accuracy: 0.8831\n",
      "Epoch 21/40\n",
      "30/30 [==============================] - 0s 7ms/step - loss: 0.1971 - accuracy: 0.9344 - val_loss: 0.2911 - val_accuracy: 0.8835\n",
      "Epoch 22/40\n",
      "30/30 [==============================] - 0s 7ms/step - loss: 0.1913 - accuracy: 0.9348 - val_loss: 0.2888 - val_accuracy: 0.8843\n",
      "Epoch 23/40\n",
      "30/30 [==============================] - 0s 7ms/step - loss: 0.1828 - accuracy: 0.9397 - val_loss: 0.2883 - val_accuracy: 0.8831\n",
      "Epoch 24/40\n",
      "30/30 [==============================] - 0s 7ms/step - loss: 0.1753 - accuracy: 0.9430 - val_loss: 0.2860 - val_accuracy: 0.8851\n",
      "Epoch 25/40\n",
      "30/30 [==============================] - 0s 7ms/step - loss: 0.1669 - accuracy: 0.9463 - val_loss: 0.2866 - val_accuracy: 0.8827\n",
      "Epoch 26/40\n",
      "30/30 [==============================] - 0s 7ms/step - loss: 0.1596 - accuracy: 0.9499 - val_loss: 0.2851 - val_accuracy: 0.8854\n",
      "Epoch 27/40\n",
      "30/30 [==============================] - 0s 7ms/step - loss: 0.1571 - accuracy: 0.9525 - val_loss: 0.2865 - val_accuracy: 0.8846\n",
      "Epoch 28/40\n",
      "30/30 [==============================] - 0s 7ms/step - loss: 0.1453 - accuracy: 0.9567 - val_loss: 0.2857 - val_accuracy: 0.8860\n",
      "Epoch 29/40\n",
      "30/30 [==============================] - 0s 7ms/step - loss: 0.1425 - accuracy: 0.9558 - val_loss: 0.2862 - val_accuracy: 0.8845\n",
      "Epoch 30/40\n",
      "30/30 [==============================] - 0s 7ms/step - loss: 0.1329 - accuracy: 0.9625 - val_loss: 0.2878 - val_accuracy: 0.8856\n",
      "Epoch 31/40\n",
      "30/30 [==============================] - 0s 7ms/step - loss: 0.1314 - accuracy: 0.9631 - val_loss: 0.2889 - val_accuracy: 0.8856\n",
      "Epoch 32/40\n",
      "30/30 [==============================] - 0s 7ms/step - loss: 0.1225 - accuracy: 0.9671 - val_loss: 0.2909 - val_accuracy: 0.8865\n",
      "Epoch 33/40\n",
      "30/30 [==============================] - 0s 7ms/step - loss: 0.1165 - accuracy: 0.9680 - val_loss: 0.2924 - val_accuracy: 0.8850\n",
      "Epoch 34/40\n",
      "30/30 [==============================] - 0s 7ms/step - loss: 0.1151 - accuracy: 0.9687 - val_loss: 0.2943 - val_accuracy: 0.8842\n",
      "Epoch 35/40\n",
      "30/30 [==============================] - 0s 7ms/step - loss: 0.1075 - accuracy: 0.9707 - val_loss: 0.2969 - val_accuracy: 0.8851\n",
      "Epoch 36/40\n",
      "30/30 [==============================] - 0s 7ms/step - loss: 0.1096 - accuracy: 0.9710 - val_loss: 0.2992 - val_accuracy: 0.8836\n",
      "Epoch 37/40\n",
      "30/30 [==============================] - 0s 7ms/step - loss: 0.1088 - accuracy: 0.9698 - val_loss: 0.3024 - val_accuracy: 0.8836\n",
      "Epoch 38/40\n",
      "30/30 [==============================] - 0s 7ms/step - loss: 0.1000 - accuracy: 0.9749 - val_loss: 0.3044 - val_accuracy: 0.8831\n",
      "Epoch 39/40\n",
      "30/30 [==============================] - 0s 7ms/step - loss: 0.0950 - accuracy: 0.9748 - val_loss: 0.3076 - val_accuracy: 0.8822\n",
      "Epoch 40/40\n",
      "30/30 [==============================] - 0s 7ms/step - loss: 0.0942 - accuracy: 0.9753 - val_loss: 0.3107 - val_accuracy: 0.8821\n"
     ]
    }
   ],
   "source": [
    "# モデルの訓練\n",
    "history = model.fit(partial_x_train,\n",
    "                    partial_y_train,\n",
    "                    epochs=40,\n",
    "                    batch_size=512,\n",
    "                    validation_data=(x_val, y_val),\n",
    "                    verbose=1)"
   ]
  },
  {
   "cell_type": "code",
   "execution_count": 53,
   "id": "a99f192f",
   "metadata": {},
   "outputs": [
    {
     "name": "stdout",
     "output_type": "stream",
     "text": [
      "782/782 - 0s - loss: 0.3325 - accuracy: 0.8721\n",
      "[0.33248016238212585, 0.8720800280570984]\n"
     ]
    }
   ],
   "source": [
    "# モデルの評価\n",
    "results = model.evaluate(test_data,  test_labels, verbose=2)\n",
    "print(results)"
   ]
  },
  {
   "cell_type": "code",
   "execution_count": 54,
   "id": "930f8a6a",
   "metadata": {},
   "outputs": [
    {
     "data": {
      "text/plain": [
       "dict_keys(['loss', 'accuracy', 'val_loss', 'val_accuracy'])"
      ]
     },
     "execution_count": 54,
     "metadata": {},
     "output_type": "execute_result"
    }
   ],
   "source": [
    "# 正解率と損失の時系列グラフを描く\n",
    "history_dict = history.history\n",
    "history_dict.keys()"
   ]
  },
  {
   "cell_type": "code",
   "execution_count": 55,
   "id": "b4e15b75",
   "metadata": {},
   "outputs": [
    {
     "data": {
      "image/png": "[encoded data removed]",
      "text/plain": [
       "<Figure size 432x288 with 1 Axes>"
      ]
     },
     "metadata": {
      "needs_background": "light"
     },
     "output_type": "display_data"
    }
   ],
   "source": [
    "# 点が訓練時の損失と正解率を、実線が検証時の損失と正解率\n",
    "import matplotlib.pyplot as plt\n",
    "\n",
    "acc = history_dict['accuracy']\n",
    "val_acc = history_dict['val_accuracy']\n",
    "loss = history_dict['loss']\n",
    "val_loss = history_dict['val_loss']\n",
    "\n",
    "epochs = range(1, len(acc) + 1)\n",
    "\n",
    "# \"bo\" is for \"blue dot\"\n",
    "plt.plot(epochs, loss, 'bo', label='Training loss')\n",
    "# b is for \"solid blue line\"\n",
    "plt.plot(epochs, val_loss, 'b', label='Validation loss')\n",
    "plt.title('Training and validation loss')\n",
    "plt.xlabel('Epochs')\n",
    "plt.ylabel('Loss')\n",
    "plt.legend()\n",
    "\n",
    "plt.show()"
   ]
  },
  {
   "cell_type": "code",
   "execution_count": 56,
   "id": "024cd3ff",
   "metadata": {},
   "outputs": [
    {
     "data": {
      "image/png": "[encoded data removed]",
      "text/plain": [
       "<Figure size 432x288 with 1 Axes>"
      ]
     },
     "metadata": {
      "needs_background": "light"
     },
     "output_type": "display_data"
    }
   ],
   "source": [
    "plt.clf()   # 図のクリア\n",
    "\n",
    "plt.plot(epochs, acc, 'bo', label='Training acc')\n",
    "plt.plot(epochs, val_acc, 'b', label='Validation acc')\n",
    "plt.title('Training and validation accuracy')\n",
    "plt.xlabel('Epochs')\n",
    "plt.ylabel('Accuracy')\n",
    "plt.legend()\n",
    "\n",
    "plt.show()"
   ]
  },
  {
   "cell_type": "code",
   "execution_count": 57,
   "id": "a90d848c",
   "metadata": {},
   "outputs": [],
   "source": [
    "# 過学習を起こしている。"
   ]
  },
  {
   "cell_type": "markdown",
   "id": "489700f2",
   "metadata": {},
   "source": [
    "# TensorFlow Hub によるテキストの分類: 映画レビュー\n",
    "\n",
    "[TensorFlow Hub によるテキストの分類: 映画レビュー](https://www.tensorflow.org/tutorials/keras/text_classification_with_hub?hl=ja)\n",
    "\n",
    "- 入力データは文章で構成。\n",
    "- 予測するラベルは、0 または 1。\n",
    "- トレーニング済みのテキスト埋め込みを最初のレイヤーとして使用することでメリットがある。\n",
    "1. テキストの事前処理を心配する必要がない。\n",
    "2. 変換学習を利用できる。\n",
    "3. 埋め込みのサイズは固定されているため、処理しやすい。\n"
   ]
  },
  {
   "cell_type": "code",
   "execution_count": 58,
   "id": "bf627ef3",
   "metadata": {},
   "outputs": [
    {
     "name": "stdout",
     "output_type": "stream",
     "text": [
      "Version:  2.4.0\n",
      "Eager mode:  True\n",
      "Hub version:  0.12.0\n",
      "GPU is NOT AVAILABLE\n"
     ]
    }
   ],
   "source": [
    "import numpy as np\n",
    "\n",
    "import tensorflow as tf\n",
    "\n",
    "!pip install -q tensorflow-hub\n",
    "!pip install -q tfds-nightly\n",
    "import tensorflow_hub as hub\n",
    "import tensorflow_datasets as tfds\n",
    "\n",
    "print(\"Version: \", tf.__version__)\n",
    "print(\"Eager mode: \", tf.executing_eagerly())\n",
    "print(\"Hub version: \", hub.__version__)\n",
    "print(\"GPU is\", \"available\" if tf.config.experimental.list_physical_devices(\"GPU\") else \"NOT AVAILABLE\")"
   ]
  },
  {
   "cell_type": "code",
   "execution_count": 59,
   "id": "28ccb128",
   "metadata": {},
   "outputs": [],
   "source": [
    "# IMDB データセットをダウンロード\n",
    "# Split the training set into 60% and 40%, so we'll end up with 15,000 examples\n",
    "# for training, 10,000 examples for validation and 25,000 examples for testing.\n",
    "train_data, validation_data, test_data = tfds.load(\n",
    "    name=\"imdb_reviews\", \n",
    "    split=('train[:60%]', 'train[60%:]', 'test'),\n",
    "    as_supervised=True)"
   ]
  },
  {
   "cell_type": "code",
   "execution_count": 60,
   "id": "f3df2a9a",
   "metadata": {},
   "outputs": [
    {
     "data": {
      "text/plain": [
       "<tf.Tensor: shape=(10,), dtype=string, numpy=\n",
       "array([b\"This was an absolutely terrible movie. Don't be lured in by Christopher Walken or Michael Ironside. Both are great actors, but this must simply be their worst role in history. Even their great acting could not redeem this movie's ridiculous storyline. This movie is an early nineties US propaganda piece. The most pathetic scenes were those when the Columbian rebels were making their cases for revolutions. Maria Conchita Alonso appeared phony, and her pseudo-love affair with Walken was nothing but a pathetic emotional plug in a movie that was devoid of any real meaning. I am disappointed that there are movies like this, ruining actor's like Christopher Walken's good name. I could barely sit through it.\",\n",
       "       b'I have been known to fall asleep during films, but this is usually due to a combination of things including, really tired, being warm and comfortable on the sette and having just eaten a lot. However on this occasion I fell asleep because the film was rubbish. The plot development was constant. Constantly slow and boring. Things seemed to happen, but with no explanation of what was causing them or why. I admit, I may have missed part of the film, but i watched the majority of it and everything just seemed to happen of its own accord without any real concern for anything else. I cant recommend this film at all.',\n",
       "       b'Mann photographs the Alberta Rocky Mountains in a superb fashion, and Jimmy Stewart and Walter Brennan give enjoyable performances as they always seem to do. <br /><br />But come on Hollywood - a Mountie telling the people of Dawson City, Yukon to elect themselves a marshal (yes a marshal!) and to enforce the law themselves, then gunfighters battling it out on the streets for control of the town? <br /><br />Nothing even remotely resembling that happened on the Canadian side of the border during the Klondike gold rush. Mr. Mann and company appear to have mistaken Dawson City for Deadwood, the Canadian North for the American Wild West.<br /><br />Canadian viewers be prepared for a Reefer Madness type of enjoyable howl with this ludicrous plot, or, to shake your head in disgust.',\n",
       "       b'This is the kind of film for a snowy Sunday afternoon when the rest of the world can go ahead with its own business as you descend into a big arm-chair and mellow for a couple of hours. Wonderful performances from Cher and Nicolas Cage (as always) gently row the plot along. There are no rapids to cross, no dangerous waters, just a warm and witty paddle through New York life at its best. A family film in every sense and one that deserves the praise it received.',\n",
       "       b'As others have mentioned, all the women that go nude in this film are mostly absolutely gorgeous. The plot very ably shows the hypocrisy of the female libido. When men are around they want to be pursued, but when no \"men\" are around, they become the pursuers of a 14 year old boy. And the boy becomes a man really fast (we should all be so lucky at this age!). He then gets up the courage to pursue his true love.',\n",
       "       b\"This is a film which should be seen by anybody interested in, effected by, or suffering from an eating disorder. It is an amazingly accurate and sensitive portrayal of bulimia in a teenage girl, its causes and its symptoms. The girl is played by one of the most brilliant young actresses working in cinema today, Alison Lohman, who was later so spectacular in 'Where the Truth Lies'. I would recommend that this film be shown in all schools, as you will never see a better on this subject. Alison Lohman is absolutely outstanding, and one marvels at her ability to convey the anguish of a girl suffering from this compulsive disorder. If barometers tell us the air pressure, Alison Lohman tells us the emotional pressure with the same degree of accuracy. Her emotional range is so precise, each scene could be measured microscopically for its gradations of trauma, on a scale of rising hysteria and desperation which reaches unbearable intensity. Mare Winningham is the perfect choice to play her mother, and does so with immense sympathy and a range of emotions just as finely tuned as Lohman's. Together, they make a pair of sensitive emotional oscillators vibrating in resonance with one another. This film is really an astonishing achievement, and director Katt Shea should be proud of it. The only reason for not seeing it is if you are not interested in people. But even if you like nature films best, this is after all animal behaviour at the sharp edge. Bulimia is an extreme version of how a tormented soul can destroy her own body in a frenzy of despair. And if we don't sympathise with people suffering from the depths of despair, then we are dead inside.\",\n",
       "       b'Okay, you have:<br /><br />Penelope Keith as Miss Herringbone-Tweed, B.B.E. (Backbone of England.) She\\'s killed off in the first scene - that\\'s right, folks; this show has no backbone!<br /><br />Peter O\\'Toole as Ol\\' Colonel Cricket from The First War and now the emblazered Lord of the Manor.<br /><br />Joanna Lumley as the ensweatered Lady of the Manor, 20 years younger than the colonel and 20 years past her own prime but still glamourous (Brit spelling, not mine) enough to have a toy-boy on the side. It\\'s alright, they have Col. Cricket\\'s full knowledge and consent (they guy even comes \\'round for Christmas!) Still, she\\'s considerate of the colonel enough to have said toy-boy her own age (what a gal!)<br /><br />David McCallum as said toy-boy, equally as pointlessly glamourous as his squeeze. Pilcher couldn\\'t come up with any cover for him within the story, so she gave him a hush-hush job at the Circus.<br /><br />and finally:<br /><br />Susan Hampshire as Miss Polonia Teacups, Venerable Headmistress of the Venerable Girls\\' Boarding-School, serving tea in her office with a dash of deep, poignant advice for life in the outside world just before graduation. Her best bit of advice: \"I\\'ve only been to Nancherrow (the local Stately Home of England) once. I thought it was very beautiful but, somehow, not part of the real world.\" Well, we can\\'t say they didn\\'t warn us.<br /><br />Ah, Susan - time was, your character would have been running the whole show. They don\\'t write \\'em like that any more. Our loss, not yours.<br /><br />So - with a cast and setting like this, you have the re-makings of \"Brideshead Revisited,\" right?<br /><br />Wrong! They took these 1-dimensional supporting roles because they paid so well. After all, acting is one of the oldest temp-jobs there is (YOU name another!)<br /><br />First warning sign: lots and lots of backlighting. They get around it by shooting outdoors - \"hey, it\\'s just the sunlight!\"<br /><br />Second warning sign: Leading Lady cries a lot. When not crying, her eyes are moist. That\\'s the law of romance novels: Leading Lady is \"dewy-eyed.\"<br /><br />Henceforth, Leading Lady shall be known as L.L.<br /><br />Third warning sign: L.L. actually has stars in her eyes when she\\'s in love. Still, I\\'ll give Emily Mortimer an award just for having to act with that spotlight in her eyes (I wonder . did they use contacts?)<br /><br />And lastly, fourth warning sign: no on-screen female character is \"Mrs.\" She\\'s either \"Miss\" or \"Lady.\"<br /><br />When all was said and done, I still couldn\\'t tell you who was pursuing whom and why. I couldn\\'t even tell you what was said and done.<br /><br />To sum up: they all live through World War II without anything happening to them at all.<br /><br />OK, at the end, L.L. finds she\\'s lost her parents to the Japanese prison camps and baby sis comes home catatonic. Meanwhile (there\\'s always a \"meanwhile,\") some young guy L.L. had a crush on (when, I don\\'t know) comes home from some wartime tough spot and is found living on the street by Lady of the Manor (must be some street if SHE\\'s going to find him there.) Both war casualties are whisked away to recover at Nancherrow (SOMEBODY has to be \"whisked away\" SOMEWHERE in these romance stories!)<br /><br />Great drama.',\n",
       "       b'The film is based on a genuine 1950s novel.<br /><br />Journalist Colin McInnes wrote a set of three \"London novels\": \"Absolute Beginners\", \"City of Spades\" and \"Mr Love and Justice\". I have read all three. The first two are excellent. The last, perhaps an experiment that did not come off. But McInnes\\'s work is highly acclaimed; and rightly so. This musical is the novelist\\'s ultimate nightmare - to see the fruits of one\\'s mind being turned into a glitzy, badly-acted, soporific one-dimensional apology of a film that says it captures the spirit of 1950s London, and does nothing of the sort.<br /><br />Thank goodness Colin McInnes wasn\\'t alive to witness it.',\n",
       "       b'I really love the sexy action and sci-fi films of the sixties and its because of the actress\\'s that appeared in them. They found the sexiest women to be in these films and it didn\\'t matter if they could act (Remember \"Candy\"?). The reason I was disappointed by this film was because it wasn\\'t nostalgic enough. The story here has a European sci-fi film called \"Dragonfly\" being made and the director is fired. So the producers decide to let a young aspiring filmmaker (Jeremy Davies) to complete the picture. They\\'re is one real beautiful woman in the film who plays Dragonfly but she\\'s barely in it. Film is written and directed by Roman Coppola who uses some of his fathers exploits from his early days and puts it into the script. I wish the film could have been an homage to those early films. They could have lots of cameos by actors who appeared in them. There is one actor in this film who was popular from the sixties and its John Phillip Law (Barbarella). Gerard Depardieu, Giancarlo Giannini and Dean Stockwell appear as well. I guess I\\'m going to have to continue waiting for a director to make a good homage to the films of the sixties. If any are reading this, \"Make it as sexy as you can\"! I\\'ll be waiting!',\n",
       "       b'Sure, this one isn\\'t really a blockbuster, nor does it target such a position. \"Dieter\" is the first name of a quite popular German musician, who is either loved or hated for his kind of acting and thats exactly what this movie is about. It is based on the autobiography \"Dieter Bohlen\" wrote a few years ago but isn\\'t meant to be accurate on that. The movie is filled with some sexual offensive content (at least for American standard) which is either amusing (not for the other \"actors\" of course) or dumb - it depends on your individual kind of humor or on you being a \"Bohlen\"-Fan or not. Technically speaking there isn\\'t much to criticize. Speaking of me I find this movie to be an OK-movie.'],\n",
       "      dtype=object)>"
      ]
     },
     "execution_count": 60,
     "metadata": {},
     "output_type": "execute_result"
    }
   ],
   "source": [
    "# データを確認\n",
    "train_examples_batch, train_labels_batch = next(iter(train_data.batch(10)))\n",
    "train_examples_batch"
   ]
  },
  {
   "cell_type": "code",
   "execution_count": 61,
   "id": "de9ee8e4",
   "metadata": {},
   "outputs": [
    {
     "data": {
      "text/plain": [
       "<tf.Tensor: shape=(10,), dtype=int64, numpy=array([0, 0, 0, 1, 1, 1, 0, 0, 0, 0])>"
      ]
     },
     "execution_count": 61,
     "metadata": {},
     "output_type": "execute_result"
    }
   ],
   "source": [
    "# 最初の 10 個のラベル出力\n",
    "train_labels_batch"
   ]
  },
  {
   "cell_type": "code",
   "execution_count": 62,
   "id": "9fff0747",
   "metadata": {},
   "outputs": [
    {
     "data": {
      "text/plain": [
       "<tf.Tensor: shape=(3, 20), dtype=float32, numpy=\n",
       "array([[ 1.765786  , -3.882232  ,  3.9134233 , -1.5557289 , -3.3362343 ,\n",
       "        -1.7357955 , -1.9954445 ,  1.2989551 ,  5.081598  , -1.1041286 ,\n",
       "        -2.0503852 , -0.72675157, -0.65675956,  0.24436149, -3.7208383 ,\n",
       "         2.0954835 ,  2.2969332 , -2.0689783 , -2.9489717 , -1.1315987 ],\n",
       "       [ 1.8804485 , -2.5852382 ,  3.4066997 ,  1.0982676 , -4.056685  ,\n",
       "        -4.891284  , -2.785554  ,  1.3874227 ,  3.8476458 , -0.9256538 ,\n",
       "        -1.896706  ,  1.2113281 ,  0.11474707,  0.76209456, -4.8791065 ,\n",
       "         2.906149  ,  4.7087674 , -2.3652055 , -3.5015898 , -1.6390051 ],\n",
       "       [ 0.71152234, -0.6353217 ,  1.7385626 , -1.1168286 , -0.5451594 ,\n",
       "        -1.1808156 ,  0.09504455,  1.4653089 ,  0.66059524,  0.79308075,\n",
       "        -2.2268345 ,  0.07446612, -1.4075904 , -0.70645386, -1.907037  ,\n",
       "         1.4419787 ,  1.9551861 , -0.42660055, -2.8022065 ,  0.43727064]],\n",
       "      dtype=float32)>"
      ]
     },
     "execution_count": 62,
     "metadata": {},
     "output_type": "execute_result"
    }
   ],
   "source": [
    "# モデルを構築\n",
    "embedding = \"https://tfhub.dev/google/tf2-preview/gnews-swivel-20dim/1\"\n",
    "hub_layer = hub.KerasLayer(embedding, input_shape=[], \n",
    "                           dtype=tf.string, trainable=True)\n",
    "hub_layer(train_examples_batch[:3])"
   ]
  },
  {
   "cell_type": "code",
   "execution_count": 63,
   "id": "b70f4576",
   "metadata": {},
   "outputs": [
    {
     "name": "stdout",
     "output_type": "stream",
     "text": [
      "Model: \"sequential_4\"\n",
      "_________________________________________________________________\n",
      "Layer (type)                 Output Shape              Param #   \n",
      "=================================================================\n",
      "keras_layer (KerasLayer)     (None, 20)                400020    \n",
      "_________________________________________________________________\n",
      "dense_6 (Dense)              (None, 16)                336       \n",
      "_________________________________________________________________\n",
      "dense_7 (Dense)              (None, 1)                 17        \n",
      "=================================================================\n",
      "Total params: 400,373\n",
      "Trainable params: 400,373\n",
      "Non-trainable params: 0\n",
      "_________________________________________________________________\n"
     ]
    }
   ],
   "source": [
    "model = tf.keras.Sequential()\n",
    "# 文章から埋め込みベクトルにマッピングするために、トレーニング済みの SavedModel を使用。\n",
    "# 使用中のトレーニング済みのテキスト埋め込みモデルは文章をトークンに分割し、各トークンを埋め込んで、埋め込みを組み合わせる。\n",
    "model.add(hub_layer)\n",
    "model.add(tf.keras.layers.Dense(16, activation='relu'))\n",
    "model.add(tf.keras.layers.Dense(1))\n",
    "\n",
    "model.summary()"
   ]
  },
  {
   "cell_type": "code",
   "execution_count": 64,
   "id": "6741e41a",
   "metadata": {},
   "outputs": [],
   "source": [
    "# 損失関数とオプティマイザ\n",
    "model.compile(optimizer='adam',\n",
    "              loss=tf.keras.losses.BinaryCrossentropy(from_logits=True),\n",
    "              metrics=['accuracy'])"
   ]
  },
  {
   "cell_type": "code",
   "execution_count": 65,
   "id": "63bfb05b",
   "metadata": {},
   "outputs": [
    {
     "name": "stdout",
     "output_type": "stream",
     "text": [
      "Epoch 1/20\n",
      "30/30 [==============================] - 2s 48ms/step - loss: 0.8558 - accuracy: 0.5164 - val_loss: 0.7076 - val_accuracy: 0.5528\n",
      "Epoch 2/20\n",
      "30/30 [==============================] - 1s 39ms/step - loss: 0.6907 - accuracy: 0.5716 - val_loss: 0.6667 - val_accuracy: 0.5918\n",
      "Epoch 3/20\n",
      "30/30 [==============================] - 1s 38ms/step - loss: 0.6527 - accuracy: 0.6044 - val_loss: 0.6324 - val_accuracy: 0.6277\n",
      "Epoch 4/20\n",
      "30/30 [==============================] - 1s 38ms/step - loss: 0.6124 - accuracy: 0.6475 - val_loss: 0.5956 - val_accuracy: 0.6547\n",
      "Epoch 5/20\n",
      "30/30 [==============================] - 1s 38ms/step - loss: 0.5732 - accuracy: 0.6785 - val_loss: 0.5578 - val_accuracy: 0.6906\n",
      "Epoch 6/20\n",
      "30/30 [==============================] - 1s 38ms/step - loss: 0.5291 - accuracy: 0.7148 - val_loss: 0.5197 - val_accuracy: 0.7291\n",
      "Epoch 7/20\n",
      "30/30 [==============================] - 1s 38ms/step - loss: 0.4900 - accuracy: 0.7556 - val_loss: 0.4843 - val_accuracy: 0.7583\n",
      "Epoch 8/20\n",
      "30/30 [==============================] - 1s 38ms/step - loss: 0.4486 - accuracy: 0.7875 - val_loss: 0.4531 - val_accuracy: 0.7873\n",
      "Epoch 9/20\n",
      "30/30 [==============================] - 1s 38ms/step - loss: 0.4155 - accuracy: 0.8063 - val_loss: 0.4246 - val_accuracy: 0.8024\n",
      "Epoch 10/20\n",
      "30/30 [==============================] - 1s 38ms/step - loss: 0.3802 - accuracy: 0.8329 - val_loss: 0.4003 - val_accuracy: 0.8157\n",
      "Epoch 11/20\n",
      "30/30 [==============================] - 1s 39ms/step - loss: 0.3462 - accuracy: 0.8508 - val_loss: 0.3814 - val_accuracy: 0.8200\n",
      "Epoch 12/20\n",
      "30/30 [==============================] - 1s 39ms/step - loss: 0.3293 - accuracy: 0.8582 - val_loss: 0.3637 - val_accuracy: 0.8345\n",
      "Epoch 13/20\n",
      "30/30 [==============================] - 1s 40ms/step - loss: 0.2978 - accuracy: 0.8750 - val_loss: 0.3504 - val_accuracy: 0.8386\n",
      "Epoch 14/20\n",
      "30/30 [==============================] - 1s 41ms/step - loss: 0.2761 - accuracy: 0.8847 - val_loss: 0.3391 - val_accuracy: 0.8531\n",
      "Epoch 15/20\n",
      "30/30 [==============================] - 1s 39ms/step - loss: 0.2557 - accuracy: 0.8966 - val_loss: 0.3303 - val_accuracy: 0.8560\n",
      "Epoch 16/20\n",
      "30/30 [==============================] - 1s 39ms/step - loss: 0.2374 - accuracy: 0.9074 - val_loss: 0.3230 - val_accuracy: 0.8544\n",
      "Epoch 17/20\n",
      "30/30 [==============================] - 1s 39ms/step - loss: 0.2227 - accuracy: 0.9136 - val_loss: 0.3172 - val_accuracy: 0.8620\n",
      "Epoch 18/20\n",
      "30/30 [==============================] - 1s 39ms/step - loss: 0.2133 - accuracy: 0.9179 - val_loss: 0.3144 - val_accuracy: 0.8669\n",
      "Epoch 19/20\n",
      "30/30 [==============================] - 1s 39ms/step - loss: 0.1971 - accuracy: 0.9243 - val_loss: 0.3104 - val_accuracy: 0.8639\n",
      "Epoch 20/20\n",
      "30/30 [==============================] - 1s 39ms/step - loss: 0.1849 - accuracy: 0.9288 - val_loss: 0.3086 - val_accuracy: 0.8629\n"
     ]
    }
   ],
   "source": [
    "# モデルをトレーニング\n",
    "history = model.fit(train_data.shuffle(10000).batch(512),\n",
    "                    epochs=20,\n",
    "                    validation_data=validation_data.batch(512),\n",
    "                    verbose=1)"
   ]
  },
  {
   "cell_type": "code",
   "execution_count": 66,
   "id": "7324531c",
   "metadata": {},
   "outputs": [
    {
     "name": "stdout",
     "output_type": "stream",
     "text": [
      "49/49 - 1s - loss: 0.3213 - accuracy: 0.8532\n",
      "loss: 0.321\n",
      "accuracy: 0.853\n"
     ]
    }
   ],
   "source": [
    "# モデルを評価\n",
    "results = model.evaluate(test_data.batch(512), verbose=2)\n",
    "\n",
    "for name, value in zip(model.metrics_names, results):\n",
    "    print(\"%s: %.3f\" % (name, value))"
   ]
  },
  {
   "cell_type": "markdown",
   "id": "fb81b2d6",
   "metadata": {},
   "source": [
    "# 回帰：燃費を予測する\n",
    "\n",
    "[回帰：燃費を予測する](https://www.tensorflow.org/tutorials/keras/regression?hl=ja)"
   ]
  },
  {
   "cell_type": "code",
   "execution_count": 67,
   "id": "65ca5e6b",
   "metadata": {},
   "outputs": [
    {
     "name": "stdout",
     "output_type": "stream",
     "text": [
      "2.4.0\n"
     ]
    }
   ],
   "source": [
    "import pathlib\n",
    "\n",
    "import matplotlib.pyplot as plt\n",
    "import pandas as pd\n",
    "import seaborn as sns\n",
    "\n",
    "import tensorflow as tf\n",
    "\n",
    "from tensorflow import keras\n",
    "from tensorflow.keras import layers\n",
    "\n",
    "print(tf.__version__)"
   ]
  },
  {
   "cell_type": "code",
   "execution_count": 68,
   "id": "4ed1e09c",
   "metadata": {},
   "outputs": [
    {
     "data": {
      "text/plain": [
       "'/Users/akira/.keras/datasets/auto-mpg.data'"
      ]
     },
     "execution_count": 68,
     "metadata": {},
     "output_type": "execute_result"
    }
   ],
   "source": [
    "# Auto MPG データセット取得\n",
    "dataset_path = keras.utils.get_file(\"auto-mpg.data\", \"https://archive.ics.uci.edu/ml/machine-learning-databases/auto-mpg/auto-mpg.data\")\n",
    "dataset_path"
   ]
  },
  {
   "cell_type": "code",
   "execution_count": 69,
   "id": "e202ce5c",
   "metadata": {},
   "outputs": [
    {
     "data": {
      "text/html": [
       "<div>\n",
       "<style scoped>\n",
       "    .dataframe tbody tr th:only-of-type {\n",
       "        vertical-align: middle;\n",
       "    }\n",
       "\n",
       "    .dataframe tbody tr th {\n",
       "        vertical-align: top;\n",
       "    }\n",
       "\n",
       "    .dataframe thead th {\n",
       "        text-align: right;\n",
       "    }\n",
       "</style>\n",
       "<table border=\"1\" class=\"dataframe\">\n",
       "  <thead>\n",
       "    <tr style=\"text-align: right;\">\n",
       "      <th></th>\n",
       "      <th>MPG</th>\n",
       "      <th>Cylinders</th>\n",
       "      <th>Displacement</th>\n",
       "      <th>Horsepower</th>\n",
       "      <th>Weight</th>\n",
       "      <th>Acceleration</th>\n",
       "      <th>Model Year</th>\n",
       "      <th>Origin</th>\n",
       "    </tr>\n",
       "  </thead>\n",
       "  <tbody>\n",
       "    <tr>\n",
       "      <th>393</th>\n",
       "      <td>27.0</td>\n",
       "      <td>4</td>\n",
       "      <td>140.0</td>\n",
       "      <td>86.0</td>\n",
       "      <td>2790.0</td>\n",
       "      <td>15.6</td>\n",
       "      <td>82</td>\n",
       "      <td>1</td>\n",
       "    </tr>\n",
       "    <tr>\n",
       "      <th>394</th>\n",
       "      <td>44.0</td>\n",
       "      <td>4</td>\n",
       "      <td>97.0</td>\n",
       "      <td>52.0</td>\n",
       "      <td>2130.0</td>\n",
       "      <td>24.6</td>\n",
       "      <td>82</td>\n",
       "      <td>2</td>\n",
       "    </tr>\n",
       "    <tr>\n",
       "      <th>395</th>\n",
       "      <td>32.0</td>\n",
       "      <td>4</td>\n",
       "      <td>135.0</td>\n",
       "      <td>84.0</td>\n",
       "      <td>2295.0</td>\n",
       "      <td>11.6</td>\n",
       "      <td>82</td>\n",
       "      <td>1</td>\n",
       "    </tr>\n",
       "    <tr>\n",
       "      <th>396</th>\n",
       "      <td>28.0</td>\n",
       "      <td>4</td>\n",
       "      <td>120.0</td>\n",
       "      <td>79.0</td>\n",
       "      <td>2625.0</td>\n",
       "      <td>18.6</td>\n",
       "      <td>82</td>\n",
       "      <td>1</td>\n",
       "    </tr>\n",
       "    <tr>\n",
       "      <th>397</th>\n",
       "      <td>31.0</td>\n",
       "      <td>4</td>\n",
       "      <td>119.0</td>\n",
       "      <td>82.0</td>\n",
       "      <td>2720.0</td>\n",
       "      <td>19.4</td>\n",
       "      <td>82</td>\n",
       "      <td>1</td>\n",
       "    </tr>\n",
       "  </tbody>\n",
       "</table>\n",
       "</div>"
      ],
      "text/plain": [
       "      MPG  Cylinders  Displacement  Horsepower  Weight  Acceleration  \\\n",
       "393  27.0          4         140.0        86.0  2790.0          15.6   \n",
       "394  44.0          4          97.0        52.0  2130.0          24.6   \n",
       "395  32.0          4         135.0        84.0  2295.0          11.6   \n",
       "396  28.0          4         120.0        79.0  2625.0          18.6   \n",
       "397  31.0          4         119.0        82.0  2720.0          19.4   \n",
       "\n",
       "     Model Year  Origin  \n",
       "393          82       1  \n",
       "394          82       2  \n",
       "395          82       1  \n",
       "396          82       1  \n",
       "397          82       1  "
      ]
     },
     "execution_count": 69,
     "metadata": {},
     "output_type": "execute_result"
    }
   ],
   "source": [
    "# pandasを使用してインポート\n",
    "column_names = ['MPG','Cylinders','Displacement','Horsepower','Weight',\n",
    "                'Acceleration', 'Model Year', 'Origin'] \n",
    "raw_dataset = pd.read_csv(dataset_path, names=column_names,\n",
    "                      na_values = \"?\", comment='\\t',\n",
    "                      sep=\" \", skipinitialspace=True)\n",
    "\n",
    "dataset = raw_dataset.copy()\n",
    "dataset.tail()"
   ]
  },
  {
   "cell_type": "code",
   "execution_count": 70,
   "id": "08b6eb9b",
   "metadata": {},
   "outputs": [
    {
     "data": {
      "text/plain": [
       "MPG             0\n",
       "Cylinders       0\n",
       "Displacement    0\n",
       "Horsepower      6\n",
       "Weight          0\n",
       "Acceleration    0\n",
       "Model Year      0\n",
       "Origin          0\n",
       "dtype: int64"
      ]
     },
     "execution_count": 70,
     "metadata": {},
     "output_type": "execute_result"
    }
   ],
   "source": [
    "# データの確認\n",
    "dataset.isna().sum()"
   ]
  },
  {
   "cell_type": "code",
   "execution_count": 71,
   "id": "2ab0bcd1",
   "metadata": {},
   "outputs": [],
   "source": [
    "# 欠損値の削除\n",
    "dataset = dataset.dropna()"
   ]
  },
  {
   "cell_type": "code",
   "execution_count": 72,
   "id": "4e653e32",
   "metadata": {},
   "outputs": [],
   "source": [
    "origin = dataset.pop('Origin')"
   ]
  },
  {
   "cell_type": "code",
   "execution_count": 73,
   "id": "12534062",
   "metadata": {},
   "outputs": [
    {
     "data": {
      "text/html": [
       "<div>\n",
       "<style scoped>\n",
       "    .dataframe tbody tr th:only-of-type {\n",
       "        vertical-align: middle;\n",
       "    }\n",
       "\n",
       "    .dataframe tbody tr th {\n",
       "        vertical-align: top;\n",
       "    }\n",
       "\n",
       "    .dataframe thead th {\n",
       "        text-align: right;\n",
       "    }\n",
       "</style>\n",
       "<table border=\"1\" class=\"dataframe\">\n",
       "  <thead>\n",
       "    <tr style=\"text-align: right;\">\n",
       "      <th></th>\n",
       "      <th>MPG</th>\n",
       "      <th>Cylinders</th>\n",
       "      <th>Displacement</th>\n",
       "      <th>Horsepower</th>\n",
       "      <th>Weight</th>\n",
       "      <th>Acceleration</th>\n",
       "      <th>Model Year</th>\n",
       "      <th>USA</th>\n",
       "      <th>Europe</th>\n",
       "      <th>Japan</th>\n",
       "    </tr>\n",
       "  </thead>\n",
       "  <tbody>\n",
       "    <tr>\n",
       "      <th>393</th>\n",
       "      <td>27.0</td>\n",
       "      <td>4</td>\n",
       "      <td>140.0</td>\n",
       "      <td>86.0</td>\n",
       "      <td>2790.0</td>\n",
       "      <td>15.6</td>\n",
       "      <td>82</td>\n",
       "      <td>1.0</td>\n",
       "      <td>0.0</td>\n",
       "      <td>0.0</td>\n",
       "    </tr>\n",
       "    <tr>\n",
       "      <th>394</th>\n",
       "      <td>44.0</td>\n",
       "      <td>4</td>\n",
       "      <td>97.0</td>\n",
       "      <td>52.0</td>\n",
       "      <td>2130.0</td>\n",
       "      <td>24.6</td>\n",
       "      <td>82</td>\n",
       "      <td>0.0</td>\n",
       "      <td>1.0</td>\n",
       "      <td>0.0</td>\n",
       "    </tr>\n",
       "    <tr>\n",
       "      <th>395</th>\n",
       "      <td>32.0</td>\n",
       "      <td>4</td>\n",
       "      <td>135.0</td>\n",
       "      <td>84.0</td>\n",
       "      <td>2295.0</td>\n",
       "      <td>11.6</td>\n",
       "      <td>82</td>\n",
       "      <td>1.0</td>\n",
       "      <td>0.0</td>\n",
       "      <td>0.0</td>\n",
       "    </tr>\n",
       "    <tr>\n",
       "      <th>396</th>\n",
       "      <td>28.0</td>\n",
       "      <td>4</td>\n",
       "      <td>120.0</td>\n",
       "      <td>79.0</td>\n",
       "      <td>2625.0</td>\n",
       "      <td>18.6</td>\n",
       "      <td>82</td>\n",
       "      <td>1.0</td>\n",
       "      <td>0.0</td>\n",
       "      <td>0.0</td>\n",
       "    </tr>\n",
       "    <tr>\n",
       "      <th>397</th>\n",
       "      <td>31.0</td>\n",
       "      <td>4</td>\n",
       "      <td>119.0</td>\n",
       "      <td>82.0</td>\n",
       "      <td>2720.0</td>\n",
       "      <td>19.4</td>\n",
       "      <td>82</td>\n",
       "      <td>1.0</td>\n",
       "      <td>0.0</td>\n",
       "      <td>0.0</td>\n",
       "    </tr>\n",
       "  </tbody>\n",
       "</table>\n",
       "</div>"
      ],
      "text/plain": [
       "      MPG  Cylinders  Displacement  Horsepower  Weight  Acceleration  \\\n",
       "393  27.0          4         140.0        86.0  2790.0          15.6   \n",
       "394  44.0          4          97.0        52.0  2130.0          24.6   \n",
       "395  32.0          4         135.0        84.0  2295.0          11.6   \n",
       "396  28.0          4         120.0        79.0  2625.0          18.6   \n",
       "397  31.0          4         119.0        82.0  2720.0          19.4   \n",
       "\n",
       "     Model Year  USA  Europe  Japan  \n",
       "393          82  1.0     0.0    0.0  \n",
       "394          82  0.0     1.0    0.0  \n",
       "395          82  1.0     0.0    0.0  \n",
       "396          82  1.0     0.0    0.0  \n",
       "397          82  1.0     0.0    0.0  "
      ]
     },
     "execution_count": 73,
     "metadata": {},
     "output_type": "execute_result"
    }
   ],
   "source": [
    "# One-Hotエンコーディング\n",
    "dataset['USA'] = (origin == 1)*1.0\n",
    "dataset['Europe'] = (origin == 2)*1.0\n",
    "dataset['Japan'] = (origin == 3)*1.0\n",
    "dataset.tail()"
   ]
  },
  {
   "cell_type": "code",
   "execution_count": 74,
   "id": "ab5ac721",
   "metadata": {},
   "outputs": [],
   "source": [
    "# データを訓練用セットとテスト用セットに分割\n",
    "train_dataset = dataset.sample(frac=0.8,random_state=0)\n",
    "test_dataset = dataset.drop(train_dataset.index)"
   ]
  },
  {
   "cell_type": "code",
   "execution_count": 75,
   "id": "4f9c276c",
   "metadata": {},
   "outputs": [
    {
     "data": {
      "text/plain": [
       "<seaborn.axisgrid.PairGrid at 0x7f8db48702b0>"
      ]
     },
     "execution_count": 75,
     "metadata": {},
     "output_type": "execute_result"
    },
    {
     "data": {
      "image/png": "[encoded data removed]",
      "text/plain": [
       "<Figure size 720x720 with 20 Axes>"
      ]
     },
     "metadata": {
      "needs_background": "light"
     },
     "output_type": "display_data"
    }
   ],
   "source": [
    "# データの観察\n",
    "sns.pairplot(train_dataset[[\"MPG\", \"Cylinders\", \"Displacement\", \"Weight\"]], diag_kind=\"kde\")"
   ]
  },
  {
   "cell_type": "code",
   "execution_count": 76,
   "id": "aca3a52c",
   "metadata": {},
   "outputs": [
    {
     "data": {
      "text/html": [
       "<div>\n",
       "<style scoped>\n",
       "    .dataframe tbody tr th:only-of-type {\n",
       "        vertical-align: middle;\n",
       "    }\n",
       "\n",
       "    .dataframe tbody tr th {\n",
       "        vertical-align: top;\n",
       "    }\n",
       "\n",
       "    .dataframe thead th {\n",
       "        text-align: right;\n",
       "    }\n",
       "</style>\n",
       "<table border=\"1\" class=\"dataframe\">\n",
       "  <thead>\n",
       "    <tr style=\"text-align: right;\">\n",
       "      <th></th>\n",
       "      <th>count</th>\n",
       "      <th>mean</th>\n",
       "      <th>std</th>\n",
       "      <th>min</th>\n",
       "      <th>25%</th>\n",
       "      <th>50%</th>\n",
       "      <th>75%</th>\n",
       "      <th>max</th>\n",
       "    </tr>\n",
       "  </thead>\n",
       "  <tbody>\n",
       "    <tr>\n",
       "      <th>Cylinders</th>\n",
       "      <td>314.0</td>\n",
       "      <td>5.477707</td>\n",
       "      <td>1.699788</td>\n",
       "      <td>3.0</td>\n",
       "      <td>4.00</td>\n",
       "      <td>4.0</td>\n",
       "      <td>8.00</td>\n",
       "      <td>8.0</td>\n",
       "    </tr>\n",
       "    <tr>\n",
       "      <th>Displacement</th>\n",
       "      <td>314.0</td>\n",
       "      <td>195.318471</td>\n",
       "      <td>104.331589</td>\n",
       "      <td>68.0</td>\n",
       "      <td>105.50</td>\n",
       "      <td>151.0</td>\n",
       "      <td>265.75</td>\n",
       "      <td>455.0</td>\n",
       "    </tr>\n",
       "    <tr>\n",
       "      <th>Horsepower</th>\n",
       "      <td>314.0</td>\n",
       "      <td>104.869427</td>\n",
       "      <td>38.096214</td>\n",
       "      <td>46.0</td>\n",
       "      <td>76.25</td>\n",
       "      <td>94.5</td>\n",
       "      <td>128.00</td>\n",
       "      <td>225.0</td>\n",
       "    </tr>\n",
       "    <tr>\n",
       "      <th>Weight</th>\n",
       "      <td>314.0</td>\n",
       "      <td>2990.251592</td>\n",
       "      <td>843.898596</td>\n",
       "      <td>1649.0</td>\n",
       "      <td>2256.50</td>\n",
       "      <td>2822.5</td>\n",
       "      <td>3608.00</td>\n",
       "      <td>5140.0</td>\n",
       "    </tr>\n",
       "    <tr>\n",
       "      <th>Acceleration</th>\n",
       "      <td>314.0</td>\n",
       "      <td>15.559236</td>\n",
       "      <td>2.789230</td>\n",
       "      <td>8.0</td>\n",
       "      <td>13.80</td>\n",
       "      <td>15.5</td>\n",
       "      <td>17.20</td>\n",
       "      <td>24.8</td>\n",
       "    </tr>\n",
       "    <tr>\n",
       "      <th>Model Year</th>\n",
       "      <td>314.0</td>\n",
       "      <td>75.898089</td>\n",
       "      <td>3.675642</td>\n",
       "      <td>70.0</td>\n",
       "      <td>73.00</td>\n",
       "      <td>76.0</td>\n",
       "      <td>79.00</td>\n",
       "      <td>82.0</td>\n",
       "    </tr>\n",
       "    <tr>\n",
       "      <th>USA</th>\n",
       "      <td>314.0</td>\n",
       "      <td>0.624204</td>\n",
       "      <td>0.485101</td>\n",
       "      <td>0.0</td>\n",
       "      <td>0.00</td>\n",
       "      <td>1.0</td>\n",
       "      <td>1.00</td>\n",
       "      <td>1.0</td>\n",
       "    </tr>\n",
       "    <tr>\n",
       "      <th>Europe</th>\n",
       "      <td>314.0</td>\n",
       "      <td>0.178344</td>\n",
       "      <td>0.383413</td>\n",
       "      <td>0.0</td>\n",
       "      <td>0.00</td>\n",
       "      <td>0.0</td>\n",
       "      <td>0.00</td>\n",
       "      <td>1.0</td>\n",
       "    </tr>\n",
       "    <tr>\n",
       "      <th>Japan</th>\n",
       "      <td>314.0</td>\n",
       "      <td>0.197452</td>\n",
       "      <td>0.398712</td>\n",
       "      <td>0.0</td>\n",
       "      <td>0.00</td>\n",
       "      <td>0.0</td>\n",
       "      <td>0.00</td>\n",
       "      <td>1.0</td>\n",
       "    </tr>\n",
       "  </tbody>\n",
       "</table>\n",
       "</div>"
      ],
      "text/plain": [
       "              count         mean         std     min      25%     50%  \\\n",
       "Cylinders     314.0     5.477707    1.699788     3.0     4.00     4.0   \n",
       "Displacement  314.0   195.318471  104.331589    68.0   105.50   151.0   \n",
       "Horsepower    314.0   104.869427   38.096214    46.0    76.25    94.5   \n",
       "Weight        314.0  2990.251592  843.898596  1649.0  2256.50  2822.5   \n",
       "Acceleration  314.0    15.559236    2.789230     8.0    13.80    15.5   \n",
       "Model Year    314.0    75.898089    3.675642    70.0    73.00    76.0   \n",
       "USA           314.0     0.624204    0.485101     0.0     0.00     1.0   \n",
       "Europe        314.0     0.178344    0.383413     0.0     0.00     0.0   \n",
       "Japan         314.0     0.197452    0.398712     0.0     0.00     0.0   \n",
       "\n",
       "                  75%     max  \n",
       "Cylinders        8.00     8.0  \n",
       "Displacement   265.75   455.0  \n",
       "Horsepower     128.00   225.0  \n",
       "Weight        3608.00  5140.0  \n",
       "Acceleration    17.20    24.8  \n",
       "Model Year      79.00    82.0  \n",
       "USA              1.00     1.0  \n",
       "Europe           0.00     1.0  \n",
       "Japan            0.00     1.0  "
      ]
     },
     "execution_count": 76,
     "metadata": {},
     "output_type": "execute_result"
    }
   ],
   "source": [
    "# 全体の統計値を確認\n",
    "train_stats = train_dataset.describe()\n",
    "train_stats.pop(\"MPG\")\n",
    "train_stats = train_stats.transpose()\n",
    "train_stats"
   ]
  },
  {
   "cell_type": "code",
   "execution_count": 77,
   "id": "d4fb6583",
   "metadata": {},
   "outputs": [],
   "source": [
    "# ラベルと特徴量の分離\n",
    "train_labels = train_dataset.pop('MPG')\n",
    "test_labels = test_dataset.pop('MPG')"
   ]
  },
  {
   "cell_type": "code",
   "execution_count": 78,
   "id": "0b1dc902",
   "metadata": {},
   "outputs": [],
   "source": [
    "# データの正規化\n",
    "def norm(x):\n",
    "    return (x - train_stats['mean']) / train_stats['std']\n",
    "normed_train_data = norm(train_dataset)\n",
    "normed_test_data = norm(test_dataset)"
   ]
  },
  {
   "cell_type": "code",
   "execution_count": 79,
   "id": "1f4bc38b",
   "metadata": {},
   "outputs": [],
   "source": [
    "# モデルの構築\n",
    "def build_model():\n",
    "    model = keras.Sequential([\n",
    "        layers.Dense(64, activation='relu', input_shape=[len(train_dataset.keys())]),\n",
    "        layers.Dense(64, activation='relu'),\n",
    "        layers.Dense(1)\n",
    "      ])\n",
    "    \n",
    "    optimizer = tf.keras.optimizers.RMSprop(0.001)\n",
    "    \n",
    "    model.compile(loss='mse',\n",
    "                  optimizer=optimizer,\n",
    "                  metrics=['mae', 'mse'])\n",
    "    return model"
   ]
  },
  {
   "cell_type": "code",
   "execution_count": 80,
   "id": "f7fb41a3",
   "metadata": {},
   "outputs": [],
   "source": [
    "model = build_model()"
   ]
  },
  {
   "cell_type": "code",
   "execution_count": 81,
   "id": "32bdd7fe",
   "metadata": {},
   "outputs": [
    {
     "name": "stdout",
     "output_type": "stream",
     "text": [
      "Model: \"sequential_5\"\n",
      "_________________________________________________________________\n",
      "Layer (type)                 Output Shape              Param #   \n",
      "=================================================================\n",
      "dense_8 (Dense)              (None, 64)                640       \n",
      "_________________________________________________________________\n",
      "dense_9 (Dense)              (None, 64)                4160      \n",
      "_________________________________________________________________\n",
      "dense_10 (Dense)             (None, 1)                 65        \n",
      "=================================================================\n",
      "Total params: 4,865\n",
      "Trainable params: 4,865\n",
      "Non-trainable params: 0\n",
      "_________________________________________________________________\n"
     ]
    }
   ],
   "source": [
    "# モデルの要約\n",
    "model.summary()"
   ]
  },
  {
   "cell_type": "code",
   "execution_count": 82,
   "id": "314a2613",
   "metadata": {},
   "outputs": [
    {
     "data": {
      "text/plain": [
       "array([[ 0.19136317],\n",
       "       [ 0.2251967 ],\n",
       "       [-0.01867269],\n",
       "       [ 0.35551345],\n",
       "       [ 0.44364697],\n",
       "       [ 0.20377237],\n",
       "       [ 0.47594148],\n",
       "       [-0.02230369],\n",
       "       [-0.0204651 ],\n",
       "       [ 0.30099052]], dtype=float32)"
      ]
     },
     "execution_count": 82,
     "metadata": {},
     "output_type": "execute_result"
    }
   ],
   "source": [
    "# 10個のサンプルからなるバッチでモデルの検証\n",
    "example_batch = np.array(normed_train_data[:10])\n",
    "example_result = model.predict(example_batch)\n",
    "example_result"
   ]
  },
  {
   "cell_type": "code",
   "execution_count": 83,
   "id": "f62a821b",
   "metadata": {},
   "outputs": [
    {
     "name": "stdout",
     "output_type": "stream",
     "text": [
      "\n",
      "....................................................................................................\n",
      "....................................................................................................\n",
      "....................................................................................................\n",
      "....................................................................................................\n",
      "....................................................................................................\n",
      "....................................................................................................\n",
      "....................................................................................................\n",
      "....................................................................................................\n",
      "....................................................................................................\n",
      "...................................................................................................."
     ]
    }
   ],
   "source": [
    "# モデルの訓練\n",
    "# エポックが終わるごとにドットを一つ出力することで進捗を表示\n",
    "class PrintDot(keras.callbacks.Callback):\n",
    "    def on_epoch_end(self, epoch, logs):\n",
    "        if epoch % 100 == 0: \n",
    "            print('')\n",
    "        print('.', end='')\n",
    "\n",
    "EPOCHS = 1000\n",
    "\n",
    "history = model.fit(\n",
    "    np.array(normed_train_data), np.array(train_labels),\n",
    "    epochs=EPOCHS, validation_split = 0.2, verbose=0,\n",
    "    callbacks=[PrintDot()]\n",
    ")"
   ]
  },
  {
   "cell_type": "code",
   "execution_count": 84,
   "id": "bd7c2c23",
   "metadata": {},
   "outputs": [
    {
     "data": {
      "text/html": [
       "<div>\n",
       "<style scoped>\n",
       "    .dataframe tbody tr th:only-of-type {\n",
       "        vertical-align: middle;\n",
       "    }\n",
       "\n",
       "    .dataframe tbody tr th {\n",
       "        vertical-align: top;\n",
       "    }\n",
       "\n",
       "    .dataframe thead th {\n",
       "        text-align: right;\n",
       "    }\n",
       "</style>\n",
       "<table border=\"1\" class=\"dataframe\">\n",
       "  <thead>\n",
       "    <tr style=\"text-align: right;\">\n",
       "      <th></th>\n",
       "      <th>loss</th>\n",
       "      <th>mae</th>\n",
       "      <th>mse</th>\n",
       "      <th>val_loss</th>\n",
       "      <th>val_mae</th>\n",
       "      <th>val_mse</th>\n",
       "      <th>epoch</th>\n",
       "    </tr>\n",
       "  </thead>\n",
       "  <tbody>\n",
       "    <tr>\n",
       "      <th>995</th>\n",
       "      <td>2.727963</td>\n",
       "      <td>1.082119</td>\n",
       "      <td>2.727963</td>\n",
       "      <td>10.644114</td>\n",
       "      <td>2.617753</td>\n",
       "      <td>10.644114</td>\n",
       "      <td>995</td>\n",
       "    </tr>\n",
       "    <tr>\n",
       "      <th>996</th>\n",
       "      <td>2.424506</td>\n",
       "      <td>1.022438</td>\n",
       "      <td>2.424506</td>\n",
       "      <td>10.222491</td>\n",
       "      <td>2.537441</td>\n",
       "      <td>10.222491</td>\n",
       "      <td>996</td>\n",
       "    </tr>\n",
       "    <tr>\n",
       "      <th>997</th>\n",
       "      <td>2.847579</td>\n",
       "      <td>1.082944</td>\n",
       "      <td>2.847579</td>\n",
       "      <td>10.099565</td>\n",
       "      <td>2.553475</td>\n",
       "      <td>10.099565</td>\n",
       "      <td>997</td>\n",
       "    </tr>\n",
       "    <tr>\n",
       "      <th>998</th>\n",
       "      <td>2.421082</td>\n",
       "      <td>1.001721</td>\n",
       "      <td>2.421082</td>\n",
       "      <td>10.199598</td>\n",
       "      <td>2.591686</td>\n",
       "      <td>10.199598</td>\n",
       "      <td>998</td>\n",
       "    </tr>\n",
       "    <tr>\n",
       "      <th>999</th>\n",
       "      <td>2.554733</td>\n",
       "      <td>1.011346</td>\n",
       "      <td>2.554733</td>\n",
       "      <td>9.268970</td>\n",
       "      <td>2.342348</td>\n",
       "      <td>9.268970</td>\n",
       "      <td>999</td>\n",
       "    </tr>\n",
       "  </tbody>\n",
       "</table>\n",
       "</div>"
      ],
      "text/plain": [
       "         loss       mae       mse   val_loss   val_mae    val_mse  epoch\n",
       "995  2.727963  1.082119  2.727963  10.644114  2.617753  10.644114    995\n",
       "996  2.424506  1.022438  2.424506  10.222491  2.537441  10.222491    996\n",
       "997  2.847579  1.082944  2.847579  10.099565  2.553475  10.099565    997\n",
       "998  2.421082  1.001721  2.421082  10.199598  2.591686  10.199598    998\n",
       "999  2.554733  1.011346  2.554733   9.268970  2.342348   9.268970    999"
      ]
     },
     "execution_count": 84,
     "metadata": {},
     "output_type": "execute_result"
    }
   ],
   "source": [
    "# モデルの訓練の様子を可視化\n",
    "hist = pd.DataFrame(history.history)\n",
    "hist['epoch'] = history.epoch\n",
    "hist.tail()"
   ]
  },
  {
   "cell_type": "code",
   "execution_count": 85,
   "id": "1e1e0554",
   "metadata": {},
   "outputs": [
    {
     "data": {
      "image/png": "[encoded data removed]",
      "text/plain": [
       "<Figure size 432x288 with 1 Axes>"
      ]
     },
     "metadata": {
      "needs_background": "light"
     },
     "output_type": "display_data"
    },
    {
     "data": {
      "image/png": "[encoded data removed]",
      "text/plain": [
       "<Figure size 432x288 with 1 Axes>"
      ]
     },
     "metadata": {
      "needs_background": "light"
     },
     "output_type": "display_data"
    }
   ],
   "source": [
    "def plot_history(history):\n",
    "    hist = pd.DataFrame(history.history)\n",
    "    hist['epoch'] = history.epoch\n",
    "    \n",
    "    plt.figure()\n",
    "    plt.xlabel('Epoch')\n",
    "    plt.ylabel('Mean Abs Error [MPG]')\n",
    "    plt.plot(hist['epoch'], hist['mae'],\n",
    "             label='Train Error'\n",
    "            )\n",
    "    \n",
    "    plt.plot(hist['epoch'], hist['val_mae'],\n",
    "             label = 'Val Error'\n",
    "            )\n",
    "    \n",
    "    plt.ylim([0,5])\n",
    "    plt.legend()\n",
    "    \n",
    "    plt.figure()\n",
    "    plt.xlabel('Epoch')\n",
    "    plt.ylabel('Mean Square Error [$MPG^2$]')\n",
    "    plt.plot(hist['epoch'], hist['mse'],\n",
    "             label='Train Error'\n",
    "            )\n",
    "    plt.plot(hist['epoch'], \n",
    "             hist['val_mse'],\n",
    "             label='Val Error'\n",
    "            )\n",
    "    plt.ylim([0,20])\n",
    "    plt.legend()\n",
    "    plt.show()\n",
    "\n",
    "plot_history(history)"
   ]
  },
  {
   "cell_type": "code",
   "execution_count": 86,
   "id": "ec1ec288",
   "metadata": {},
   "outputs": [
    {
     "name": "stdout",
     "output_type": "stream",
     "text": [
      "\n",
      "................................................"
     ]
    },
    {
     "data": {
      "image/png": "[encoded data removed]",
      "text/plain": [
       "<Figure size 432x288 with 1 Axes>"
      ]
     },
     "metadata": {
      "needs_background": "light"
     },
     "output_type": "display_data"
    },
    {
     "data": {
      "image/png": "[encoded data removed]",
      "text/plain": [
       "<Figure size 432x288 with 1 Axes>"
      ]
     },
     "metadata": {
      "needs_background": "light"
     },
     "output_type": "display_data"
    }
   ],
   "source": [
    "# エポック毎に訓練状態をチェック\n",
    "model = build_model()\n",
    "\n",
    "# patience は改善が見られるかを監視するエポック数を表すパラメーター\n",
    "early_stop = keras.callbacks.EarlyStopping(monitor='val_loss', patience=10)\n",
    "\n",
    "history = model.fit(normed_train_data, train_labels, epochs=EPOCHS,\n",
    "                    validation_split = 0.2, verbose=0, callbacks=[early_stop, PrintDot()])\n",
    "\n",
    "plot_history(history)"
   ]
  },
  {
   "cell_type": "code",
   "execution_count": 87,
   "id": "275318c1",
   "metadata": {},
   "outputs": [
    {
     "name": "stdout",
     "output_type": "stream",
     "text": [
      "3/3 - 0s - loss: 5.6809 - mae: 1.8454 - mse: 5.6809\n",
      "Testing set Mean Abs Error:  1.85 MPG\n"
     ]
    }
   ],
   "source": [
    "# テスト用データセットで検証\n",
    "loss, mae, mse = model.evaluate(normed_test_data, test_labels, verbose=2)\n",
    "\n",
    "print(\"Testing set Mean Abs Error: {:5.2f} MPG\".format(mae))"
   ]
  },
  {
   "cell_type": "code",
   "execution_count": 88,
   "id": "d89e9832",
   "metadata": {},
   "outputs": [
    {
     "data": {
      "image/png": "[encoded data removed]",
      "text/plain": [
       "<Figure size 432x288 with 1 Axes>"
      ]
     },
     "metadata": {
      "needs_background": "light"
     },
     "output_type": "display_data"
    }
   ],
   "source": [
    "# モデルを使った予測\n",
    "test_predictions = model.predict(normed_test_data).flatten()\n",
    "\n",
    "plt.scatter(test_labels, test_predictions)\n",
    "plt.xlabel('True Values [MPG]')\n",
    "plt.ylabel('Predictions [MPG]')\n",
    "plt.axis('equal')\n",
    "plt.axis('square')\n",
    "plt.xlim([0,plt.xlim()[1]])\n",
    "plt.ylim([0,plt.ylim()[1]])\n",
    "_ = plt.plot([-100, 100], [-100, 100])"
   ]
  },
  {
   "cell_type": "code",
   "execution_count": 89,
   "id": "d2a63a77",
   "metadata": {},
   "outputs": [
    {
     "data": {
      "image/png": "[encoded data removed]",
      "text/plain": [
       "<Figure size 432x288 with 1 Axes>"
      ]
     },
     "metadata": {
      "needs_background": "light"
     },
     "output_type": "display_data"
    }
   ],
   "source": [
    "# 誤差の分布\n",
    "error = test_predictions - test_labels\n",
    "plt.hist(error, bins = 25)\n",
    "plt.xlabel(\"Prediction Error [MPG]\")\n",
    "_ = plt.ylabel(\"Count\")"
   ]
  },
  {
   "cell_type": "markdown",
   "id": "e4545b4d",
   "metadata": {},
   "source": [
    "# 過学習と学習不足について知る\n",
    "[過学習と学習不足について知る](https://www.tensorflow.org/tutorials/keras/overfit_and_underfit?hl=ja)\n",
    "\n",
    "- 訓練データを増やす\n",
    "- ネットワークの容量をへらす\n",
    "- 重みの正則化を行う\n",
    "- ドロップアウトを追加する"
   ]
  },
  {
   "cell_type": "code",
   "execution_count": 90,
   "id": "4bc1d623",
   "metadata": {},
   "outputs": [
    {
     "name": "stdout",
     "output_type": "stream",
     "text": [
      "2.4.0\n"
     ]
    }
   ],
   "source": [
    "import tensorflow as tf\n",
    "from tensorflow import keras\n",
    "\n",
    "import numpy as np\n",
    "import matplotlib.pyplot as plt\n",
    "\n",
    "print(tf.__version__)"
   ]
  },
  {
   "cell_type": "code",
   "execution_count": 91,
   "id": "b5d6f8e2",
   "metadata": {},
   "outputs": [
    {
     "name": "stderr",
     "output_type": "stream",
     "text": [
      "<__array_function__ internals>:5: VisibleDeprecationWarning: Creating an ndarray from ragged nested sequences (which is a list-or-tuple of lists-or-tuples-or ndarrays with different lengths or shapes) is deprecated. If you meant to do this, you must specify 'dtype=object' when creating the ndarray\n",
      "/opt/anaconda3/envs/local/lib/python3.8/site-packages/tensorflow/python/keras/datasets/imdb.py:159: VisibleDeprecationWarning: Creating an ndarray from ragged nested sequences (which is a list-or-tuple of lists-or-tuples-or ndarrays with different lengths or shapes) is deprecated. If you meant to do this, you must specify 'dtype=object' when creating the ndarray\n",
      "  x_train, y_train = np.array(xs[:idx]), np.array(labels[:idx])\n",
      "/opt/anaconda3/envs/local/lib/python3.8/site-packages/tensorflow/python/keras/datasets/imdb.py:160: VisibleDeprecationWarning: Creating an ndarray from ragged nested sequences (which is a list-or-tuple of lists-or-tuples-or ndarrays with different lengths or shapes) is deprecated. If you meant to do this, you must specify 'dtype=object' when creating the ndarray\n",
      "  x_test, y_test = np.array(xs[idx:]), np.array(labels[idx:])\n"
     ]
    }
   ],
   "source": [
    "# IMDBデータセットのダウンロード\n",
    "NUM_WORDS = 10000\n",
    "\n",
    "(train_data, train_labels), (test_data, test_labels) = keras.datasets.imdb.load_data(num_words=NUM_WORDS)\n",
    "\n",
    "def multi_hot_sequences(sequences, dimension):\n",
    "    # 形状が (len(sequences), dimension)ですべて0の行列を作る\n",
    "    results = np.zeros((len(sequences), dimension))\n",
    "    for i, word_indices in enumerate(sequences):\n",
    "        results[i, word_indices] = 1.0  # 特定のインデックスに対してresults[i] を１に設定する\n",
    "    return results\n",
    "\n",
    "\n",
    "train_data = multi_hot_sequences(train_data, dimension=NUM_WORDS)\n",
    "test_data = multi_hot_sequences(test_data, dimension=NUM_WORDS)"
   ]
  },
  {
   "cell_type": "code",
   "execution_count": 92,
   "id": "470a63e7",
   "metadata": {},
   "outputs": [
    {
     "data": {
      "text/plain": [
       "[<matplotlib.lines.Line2D at 0x7f8d82c22460>]"
      ]
     },
     "execution_count": 92,
     "metadata": {},
     "output_type": "execute_result"
    },
    {
     "data": {
      "image/png": "[encoded data removed]",
      "text/plain": [
       "<Figure size 432x288 with 1 Axes>"
      ]
     },
     "metadata": {
      "needs_background": "light"
     },
     "output_type": "display_data"
    }
   ],
   "source": [
    "# 分布の確認\n",
    "plt.plot(train_data[0])"
   ]
  },
  {
   "cell_type": "code",
   "execution_count": 93,
   "id": "ef281e46",
   "metadata": {},
   "outputs": [
    {
     "name": "stdout",
     "output_type": "stream",
     "text": [
      "Model: \"sequential_7\"\n",
      "_________________________________________________________________\n",
      "Layer (type)                 Output Shape              Param #   \n",
      "=================================================================\n",
      "dense_14 (Dense)             (None, 16)                160016    \n",
      "_________________________________________________________________\n",
      "dense_15 (Dense)             (None, 16)                272       \n",
      "_________________________________________________________________\n",
      "dense_16 (Dense)             (None, 1)                 17        \n",
      "=================================================================\n",
      "Total params: 160,305\n",
      "Trainable params: 160,305\n",
      "Non-trainable params: 0\n",
      "_________________________________________________________________\n"
     ]
    }
   ],
   "source": [
    "# 過学習のデモ\n",
    "# 過学習を防止するための最も単純な方法は、モデルのサイズ、すなわち、モデル内の学習可能なパラメータの数を小さくする。\n",
    "\n",
    "# 比較基準を作る\n",
    "baseline_model = keras.Sequential([\n",
    "    # `.summary` を見るために`input_shape`が必要 \n",
    "    keras.layers.Dense(16, activation='relu', input_shape=(NUM_WORDS,)),\n",
    "    keras.layers.Dense(16, activation='relu'),\n",
    "    keras.layers.Dense(1, activation='sigmoid')\n",
    "])\n",
    "\n",
    "baseline_model.compile(optimizer='adam',\n",
    "                       loss='binary_crossentropy',\n",
    "                       metrics=['accuracy', 'binary_crossentropy'])\n",
    "\n",
    "baseline_model.summary()"
   ]
  },
  {
   "cell_type": "code",
   "execution_count": 94,
   "id": "f78b1875",
   "metadata": {},
   "outputs": [
    {
     "name": "stdout",
     "output_type": "stream",
     "text": [
      "Epoch 1/20\n",
      "49/49 - 3s - loss: 0.4604 - accuracy: 0.8116 - binary_crossentropy: 0.4604 - val_loss: 0.3212 - val_accuracy: 0.8796 - val_binary_crossentropy: 0.3212\n",
      "Epoch 2/20\n",
      "49/49 - 1s - loss: 0.2347 - accuracy: 0.9154 - binary_crossentropy: 0.2347 - val_loss: 0.2861 - val_accuracy: 0.8864 - val_binary_crossentropy: 0.2861\n",
      "Epoch 3/20\n",
      "49/49 - 0s - loss: 0.1743 - accuracy: 0.9394 - binary_crossentropy: 0.1743 - val_loss: 0.2989 - val_accuracy: 0.8812 - val_binary_crossentropy: 0.2989\n",
      "Epoch 4/20\n",
      "49/49 - 0s - loss: 0.1406 - accuracy: 0.9523 - binary_crossentropy: 0.1406 - val_loss: 0.3321 - val_accuracy: 0.8729 - val_binary_crossentropy: 0.3321\n",
      "Epoch 5/20\n",
      "49/49 - 0s - loss: 0.1151 - accuracy: 0.9625 - binary_crossentropy: 0.1151 - val_loss: 0.3493 - val_accuracy: 0.8736 - val_binary_crossentropy: 0.3493\n",
      "Epoch 6/20\n",
      "49/49 - 0s - loss: 0.0912 - accuracy: 0.9722 - binary_crossentropy: 0.0912 - val_loss: 0.3821 - val_accuracy: 0.8693 - val_binary_crossentropy: 0.3821\n",
      "Epoch 7/20\n",
      "49/49 - 0s - loss: 0.0714 - accuracy: 0.9798 - binary_crossentropy: 0.0714 - val_loss: 0.4196 - val_accuracy: 0.8663 - val_binary_crossentropy: 0.4196\n",
      "Epoch 8/20\n",
      "49/49 - 0s - loss: 0.0542 - accuracy: 0.9876 - binary_crossentropy: 0.0542 - val_loss: 0.4640 - val_accuracy: 0.8642 - val_binary_crossentropy: 0.4640\n",
      "Epoch 9/20\n",
      "49/49 - 0s - loss: 0.0403 - accuracy: 0.9922 - binary_crossentropy: 0.0403 - val_loss: 0.5033 - val_accuracy: 0.8615 - val_binary_crossentropy: 0.5033\n",
      "Epoch 10/20\n",
      "49/49 - 0s - loss: 0.0295 - accuracy: 0.9954 - binary_crossentropy: 0.0295 - val_loss: 0.5481 - val_accuracy: 0.8598 - val_binary_crossentropy: 0.5481\n",
      "Epoch 11/20\n",
      "49/49 - 0s - loss: 0.0212 - accuracy: 0.9977 - binary_crossentropy: 0.0212 - val_loss: 0.5856 - val_accuracy: 0.8578 - val_binary_crossentropy: 0.5856\n",
      "Epoch 12/20\n",
      "49/49 - 0s - loss: 0.0153 - accuracy: 0.9988 - binary_crossentropy: 0.0153 - val_loss: 0.6244 - val_accuracy: 0.8567 - val_binary_crossentropy: 0.6244\n",
      "Epoch 13/20\n",
      "49/49 - 0s - loss: 0.0110 - accuracy: 0.9993 - binary_crossentropy: 0.0110 - val_loss: 0.6584 - val_accuracy: 0.8563 - val_binary_crossentropy: 0.6584\n",
      "Epoch 14/20\n",
      "49/49 - 0s - loss: 0.0082 - accuracy: 0.9997 - binary_crossentropy: 0.0082 - val_loss: 0.6908 - val_accuracy: 0.8562 - val_binary_crossentropy: 0.6908\n",
      "Epoch 15/20\n",
      "49/49 - 0s - loss: 0.0062 - accuracy: 1.0000 - binary_crossentropy: 0.0062 - val_loss: 0.7215 - val_accuracy: 0.8553 - val_binary_crossentropy: 0.7215\n",
      "Epoch 16/20\n",
      "49/49 - 0s - loss: 0.0048 - accuracy: 1.0000 - binary_crossentropy: 0.0048 - val_loss: 0.7499 - val_accuracy: 0.8550 - val_binary_crossentropy: 0.7499\n",
      "Epoch 17/20\n",
      "49/49 - 0s - loss: 0.0038 - accuracy: 1.0000 - binary_crossentropy: 0.0038 - val_loss: 0.7733 - val_accuracy: 0.8553 - val_binary_crossentropy: 0.7733\n",
      "Epoch 18/20\n",
      "49/49 - 0s - loss: 0.0031 - accuracy: 1.0000 - binary_crossentropy: 0.0031 - val_loss: 0.7959 - val_accuracy: 0.8550 - val_binary_crossentropy: 0.7959\n",
      "Epoch 19/20\n",
      "49/49 - 0s - loss: 0.0026 - accuracy: 1.0000 - binary_crossentropy: 0.0026 - val_loss: 0.8145 - val_accuracy: 0.8545 - val_binary_crossentropy: 0.8145\n",
      "Epoch 20/20\n",
      "49/49 - 0s - loss: 0.0022 - accuracy: 1.0000 - binary_crossentropy: 0.0022 - val_loss: 0.8356 - val_accuracy: 0.8545 - val_binary_crossentropy: 0.8356\n"
     ]
    }
   ],
   "source": [
    "# 訓練\n",
    "baseline_history = baseline_model.fit(train_data,\n",
    "                                      train_labels,\n",
    "                                      epochs=20,\n",
    "                                      batch_size=512,\n",
    "                                      validation_data=(test_data, test_labels),\n",
    "                                      verbose=2)"
   ]
  },
  {
   "cell_type": "code",
   "execution_count": 95,
   "id": "4b012d39",
   "metadata": {},
   "outputs": [
    {
     "name": "stdout",
     "output_type": "stream",
     "text": [
      "Model: \"sequential_8\"\n",
      "_________________________________________________________________\n",
      "Layer (type)                 Output Shape              Param #   \n",
      "=================================================================\n",
      "dense_17 (Dense)             (None, 4)                 40004     \n",
      "_________________________________________________________________\n",
      "dense_18 (Dense)             (None, 4)                 20        \n",
      "_________________________________________________________________\n",
      "dense_19 (Dense)             (None, 1)                 5         \n",
      "=================================================================\n",
      "Total params: 40,029\n",
      "Trainable params: 40,029\n",
      "Non-trainable params: 0\n",
      "_________________________________________________________________\n"
     ]
    }
   ],
   "source": [
    "# より小さいモデルの構築\n",
    "# 隠れユニット数が少ないモデルを作成\n",
    "smaller_model = keras.Sequential([\n",
    "    keras.layers.Dense(4, activation='relu', input_shape=(NUM_WORDS,)),\n",
    "    keras.layers.Dense(4, activation='relu'),\n",
    "    keras.layers.Dense(1, activation='sigmoid')\n",
    "])\n",
    "\n",
    "smaller_model.compile(optimizer='adam',\n",
    "                      loss='binary_crossentropy',\n",
    "                      metrics=['accuracy', 'binary_crossentropy'])\n",
    "\n",
    "smaller_model.summary()"
   ]
  },
  {
   "cell_type": "code",
   "execution_count": 96,
   "id": "237b0e90",
   "metadata": {},
   "outputs": [
    {
     "name": "stdout",
     "output_type": "stream",
     "text": [
      "Epoch 1/20\n",
      "49/49 - 1s - loss: 0.6426 - accuracy: 0.6188 - binary_crossentropy: 0.6426 - val_loss: 0.5895 - val_accuracy: 0.7218 - val_binary_crossentropy: 0.5895\n",
      "Epoch 2/20\n",
      "49/49 - 1s - loss: 0.5370 - accuracy: 0.7916 - binary_crossentropy: 0.5370 - val_loss: 0.5180 - val_accuracy: 0.8270 - val_binary_crossentropy: 0.5180\n",
      "Epoch 3/20\n",
      "49/49 - 1s - loss: 0.4674 - accuracy: 0.8702 - binary_crossentropy: 0.4674 - val_loss: 0.4745 - val_accuracy: 0.8692 - val_binary_crossentropy: 0.4745\n",
      "Epoch 4/20\n",
      "49/49 - 1s - loss: 0.4203 - accuracy: 0.9047 - binary_crossentropy: 0.4203 - val_loss: 0.4547 - val_accuracy: 0.8736 - val_binary_crossentropy: 0.4547\n",
      "Epoch 5/20\n",
      "49/49 - 1s - loss: 0.3886 - accuracy: 0.9245 - binary_crossentropy: 0.3886 - val_loss: 0.4445 - val_accuracy: 0.8722 - val_binary_crossentropy: 0.4445\n",
      "Epoch 6/20\n",
      "49/49 - 1s - loss: 0.3623 - accuracy: 0.9393 - binary_crossentropy: 0.3623 - val_loss: 0.4356 - val_accuracy: 0.8766 - val_binary_crossentropy: 0.4356\n",
      "Epoch 7/20\n",
      "49/49 - 1s - loss: 0.3408 - accuracy: 0.9484 - binary_crossentropy: 0.3408 - val_loss: 0.4299 - val_accuracy: 0.8772 - val_binary_crossentropy: 0.4299\n",
      "Epoch 8/20\n",
      "49/49 - 1s - loss: 0.3216 - accuracy: 0.9562 - binary_crossentropy: 0.3216 - val_loss: 0.4316 - val_accuracy: 0.8748 - val_binary_crossentropy: 0.4316\n",
      "Epoch 9/20\n",
      "49/49 - 1s - loss: 0.3048 - accuracy: 0.9620 - binary_crossentropy: 0.3048 - val_loss: 0.4269 - val_accuracy: 0.8745 - val_binary_crossentropy: 0.4269\n",
      "Epoch 10/20\n",
      "49/49 - 1s - loss: 0.2892 - accuracy: 0.9669 - binary_crossentropy: 0.2892 - val_loss: 0.4285 - val_accuracy: 0.8732 - val_binary_crossentropy: 0.4285\n",
      "Epoch 11/20\n",
      "49/49 - 1s - loss: 0.2747 - accuracy: 0.9716 - binary_crossentropy: 0.2747 - val_loss: 0.4341 - val_accuracy: 0.8696 - val_binary_crossentropy: 0.4341\n",
      "Epoch 12/20\n",
      "49/49 - 1s - loss: 0.2615 - accuracy: 0.9742 - binary_crossentropy: 0.2615 - val_loss: 0.4358 - val_accuracy: 0.8695 - val_binary_crossentropy: 0.4358\n",
      "Epoch 13/20\n",
      "49/49 - 1s - loss: 0.2496 - accuracy: 0.9765 - binary_crossentropy: 0.2496 - val_loss: 0.4406 - val_accuracy: 0.8683 - val_binary_crossentropy: 0.4406\n",
      "Epoch 14/20\n",
      "49/49 - 1s - loss: 0.2383 - accuracy: 0.9795 - binary_crossentropy: 0.2383 - val_loss: 0.4380 - val_accuracy: 0.8700 - val_binary_crossentropy: 0.4380\n",
      "Epoch 15/20\n",
      "49/49 - 1s - loss: 0.2280 - accuracy: 0.9811 - binary_crossentropy: 0.2280 - val_loss: 0.4446 - val_accuracy: 0.8684 - val_binary_crossentropy: 0.4446\n",
      "Epoch 16/20\n",
      "49/49 - 1s - loss: 0.1746 - accuracy: 0.9824 - binary_crossentropy: 0.1746 - val_loss: 0.3695 - val_accuracy: 0.8687 - val_binary_crossentropy: 0.3695\n",
      "Epoch 17/20\n",
      "49/49 - 1s - loss: 0.1007 - accuracy: 0.9810 - binary_crossentropy: 0.1007 - val_loss: 0.3910 - val_accuracy: 0.8670 - val_binary_crossentropy: 0.3910\n",
      "Epoch 18/20\n",
      "49/49 - 1s - loss: 0.0867 - accuracy: 0.9835 - binary_crossentropy: 0.0867 - val_loss: 0.4141 - val_accuracy: 0.8660 - val_binary_crossentropy: 0.4141\n",
      "Epoch 19/20\n",
      "49/49 - 1s - loss: 0.0765 - accuracy: 0.9860 - binary_crossentropy: 0.0765 - val_loss: 0.4341 - val_accuracy: 0.8644 - val_binary_crossentropy: 0.4341\n",
      "Epoch 20/20\n",
      "49/49 - 1s - loss: 0.0683 - accuracy: 0.9875 - binary_crossentropy: 0.0683 - val_loss: 0.4518 - val_accuracy: 0.8629 - val_binary_crossentropy: 0.4518\n"
     ]
    }
   ],
   "source": [
    "# 訓練\n",
    "smaller_history = smaller_model.fit(train_data,\n",
    "                                    train_labels,\n",
    "                                    epochs=20,\n",
    "                                    batch_size=512,\n",
    "                                    validation_data=(test_data, test_labels),\n",
    "                                    verbose=2)"
   ]
  },
  {
   "cell_type": "code",
   "execution_count": 97,
   "id": "5a6b44f9",
   "metadata": {},
   "outputs": [
    {
     "name": "stdout",
     "output_type": "stream",
     "text": [
      "Model: \"sequential_9\"\n",
      "_________________________________________________________________\n",
      "Layer (type)                 Output Shape              Param #   \n",
      "=================================================================\n",
      "dense_20 (Dense)             (None, 512)               5120512   \n",
      "_________________________________________________________________\n",
      "dense_21 (Dense)             (None, 512)               262656    \n",
      "_________________________________________________________________\n",
      "dense_22 (Dense)             (None, 1)                 513       \n",
      "=================================================================\n",
      "Total params: 5,383,681\n",
      "Trainable params: 5,383,681\n",
      "Non-trainable params: 0\n",
      "_________________________________________________________________\n"
     ]
    }
   ],
   "source": [
    "# より大きなモデルの構築\n",
    "# 過学習を起こす\n",
    "bigger_model = keras.models.Sequential([\n",
    "    keras.layers.Dense(512, activation='relu', input_shape=(NUM_WORDS,)),\n",
    "    keras.layers.Dense(512, activation='relu'),\n",
    "    keras.layers.Dense(1, activation='sigmoid')\n",
    "])\n",
    "\n",
    "bigger_model.compile(optimizer='adam',\n",
    "                     loss='binary_crossentropy',\n",
    "                     metrics=['accuracy','binary_crossentropy'])\n",
    "\n",
    "bigger_model.summary()"
   ]
  },
  {
   "cell_type": "code",
   "execution_count": 98,
   "id": "1ea3ff05",
   "metadata": {},
   "outputs": [
    {
     "name": "stdout",
     "output_type": "stream",
     "text": [
      "Epoch 1/20\n",
      "49/49 - 11s - loss: 0.3486 - accuracy: 0.8546 - binary_crossentropy: 0.3486 - val_loss: 0.2862 - val_accuracy: 0.8850 - val_binary_crossentropy: 0.2862\n",
      "Epoch 2/20\n",
      "49/49 - 8s - loss: 0.1343 - accuracy: 0.9521 - binary_crossentropy: 0.1343 - val_loss: 0.3361 - val_accuracy: 0.8705 - val_binary_crossentropy: 0.3361\n",
      "Epoch 3/20\n",
      "49/49 - 9s - loss: 0.0452 - accuracy: 0.9869 - binary_crossentropy: 0.0452 - val_loss: 0.4345 - val_accuracy: 0.8690 - val_binary_crossentropy: 0.4345\n",
      "Epoch 4/20\n",
      "49/49 - 9s - loss: 0.0060 - accuracy: 0.9990 - binary_crossentropy: 0.0060 - val_loss: 0.6080 - val_accuracy: 0.8685 - val_binary_crossentropy: 0.6080\n",
      "Epoch 5/20\n",
      "49/49 - 8s - loss: 6.0298e-04 - accuracy: 1.0000 - binary_crossentropy: 6.0298e-04 - val_loss: 0.6973 - val_accuracy: 0.8699 - val_binary_crossentropy: 0.6973\n",
      "Epoch 6/20\n",
      "49/49 - 9s - loss: 2.9033e-04 - accuracy: 1.0000 - binary_crossentropy: 2.9033e-04 - val_loss: 0.7410 - val_accuracy: 0.8704 - val_binary_crossentropy: 0.7410\n",
      "Epoch 7/20\n",
      "49/49 - 8s - loss: 9.0725e-04 - accuracy: 1.0000 - binary_crossentropy: 9.0725e-04 - val_loss: 0.7462 - val_accuracy: 0.8709 - val_binary_crossentropy: 0.7462\n",
      "Epoch 8/20\n",
      "49/49 - 8s - loss: 1.0580e-04 - accuracy: 1.0000 - binary_crossentropy: 1.0580e-04 - val_loss: 0.7756 - val_accuracy: 0.8711 - val_binary_crossentropy: 0.7756\n",
      "Epoch 9/20\n",
      "49/49 - 8s - loss: 7.7234e-05 - accuracy: 1.0000 - binary_crossentropy: 7.7234e-05 - val_loss: 0.7983 - val_accuracy: 0.8710 - val_binary_crossentropy: 0.7983\n",
      "Epoch 10/20\n",
      "49/49 - 8s - loss: 5.9644e-05 - accuracy: 1.0000 - binary_crossentropy: 5.9644e-05 - val_loss: 0.8174 - val_accuracy: 0.8712 - val_binary_crossentropy: 0.8174\n",
      "Epoch 11/20\n",
      "49/49 - 8s - loss: 4.7757e-05 - accuracy: 1.0000 - binary_crossentropy: 4.7757e-05 - val_loss: 0.8344 - val_accuracy: 0.8713 - val_binary_crossentropy: 0.8344\n",
      "Epoch 12/20\n",
      "49/49 - 8s - loss: 3.9097e-05 - accuracy: 1.0000 - binary_crossentropy: 3.9097e-05 - val_loss: 0.8496 - val_accuracy: 0.8710 - val_binary_crossentropy: 0.8496\n",
      "Epoch 13/20\n",
      "49/49 - 8s - loss: 3.2619e-05 - accuracy: 1.0000 - binary_crossentropy: 3.2619e-05 - val_loss: 0.8627 - val_accuracy: 0.8712 - val_binary_crossentropy: 0.8627\n",
      "Epoch 14/20\n",
      "49/49 - 8s - loss: 2.7574e-05 - accuracy: 1.0000 - binary_crossentropy: 2.7574e-05 - val_loss: 0.8756 - val_accuracy: 0.8710 - val_binary_crossentropy: 0.8756\n",
      "Epoch 15/20\n",
      "49/49 - 8s - loss: 2.3600e-05 - accuracy: 1.0000 - binary_crossentropy: 2.3600e-05 - val_loss: 0.8875 - val_accuracy: 0.8711 - val_binary_crossentropy: 0.8875\n",
      "Epoch 16/20\n",
      "49/49 - 8s - loss: 2.0390e-05 - accuracy: 1.0000 - binary_crossentropy: 2.0390e-05 - val_loss: 0.8985 - val_accuracy: 0.8709 - val_binary_crossentropy: 0.8985\n",
      "Epoch 17/20\n",
      "49/49 - 8s - loss: 1.7777e-05 - accuracy: 1.0000 - binary_crossentropy: 1.7777e-05 - val_loss: 0.9084 - val_accuracy: 0.8713 - val_binary_crossentropy: 0.9084\n",
      "Epoch 18/20\n",
      "49/49 - 8s - loss: 1.5613e-05 - accuracy: 1.0000 - binary_crossentropy: 1.5613e-05 - val_loss: 0.9181 - val_accuracy: 0.8712 - val_binary_crossentropy: 0.9181\n",
      "Epoch 19/20\n",
      "49/49 - 8s - loss: 1.3794e-05 - accuracy: 1.0000 - binary_crossentropy: 1.3794e-05 - val_loss: 0.9278 - val_accuracy: 0.8712 - val_binary_crossentropy: 0.9278\n",
      "Epoch 20/20\n",
      "49/49 - 8s - loss: 1.2264e-05 - accuracy: 1.0000 - binary_crossentropy: 1.2264e-05 - val_loss: 0.9367 - val_accuracy: 0.8713 - val_binary_crossentropy: 0.9367\n"
     ]
    }
   ],
   "source": [
    "# 訓練\n",
    "bigger_history = bigger_model.fit(train_data, train_labels,\n",
    "                                  epochs=20,\n",
    "                                  batch_size=512,\n",
    "                                  validation_data=(test_data, test_labels),\n",
    "                                  verbose=2)"
   ]
  },
  {
   "cell_type": "code",
   "execution_count": 99,
   "id": "17f2e7f6",
   "metadata": {},
   "outputs": [
    {
     "data": {
      "image/png": "[encoded data removed]",
      "text/plain": [
       "<Figure size 1152x720 with 1 Axes>"
      ]
     },
     "metadata": {
      "needs_background": "light"
     },
     "output_type": "display_data"
    }
   ],
   "source": [
    "# 訓練時と検証時の損失をグラフにする\n",
    "def plot_history(histories, key='binary_crossentropy'):\n",
    "    plt.figure(figsize=(16,10))\n",
    "    \n",
    "    for name, history in histories:\n",
    "        val = plt.plot(history.epoch, history.history['val_'+key], '--', label=name.title()+' Val')\n",
    "        \n",
    "        plt.plot(history.epoch, history.history[key], color=val[0].get_color(), label=name.title()+' Train')\n",
    "    \n",
    "    plt.xlabel('Epochs')\n",
    "    plt.ylabel(key.replace('_',' ').title())\n",
    "    plt.legend()\n",
    "    \n",
    "    plt.xlim([0,max(history.epoch)])\n",
    "\n",
    "\n",
    "plot_history([('baseline', baseline_history),\n",
    "              ('smaller', smaller_history),\n",
    "              ('bigger', bigger_history)])"
   ]
  },
  {
   "cell_type": "code",
   "execution_count": 100,
   "id": "1079349d",
   "metadata": {},
   "outputs": [],
   "source": [
    "# より大きなネットワークでは、すぐに、1エポックで過学習が始まり、その度合も強い。\n",
    "# ネットワークの容量が大きいほど訓練用データをモデル化するスピードが早くなる（結果として訓練時の損失値が小さくなり）が、より過学習しやすく（結果として訓練時の損失値と検証時の損失値が大きく乖離しやすく）なる。"
   ]
  },
  {
   "cell_type": "code",
   "execution_count": 101,
   "id": "047088f4",
   "metadata": {},
   "outputs": [
    {
     "name": "stdout",
     "output_type": "stream",
     "text": [
      "Epoch 1/20\n",
      "49/49 - 2s - loss: 0.5451 - accuracy: 0.7894 - binary_crossentropy: 0.5077 - val_loss: 0.3986 - val_accuracy: 0.8730 - val_binary_crossentropy: 0.3615\n",
      "Epoch 2/20\n",
      "49/49 - 1s - loss: 0.3159 - accuracy: 0.9048 - binary_crossentropy: 0.2744 - val_loss: 0.3360 - val_accuracy: 0.8859 - val_binary_crossentropy: 0.2911\n",
      "Epoch 3/20\n",
      "49/49 - 1s - loss: 0.2592 - accuracy: 0.9255 - binary_crossentropy: 0.2116 - val_loss: 0.3326 - val_accuracy: 0.8874 - val_binary_crossentropy: 0.2829\n",
      "Epoch 4/20\n",
      "49/49 - 1s - loss: 0.2339 - accuracy: 0.9361 - binary_crossentropy: 0.1824 - val_loss: 0.3414 - val_accuracy: 0.8842 - val_binary_crossentropy: 0.2889\n",
      "Epoch 5/20\n",
      "49/49 - 1s - loss: 0.2181 - accuracy: 0.9445 - binary_crossentropy: 0.1643 - val_loss: 0.3524 - val_accuracy: 0.8809 - val_binary_crossentropy: 0.2978\n",
      "Epoch 6/20\n",
      "49/49 - 1s - loss: 0.2051 - accuracy: 0.9492 - binary_crossentropy: 0.1497 - val_loss: 0.3647 - val_accuracy: 0.8777 - val_binary_crossentropy: 0.3089\n",
      "Epoch 7/20\n",
      "49/49 - 1s - loss: 0.1969 - accuracy: 0.9540 - binary_crossentropy: 0.1403 - val_loss: 0.3777 - val_accuracy: 0.8743 - val_binary_crossentropy: 0.3207\n",
      "Epoch 8/20\n",
      "49/49 - 1s - loss: 0.1896 - accuracy: 0.9556 - binary_crossentropy: 0.1319 - val_loss: 0.3951 - val_accuracy: 0.8704 - val_binary_crossentropy: 0.3369\n",
      "Epoch 9/20\n",
      "49/49 - 1s - loss: 0.1844 - accuracy: 0.9590 - binary_crossentropy: 0.1256 - val_loss: 0.4033 - val_accuracy: 0.8722 - val_binary_crossentropy: 0.3440\n",
      "Epoch 10/20\n",
      "49/49 - 1s - loss: 0.1791 - accuracy: 0.9590 - binary_crossentropy: 0.1193 - val_loss: 0.4155 - val_accuracy: 0.8693 - val_binary_crossentropy: 0.3554\n",
      "Epoch 11/20\n",
      "49/49 - 1s - loss: 0.1742 - accuracy: 0.9616 - binary_crossentropy: 0.1136 - val_loss: 0.4295 - val_accuracy: 0.8663 - val_binary_crossentropy: 0.3686\n",
      "Epoch 12/20\n",
      "49/49 - 1s - loss: 0.1709 - accuracy: 0.9632 - binary_crossentropy: 0.1098 - val_loss: 0.4371 - val_accuracy: 0.8661 - val_binary_crossentropy: 0.3757\n",
      "Epoch 13/20\n",
      "49/49 - 1s - loss: 0.1670 - accuracy: 0.9646 - binary_crossentropy: 0.1048 - val_loss: 0.4523 - val_accuracy: 0.8647 - val_binary_crossentropy: 0.3900\n",
      "Epoch 14/20\n",
      "49/49 - 1s - loss: 0.1625 - accuracy: 0.9663 - binary_crossentropy: 0.0998 - val_loss: 0.4758 - val_accuracy: 0.8587 - val_binary_crossentropy: 0.4128\n",
      "Epoch 15/20\n",
      "49/49 - 1s - loss: 0.1609 - accuracy: 0.9668 - binary_crossentropy: 0.0973 - val_loss: 0.4766 - val_accuracy: 0.8609 - val_binary_crossentropy: 0.4127\n",
      "Epoch 16/20\n",
      "49/49 - 1s - loss: 0.1565 - accuracy: 0.9684 - binary_crossentropy: 0.0923 - val_loss: 0.4945 - val_accuracy: 0.8595 - val_binary_crossentropy: 0.4298\n",
      "Epoch 17/20\n",
      "49/49 - 1s - loss: 0.1529 - accuracy: 0.9704 - binary_crossentropy: 0.0878 - val_loss: 0.5083 - val_accuracy: 0.8588 - val_binary_crossentropy: 0.4430\n",
      "Epoch 18/20\n",
      "49/49 - 1s - loss: 0.1511 - accuracy: 0.9721 - binary_crossentropy: 0.0853 - val_loss: 0.5188 - val_accuracy: 0.8580 - val_binary_crossentropy: 0.4523\n",
      "Epoch 19/20\n",
      "49/49 - 1s - loss: 0.1456 - accuracy: 0.9743 - binary_crossentropy: 0.0789 - val_loss: 0.5310 - val_accuracy: 0.8562 - val_binary_crossentropy: 0.4642\n",
      "Epoch 20/20\n",
      "49/49 - 1s - loss: 0.1409 - accuracy: 0.9765 - binary_crossentropy: 0.0741 - val_loss: 0.5435 - val_accuracy: 0.8576 - val_binary_crossentropy: 0.4765\n"
     ]
    }
   ],
   "source": [
    "# 過学習防止の戦略\n",
    "# オッカムの剃刀\n",
    "# 何かの説明が2つあるとすると、最も正しいと考えられる説明は、仮定の数が最も少ない「一番単純な」説明だというもの。\n",
    "# ある訓練用データとネットワーク構造があって、そのデータを説明できる重みの集合が複数ある時（つまり、複数のモデルがある時）、単純なモデルのほうが複雑なものよりも過学習しにくい。\n",
    "# 重みが小さい値のみをとることで、重み値の分布がより整然となる（正則）様に制約を与える。\n",
    "# L1正則化 : 重み係数の絶対値に比例するコストを加える。重みパラメータの一部を0にすることでモデルを疎にする効果。\n",
    "# L2正則化（重み減衰） : 重み係数の二乗に比例するコストを加える。重みパラメータにペナルティを加えますがモデルを疎にすることはない。\n",
    "# 層の重み行列の係数全てに対して0.001 * 重み係数の値 **2をネットワークの損失値合計に加える。\n",
    "\n",
    "l2_model = keras.models.Sequential([\n",
    "    keras.layers.Dense(16, kernel_regularizer=keras.regularizers.l2(0.001),\n",
    "                       activation='relu', input_shape=(NUM_WORDS,)),\n",
    "    keras.layers.Dense(16, kernel_regularizer=keras.regularizers.l2(0.001),\n",
    "                       activation='relu'),\n",
    "    keras.layers.Dense(1, activation='sigmoid')\n",
    "])\n",
    "\n",
    "l2_model.compile(optimizer='adam',\n",
    "                 loss='binary_crossentropy',\n",
    "                 metrics=['accuracy', 'binary_crossentropy'])\n",
    "\n",
    "l2_model_history = l2_model.fit(train_data, train_labels,\n",
    "                                epochs=20,\n",
    "                                batch_size=512,\n",
    "                                validation_data=(test_data, test_labels),\n",
    "                                verbose=2)"
   ]
  },
  {
   "cell_type": "code",
   "execution_count": 102,
   "id": "00f1d27f",
   "metadata": {},
   "outputs": [
    {
     "data": {
      "image/png": "[encoded data removed]",
      "text/plain": [
       "<Figure size 1152x720 with 1 Axes>"
      ]
     },
     "metadata": {
      "needs_background": "light"
     },
     "output_type": "display_data"
    }
   ],
   "source": [
    "# l2正則化の効果検証\n",
    "plot_history([('baseline', baseline_history),\n",
    "              ('l2', l2_model_history)])"
   ]
  },
  {
   "cell_type": "code",
   "execution_count": 103,
   "id": "c88ee079",
   "metadata": {},
   "outputs": [
    {
     "name": "stdout",
     "output_type": "stream",
     "text": [
      "Epoch 1/20\n",
      "49/49 - 2s - loss: 0.6174 - accuracy: 0.6537 - binary_crossentropy: 0.6174 - val_loss: 0.4581 - val_accuracy: 0.8570 - val_binary_crossentropy: 0.4581\n",
      "Epoch 2/20\n",
      "49/49 - 1s - loss: 0.4470 - accuracy: 0.8116 - binary_crossentropy: 0.4470 - val_loss: 0.3308 - val_accuracy: 0.8826 - val_binary_crossentropy: 0.3308\n",
      "Epoch 3/20\n",
      "49/49 - 1s - loss: 0.3499 - accuracy: 0.8654 - binary_crossentropy: 0.3499 - val_loss: 0.2833 - val_accuracy: 0.8884 - val_binary_crossentropy: 0.2833\n",
      "Epoch 4/20\n",
      "49/49 - 1s - loss: 0.2915 - accuracy: 0.8966 - binary_crossentropy: 0.2915 - val_loss: 0.2740 - val_accuracy: 0.8899 - val_binary_crossentropy: 0.2740\n",
      "Epoch 5/20\n",
      "49/49 - 1s - loss: 0.2422 - accuracy: 0.9202 - binary_crossentropy: 0.2422 - val_loss: 0.2760 - val_accuracy: 0.8892 - val_binary_crossentropy: 0.2760\n",
      "Epoch 6/20\n",
      "49/49 - 1s - loss: 0.2070 - accuracy: 0.9292 - binary_crossentropy: 0.2070 - val_loss: 0.2893 - val_accuracy: 0.8876 - val_binary_crossentropy: 0.2893\n",
      "Epoch 7/20\n",
      "49/49 - 1s - loss: 0.1777 - accuracy: 0.9404 - binary_crossentropy: 0.1777 - val_loss: 0.3158 - val_accuracy: 0.8848 - val_binary_crossentropy: 0.3158\n",
      "Epoch 8/20\n",
      "49/49 - 1s - loss: 0.1599 - accuracy: 0.9460 - binary_crossentropy: 0.1599 - val_loss: 0.3141 - val_accuracy: 0.8828 - val_binary_crossentropy: 0.3141\n",
      "Epoch 9/20\n",
      "49/49 - 1s - loss: 0.1450 - accuracy: 0.9520 - binary_crossentropy: 0.1450 - val_loss: 0.3364 - val_accuracy: 0.8835 - val_binary_crossentropy: 0.3364\n",
      "Epoch 10/20\n",
      "49/49 - 1s - loss: 0.1277 - accuracy: 0.9589 - binary_crossentropy: 0.1277 - val_loss: 0.3694 - val_accuracy: 0.8813 - val_binary_crossentropy: 0.3694\n",
      "Epoch 11/20\n",
      "49/49 - 1s - loss: 0.1131 - accuracy: 0.9611 - binary_crossentropy: 0.1131 - val_loss: 0.3821 - val_accuracy: 0.8791 - val_binary_crossentropy: 0.3821\n",
      "Epoch 12/20\n",
      "49/49 - 1s - loss: 0.1067 - accuracy: 0.9631 - binary_crossentropy: 0.1067 - val_loss: 0.3854 - val_accuracy: 0.8792 - val_binary_crossentropy: 0.3854\n",
      "Epoch 13/20\n",
      "49/49 - 1s - loss: 0.0939 - accuracy: 0.9673 - binary_crossentropy: 0.0939 - val_loss: 0.4438 - val_accuracy: 0.8785 - val_binary_crossentropy: 0.4438\n",
      "Epoch 14/20\n",
      "49/49 - 1s - loss: 0.0927 - accuracy: 0.9663 - binary_crossentropy: 0.0927 - val_loss: 0.4504 - val_accuracy: 0.8786 - val_binary_crossentropy: 0.4504\n",
      "Epoch 15/20\n",
      "49/49 - 1s - loss: 0.0896 - accuracy: 0.9674 - binary_crossentropy: 0.0896 - val_loss: 0.5038 - val_accuracy: 0.8757 - val_binary_crossentropy: 0.5038\n",
      "Epoch 16/20\n",
      "49/49 - 0s - loss: 0.0785 - accuracy: 0.9708 - binary_crossentropy: 0.0785 - val_loss: 0.5200 - val_accuracy: 0.8763 - val_binary_crossentropy: 0.5200\n",
      "Epoch 17/20\n",
      "49/49 - 1s - loss: 0.0727 - accuracy: 0.9728 - binary_crossentropy: 0.0727 - val_loss: 0.5007 - val_accuracy: 0.8748 - val_binary_crossentropy: 0.5007\n",
      "Epoch 18/20\n",
      "49/49 - 1s - loss: 0.0729 - accuracy: 0.9724 - binary_crossentropy: 0.0729 - val_loss: 0.5331 - val_accuracy: 0.8740 - val_binary_crossentropy: 0.5331\n",
      "Epoch 19/20\n",
      "49/49 - 1s - loss: 0.0668 - accuracy: 0.9741 - binary_crossentropy: 0.0668 - val_loss: 0.5462 - val_accuracy: 0.8754 - val_binary_crossentropy: 0.5462\n",
      "Epoch 20/20\n",
      "49/49 - 0s - loss: 0.0658 - accuracy: 0.9750 - binary_crossentropy: 0.0658 - val_loss: 0.5772 - val_accuracy: 0.8757 - val_binary_crossentropy: 0.5772\n"
     ]
    }
   ],
   "source": [
    "# ドロップアウトを追加する\n",
    "dpt_model = keras.models.Sequential([\n",
    "    keras.layers.Dense(16, activation='relu', input_shape=(NUM_WORDS,)),\n",
    "    keras.layers.Dropout(0.5),\n",
    "    keras.layers.Dense(16, activation='relu'),\n",
    "    keras.layers.Dropout(0.5),\n",
    "    keras.layers.Dense(1, activation='sigmoid')\n",
    "])\n",
    "\n",
    "dpt_model.compile(optimizer='adam',\n",
    "                  loss='binary_crossentropy',\n",
    "                  metrics=['accuracy','binary_crossentropy'])\n",
    "\n",
    "dpt_model_history = dpt_model.fit(train_data, train_labels,\n",
    "                                  epochs=20,\n",
    "                                  batch_size=512,\n",
    "                                  validation_data=(test_data, test_labels),\n",
    "                                  verbose=2)"
   ]
  },
  {
   "cell_type": "code",
   "execution_count": 104,
   "id": "09e56a77",
   "metadata": {},
   "outputs": [
    {
     "data": {
      "image/png": "[encoded data removed]",
      "text/plain": [
       "<Figure size 1152x720 with 1 Axes>"
      ]
     },
     "metadata": {
      "needs_background": "light"
     },
     "output_type": "display_data"
    }
   ],
   "source": [
    "# 可視化\n",
    "plot_history([('baseline', baseline_history),\n",
    "              ('dropout', dpt_model_history)])"
   ]
  },
  {
   "cell_type": "markdown",
   "id": "e477c971",
   "metadata": {},
   "source": [
    "# モデルの保存と復元\n",
    "[モデルの保存と復元](https://www.tensorflow.org/tutorials/keras/save_and_load?hl=ja)\n",
    "以下のものを共有する。\n",
    "- モデルを構築するプログラム\n",
    "- 学習済みモデルの重みあるいはパラメータ"
   ]
  },
  {
   "cell_type": "markdown",
   "id": "bfed76dd",
   "metadata": {},
   "source": [
    "### 設定"
   ]
  },
  {
   "cell_type": "code",
   "execution_count": 105,
   "id": "34da0c25",
   "metadata": {},
   "outputs": [
    {
     "name": "stdout",
     "output_type": "stream",
     "text": [
      "2.4.0\n"
     ]
    }
   ],
   "source": [
    "# インストールとインポート\n",
    "import os\n",
    "\n",
    "import tensorflow as tf\n",
    "from tensorflow import keras\n",
    "\n",
    "print(tf.version.VERSION)"
   ]
  },
  {
   "cell_type": "code",
   "execution_count": 106,
   "id": "656ba55f",
   "metadata": {},
   "outputs": [],
   "source": [
    "# サンプルデータセットの取得\n",
    "(train_images, train_labels), (test_images, test_labels) = tf.keras.datasets.mnist.load_data()\n",
    "\n",
    "train_labels = train_labels[:1000]\n",
    "test_labels = test_labels[:1000]\n",
    "\n",
    "train_images = train_images[:1000].reshape(-1, 28 * 28) / 255.0\n",
    "test_images = test_images[:1000].reshape(-1, 28 * 28) / 255.0"
   ]
  },
  {
   "cell_type": "code",
   "execution_count": 107,
   "id": "f67200c1",
   "metadata": {},
   "outputs": [
    {
     "name": "stdout",
     "output_type": "stream",
     "text": [
      "Model: \"sequential_12\"\n",
      "_________________________________________________________________\n",
      "Layer (type)                 Output Shape              Param #   \n",
      "=================================================================\n",
      "dense_29 (Dense)             (None, 512)               401920    \n",
      "_________________________________________________________________\n",
      "dropout_3 (Dropout)          (None, 512)               0         \n",
      "_________________________________________________________________\n",
      "dense_30 (Dense)             (None, 10)                5130      \n",
      "=================================================================\n",
      "Total params: 407,050\n",
      "Trainable params: 407,050\n",
      "Non-trainable params: 0\n",
      "_________________________________________________________________\n"
     ]
    }
   ],
   "source": [
    "# モデルの定義\n",
    "# 短いシーケンシャルモデルを返す関数\n",
    "def create_model():\n",
    "    model = tf.keras.models.Sequential([\n",
    "        keras.layers.Dense(512, activation='relu', input_shape=(784,)),\n",
    "        keras.layers.Dropout(0.2),\n",
    "        keras.layers.Dense(10, activation='softmax')\n",
    "      ])\n",
    "\n",
    "    model.compile(optimizer='adam', \n",
    "                  loss='sparse_categorical_crossentropy',\n",
    "                  metrics=['accuracy'])\n",
    "    return model\n",
    "\n",
    "\n",
    "# 基本的なモデルのインスタンスを作成\n",
    "model = create_model()\n",
    "\n",
    "# モデルの構造を表示\n",
    "model.summary()"
   ]
  },
  {
   "cell_type": "markdown",
   "id": "a90e536e",
   "metadata": {},
   "source": [
    "### 訓練中にチェックポイントを保存する\n",
    "- 主な用途は訓練の途中あるいは終了後にチェックポイントを自動的に保存する。\n",
    "- 再び訓練を行うことなくモデルを使用することができ、また、訓練が中断された場合に、中止したところから再開できる。"
   ]
  },
  {
   "cell_type": "code",
   "execution_count": 108,
   "id": "804528cd",
   "metadata": {},
   "outputs": [
    {
     "name": "stdout",
     "output_type": "stream",
     "text": [
      "Epoch 1/10\n",
      "32/32 [==============================] - 0s 7ms/step - loss: 1.5682 - accuracy: 0.5176 - val_loss: 0.7242 - val_accuracy: 0.7640\n",
      "\n",
      "Epoch 00001: saving model to training_1/cp.ckpt\n",
      "Epoch 2/10\n",
      "32/32 [==============================] - 0s 5ms/step - loss: 0.4693 - accuracy: 0.8853 - val_loss: 0.5664 - val_accuracy: 0.8180\n",
      "\n",
      "Epoch 00002: saving model to training_1/cp.ckpt\n",
      "Epoch 3/10\n",
      "32/32 [==============================] - 0s 5ms/step - loss: 0.2614 - accuracy: 0.9396 - val_loss: 0.4681 - val_accuracy: 0.8560\n",
      "\n",
      "Epoch 00003: saving model to training_1/cp.ckpt\n",
      "Epoch 4/10\n",
      "32/32 [==============================] - 0s 5ms/step - loss: 0.1939 - accuracy: 0.9566 - val_loss: 0.4410 - val_accuracy: 0.8580\n",
      "\n",
      "Epoch 00004: saving model to training_1/cp.ckpt\n",
      "Epoch 5/10\n",
      "32/32 [==============================] - 0s 5ms/step - loss: 0.1459 - accuracy: 0.9762 - val_loss: 0.4332 - val_accuracy: 0.8460\n",
      "\n",
      "Epoch 00005: saving model to training_1/cp.ckpt\n",
      "Epoch 6/10\n",
      "32/32 [==============================] - 0s 5ms/step - loss: 0.1264 - accuracy: 0.9785 - val_loss: 0.4468 - val_accuracy: 0.8550\n",
      "\n",
      "Epoch 00006: saving model to training_1/cp.ckpt\n",
      "Epoch 7/10\n",
      "32/32 [==============================] - 0s 5ms/step - loss: 0.0773 - accuracy: 0.9903 - val_loss: 0.4115 - val_accuracy: 0.8770\n",
      "\n",
      "Epoch 00007: saving model to training_1/cp.ckpt\n",
      "Epoch 8/10\n",
      "32/32 [==============================] - 0s 5ms/step - loss: 0.0710 - accuracy: 0.9906 - val_loss: 0.4050 - val_accuracy: 0.8730\n",
      "\n",
      "Epoch 00008: saving model to training_1/cp.ckpt\n",
      "Epoch 9/10\n",
      "32/32 [==============================] - 0s 5ms/step - loss: 0.0491 - accuracy: 0.9972 - val_loss: 0.3912 - val_accuracy: 0.8750\n",
      "\n",
      "Epoch 00009: saving model to training_1/cp.ckpt\n",
      "Epoch 10/10\n",
      "32/32 [==============================] - 0s 5ms/step - loss: 0.0378 - accuracy: 0.9953 - val_loss: 0.4123 - val_accuracy: 0.8630\n",
      "\n",
      "Epoch 00010: saving model to training_1/cp.ckpt\n"
     ]
    },
    {
     "data": {
      "text/plain": [
       "<tensorflow.python.keras.callbacks.History at 0x7f8d94ca70d0>"
      ]
     },
     "execution_count": 108,
     "metadata": {},
     "output_type": "execute_result"
    }
   ],
   "source": [
    "# チェックポイントコールバックの使い方\n",
    "checkpoint_path = \"training_1/cp.ckpt\"\n",
    "checkpoint_dir = os.path.dirname(checkpoint_path)\n",
    "\n",
    "# チェックポイントコールバックを作る\n",
    "cp_callback = tf.keras.callbacks.ModelCheckpoint(checkpoint_path, \n",
    "                                                 save_weights_only=True,\n",
    "                                                 verbose=1)\n",
    "\n",
    "# 新しいコールバックを用いるようモデルを訓練\n",
    "model.fit(train_images, \n",
    "          train_labels,  \n",
    "          epochs=10,\n",
    "          validation_data=(test_images,test_labels),\n",
    "          callbacks=[cp_callback])  # 訓練にコールバックを渡す\n",
    "\n",
    "# オプティマイザの状態保存についての警告が表示されるかもしれません。\n",
    "# これらの警告は（このノートブックで発生する同様な警告を含めて）\n",
    "# 古い用法を非推奨にするためのもので、無視して構いません。"
   ]
  },
  {
   "cell_type": "code",
   "execution_count": 109,
   "id": "c5446c3a",
   "metadata": {},
   "outputs": [
    {
     "name": "stdout",
     "output_type": "stream",
     "text": [
      "checkpoint                  cp.ckpt.index\r\n",
      "cp.ckpt.data-00000-of-00001\r\n"
     ]
    }
   ],
   "source": [
    "# TensorFlowチェックポイントファイルの確認\n",
    "!ls {checkpoint_dir}"
   ]
  },
  {
   "cell_type": "code",
   "execution_count": 110,
   "id": "547370fd",
   "metadata": {},
   "outputs": [
    {
     "name": "stdout",
     "output_type": "stream",
     "text": [
      "32/32 - 0s - loss: 2.4134 - accuracy: 0.1110\n",
      "Untrained model, accuracy: 11.10%\n"
     ]
    }
   ],
   "source": [
    "# 訓練せずに検証\n",
    "model = create_model()\n",
    "\n",
    "loss, acc = model.evaluate(test_images,  test_labels, verbose=2)\n",
    "print(\"Untrained model, accuracy: {:5.2f}%\".format(100*acc))"
   ]
  },
  {
   "cell_type": "code",
   "execution_count": 111,
   "id": "c41199ee",
   "metadata": {},
   "outputs": [
    {
     "name": "stdout",
     "output_type": "stream",
     "text": [
      "32/32 - 0s - loss: 0.4123 - accuracy: 0.8630\n",
      "Restored model, accuracy: 86.30%\n"
     ]
    }
   ],
   "source": [
    "# チェックポイントから重みをロードし、再び評価。\n",
    "model.load_weights(checkpoint_path)\n",
    "loss,acc = model.evaluate(test_images,  test_labels, verbose=2)\n",
    "print(\"Restored model, accuracy: {:5.2f}%\".format(100*acc))"
   ]
  },
  {
   "cell_type": "code",
   "execution_count": 112,
   "id": "fd4a59bb",
   "metadata": {},
   "outputs": [
    {
     "name": "stdout",
     "output_type": "stream",
     "text": [
      "WARNING:tensorflow:`period` argument is deprecated. Please use `save_freq` to specify the frequency in number of batches seen.\n"
     ]
    },
    {
     "name": "stderr",
     "output_type": "stream",
     "text": [
      "WARNING:tensorflow:`period` argument is deprecated. Please use `save_freq` to specify the frequency in number of batches seen.\n"
     ]
    },
    {
     "name": "stdout",
     "output_type": "stream",
     "text": [
      "\n",
      "Epoch 00005: saving model to training_2/cp-0005.ckpt\n",
      "\n",
      "Epoch 00010: saving model to training_2/cp-0010.ckpt\n",
      "\n",
      "Epoch 00015: saving model to training_2/cp-0015.ckpt\n",
      "\n",
      "Epoch 00020: saving model to training_2/cp-0020.ckpt\n",
      "\n",
      "Epoch 00025: saving model to training_2/cp-0025.ckpt\n",
      "\n",
      "Epoch 00030: saving model to training_2/cp-0030.ckpt\n",
      "\n",
      "Epoch 00035: saving model to training_2/cp-0035.ckpt\n",
      "\n",
      "Epoch 00040: saving model to training_2/cp-0040.ckpt\n",
      "\n",
      "Epoch 00045: saving model to training_2/cp-0045.ckpt\n",
      "\n",
      "Epoch 00050: saving model to training_2/cp-0050.ckpt\n"
     ]
    },
    {
     "data": {
      "text/plain": [
       "<tensorflow.python.keras.callbacks.History at 0x7f8d3b7cb4f0>"
      ]
     },
     "execution_count": 112,
     "metadata": {},
     "output_type": "execute_result"
    }
   ],
   "source": [
    "# チェックポイントコールバックのオプション\n",
    "# 新しいモデルを訓練し、5エポックごとに一意な名前のチェックポイントを保存。\n",
    "# ファイル名に(`str.format`を使って)エポック数を埋め込む\n",
    "checkpoint_path = \"training_2/cp-{epoch:04d}.ckpt\"\n",
    "checkpoint_dir = os.path.dirname(checkpoint_path)\n",
    "\n",
    "# 5エポックごとにモデルの重みを保存するコールバックを作成\n",
    "cp_callback = tf.keras.callbacks.ModelCheckpoint(\n",
    "    filepath=checkpoint_path, \n",
    "    verbose=1, \n",
    "    save_weights_only=True,\n",
    "    period=5)\n",
    "\n",
    "# 新しいモデルのインスタンスを作成\n",
    "model = create_model()\n",
    "\n",
    "# `checkpoint_path` フォーマットで重みを保存\n",
    "model.save_weights(checkpoint_path.format(epoch=0))\n",
    "\n",
    "# 新しいコールバックを使い、モデルを訓練\n",
    "model.fit(train_images, \n",
    "          train_labels,\n",
    "          epochs=50, \n",
    "          callbacks=[cp_callback],\n",
    "          validation_data=(test_images,test_labels),\n",
    "          verbose=0)"
   ]
  },
  {
   "cell_type": "code",
   "execution_count": 113,
   "id": "36cf4187",
   "metadata": {},
   "outputs": [
    {
     "name": "stdout",
     "output_type": "stream",
     "text": [
      "checkpoint                       cp-0025.ckpt.index\r\n",
      "cp-0000.ckpt.data-00000-of-00001 cp-0030.ckpt.data-00000-of-00001\r\n",
      "cp-0000.ckpt.index               cp-0030.ckpt.index\r\n",
      "cp-0005.ckpt.data-00000-of-00001 cp-0035.ckpt.data-00000-of-00001\r\n",
      "cp-0005.ckpt.index               cp-0035.ckpt.index\r\n",
      "cp-0010.ckpt.data-00000-of-00001 cp-0040.ckpt.data-00000-of-00001\r\n",
      "cp-0010.ckpt.index               cp-0040.ckpt.index\r\n",
      "cp-0015.ckpt.data-00000-of-00001 cp-0045.ckpt.data-00000-of-00001\r\n",
      "cp-0015.ckpt.index               cp-0045.ckpt.index\r\n",
      "cp-0020.ckpt.data-00000-of-00001 cp-0050.ckpt.data-00000-of-00001\r\n",
      "cp-0020.ckpt.index               cp-0050.ckpt.index\r\n",
      "cp-0025.ckpt.data-00000-of-00001\r\n"
     ]
    }
   ],
   "source": [
    "!ls {checkpoint_dir}"
   ]
  },
  {
   "cell_type": "code",
   "execution_count": 114,
   "id": "fde6d47f",
   "metadata": {},
   "outputs": [
    {
     "data": {
      "text/plain": [
       "'training_2/cp-0050.ckpt'"
      ]
     },
     "execution_count": 114,
     "metadata": {},
     "output_type": "execute_result"
    }
   ],
   "source": [
    "latest = tf.train.latest_checkpoint(checkpoint_dir)\n",
    "latest"
   ]
  },
  {
   "cell_type": "code",
   "execution_count": 115,
   "id": "2a6f070d",
   "metadata": {},
   "outputs": [
    {
     "name": "stdout",
     "output_type": "stream",
     "text": [
      "32/32 - 0s - loss: 0.4860 - accuracy: 0.8780\n",
      "Restored model, accuracy: 87.80%\n"
     ]
    }
   ],
   "source": [
    "# モデルをリセットし最後のチェックポイントをロード\n",
    "# 新しいモデルのインスタンスを作成\n",
    "model = create_model()\n",
    "\n",
    "# 先ほど保存した重みを読み込み\n",
    "model.load_weights(latest)\n",
    "\n",
    "# モデルを再評価\n",
    "loss, acc = model.evaluate(test_images,  test_labels, verbose=2)\n",
    "print(\"Restored model, accuracy: {:5.2f}%\".format(100*acc))"
   ]
  },
  {
   "cell_type": "markdown",
   "id": "afc09b57",
   "metadata": {},
   "source": [
    "# チェックポイントには何が含まれている？\n",
    "\n",
    "- １つ以上のモデルの重みの断片\n",
    "- どの重みがどの断片に保存されているかを示すインデックスファイル"
   ]
  },
  {
   "cell_type": "code",
   "execution_count": 116,
   "id": "e8bcaf56",
   "metadata": {},
   "outputs": [
    {
     "name": "stdout",
     "output_type": "stream",
     "text": [
      "32/32 - 0s - loss: 0.4860 - accuracy: 0.8780\n",
      "Restored model, accuracy: 87.80%\n"
     ]
    }
   ],
   "source": [
    "# 手動で重みを保存する\n",
    "# 重みの保存\n",
    "model.save_weights('./checkpoints/my_checkpoint')\n",
    "\n",
    "# 新しいモデルのインスタンスを作成\n",
    "model = create_model()\n",
    "\n",
    "# 重みの復元\n",
    "model.load_weights('./checkpoints/my_checkpoint')\n",
    "\n",
    "# モデルの評価\n",
    "loss,acc = model.evaluate(test_images,  test_labels, verbose=2)\n",
    "print(\"Restored model, accuracy: {:5.2f}%\".format(100*acc))"
   ]
  },
  {
   "cell_type": "code",
   "execution_count": 117,
   "id": "37361515",
   "metadata": {},
   "outputs": [
    {
     "name": "stdout",
     "output_type": "stream",
     "text": [
      "Epoch 1/5\n",
      "32/32 [==============================] - 0s 3ms/step - loss: 1.5381 - accuracy: 0.5557\n",
      "Epoch 2/5\n",
      "32/32 [==============================] - 0s 3ms/step - loss: 0.4664 - accuracy: 0.8651\n",
      "Epoch 3/5\n",
      "32/32 [==============================] - 0s 3ms/step - loss: 0.2849 - accuracy: 0.9257\n",
      "Epoch 4/5\n",
      "32/32 [==============================] - 0s 3ms/step - loss: 0.2220 - accuracy: 0.9450\n",
      "Epoch 5/5\n",
      "32/32 [==============================] - 0s 3ms/step - loss: 0.1499 - accuracy: 0.9720\n",
      "INFO:tensorflow:Assets written to: saved_model/my_model/assets\n"
     ]
    },
    {
     "name": "stderr",
     "output_type": "stream",
     "text": [
      "INFO:tensorflow:Assets written to: saved_model/my_model/assets\n"
     ]
    }
   ],
   "source": [
    "# モデル全体の保存\n",
    "# model.saveを呼ぶことで、モデルのアーキテクチャや重み、訓練の設定を単一のファイル/フォルダに保存できる。\n",
    "# オプティマイザーの状態も復旧されるため、中断した箇所から訓練を再開できる。\n",
    "# SavedModelとHDF5の２つの方法で保存することができる。\n",
    "\n",
    "# SavedModel フォーマットとして\n",
    "# tf.keras.models.load_model を用いてリストアできる。\n",
    "# TensorFlow Serving との互換性もある。\n",
    "# 新しいモデルのインスタンスを作成して訓練\n",
    "model = create_model()\n",
    "model.fit(train_images, train_labels, epochs=5)\n",
    "\n",
    "# モデル全体を SavedModel として保存\n",
    "!mkdir -p saved_model\n",
    "model.save('saved_model/my_model')"
   ]
  },
  {
   "cell_type": "code",
   "execution_count": 118,
   "id": "13df8907",
   "metadata": {},
   "outputs": [
    {
     "name": "stdout",
     "output_type": "stream",
     "text": [
      "\u001b[34mmy_model\u001b[m\u001b[m\n",
      "\u001b[34massets\u001b[m\u001b[m         saved_model.pb \u001b[34mvariables\u001b[m\u001b[m\n"
     ]
    }
   ],
   "source": [
    "# SavedModel フォーマットはバイナリ形式の protobuf と TensorFlow checkpoint を含んだディレクトリ。\n",
    "# SavedModel ディレクトリの中を確認\n",
    "# my_model ディレクトリ\n",
    "!ls saved_model\n",
    "\n",
    "# assets フォルダと saved_model.pb, variables フォルダが含まれる\n",
    "!ls saved_model/my_model"
   ]
  },
  {
   "cell_type": "code",
   "execution_count": 119,
   "id": "e85c6168",
   "metadata": {},
   "outputs": [
    {
     "name": "stdout",
     "output_type": "stream",
     "text": [
      "Model: \"sequential_17\"\n",
      "_________________________________________________________________\n",
      "Layer (type)                 Output Shape              Param #   \n",
      "=================================================================\n",
      "dense_39 (Dense)             (None, 512)               401920    \n",
      "_________________________________________________________________\n",
      "dropout_8 (Dropout)          (None, 512)               0         \n",
      "_________________________________________________________________\n",
      "dense_40 (Dense)             (None, 10)                5130      \n",
      "=================================================================\n",
      "Total params: 407,050\n",
      "Trainable params: 407,050\n",
      "Non-trainable params: 0\n",
      "_________________________________________________________________\n"
     ]
    }
   ],
   "source": [
    "# SavedModel を読み込んで新しい Keras モデルを作成\n",
    "new_model = tf.keras.models.load_model('saved_model/my_model')\n",
    "\n",
    "# アーキテクチャを確認\n",
    "new_model.summary()"
   ]
  },
  {
   "cell_type": "code",
   "execution_count": 120,
   "id": "7129d404",
   "metadata": {},
   "outputs": [
    {
     "name": "stdout",
     "output_type": "stream",
     "text": [
      "32/32 - 0s - loss: 0.4464 - accuracy: 0.8560\n",
      "Restored model, accuracy: 85.60%\n",
      "(1000, 10)\n"
     ]
    }
   ],
   "source": [
    "# リストアされたモデルは元のモデルと同じ引数を用いてコンパイルされる。\n",
    "# 読み込んだモデルを用いて評価と予測を行う。\n",
    "# リストアされたモデルを評価\n",
    "loss, acc = new_model.evaluate(test_images,  test_labels, verbose=2)\n",
    "print('Restored model, accuracy: {:5.2f}%'.format(100*acc))\n",
    "\n",
    "print(new_model.predict(test_images).shape)"
   ]
  },
  {
   "cell_type": "code",
   "execution_count": 121,
   "id": "645949bc",
   "metadata": {},
   "outputs": [
    {
     "name": "stdout",
     "output_type": "stream",
     "text": [
      "WARNING:tensorflow:Unresolved object in checkpoint: (root).optimizer.iter\n"
     ]
    },
    {
     "name": "stderr",
     "output_type": "stream",
     "text": [
      "WARNING:tensorflow:Unresolved object in checkpoint: (root).optimizer.iter\n"
     ]
    },
    {
     "name": "stdout",
     "output_type": "stream",
     "text": [
      "WARNING:tensorflow:Unresolved object in checkpoint: (root).optimizer.beta_1\n"
     ]
    },
    {
     "name": "stderr",
     "output_type": "stream",
     "text": [
      "WARNING:tensorflow:Unresolved object in checkpoint: (root).optimizer.beta_1\n"
     ]
    },
    {
     "name": "stdout",
     "output_type": "stream",
     "text": [
      "WARNING:tensorflow:Unresolved object in checkpoint: (root).optimizer.beta_2\n"
     ]
    },
    {
     "name": "stderr",
     "output_type": "stream",
     "text": [
      "WARNING:tensorflow:Unresolved object in checkpoint: (root).optimizer.beta_2\n"
     ]
    },
    {
     "name": "stdout",
     "output_type": "stream",
     "text": [
      "WARNING:tensorflow:Unresolved object in checkpoint: (root).optimizer.decay\n"
     ]
    },
    {
     "name": "stderr",
     "output_type": "stream",
     "text": [
      "WARNING:tensorflow:Unresolved object in checkpoint: (root).optimizer.decay\n"
     ]
    },
    {
     "name": "stdout",
     "output_type": "stream",
     "text": [
      "WARNING:tensorflow:Unresolved object in checkpoint: (root).optimizer.learning_rate\n"
     ]
    },
    {
     "name": "stderr",
     "output_type": "stream",
     "text": [
      "WARNING:tensorflow:Unresolved object in checkpoint: (root).optimizer.learning_rate\n"
     ]
    },
    {
     "name": "stdout",
     "output_type": "stream",
     "text": [
      "WARNING:tensorflow:A checkpoint was restored (e.g. tf.train.Checkpoint.restore or tf.keras.Model.load_weights) but not all checkpointed values were used. See above for specific issues. Use expect_partial() on the load status object, e.g. tf.train.Checkpoint.restore(...).expect_partial(), to silence these warnings, or use assert_consumed() to make the check explicit. See https://www.tensorflow.org/guide/checkpoint#loading_mechanics for details.\n"
     ]
    },
    {
     "name": "stderr",
     "output_type": "stream",
     "text": [
      "WARNING:tensorflow:A checkpoint was restored (e.g. tf.train.Checkpoint.restore or tf.keras.Model.load_weights) but not all checkpointed values were used. See above for specific issues. Use expect_partial() on the load status object, e.g. tf.train.Checkpoint.restore(...).expect_partial(), to silence these warnings, or use assert_consumed() to make the check explicit. See https://www.tensorflow.org/guide/checkpoint#loading_mechanics for details.\n"
     ]
    },
    {
     "name": "stdout",
     "output_type": "stream",
     "text": [
      "WARNING:tensorflow:Unresolved object in checkpoint: (root).optimizer.iter\n"
     ]
    },
    {
     "name": "stderr",
     "output_type": "stream",
     "text": [
      "WARNING:tensorflow:Unresolved object in checkpoint: (root).optimizer.iter\n"
     ]
    },
    {
     "name": "stdout",
     "output_type": "stream",
     "text": [
      "WARNING:tensorflow:Unresolved object in checkpoint: (root).optimizer.beta_1\n"
     ]
    },
    {
     "name": "stderr",
     "output_type": "stream",
     "text": [
      "WARNING:tensorflow:Unresolved object in checkpoint: (root).optimizer.beta_1\n"
     ]
    },
    {
     "name": "stdout",
     "output_type": "stream",
     "text": [
      "WARNING:tensorflow:Unresolved object in checkpoint: (root).optimizer.beta_2\n"
     ]
    },
    {
     "name": "stderr",
     "output_type": "stream",
     "text": [
      "WARNING:tensorflow:Unresolved object in checkpoint: (root).optimizer.beta_2\n"
     ]
    },
    {
     "name": "stdout",
     "output_type": "stream",
     "text": [
      "WARNING:tensorflow:Unresolved object in checkpoint: (root).optimizer.decay\n"
     ]
    },
    {
     "name": "stderr",
     "output_type": "stream",
     "text": [
      "WARNING:tensorflow:Unresolved object in checkpoint: (root).optimizer.decay\n"
     ]
    },
    {
     "name": "stdout",
     "output_type": "stream",
     "text": [
      "WARNING:tensorflow:Unresolved object in checkpoint: (root).optimizer.learning_rate\n"
     ]
    },
    {
     "name": "stderr",
     "output_type": "stream",
     "text": [
      "WARNING:tensorflow:Unresolved object in checkpoint: (root).optimizer.learning_rate\n"
     ]
    },
    {
     "name": "stdout",
     "output_type": "stream",
     "text": [
      "WARNING:tensorflow:A checkpoint was restored (e.g. tf.train.Checkpoint.restore or tf.keras.Model.load_weights) but not all checkpointed values were used. See above for specific issues. Use expect_partial() on the load status object, e.g. tf.train.Checkpoint.restore(...).expect_partial(), to silence these warnings, or use assert_consumed() to make the check explicit. See https://www.tensorflow.org/guide/checkpoint#loading_mechanics for details.\n"
     ]
    },
    {
     "name": "stderr",
     "output_type": "stream",
     "text": [
      "WARNING:tensorflow:A checkpoint was restored (e.g. tf.train.Checkpoint.restore or tf.keras.Model.load_weights) but not all checkpointed values were used. See above for specific issues. Use expect_partial() on the load status object, e.g. tf.train.Checkpoint.restore(...).expect_partial(), to silence these warnings, or use assert_consumed() to make the check explicit. See https://www.tensorflow.org/guide/checkpoint#loading_mechanics for details.\n"
     ]
    },
    {
     "name": "stdout",
     "output_type": "stream",
     "text": [
      "Epoch 1/5\n",
      "32/32 [==============================] - 0s 3ms/step - loss: 1.6174 - accuracy: 0.5097\n",
      "Epoch 2/5\n",
      "32/32 [==============================] - 0s 3ms/step - loss: 0.4353 - accuracy: 0.8828\n",
      "Epoch 3/5\n",
      "32/32 [==============================] - 0s 3ms/step - loss: 0.2909 - accuracy: 0.9255\n",
      "Epoch 4/5\n",
      "32/32 [==============================] - 0s 3ms/step - loss: 0.2026 - accuracy: 0.9568\n",
      "Epoch 5/5\n",
      "32/32 [==============================] - 0s 3ms/step - loss: 0.1518 - accuracy: 0.9779\n"
     ]
    }
   ],
   "source": [
    "# HDF5ファイルとして\n",
    "# 新しいモデルのインスタンスを作成して訓練\n",
    "model = create_model()\n",
    "model.fit(train_images, train_labels, epochs=5)\n",
    "\n",
    "# HDF5 ファイルにモデル全体を保存\n",
    "# 拡張子 '.h5' はモデルが HDF5 で保存されているということを暗示する\n",
    "model.save('my_model.h5')"
   ]
  },
  {
   "cell_type": "code",
   "execution_count": 122,
   "id": "dd7fc326",
   "metadata": {},
   "outputs": [
    {
     "name": "stdout",
     "output_type": "stream",
     "text": [
      "Model: \"sequential_18\"\n",
      "_________________________________________________________________\n",
      "Layer (type)                 Output Shape              Param #   \n",
      "=================================================================\n",
      "dense_41 (Dense)             (None, 512)               401920    \n",
      "_________________________________________________________________\n",
      "dropout_9 (Dropout)          (None, 512)               0         \n",
      "_________________________________________________________________\n",
      "dense_42 (Dense)             (None, 10)                5130      \n",
      "=================================================================\n",
      "Total params: 407,050\n",
      "Trainable params: 407,050\n",
      "Non-trainable params: 0\n",
      "_________________________________________________________________\n"
     ]
    }
   ],
   "source": [
    "# 保存したファイルを使ってモデルを再作成\n",
    "# 同じモデルを読み込んで、重みやオプティマイザーを含むモデル全体を再作成\n",
    "new_model = tf.keras.models.load_model('my_model.h5')\n",
    "\n",
    "# モデルのアーキテクチャを表示\n",
    "new_model.summary()"
   ]
  },
  {
   "cell_type": "code",
   "execution_count": 123,
   "id": "81cdd5bf",
   "metadata": {},
   "outputs": [
    {
     "name": "stdout",
     "output_type": "stream",
     "text": [
      "32/32 - 0s - loss: 0.4272 - accuracy: 0.8550\n",
      "Restored model, accuracy: 85.50%\n"
     ]
    }
   ],
   "source": [
    "# 正解率を検査\n",
    "loss, acc = new_model.evaluate(test_images,  test_labels, verbose=2)\n",
    "print(\"Restored model, accuracy: {:5.2f}%\".format(100*acc))"
   ]
  },
  {
   "cell_type": "markdown",
   "id": "d00a1208",
   "metadata": {},
   "source": [
    "### Keras はモデルのアーキテクチャを検査して保存\n",
    "\n",
    "以下のものを保存\n",
    "- 重みの値\n",
    "- モデルのアーキテクチャ\n",
    "- モデルの訓練の設定 (コンパイル時に渡したもの)\n",
    "- もしあれば、オプティマイザーとその状態 (これは中断したところからの訓練の再開を可能にします)"
   ]
  },
  {
   "cell_type": "markdown",
   "id": "99f0f543",
   "metadata": {},
   "source": [
    "# Keras Tuner の基礎\n",
    "[Keras Tuner の基礎](https://www.tensorflow.org/tutorials/keras/keras_tuner?hl=ja)\n",
    "\n",
    "### ハイパーパラメータの種類\n",
    "- モデルハイパーパラメータ\n",
    "    - 非表示レイヤーの数と幅などのモデルの選択に影響。\n",
    "- アルゴリズムハイパーパラメータ\n",
    "    - 確率的勾配降下法（SGD）の学習速度や k最近傍（KNN）分類器の最近傍の数など、学習アルゴリズムの速度と質に影響。\n",
    "    \n",
    "- ハイパーチューニングを行うモデルを構築する際、モデルアーキテクチャのほかにハイパーパラメータ検索空間も定義する。\n",
    "- ハイパーチューニング用にセットアップするモデルをハイパーモデルと呼ぶ。\n",
    "<br>\n",
    "- ハイパーモデルの定義\n",
    "    - モデルビルダー関数を使用する。\n",
    "        - モデルビルダー関数は、コンパイル済みのモデルを返し、インラインで定義するハイパーパラメータを使用してモデルをハイパーチューニング。\n",
    "    - Keras Tuner APIのHyperModelクラスをサブクラス化する。\n",
    "<br>\n",
    "- チューナーの種類\n",
    "    - RandomSearch\n",
    "    - Hyperband\n",
    "    - BayesianOptimization\n",
    "    - Sklearn"
   ]
  },
  {
   "cell_type": "code",
   "execution_count": 127,
   "id": "3dc24a2c",
   "metadata": {},
   "outputs": [],
   "source": [
    "# セットアップ\n",
    "import tensorflow as tf\n",
    "from tensorflow import keras\n",
    "import kerastuner as kt\n",
    "\n",
    "import IPython"
   ]
  },
  {
   "cell_type": "code",
   "execution_count": 128,
   "id": "fa1b2ded",
   "metadata": {},
   "outputs": [],
   "source": [
    "# データセットをダウンロード\n",
    "(img_train, label_train), (img_test, label_test) = keras.datasets.fashion_mnist.load_data()"
   ]
  },
  {
   "cell_type": "code",
   "execution_count": 129,
   "id": "36ff49e1",
   "metadata": {},
   "outputs": [],
   "source": [
    "# 正規化\n",
    "# Normalize pixel values between 0 and 1\n",
    "img_train = img_train.astype('float32') / 255.0\n",
    "img_test = img_test.astype('float32') / 255.0"
   ]
  },
  {
   "cell_type": "code",
   "execution_count": 134,
   "id": "4a942798",
   "metadata": {},
   "outputs": [],
   "source": [
    "# モデルを定義\n",
    "# モデルビルダー関数を使用して、画像分類モデルを定義\n",
    "def model_builder(hp):\n",
    "    model = keras.Sequential()\n",
    "    model.add(keras.layers.Flatten(input_shape=(28, 28)))\n",
    "    \n",
    "    # Tune the number of units in the first Dense layer\n",
    "    # Choose an optimal value between 32-512\n",
    "    hp_units = hp.Int('units', min_value = 32, max_value = 512, step = 32)\n",
    "    model.add(keras.layers.Dense(units = hp_units, activation = 'relu'))\n",
    "    model.add(keras.layers.Dense(10))\n",
    "    \n",
    "    # Tune the learning rate for the optimizer \n",
    "    # Choose an optimal value from 0.01, 0.001, or 0.0001\n",
    "    hp_learning_rate = hp.Choice('learning_rate', values = [1e-2, 1e-3, 1e-4]) \n",
    "    \n",
    "    # コンパイル\n",
    "    model.compile(optimizer = keras.optimizers.Adam(learning_rate = hp_learning_rate),\n",
    "                loss = keras.losses.SparseCategoricalCrossentropy(from_logits = True), \n",
    "                metrics = ['accuracy'])\n",
    "\n",
    "    return model"
   ]
  },
  {
   "cell_type": "code",
   "execution_count": 135,
   "id": "5d0b00c8",
   "metadata": {},
   "outputs": [],
   "source": [
    "# チューナーをインスタンス化してハイパーチューニングを実行\n",
    "tuner = kt.Hyperband(model_builder,\n",
    "                     objective = 'val_accuracy',   # 最適化するオブジェクト\n",
    "                     max_epochs = 10,\n",
    "                     factor = 3,\n",
    "                     directory = 'my_dir',\n",
    "                     project_name = 'intro_to_kt')"
   ]
  },
  {
   "cell_type": "code",
   "execution_count": null,
   "id": "7e162b7c",
   "metadata": {},
   "outputs": [],
   "source": [
    "# トレーニングステップごとにトレーニング出力をクリアにするコールバックを定義\n"
   ]
  }
 ],
 "metadata": {
  "kernelspec": {
   "display_name": "Python 3",
   "language": "python",
   "name": "python3"
  },
  "language_info": {
   "codemirror_mode": {
    "name": "ipython",
    "version": 3
   },
   "file_extension": ".py",
   "mimetype": "text/x-python",
   "name": "python",
   "nbconvert_exporter": "python",
   "pygments_lexer": "ipython3",
   "version": "3.8.8"
  }
 },
 "nbformat": 4,
 "nbformat_minor": 5
}
