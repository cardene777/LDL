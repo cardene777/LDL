{
 "cells": [
  {
   "cell_type": "markdown",
   "metadata": {},
   "source": [
    "# numpyの基礎\n",
    "今回はnumpyの基礎について説明する。numpyは配列を数学的に扱うことができるライブラリである。数学でいうベクトルや行列の計算用のライブラリである。ここでは数学の詳細には触れず、numpyにおける配列の扱い方について学ぶ。\n",
    "\n",
    "## numpyのインポート\n",
    "numpyをインポートする際は、慣習上npとリネームして用いる。"
   ]
  },
  {
   "cell_type": "code",
   "execution_count": 1,
   "metadata": {},
   "outputs": [],
   "source": [
    "import numpy as np"
   ]
  },
  {
   "cell_type": "markdown",
   "metadata": {},
   "source": [
    "## numpyでの配列の宣言\n",
    "numpyの配列の宣言はnp.array([配列])で行う。"
   ]
  },
  {
   "cell_type": "code",
   "execution_count": 2,
   "metadata": {},
   "outputs": [
    {
     "name": "stdout",
     "output_type": "stream",
     "text": [
      "[1 2 3]\n",
      "[0 1 2 3 4 5 6 7 8 9]\n"
     ]
    }
   ],
   "source": [
    "a = np.array([1,2,3])\n",
    "b = np.array([x for x in range(10)])\n",
    "print(a)\n",
    "print(b)"
   ]
  },
  {
   "cell_type": "markdown",
   "metadata": {},
   "source": [
    "## 多次元配列の宣言\n",
    "numpyの多次元配列は同様に宣言することができる。"
   ]
  },
  {
   "cell_type": "code",
   "execution_count": 3,
   "metadata": {},
   "outputs": [
    {
     "name": "stdout",
     "output_type": "stream",
     "text": [
      "[[0 1 2 3 4 5]\n",
      " [0 1 2 3 4 5]]\n"
     ]
    }
   ],
   "source": [
    "a = np.array([[0, 1, 2, 3, 4, 5], [0, 1, 2, 3, 4, 5]])\n",
    "print(a)"
   ]
  },
  {
   "cell_type": "markdown",
   "metadata": {},
   "source": [
    "## 型変換\n",
    "numpyはdtypeで指定できる。宣言時に型を指定できる。既存の配列の型変換についてはastypeで変更できる。また、numpyはlistと異なり、全て同じ変数型でないとならない。"
   ]
  },
  {
   "cell_type": "code",
   "execution_count": 4,
   "metadata": {},
   "outputs": [
    {
     "name": "stdout",
     "output_type": "stream",
     "text": [
      "[[ 0.  1.  2.  3.  4.  5.]\n",
      " [ 0.  2.  4.  6.  8. 10.]]\n",
      "[[ 0  1  2  3  4  5]\n",
      " [ 0  2  4  6  8 10]]\n",
      "[['0.0' '1.0' '2.0' '3.0' '4.0' '5.0']\n",
      " ['0.0' '2.0' '4.0' '6.0' '8.0' '10.0']]\n"
     ]
    }
   ],
   "source": [
    "lst = [[0, 1, 2, 3, 4, 5], [0, 2, 4, 6, 8, 10]]\n",
    "a = np.array(lst, dtype=float)\n",
    "print(a)\n",
    "print(a.astype(int))\n",
    "print(a.astype(str))"
   ]
  },
  {
   "cell_type": "markdown",
   "metadata": {},
   "source": [
    "# numpyの配列型の変換\n",
    "numpyはshapeを用いて配列の形を確認できる。"
   ]
  },
  {
   "cell_type": "code",
   "execution_count": 5,
   "metadata": {},
   "outputs": [
    {
     "name": "stdout",
     "output_type": "stream",
     "text": [
      "[[ 0  1  2  3  4  5]\n",
      " [ 0  2  4  6  8 10]]\n",
      "(2, 6)\n"
     ]
    }
   ],
   "source": [
    "lst = [[j*(i+1) for j in range(6)] for i in range(2)]\n",
    "a = np.array(lst)\n",
    "print(a)\n",
    "print(a.shape)"
   ]
  },
  {
   "cell_type": "markdown",
   "metadata": {},
   "source": [
    "上の配列を見ると2行で6列の配列になっていることがわかる。数学的には行列と呼ばれる構造である(行列については別の章で扱う)。reshapeを用いると、この配列の形を変えることができる。"
   ]
  },
  {
   "cell_type": "code",
   "execution_count": 6,
   "metadata": {},
   "outputs": [
    {
     "name": "stdout",
     "output_type": "stream",
     "text": [
      "[[ 0  1  2  3  4  5]\n",
      " [ 0  2  4  6  8 10]]\n",
      "(2, 6)\n",
      "[[ 0  1  2]\n",
      " [ 3  4  5]\n",
      " [ 0  2  4]\n",
      " [ 6  8 10]]\n",
      "(4, 3)\n"
     ]
    }
   ],
   "source": [
    "lst = [[j*(i+1) for j in range(6)] for i in range(2)]\n",
    "a = np.array(lst)\n",
    "a_2 = a.reshape(4,3)\n",
    "print(a)\n",
    "print(a.shape)\n",
    "print(a_2)\n",
    "print(a_2.shape)"
   ]
  },
  {
   "cell_type": "markdown",
   "metadata": {},
   "source": [
    "この例では、4行3列の配列に変更することができた。このreshapeは、変更前と変更後で合計の要素の数が等しくなる必要がある。行と列を入れ替えたいだけの場合はTを用いる。"
   ]
  },
  {
   "cell_type": "code",
   "execution_count": 7,
   "metadata": {},
   "outputs": [
    {
     "name": "stdout",
     "output_type": "stream",
     "text": [
      "[[ 0  1  2  3  4  5]\n",
      " [ 0  2  4  6  8 10]]\n",
      "[[ 0  0]\n",
      " [ 1  2]\n",
      " [ 2  4]\n",
      " [ 3  6]\n",
      " [ 4  8]\n",
      " [ 5 10]]\n"
     ]
    }
   ],
   "source": [
    "lst = [[j*(i+1) for j in range(6)] for i in range(2)]\n",
    "a = np.array(lst)\n",
    "print(a)\n",
    "print(a.T)"
   ]
  },
  {
   "cell_type": "markdown",
   "metadata": {},
   "source": [
    "# numpyの計算\n",
    "numpyは四則計算ができる。同じ形の配列のnumpy同士では、同じ位置にある要素同士を四則演算する。"
   ]
  },
  {
   "cell_type": "code",
   "execution_count": 8,
   "metadata": {},
   "outputs": [
    {
     "name": "stdout",
     "output_type": "stream",
     "text": [
      "[[1 2 3]\n",
      " [4 5 6]]\n",
      "[[2 4 6]\n",
      " [1 1 1]]\n",
      "\n",
      "[[3 6 9]\n",
      " [5 6 7]]\n",
      "[[-1 -2 -3]\n",
      " [ 3  4  5]]\n",
      "[[ 2  8 18]\n",
      " [ 4  5  6]]\n",
      "[[2.         2.         2.        ]\n",
      " [0.25       0.2        0.16666667]]\n",
      "[[  1  16 729]\n",
      " [  4   5   6]]\n"
     ]
    }
   ],
   "source": [
    "a = np.array([[1, 2, 3], [4, 5, 6]])\n",
    "b = np.array([[2, 4, 6], [1, 1, 1]])\n",
    "print(a)\n",
    "print(b)\n",
    "print()\n",
    "print(a+b)\n",
    "print(a-b)\n",
    "print(a*b)\n",
    "print(b/a)\n",
    "print(a**b)"
   ]
  },
  {
   "cell_type": "markdown",
   "metadata": {},
   "source": [
    "## numpyのブロードキャスト\n",
    "numpyは配列の形が異なる配列を演算した時、要素の数が少ない方を自動で要素を拡大して計算することである。以下に例を示す。"
   ]
  },
  {
   "cell_type": "code",
   "execution_count": 9,
   "metadata": {},
   "outputs": [
    {
     "name": "stdout",
     "output_type": "stream",
     "text": [
      "[[ 3  6  9]\n",
      " [12 15 18]]\n"
     ]
    }
   ],
   "source": [
    "a = np.array([[1, 2, 3], [4, 5, 6]])\n",
    "b = 3\n",
    "print(a*b)"
   ]
  },
  {
   "cell_type": "markdown",
   "metadata": {},
   "source": [
    "この例の場合、bを全て3の$\\left(2\\times3 \\right)$の配列とみなして計算している。\n",
    "\n",
    "[[1, 2, 3], [4, 5, 6]] * 3 = [[1, 2, 3], [4, 5, 6]] * [[3, 3, 3], [3, 3, 3]]  \n",
    "のようなイメージである。\n",
    "\n",
    "もう一つ例を示す。"
   ]
  },
  {
   "cell_type": "code",
   "execution_count": 10,
   "metadata": {},
   "outputs": [
    {
     "name": "stdout",
     "output_type": "stream",
     "text": [
      "(3, 3)\n",
      "(3,)\n",
      "[[ 1 -2  6]\n",
      " [ 4 -5 12]\n",
      " [ 7 -8 18]]\n"
     ]
    }
   ],
   "source": [
    "a = np.array([[1, 2, 3], [4, 5, 6], [7, 8, 9]])\n",
    "b = np.array([1, -1, 2])\n",
    "print(a.shape)\n",
    "print(b.shape)\n",
    "print(a*b)"
   ]
  },
  {
   "cell_type": "markdown",
   "metadata": {},
   "source": [
    "今度は、bが持っている一つの配列[1, -1, 2]を3つ複製して$\\left(3\\times3 \\right)$の配列とみなして計算している。\n",
    "\n",
    "[[1, 2, 3], [4, 5, 6], [7, 8, 9]] * [1, -1, 2] = [[1, 2, 3], [4, 5, 6], [7, 8, 9]] * [[1, -1, 2], [1, -1, 2], [1, -1, 2]]  \n",
    "のような計算である。"
   ]
  },
  {
   "cell_type": "markdown",
   "metadata": {},
   "source": [
    "# numpyの関数\n",
    "numpyには様々な関数が実装されている。ここでは全ては紹介できないが、代表的な関数を取り上げ、挙動を見ていく。\n",
    "\n",
    "## 累乗\n",
    "np.powerで累乗を行うことができる。"
   ]
  },
  {
   "cell_type": "code",
   "execution_count": 11,
   "metadata": {},
   "outputs": [
    {
     "data": {
      "text/plain": [
       "8"
      ]
     },
     "execution_count": 11,
     "metadata": {},
     "output_type": "execute_result"
    }
   ],
   "source": [
    "np.power(2, 3)"
   ]
  },
  {
   "cell_type": "markdown",
   "metadata": {},
   "source": [
    "これは$2^{3}$をした例であるが、ここにnumpyの配列を入れると、配列全てを累乗する。"
   ]
  },
  {
   "cell_type": "code",
   "execution_count": 12,
   "metadata": {},
   "outputs": [
    {
     "name": "stdout",
     "output_type": "stream",
     "text": [
      "[[  1   8  27]\n",
      " [ 64 125 216]\n",
      " [343 512 729]]\n"
     ]
    }
   ],
   "source": [
    "a = np.array([[1, 2, 3], [4, 5, 6], [7, 8, 9]])\n",
    "print(np.power(a, 3))"
   ]
  },
  {
   "cell_type": "markdown",
   "metadata": {},
   "source": [
    "## 平均\n",
    "numpyの平均は、np.meanで行うことがきる"
   ]
  },
  {
   "cell_type": "code",
   "execution_count": 13,
   "metadata": {},
   "outputs": [
    {
     "name": "stdout",
     "output_type": "stream",
     "text": [
      "2.0\n"
     ]
    }
   ],
   "source": [
    "a = np.array([1, 2, 3])\n",
    "print(np.mean(a))"
   ]
  },
  {
   "cell_type": "markdown",
   "metadata": {},
   "source": [
    "要素ごとの平均を取っていることがわかる。ここで多次元のnumpyに平均を取ると以下のようになる。"
   ]
  },
  {
   "cell_type": "code",
   "execution_count": 14,
   "metadata": {},
   "outputs": [
    {
     "name": "stdout",
     "output_type": "stream",
     "text": [
      "5.0\n"
     ]
    }
   ],
   "source": [
    "a = np.array([[1, 2, 3], [4, 5, 6], [7, 8, 9]])\n",
    "print(np.mean(a))"
   ]
  },
  {
   "cell_type": "markdown",
   "metadata": {},
   "source": [
    "同様に全ての要素の平均を取っていることがわかる。ここで、axis(軸)という概念を紹介する。"
   ]
  },
  {
   "cell_type": "code",
   "execution_count": 15,
   "metadata": {},
   "outputs": [
    {
     "name": "stdout",
     "output_type": "stream",
     "text": [
      "[[1 2 3]\n",
      " [4 5 6]\n",
      " [7 8 9]]\n",
      "[4. 5. 6.]\n",
      "[2. 5. 8.]\n"
     ]
    }
   ],
   "source": [
    "a = np.array([[1, 2, 3], [4, 5, 6], [7, 8, 9]])\n",
    "print(a)\n",
    "print(np.mean(a, axis=0))\n",
    "print(np.mean(a, axis=1))"
   ]
  },
  {
   "cell_type": "markdown",
   "metadata": {},
   "source": [
    "axis=0とした場合は、縦方向に平均を取っている\n",
    "\n",
    "$$\n",
    "\\left[\n",
    "\\left[1, 2, 3 \\right], \\\\\n",
    "\\left[4, 5, 6 \\right], \\\\\n",
    "\\left[7, 8, 9 \\right] \n",
    "\\right] \\\\\n",
    "= \\left[ \\frac{1+4+7}{3}, \\frac{2+5+8}{3}, \\frac{3+6+8}{3} \\right] = \\left[4, 5, 6 \\right]\n",
    "$$\n",
    "\n",
    "axis=1とした場合は、横方向に平均を取っている\n",
    "\n",
    "$$\n",
    "\\left[\n",
    "\\left[1, 2, 3 \\right], \\\\\n",
    "\\left[4, 5, 6 \\right], \\\\\n",
    "\\left[7, 8, 9 \\right] \n",
    "\\right] \\\\\n",
    "= \\left[ \\frac{1+2+3}{3}, \\frac{4+5+6}{3}, \\frac{7+8+9}{3} \\right] = \\left[2, 5, 8 \\right]\n",
    "$$"
   ]
  },
  {
   "cell_type": "markdown",
   "metadata": {},
   "source": [
    "# Pandasの基礎\n",
    "今回はPandasについて解説する。PandasはcsvやExcelファイルなど、表形式のデータ型を扱うのに便利なライブラリである。numpy同様非常に高機能なため全てを解説することはできないが、基礎的な考え方についてここでは学ぶ。次のような配列を考えてみる。"
   ]
  },
  {
   "cell_type": "code",
   "execution_count": 16,
   "metadata": {},
   "outputs": [],
   "source": [
    "lst = [['坂本勇人',  186, 85, '右投右打', '内野手'],\\\n",
    "       ['丸佳浩', 177, 94, '右投左打', '外野手'], \\\n",
    "       ['小林誠司', 178, 86, '右投右打', '捕手'], \\\n",
    "       ['菅野智之', 186, 92, '右投右打', '投手']]"
   ]
  },
  {
   "cell_type": "markdown",
   "metadata": {},
   "source": [
    "これをpandas型で表現してみる。まず、pandasをインポートする。pandasは慣習上pdとリネームする。"
   ]
  },
  {
   "cell_type": "code",
   "execution_count": 17,
   "metadata": {},
   "outputs": [],
   "source": [
    "import pandas as pd"
   ]
  },
  {
   "cell_type": "markdown",
   "metadata": {},
   "source": [
    "pandasの宣言はDataFrameを用いて以下のように行う。"
   ]
  },
  {
   "cell_type": "code",
   "execution_count": 18,
   "metadata": {},
   "outputs": [
    {
     "name": "stdout",
     "output_type": "stream",
     "text": [
      "      0    1   2     3    4\n",
      "0  坂本勇人  186  85  右投右打  内野手\n",
      "1   丸佳浩  177  94  右投左打  外野手\n",
      "2  小林誠司  178  86  右投右打   捕手\n",
      "3  菅野智之  186  92  右投右打   投手\n"
     ]
    }
   ],
   "source": [
    "df = pd.DataFrame(lst)\n",
    "print(df)"
   ]
  },
  {
   "cell_type": "markdown",
   "metadata": {},
   "source": [
    "Jupyterではprintの代わりにdisplayを用いると表形式で表示される。"
   ]
  },
  {
   "cell_type": "code",
   "execution_count": 19,
   "metadata": {},
   "outputs": [
    {
     "data": {
      "text/html": [
       "<div>\n",
       "<style scoped>\n",
       "    .dataframe tbody tr th:only-of-type {\n",
       "        vertical-align: middle;\n",
       "    }\n",
       "\n",
       "    .dataframe tbody tr th {\n",
       "        vertical-align: top;\n",
       "    }\n",
       "\n",
       "    .dataframe thead th {\n",
       "        text-align: right;\n",
       "    }\n",
       "</style>\n",
       "<table border=\"1\" class=\"dataframe\">\n",
       "  <thead>\n",
       "    <tr style=\"text-align: right;\">\n",
       "      <th></th>\n",
       "      <th>0</th>\n",
       "      <th>1</th>\n",
       "      <th>2</th>\n",
       "      <th>3</th>\n",
       "      <th>4</th>\n",
       "    </tr>\n",
       "  </thead>\n",
       "  <tbody>\n",
       "    <tr>\n",
       "      <th>0</th>\n",
       "      <td>坂本勇人</td>\n",
       "      <td>186</td>\n",
       "      <td>85</td>\n",
       "      <td>右投右打</td>\n",
       "      <td>内野手</td>\n",
       "    </tr>\n",
       "    <tr>\n",
       "      <th>1</th>\n",
       "      <td>丸佳浩</td>\n",
       "      <td>177</td>\n",
       "      <td>94</td>\n",
       "      <td>右投左打</td>\n",
       "      <td>外野手</td>\n",
       "    </tr>\n",
       "    <tr>\n",
       "      <th>2</th>\n",
       "      <td>小林誠司</td>\n",
       "      <td>178</td>\n",
       "      <td>86</td>\n",
       "      <td>右投右打</td>\n",
       "      <td>捕手</td>\n",
       "    </tr>\n",
       "    <tr>\n",
       "      <th>3</th>\n",
       "      <td>菅野智之</td>\n",
       "      <td>186</td>\n",
       "      <td>92</td>\n",
       "      <td>右投右打</td>\n",
       "      <td>投手</td>\n",
       "    </tr>\n",
       "  </tbody>\n",
       "</table>\n",
       "</div>"
      ],
      "text/plain": [
       "      0    1   2     3    4\n",
       "0  坂本勇人  186  85  右投右打  内野手\n",
       "1   丸佳浩  177  94  右投左打  外野手\n",
       "2  小林誠司  178  86  右投右打   捕手\n",
       "3  菅野智之  186  92  右投右打   投手"
      ]
     },
     "metadata": {},
     "output_type": "display_data"
    }
   ],
   "source": [
    "display(df)"
   ]
  },
  {
   "cell_type": "markdown",
   "metadata": {},
   "source": [
    "pandasでは行(index)、列(column)の名称が存在する。デフォルトでは上で見るように0,1,2,...という形式となっている。宣言時に行、列を表現することも可能。"
   ]
  },
  {
   "cell_type": "code",
   "execution_count": 20,
   "metadata": {},
   "outputs": [
    {
     "data": {
      "text/html": [
       "<div>\n",
       "<style scoped>\n",
       "    .dataframe tbody tr th:only-of-type {\n",
       "        vertical-align: middle;\n",
       "    }\n",
       "\n",
       "    .dataframe tbody tr th {\n",
       "        vertical-align: top;\n",
       "    }\n",
       "\n",
       "    .dataframe thead th {\n",
       "        text-align: right;\n",
       "    }\n",
       "</style>\n",
       "<table border=\"1\" class=\"dataframe\">\n",
       "  <thead>\n",
       "    <tr style=\"text-align: right;\">\n",
       "      <th></th>\n",
       "      <th>選手名</th>\n",
       "      <th>身長</th>\n",
       "      <th>体重</th>\n",
       "      <th>投打</th>\n",
       "      <th>ポジション</th>\n",
       "    </tr>\n",
       "  </thead>\n",
       "  <tbody>\n",
       "    <tr>\n",
       "      <th>6</th>\n",
       "      <td>坂本勇人</td>\n",
       "      <td>186</td>\n",
       "      <td>85</td>\n",
       "      <td>右投右打</td>\n",
       "      <td>内野手</td>\n",
       "    </tr>\n",
       "    <tr>\n",
       "      <th>8</th>\n",
       "      <td>丸佳浩</td>\n",
       "      <td>177</td>\n",
       "      <td>94</td>\n",
       "      <td>右投左打</td>\n",
       "      <td>外野手</td>\n",
       "    </tr>\n",
       "    <tr>\n",
       "      <th>22</th>\n",
       "      <td>小林誠司</td>\n",
       "      <td>178</td>\n",
       "      <td>86</td>\n",
       "      <td>右投右打</td>\n",
       "      <td>捕手</td>\n",
       "    </tr>\n",
       "    <tr>\n",
       "      <th>18</th>\n",
       "      <td>菅野智之</td>\n",
       "      <td>186</td>\n",
       "      <td>92</td>\n",
       "      <td>右投右打</td>\n",
       "      <td>投手</td>\n",
       "    </tr>\n",
       "  </tbody>\n",
       "</table>\n",
       "</div>"
      ],
      "text/plain": [
       "     選手名   身長  体重    投打 ポジション\n",
       "6   坂本勇人  186  85  右投右打   内野手\n",
       "8    丸佳浩  177  94  右投左打   外野手\n",
       "22  小林誠司  178  86  右投右打    捕手\n",
       "18  菅野智之  186  92  右投右打    投手"
      ]
     },
     "metadata": {},
     "output_type": "display_data"
    }
   ],
   "source": [
    "df = pd.DataFrame(lst, columns=['選手名', '身長', '体重', '投打', 'ポジション'], index=[6, 8, 22, 18])\n",
    "display(df)"
   ]
  },
  {
   "cell_type": "markdown",
   "metadata": {},
   "source": [
    "カラムの名称変更にはrenameを用いる。rename(columns={変更前のカラム名:変更後のカラム名,...})のように変更したいカラム名を辞書形式で指定する。"
   ]
  },
  {
   "cell_type": "code",
   "execution_count": 21,
   "metadata": {},
   "outputs": [
    {
     "data": {
      "text/html": [
       "<div>\n",
       "<style scoped>\n",
       "    .dataframe tbody tr th:only-of-type {\n",
       "        vertical-align: middle;\n",
       "    }\n",
       "\n",
       "    .dataframe tbody tr th {\n",
       "        vertical-align: top;\n",
       "    }\n",
       "\n",
       "    .dataframe thead th {\n",
       "        text-align: right;\n",
       "    }\n",
       "</style>\n",
       "<table border=\"1\" class=\"dataframe\">\n",
       "  <thead>\n",
       "    <tr style=\"text-align: right;\">\n",
       "      <th></th>\n",
       "      <th>player</th>\n",
       "      <th>height</th>\n",
       "      <th>weight</th>\n",
       "      <th>投打</th>\n",
       "      <th>ポジション</th>\n",
       "    </tr>\n",
       "  </thead>\n",
       "  <tbody>\n",
       "    <tr>\n",
       "      <th>6</th>\n",
       "      <td>坂本勇人</td>\n",
       "      <td>186</td>\n",
       "      <td>85</td>\n",
       "      <td>右投右打</td>\n",
       "      <td>内野手</td>\n",
       "    </tr>\n",
       "    <tr>\n",
       "      <th>8</th>\n",
       "      <td>丸佳浩</td>\n",
       "      <td>177</td>\n",
       "      <td>94</td>\n",
       "      <td>右投左打</td>\n",
       "      <td>外野手</td>\n",
       "    </tr>\n",
       "    <tr>\n",
       "      <th>22</th>\n",
       "      <td>小林誠司</td>\n",
       "      <td>178</td>\n",
       "      <td>86</td>\n",
       "      <td>右投右打</td>\n",
       "      <td>捕手</td>\n",
       "    </tr>\n",
       "    <tr>\n",
       "      <th>18</th>\n",
       "      <td>菅野智之</td>\n",
       "      <td>186</td>\n",
       "      <td>92</td>\n",
       "      <td>右投右打</td>\n",
       "      <td>投手</td>\n",
       "    </tr>\n",
       "  </tbody>\n",
       "</table>\n",
       "</div>"
      ],
      "text/plain": [
       "   player  height  weight    投打 ポジション\n",
       "6    坂本勇人     186      85  右投右打   内野手\n",
       "8     丸佳浩     177      94  右投左打   外野手\n",
       "22   小林誠司     178      86  右投右打    捕手\n",
       "18   菅野智之     186      92  右投右打    投手"
      ]
     },
     "metadata": {},
     "output_type": "display_data"
    }
   ],
   "source": [
    "df = df.rename(columns={'選手名':'player', '身長':'height', '体重':'weight'})\n",
    "display(df)"
   ]
  },
  {
   "cell_type": "markdown",
   "metadata": {},
   "source": [
    "インデックスの変更も同様にrename(index={変更前のインデックス名:変更後のインデックス名,...})のように指定すればよい。"
   ]
  },
  {
   "cell_type": "code",
   "execution_count": 22,
   "metadata": {},
   "outputs": [
    {
     "data": {
      "text/html": [
       "<div>\n",
       "<style scoped>\n",
       "    .dataframe tbody tr th:only-of-type {\n",
       "        vertical-align: middle;\n",
       "    }\n",
       "\n",
       "    .dataframe tbody tr th {\n",
       "        vertical-align: top;\n",
       "    }\n",
       "\n",
       "    .dataframe thead th {\n",
       "        text-align: right;\n",
       "    }\n",
       "</style>\n",
       "<table border=\"1\" class=\"dataframe\">\n",
       "  <thead>\n",
       "    <tr style=\"text-align: right;\">\n",
       "      <th></th>\n",
       "      <th>player</th>\n",
       "      <th>height</th>\n",
       "      <th>weight</th>\n",
       "      <th>投打</th>\n",
       "      <th>ポジション</th>\n",
       "    </tr>\n",
       "  </thead>\n",
       "  <tbody>\n",
       "    <tr>\n",
       "      <th>坂本</th>\n",
       "      <td>坂本勇人</td>\n",
       "      <td>186</td>\n",
       "      <td>85</td>\n",
       "      <td>右投右打</td>\n",
       "      <td>内野手</td>\n",
       "    </tr>\n",
       "    <tr>\n",
       "      <th>丸</th>\n",
       "      <td>丸佳浩</td>\n",
       "      <td>177</td>\n",
       "      <td>94</td>\n",
       "      <td>右投左打</td>\n",
       "      <td>外野手</td>\n",
       "    </tr>\n",
       "    <tr>\n",
       "      <th>小林</th>\n",
       "      <td>小林誠司</td>\n",
       "      <td>178</td>\n",
       "      <td>86</td>\n",
       "      <td>右投右打</td>\n",
       "      <td>捕手</td>\n",
       "    </tr>\n",
       "    <tr>\n",
       "      <th>菅野</th>\n",
       "      <td>菅野智之</td>\n",
       "      <td>186</td>\n",
       "      <td>92</td>\n",
       "      <td>右投右打</td>\n",
       "      <td>投手</td>\n",
       "    </tr>\n",
       "  </tbody>\n",
       "</table>\n",
       "</div>"
      ],
      "text/plain": [
       "   player  height  weight    投打 ポジション\n",
       "坂本   坂本勇人     186      85  右投右打   内野手\n",
       "丸     丸佳浩     177      94  右投左打   外野手\n",
       "小林   小林誠司     178      86  右投右打    捕手\n",
       "菅野   菅野智之     186      92  右投右打    投手"
      ]
     },
     "metadata": {},
     "output_type": "display_data"
    }
   ],
   "source": [
    "df = df.rename(index={6:'坂本', 8:'丸', 22:'小林', 18:'菅野'})\n",
    "display(df)"
   ]
  },
  {
   "cell_type": "markdown",
   "metadata": {},
   "source": [
    "# pandasのデータ切り取り\n",
    "pandasでは特定の列のみを抽出したい場合にはdf[[取り出したいカラムをリストで指定]]で取得できる。また、リストを追加したい場合は、df['追加したいカラム名'] = [追加したいリスト]で追加すれば良い。\n",
    "なお、df['既存のカラム名'] = []とすると既存のカラムが上書きされる"
   ]
  },
  {
   "cell_type": "code",
   "execution_count": 23,
   "metadata": {},
   "outputs": [
    {
     "data": {
      "text/html": [
       "<div>\n",
       "<style scoped>\n",
       "    .dataframe tbody tr th:only-of-type {\n",
       "        vertical-align: middle;\n",
       "    }\n",
       "\n",
       "    .dataframe tbody tr th {\n",
       "        vertical-align: top;\n",
       "    }\n",
       "\n",
       "    .dataframe thead th {\n",
       "        text-align: right;\n",
       "    }\n",
       "</style>\n",
       "<table border=\"1\" class=\"dataframe\">\n",
       "  <thead>\n",
       "    <tr style=\"text-align: right;\">\n",
       "      <th></th>\n",
       "      <th>選手名</th>\n",
       "      <th>投打</th>\n",
       "      <th>ポジション</th>\n",
       "    </tr>\n",
       "  </thead>\n",
       "  <tbody>\n",
       "    <tr>\n",
       "      <th>6</th>\n",
       "      <td>坂本勇人</td>\n",
       "      <td>右投右打</td>\n",
       "      <td>内野手</td>\n",
       "    </tr>\n",
       "    <tr>\n",
       "      <th>8</th>\n",
       "      <td>丸佳浩</td>\n",
       "      <td>右投左打</td>\n",
       "      <td>外野手</td>\n",
       "    </tr>\n",
       "    <tr>\n",
       "      <th>22</th>\n",
       "      <td>小林誠司</td>\n",
       "      <td>右投右打</td>\n",
       "      <td>捕手</td>\n",
       "    </tr>\n",
       "    <tr>\n",
       "      <th>18</th>\n",
       "      <td>菅野智之</td>\n",
       "      <td>右投右打</td>\n",
       "      <td>投手</td>\n",
       "    </tr>\n",
       "  </tbody>\n",
       "</table>\n",
       "</div>"
      ],
      "text/plain": [
       "     選手名    投打 ポジション\n",
       "6   坂本勇人  右投右打   内野手\n",
       "8    丸佳浩  右投左打   外野手\n",
       "22  小林誠司  右投右打    捕手\n",
       "18  菅野智之  右投右打    投手"
      ]
     },
     "metadata": {},
     "output_type": "display_data"
    },
    {
     "data": {
      "text/html": [
       "<div>\n",
       "<style scoped>\n",
       "    .dataframe tbody tr th:only-of-type {\n",
       "        vertical-align: middle;\n",
       "    }\n",
       "\n",
       "    .dataframe tbody tr th {\n",
       "        vertical-align: top;\n",
       "    }\n",
       "\n",
       "    .dataframe thead th {\n",
       "        text-align: right;\n",
       "    }\n",
       "</style>\n",
       "<table border=\"1\" class=\"dataframe\">\n",
       "  <thead>\n",
       "    <tr style=\"text-align: right;\">\n",
       "      <th></th>\n",
       "      <th>選手名</th>\n",
       "      <th>身長</th>\n",
       "      <th>体重</th>\n",
       "      <th>投打</th>\n",
       "      <th>ポジション</th>\n",
       "      <th>出身地</th>\n",
       "    </tr>\n",
       "  </thead>\n",
       "  <tbody>\n",
       "    <tr>\n",
       "      <th>6</th>\n",
       "      <td>坂本勇人</td>\n",
       "      <td>186</td>\n",
       "      <td>85</td>\n",
       "      <td>右投右打</td>\n",
       "      <td>内野手</td>\n",
       "      <td>兵庫</td>\n",
       "    </tr>\n",
       "    <tr>\n",
       "      <th>8</th>\n",
       "      <td>丸佳浩</td>\n",
       "      <td>177</td>\n",
       "      <td>94</td>\n",
       "      <td>右投左打</td>\n",
       "      <td>外野手</td>\n",
       "      <td>千葉</td>\n",
       "    </tr>\n",
       "    <tr>\n",
       "      <th>22</th>\n",
       "      <td>小林誠司</td>\n",
       "      <td>178</td>\n",
       "      <td>86</td>\n",
       "      <td>右投右打</td>\n",
       "      <td>捕手</td>\n",
       "      <td>大阪</td>\n",
       "    </tr>\n",
       "    <tr>\n",
       "      <th>18</th>\n",
       "      <td>菅野智之</td>\n",
       "      <td>186</td>\n",
       "      <td>92</td>\n",
       "      <td>右投右打</td>\n",
       "      <td>投手</td>\n",
       "      <td>神奈川</td>\n",
       "    </tr>\n",
       "  </tbody>\n",
       "</table>\n",
       "</div>"
      ],
      "text/plain": [
       "     選手名   身長  体重    投打 ポジション  出身地\n",
       "6   坂本勇人  186  85  右投右打   内野手   兵庫\n",
       "8    丸佳浩  177  94  右投左打   外野手   千葉\n",
       "22  小林誠司  178  86  右投右打    捕手   大阪\n",
       "18  菅野智之  186  92  右投右打    投手  神奈川"
      ]
     },
     "metadata": {},
     "output_type": "display_data"
    },
    {
     "data": {
      "text/html": [
       "<div>\n",
       "<style scoped>\n",
       "    .dataframe tbody tr th:only-of-type {\n",
       "        vertical-align: middle;\n",
       "    }\n",
       "\n",
       "    .dataframe tbody tr th {\n",
       "        vertical-align: top;\n",
       "    }\n",
       "\n",
       "    .dataframe thead th {\n",
       "        text-align: right;\n",
       "    }\n",
       "</style>\n",
       "<table border=\"1\" class=\"dataframe\">\n",
       "  <thead>\n",
       "    <tr style=\"text-align: right;\">\n",
       "      <th></th>\n",
       "      <th>選手名</th>\n",
       "      <th>身長</th>\n",
       "      <th>体重</th>\n",
       "      <th>投打</th>\n",
       "      <th>ポジション</th>\n",
       "      <th>出身地</th>\n",
       "    </tr>\n",
       "  </thead>\n",
       "  <tbody>\n",
       "    <tr>\n",
       "      <th>6</th>\n",
       "      <td>坂本勇人</td>\n",
       "      <td>186</td>\n",
       "      <td>85</td>\n",
       "      <td>左投左打</td>\n",
       "      <td>内野手</td>\n",
       "      <td>兵庫</td>\n",
       "    </tr>\n",
       "    <tr>\n",
       "      <th>8</th>\n",
       "      <td>丸佳浩</td>\n",
       "      <td>177</td>\n",
       "      <td>94</td>\n",
       "      <td>左投左打</td>\n",
       "      <td>外野手</td>\n",
       "      <td>千葉</td>\n",
       "    </tr>\n",
       "    <tr>\n",
       "      <th>22</th>\n",
       "      <td>小林誠司</td>\n",
       "      <td>178</td>\n",
       "      <td>86</td>\n",
       "      <td>左投左打</td>\n",
       "      <td>捕手</td>\n",
       "      <td>大阪</td>\n",
       "    </tr>\n",
       "    <tr>\n",
       "      <th>18</th>\n",
       "      <td>菅野智之</td>\n",
       "      <td>186</td>\n",
       "      <td>92</td>\n",
       "      <td>左投左打</td>\n",
       "      <td>投手</td>\n",
       "      <td>神奈川</td>\n",
       "    </tr>\n",
       "  </tbody>\n",
       "</table>\n",
       "</div>"
      ],
      "text/plain": [
       "     選手名   身長  体重    投打 ポジション  出身地\n",
       "6   坂本勇人  186  85  左投左打   内野手   兵庫\n",
       "8    丸佳浩  177  94  左投左打   外野手   千葉\n",
       "22  小林誠司  178  86  左投左打    捕手   大阪\n",
       "18  菅野智之  186  92  左投左打    投手  神奈川"
      ]
     },
     "metadata": {},
     "output_type": "display_data"
    },
    {
     "data": {
      "text/html": [
       "<div>\n",
       "<style scoped>\n",
       "    .dataframe tbody tr th:only-of-type {\n",
       "        vertical-align: middle;\n",
       "    }\n",
       "\n",
       "    .dataframe tbody tr th {\n",
       "        vertical-align: top;\n",
       "    }\n",
       "\n",
       "    .dataframe thead th {\n",
       "        text-align: right;\n",
       "    }\n",
       "</style>\n",
       "<table border=\"1\" class=\"dataframe\">\n",
       "  <thead>\n",
       "    <tr style=\"text-align: right;\">\n",
       "      <th></th>\n",
       "      <th>選手名</th>\n",
       "      <th>身長</th>\n",
       "      <th>体重</th>\n",
       "      <th>投打</th>\n",
       "      <th>ポジション</th>\n",
       "      <th>出身地</th>\n",
       "    </tr>\n",
       "  </thead>\n",
       "  <tbody>\n",
       "    <tr>\n",
       "      <th>6</th>\n",
       "      <td>坂本勇人</td>\n",
       "      <td>186</td>\n",
       "      <td>85</td>\n",
       "      <td>右投右打</td>\n",
       "      <td>内野手</td>\n",
       "      <td>兵庫</td>\n",
       "    </tr>\n",
       "    <tr>\n",
       "      <th>8</th>\n",
       "      <td>丸佳浩</td>\n",
       "      <td>177</td>\n",
       "      <td>94</td>\n",
       "      <td>右投左打</td>\n",
       "      <td>外野手</td>\n",
       "      <td>千葉</td>\n",
       "    </tr>\n",
       "    <tr>\n",
       "      <th>22</th>\n",
       "      <td>小林誠司</td>\n",
       "      <td>178</td>\n",
       "      <td>86</td>\n",
       "      <td>右投右打</td>\n",
       "      <td>捕手</td>\n",
       "      <td>大阪</td>\n",
       "    </tr>\n",
       "    <tr>\n",
       "      <th>18</th>\n",
       "      <td>菅野智之</td>\n",
       "      <td>186</td>\n",
       "      <td>92</td>\n",
       "      <td>右投右打</td>\n",
       "      <td>投手</td>\n",
       "      <td>神奈川</td>\n",
       "    </tr>\n",
       "  </tbody>\n",
       "</table>\n",
       "</div>"
      ],
      "text/plain": [
       "     選手名   身長  体重    投打 ポジション  出身地\n",
       "6   坂本勇人  186  85  右投右打   内野手   兵庫\n",
       "8    丸佳浩  177  94  右投左打   外野手   千葉\n",
       "22  小林誠司  178  86  右投右打    捕手   大阪\n",
       "18  菅野智之  186  92  右投右打    投手  神奈川"
      ]
     },
     "metadata": {},
     "output_type": "display_data"
    }
   ],
   "source": [
    "# データ初期化\n",
    "\n",
    "df = pd.DataFrame(lst, columns=['選手名', '身長', '体重', '投打', 'ポジション'], index=[6, 8, 22, 18])\n",
    "display(df[['選手名', '投打', 'ポジション']])\n",
    "df['出身地'] = ['兵庫', '千葉', '大阪', '神奈川']\n",
    "display(df)\n",
    "\n",
    "#全てのデータが書き換わる\n",
    "df['投打'] = '左投左打'\n",
    "display(df)\n",
    "#リスト指定も可能\n",
    "df['投打'] = ['右投右打', '右投左打', '右投右打', '右投右打']\n",
    "display(df)"
   ]
  },
  {
   "cell_type": "markdown",
   "metadata": {},
   "source": [
    "# Pandasのデータ抽出\n",
    "pandasのデータ抽出にはいくつかやり方があるが、今回は以下の書き方を紹介する。\n",
    "\n",
    "df[df[カラム名] 条件]\n",
    "\n",
    "のように書けば良い。例を見て欲しい"
   ]
  },
  {
   "cell_type": "code",
   "execution_count": 24,
   "metadata": {},
   "outputs": [
    {
     "data": {
      "text/html": [
       "<div>\n",
       "<style scoped>\n",
       "    .dataframe tbody tr th:only-of-type {\n",
       "        vertical-align: middle;\n",
       "    }\n",
       "\n",
       "    .dataframe tbody tr th {\n",
       "        vertical-align: top;\n",
       "    }\n",
       "\n",
       "    .dataframe thead th {\n",
       "        text-align: right;\n",
       "    }\n",
       "</style>\n",
       "<table border=\"1\" class=\"dataframe\">\n",
       "  <thead>\n",
       "    <tr style=\"text-align: right;\">\n",
       "      <th></th>\n",
       "      <th>選手名</th>\n",
       "      <th>身長</th>\n",
       "      <th>体重</th>\n",
       "      <th>投打</th>\n",
       "      <th>ポジション</th>\n",
       "      <th>出身地</th>\n",
       "    </tr>\n",
       "  </thead>\n",
       "  <tbody>\n",
       "    <tr>\n",
       "      <th>6</th>\n",
       "      <td>坂本勇人</td>\n",
       "      <td>186</td>\n",
       "      <td>85</td>\n",
       "      <td>右投右打</td>\n",
       "      <td>内野手</td>\n",
       "      <td>兵庫</td>\n",
       "    </tr>\n",
       "  </tbody>\n",
       "</table>\n",
       "</div>"
      ],
      "text/plain": [
       "    選手名   身長  体重    投打 ポジション 出身地\n",
       "6  坂本勇人  186  85  右投右打   内野手  兵庫"
      ]
     },
     "metadata": {},
     "output_type": "display_data"
    },
    {
     "data": {
      "text/html": [
       "<div>\n",
       "<style scoped>\n",
       "    .dataframe tbody tr th:only-of-type {\n",
       "        vertical-align: middle;\n",
       "    }\n",
       "\n",
       "    .dataframe tbody tr th {\n",
       "        vertical-align: top;\n",
       "    }\n",
       "\n",
       "    .dataframe thead th {\n",
       "        text-align: right;\n",
       "    }\n",
       "</style>\n",
       "<table border=\"1\" class=\"dataframe\">\n",
       "  <thead>\n",
       "    <tr style=\"text-align: right;\">\n",
       "      <th></th>\n",
       "      <th>選手名</th>\n",
       "      <th>身長</th>\n",
       "      <th>体重</th>\n",
       "      <th>投打</th>\n",
       "      <th>ポジション</th>\n",
       "      <th>出身地</th>\n",
       "    </tr>\n",
       "  </thead>\n",
       "  <tbody>\n",
       "    <tr>\n",
       "      <th>6</th>\n",
       "      <td>坂本勇人</td>\n",
       "      <td>186</td>\n",
       "      <td>85</td>\n",
       "      <td>右投右打</td>\n",
       "      <td>内野手</td>\n",
       "      <td>兵庫</td>\n",
       "    </tr>\n",
       "    <tr>\n",
       "      <th>22</th>\n",
       "      <td>小林誠司</td>\n",
       "      <td>178</td>\n",
       "      <td>86</td>\n",
       "      <td>右投右打</td>\n",
       "      <td>捕手</td>\n",
       "      <td>大阪</td>\n",
       "    </tr>\n",
       "    <tr>\n",
       "      <th>18</th>\n",
       "      <td>菅野智之</td>\n",
       "      <td>186</td>\n",
       "      <td>92</td>\n",
       "      <td>右投右打</td>\n",
       "      <td>投手</td>\n",
       "      <td>神奈川</td>\n",
       "    </tr>\n",
       "  </tbody>\n",
       "</table>\n",
       "</div>"
      ],
      "text/plain": [
       "     選手名   身長  体重    投打 ポジション  出身地\n",
       "6   坂本勇人  186  85  右投右打   内野手   兵庫\n",
       "22  小林誠司  178  86  右投右打    捕手   大阪\n",
       "18  菅野智之  186  92  右投右打    投手  神奈川"
      ]
     },
     "metadata": {},
     "output_type": "display_data"
    }
   ],
   "source": [
    "# 内野手を抽出する例\n",
    "display(df[df['ポジション'] == '内野手'])\n",
    "\n",
    "# 右投げ左打ち以外を抽出する例\n",
    "display(df[df['投打'] != '右投左打'])"
   ]
  },
  {
   "cell_type": "markdown",
   "metadata": {},
   "source": [
    "and条件、or条件も使えるがand, orではなく&, |を使うことに注意。"
   ]
  },
  {
   "cell_type": "code",
   "execution_count": 25,
   "metadata": {},
   "outputs": [
    {
     "data": {
      "text/html": [
       "<div>\n",
       "<style scoped>\n",
       "    .dataframe tbody tr th:only-of-type {\n",
       "        vertical-align: middle;\n",
       "    }\n",
       "\n",
       "    .dataframe tbody tr th {\n",
       "        vertical-align: top;\n",
       "    }\n",
       "\n",
       "    .dataframe thead th {\n",
       "        text-align: right;\n",
       "    }\n",
       "</style>\n",
       "<table border=\"1\" class=\"dataframe\">\n",
       "  <thead>\n",
       "    <tr style=\"text-align: right;\">\n",
       "      <th></th>\n",
       "      <th>選手名</th>\n",
       "      <th>身長</th>\n",
       "      <th>体重</th>\n",
       "      <th>投打</th>\n",
       "      <th>ポジション</th>\n",
       "      <th>出身地</th>\n",
       "    </tr>\n",
       "  </thead>\n",
       "  <tbody>\n",
       "    <tr>\n",
       "      <th>6</th>\n",
       "      <td>坂本勇人</td>\n",
       "      <td>186</td>\n",
       "      <td>85</td>\n",
       "      <td>右投右打</td>\n",
       "      <td>内野手</td>\n",
       "      <td>兵庫</td>\n",
       "    </tr>\n",
       "    <tr>\n",
       "      <th>18</th>\n",
       "      <td>菅野智之</td>\n",
       "      <td>186</td>\n",
       "      <td>92</td>\n",
       "      <td>右投右打</td>\n",
       "      <td>投手</td>\n",
       "      <td>神奈川</td>\n",
       "    </tr>\n",
       "  </tbody>\n",
       "</table>\n",
       "</div>"
      ],
      "text/plain": [
       "     選手名   身長  体重    投打 ポジション  出身地\n",
       "6   坂本勇人  186  85  右投右打   内野手   兵庫\n",
       "18  菅野智之  186  92  右投右打    投手  神奈川"
      ]
     },
     "metadata": {},
     "output_type": "display_data"
    },
    {
     "data": {
      "text/html": [
       "<div>\n",
       "<style scoped>\n",
       "    .dataframe tbody tr th:only-of-type {\n",
       "        vertical-align: middle;\n",
       "    }\n",
       "\n",
       "    .dataframe tbody tr th {\n",
       "        vertical-align: top;\n",
       "    }\n",
       "\n",
       "    .dataframe thead th {\n",
       "        text-align: right;\n",
       "    }\n",
       "</style>\n",
       "<table border=\"1\" class=\"dataframe\">\n",
       "  <thead>\n",
       "    <tr style=\"text-align: right;\">\n",
       "      <th></th>\n",
       "      <th>選手名</th>\n",
       "      <th>身長</th>\n",
       "      <th>体重</th>\n",
       "      <th>投打</th>\n",
       "      <th>ポジション</th>\n",
       "      <th>出身地</th>\n",
       "    </tr>\n",
       "  </thead>\n",
       "  <tbody>\n",
       "    <tr>\n",
       "      <th>6</th>\n",
       "      <td>坂本勇人</td>\n",
       "      <td>186</td>\n",
       "      <td>85</td>\n",
       "      <td>右投右打</td>\n",
       "      <td>内野手</td>\n",
       "      <td>兵庫</td>\n",
       "    </tr>\n",
       "    <tr>\n",
       "      <th>22</th>\n",
       "      <td>小林誠司</td>\n",
       "      <td>178</td>\n",
       "      <td>86</td>\n",
       "      <td>右投右打</td>\n",
       "      <td>捕手</td>\n",
       "      <td>大阪</td>\n",
       "    </tr>\n",
       "    <tr>\n",
       "      <th>18</th>\n",
       "      <td>菅野智之</td>\n",
       "      <td>186</td>\n",
       "      <td>92</td>\n",
       "      <td>右投右打</td>\n",
       "      <td>投手</td>\n",
       "      <td>神奈川</td>\n",
       "    </tr>\n",
       "  </tbody>\n",
       "</table>\n",
       "</div>"
      ],
      "text/plain": [
       "     選手名   身長  体重    投打 ポジション  出身地\n",
       "6   坂本勇人  186  85  右投右打   内野手   兵庫\n",
       "22  小林誠司  178  86  右投右打    捕手   大阪\n",
       "18  菅野智之  186  92  右投右打    投手  神奈川"
      ]
     },
     "metadata": {},
     "output_type": "display_data"
    }
   ],
   "source": [
    "# 右投右打かつ身長180cm以上を抽出\n",
    "display(df[(df['投打'] == '右投右打') & (df['身長'] >= 180)])\n",
    "# 右投右打かつ身長180cm以上を抽出\n",
    "display(df[(df['投打'] == '右投右打') | (df['身長'] >= 180)])"
   ]
  },
  {
   "cell_type": "markdown",
   "metadata": {},
   "source": [
    "# Pandasのデータ保存と呼び出し\n",
    "pandasではcsvやExcelで保存したり、csvを呼び出すことができる。\n",
    "\n",
    "## Pandasのデータ保存\n",
    "### csv\n",
    "pandasをcsvファイルで保管したい場合はto_csvを用いる。"
   ]
  },
  {
   "cell_type": "code",
   "execution_count": 26,
   "metadata": {},
   "outputs": [],
   "source": [
    "df.to_csv('./data/baseball_player_index.csv')\n",
    "# 特定の列だけ保管したい場合\n",
    "df.to_csv('./data/baseball_player_columns.csv', columns=['選手名', 'ポジション'])\n",
    "# headerなし、カラムなしの場合(デフォルトはTrue。片方のみの指定も可)\n",
    "df.to_csv('./data/baseball_player_nohi.csv', header=False, index=False)\n",
    "# インデックスのみなし\n",
    "df.to_csv('./data/baseball_player.csv', index=False)\n",
    "# 区切りを変更する場合(タブ区切り)\n",
    "df.to_csv('./data/baseball_player_tab.csv', index=False, sep='\\t')"
   ]
  },
  {
   "cell_type": "code",
   "execution_count": 27,
   "metadata": {},
   "outputs": [],
   "source": [
    "# 追記したい場合\n",
    "df.to_csv('./data/baseball_player_tab.csv', index=False, sep='\\t', mode='a')"
   ]
  },
  {
   "cell_type": "markdown",
   "metadata": {},
   "source": [
    "### Excel\n",
    "Excelファイルの保管はto_excelで行う。to_csvと同じような使い方ができるが、Excelはsheetがあるので、sheet_nameがある点が異なる。"
   ]
  },
  {
   "cell_type": "code",
   "execution_count": 28,
   "metadata": {},
   "outputs": [],
   "source": [
    "df.to_excel('./data/baseball_player.xlsx', \\\n",
    "          header=False, \\\n",
    "          index=False, \\\n",
    "          sheet_name = 'baseball_player')"
   ]
  },
  {
   "cell_type": "markdown",
   "metadata": {},
   "source": [
    "複数のシートに書き込みしたい場合や追記したい場合はopenpyxlが環境によっては必要。下記プログラムがエラーになる場合はインストールする。  \n",
    "% conda install openpyxl"
   ]
  },
  {
   "cell_type": "code",
   "execution_count": 29,
   "metadata": {},
   "outputs": [],
   "source": [
    "df_name = df['選手名']\n",
    "with pd.ExcelWriter('./data/baseball_player_multi.xlsx') as writer:\n",
    "    df.to_excel(writer, sheet_name = 'baseball_player', index=False)\n",
    "    df_name.to_excel(writer, sheet_name = 'player_name', index=False)"
   ]
  },
  {
   "cell_type": "markdown",
   "metadata": {},
   "source": [
    "## csvまたはExcelファイルの読み込み\n",
    "### csv\n",
    "csvファイルの読み込みはread_csvを用いる。  \n",
    "デフォルトでは1行目がheaderインデックスは行数(0始まりとなる)"
   ]
  },
  {
   "cell_type": "code",
   "execution_count": 30,
   "metadata": {},
   "outputs": [
    {
     "data": {
      "text/html": [
       "<div>\n",
       "<style scoped>\n",
       "    .dataframe tbody tr th:only-of-type {\n",
       "        vertical-align: middle;\n",
       "    }\n",
       "\n",
       "    .dataframe tbody tr th {\n",
       "        vertical-align: top;\n",
       "    }\n",
       "\n",
       "    .dataframe thead th {\n",
       "        text-align: right;\n",
       "    }\n",
       "</style>\n",
       "<table border=\"1\" class=\"dataframe\">\n",
       "  <thead>\n",
       "    <tr style=\"text-align: right;\">\n",
       "      <th></th>\n",
       "      <th>選手名</th>\n",
       "      <th>身長</th>\n",
       "      <th>体重</th>\n",
       "      <th>投打</th>\n",
       "      <th>ポジション</th>\n",
       "      <th>出身地</th>\n",
       "    </tr>\n",
       "  </thead>\n",
       "  <tbody>\n",
       "    <tr>\n",
       "      <th>0</th>\n",
       "      <td>坂本勇人</td>\n",
       "      <td>186</td>\n",
       "      <td>85</td>\n",
       "      <td>右投右打</td>\n",
       "      <td>内野手</td>\n",
       "      <td>兵庫</td>\n",
       "    </tr>\n",
       "    <tr>\n",
       "      <th>1</th>\n",
       "      <td>丸佳浩</td>\n",
       "      <td>177</td>\n",
       "      <td>94</td>\n",
       "      <td>右投左打</td>\n",
       "      <td>外野手</td>\n",
       "      <td>千葉</td>\n",
       "    </tr>\n",
       "    <tr>\n",
       "      <th>2</th>\n",
       "      <td>小林誠司</td>\n",
       "      <td>178</td>\n",
       "      <td>86</td>\n",
       "      <td>右投右打</td>\n",
       "      <td>捕手</td>\n",
       "      <td>大阪</td>\n",
       "    </tr>\n",
       "    <tr>\n",
       "      <th>3</th>\n",
       "      <td>菅野智之</td>\n",
       "      <td>186</td>\n",
       "      <td>92</td>\n",
       "      <td>右投右打</td>\n",
       "      <td>投手</td>\n",
       "      <td>神奈川</td>\n",
       "    </tr>\n",
       "  </tbody>\n",
       "</table>\n",
       "</div>"
      ],
      "text/plain": [
       "    選手名   身長  体重    投打 ポジション  出身地\n",
       "0  坂本勇人  186  85  右投右打   内野手   兵庫\n",
       "1   丸佳浩  177  94  右投左打   外野手   千葉\n",
       "2  小林誠司  178  86  右投右打    捕手   大阪\n",
       "3  菅野智之  186  92  右投右打    投手  神奈川"
      ]
     },
     "metadata": {},
     "output_type": "display_data"
    }
   ],
   "source": [
    "df_baseball = pd.read_csv('./data/baseball_player.csv')\n",
    "display(df_baseball)"
   ]
  },
  {
   "cell_type": "code",
   "execution_count": 31,
   "metadata": {},
   "outputs": [
    {
     "data": {
      "text/html": [
       "<div>\n",
       "<style scoped>\n",
       "    .dataframe tbody tr th:only-of-type {\n",
       "        vertical-align: middle;\n",
       "    }\n",
       "\n",
       "    .dataframe tbody tr th {\n",
       "        vertical-align: top;\n",
       "    }\n",
       "\n",
       "    .dataframe thead th {\n",
       "        text-align: right;\n",
       "    }\n",
       "</style>\n",
       "<table border=\"1\" class=\"dataframe\">\n",
       "  <thead>\n",
       "    <tr style=\"text-align: right;\">\n",
       "      <th></th>\n",
       "      <th>0</th>\n",
       "      <th>1</th>\n",
       "      <th>2</th>\n",
       "      <th>3</th>\n",
       "      <th>4</th>\n",
       "      <th>5</th>\n",
       "    </tr>\n",
       "  </thead>\n",
       "  <tbody>\n",
       "    <tr>\n",
       "      <th>0</th>\n",
       "      <td>選手名</td>\n",
       "      <td>身長</td>\n",
       "      <td>体重</td>\n",
       "      <td>投打</td>\n",
       "      <td>ポジション</td>\n",
       "      <td>出身地</td>\n",
       "    </tr>\n",
       "    <tr>\n",
       "      <th>1</th>\n",
       "      <td>坂本勇人</td>\n",
       "      <td>186</td>\n",
       "      <td>85</td>\n",
       "      <td>右投右打</td>\n",
       "      <td>内野手</td>\n",
       "      <td>兵庫</td>\n",
       "    </tr>\n",
       "    <tr>\n",
       "      <th>2</th>\n",
       "      <td>丸佳浩</td>\n",
       "      <td>177</td>\n",
       "      <td>94</td>\n",
       "      <td>右投左打</td>\n",
       "      <td>外野手</td>\n",
       "      <td>千葉</td>\n",
       "    </tr>\n",
       "    <tr>\n",
       "      <th>3</th>\n",
       "      <td>小林誠司</td>\n",
       "      <td>178</td>\n",
       "      <td>86</td>\n",
       "      <td>右投右打</td>\n",
       "      <td>捕手</td>\n",
       "      <td>大阪</td>\n",
       "    </tr>\n",
       "    <tr>\n",
       "      <th>4</th>\n",
       "      <td>菅野智之</td>\n",
       "      <td>186</td>\n",
       "      <td>92</td>\n",
       "      <td>右投右打</td>\n",
       "      <td>投手</td>\n",
       "      <td>神奈川</td>\n",
       "    </tr>\n",
       "  </tbody>\n",
       "</table>\n",
       "</div>"
      ],
      "text/plain": [
       "      0    1   2     3      4    5\n",
       "0   選手名   身長  体重    投打  ポジション  出身地\n",
       "1  坂本勇人  186  85  右投右打    内野手   兵庫\n",
       "2   丸佳浩  177  94  右投左打    外野手   千葉\n",
       "3  小林誠司  178  86  右投右打     捕手   大阪\n",
       "4  菅野智之  186  92  右投右打     投手  神奈川"
      ]
     },
     "metadata": {},
     "output_type": "display_data"
    },
    {
     "data": {
      "text/html": [
       "<div>\n",
       "<style scoped>\n",
       "    .dataframe tbody tr th:only-of-type {\n",
       "        vertical-align: middle;\n",
       "    }\n",
       "\n",
       "    .dataframe tbody tr th {\n",
       "        vertical-align: top;\n",
       "    }\n",
       "\n",
       "    .dataframe thead th {\n",
       "        text-align: right;\n",
       "    }\n",
       "</style>\n",
       "<table border=\"1\" class=\"dataframe\">\n",
       "  <thead>\n",
       "    <tr style=\"text-align: right;\">\n",
       "      <th></th>\n",
       "      <th>身長</th>\n",
       "      <th>体重</th>\n",
       "      <th>投打</th>\n",
       "      <th>ポジション</th>\n",
       "      <th>出身地</th>\n",
       "    </tr>\n",
       "    <tr>\n",
       "      <th>選手名</th>\n",
       "      <th></th>\n",
       "      <th></th>\n",
       "      <th></th>\n",
       "      <th></th>\n",
       "      <th></th>\n",
       "    </tr>\n",
       "  </thead>\n",
       "  <tbody>\n",
       "    <tr>\n",
       "      <th>坂本勇人</th>\n",
       "      <td>186</td>\n",
       "      <td>85</td>\n",
       "      <td>右投右打</td>\n",
       "      <td>内野手</td>\n",
       "      <td>兵庫</td>\n",
       "    </tr>\n",
       "    <tr>\n",
       "      <th>丸佳浩</th>\n",
       "      <td>177</td>\n",
       "      <td>94</td>\n",
       "      <td>右投左打</td>\n",
       "      <td>外野手</td>\n",
       "      <td>千葉</td>\n",
       "    </tr>\n",
       "    <tr>\n",
       "      <th>小林誠司</th>\n",
       "      <td>178</td>\n",
       "      <td>86</td>\n",
       "      <td>右投右打</td>\n",
       "      <td>捕手</td>\n",
       "      <td>大阪</td>\n",
       "    </tr>\n",
       "    <tr>\n",
       "      <th>菅野智之</th>\n",
       "      <td>186</td>\n",
       "      <td>92</td>\n",
       "      <td>右投右打</td>\n",
       "      <td>投手</td>\n",
       "      <td>神奈川</td>\n",
       "    </tr>\n",
       "  </tbody>\n",
       "</table>\n",
       "</div>"
      ],
      "text/plain": [
       "       身長  体重    投打 ポジション  出身地\n",
       "選手名                           \n",
       "坂本勇人  186  85  右投右打   内野手   兵庫\n",
       "丸佳浩   177  94  右投左打   外野手   千葉\n",
       "小林誠司  178  86  右投右打    捕手   大阪\n",
       "菅野智之  186  92  右投右打    投手  神奈川"
      ]
     },
     "metadata": {},
     "output_type": "display_data"
    }
   ],
   "source": [
    "# headerがない場合\n",
    "df_baseball = pd.read_csv('./data/baseball_player.csv', header=None)\n",
    "display(df_baseball)\n",
    "# indexを指定する場合\n",
    "df_baseball = pd.read_csv('./data/baseball_player.csv', index_col=0)\n",
    "display(df_baseball)"
   ]
  },
  {
   "cell_type": "markdown",
   "metadata": {},
   "source": [
    "### Excel\n",
    "Excelの場合もread_excelで開くことができ、csvとほぼ同様ではあるが別途シート名を指定するがある。"
   ]
  },
  {
   "cell_type": "code",
   "execution_count": 32,
   "metadata": {},
   "outputs": [
    {
     "data": {
      "text/html": [
       "<div>\n",
       "<style scoped>\n",
       "    .dataframe tbody tr th:only-of-type {\n",
       "        vertical-align: middle;\n",
       "    }\n",
       "\n",
       "    .dataframe tbody tr th {\n",
       "        vertical-align: top;\n",
       "    }\n",
       "\n",
       "    .dataframe thead th {\n",
       "        text-align: right;\n",
       "    }\n",
       "</style>\n",
       "<table border=\"1\" class=\"dataframe\">\n",
       "  <thead>\n",
       "    <tr style=\"text-align: right;\">\n",
       "      <th></th>\n",
       "      <th>選手名</th>\n",
       "      <th>身長</th>\n",
       "      <th>体重</th>\n",
       "      <th>投打</th>\n",
       "      <th>ポジション</th>\n",
       "      <th>出身地</th>\n",
       "    </tr>\n",
       "  </thead>\n",
       "  <tbody>\n",
       "    <tr>\n",
       "      <th>0</th>\n",
       "      <td>坂本勇人</td>\n",
       "      <td>186</td>\n",
       "      <td>85</td>\n",
       "      <td>右投右打</td>\n",
       "      <td>内野手</td>\n",
       "      <td>兵庫</td>\n",
       "    </tr>\n",
       "    <tr>\n",
       "      <th>1</th>\n",
       "      <td>丸佳浩</td>\n",
       "      <td>177</td>\n",
       "      <td>94</td>\n",
       "      <td>右投左打</td>\n",
       "      <td>外野手</td>\n",
       "      <td>千葉</td>\n",
       "    </tr>\n",
       "    <tr>\n",
       "      <th>2</th>\n",
       "      <td>小林誠司</td>\n",
       "      <td>178</td>\n",
       "      <td>86</td>\n",
       "      <td>右投右打</td>\n",
       "      <td>捕手</td>\n",
       "      <td>大阪</td>\n",
       "    </tr>\n",
       "    <tr>\n",
       "      <th>3</th>\n",
       "      <td>菅野智之</td>\n",
       "      <td>186</td>\n",
       "      <td>92</td>\n",
       "      <td>右投右打</td>\n",
       "      <td>投手</td>\n",
       "      <td>神奈川</td>\n",
       "    </tr>\n",
       "  </tbody>\n",
       "</table>\n",
       "</div>"
      ],
      "text/plain": [
       "    選手名   身長  体重    投打 ポジション  出身地\n",
       "0  坂本勇人  186  85  右投右打   内野手   兵庫\n",
       "1   丸佳浩  177  94  右投左打   外野手   千葉\n",
       "2  小林誠司  178  86  右投右打    捕手   大阪\n",
       "3  菅野智之  186  92  右投右打    投手  神奈川"
      ]
     },
     "metadata": {},
     "output_type": "display_data"
    }
   ],
   "source": [
    "df_baseball = pd.read_excel('./data/baseball_player_multi.xlsx', sheet_name='baseball_player')\n",
    "display(df_baseball)"
   ]
  },
  {
   "cell_type": "markdown",
   "metadata": {},
   "source": [
    "# matplotlibの基礎\n",
    "matplotlibはグラフ描画のモジュールである。今回はmatplotlibを用いたグラフ描画の方法を確認する。\n",
    "## matplotlibのインポート\n",
    "今回はmatplotlib.pyplotをインポートする。慣習上pltとリネームして用いる。  \n",
    "セルに%matplotlib inlineを記述しておけば、グラフが自動で描画できるので記載しておく。環境によってはセルごとに記載が必要な場合があるので、もし今後グラフが描画されない場合は各自記載していただきたい。"
   ]
  },
  {
   "cell_type": "code",
   "execution_count": 33,
   "metadata": {},
   "outputs": [],
   "source": [
    "# 今回はnumpyも用いるのでimportしている\n",
    "import numpy as np\n",
    "import matplotlib.pyplot as plt\n",
    "\n",
    "%matplotlib inline"
   ]
  },
  {
   "cell_type": "markdown",
   "metadata": {},
   "source": [
    "## グラフの描画\n",
    "グラフの描画の例として二次関数を描画してみる。グラフの書き方はいくつがあるが、subplotsを用いた書き方を説明する。  \n",
    "今回は\n",
    "$$\n",
    "y = x^{2}\n",
    "$$\n",
    "を描く。\n",
    "### np.linespace\n",
    "numpy linespaceは等間隔の数値の配列を作成する。  \n",
    "&nbsp; np.linespace(開始値,終了値,点の数)  \n",
    "のように記載する。"
   ]
  },
  {
   "cell_type": "code",
   "execution_count": 34,
   "metadata": {},
   "outputs": [
    {
     "name": "stdout",
     "output_type": "stream",
     "text": [
      "[-3.         -2.93939394 -2.87878788 -2.81818182 -2.75757576 -2.6969697\n",
      " -2.63636364 -2.57575758 -2.51515152 -2.45454545 -2.39393939 -2.33333333\n",
      " -2.27272727 -2.21212121 -2.15151515 -2.09090909 -2.03030303 -1.96969697\n",
      " -1.90909091 -1.84848485 -1.78787879 -1.72727273 -1.66666667 -1.60606061\n",
      " -1.54545455 -1.48484848 -1.42424242 -1.36363636 -1.3030303  -1.24242424\n",
      " -1.18181818 -1.12121212 -1.06060606 -1.         -0.93939394 -0.87878788\n",
      " -0.81818182 -0.75757576 -0.6969697  -0.63636364 -0.57575758 -0.51515152\n",
      " -0.45454545 -0.39393939 -0.33333333 -0.27272727 -0.21212121 -0.15151515\n",
      " -0.09090909 -0.03030303  0.03030303  0.09090909  0.15151515  0.21212121\n",
      "  0.27272727  0.33333333  0.39393939  0.45454545  0.51515152  0.57575758\n",
      "  0.63636364  0.6969697   0.75757576  0.81818182  0.87878788  0.93939394\n",
      "  1.          1.06060606  1.12121212  1.18181818  1.24242424  1.3030303\n",
      "  1.36363636  1.42424242  1.48484848  1.54545455  1.60606061  1.66666667\n",
      "  1.72727273  1.78787879  1.84848485  1.90909091  1.96969697  2.03030303\n",
      "  2.09090909  2.15151515  2.21212121  2.27272727  2.33333333  2.39393939\n",
      "  2.45454545  2.51515152  2.57575758  2.63636364  2.6969697   2.75757576\n",
      "  2.81818182  2.87878788  2.93939394  3.        ]\n",
      "100\n",
      "[9.00000000e+00 8.64003673e+00 8.28741965e+00 7.94214876e+00\n",
      " 7.60422406e+00 7.27364555e+00 6.95041322e+00 6.63452709e+00\n",
      " 6.32598714e+00 6.02479339e+00 5.73094582e+00 5.44444444e+00\n",
      " 5.16528926e+00 4.89348026e+00 4.62901745e+00 4.37190083e+00\n",
      " 4.12213039e+00 3.87970615e+00 3.64462810e+00 3.41689624e+00\n",
      " 3.19651056e+00 2.98347107e+00 2.77777778e+00 2.57943067e+00\n",
      " 2.38842975e+00 2.20477502e+00 2.02846648e+00 1.85950413e+00\n",
      " 1.69788797e+00 1.54361800e+00 1.39669421e+00 1.25711662e+00\n",
      " 1.12488522e+00 1.00000000e+00 8.82460973e-01 7.72268136e-01\n",
      " 6.69421488e-01 5.73921028e-01 4.85766758e-01 4.04958678e-01\n",
      " 3.31496786e-01 2.65381084e-01 2.06611570e-01 1.55188246e-01\n",
      " 1.11111111e-01 7.43801653e-02 4.49954086e-02 2.29568411e-02\n",
      " 8.26446281e-03 9.18273646e-04 9.18273646e-04 8.26446281e-03\n",
      " 2.29568411e-02 4.49954086e-02 7.43801653e-02 1.11111111e-01\n",
      " 1.55188246e-01 2.06611570e-01 2.65381084e-01 3.31496786e-01\n",
      " 4.04958678e-01 4.85766758e-01 5.73921028e-01 6.69421488e-01\n",
      " 7.72268136e-01 8.82460973e-01 1.00000000e+00 1.12488522e+00\n",
      " 1.25711662e+00 1.39669421e+00 1.54361800e+00 1.69788797e+00\n",
      " 1.85950413e+00 2.02846648e+00 2.20477502e+00 2.38842975e+00\n",
      " 2.57943067e+00 2.77777778e+00 2.98347107e+00 3.19651056e+00\n",
      " 3.41689624e+00 3.64462810e+00 3.87970615e+00 4.12213039e+00\n",
      " 4.37190083e+00 4.62901745e+00 4.89348026e+00 5.16528926e+00\n",
      " 5.44444444e+00 5.73094582e+00 6.02479339e+00 6.32598714e+00\n",
      " 6.63452709e+00 6.95041322e+00 7.27364555e+00 7.60422406e+00\n",
      " 7.94214876e+00 8.28741965e+00 8.64003673e+00 9.00000000e+00]\n"
     ]
    }
   ],
   "source": [
    "x = np.linspace(-3, 3, 100)\n",
    "print(x)\n",
    "print(len(x))\n",
    "\n",
    "# xの値をもとにyの値をつくる\n",
    "y = np.power(x, 2)\n",
    "print(y)"
   ]
  },
  {
   "cell_type": "markdown",
   "metadata": {},
   "source": [
    "## グラフを作成する\n",
    "グラフはplt.subplotsを用いて作成する。以下のように行う。"
   ]
  },
  {
   "cell_type": "code",
   "execution_count": 35,
   "metadata": {},
   "outputs": [
    {
     "data": {
      "text/plain": [
       "[<matplotlib.lines.Line2D at 0x7f841095b940>]"
      ]
     },
     "execution_count": 35,
     "metadata": {},
     "output_type": "execute_result"
    },
    {
     "data": {
      "image/png": "[encoded data removed]",
      "text/plain": [
       "<Figure size 432x288 with 1 Axes>"
      ]
     },
     "metadata": {
      "needs_background": "light"
     },
     "output_type": "display_data"
    }
   ],
   "source": [
    "fig, axe = plt.subplots()\n",
    "axe.plot(x, y)"
   ]
  },
  {
   "cell_type": "markdown",
   "metadata": {},
   "source": [
    "##  グラフを整形する\n",
    "グラフを実際に整形してみる。  \n",
    "### 1. グラフの範囲を変更する\n",
    "グラフのx軸とy軸の範囲を変更するには、set_xlim, set_ylimを用いる。範囲は配列で指定する"
   ]
  },
  {
   "cell_type": "code",
   "execution_count": 36,
   "metadata": {},
   "outputs": [
    {
     "data": {
      "text/plain": [
       "[<matplotlib.lines.Line2D at 0x7f8422d375e0>]"
      ]
     },
     "execution_count": 36,
     "metadata": {},
     "output_type": "execute_result"
    },
    {
     "data": {
      "image/png": "[encoded data removed]",
      "text/plain": [
       "<Figure size 432x288 with 1 Axes>"
      ]
     },
     "metadata": {
      "needs_background": "light"
     },
     "output_type": "display_data"
    }
   ],
   "source": [
    "fig, axe = plt.subplots()\n",
    "axe.set_xlim([-3, 3])\n",
    "axe.set_ylim([0, 9])\n",
    "axe.plot(x, y)"
   ]
  },
  {
   "cell_type": "markdown",
   "metadata": {},
   "source": [
    "### 2.グラフにタイトルをつける\n",
    "グラフにタイトルをつけるには、set_titleを用いる。"
   ]
  },
  {
   "cell_type": "code",
   "execution_count": 37,
   "metadata": {},
   "outputs": [
    {
     "data": {
      "text/plain": [
       "[<matplotlib.lines.Line2D at 0x7f8400409a30>]"
      ]
     },
     "execution_count": 37,
     "metadata": {},
     "output_type": "execute_result"
    },
    {
     "data": {
      "image/png": "[encoded data removed]",
      "text/plain": [
       "<Figure size 432x288 with 1 Axes>"
      ]
     },
     "metadata": {
      "needs_background": "light"
     },
     "output_type": "display_data"
    }
   ],
   "source": [
    "fig, axe = plt.subplots()\n",
    "axe.set_xlim([-3, 3])\n",
    "axe.set_ylim([0, 9])\n",
    "axe.set_title('Function Test.')\n",
    "axe.plot(x, y)"
   ]
  },
  {
   "cell_type": "markdown",
   "metadata": {},
   "source": [
    "### 3.軸にラベルをつける\n",
    "軸にラベルをつけるには、set_xlabel、set_ylabelのようにつける。"
   ]
  },
  {
   "cell_type": "code",
   "execution_count": 38,
   "metadata": {},
   "outputs": [
    {
     "data": {
      "text/plain": [
       "[<matplotlib.lines.Line2D at 0x7f84001e03a0>]"
      ]
     },
     "execution_count": 38,
     "metadata": {},
     "output_type": "execute_result"
    },
    {
     "data": {
      "image/png": "[encoded data removed]",
      "text/plain": [
       "<Figure size 432x288 with 1 Axes>"
      ]
     },
     "metadata": {
      "needs_background": "light"
     },
     "output_type": "display_data"
    }
   ],
   "source": [
    "fig, axe = plt.subplots()\n",
    "axe.set_xlim([-3, 3])\n",
    "axe.set_ylim([0, 9])\n",
    "axe.set_title('Function Test.')\n",
    "axe.set_xlabel('x label')\n",
    "axe.set_ylabel('y label')\n",
    "axe.plot(x, y)"
   ]
  },
  {
   "cell_type": "markdown",
   "metadata": {},
   "source": [
    "### 4.グラフに目盛り線を入れる\n",
    "グラフに目盛りを入れるにはgridを用いる。"
   ]
  },
  {
   "cell_type": "code",
   "execution_count": 39,
   "metadata": {},
   "outputs": [
    {
     "data": {
      "text/plain": [
       "[<matplotlib.lines.Line2D at 0x7f8410a568b0>]"
      ]
     },
     "execution_count": 39,
     "metadata": {},
     "output_type": "execute_result"
    },
    {
     "data": {
      "image/png": "[encoded data removed]",
      "text/plain": [
       "<Figure size 432x288 with 1 Axes>"
      ]
     },
     "metadata": {
      "needs_background": "light"
     },
     "output_type": "display_data"
    }
   ],
   "source": [
    "fig, axe = plt.subplots()\n",
    "axe.set_xlim([-3, 3])\n",
    "axe.set_ylim([0, 9])\n",
    "axe.set_title('Function Test.')\n",
    "axe.set_xlabel('x label')\n",
    "axe.set_ylabel('y label')\n",
    "axe.grid()\n",
    "axe.plot(x, y)"
   ]
  },
  {
   "cell_type": "markdown",
   "metadata": {},
   "source": [
    "### 5. グラフに凡例をつける。色を変えるスタイルを変える\n",
    "グラフの凡例をつけるにはまず、plotのオプションでlabelをつける。さらにplotの後にlegendを実行する必要がある。  \n",
    "次に色はplotのcolorオプションで色をつけることができる。指定可能な色については下記サイトを参照。  \n",
    "https://matplotlib.org/examples/color/named_colors.html  \n",
    "また、線のスタイルの設定はlinestyleオプションで指定可能。下記を参照のこと。  \n",
    "https://matplotlib.org/3.1.0/gallery/lines_bars_and_markers/linestyles.html  \n",
    "https://matplotlib.org/gallery/lines_bars_and_markers/line_styles_reference.html"
   ]
  },
  {
   "cell_type": "code",
   "execution_count": 40,
   "metadata": {},
   "outputs": [
    {
     "data": {
      "text/plain": [
       "<matplotlib.legend.Legend at 0x7f8410acd220>"
      ]
     },
     "execution_count": 40,
     "metadata": {},
     "output_type": "execute_result"
    },
    {
     "data": {
      "image/png": "[encoded data removed]",
      "text/plain": [
       "<Figure size 432x288 with 1 Axes>"
      ]
     },
     "metadata": {
      "needs_background": "light"
     },
     "output_type": "display_data"
    }
   ],
   "source": [
    "fig, axe = plt.subplots()\n",
    "axe.set_xlim([-3, 3])\n",
    "axe.set_ylim([0, 9])\n",
    "axe.set_title('Function Test.')\n",
    "axe.set_xlabel('x label')\n",
    "axe.set_ylabel('y label')\n",
    "axe.grid()\n",
    "axe.plot(x, y, label='x**2', color='black', linestyle='dashed')\n",
    "axe.legend()"
   ]
  },
  {
   "cell_type": "markdown",
   "metadata": {},
   "source": [
    "### 6.グラフのサイズを変更する\n",
    "グラフのサイズを変更する場合はsubplotsの宣言時にfigsizeのオプションで変更できる。"
   ]
  },
  {
   "cell_type": "code",
   "execution_count": 41,
   "metadata": {},
   "outputs": [
    {
     "data": {
      "text/plain": [
       "<matplotlib.legend.Legend at 0x7f8410bff520>"
      ]
     },
     "execution_count": 41,
     "metadata": {},
     "output_type": "execute_result"
    },
    {
     "data": {
      "image/png": "[encoded data removed]",
      "text/plain": [
       "<Figure size 432x432 with 1 Axes>"
      ]
     },
     "metadata": {
      "needs_background": "light"
     },
     "output_type": "display_data"
    }
   ],
   "source": [
    "fig, axe = plt.subplots(figsize=(6, 6))\n",
    "axe.set_xlim([-3, 3])\n",
    "axe.set_ylim([0, 9])\n",
    "axe.set_title('Function Test.')\n",
    "axe.set_xlabel('x label')\n",
    "axe.set_ylabel('y label')\n",
    "axe.grid()\n",
    "axe.plot(x, y, label='x**2', color='black', linestyle='dashed')\n",
    "axe.legend()"
   ]
  },
  {
   "cell_type": "markdown",
   "metadata": {},
   "source": [
    "## 一つのシートに複数のグラフを並べる\n",
    "一つのシートにグラフを並べて描くことも可能である。  \n",
    "追加したいグラフを追加でプロットすれば良い。今回は\n",
    "$$\n",
    "y = \\frac{1}{2}x^{2} + 2\n",
    "$$\n",
    "をプロットしてみる。"
   ]
  },
  {
   "cell_type": "code",
   "execution_count": 42,
   "metadata": {},
   "outputs": [
    {
     "data": {
      "text/plain": [
       "<matplotlib.legend.Legend at 0x7f84303bf220>"
      ]
     },
     "execution_count": 42,
     "metadata": {},
     "output_type": "execute_result"
    },
    {
     "data": {
      "image/png": "[encoded data removed]",
      "text/plain": [
       "<Figure size 432x432 with 1 Axes>"
      ]
     },
     "metadata": {
      "needs_background": "light"
     },
     "output_type": "display_data"
    }
   ],
   "source": [
    "fig, axe = plt.subplots(figsize=(6, 6))\n",
    "axe.set_xlim([-3, 3])\n",
    "axe.set_ylim([0, 9])\n",
    "axe.set_title('Function Test.')\n",
    "axe.set_xlabel('x label')\n",
    "axe.set_ylabel('y label')\n",
    "axe.grid()\n",
    "axe.plot(x, y, label='x**2', color='black', linestyle='dashed')\n",
    "## 追加するグラフ ##\n",
    "y2 = 0.5 * x **2 + 2\n",
    "axe.plot(x, y2, label='0.5*x**2+2')\n",
    "axe.legend()"
   ]
  },
  {
   "cell_type": "code",
   "execution_count": null,
   "metadata": {},
   "outputs": [],
   "source": []
  }
 ],
 "metadata": {
  "kernelspec": {
   "display_name": "Python 3",
   "language": "python",
   "name": "python3"
  },
  "language_info": {
   "codemirror_mode": {
    "name": "ipython",
    "version": 3
   },
   "file_extension": ".py",
   "mimetype": "text/x-python",
   "name": "python",
   "nbconvert_exporter": "python",
   "pygments_lexer": "ipython3",
   "version": "3.9.5"
  }
 },
 "nbformat": 4,
 "nbformat_minor": 4
}
