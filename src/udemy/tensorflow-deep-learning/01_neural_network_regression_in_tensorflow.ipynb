{
 "cells": [
  {
   "cell_type": "markdown",
   "metadata": {
    "colab_type": "text",
    "id": "view-in-github"
   },
   "source": [
    "<a href=\"https://colab.research.google.com/github/mrdbourke/tensorflow-deep-learning/blob/main/01_neural_network_regression_in_tensorflow.ipynb\" target=\"_parent\"><img src=\"https://colab.research.google.com/assets/colab-badge.svg\" alt=\"Open In Colab\"/></a>"
   ]
  },
  {
   "cell_type": "markdown",
   "metadata": {
    "id": "UPgo18-N1gSi"
   },
   "source": [
    "# Introduction to Regression with Neural Networks in TensorFlow Tutorial\n",
    "\n",
    "There are many definitions for a [regression problem](https://en.wikipedia.org/wiki/Regression_analysis) but in our case, we're going to simplify it to be: predicting a number.\n",
    "\n",
    "For example, you might want to:\n",
    "- Predict the selling price of houses given information about them (such as number of rooms, size, number of bathrooms).\n",
    "- Predict the coordinates of a bounding box of an item in an image.\n",
    "- Predict the cost of medical insurance for an individual given their demographics (age, sex, gender, race).\n",
    "\n",
    "In this notebook, we're going to set the foundations for how you can take a sample of inputs (this is your data), build a neural network to discover patterns in those inputs and then make a prediction (in the form of a number) based on those inputs.\n",
    "\n",
    "## What we're going to cover\n",
    "\n",
    "Specifically, we're going to go through doing the following with TensorFlow:\n",
    "- Architecture of a regression model\n",
    "- Input shapes and output shapes\n",
    "  - `X`: features/data (inputs)\n",
    "  - `y`: labels (outputs)\n",
    "- Creating custom data to view and fit\n",
    "- Steps in modelling\n",
    "  - Creating a model\n",
    "  - Compiling a model\n",
    "    - Defining a loss function\n",
    "    - Setting up an optimizer\n",
    "    - Creating evaluation metrics\n",
    "  - Fitting a model (getting it to find patterns in our data)\n",
    "- Evaluating a model\n",
    "  - Visualizng the model (\"visualize, visualize, visualize\")\n",
    "  - Looking at training curves\n",
    "  - Compare predictions to ground truth (using our evaluation metrics)\n",
    "- Saving a model (so we can use it later)\n",
    "- Loading a model\n",
    "\n",
    "Don't worry if none of these make sense now, we're going to go through each.\n",
    "\n",
    "## How you can use this notebook\n",
    "\n",
    "You can read through the descriptions and the code (it should all run), but there's a better option.\n",
    "\n",
    "Write all of the code yourself.\n",
    "\n",
    "Yes. I'm serious. Create a new notebook, and rewrite each line by yourself. Investigate it, see if you can break it, why does it break?\n",
    "\n",
    "You don't have to write the text descriptions but writing the code yourself is a great way to get hands-on experience.\n",
    "\n",
    "Don't worry if you make mistakes, we all do. The way to get better and make less mistakes is to **write more code**."
   ]
  },
  {
   "cell_type": "markdown",
   "metadata": {
    "id": "etAu7oCZ8r_G"
   },
   "source": [
    "# Typical architecture of a regresison neural network\n",
    "\n",
    "The word *typical* is on purpose.\n",
    "\n",
    "Why?\n",
    "\n",
    "Because there are many different ways (actually, there's almost an infinite number of ways) to write neural networks.\n",
    "\n",
    "But the following is a generic setup for ingesting a collection of numbers, finding patterns in them and then outputing some kind of target number.\n",
    "\n",
    "Yes, the previous sentence is vague but we'll see this in action shortly.\n",
    "\n",
    "| **Hyperparameter** | **Typical value** |\n",
    "| --- | --- |\n",
    "| Input layer shape | Same shape as number of features (e.g. 3 for # bedrooms, # bathrooms, # car spaces in housing price prediction) |\n",
    "| Hidden layer(s) | Problem specific, minimum = 1, maximum = unlimited |\n",
    "| Neurons per hidden layer | Problem specific, generally 10 to 100 |\n",
    "| Output layer shape | Same shape as desired prediction shape (e.g. 1 for house price) |\n",
    "| Hidden activation | Usually [ReLU](https://www.kaggle.com/dansbecker/rectified-linear-units-relu-in-deep-learning) (rectified linear unit) |\n",
    "| Output activation | None, ReLU, logistic/tanh |\n",
    "| Loss function | [MSE](https://en.wikipedia.org/wiki/Mean_squared_error) (mean square error) or [MAE](https://en.wikipedia.org/wiki/Mean_absolute_error) (mean absolute error)/Huber (combination of MAE/MSE) if outliers |\n",
    "| Optimizer | [SGD](https://www.tensorflow.org/api_docs/python/tf/keras/optimizers/SGD) (stochastic gradient descent), [Adam](https://www.tensorflow.org/api_docs/python/tf/keras/optimizers/Adam) |\n",
    "\n",
    "***Table 1:*** *Typical architecture of a regression network.* ***Source:*** *Adapted from page 293 of [Hands-On Machine Learning with Scikit-Learn, Keras & TensorFlow Book by Aurélien Géron](https://www.oreilly.com/library/view/hands-on-machine-learning/9781492032632/)*\n",
    "\n",
    "Again, if you're new to neural networks and deep learning in general, much of the above table won't make sense. But don't worry, we'll be getting hands-on with all of it soon.\n",
    "\n",
    "> 🔑 **Note:** A **hyperparameter** in machine learning is something a data analyst or developer can set themselves, where as a **parameter** usually describes something a model learns on its own (a value not explicitly set by an analyst).\n",
    "\n",
    "Okay, enough talk, let's get started writing code.\n",
    "\n",
    "To use TensorFlow, we'll import it as the common alias `tf` (short for TensorFlow)."
   ]
  },
  {
   "cell_type": "code",
   "execution_count": 1,
   "metadata": {
    "colab": {
     "base_uri": "https://localhost:8080/"
    },
    "id": "FMqsqKpk7TrH",
    "outputId": "6da43491-def7-454c-895a-19564368972b"
   },
   "outputs": [
    {
     "name": "stdout",
     "output_type": "stream",
     "text": [
      "2.4.0\n"
     ]
    }
   ],
   "source": [
    "import tensorflow as tf\n",
    "print(tf.__version__) # check the version (should be 2.x+)"
   ]
  },
  {
   "cell_type": "markdown",
   "metadata": {
    "id": "8clMYxrF6Mzv"
   },
   "source": [
    "# Creating data to view and fit\n",
    "\n",
    "Since we're working on a **regression problem** (predicting a number) let's create some linear data (a straight line) to model."
   ]
  },
  {
   "cell_type": "code",
   "execution_count": 2,
   "metadata": {
    "colab": {
     "base_uri": "https://localhost:8080/",
     "height": 269
    },
    "id": "G43tWFof6i7T",
    "outputId": "b9a41b5e-1007-406d-801a-eeb9902e2526"
   },
   "outputs": [
    {
     "data": {
      "image/png": "[encoded data removed]",
      "text/plain": [
       "<Figure size 432x288 with 1 Axes>"
      ]
     },
     "metadata": {
      "needs_background": "light"
     },
     "output_type": "display_data"
    }
   ],
   "source": [
    "import numpy as np\n",
    "import matplotlib.pyplot as plt\n",
    "\n",
    "# Create features\n",
    "X = np.array([-7.0, -4.0, -1.0, 2.0, 5.0, 8.0, 11.0, 14.0])\n",
    "\n",
    "# Create labels\n",
    "y = np.array([3.0, 6.0, 9.0, 12.0, 15.0, 18.0, 21.0, 24.0])\n",
    "\n",
    "# Visualize it\n",
    "plt.scatter(X, y);"
   ]
  },
  {
   "cell_type": "markdown",
   "metadata": {
    "id": "9ONZF8un7_xy"
   },
   "source": [
    "Before we do any modelling, can you calculate the pattern between `X` and `y`?\n",
    "\n",
    "For example, say I asked you, based on this data what the `y` value would be if `X` was 17.0?\n",
    "\n",
    "Or how about if `X` was -10.0?\n",
    "\n",
    "This kind of pattern discover is the essence of what we'll be building neural networks to do for us."
   ]
  },
  {
   "cell_type": "markdown",
   "metadata": {
    "id": "zNCXxHnF6jjZ"
   },
   "source": [
    "# Input shapes and output shapes\n",
    "\n",
    "One of the most important concepts when working with neural networks are the input and output shapes.\n",
    "\n",
    "The **input shape** is the shape of your data that goes into the model.\n",
    "\n",
    "The **output shape** is the shape of your data you want to come out of your model.\n",
    "\n",
    "These will differ depending on the problem you're working on.\n",
    "\n",
    "Neural networks accept numbers and output numbers. These numbers are typically represented as tensors (or arrays).\n",
    "\n",
    "Before, we created data using NumPy arrays, but we could do the same with tensors."
   ]
  },
  {
   "cell_type": "code",
   "execution_count": 3,
   "metadata": {
    "colab": {
     "base_uri": "https://localhost:8080/"
    },
    "id": "XrXQ3m0prWXa",
    "outputId": "ca414725-d901-4bce-9444-933ec127092a"
   },
   "outputs": [
    {
     "data": {
      "text/plain": [
       "(<tf.Tensor: shape=(3,), dtype=string, numpy=array([b'bedroom', b'bathroom', b'garage'], dtype=object)>,\n",
       " <tf.Tensor: shape=(1,), dtype=int32, numpy=array([939700], dtype=int32)>)"
      ]
     },
     "execution_count": 3,
     "metadata": {},
     "output_type": "execute_result"
    }
   ],
   "source": [
    "house_info = tf.constant([\"bedroom\", \"bathroom\", \"garage\"])\n",
    "house_price = tf.constant([939700])\n",
    "house_info, house_price"
   ]
  },
  {
   "cell_type": "code",
   "execution_count": 4,
   "metadata": {
    "colab": {
     "base_uri": "https://localhost:8080/"
    },
    "id": "Yi3VWKH6sRrZ",
    "outputId": "59dd3d1f-e6df-43e7-b692-b3ec69d634e1"
   },
   "outputs": [
    {
     "data": {
      "text/plain": [
       "TensorShape([3])"
      ]
     },
     "execution_count": 4,
     "metadata": {},
     "output_type": "execute_result"
    }
   ],
   "source": [
    "house_info.shape"
   ]
  },
  {
   "cell_type": "code",
   "execution_count": 5,
   "metadata": {
    "colab": {
     "base_uri": "https://localhost:8080/",
     "height": 269
    },
    "id": "kOxyr9sR6m9X",
    "outputId": "51c54bda-4e0f-41db-c9e9-d03d32cd89b4"
   },
   "outputs": [
    {
     "data": {
      "image/png": "[encoded data removed]",
      "text/plain": [
       "<Figure size 432x288 with 1 Axes>"
      ]
     },
     "metadata": {
      "needs_background": "light"
     },
     "output_type": "display_data"
    }
   ],
   "source": [
    "import numpy as np\n",
    "import matplotlib.pyplot as plt\n",
    "\n",
    "# Create features (using tensors)\n",
    "X = tf.constant([-7.0, -4.0, -1.0, 2.0, 5.0, 8.0, 11.0, 14.0])\n",
    "\n",
    "# Create labels (using tensors)\n",
    "y = tf.constant([3.0, 6.0, 9.0, 12.0, 15.0, 18.0, 21.0, 24.0])\n",
    "\n",
    "# Visualize it\n",
    "plt.scatter(X, y);"
   ]
  },
  {
   "cell_type": "markdown",
   "metadata": {
    "id": "zaPxco6E9i1_"
   },
   "source": [
    "Our goal here will be to use `X` to predict `y`.\n",
    "\n",
    "So our **input** will be `X` and our **output** will be `y`.\n",
    "\n",
    "Knowing this, what do you think our input and output shapes will be?\n",
    "\n",
    "Let's take a look."
   ]
  },
  {
   "cell_type": "code",
   "execution_count": 6,
   "metadata": {
    "colab": {
     "base_uri": "https://localhost:8080/"
    },
    "id": "j1oT1gmB9iX-",
    "outputId": "1760be72-f1d4-43b1-c7a2-7eeac1009b93"
   },
   "outputs": [
    {
     "data": {
      "text/plain": [
       "(TensorShape([]), TensorShape([]))"
      ]
     },
     "execution_count": 6,
     "metadata": {},
     "output_type": "execute_result"
    }
   ],
   "source": [
    "# Take a single example of X\n",
    "input_shape = X[0].shape \n",
    "\n",
    "# Take a single example of y\n",
    "output_shape = y[0].shape\n",
    "\n",
    "input_shape, output_shape # these are both scalars (no shape)"
   ]
  },
  {
   "cell_type": "markdown",
   "metadata": {
    "id": "m4txxFTL_EEX"
   },
   "source": [
    "Huh?\n",
    "\n",
    "From this it seems our inputs and outputs have no shape?\n",
    "\n",
    "How could that be?\n",
    "\n",
    "It's because no matter what kind of data we pass to our model, it's always going to take as input and return as ouput some kind of tensor.\n",
    "\n",
    "But in our case because of our dataset (only 2 small lists of numbers), we're looking at a special kind of tensor, more specificially a rank 0 tensor or a scalar."
   ]
  },
  {
   "cell_type": "code",
   "execution_count": 7,
   "metadata": {
    "colab": {
     "base_uri": "https://localhost:8080/"
    },
    "id": "Dag5y4MPaTmc",
    "outputId": "e3d6e467-f045-448c-a4ef-89f8abf0f299"
   },
   "outputs": [
    {
     "data": {
      "text/plain": [
       "(<tf.Tensor: shape=(), dtype=float32, numpy=-7.0>,\n",
       " <tf.Tensor: shape=(), dtype=float32, numpy=3.0>)"
      ]
     },
     "execution_count": 7,
     "metadata": {},
     "output_type": "execute_result"
    }
   ],
   "source": [
    "# Let's take a look at the single examples invidually\n",
    "X[0], y[0]"
   ]
  },
  {
   "cell_type": "markdown",
   "metadata": {
    "id": "fKtihU57_cOY"
   },
   "source": [
    "In our case, we're trying to build a model to predict the pattern between `X[0]` equalling `-7.0` and `y[0]` equalling `3.0`.\n",
    "\n",
    "So now we get our answer, we're trying to use 1 `X` value to predict 1 `y` value.\n",
    "\n",
    "You might be thinking, \"this seems pretty complicated for just predicting a straight line...\".\n",
    "\n",
    "And you'd be right.\n",
    "\n",
    "But the concepts we're covering here, the concepts of input and output shapes to a model are fundamental. \n",
    "\n",
    "In fact, they're probably two of the things you'll spend the most time on when you work with neural networks: **making sure your input and outputs are in the correct shape**.\n",
    "\n",
    "If it doesn't make sense now, we'll see plenty more examples later on (soon you'll notice the input and output shapes can be almost anything you can imagine).\n",
    "\n",
    "![example of input and output shapes for a housing price prediction problem](https://raw.githubusercontent.com/mrdbourke/tensorflow-deep-learning/main/images/01-input-and-output-shapes-housing-prices.png)\n",
    "*If you were working on building a machine learning algorithm for predicting housing prices, your inputs may be number of bedrooms, number of bathrooms and number of garages, giving you an input shape of 3 (3 different features). And since you're trying to predict the price of the house, your output shape would be 1.*"
   ]
  },
  {
   "cell_type": "markdown",
   "metadata": {
    "id": "PhAIqjrn6olF"
   },
   "source": [
    "# Steps in modelling\n",
    "\n",
    "Now we know what data we have as well as the input and output shapes, let's see how we'd build a neural network to model it.\n",
    "\n",
    "In TensorFlow, there are typically 3 fundamental steps to creating and training a model.\n",
    "\n",
    "1. **Creating a model** - piece together the layers of a neural network yourself (using the [Functional](https://www.tensorflow.org/guide/keras/functional) or [Sequential API](https://www.tensorflow.org/api_docs/python/tf/keras/Sequential)) or import a previously built model (known as transfer learning).\n",
    "2. **Compiling a model** - defining how a models performance should be measured (loss/metrics) as well as defining how it should improve (optimizer). \n",
    "3. **Fitting a model** - letting the model try to find patterns in the data (how does `X` get to `y`). \n",
    "\n",
    "Let's see these in action using the [Keras Sequential API](https://www.tensorflow.org/api_docs/python/tf/keras/Sequential) to build a model for our regression data. And then we'll step through each.\n"
   ]
  },
  {
   "cell_type": "code",
   "execution_count": 8,
   "metadata": {
    "colab": {
     "base_uri": "https://localhost:8080/"
    },
    "id": "P9jj-OE16yCn",
    "outputId": "bc204319-5970-475c-cde0-bb589898e4d6"
   },
   "outputs": [
    {
     "name": "stdout",
     "output_type": "stream",
     "text": [
      "Epoch 1/5\n",
      "1/1 [==============================] - 0s 140ms/step - loss: 11.5048 - mae: 11.5048\n",
      "Epoch 2/5\n",
      "1/1 [==============================] - 0s 1ms/step - loss: 11.3723 - mae: 11.3723\n",
      "Epoch 3/5\n",
      "1/1 [==============================] - 0s 952us/step - loss: 11.2398 - mae: 11.2398\n",
      "Epoch 4/5\n",
      "1/1 [==============================] - 0s 909us/step - loss: 11.1073 - mae: 11.1073\n",
      "Epoch 5/5\n",
      "1/1 [==============================] - 0s 1ms/step - loss: 10.9748 - mae: 10.9748\n"
     ]
    },
    {
     "data": {
      "text/plain": [
       "<tensorflow.python.keras.callbacks.History at 0x7f93e8cc4340>"
      ]
     },
     "execution_count": 8,
     "metadata": {},
     "output_type": "execute_result"
    }
   ],
   "source": [
    "# Set random seed\n",
    "tf.random.set_seed(42)\n",
    "\n",
    "# Create a model using the Sequential API\n",
    "model = tf.keras.Sequential([\n",
    "  tf.keras.layers.Dense(1)\n",
    "])\n",
    "\n",
    "# Compile the model\n",
    "model.compile(loss=tf.keras.losses.mae, # mae is short for mean absolute error\n",
    "              optimizer=tf.keras.optimizers.SGD(), # SGD is short for stochastic gradient descent\n",
    "              metrics=[\"mae\"])\n",
    "\n",
    "# Fit the model\n",
    "model.fit(X, y, epochs=5)"
   ]
  },
  {
   "cell_type": "markdown",
   "metadata": {
    "id": "bbjCwkEtetB9"
   },
   "source": [
    "Boom!\n",
    "\n",
    "We've just trained a model to figure out the patterns between `X` and `y`.\n",
    "\n",
    "How do you think it went?"
   ]
  },
  {
   "cell_type": "code",
   "execution_count": 9,
   "metadata": {
    "colab": {
     "base_uri": "https://localhost:8080/"
    },
    "id": "VWLpG2U3erWo",
    "outputId": "2f838c3b-35b1-43d4-d9fa-d82008e4bf6d"
   },
   "outputs": [
    {
     "data": {
      "text/plain": [
       "(<tf.Tensor: shape=(8,), dtype=float32, numpy=array([-7., -4., -1.,  2.,  5.,  8., 11., 14.], dtype=float32)>,\n",
       " <tf.Tensor: shape=(8,), dtype=float32, numpy=array([ 3.,  6.,  9., 12., 15., 18., 21., 24.], dtype=float32)>)"
      ]
     },
     "execution_count": 9,
     "metadata": {},
     "output_type": "execute_result"
    }
   ],
   "source": [
    "# Check out X and y\n",
    "X, y"
   ]
  },
  {
   "cell_type": "markdown",
   "metadata": {
    "id": "0ZpkaI_Oe6no"
   },
   "source": [
    "What do you think the outcome should be if we passed our model an `X` value of 17.0?"
   ]
  },
  {
   "cell_type": "code",
   "execution_count": 10,
   "metadata": {
    "colab": {
     "base_uri": "https://localhost:8080/"
    },
    "id": "X86cD66Qeo-8",
    "outputId": "653a5904-2ebe-4f63-fca6-12b3a9abc0d7"
   },
   "outputs": [
    {
     "data": {
      "text/plain": [
       "array([[12.716021]], dtype=float32)"
      ]
     },
     "execution_count": 10,
     "metadata": {},
     "output_type": "execute_result"
    }
   ],
   "source": [
    "# Make a prediction with the model\n",
    "model.predict([17.0])"
   ]
  },
  {
   "cell_type": "markdown",
   "metadata": {
    "id": "2YoKIqhffq33"
   },
   "source": [
    "It doesn't go very well... it should've output something close to 27.0.\n",
    "\n",
    "> 🤔 **Question:** What's Keras? I thought we were working with TensorFlow but every time we write TensorFlow code, `keras` comes after `tf` (e.g. `tf.keras.layers.Dense()`)?\n",
    "\n",
    "Before TensorFlow 2.0+, [Keras](https://keras.io/) was an API designed to be able to build deep learning models with ease. Since TensorFlow 2.0+, its functionality has been tightly integrated within the TensorFlow library."
   ]
  },
  {
   "cell_type": "markdown",
   "metadata": {
    "id": "qAPk1T3xgOm4"
   },
   "source": [
    "# Improving a model\n",
    "\n",
    "How do you think you'd improve upon our current model?\n",
    "\n",
    "If you guessed by tweaking some of the things we did above, you'd be correct.\n",
    "\n",
    "To improve our model, we alter almost every part of the 3 steps we went through before.\n",
    "\n",
    "1. **Creating a model** - here you might want to add more layers, increase the number of hidden units (also called neurons) within each layer, change the activation functions of each layer.\n",
    "2. **Compiling a model** - you might want to choose optimization function or perhaps change the **learning rate** of the optimization function.\n",
    "3. **Fitting a model** - perhaps you could fit a model for more **epochs** (leave it training for longer) or on more data (give the model more examples to learn from).\n",
    "\n",
    "Woah. We just introduced a bunch of possible steps. The important thing to remember is how you alter each of these will depend on the problem you're working on.\n",
    "\n",
    "And the good thing is, over the next few problems, we'll get hands-on with all of them.\n",
    "\n",
    "For now, let's keep it simple, all we'll do is train our model for longer (everything else will stay the same)."
   ]
  },
  {
   "cell_type": "code",
   "execution_count": 11,
   "metadata": {
    "colab": {
     "base_uri": "https://localhost:8080/"
    },
    "id": "MI0LammMgWcN",
    "outputId": "682b68ee-b2fb-4c02-bc72-e7ce033b8b31"
   },
   "outputs": [
    {
     "name": "stdout",
     "output_type": "stream",
     "text": [
      "Epoch 1/100\n",
      "1/1 [==============================] - 0s 123ms/step - loss: 11.5048 - mae: 11.5048\n",
      "Epoch 2/100\n",
      "1/1 [==============================] - 0s 1ms/step - loss: 11.3723 - mae: 11.3723\n",
      "Epoch 3/100\n",
      "1/1 [==============================] - 0s 1ms/step - loss: 11.2398 - mae: 11.2398\n",
      "Epoch 4/100\n",
      "1/1 [==============================] - 0s 1ms/step - loss: 11.1073 - mae: 11.1073\n",
      "Epoch 5/100\n",
      "1/1 [==============================] - 0s 910us/step - loss: 10.9748 - mae: 10.9748\n",
      "Epoch 6/100\n",
      "1/1 [==============================] - 0s 1ms/step - loss: 10.8423 - mae: 10.8423\n",
      "Epoch 7/100\n",
      "1/1 [==============================] - 0s 1ms/step - loss: 10.7098 - mae: 10.7098\n",
      "Epoch 8/100\n",
      "1/1 [==============================] - 0s 1ms/step - loss: 10.5773 - mae: 10.5773\n",
      "Epoch 9/100\n",
      "1/1 [==============================] - 0s 1ms/step - loss: 10.4448 - mae: 10.4448\n",
      "Epoch 10/100\n",
      "1/1 [==============================] - 0s 2ms/step - loss: 10.3123 - mae: 10.3123\n",
      "Epoch 11/100\n",
      "1/1 [==============================] - 0s 2ms/step - loss: 10.1798 - mae: 10.1798\n",
      "Epoch 12/100\n",
      "1/1 [==============================] - 0s 1ms/step - loss: 10.0473 - mae: 10.0473\n",
      "Epoch 13/100\n",
      "1/1 [==============================] - 0s 976us/step - loss: 9.9148 - mae: 9.9148\n",
      "Epoch 14/100\n",
      "1/1 [==============================] - 0s 864us/step - loss: 9.7823 - mae: 9.7823\n",
      "Epoch 15/100\n",
      "1/1 [==============================] - 0s 876us/step - loss: 9.6498 - mae: 9.6498\n",
      "Epoch 16/100\n",
      "1/1 [==============================] - 0s 860us/step - loss: 9.5173 - mae: 9.5173\n",
      "Epoch 17/100\n",
      "1/1 [==============================] - 0s 937us/step - loss: 9.3848 - mae: 9.3848\n",
      "Epoch 18/100\n",
      "1/1 [==============================] - 0s 1ms/step - loss: 9.2523 - mae: 9.2523\n",
      "Epoch 19/100\n",
      "1/1 [==============================] - 0s 1ms/step - loss: 9.1198 - mae: 9.1198\n",
      "Epoch 20/100\n",
      "1/1 [==============================] - 0s 1ms/step - loss: 8.9873 - mae: 8.9873\n",
      "Epoch 21/100\n",
      "1/1 [==============================] - 0s 2ms/step - loss: 8.8548 - mae: 8.8548\n",
      "Epoch 22/100\n",
      "1/1 [==============================] - 0s 2ms/step - loss: 8.7223 - mae: 8.7223\n",
      "Epoch 23/100\n",
      "1/1 [==============================] - 0s 1ms/step - loss: 8.5898 - mae: 8.5898\n",
      "Epoch 24/100\n",
      "1/1 [==============================] - 0s 947us/step - loss: 8.4573 - mae: 8.4573\n",
      "Epoch 25/100\n",
      "1/1 [==============================] - 0s 927us/step - loss: 8.3248 - mae: 8.3248\n",
      "Epoch 26/100\n",
      "1/1 [==============================] - 0s 1ms/step - loss: 8.1923 - mae: 8.1923\n",
      "Epoch 27/100\n",
      "1/1 [==============================] - 0s 979us/step - loss: 8.0598 - mae: 8.0598\n",
      "Epoch 28/100\n",
      "1/1 [==============================] - 0s 1ms/step - loss: 7.9273 - mae: 7.9273\n",
      "Epoch 29/100\n",
      "1/1 [==============================] - 0s 1ms/step - loss: 7.7948 - mae: 7.7948\n",
      "Epoch 30/100\n",
      "1/1 [==============================] - 0s 1ms/step - loss: 7.6623 - mae: 7.6623\n",
      "Epoch 31/100\n",
      "1/1 [==============================] - 0s 1ms/step - loss: 7.5298 - mae: 7.5298\n",
      "Epoch 32/100\n",
      "1/1 [==============================] - 0s 1ms/step - loss: 7.3973 - mae: 7.3973\n",
      "Epoch 33/100\n",
      "1/1 [==============================] - 0s 1ms/step - loss: 7.2648 - mae: 7.2648\n",
      "Epoch 34/100\n",
      "1/1 [==============================] - 0s 960us/step - loss: 7.2525 - mae: 7.2525\n",
      "Epoch 35/100\n",
      "1/1 [==============================] - 0s 903us/step - loss: 7.2469 - mae: 7.2469\n",
      "Epoch 36/100\n",
      "1/1 [==============================] - 0s 937us/step - loss: 7.2413 - mae: 7.2413\n",
      "Epoch 37/100\n",
      "1/1 [==============================] - 0s 971us/step - loss: 7.2356 - mae: 7.2356\n",
      "Epoch 38/100\n",
      "1/1 [==============================] - 0s 1ms/step - loss: 7.2300 - mae: 7.2300\n",
      "Epoch 39/100\n",
      "1/1 [==============================] - 0s 1ms/step - loss: 7.2244 - mae: 7.2244\n",
      "Epoch 40/100\n",
      "1/1 [==============================] - 0s 3ms/step - loss: 7.2188 - mae: 7.2188\n",
      "Epoch 41/100\n",
      "1/1 [==============================] - 0s 2ms/step - loss: 7.2131 - mae: 7.2131\n",
      "Epoch 42/100\n",
      "1/1 [==============================] - 0s 1ms/step - loss: 7.2075 - mae: 7.2075\n",
      "Epoch 43/100\n",
      "1/1 [==============================] - 0s 941us/step - loss: 7.2019 - mae: 7.2019\n",
      "Epoch 44/100\n",
      "1/1 [==============================] - 0s 1ms/step - loss: 7.1963 - mae: 7.1963\n",
      "Epoch 45/100\n",
      "1/1 [==============================] - 0s 890us/step - loss: 7.1906 - mae: 7.1906\n",
      "Epoch 46/100\n",
      "1/1 [==============================] - 0s 1ms/step - loss: 7.1850 - mae: 7.1850\n",
      "Epoch 47/100\n",
      "1/1 [==============================] - 0s 928us/step - loss: 7.1794 - mae: 7.1794\n",
      "Epoch 48/100\n",
      "1/1 [==============================] - 0s 1ms/step - loss: 7.1738 - mae: 7.1738\n",
      "Epoch 49/100\n",
      "1/1 [==============================] - 0s 1ms/step - loss: 7.1681 - mae: 7.1681\n",
      "Epoch 50/100\n",
      "1/1 [==============================] - 0s 2ms/step - loss: 7.1625 - mae: 7.1625\n",
      "Epoch 51/100\n",
      "1/1 [==============================] - 0s 2ms/step - loss: 7.1569 - mae: 7.1569\n",
      "Epoch 52/100\n",
      "1/1 [==============================] - 0s 1ms/step - loss: 7.1512 - mae: 7.1512\n",
      "Epoch 53/100\n",
      "1/1 [==============================] - 0s 1ms/step - loss: 7.1456 - mae: 7.1456\n",
      "Epoch 54/100\n",
      "1/1 [==============================] - 0s 1ms/step - loss: 7.1400 - mae: 7.1400\n",
      "Epoch 55/100\n",
      "1/1 [==============================] - 0s 826us/step - loss: 7.1344 - mae: 7.1344\n",
      "Epoch 56/100\n",
      "1/1 [==============================] - 0s 977us/step - loss: 7.1287 - mae: 7.1287\n",
      "Epoch 57/100\n",
      "1/1 [==============================] - 0s 966us/step - loss: 7.1231 - mae: 7.1231\n",
      "Epoch 58/100\n",
      "1/1 [==============================] - 0s 1ms/step - loss: 7.1175 - mae: 7.1175\n",
      "Epoch 59/100\n",
      "1/1 [==============================] - 0s 1ms/step - loss: 7.1119 - mae: 7.1119\n",
      "Epoch 60/100\n",
      "1/1 [==============================] - 0s 1ms/step - loss: 7.1063 - mae: 7.1063\n",
      "Epoch 61/100\n",
      "1/1 [==============================] - 0s 1ms/step - loss: 7.1006 - mae: 7.1006\n",
      "Epoch 62/100\n",
      "1/1 [==============================] - 0s 1ms/step - loss: 7.0950 - mae: 7.0950\n",
      "Epoch 63/100\n",
      "1/1 [==============================] - 0s 1ms/step - loss: 7.0894 - mae: 7.0894\n",
      "Epoch 64/100\n",
      "1/1 [==============================] - 0s 1ms/step - loss: 7.0838 - mae: 7.0838\n",
      "Epoch 65/100\n",
      "1/1 [==============================] - 0s 963us/step - loss: 7.0781 - mae: 7.0781\n",
      "Epoch 66/100\n",
      "1/1 [==============================] - 0s 1ms/step - loss: 7.0725 - mae: 7.0725\n",
      "Epoch 67/100\n",
      "1/1 [==============================] - 0s 942us/step - loss: 7.0669 - mae: 7.0669\n",
      "Epoch 68/100\n",
      "1/1 [==============================] - 0s 983us/step - loss: 7.0613 - mae: 7.0613\n",
      "Epoch 69/100\n",
      "1/1 [==============================] - 0s 937us/step - loss: 7.0556 - mae: 7.0556\n",
      "Epoch 70/100\n",
      "1/1 [==============================] - 0s 953us/step - loss: 7.0500 - mae: 7.0500\n",
      "Epoch 71/100\n",
      "1/1 [==============================] - 0s 928us/step - loss: 7.0444 - mae: 7.0444\n",
      "Epoch 72/100\n",
      "1/1 [==============================] - 0s 853us/step - loss: 7.0388 - mae: 7.0388\n",
      "Epoch 73/100\n",
      "1/1 [==============================] - 0s 2ms/step - loss: 7.0331 - mae: 7.0331\n",
      "Epoch 74/100\n",
      "1/1 [==============================] - 0s 981us/step - loss: 7.0275 - mae: 7.0275\n",
      "Epoch 75/100\n",
      "1/1 [==============================] - 0s 1ms/step - loss: 7.0219 - mae: 7.0219\n",
      "Epoch 76/100\n",
      "1/1 [==============================] - 0s 1ms/step - loss: 7.0163 - mae: 7.0163\n",
      "Epoch 77/100\n",
      "1/1 [==============================] - 0s 2ms/step - loss: 7.0106 - mae: 7.0106\n",
      "Epoch 78/100\n",
      "1/1 [==============================] - 0s 1ms/step - loss: 7.0050 - mae: 7.0050\n",
      "Epoch 79/100\n",
      "1/1 [==============================] - 0s 1ms/step - loss: 6.9994 - mae: 6.9994\n",
      "Epoch 80/100\n",
      "1/1 [==============================] - 0s 961us/step - loss: 6.9938 - mae: 6.9938\n",
      "Epoch 81/100\n",
      "1/1 [==============================] - 0s 1ms/step - loss: 6.9881 - mae: 6.9881\n",
      "Epoch 82/100\n",
      "1/1 [==============================] - 0s 990us/step - loss: 6.9825 - mae: 6.9825\n",
      "Epoch 83/100\n",
      "1/1 [==============================] - 0s 2ms/step - loss: 6.9769 - mae: 6.9769\n",
      "Epoch 84/100\n",
      "1/1 [==============================] - 0s 2ms/step - loss: 6.9713 - mae: 6.9713\n",
      "Epoch 85/100\n",
      "1/1 [==============================] - 0s 2ms/step - loss: 6.9656 - mae: 6.9656\n",
      "Epoch 86/100\n",
      "1/1 [==============================] - 0s 1ms/step - loss: 6.9600 - mae: 6.9600\n",
      "Epoch 87/100\n",
      "1/1 [==============================] - 0s 1ms/step - loss: 6.9544 - mae: 6.9544\n",
      "Epoch 88/100\n"
     ]
    },
    {
     "name": "stdout",
     "output_type": "stream",
     "text": [
      "1/1 [==============================] - 0s 2ms/step - loss: 6.9488 - mae: 6.9488\n",
      "Epoch 89/100\n",
      "1/1 [==============================] - 0s 1ms/step - loss: 6.9431 - mae: 6.9431\n",
      "Epoch 90/100\n",
      "1/1 [==============================] - 0s 1ms/step - loss: 6.9375 - mae: 6.9375\n",
      "Epoch 91/100\n",
      "1/1 [==============================] - 0s 1ms/step - loss: 6.9319 - mae: 6.9319\n",
      "Epoch 92/100\n",
      "1/1 [==============================] - 0s 1ms/step - loss: 6.9263 - mae: 6.9263\n",
      "Epoch 93/100\n",
      "1/1 [==============================] - 0s 1ms/step - loss: 6.9206 - mae: 6.9206\n",
      "Epoch 94/100\n",
      "1/1 [==============================] - 0s 1ms/step - loss: 6.9150 - mae: 6.9150\n",
      "Epoch 95/100\n",
      "1/1 [==============================] - 0s 892us/step - loss: 6.9094 - mae: 6.9094\n",
      "Epoch 96/100\n",
      "1/1 [==============================] - 0s 2ms/step - loss: 6.9038 - mae: 6.9038\n",
      "Epoch 97/100\n",
      "1/1 [==============================] - 0s 1ms/step - loss: 6.8981 - mae: 6.8981\n",
      "Epoch 98/100\n",
      "1/1 [==============================] - 0s 1ms/step - loss: 6.8925 - mae: 6.8925\n",
      "Epoch 99/100\n",
      "1/1 [==============================] - 0s 1ms/step - loss: 6.8869 - mae: 6.8869\n",
      "Epoch 100/100\n",
      "1/1 [==============================] - 0s 1ms/step - loss: 6.8813 - mae: 6.8813\n"
     ]
    },
    {
     "data": {
      "text/plain": [
       "<tensorflow.python.keras.callbacks.History at 0x7f93e8d7deb0>"
      ]
     },
     "execution_count": 11,
     "metadata": {},
     "output_type": "execute_result"
    }
   ],
   "source": [
    "# Set random seed\n",
    "tf.random.set_seed(42)\n",
    "\n",
    "# Create a model (same as above)\n",
    "model = tf.keras.Sequential([\n",
    "  tf.keras.layers.Dense(1)\n",
    "])\n",
    "\n",
    "# Compile model (same as above)\n",
    "model.compile(loss=tf.keras.losses.mae,\n",
    "              optimizer=tf.keras.optimizers.SGD(),\n",
    "              metrics=[\"mae\"])\n",
    "\n",
    "# Fit model (this time we'll train for longer)\n",
    "model.fit(X, y, epochs=100) # train for 100 epochs not 10"
   ]
  },
  {
   "cell_type": "markdown",
   "metadata": {
    "id": "1CIKSm7filgj"
   },
   "source": [
    "You might've noticed the loss value decrease from before (and keep decreasing as the number of epochs gets higher). \n",
    "\n",
    "What do you think this means for when we make a prediction with our model?\n",
    "\n",
    "How about we try predict on 17.0 again?"
   ]
  },
  {
   "cell_type": "code",
   "execution_count": 12,
   "metadata": {
    "colab": {
     "base_uri": "https://localhost:8080/"
    },
    "id": "_YcacZsfi4zZ",
    "outputId": "75cf2818-b564-4b4a-ffb0-3aa2ba5022bf"
   },
   "outputs": [
    {
     "data": {
      "text/plain": [
       "(<tf.Tensor: shape=(8,), dtype=float32, numpy=array([-7., -4., -1.,  2.,  5.,  8., 11., 14.], dtype=float32)>,\n",
       " <tf.Tensor: shape=(8,), dtype=float32, numpy=array([ 3.,  6.,  9., 12., 15., 18., 21., 24.], dtype=float32)>)"
      ]
     },
     "execution_count": 12,
     "metadata": {},
     "output_type": "execute_result"
    }
   ],
   "source": [
    "# Remind ourselves of what X and y are\n",
    "X, y"
   ]
  },
  {
   "cell_type": "code",
   "execution_count": 13,
   "metadata": {
    "colab": {
     "base_uri": "https://localhost:8080/"
    },
    "id": "e6k5V08ZivNO",
    "outputId": "9809e4b0-a1de-4969-da75-23d48064f0f9"
   },
   "outputs": [
    {
     "data": {
      "text/plain": [
       "array([[30.158512]], dtype=float32)"
      ]
     },
     "execution_count": 13,
     "metadata": {},
     "output_type": "execute_result"
    }
   ],
   "source": [
    "# Try and predict what y would be if X was 17.0\n",
    "model.predict([17.0]) # the right answer is 27.0 (y = X + 10)"
   ]
  },
  {
   "cell_type": "markdown",
   "metadata": {
    "id": "sYi5V8ZYi_dy"
   },
   "source": [
    "Much better! \n",
    "\n",
    "We got closer this time. But we could still be better.\n",
    "\n",
    "Now we've trained a model, how could we evaluate it?"
   ]
  },
  {
   "cell_type": "markdown",
   "metadata": {
    "id": "HvC98q_h6zvG"
   },
   "source": [
    "# Evaluating a model \n",
    "\n",
    "A typical workflow you'll go through when building neural networks is:\n",
    "\n",
    "```\n",
    "Build a model -> evaluate it -> build (tweak) a model -> evaulate it -> build (tweak) a model -> evaluate it...\n",
    "```\n",
    "\n",
    "The tweaking comes from maybe not building a model from scratch but adjusting an existing one.\n",
    "\n",
    "### Visualize, visualize, visualize\n",
    "\n",
    "When it comes to evaluation, you'll want to remember the words: \"visualize, visualize, visualize.\" \n",
    "\n",
    "This is because you're probably better looking at something (doing) than you are thinking about something.\n",
    "\n",
    "It's a good idea to visualize:\n",
    "* **The data** - what data are you working with? What does it look like?\n",
    "* **The model itself** - what does the architecture look like? What are the different shapes?\n",
    "* **The training of a model** - how does a model perform while it learns?\n",
    "* **The predictions of a model** - how do the predictions of a model line up against the ground truth (the original labels)?\n",
    "\n",
    "Let's start by visualizing the model.\n",
    "\n",
    "But first, we'll create a little bit of a bigger dataset and a new model we can use (it'll be the same as before, but the more practice the better).\n"
   ]
  },
  {
   "cell_type": "code",
   "execution_count": 14,
   "metadata": {
    "colab": {
     "base_uri": "https://localhost:8080/"
    },
    "id": "srxuqbeYopns",
    "outputId": "2a243d17-4fbd-489a-b861-bd7a56511437"
   },
   "outputs": [
    {
     "data": {
      "text/plain": [
       "array([-100,  -96,  -92,  -88,  -84,  -80,  -76,  -72,  -68,  -64,  -60,\n",
       "        -56,  -52,  -48,  -44,  -40,  -36,  -32,  -28,  -24,  -20,  -16,\n",
       "        -12,   -8,   -4,    0,    4,    8,   12,   16,   20,   24,   28,\n",
       "         32,   36,   40,   44,   48,   52,   56,   60,   64,   68,   72,\n",
       "         76,   80,   84,   88,   92,   96])"
      ]
     },
     "execution_count": 14,
     "metadata": {},
     "output_type": "execute_result"
    }
   ],
   "source": [
    "# Make a bigger dataset\n",
    "X = np.arange(-100, 100, 4)\n",
    "X"
   ]
  },
  {
   "cell_type": "code",
   "execution_count": 15,
   "metadata": {
    "colab": {
     "base_uri": "https://localhost:8080/"
    },
    "id": "pQcC0nSko3kJ",
    "outputId": "ef472020-6e83-45da-986f-eb4072f94b35"
   },
   "outputs": [
    {
     "data": {
      "text/plain": [
       "array([-90, -86, -82, -78, -74, -70, -66, -62, -58, -54, -50, -46, -42,\n",
       "       -38, -34, -30, -26, -22, -18, -14, -10,  -6,  -2,   2,   6,  10,\n",
       "        14,  18,  22,  26,  30,  34,  38,  42,  46,  50,  54,  58,  62,\n",
       "        66,  70,  74,  78,  82,  86,  90,  94,  98, 102, 106])"
      ]
     },
     "execution_count": 15,
     "metadata": {},
     "output_type": "execute_result"
    }
   ],
   "source": [
    "# Make labels for the dataset (adhering to the same pattern as before)\n",
    "y = np.arange(-90, 110, 4)\n",
    "y"
   ]
  },
  {
   "cell_type": "markdown",
   "metadata": {
    "id": "KNIw5tgGpKjb"
   },
   "source": [
    "Since $y=X+10$, we could make the labels like so:"
   ]
  },
  {
   "cell_type": "code",
   "execution_count": 16,
   "metadata": {
    "colab": {
     "base_uri": "https://localhost:8080/"
    },
    "id": "ACgbmrAOpJwW",
    "outputId": "bb561d4d-1bb1-479e-ae3e-a82cc96e95a3"
   },
   "outputs": [
    {
     "data": {
      "text/plain": [
       "array([-90, -86, -82, -78, -74, -70, -66, -62, -58, -54, -50, -46, -42,\n",
       "       -38, -34, -30, -26, -22, -18, -14, -10,  -6,  -2,   2,   6,  10,\n",
       "        14,  18,  22,  26,  30,  34,  38,  42,  46,  50,  54,  58,  62,\n",
       "        66,  70,  74,  78,  82,  86,  90,  94,  98, 102, 106])"
      ]
     },
     "execution_count": 16,
     "metadata": {},
     "output_type": "execute_result"
    }
   ],
   "source": [
    "# Same result as above\n",
    "y = X + 10\n",
    "y"
   ]
  },
  {
   "cell_type": "markdown",
   "metadata": {
    "id": "ax3MnQDupeBp"
   },
   "source": [
    "## Split data into training/test set\n",
    "\n",
    "One of the other most common and important steps in a machine learning project is creating a training and test set (and when required, a validation set).\n",
    "\n",
    "Each set serves a specific purpose:\n",
    "* **Training set** - the model learns from this data, which is typically 70-80% of the total data available (like the course materials you study during the semester).\n",
    "* **Validation set** - the model gets tuned on this data, which is typically 10-15% of the total data available (like the practice exam you take before the final exam).\n",
    "* **Test set** - the model gets evaluated on this data to test what it has learned, it's typically 10-15% of the total data available (like the final exam you take at the end of the semester).\n",
    "\n",
    "For now, we'll just use a training and test set, this means we'll have a dataset for our model to learn on as well as be evaluated on.\n",
    "\n",
    "We can create them by splitting our `X` and `y` arrays.\n",
    "\n",
    "> 🔑 **Note:** When dealing with real-world data, this step is typically done right at the start of a project (the test set should always be kept separate from all other data). We want our model to learn on training data and then evaluate it on test data to get an indication of how well it **generalizes** to unseen examples."
   ]
  },
  {
   "cell_type": "code",
   "execution_count": 17,
   "metadata": {
    "colab": {
     "base_uri": "https://localhost:8080/"
    },
    "id": "5G0RDMnZrgvK",
    "outputId": "1da59eba-48b5-4b8f-a925-9537e68621fb"
   },
   "outputs": [
    {
     "data": {
      "text/plain": [
       "50"
      ]
     },
     "execution_count": 17,
     "metadata": {},
     "output_type": "execute_result"
    }
   ],
   "source": [
    "# Check how many samples we have\n",
    "len(X)"
   ]
  },
  {
   "cell_type": "code",
   "execution_count": 18,
   "metadata": {
    "colab": {
     "base_uri": "https://localhost:8080/"
    },
    "id": "4Q9ptcQkrGfO",
    "outputId": "7eda8251-08ea-4ded-99fc-f7be6a3c4f24"
   },
   "outputs": [
    {
     "data": {
      "text/plain": [
       "(40, 10)"
      ]
     },
     "execution_count": 18,
     "metadata": {},
     "output_type": "execute_result"
    }
   ],
   "source": [
    "# Split data into train and test sets\n",
    "X_train = X[:40] # first 40 examples (80% of data)\n",
    "y_train = y[:40]\n",
    "\n",
    "X_test = X[40:] # last 10 examples (20% of data)\n",
    "y_test = y[40:]\n",
    "\n",
    "len(X_train), len(X_test)"
   ]
  },
  {
   "cell_type": "markdown",
   "metadata": {
    "id": "Rz2cIdECsLH5"
   },
   "source": [
    "## Visualizing the data\n",
    "\n",
    "Now we've got our training and test data, it's a good idea to visualize it.\n",
    "\n",
    "Let's plot it with some nice colours to differentiate what's what."
   ]
  },
  {
   "cell_type": "code",
   "execution_count": 19,
   "metadata": {
    "colab": {
     "base_uri": "https://localhost:8080/",
     "height": 428
    },
    "id": "os30CXBHsOAH",
    "outputId": "94949999-9146-45c1-f721-d92315ba4cda"
   },
   "outputs": [
    {
     "data": {
      "image/png": "[encoded data removed]",
      "text/plain": [
       "<Figure size 720x504 with 1 Axes>"
      ]
     },
     "metadata": {
      "needs_background": "light"
     },
     "output_type": "display_data"
    }
   ],
   "source": [
    "plt.figure(figsize=(10, 7))\n",
    "# Plot training data in blue\n",
    "plt.scatter(X_train, y_train, c='b', label='Training data')\n",
    "# Plot test data in green\n",
    "plt.scatter(X_test, y_test, c='g', label='Testing data')\n",
    "# Show the legend\n",
    "plt.legend();"
   ]
  },
  {
   "cell_type": "markdown",
   "metadata": {
    "id": "cxRcHZFgtS_B"
   },
   "source": [
    "Beautiful! Any time you can visualize your data, your model, your anything, it's a good idea. \n",
    "\n",
    "With this graph in mind, what we'll be trying to do is build a model which learns the pattern in the blue dots (`X_train`) to draw the green dots (`X_test`).\n",
    "\n",
    "Time to build a model. We'll make the exact same one from before (the one we trained for longer)."
   ]
  },
  {
   "cell_type": "code",
   "execution_count": 20,
   "metadata": {
    "id": "4qpe0eSStSm-"
   },
   "outputs": [],
   "source": [
    "# Set random seed\n",
    "tf.random.set_seed(42)\n",
    "\n",
    "# Create a model (same as above)\n",
    "model = tf.keras.Sequential([\n",
    "  tf.keras.layers.Dense(1)\n",
    "])\n",
    "\n",
    "# Compile model (same as above)\n",
    "model.compile(loss=tf.keras.losses.mae,\n",
    "              optimizer=tf.keras.optimizers.SGD(),\n",
    "              metrics=[\"mae\"])\n",
    "\n",
    "# Fit model (same as above)\n",
    "#model.fit(X_train, y_train, epochs=100) # commented out on purpose (not fitting it just yet)"
   ]
  },
  {
   "cell_type": "markdown",
   "metadata": {
    "id": "hc2RHCCfqlAc"
   },
   "source": [
    "## Visualizing the model\n",
    "\n",
    "After you've built a model, you might want to take a look at it (especially if you haven't built many before).\n",
    "\n",
    "You can take a look at the layers and shapes of your model by calling [`summary()`](https://www.tensorflow.org/api_docs/python/tf/keras/Model#summary) on it.\n",
    "\n",
    "> 🔑 **Note:** Visualizing a model is particularly helpful when you run into input and output shape mismatches."
   ]
  },
  {
   "cell_type": "code",
   "execution_count": 21,
   "metadata": {
    "colab": {
     "base_uri": "https://localhost:8080/",
     "height": 414
    },
    "id": "OlgJj0cFwChH",
    "outputId": "af3d8f0f-67ed-4b30-dc32-6083224ff847"
   },
   "outputs": [],
   "source": [
    "# Doesn't work (model not fit/built)\n",
    "# model.summary()"
   ]
  },
  {
   "cell_type": "markdown",
   "metadata": {
    "id": "SJj6KLe8xsyF"
   },
   "source": [
    "Ahh, the cell above errors because we haven't fit our built our model.\n",
    "\n",
    "We also haven't told it what input shape it should be expecting.\n",
    "\n",
    "Remember above, how we discussed the input shape was just one number?\n",
    "\n",
    "We can let our model know the input shape of our data using the `input_shape` parameter to the first layer (usually if `input_shape` isn't defined, Keras tries to figure it out automatically)."
   ]
  },
  {
   "cell_type": "code",
   "execution_count": 22,
   "metadata": {
    "id": "zMXKFtFBuWgJ"
   },
   "outputs": [],
   "source": [
    "# Set random seed\n",
    "tf.random.set_seed(42)\n",
    "\n",
    "# Create a model (same as above)\n",
    "model = tf.keras.Sequential([\n",
    "  tf.keras.layers.Dense(1, input_shape=[1]) # define the input_shape to our model\n",
    "])\n",
    "\n",
    "# Compile model (same as above)\n",
    "model.compile(loss=tf.keras.losses.mae,\n",
    "              optimizer=tf.keras.optimizers.SGD(),\n",
    "              metrics=[\"mae\"])"
   ]
  },
  {
   "cell_type": "code",
   "execution_count": 23,
   "metadata": {
    "colab": {
     "base_uri": "https://localhost:8080/"
    },
    "id": "24Q325x2yCoi",
    "outputId": "004adec4-1f35-443a-fd9a-2dab44166849"
   },
   "outputs": [
    {
     "name": "stdout",
     "output_type": "stream",
     "text": [
      "Model: \"sequential_3\"\n",
      "_________________________________________________________________\n",
      "Layer (type)                 Output Shape              Param #   \n",
      "=================================================================\n",
      "dense_3 (Dense)              (None, 1)                 2         \n",
      "=================================================================\n",
      "Total params: 2\n",
      "Trainable params: 2\n",
      "Non-trainable params: 0\n",
      "_________________________________________________________________\n"
     ]
    }
   ],
   "source": [
    "# This will work after specifying the input shape\n",
    "model.summary()"
   ]
  },
  {
   "cell_type": "markdown",
   "metadata": {
    "id": "jdurWKlryl6b"
   },
   "source": [
    "Calling `summary()` on our model shows us the layers it contains, the output shape and the number of parameters.\n",
    "* **Total params** - total number of parameters in the model.\n",
    "* **Trainable parameters** - these are the parameters (patterns) the model can update as it trains.\n",
    "* **Non-trainable parameters** - these parameters aren't updated during training (this is typical when you bring in the already learned patterns from other models during transfer learning).\n",
    "\n",
    "> 📖 **Resource:** For a more in-depth overview of the trainable parameters within a layer, check out [MIT's introduction to deep learning video](https://youtu.be/njKP3FqW3Sk).\n",
    "\n",
    "> 🛠 **Exercise:** Try playing around with the number of hidden units in the `Dense` layer (e.g. `Dense(2)`, `Dense(3)`). How does this change the Total/Trainable params? Investigate what's causing the change.\n",
    "\n",
    "For now, all you need to think about these parameters is that their learnable patterns in the data.\n",
    "\n",
    "Let's fit our model to the training data."
   ]
  },
  {
   "cell_type": "code",
   "execution_count": 24,
   "metadata": {
    "colab": {
     "base_uri": "https://localhost:8080/"
    },
    "id": "-Kywg4q9u051",
    "outputId": "4189a7c7-d929-4a1f-cda2-ab29be6843e4"
   },
   "outputs": [
    {
     "data": {
      "text/plain": [
       "<tensorflow.python.keras.callbacks.History at 0x7f93e8db6280>"
      ]
     },
     "execution_count": 24,
     "metadata": {},
     "output_type": "execute_result"
    }
   ],
   "source": [
    "# Fit the model to the training data\n",
    "model.fit(X_train, y_train, epochs=100, verbose=0) # verbose controls how much gets output"
   ]
  },
  {
   "cell_type": "code",
   "execution_count": 25,
   "metadata": {
    "colab": {
     "base_uri": "https://localhost:8080/"
    },
    "id": "-jWuOwj961ri",
    "outputId": "72a950ec-fb60-400c-a711-138ea93b041a"
   },
   "outputs": [
    {
     "name": "stdout",
     "output_type": "stream",
     "text": [
      "Model: \"sequential_3\"\n",
      "_________________________________________________________________\n",
      "Layer (type)                 Output Shape              Param #   \n",
      "=================================================================\n",
      "dense_3 (Dense)              (None, 1)                 2         \n",
      "=================================================================\n",
      "Total params: 2\n",
      "Trainable params: 2\n",
      "Non-trainable params: 0\n",
      "_________________________________________________________________\n"
     ]
    }
   ],
   "source": [
    "# Check the model summary\n",
    "model.summary()"
   ]
  },
  {
   "cell_type": "markdown",
   "metadata": {
    "id": "RrrkHEkMYh5A"
   },
   "source": [
    "Alongside summary, you can also view a 2D plot of the model using [`plot_model()`](https://www.tensorflow.org/api_docs/python/tf/keras/utils/plot_model)."
   ]
  },
  {
   "cell_type": "code",
   "execution_count": 26,
   "metadata": {
    "colab": {
     "base_uri": "https://localhost:8080/",
     "height": 201
    },
    "id": "liIg5WqDfdK4",
    "outputId": "3d79c635-0cf8-4617-8a91-c79293c69933"
   },
   "outputs": [
    {
     "name": "stdout",
     "output_type": "stream",
     "text": [
      "('Failed to import pydot. You must `pip install pydot` and install graphviz (https://graphviz.gitlab.io/download/), ', 'for `pydotprint` to work.')\n"
     ]
    }
   ],
   "source": [
    "from tensorflow.keras.utils import plot_model\n",
    "\n",
    "plot_model(model, show_shapes=True)"
   ]
  },
  {
   "cell_type": "markdown",
   "metadata": {
    "id": "ygw7V8OVYxQS"
   },
   "source": [
    "In our case, the model we used only has an input and an output but visualizing more complicated models can be very helpful for debugging."
   ]
  },
  {
   "cell_type": "markdown",
   "metadata": {
    "id": "gebj2eptqwg8"
   },
   "source": [
    "## Visualizing the predictions\n",
    "\n",
    "Now we've got a trained model, let's visualize some predictions.\n",
    "\n",
    "To visualize predictions, it's always a good idea to plot them against the ground truth labels.\n",
    "\n",
    "Often you'll see this in the form of `y_test` vs. `y_pred` (ground truth vs. predictions).\n",
    "\n",
    "First, we'll make some predictions on the test data (`X_test`), remember the model has never seen the test data."
   ]
  },
  {
   "cell_type": "code",
   "execution_count": 27,
   "metadata": {
    "id": "RRzj7LJMYftb"
   },
   "outputs": [],
   "source": [
    "# Make predictions\n",
    "y_preds = model.predict(X_test)"
   ]
  },
  {
   "cell_type": "code",
   "execution_count": 28,
   "metadata": {
    "colab": {
     "base_uri": "https://localhost:8080/"
    },
    "id": "_hKpW-KOZiAW",
    "outputId": "2d625913-c5ef-4f0d-b1d5-6bf60fdb3460"
   },
   "outputs": [
    {
     "data": {
      "text/plain": [
       "array([[53.57109 ],\n",
       "       [57.05633 ],\n",
       "       [60.541573],\n",
       "       [64.02681 ],\n",
       "       [67.512054],\n",
       "       [70.99729 ],\n",
       "       [74.48254 ],\n",
       "       [77.96777 ],\n",
       "       [81.45301 ],\n",
       "       [84.938255]], dtype=float32)"
      ]
     },
     "execution_count": 28,
     "metadata": {},
     "output_type": "execute_result"
    }
   ],
   "source": [
    "# View the predictions\n",
    "y_preds"
   ]
  },
  {
   "cell_type": "markdown",
   "metadata": {
    "id": "aPRaFncaZnT-"
   },
   "source": [
    "Okay, we get a list of numbers but how do these compare to the ground truth labels?\n",
    "\n",
    "Let's build a plotting function to find out.\n",
    "\n",
    "> 🔑 **Note:** If you think you're going to be visualizing something a lot, it's a good idea to functionize it so you can use it later."
   ]
  },
  {
   "cell_type": "code",
   "execution_count": 29,
   "metadata": {
    "id": "56euC69rZvNJ"
   },
   "outputs": [],
   "source": [
    "def plot_predictions(train_data=X_train, \n",
    "                     train_labels=y_train, \n",
    "                     test_data=X_test, \n",
    "                     test_labels=y_test, \n",
    "                     predictions=y_preds):\n",
    "  \"\"\"\n",
    "  Plots training data, test data and compares predictions.\n",
    "  \"\"\"\n",
    "  plt.figure(figsize=(10, 7))\n",
    "  # Plot training data in blue\n",
    "  plt.scatter(train_data, train_labels, c=\"b\", label=\"Training data\")\n",
    "  # Plot test data in green\n",
    "  plt.scatter(test_data, test_labels, c=\"g\", label=\"Testing data\")\n",
    "  # Plot the predictions in red (predictions were made on the test data)\n",
    "  plt.scatter(test_data, predictions, c=\"r\", label=\"Predictions\")\n",
    "  # Show the legend\n",
    "  plt.legend();"
   ]
  },
  {
   "cell_type": "code",
   "execution_count": 30,
   "metadata": {
    "colab": {
     "base_uri": "https://localhost:8080/",
     "height": 428
    },
    "id": "Fug5_B6Ab7Ah",
    "outputId": "4d672d63-80b7-420a-bcc0-7e9d5b901c7e"
   },
   "outputs": [
    {
     "data": {
      "image/png": "[encoded data removed]",
      "text/plain": [
       "<Figure size 720x504 with 1 Axes>"
      ]
     },
     "metadata": {
      "needs_background": "light"
     },
     "output_type": "display_data"
    }
   ],
   "source": [
    "plot_predictions(train_data=X_train,\n",
    "                 train_labels=y_train,\n",
    "                 test_data=X_test,\n",
    "                 test_labels=y_test,\n",
    "                 predictions=y_preds)"
   ]
  },
  {
   "cell_type": "markdown",
   "metadata": {
    "id": "H63NPcgPcwZV"
   },
   "source": [
    "From the plot we can see our predictions aren't totally outlandish but they definitely aren't anything special either."
   ]
  },
  {
   "cell_type": "markdown",
   "metadata": {
    "id": "orAfIWOrgRDA"
   },
   "source": [
    "## Evaluating predictions\n",
    "\n",
    "Alongisde visualizations, evaulation metrics are your alternative best option for evaluating your model.\n",
    "\n",
    "Depending on the problem you're working on, different models have different evaluation metrics. \n",
    "\n",
    "Two of the main metrics used for regression problems are:\n",
    "* **Mean absolute error (MAE)** - the mean difference between each of the predictions.\n",
    "* **Mean squared error (MSE)** - the squared mean difference between of the predictions (use if larger errors are more detrimental than smaller errors).\n",
    "\n",
    "The lower each of these values, the better.\n",
    "\n",
    "You can also use [`model.evaluate()`](https://www.tensorflow.org/api_docs/python/tf/keras/Model#evaluate) which will return the loss of the model as well as any metrics setup during the compile step."
   ]
  },
  {
   "cell_type": "code",
   "execution_count": 31,
   "metadata": {
    "colab": {
     "base_uri": "https://localhost:8080/"
    },
    "id": "DPgTdF3ddxiY",
    "outputId": "be305e32-46c6-46b7-ec56-868d4ef17a6b"
   },
   "outputs": [
    {
     "name": "stdout",
     "output_type": "stream",
     "text": [
      "1/1 [==============================] - 0s 65ms/step - loss: 18.7453 - mae: 18.7453\n"
     ]
    },
    {
     "data": {
      "text/plain": [
       "[18.74532699584961, 18.74532699584961]"
      ]
     },
     "execution_count": 31,
     "metadata": {},
     "output_type": "execute_result"
    }
   ],
   "source": [
    "# Evaluate the model on the test set\n",
    "model.evaluate(X_test, y_test)"
   ]
  },
  {
   "cell_type": "markdown",
   "metadata": {
    "id": "DAXIRyVzegFd"
   },
   "source": [
    "In our case, since we used MAE for the loss function as well as MAE for the metrics, `model.evaulate()` returns them both.\n",
    "\n",
    "TensorFlow also has built in functions for MSE and MAE.\n",
    "\n",
    "For many evaluation functions, the premise is the same: compare predictions to the ground truth labels."
   ]
  },
  {
   "cell_type": "code",
   "execution_count": 32,
   "metadata": {
    "colab": {
     "base_uri": "https://localhost:8080/"
    },
    "id": "gqoMQ0dJeD2S",
    "outputId": "d18078fe-6a35-4465-d77d-68151a2134c5"
   },
   "outputs": [
    {
     "data": {
      "text/plain": [
       "<tf.Tensor: shape=(10,), dtype=float32, numpy=\n",
       "array([34.42891 , 30.943668, 27.45843 , 23.97319 , 20.487946, 17.202168,\n",
       "       14.510478, 12.419336, 11.018796, 10.212349], dtype=float32)>"
      ]
     },
     "execution_count": 32,
     "metadata": {},
     "output_type": "execute_result"
    }
   ],
   "source": [
    "# Calculate the mean absolute error\n",
    "mae = tf.metrics.mean_absolute_error(y_true=y_test, \n",
    "                                     y_pred=y_preds)\n",
    "mae"
   ]
  },
  {
   "cell_type": "markdown",
   "metadata": {
    "id": "7pYp3XNYfkyC"
   },
   "source": [
    "Huh? That's strange, MAE should be a single output.\n",
    "\n",
    "Instead, we get 10 values.\n",
    "\n",
    "This is because our `y_test` and `y_preds` tensors are different shapes."
   ]
  },
  {
   "cell_type": "code",
   "execution_count": 33,
   "metadata": {
    "colab": {
     "base_uri": "https://localhost:8080/"
    },
    "id": "zeUHwOc2gIV4",
    "outputId": "2c83e0f4-4ba0-4f8c-ba44-4a9effe82743"
   },
   "outputs": [
    {
     "data": {
      "text/plain": [
       "array([ 70,  74,  78,  82,  86,  90,  94,  98, 102, 106])"
      ]
     },
     "execution_count": 33,
     "metadata": {},
     "output_type": "execute_result"
    }
   ],
   "source": [
    "# Check the test label tensor values\n",
    "y_test"
   ]
  },
  {
   "cell_type": "code",
   "execution_count": 34,
   "metadata": {
    "colab": {
     "base_uri": "https://localhost:8080/"
    },
    "id": "3aJwlTxugPyc",
    "outputId": "8db8cd49-d1b8-49b4-b48c-ac56e0ec8a5a"
   },
   "outputs": [
    {
     "data": {
      "text/plain": [
       "array([[53.57109 ],\n",
       "       [57.05633 ],\n",
       "       [60.541573],\n",
       "       [64.02681 ],\n",
       "       [67.512054],\n",
       "       [70.99729 ],\n",
       "       [74.48254 ],\n",
       "       [77.96777 ],\n",
       "       [81.45301 ],\n",
       "       [84.938255]], dtype=float32)"
      ]
     },
     "execution_count": 34,
     "metadata": {},
     "output_type": "execute_result"
    }
   ],
   "source": [
    "# Check the predictions tensor values (notice the extra square brackets)\n",
    "y_preds"
   ]
  },
  {
   "cell_type": "code",
   "execution_count": 35,
   "metadata": {
    "colab": {
     "base_uri": "https://localhost:8080/"
    },
    "id": "xolZ-lmge_ES",
    "outputId": "c4658cbf-5176-4499-8fae-1c2f3baee7c5"
   },
   "outputs": [
    {
     "data": {
      "text/plain": [
       "((10,), (10, 1))"
      ]
     },
     "execution_count": 35,
     "metadata": {},
     "output_type": "execute_result"
    }
   ],
   "source": [
    "# Check the tensor shapes\n",
    "y_test.shape, y_preds.shape"
   ]
  },
  {
   "cell_type": "markdown",
   "metadata": {
    "id": "eW1qleu5gHyZ"
   },
   "source": [
    "Remember how we discussed dealing with different input and output shapes is one the most common issues you'll come across, this is one of those times.\n",
    "\n",
    "But not to worry.\n",
    "\n",
    "We can fix it using [`squeeze()`](https://www.tensorflow.org/api_docs/python/tf/squeeze), it'll remove the the `1` dimension from our `y_preds` tensor, making it the same shape as `y_test`.\n",
    "\n",
    "> 🔑 **Note:** If you're comparing two tensors, it's important to make sure they're the right shape(s) (you won't always have to manipulate the shapes, but always be on the look out, *many* errors are the result of mismatched tensors, especially mismatched input and output shapes)."
   ]
  },
  {
   "cell_type": "code",
   "execution_count": 36,
   "metadata": {
    "colab": {
     "base_uri": "https://localhost:8080/"
    },
    "id": "tVtMyw70g4aF",
    "outputId": "29dc2bac-aaba-4330-a07e-0806a312ee57"
   },
   "outputs": [
    {
     "data": {
      "text/plain": [
       "(10, 1)"
      ]
     },
     "execution_count": 36,
     "metadata": {},
     "output_type": "execute_result"
    }
   ],
   "source": [
    "# Shape before squeeze()\n",
    "y_preds.shape"
   ]
  },
  {
   "cell_type": "code",
   "execution_count": 37,
   "metadata": {
    "colab": {
     "base_uri": "https://localhost:8080/"
    },
    "id": "qnYaBnCng-Nq",
    "outputId": "04e26605-2304-4596-ada3-01a2199f2575"
   },
   "outputs": [
    {
     "data": {
      "text/plain": [
       "(10,)"
      ]
     },
     "execution_count": 37,
     "metadata": {},
     "output_type": "execute_result"
    }
   ],
   "source": [
    "# Shape after squeeze()\n",
    "y_preds.squeeze().shape"
   ]
  },
  {
   "cell_type": "code",
   "execution_count": 38,
   "metadata": {
    "colab": {
     "base_uri": "https://localhost:8080/"
    },
    "id": "HxvVeD64hEX8",
    "outputId": "25168925-e44f-4bbc-f6d3-c90495f7898a"
   },
   "outputs": [
    {
     "data": {
      "text/plain": [
       "(array([ 70,  74,  78,  82,  86,  90,  94,  98, 102, 106]),\n",
       " array([53.57109 , 57.05633 , 60.541573, 64.02681 , 67.512054, 70.99729 ,\n",
       "        74.48254 , 77.96777 , 81.45301 , 84.938255], dtype=float32))"
      ]
     },
     "execution_count": 38,
     "metadata": {},
     "output_type": "execute_result"
    }
   ],
   "source": [
    "# What do they look like?\n",
    "y_test, y_preds.squeeze()"
   ]
  },
  {
   "cell_type": "markdown",
   "metadata": {
    "id": "mfUCIeHyhLk7"
   },
   "source": [
    "Okay, now we know how to make our `y_test` and `y_preds` tenors the same shape, let's use our evaluation metrics."
   ]
  },
  {
   "cell_type": "code",
   "execution_count": 39,
   "metadata": {
    "colab": {
     "base_uri": "https://localhost:8080/"
    },
    "id": "TvjY6GIJvXBO",
    "outputId": "00569a5a-3fea-4f28-d433-ca625e0b3c48"
   },
   "outputs": [
    {
     "data": {
      "text/plain": [
       "<tf.Tensor: shape=(), dtype=float32, numpy=18.745327>"
      ]
     },
     "execution_count": 39,
     "metadata": {},
     "output_type": "execute_result"
    }
   ],
   "source": [
    "# Calcuate the MAE\n",
    "mae = tf.metrics.mean_absolute_error(y_true=y_test, \n",
    "                                     y_pred=y_preds.squeeze()) # use squeeze() to make same shape\n",
    "mae"
   ]
  },
  {
   "cell_type": "code",
   "execution_count": 40,
   "metadata": {
    "colab": {
     "base_uri": "https://localhost:8080/"
    },
    "id": "EwA9nGJzvbMT",
    "outputId": "562af788-a539-442c-86a5-d5753c252705"
   },
   "outputs": [
    {
     "data": {
      "text/plain": [
       "<tf.Tensor: shape=(), dtype=float32, numpy=353.57336>"
      ]
     },
     "execution_count": 40,
     "metadata": {},
     "output_type": "execute_result"
    }
   ],
   "source": [
    "# Calculate the MSE\n",
    "mse = tf.metrics.mean_squared_error(y_true=y_test,\n",
    "                                    y_pred=y_preds.squeeze())\n",
    "mse"
   ]
  },
  {
   "cell_type": "markdown",
   "metadata": {
    "id": "X06oo_CIjPbL"
   },
   "source": [
    "We can also calculate the MAE using pure TensorFlow functions."
   ]
  },
  {
   "cell_type": "code",
   "execution_count": 41,
   "metadata": {
    "colab": {
     "base_uri": "https://localhost:8080/"
    },
    "id": "YxiD6-QBYSzd",
    "outputId": "02f83e09-754b-4244-ce49-bb896dbcf5b1"
   },
   "outputs": [
    {
     "data": {
      "text/plain": [
       "<tf.Tensor: shape=(), dtype=float64, numpy=18.745327377319335>"
      ]
     },
     "execution_count": 41,
     "metadata": {},
     "output_type": "execute_result"
    }
   ],
   "source": [
    "# Returns the same as tf.metrics.mean_absolute_error()\n",
    "tf.reduce_mean(tf.abs(y_test-y_preds.squeeze()))"
   ]
  },
  {
   "cell_type": "markdown",
   "metadata": {
    "id": "rmEho4lYofOa"
   },
   "source": [
    "Again, it's a good idea to functionize anything you think you might use over again (or find yourself using over and over again).\n",
    "\n",
    "Let's make functions for our evaluation metrics."
   ]
  },
  {
   "cell_type": "code",
   "execution_count": 42,
   "metadata": {
    "id": "bs1Z2jgNol5f"
   },
   "outputs": [],
   "source": [
    "def mae(y_test, y_pred):\n",
    "  \"\"\"\n",
    "  Calculuates mean absolute error between y_test and y_preds.\n",
    "  \"\"\"\n",
    "  return tf.metrics.mean_absolute_error(y_test,\n",
    "                                        y_pred)\n",
    "  \n",
    "def mse(y_test, y_pred):\n",
    "  \"\"\"\n",
    "  Calculates mean squared error between y_test and y_preds.\n",
    "  \"\"\"\n",
    "  return tf.metrics.mean_squared_error(y_test,\n",
    "                                       y_pred)"
   ]
  },
  {
   "cell_type": "markdown",
   "metadata": {
    "id": "zub5zK7bcl40"
   },
   "source": [
    "## Running experiments to improve a model\n",
    "\n",
    "After seeing the evaluation metrics and the predictions your model makes, it's likely you'll want to improve it.\n",
    "\n",
    "Again, there are many different ways you can do this, but 3 of the main ones are:\n",
    "1. **Get more data** - get more examples for your model to train on (more opportunities to learn patterns).\n",
    "2. **Make your model larger (use a more complex model)** - this might come in the form of more layers or more hidden units in each layer.\n",
    "3. **Train for longer** - give your model more of a chance to find the patterns in the data.\n",
    "\n",
    "Since we created our dataset, we could easily make more data but this isn't always the case when you're working with real-world datasets.\n",
    "\n",
    "So let's take a look at how we can improve our model using 2 and 3.\n",
    "\n",
    "To do so, we'll build 3 models and compare their results:\n",
    "1. `model_1` - same as original model, 1 layer, trained for 100 epochs.\n",
    "2. `model_2` - 2 layers, trained for 100 epochs.\n",
    "3. `model_3` - 2 layers, trained for 500 epochs.\n",
    "\n",
    "**Build `model_1`**"
   ]
  },
  {
   "cell_type": "code",
   "execution_count": 43,
   "metadata": {
    "colab": {
     "base_uri": "https://localhost:8080/"
    },
    "id": "StVHIIM9csyS",
    "outputId": "43adbb02-32c7-45a0-d8e0-f40a26bca4f9"
   },
   "outputs": [
    {
     "name": "stdout",
     "output_type": "stream",
     "text": [
      "Epoch 1/100\n",
      "2/2 [==============================] - 0s 1ms/step - loss: 16.4124 - mae: 16.4124\n",
      "Epoch 2/100\n",
      "2/2 [==============================] - 0s 957us/step - loss: 11.0829 - mae: 11.0829\n",
      "Epoch 3/100\n",
      "2/2 [==============================] - 0s 905us/step - loss: 11.1242 - mae: 11.1242\n",
      "Epoch 4/100\n",
      "2/2 [==============================] - 0s 916us/step - loss: 8.6945 - mae: 8.6945\n",
      "Epoch 5/100\n",
      "2/2 [==============================] - 0s 955us/step - loss: 9.8003 - mae: 9.8003\n",
      "Epoch 6/100\n",
      "2/2 [==============================] - 0s 886us/step - loss: 9.5263 - mae: 9.5263\n",
      "Epoch 7/100\n",
      "2/2 [==============================] - 0s 771us/step - loss: 8.4102 - mae: 8.4102\n",
      "Epoch 8/100\n",
      "2/2 [==============================] - 0s 1ms/step - loss: 9.1449 - mae: 9.1449\n",
      "Epoch 9/100\n",
      "2/2 [==============================] - 0s 1ms/step - loss: 19.4932 - mae: 19.4932\n",
      "Epoch 10/100\n",
      "2/2 [==============================] - 0s 2ms/step - loss: 9.6061 - mae: 9.6061\n",
      "Epoch 11/100\n",
      "2/2 [==============================] - 0s 1ms/step - loss: 8.5992 - mae: 8.5992\n",
      "Epoch 12/100\n",
      "2/2 [==============================] - 0s 912us/step - loss: 10.9324 - mae: 10.9324\n",
      "Epoch 13/100\n",
      "2/2 [==============================] - 0s 843us/step - loss: 10.0574 - mae: 10.0574\n",
      "Epoch 14/100\n",
      "2/2 [==============================] - 0s 804us/step - loss: 16.5679 - mae: 16.5679\n",
      "Epoch 15/100\n",
      "2/2 [==============================] - 0s 793us/step - loss: 11.4537 - mae: 11.4537\n",
      "Epoch 16/100\n",
      "2/2 [==============================] - 0s 1ms/step - loss: 8.4056 - mae: 8.4056\n",
      "Epoch 17/100\n",
      "2/2 [==============================] - 0s 831us/step - loss: 13.8417 - mae: 13.8417\n",
      "Epoch 18/100\n",
      "2/2 [==============================] - 0s 1ms/step - loss: 11.6621 - mae: 11.6621\n",
      "Epoch 19/100\n",
      "2/2 [==============================] - 0s 1ms/step - loss: 18.7623 - mae: 18.7623\n",
      "Epoch 20/100\n",
      "2/2 [==============================] - 0s 834us/step - loss: 15.5702 - mae: 15.5702\n",
      "Epoch 21/100\n",
      "2/2 [==============================] - 0s 1ms/step - loss: 10.9959 - mae: 10.9959\n",
      "Epoch 22/100\n",
      "2/2 [==============================] - 0s 935us/step - loss: 8.0023 - mae: 8.0023\n",
      "Epoch 23/100\n",
      "2/2 [==============================] - 0s 790us/step - loss: 9.8593 - mae: 9.8593\n",
      "Epoch 24/100\n",
      "2/2 [==============================] - 0s 923us/step - loss: 7.5796 - mae: 7.5796\n",
      "Epoch 25/100\n",
      "2/2 [==============================] - 0s 2ms/step - loss: 13.7226 - mae: 13.7226\n",
      "Epoch 26/100\n",
      "2/2 [==============================] - 0s 2ms/step - loss: 17.1740 - mae: 17.1740\n",
      "Epoch 27/100\n",
      "2/2 [==============================] - 0s 1ms/step - loss: 13.4233 - mae: 13.4233\n",
      "Epoch 28/100\n",
      "2/2 [==============================] - 0s 983us/step - loss: 14.5473 - mae: 14.5473\n",
      "Epoch 29/100\n",
      "2/2 [==============================] - 0s 912us/step - loss: 9.8753 - mae: 9.8753\n",
      "Epoch 30/100\n",
      "2/2 [==============================] - 0s 866us/step - loss: 17.1187 - mae: 17.1187\n",
      "Epoch 31/100\n",
      "2/2 [==============================] - 0s 803us/step - loss: 24.5949 - mae: 24.5949\n",
      "Epoch 32/100\n",
      "2/2 [==============================] - 0s 1ms/step - loss: 7.6765 - mae: 7.6765\n",
      "Epoch 33/100\n",
      "2/2 [==============================] - 0s 1ms/step - loss: 9.2971 - mae: 9.2971\n",
      "Epoch 34/100\n",
      "2/2 [==============================] - 0s 1ms/step - loss: 14.1703 - mae: 14.1703\n",
      "Epoch 35/100\n",
      "2/2 [==============================] - 0s 2ms/step - loss: 10.8635 - mae: 10.8635\n",
      "Epoch 36/100\n",
      "2/2 [==============================] - 0s 2ms/step - loss: 13.5690 - mae: 13.5690\n",
      "Epoch 37/100\n",
      "2/2 [==============================] - 0s 771us/step - loss: 9.3448 - mae: 9.3448\n",
      "Epoch 38/100\n",
      "2/2 [==============================] - 0s 922us/step - loss: 10.4804 - mae: 10.4804\n",
      "Epoch 39/100\n",
      "2/2 [==============================] - 0s 903us/step - loss: 10.0178 - mae: 10.0178\n",
      "Epoch 40/100\n",
      "2/2 [==============================] - 0s 2ms/step - loss: 10.8005 - mae: 10.8005\n",
      "Epoch 41/100\n",
      "2/2 [==============================] - 0s 1ms/step - loss: 7.7789 - mae: 7.7789\n",
      "Epoch 42/100\n",
      "2/2 [==============================] - 0s 2ms/step - loss: 10.2844 - mae: 10.2844\n",
      "Epoch 43/100\n",
      "2/2 [==============================] - 0s 872us/step - loss: 8.9628 - mae: 8.9628\n",
      "Epoch 44/100\n",
      "2/2 [==============================] - 0s 1ms/step - loss: 12.6243 - mae: 12.6243\n",
      "Epoch 45/100\n",
      "2/2 [==============================] - 0s 2ms/step - loss: 14.1236 - mae: 14.1236\n",
      "Epoch 46/100\n",
      "2/2 [==============================] - 0s 1ms/step - loss: 8.2681 - mae: 8.2681\n",
      "Epoch 47/100\n",
      "2/2 [==============================] - 0s 993us/step - loss: 9.0126 - mae: 9.0126\n",
      "Epoch 48/100\n",
      "2/2 [==============================] - 0s 1ms/step - loss: 10.6882 - mae: 10.6882\n",
      "Epoch 49/100\n",
      "2/2 [==============================] - 0s 983us/step - loss: 7.7431 - mae: 7.7431\n",
      "Epoch 50/100\n",
      "2/2 [==============================] - 0s 1ms/step - loss: 9.3950 - mae: 9.3950\n",
      "Epoch 51/100\n",
      "2/2 [==============================] - 0s 1ms/step - loss: 8.9267 - mae: 8.9267\n",
      "Epoch 52/100\n",
      "2/2 [==============================] - 0s 1ms/step - loss: 16.9818 - mae: 16.9818\n",
      "Epoch 53/100\n",
      "2/2 [==============================] - 0s 787us/step - loss: 14.8677 - mae: 14.8677\n",
      "Epoch 54/100\n",
      "2/2 [==============================] - 0s 976us/step - loss: 22.0413 - mae: 22.0413\n",
      "Epoch 55/100\n",
      "2/2 [==============================] - 0s 784us/step - loss: 17.0640 - mae: 17.0640\n",
      "Epoch 56/100\n",
      "2/2 [==============================] - 0s 922us/step - loss: 9.9520 - mae: 9.9520\n",
      "Epoch 57/100\n",
      "2/2 [==============================] - 0s 975us/step - loss: 9.7522 - mae: 9.7522\n",
      "Epoch 58/100\n",
      "2/2 [==============================] - 0s 2ms/step - loss: 9.4378 - mae: 9.4378\n",
      "Epoch 59/100\n",
      "2/2 [==============================] - 0s 2ms/step - loss: 8.3373 - mae: 8.3373\n",
      "Epoch 60/100\n",
      "2/2 [==============================] - 0s 1ms/step - loss: 9.6425 - mae: 9.6425\n",
      "Epoch 61/100\n",
      "2/2 [==============================] - 0s 930us/step - loss: 11.7590 - mae: 11.7590\n",
      "Epoch 62/100\n",
      "2/2 [==============================] - 0s 778us/step - loss: 11.7187 - mae: 11.7187\n",
      "Epoch 63/100\n",
      "2/2 [==============================] - 0s 1ms/step - loss: 7.2316 - mae: 7.2316\n",
      "Epoch 64/100\n",
      "2/2 [==============================] - 0s 977us/step - loss: 17.7848 - mae: 17.7848\n",
      "Epoch 65/100\n",
      "2/2 [==============================] - 0s 1ms/step - loss: 12.6256 - mae: 12.6256\n",
      "Epoch 66/100\n",
      "2/2 [==============================] - 0s 1ms/step - loss: 13.2840 - mae: 13.2840\n",
      "Epoch 67/100\n",
      "2/2 [==============================] - 0s 1ms/step - loss: 7.8471 - mae: 7.8471\n",
      "Epoch 68/100\n",
      "2/2 [==============================] - 0s 938us/step - loss: 9.9708 - mae: 9.9708\n",
      "Epoch 69/100\n",
      "2/2 [==============================] - 0s 730us/step - loss: 12.4903 - mae: 12.4903\n",
      "Epoch 70/100\n",
      "2/2 [==============================] - 0s 780us/step - loss: 8.5001 - mae: 8.5001\n",
      "Epoch 71/100\n",
      "2/2 [==============================] - 0s 839us/step - loss: 9.9996 - mae: 9.9996\n",
      "Epoch 72/100\n",
      "2/2 [==============================] - 0s 1ms/step - loss: 10.1797 - mae: 10.1797\n",
      "Epoch 73/100\n",
      "2/2 [==============================] - 0s 800us/step - loss: 13.0024 - mae: 13.0024\n",
      "Epoch 74/100\n",
      "2/2 [==============================] - ETA: 0s - loss: 10.3798 - mae: 10.379 - 0s 1ms/step - loss: 10.3812 - mae: 10.3812\n",
      "Epoch 75/100\n",
      "2/2 [==============================] - 0s 1ms/step - loss: 9.7621 - mae: 9.7621\n",
      "Epoch 76/100\n",
      "2/2 [==============================] - 0s 867us/step - loss: 11.5186 - mae: 11.5186\n",
      "Epoch 77/100\n",
      "2/2 [==============================] - 0s 1ms/step - loss: 8.3070 - mae: 8.3070\n",
      "Epoch 78/100\n",
      "2/2 [==============================] - 0s 2ms/step - loss: 9.4436 - mae: 9.4436\n",
      "Epoch 79/100\n",
      "2/2 [==============================] - 0s 1ms/step - loss: 20.3897 - mae: 20.3897\n",
      "Epoch 80/100\n",
      "2/2 [==============================] - 0s 1ms/step - loss: 15.4751 - mae: 15.4751\n",
      "Epoch 81/100\n",
      "2/2 [==============================] - 0s 1ms/step - loss: 9.0208 - mae: 9.0208\n",
      "Epoch 82/100\n",
      "2/2 [==============================] - 0s 3ms/step - loss: 13.3869 - mae: 13.3869\n",
      "Epoch 83/100\n",
      "2/2 [==============================] - 0s 881us/step - loss: 7.9649 - mae: 7.9649\n",
      "Epoch 84/100\n",
      "2/2 [==============================] - 0s 1ms/step - loss: 7.5702 - mae: 7.5702\n",
      "Epoch 85/100\n",
      "2/2 [==============================] - 0s 1ms/step - loss: 9.9706 - mae: 9.9706\n",
      "Epoch 86/100\n"
     ]
    },
    {
     "name": "stdout",
     "output_type": "stream",
     "text": [
      "2/2 [==============================] - 0s 1ms/step - loss: 9.0533 - mae: 9.0533\n",
      "Epoch 87/100\n",
      "2/2 [==============================] - 0s 1ms/step - loss: 12.2670 - mae: 12.2670\n",
      "Epoch 88/100\n",
      "2/2 [==============================] - 0s 2ms/step - loss: 10.6052 - mae: 10.6052\n",
      "Epoch 89/100\n",
      "2/2 [==============================] - 0s 2ms/step - loss: 7.1986 - mae: 7.1986\n",
      "Epoch 90/100\n",
      "2/2 [==============================] - 0s 2ms/step - loss: 13.0379 - mae: 13.0379\n",
      "Epoch 91/100\n",
      "2/2 [==============================] - 0s 886us/step - loss: 7.1968 - mae: 7.1968\n",
      "Epoch 92/100\n",
      "2/2 [==============================] - 0s 2ms/step - loss: 7.5386 - mae: 7.5386\n",
      "Epoch 93/100\n",
      "2/2 [==============================] - 0s 2ms/step - loss: 7.0932 - mae: 7.0932\n",
      "Epoch 94/100\n",
      "2/2 [==============================] - 0s 2ms/step - loss: 12.8860 - mae: 12.8860\n",
      "Epoch 95/100\n",
      "2/2 [==============================] - 0s 1ms/step - loss: 9.9620 - mae: 9.9620\n",
      "Epoch 96/100\n",
      "2/2 [==============================] - 0s 1ms/step - loss: 8.7739 - mae: 8.7739\n",
      "Epoch 97/100\n",
      "2/2 [==============================] - 0s 3ms/step - loss: 13.0861 - mae: 13.0861\n",
      "Epoch 98/100\n",
      "2/2 [==============================] - 0s 4ms/step - loss: 8.3848 - mae: 8.3848\n",
      "Epoch 99/100\n",
      "2/2 [==============================] - 0s 2ms/step - loss: 9.7828 - mae: 9.7828\n",
      "Epoch 100/100\n",
      "2/2 [==============================] - 0s 3ms/step - loss: 8.5252 - mae: 8.5252\n"
     ]
    },
    {
     "data": {
      "text/plain": [
       "<tensorflow.python.keras.callbacks.History at 0x7f93c8a24970>"
      ]
     },
     "execution_count": 43,
     "metadata": {},
     "output_type": "execute_result"
    }
   ],
   "source": [
    "# Set random seed\n",
    "tf.random.set_seed(42)\n",
    "\n",
    "# Replicate original model\n",
    "model_1 = tf.keras.Sequential([\n",
    "  tf.keras.layers.Dense(1)\n",
    "])\n",
    "\n",
    "# Compile the model\n",
    "model_1.compile(loss=tf.keras.losses.mae,\n",
    "                optimizer=tf.keras.optimizers.SGD(),\n",
    "                metrics=['mae'])\n",
    "\n",
    "# Fit the model\n",
    "model_1.fit(X_train, y_train, epochs=100)"
   ]
  },
  {
   "cell_type": "code",
   "execution_count": 44,
   "metadata": {
    "colab": {
     "base_uri": "https://localhost:8080/",
     "height": 428
    },
    "id": "A-Da56xspOrY",
    "outputId": "c3d54795-1607-474f-a2ca-065cd3eb8d5c"
   },
   "outputs": [
    {
     "data": {
      "image/png": "[encoded data removed]",
      "text/plain": [
       "<Figure size 720x504 with 1 Axes>"
      ]
     },
     "metadata": {
      "needs_background": "light"
     },
     "output_type": "display_data"
    }
   ],
   "source": [
    "# Make and plot predictions for model_1\n",
    "y_preds_1 = model_1.predict(X_test)\n",
    "plot_predictions(predictions=y_preds_1)"
   ]
  },
  {
   "cell_type": "code",
   "execution_count": 45,
   "metadata": {
    "colab": {
     "base_uri": "https://localhost:8080/"
    },
    "id": "EXxHBAtHoSh2",
    "outputId": "374608b9-155f-4252-c9ad-c32e0ac1306b"
   },
   "outputs": [
    {
     "data": {
      "text/plain": [
       "(18.745327, 353.57336)"
      ]
     },
     "execution_count": 45,
     "metadata": {},
     "output_type": "execute_result"
    }
   ],
   "source": [
    "# Calculate model_1 metrics\n",
    "mae_1 = mae(y_test, y_preds_1.squeeze()).numpy()\n",
    "mse_1 = mse(y_test, y_preds_1.squeeze()).numpy()\n",
    "mae_1, mse_1"
   ]
  },
  {
   "cell_type": "markdown",
   "metadata": {
    "id": "XXELOpdBrE9_"
   },
   "source": [
    "**Build `model_2`**\n",
    "\n",
    "This time we'll add an extra dense layer (so now our model will have 2 layers) whilst keeping everything else the same."
   ]
  },
  {
   "cell_type": "code",
   "execution_count": 46,
   "metadata": {
    "colab": {
     "base_uri": "https://localhost:8080/"
    },
    "id": "05vcgEP3rEFi",
    "outputId": "efcfdc73-7e52-4f92-c9be-f0a9705bb8b4"
   },
   "outputs": [
    {
     "data": {
      "text/plain": [
       "<tensorflow.python.keras.callbacks.History at 0x7f93c8a87f70>"
      ]
     },
     "execution_count": 46,
     "metadata": {},
     "output_type": "execute_result"
    }
   ],
   "source": [
    "# Set random seed\n",
    "tf.random.set_seed(42)\n",
    "\n",
    "# Replicate model_1 and add an extra layer\n",
    "model_2 = tf.keras.Sequential([\n",
    "  tf.keras.layers.Dense(1),\n",
    "  tf.keras.layers.Dense(1) # add a second layer\n",
    "])\n",
    "\n",
    "# Compile the model\n",
    "model_2.compile(loss=tf.keras.losses.mae,\n",
    "                optimizer=tf.keras.optimizers.SGD(),\n",
    "                metrics=['mae'])\n",
    "\n",
    "# Fit the model\n",
    "model_2.fit(X_train, y_train, epochs=100, verbose=0) # set verbose to 0 for less output"
   ]
  },
  {
   "cell_type": "code",
   "execution_count": 47,
   "metadata": {
    "colab": {
     "base_uri": "https://localhost:8080/",
     "height": 465
    },
    "id": "9xCbDcoDraux",
    "outputId": "ab90da58-ae1e-4639-b210-9dfee04d8426"
   },
   "outputs": [
    {
     "name": "stdout",
     "output_type": "stream",
     "text": [
      "WARNING:tensorflow:5 out of the last 5 calls to <function Model.make_predict_function.<locals>.predict_function at 0x7f93e8e8e1f0> triggered tf.function retracing. Tracing is expensive and the excessive number of tracings could be due to (1) creating @tf.function repeatedly in a loop, (2) passing tensors with different shapes, (3) passing Python objects instead of tensors. For (1), please define your @tf.function outside of the loop. For (2), @tf.function has experimental_relax_shapes=True option that relaxes argument shapes that can avoid unnecessary retracing. For (3), please refer to https://www.tensorflow.org/guide/function#controlling_retracing and https://www.tensorflow.org/api_docs/python/tf/function for  more details.\n"
     ]
    },
    {
     "data": {
      "image/png": "[encoded data removed]",
      "text/plain": [
       "<Figure size 720x504 with 1 Axes>"
      ]
     },
     "metadata": {
      "needs_background": "light"
     },
     "output_type": "display_data"
    }
   ],
   "source": [
    "# Make and plot predictions for model_2\n",
    "y_preds_2 = model_2.predict(X_test)\n",
    "plot_predictions(predictions=y_preds_2)"
   ]
  },
  {
   "cell_type": "markdown",
   "metadata": {
    "id": "GxMYu5Frri6o"
   },
   "source": [
    "Woah, that's looking better already! And all it took was an extra layer."
   ]
  },
  {
   "cell_type": "code",
   "execution_count": 48,
   "metadata": {
    "colab": {
     "base_uri": "https://localhost:8080/"
    },
    "id": "9LnPuGaBrcrP",
    "outputId": "2d2f9761-fca9-4da2-a470-d2194d3edf35"
   },
   "outputs": [
    {
     "data": {
      "text/plain": [
       "(1.9097328, 5.45877)"
      ]
     },
     "execution_count": 48,
     "metadata": {},
     "output_type": "execute_result"
    }
   ],
   "source": [
    "# Calculate model_2 metrics\n",
    "mae_2 = mae(y_test, y_preds_2.squeeze()).numpy()\n",
    "mse_2 = mse(y_test, y_preds_2.squeeze()).numpy()\n",
    "mae_2, mse_2"
   ]
  },
  {
   "cell_type": "markdown",
   "metadata": {
    "id": "R8i9yfQGrwHx"
   },
   "source": [
    "**Build `model_3`**\n",
    "\n",
    "For our 3rd model, we'll keep everything the same as `model_2` except this time we'll train for longer (500 epochs instead of 100).\n",
    "\n",
    "This will give our model more of a chance to learn the patterns in the data."
   ]
  },
  {
   "cell_type": "code",
   "execution_count": 49,
   "metadata": {
    "colab": {
     "base_uri": "https://localhost:8080/"
    },
    "id": "ABGwQFsbrvUS",
    "outputId": "8b839e0e-df92-4308-da5a-2e65984b99c6"
   },
   "outputs": [
    {
     "data": {
      "text/plain": [
       "<tensorflow.python.keras.callbacks.History at 0x7f93dccee2e0>"
      ]
     },
     "execution_count": 49,
     "metadata": {},
     "output_type": "execute_result"
    }
   ],
   "source": [
    "# Set random seed\n",
    "tf.random.set_seed(42)\n",
    "\n",
    "# Replicate model_2\n",
    "model_3 = tf.keras.Sequential([\n",
    "  tf.keras.layers.Dense(1),\n",
    "  tf.keras.layers.Dense(1)\n",
    "])\n",
    "\n",
    "# Compile the model\n",
    "model_3.compile(loss=tf.keras.losses.mae,\n",
    "                optimizer=tf.keras.optimizers.SGD(),\n",
    "                metrics=['mae'])\n",
    "\n",
    "# Fit the model (this time for 500 epochs, not 100)\n",
    "model_3.fit(X_train, y_train, epochs=500, verbose=0) # set verbose to 0 for less output"
   ]
  },
  {
   "cell_type": "code",
   "execution_count": 50,
   "metadata": {
    "colab": {
     "base_uri": "https://localhost:8080/",
     "height": 465
    },
    "id": "jEz4bVmasbFk",
    "outputId": "37b79c36-ae29-494a-a90a-95300857ad7a"
   },
   "outputs": [
    {
     "name": "stdout",
     "output_type": "stream",
     "text": [
      "WARNING:tensorflow:6 out of the last 6 calls to <function Model.make_predict_function.<locals>.predict_function at 0x7f93dcce7670> triggered tf.function retracing. Tracing is expensive and the excessive number of tracings could be due to (1) creating @tf.function repeatedly in a loop, (2) passing tensors with different shapes, (3) passing Python objects instead of tensors. For (1), please define your @tf.function outside of the loop. For (2), @tf.function has experimental_relax_shapes=True option that relaxes argument shapes that can avoid unnecessary retracing. For (3), please refer to https://www.tensorflow.org/guide/function#controlling_retracing and https://www.tensorflow.org/api_docs/python/tf/function for  more details.\n"
     ]
    },
    {
     "data": {
      "image/png": "[encoded data removed]",
      "text/plain": [
       "<Figure size 720x504 with 1 Axes>"
      ]
     },
     "metadata": {
      "needs_background": "light"
     },
     "output_type": "display_data"
    }
   ],
   "source": [
    "# Make and plot predictions for model_3\n",
    "y_preds_3 = model_3.predict(X_test)\n",
    "plot_predictions(predictions=y_preds_3)"
   ]
  },
  {
   "cell_type": "markdown",
   "metadata": {
    "id": "38Ki8ZHcsztG"
   },
   "source": [
    "Strange, we trained for longer but our model performed worse?\n",
    "\n",
    "As it turns out, our model might've trained too long and has thus resulted in worse results (we'll see ways to prevent training for too long later on)."
   ]
  },
  {
   "cell_type": "code",
   "execution_count": 51,
   "metadata": {
    "colab": {
     "base_uri": "https://localhost:8080/"
    },
    "id": "BPTUcFe4sbfk",
    "outputId": "fac9412b-1c17-4def-bac4-9098ba9d409d"
   },
   "outputs": [
    {
     "data": {
      "text/plain": [
       "(68.68784, 4804.469)"
      ]
     },
     "execution_count": 51,
     "metadata": {},
     "output_type": "execute_result"
    }
   ],
   "source": [
    "# Calculate model_3 metrics\n",
    "mae_3 = mae(y_test, y_preds_3.squeeze()).numpy()\n",
    "mse_3 = mse(y_test, y_preds_3.squeeze()).numpy()\n",
    "mae_3, mse_3"
   ]
  },
  {
   "cell_type": "markdown",
   "metadata": {
    "id": "UPEeM3UsrxGB"
   },
   "source": [
    "## Comparing results\n",
    "\n",
    "Now we've got results for 3 similar but slightly different results, let's compare them."
   ]
  },
  {
   "cell_type": "code",
   "execution_count": 52,
   "metadata": {
    "id": "mw5RZk-BqLZd"
   },
   "outputs": [],
   "source": [
    "model_results = [[\"model_1\", mae_1, mse_1],\n",
    "                 [\"model_2\", mae_2, mse_2],\n",
    "                 [\"model_3\", mae_3, mae_3]]"
   ]
  },
  {
   "cell_type": "code",
   "execution_count": 53,
   "metadata": {
    "colab": {
     "base_uri": "https://localhost:8080/",
     "height": 136
    },
    "id": "Ip7bKH83p5X0",
    "outputId": "0ca9c01f-d6f7-4a15-b0be-a7c497e076eb"
   },
   "outputs": [
    {
     "data": {
      "text/html": [
       "<div>\n",
       "<style scoped>\n",
       "    .dataframe tbody tr th:only-of-type {\n",
       "        vertical-align: middle;\n",
       "    }\n",
       "\n",
       "    .dataframe tbody tr th {\n",
       "        vertical-align: top;\n",
       "    }\n",
       "\n",
       "    .dataframe thead th {\n",
       "        text-align: right;\n",
       "    }\n",
       "</style>\n",
       "<table border=\"1\" class=\"dataframe\">\n",
       "  <thead>\n",
       "    <tr style=\"text-align: right;\">\n",
       "      <th></th>\n",
       "      <th>model</th>\n",
       "      <th>mae</th>\n",
       "      <th>mse</th>\n",
       "    </tr>\n",
       "  </thead>\n",
       "  <tbody>\n",
       "    <tr>\n",
       "      <th>0</th>\n",
       "      <td>model_1</td>\n",
       "      <td>18.745327</td>\n",
       "      <td>353.573364</td>\n",
       "    </tr>\n",
       "    <tr>\n",
       "      <th>1</th>\n",
       "      <td>model_2</td>\n",
       "      <td>1.909733</td>\n",
       "      <td>5.458770</td>\n",
       "    </tr>\n",
       "    <tr>\n",
       "      <th>2</th>\n",
       "      <td>model_3</td>\n",
       "      <td>68.687843</td>\n",
       "      <td>68.687843</td>\n",
       "    </tr>\n",
       "  </tbody>\n",
       "</table>\n",
       "</div>"
      ],
      "text/plain": [
       "     model        mae         mse\n",
       "0  model_1  18.745327  353.573364\n",
       "1  model_2   1.909733    5.458770\n",
       "2  model_3  68.687843   68.687843"
      ]
     },
     "execution_count": 53,
     "metadata": {},
     "output_type": "execute_result"
    }
   ],
   "source": [
    "import pandas as pd\n",
    "all_results = pd.DataFrame(model_results, columns=[\"model\", \"mae\", \"mse\"])\n",
    "all_results"
   ]
  },
  {
   "cell_type": "markdown",
   "metadata": {
    "id": "o_AtUiwuuLGo"
   },
   "source": [
    "From our experiments, it looks like `model_2` performed the best.\n",
    "\n",
    "And now, you might be thinking, \"wow, comparing models is tedious...\" and it definitely can be, we've only compared 3 models here. \n",
    "\n",
    "But this is part of what machine learning modelling is about, trying many different combinations of models and seeing which performs best.\n",
    "\n",
    "Each model you build is a small experiment. \n",
    "\n",
    "> 🔑 **Note:** One of your main goals should be to minimize the time between your experiments. The more experiments you do, the more things you'll figure out which don't work and in turn, get closer to figuring out what does work. Remember the machine learning practitioner's motto: \"experiment, experiment, experiment\".\n",
    "\n",
    "Another thing you'll also find is what you thought may work (such as training a model for longer) may not always work and the exact opposite is also often the case.\n",
    "\n",
    "## Tracking your experiments\n",
    "\n",
    "One really good habit to get into is tracking your modelling experiments to see which perform better than others.\n",
    "\n",
    "We've done a simple version of this above (keeping the results in different variables).\n",
    "\n",
    "> 📖 **Resource:** But as you build more models, you'll want to look into using tools such as:\n",
    "* [**TensorBoard**](https://tensorboard.dev/) - a component of the TensorFlow library to help track modelling experiments (we'll see this later).\n",
    "* [**Weights & Biases**](https://www.wandb.com/) - a tool for tracking all kinds of machine learning experiments (the good news for Weights & Biases is it plugs into TensorBoard)."
   ]
  },
  {
   "cell_type": "markdown",
   "metadata": {
    "id": "Fe5DgNbX6192"
   },
   "source": [
    "# Saving a model\n",
    "\n",
    "Once you've trained a model and found one which performs to your liking, you'll probably want to save it for use elsewhere (like a web application or mobile device).\n",
    "\n",
    "You can save a TensorFlow/Keras model using [`model.save()`](https://www.tensorflow.org/tutorials/keras/save_and_load#save_the_entire_model).\n",
    "\n",
    "There are two ways to save a model in TensorFlow:\n",
    "1. The [SavedModel format](https://www.tensorflow.org/tutorials/keras/save_and_load#savedmodel_format) (default).\n",
    "2. The [HDF5 format](https://www.tensorflow.org/tutorials/keras/save_and_load#hdf5_format).\n",
    "\n",
    "The main difference between the two is the SavedModel is automatically able to save custom objects (such as special layers) without additional modifications when loading the model back in.\n",
    "\n",
    "Which one should you use?\n",
    "\n",
    "It depends on your situation but the SavedModel format will suffice most of the time.\n",
    "\n",
    "Both methods use the same method call."
   ]
  },
  {
   "cell_type": "code",
   "execution_count": 54,
   "metadata": {
    "colab": {
     "base_uri": "https://localhost:8080/"
    },
    "id": "gg0jD2cUoPsg",
    "outputId": "302b7457-0b55-4418-a2e5-e1e448d3e050"
   },
   "outputs": [
    {
     "name": "stdout",
     "output_type": "stream",
     "text": [
      "INFO:tensorflow:Assets written to: best_model_SavedModel_format/assets\n"
     ]
    }
   ],
   "source": [
    "# Save a model using the SavedModel format\n",
    "model_2.save('best_model_SavedModel_format')"
   ]
  },
  {
   "cell_type": "code",
   "execution_count": 55,
   "metadata": {
    "colab": {
     "base_uri": "https://localhost:8080/"
    },
    "id": "dsCpDYrU7D1j",
    "outputId": "b111ce11-a64a-40f3-8901-4273713447db"
   },
   "outputs": [
    {
     "name": "stdout",
     "output_type": "stream",
     "text": [
      "\u001b[34massets\u001b[m\u001b[m         saved_model.pb \u001b[34mvariables\u001b[m\u001b[m\r\n"
     ]
    }
   ],
   "source": [
    "# Check it out - outputs a protobuf binary file (.pb) as well as other files\n",
    "!ls best_model_SavedModel_format"
   ]
  },
  {
   "cell_type": "markdown",
   "metadata": {
    "id": "NGKmWco_SOEU"
   },
   "source": [
    "Now let's save the model in the HDF5 format, we'll use the same method but with a different filename."
   ]
  },
  {
   "cell_type": "code",
   "execution_count": 56,
   "metadata": {
    "id": "97J6GJMBSM2j"
   },
   "outputs": [],
   "source": [
    "# Save a model using the HDF5 format\n",
    "model_2.save(\"best_model_HDF5_format.h5\") # note the addition of '.h5' on the end"
   ]
  },
  {
   "cell_type": "code",
   "execution_count": 57,
   "metadata": {
    "colab": {
     "base_uri": "https://localhost:8080/"
    },
    "id": "vB7TmsSGSjdv",
    "outputId": "47447b90-93cf-430f-b338-9549a4c7a80e"
   },
   "outputs": [
    {
     "name": "stdout",
     "output_type": "stream",
     "text": [
      "best_model_HDF5_format.h5\r\n"
     ]
    }
   ],
   "source": [
    "# Check it out\n",
    "!ls best_model_HDF5_format.h5"
   ]
  },
  {
   "cell_type": "markdown",
   "metadata": {
    "id": "OGA02tY97EUI"
   },
   "source": [
    "# Loading a model\n",
    "\n",
    "We can load a saved model using the [`load_model()`](https://www.tensorflow.org/api_docs/python/tf/keras/models/load_model) method.\n",
    "\n",
    "Loading a model for the different formats (SavedModel and HDF5) is the same (as long as the pathnames to the particuluar formats are correct)."
   ]
  },
  {
   "cell_type": "code",
   "execution_count": 58,
   "metadata": {
    "colab": {
     "base_uri": "https://localhost:8080/"
    },
    "id": "FzyLIWfs7Fvh",
    "outputId": "e75e4be0-9031-492a-82b1-df9813dbfa9e"
   },
   "outputs": [
    {
     "name": "stdout",
     "output_type": "stream",
     "text": [
      "Model: \"sequential_5\"\n",
      "_________________________________________________________________\n",
      "Layer (type)                 Output Shape              Param #   \n",
      "=================================================================\n",
      "dense_5 (Dense)              (None, 1)                 2         \n",
      "_________________________________________________________________\n",
      "dense_6 (Dense)              (None, 1)                 2         \n",
      "=================================================================\n",
      "Total params: 4\n",
      "Trainable params: 4\n",
      "Non-trainable params: 0\n",
      "_________________________________________________________________\n"
     ]
    }
   ],
   "source": [
    "# Load a model from the SavedModel format\n",
    "loaded_saved_model = tf.keras.models.load_model(\"best_model_SavedModel_format\")\n",
    "loaded_saved_model.summary()"
   ]
  },
  {
   "cell_type": "markdown",
   "metadata": {
    "id": "MfGO0dCQTeQh"
   },
   "source": [
    "Now let's test it out."
   ]
  },
  {
   "cell_type": "code",
   "execution_count": 59,
   "metadata": {
    "colab": {
     "base_uri": "https://localhost:8080/"
    },
    "id": "7rehN8ZxTy43",
    "outputId": "21f5abf1-d4d0-4724-f0c4-af6b36adab66"
   },
   "outputs": [
    {
     "name": "stdout",
     "output_type": "stream",
     "text": [
      "WARNING:tensorflow:7 out of the last 8 calls to <function Model.make_predict_function.<locals>.predict_function at 0x7f93dcce7040> triggered tf.function retracing. Tracing is expensive and the excessive number of tracings could be due to (1) creating @tf.function repeatedly in a loop, (2) passing tensors with different shapes, (3) passing Python objects instead of tensors. For (1), please define your @tf.function outside of the loop. For (2), @tf.function has experimental_relax_shapes=True option that relaxes argument shapes that can avoid unnecessary retracing. For (3), please refer to https://www.tensorflow.org/guide/function#controlling_retracing and https://www.tensorflow.org/api_docs/python/tf/function for  more details.\n"
     ]
    },
    {
     "data": {
      "text/plain": [
       "True"
      ]
     },
     "execution_count": 59,
     "metadata": {},
     "output_type": "execute_result"
    }
   ],
   "source": [
    "# Compare model_2 with the SavedModel version (should return True)\n",
    "model_2_preds = model_2.predict(X_test)\n",
    "saved_model_preds = loaded_saved_model.predict(X_test)\n",
    "mae(y_test, saved_model_preds.squeeze()).numpy() == mae(y_test, model_2_preds.squeeze()).numpy()"
   ]
  },
  {
   "cell_type": "markdown",
   "metadata": {
    "id": "prjkfX6rUZ6a"
   },
   "source": [
    "Loading in from the HDF5 is much the same."
   ]
  },
  {
   "cell_type": "code",
   "execution_count": 60,
   "metadata": {
    "colab": {
     "base_uri": "https://localhost:8080/"
    },
    "id": "dQfx-bWKUfRQ",
    "outputId": "4ed850bd-6f03-4278-c1ec-e81c5ea2c3c3"
   },
   "outputs": [
    {
     "name": "stdout",
     "output_type": "stream",
     "text": [
      "Model: \"sequential_5\"\n",
      "_________________________________________________________________\n",
      "Layer (type)                 Output Shape              Param #   \n",
      "=================================================================\n",
      "dense_5 (Dense)              (None, 1)                 2         \n",
      "_________________________________________________________________\n",
      "dense_6 (Dense)              (None, 1)                 2         \n",
      "=================================================================\n",
      "Total params: 4\n",
      "Trainable params: 4\n",
      "Non-trainable params: 0\n",
      "_________________________________________________________________\n"
     ]
    }
   ],
   "source": [
    "# Load a model from the HDF5 format\n",
    "loaded_h5_model = tf.keras.models.load_model(\"best_model_HDF5_format.h5\")\n",
    "loaded_h5_model.summary()"
   ]
  },
  {
   "cell_type": "code",
   "execution_count": 61,
   "metadata": {
    "colab": {
     "base_uri": "https://localhost:8080/"
    },
    "id": "L0kT91h-Uru-",
    "outputId": "5968cbb9-26f3-436d-9f05-70d5f00f6a7f"
   },
   "outputs": [
    {
     "name": "stdout",
     "output_type": "stream",
     "text": [
      "WARNING:tensorflow:8 out of the last 9 calls to <function Model.make_predict_function.<locals>.predict_function at 0x7f93dcc7e280> triggered tf.function retracing. Tracing is expensive and the excessive number of tracings could be due to (1) creating @tf.function repeatedly in a loop, (2) passing tensors with different shapes, (3) passing Python objects instead of tensors. For (1), please define your @tf.function outside of the loop. For (2), @tf.function has experimental_relax_shapes=True option that relaxes argument shapes that can avoid unnecessary retracing. For (3), please refer to https://www.tensorflow.org/guide/function#controlling_retracing and https://www.tensorflow.org/api_docs/python/tf/function for  more details.\n"
     ]
    },
    {
     "data": {
      "text/plain": [
       "True"
      ]
     },
     "execution_count": 61,
     "metadata": {},
     "output_type": "execute_result"
    }
   ],
   "source": [
    "# Compare model_2 with the loaded HDF5 version (should return True)\n",
    "h5_model_preds = loaded_h5_model.predict(X_test)\n",
    "mae(y_test, h5_model_preds.squeeze()).numpy() == mae(y_test, model_2_preds.squeeze()).numpy()"
   ]
  },
  {
   "cell_type": "markdown",
   "metadata": {
    "id": "ABtsYBDtr5Zz"
   },
   "source": [
    "# Downloading a model (from Google Colab)\n",
    "\n",
    "Say you wanted to get your model from Google Colab to your local machine, you can do one of the following things:\n",
    "* Right click on the file in the files pane and click 'download'.\n",
    "* Use the code below."
   ]
  },
  {
   "cell_type": "code",
   "execution_count": 62,
   "metadata": {
    "colab": {
     "base_uri": "https://localhost:8080/",
     "height": 17
    },
    "id": "JV0onjIIr9XC",
    "outputId": "4e668bb6-298d-429c-f250-5f8bf7c69e03"
   },
   "outputs": [
    {
     "data": {
      "text/plain": [
       "<tensorflow.python.keras.engine.sequential.Sequential at 0x7f93dcc72df0>"
      ]
     },
     "execution_count": 62,
     "metadata": {},
     "output_type": "execute_result"
    }
   ],
   "source": [
    "# Download the model (or any file) from Google Colab\n",
    "# from google.colab import files\n",
    "# files.download(\"best_model_HDF5_format.h5\")"
   ]
  },
  {
   "cell_type": "markdown",
   "metadata": {
    "id": "7xpVdMtKw6X4"
   },
   "source": [
    "# A larger example\n",
    "\n",
    "Alright, we've seen the fundamentals of building neural network regression models in TensorFlow.\n",
    "\n",
    "Let's step it up a notch and build a model for a more feature rich datase.\n",
    "\n",
    "More specifically we're going to try predict the cost of medical insurance for individuals based on a number of different parameters such as, `age`, `sex`, `bmi`, `children`, `smoking_status` and `residential_region`.\n",
    "\n",
    "To do, we'll leverage the pubically available [Medical Cost dataset](https://www.kaggle.com/mirichoi0218/insurance) available from Kaggle and [hosted on GitHub](https://github.com/stedy/Machine-Learning-with-R-datasets/blob/master/insurance.csv).\n",
    "\n",
    "> 🔑 **Note:** When learning machine learning paradigms, you'll often go through a series of foundational techniques and then practice them by working with open-source datasets and examples. Just as we're doing now, learn foundations, put them to work with different problems. Every time you work on something new, it's a good idea to search for something like \"problem X example with Python/TensorFlow\" where you substitute X for your problem."
   ]
  },
  {
   "cell_type": "code",
   "execution_count": 63,
   "metadata": {
    "id": "WWK1LBxapgc2"
   },
   "outputs": [],
   "source": [
    "# Import required libraries\n",
    "import tensorflow as tf\n",
    "import pandas as pd\n",
    "import matplotlib.pyplot as plt"
   ]
  },
  {
   "cell_type": "code",
   "execution_count": 64,
   "metadata": {
    "id": "JrnTr5N9blFo"
   },
   "outputs": [],
   "source": [
    "# Read in the insurance dataset\n",
    "insurance = pd.read_csv(\"https://raw.githubusercontent.com/stedy/Machine-Learning-with-R-datasets/master/insurance.csv\")"
   ]
  },
  {
   "cell_type": "code",
   "execution_count": 65,
   "metadata": {
    "colab": {
     "base_uri": "https://localhost:8080/",
     "height": 195
    },
    "id": "QtXPN7cfb4Nm",
    "outputId": "39cf3114-3a57-4ad3-cab9-4d55728064c9"
   },
   "outputs": [
    {
     "data": {
      "text/html": [
       "<div>\n",
       "<style scoped>\n",
       "    .dataframe tbody tr th:only-of-type {\n",
       "        vertical-align: middle;\n",
       "    }\n",
       "\n",
       "    .dataframe tbody tr th {\n",
       "        vertical-align: top;\n",
       "    }\n",
       "\n",
       "    .dataframe thead th {\n",
       "        text-align: right;\n",
       "    }\n",
       "</style>\n",
       "<table border=\"1\" class=\"dataframe\">\n",
       "  <thead>\n",
       "    <tr style=\"text-align: right;\">\n",
       "      <th></th>\n",
       "      <th>age</th>\n",
       "      <th>sex</th>\n",
       "      <th>bmi</th>\n",
       "      <th>children</th>\n",
       "      <th>smoker</th>\n",
       "      <th>region</th>\n",
       "      <th>charges</th>\n",
       "    </tr>\n",
       "  </thead>\n",
       "  <tbody>\n",
       "    <tr>\n",
       "      <th>0</th>\n",
       "      <td>19</td>\n",
       "      <td>female</td>\n",
       "      <td>27.900</td>\n",
       "      <td>0</td>\n",
       "      <td>yes</td>\n",
       "      <td>southwest</td>\n",
       "      <td>16884.92400</td>\n",
       "    </tr>\n",
       "    <tr>\n",
       "      <th>1</th>\n",
       "      <td>18</td>\n",
       "      <td>male</td>\n",
       "      <td>33.770</td>\n",
       "      <td>1</td>\n",
       "      <td>no</td>\n",
       "      <td>southeast</td>\n",
       "      <td>1725.55230</td>\n",
       "    </tr>\n",
       "    <tr>\n",
       "      <th>2</th>\n",
       "      <td>28</td>\n",
       "      <td>male</td>\n",
       "      <td>33.000</td>\n",
       "      <td>3</td>\n",
       "      <td>no</td>\n",
       "      <td>southeast</td>\n",
       "      <td>4449.46200</td>\n",
       "    </tr>\n",
       "    <tr>\n",
       "      <th>3</th>\n",
       "      <td>33</td>\n",
       "      <td>male</td>\n",
       "      <td>22.705</td>\n",
       "      <td>0</td>\n",
       "      <td>no</td>\n",
       "      <td>northwest</td>\n",
       "      <td>21984.47061</td>\n",
       "    </tr>\n",
       "    <tr>\n",
       "      <th>4</th>\n",
       "      <td>32</td>\n",
       "      <td>male</td>\n",
       "      <td>28.880</td>\n",
       "      <td>0</td>\n",
       "      <td>no</td>\n",
       "      <td>northwest</td>\n",
       "      <td>3866.85520</td>\n",
       "    </tr>\n",
       "  </tbody>\n",
       "</table>\n",
       "</div>"
      ],
      "text/plain": [
       "   age     sex     bmi  children smoker     region      charges\n",
       "0   19  female  27.900         0    yes  southwest  16884.92400\n",
       "1   18    male  33.770         1     no  southeast   1725.55230\n",
       "2   28    male  33.000         3     no  southeast   4449.46200\n",
       "3   33    male  22.705         0     no  northwest  21984.47061\n",
       "4   32    male  28.880         0     no  northwest   3866.85520"
      ]
     },
     "execution_count": 65,
     "metadata": {},
     "output_type": "execute_result"
    }
   ],
   "source": [
    "# Check out the insurance dataset\n",
    "insurance.head()"
   ]
  },
  {
   "cell_type": "markdown",
   "metadata": {
    "id": "s55oIsYv0KkZ"
   },
   "source": [
    "We're going to have to turn the non-numerical columns into numbers (because a neural network can't handle non-numerical inputs).\n",
    "\n",
    "To do so, we'll use the [`get_dummies()`](https://pandas.pydata.org/pandas-docs/stable/reference/api/pandas.get_dummies.html) method in pandas.\n",
    "\n",
    "It converts categorical variables (like the `sex`, `smoker` and `region` columns) into numerical variables using one-hot encoding."
   ]
  },
  {
   "cell_type": "code",
   "execution_count": 66,
   "metadata": {
    "colab": {
     "base_uri": "https://localhost:8080/",
     "height": 215
    },
    "id": "MqM_BmPkdon8",
    "outputId": "a1456aaa-4d07-4c24-bf9d-5b3a7777647f"
   },
   "outputs": [
    {
     "data": {
      "text/html": [
       "<div>\n",
       "<style scoped>\n",
       "    .dataframe tbody tr th:only-of-type {\n",
       "        vertical-align: middle;\n",
       "    }\n",
       "\n",
       "    .dataframe tbody tr th {\n",
       "        vertical-align: top;\n",
       "    }\n",
       "\n",
       "    .dataframe thead th {\n",
       "        text-align: right;\n",
       "    }\n",
       "</style>\n",
       "<table border=\"1\" class=\"dataframe\">\n",
       "  <thead>\n",
       "    <tr style=\"text-align: right;\">\n",
       "      <th></th>\n",
       "      <th>age</th>\n",
       "      <th>bmi</th>\n",
       "      <th>children</th>\n",
       "      <th>charges</th>\n",
       "      <th>sex_female</th>\n",
       "      <th>sex_male</th>\n",
       "      <th>smoker_no</th>\n",
       "      <th>smoker_yes</th>\n",
       "      <th>region_northeast</th>\n",
       "      <th>region_northwest</th>\n",
       "      <th>region_southeast</th>\n",
       "      <th>region_southwest</th>\n",
       "    </tr>\n",
       "  </thead>\n",
       "  <tbody>\n",
       "    <tr>\n",
       "      <th>0</th>\n",
       "      <td>19</td>\n",
       "      <td>27.900</td>\n",
       "      <td>0</td>\n",
       "      <td>16884.92400</td>\n",
       "      <td>1</td>\n",
       "      <td>0</td>\n",
       "      <td>0</td>\n",
       "      <td>1</td>\n",
       "      <td>0</td>\n",
       "      <td>0</td>\n",
       "      <td>0</td>\n",
       "      <td>1</td>\n",
       "    </tr>\n",
       "    <tr>\n",
       "      <th>1</th>\n",
       "      <td>18</td>\n",
       "      <td>33.770</td>\n",
       "      <td>1</td>\n",
       "      <td>1725.55230</td>\n",
       "      <td>0</td>\n",
       "      <td>1</td>\n",
       "      <td>1</td>\n",
       "      <td>0</td>\n",
       "      <td>0</td>\n",
       "      <td>0</td>\n",
       "      <td>1</td>\n",
       "      <td>0</td>\n",
       "    </tr>\n",
       "    <tr>\n",
       "      <th>2</th>\n",
       "      <td>28</td>\n",
       "      <td>33.000</td>\n",
       "      <td>3</td>\n",
       "      <td>4449.46200</td>\n",
       "      <td>0</td>\n",
       "      <td>1</td>\n",
       "      <td>1</td>\n",
       "      <td>0</td>\n",
       "      <td>0</td>\n",
       "      <td>0</td>\n",
       "      <td>1</td>\n",
       "      <td>0</td>\n",
       "    </tr>\n",
       "    <tr>\n",
       "      <th>3</th>\n",
       "      <td>33</td>\n",
       "      <td>22.705</td>\n",
       "      <td>0</td>\n",
       "      <td>21984.47061</td>\n",
       "      <td>0</td>\n",
       "      <td>1</td>\n",
       "      <td>1</td>\n",
       "      <td>0</td>\n",
       "      <td>0</td>\n",
       "      <td>1</td>\n",
       "      <td>0</td>\n",
       "      <td>0</td>\n",
       "    </tr>\n",
       "    <tr>\n",
       "      <th>4</th>\n",
       "      <td>32</td>\n",
       "      <td>28.880</td>\n",
       "      <td>0</td>\n",
       "      <td>3866.85520</td>\n",
       "      <td>0</td>\n",
       "      <td>1</td>\n",
       "      <td>1</td>\n",
       "      <td>0</td>\n",
       "      <td>0</td>\n",
       "      <td>1</td>\n",
       "      <td>0</td>\n",
       "      <td>0</td>\n",
       "    </tr>\n",
       "  </tbody>\n",
       "</table>\n",
       "</div>"
      ],
      "text/plain": [
       "   age     bmi  children      charges  sex_female  sex_male  smoker_no  \\\n",
       "0   19  27.900         0  16884.92400           1         0          0   \n",
       "1   18  33.770         1   1725.55230           0         1          1   \n",
       "2   28  33.000         3   4449.46200           0         1          1   \n",
       "3   33  22.705         0  21984.47061           0         1          1   \n",
       "4   32  28.880         0   3866.85520           0         1          1   \n",
       "\n",
       "   smoker_yes  region_northeast  region_northwest  region_southeast  \\\n",
       "0           1                 0                 0                 0   \n",
       "1           0                 0                 0                 1   \n",
       "2           0                 0                 0                 1   \n",
       "3           0                 0                 1                 0   \n",
       "4           0                 0                 1                 0   \n",
       "\n",
       "   region_southwest  \n",
       "0                 1  \n",
       "1                 0  \n",
       "2                 0  \n",
       "3                 0  \n",
       "4                 0  "
      ]
     },
     "execution_count": 66,
     "metadata": {},
     "output_type": "execute_result"
    }
   ],
   "source": [
    "# Turn all categories into numbers\n",
    "insurance_one_hot = pd.get_dummies(insurance)\n",
    "insurance_one_hot.head() # view the converted columns"
   ]
  },
  {
   "cell_type": "markdown",
   "metadata": {
    "id": "zOHoPzgqgZPq"
   },
   "source": [
    "Now we'll split data into features (`X`) and labels (`y`)."
   ]
  },
  {
   "cell_type": "code",
   "execution_count": 67,
   "metadata": {
    "id": "W_EGj3FxhkAb"
   },
   "outputs": [],
   "source": [
    "# Create X & y values\n",
    "X = insurance_one_hot.drop(\"charges\", axis=1)\n",
    "y = insurance_one_hot[\"charges\"]"
   ]
  },
  {
   "cell_type": "code",
   "execution_count": 68,
   "metadata": {
    "colab": {
     "base_uri": "https://localhost:8080/",
     "height": 215
    },
    "id": "-QQFJmDn5ATV",
    "outputId": "b02a4f32-1be8-4983-8741-d3d90d078cf1"
   },
   "outputs": [
    {
     "data": {
      "text/html": [
       "<div>\n",
       "<style scoped>\n",
       "    .dataframe tbody tr th:only-of-type {\n",
       "        vertical-align: middle;\n",
       "    }\n",
       "\n",
       "    .dataframe tbody tr th {\n",
       "        vertical-align: top;\n",
       "    }\n",
       "\n",
       "    .dataframe thead th {\n",
       "        text-align: right;\n",
       "    }\n",
       "</style>\n",
       "<table border=\"1\" class=\"dataframe\">\n",
       "  <thead>\n",
       "    <tr style=\"text-align: right;\">\n",
       "      <th></th>\n",
       "      <th>age</th>\n",
       "      <th>bmi</th>\n",
       "      <th>children</th>\n",
       "      <th>sex_female</th>\n",
       "      <th>sex_male</th>\n",
       "      <th>smoker_no</th>\n",
       "      <th>smoker_yes</th>\n",
       "      <th>region_northeast</th>\n",
       "      <th>region_northwest</th>\n",
       "      <th>region_southeast</th>\n",
       "      <th>region_southwest</th>\n",
       "    </tr>\n",
       "  </thead>\n",
       "  <tbody>\n",
       "    <tr>\n",
       "      <th>0</th>\n",
       "      <td>19</td>\n",
       "      <td>27.900</td>\n",
       "      <td>0</td>\n",
       "      <td>1</td>\n",
       "      <td>0</td>\n",
       "      <td>0</td>\n",
       "      <td>1</td>\n",
       "      <td>0</td>\n",
       "      <td>0</td>\n",
       "      <td>0</td>\n",
       "      <td>1</td>\n",
       "    </tr>\n",
       "    <tr>\n",
       "      <th>1</th>\n",
       "      <td>18</td>\n",
       "      <td>33.770</td>\n",
       "      <td>1</td>\n",
       "      <td>0</td>\n",
       "      <td>1</td>\n",
       "      <td>1</td>\n",
       "      <td>0</td>\n",
       "      <td>0</td>\n",
       "      <td>0</td>\n",
       "      <td>1</td>\n",
       "      <td>0</td>\n",
       "    </tr>\n",
       "    <tr>\n",
       "      <th>2</th>\n",
       "      <td>28</td>\n",
       "      <td>33.000</td>\n",
       "      <td>3</td>\n",
       "      <td>0</td>\n",
       "      <td>1</td>\n",
       "      <td>1</td>\n",
       "      <td>0</td>\n",
       "      <td>0</td>\n",
       "      <td>0</td>\n",
       "      <td>1</td>\n",
       "      <td>0</td>\n",
       "    </tr>\n",
       "    <tr>\n",
       "      <th>3</th>\n",
       "      <td>33</td>\n",
       "      <td>22.705</td>\n",
       "      <td>0</td>\n",
       "      <td>0</td>\n",
       "      <td>1</td>\n",
       "      <td>1</td>\n",
       "      <td>0</td>\n",
       "      <td>0</td>\n",
       "      <td>1</td>\n",
       "      <td>0</td>\n",
       "      <td>0</td>\n",
       "    </tr>\n",
       "    <tr>\n",
       "      <th>4</th>\n",
       "      <td>32</td>\n",
       "      <td>28.880</td>\n",
       "      <td>0</td>\n",
       "      <td>0</td>\n",
       "      <td>1</td>\n",
       "      <td>1</td>\n",
       "      <td>0</td>\n",
       "      <td>0</td>\n",
       "      <td>1</td>\n",
       "      <td>0</td>\n",
       "      <td>0</td>\n",
       "    </tr>\n",
       "  </tbody>\n",
       "</table>\n",
       "</div>"
      ],
      "text/plain": [
       "   age     bmi  children  sex_female  sex_male  smoker_no  smoker_yes  \\\n",
       "0   19  27.900         0           1         0          0           1   \n",
       "1   18  33.770         1           0         1          1           0   \n",
       "2   28  33.000         3           0         1          1           0   \n",
       "3   33  22.705         0           0         1          1           0   \n",
       "4   32  28.880         0           0         1          1           0   \n",
       "\n",
       "   region_northeast  region_northwest  region_southeast  region_southwest  \n",
       "0                 0                 0                 0                 1  \n",
       "1                 0                 0                 1                 0  \n",
       "2                 0                 0                 1                 0  \n",
       "3                 0                 1                 0                 0  \n",
       "4                 0                 1                 0                 0  "
      ]
     },
     "execution_count": 68,
     "metadata": {},
     "output_type": "execute_result"
    }
   ],
   "source": [
    "# View features\n",
    "X.head()"
   ]
  },
  {
   "cell_type": "markdown",
   "metadata": {
    "id": "kudhkM-0giS1"
   },
   "source": [
    "And create training and test sets. We could do this manually, but to make it easier, we'll leverage the already available [`train_test_split`](https://scikit-learn.org/stable/modules/generated/sklearn.model_selection.train_test_split.html) function available from Scikit-Learn."
   ]
  },
  {
   "cell_type": "code",
   "execution_count": 69,
   "metadata": {
    "id": "WPGZGk0jhxCZ"
   },
   "outputs": [],
   "source": [
    "# Create training and test sets\n",
    "from sklearn.model_selection import train_test_split\n",
    "X_train, X_test, y_train, y_test = train_test_split(X, \n",
    "                                                    y, \n",
    "                                                    test_size=0.2, \n",
    "                                                    random_state=42) # set random state for reproducible splits"
   ]
  },
  {
   "cell_type": "markdown",
   "metadata": {
    "id": "W8wEC0FPglnN"
   },
   "source": [
    "Now we can build and fit a model (we'll make it the same as `model_2`)."
   ]
  },
  {
   "cell_type": "code",
   "execution_count": 70,
   "metadata": {
    "colab": {
     "base_uri": "https://localhost:8080/"
    },
    "id": "OCXTmz6oh_T6",
    "outputId": "45cbcd81-05cc-481e-835e-d78922d74821"
   },
   "outputs": [
    {
     "name": "stdout",
     "output_type": "stream",
     "text": [
      "Epoch 1/100\n",
      "34/34 [==============================] - 0s 379us/step - loss: 10559.6243 - mae: 10559.6243\n",
      "Epoch 2/100\n",
      "34/34 [==============================] - 0s 470us/step - loss: 7718.9404 - mae: 7718.9404\n",
      "Epoch 3/100\n",
      "34/34 [==============================] - 0s 419us/step - loss: 7011.5587 - mae: 7011.5587\n",
      "Epoch 4/100\n",
      "34/34 [==============================] - 0s 344us/step - loss: 8097.3163 - mae: 8097.3163\n",
      "Epoch 5/100\n",
      "34/34 [==============================] - 0s 373us/step - loss: 7612.9853 - mae: 7612.9853\n",
      "Epoch 6/100\n",
      "34/34 [==============================] - 0s 333us/step - loss: 7660.9963 - mae: 7660.9963\n",
      "Epoch 7/100\n",
      "34/34 [==============================] - 0s 404us/step - loss: 7613.3701 - mae: 7613.3701\n",
      "Epoch 8/100\n",
      "34/34 [==============================] - 0s 364us/step - loss: 7780.3206 - mae: 7780.3206\n",
      "Epoch 9/100\n",
      "34/34 [==============================] - 0s 332us/step - loss: 7749.3453 - mae: 7749.3453\n",
      "Epoch 10/100\n",
      "34/34 [==============================] - 0s 378us/step - loss: 8138.7185 - mae: 8138.7185\n",
      "Epoch 11/100\n",
      "34/34 [==============================] - 0s 367us/step - loss: 7730.3918 - mae: 7730.3918\n",
      "Epoch 12/100\n",
      "34/34 [==============================] - 0s 336us/step - loss: 7743.3377 - mae: 7743.3377\n",
      "Epoch 13/100\n",
      "34/34 [==============================] - 0s 595us/step - loss: 7907.4993 - mae: 7907.4993\n",
      "Epoch 14/100\n",
      "34/34 [==============================] - 0s 397us/step - loss: 7908.0610 - mae: 7908.0610\n",
      "Epoch 15/100\n",
      "34/34 [==============================] - 0s 391us/step - loss: 7849.3836 - mae: 7849.3836\n",
      "Epoch 16/100\n",
      "34/34 [==============================] - 0s 341us/step - loss: 8085.9395 - mae: 8085.9395\n",
      "Epoch 17/100\n",
      "34/34 [==============================] - 0s 494us/step - loss: 7120.4884 - mae: 7120.4884\n",
      "Epoch 18/100\n",
      "34/34 [==============================] - 0s 382us/step - loss: 7957.6866 - mae: 7957.6866\n",
      "Epoch 19/100\n",
      "34/34 [==============================] - 0s 332us/step - loss: 7654.3461 - mae: 7654.3461\n",
      "Epoch 20/100\n",
      "34/34 [==============================] - 0s 358us/step - loss: 7880.9823 - mae: 7880.9823\n",
      "Epoch 21/100\n",
      "34/34 [==============================] - 0s 366us/step - loss: 7004.6648 - mae: 7004.6648\n",
      "Epoch 22/100\n",
      "34/34 [==============================] - 0s 337us/step - loss: 7301.6820 - mae: 7301.6820\n",
      "Epoch 23/100\n",
      "34/34 [==============================] - 0s 363us/step - loss: 7626.8685 - mae: 7626.8685\n",
      "Epoch 24/100\n",
      "34/34 [==============================] - 0s 391us/step - loss: 7271.9388 - mae: 7271.9388\n",
      "Epoch 25/100\n",
      "34/34 [==============================] - 0s 355us/step - loss: 8224.1067 - mae: 8224.1067\n",
      "Epoch 26/100\n",
      "34/34 [==============================] - 0s 354us/step - loss: 7272.8315 - mae: 7272.8315\n",
      "Epoch 27/100\n",
      "34/34 [==============================] - 0s 377us/step - loss: 7472.6182 - mae: 7472.6182\n",
      "Epoch 28/100\n",
      "34/34 [==============================] - 0s 341us/step - loss: 7785.0343 - mae: 7785.0343\n",
      "Epoch 29/100\n",
      "34/34 [==============================] - 0s 356us/step - loss: 7322.9718 - mae: 7322.9718\n",
      "Epoch 30/100\n",
      "34/34 [==============================] - 0s 382us/step - loss: 7695.2195 - mae: 7695.2195\n",
      "Epoch 31/100\n",
      "34/34 [==============================] - 0s 357us/step - loss: 8285.3870 - mae: 8285.3870\n",
      "Epoch 32/100\n",
      "34/34 [==============================] - 0s 359us/step - loss: 7591.1281 - mae: 7591.1281\n",
      "Epoch 33/100\n",
      "34/34 [==============================] - 0s 383us/step - loss: 7495.2281 - mae: 7495.2281\n",
      "Epoch 34/100\n",
      "34/34 [==============================] - 0s 350us/step - loss: 7536.2292 - mae: 7536.2292\n",
      "Epoch 35/100\n",
      "34/34 [==============================] - 0s 340us/step - loss: 7777.1756 - mae: 7777.1756\n",
      "Epoch 36/100\n",
      "34/34 [==============================] - 0s 379us/step - loss: 7589.8863 - mae: 7589.8863\n",
      "Epoch 37/100\n",
      "34/34 [==============================] - 0s 358us/step - loss: 7758.9116 - mae: 7758.9116\n",
      "Epoch 38/100\n",
      "34/34 [==============================] - 0s 334us/step - loss: 7291.6480 - mae: 7291.6480\n",
      "Epoch 39/100\n",
      "34/34 [==============================] - 0s 373us/step - loss: 7682.3668 - mae: 7682.3668\n",
      "Epoch 40/100\n",
      "34/34 [==============================] - 0s 350us/step - loss: 7447.9770 - mae: 7447.9770\n",
      "Epoch 41/100\n",
      "34/34 [==============================] - 0s 331us/step - loss: 7920.4881 - mae: 7920.4881\n",
      "Epoch 42/100\n",
      "34/34 [==============================] - 0s 381us/step - loss: 7420.3880 - mae: 7420.3880\n",
      "Epoch 43/100\n",
      "34/34 [==============================] - 0s 357us/step - loss: 7847.3452 - mae: 7847.3452\n",
      "Epoch 44/100\n",
      "34/34 [==============================] - 0s 354us/step - loss: 6991.6766 - mae: 6991.6766\n",
      "Epoch 45/100\n",
      "34/34 [==============================] - 0s 391us/step - loss: 7405.5459 - mae: 7405.5459\n",
      "Epoch 46/100\n",
      "34/34 [==============================] - 0s 360us/step - loss: 7231.6127 - mae: 7231.6127\n",
      "Epoch 47/100\n",
      "34/34 [==============================] - 0s 330us/step - loss: 7873.6183 - mae: 7873.6183\n",
      "Epoch 48/100\n",
      "34/34 [==============================] - 0s 397us/step - loss: 7167.9556 - mae: 7167.9556\n",
      "Epoch 49/100\n",
      "34/34 [==============================] - 0s 373us/step - loss: 7154.8355 - mae: 7154.8355\n",
      "Epoch 50/100\n",
      "34/34 [==============================] - 0s 346us/step - loss: 7385.4573 - mae: 7385.4573\n",
      "Epoch 51/100\n",
      "34/34 [==============================] - 0s 386us/step - loss: 7619.9279 - mae: 7619.9279\n",
      "Epoch 52/100\n",
      "34/34 [==============================] - 0s 355us/step - loss: 7777.3267 - mae: 7777.3267\n",
      "Epoch 53/100\n",
      "34/34 [==============================] - 0s 350us/step - loss: 7413.0350 - mae: 7413.0350\n",
      "Epoch 54/100\n",
      "34/34 [==============================] - 0s 384us/step - loss: 7306.2697 - mae: 7306.2697\n",
      "Epoch 55/100\n",
      "34/34 [==============================] - 0s 331us/step - loss: 7397.6607 - mae: 7397.6607\n",
      "Epoch 56/100\n",
      "34/34 [==============================] - 0s 388us/step - loss: 7134.8912 - mae: 7134.8912\n",
      "Epoch 57/100\n",
      "34/34 [==============================] - 0s 323us/step - loss: 7585.8071 - mae: 7585.8071\n",
      "Epoch 58/100\n",
      "34/34 [==============================] - 0s 365us/step - loss: 7419.6751 - mae: 7419.6751\n",
      "Epoch 59/100\n",
      "34/34 [==============================] - 0s 350us/step - loss: 7290.7945 - mae: 7290.7945\n",
      "Epoch 60/100\n",
      "34/34 [==============================] - 0s 324us/step - loss: 7201.5450 - mae: 7201.5450\n",
      "Epoch 61/100\n",
      "34/34 [==============================] - 0s 334us/step - loss: 7956.5102 - mae: 7956.5102\n",
      "Epoch 62/100\n",
      "34/34 [==============================] - 0s 359us/step - loss: 7443.0390 - mae: 7443.0390\n",
      "Epoch 63/100\n",
      "34/34 [==============================] - 0s 354us/step - loss: 7632.3794 - mae: 7632.3794\n",
      "Epoch 64/100\n",
      "34/34 [==============================] - 0s 345us/step - loss: 6561.0763 - mae: 6561.0763\n",
      "Epoch 65/100\n",
      "34/34 [==============================] - 0s 320us/step - loss: 7600.3999 - mae: 7600.3999\n",
      "Epoch 66/100\n",
      "34/34 [==============================] - 0s 367us/step - loss: 6995.9412 - mae: 6995.9412\n",
      "Epoch 67/100\n",
      "34/34 [==============================] - 0s 351us/step - loss: 7292.7241 - mae: 7292.7241\n",
      "Epoch 68/100\n",
      "34/34 [==============================] - 0s 356us/step - loss: 7577.9435 - mae: 7577.9435\n",
      "Epoch 69/100\n",
      "34/34 [==============================] - 0s 330us/step - loss: 7578.5213 - mae: 7578.5213\n",
      "Epoch 70/100\n",
      "34/34 [==============================] - 0s 324us/step - loss: 7167.5859 - mae: 7167.5859\n",
      "Epoch 71/100\n",
      "34/34 [==============================] - 0s 356us/step - loss: 7189.0384 - mae: 7189.0384\n",
      "Epoch 72/100\n",
      "34/34 [==============================] - 0s 345us/step - loss: 7233.0305 - mae: 7233.0305\n",
      "Epoch 73/100\n",
      "34/34 [==============================] - 0s 328us/step - loss: 7705.7229 - mae: 7705.7229\n",
      "Epoch 74/100\n",
      "34/34 [==============================] - 0s 331us/step - loss: 7223.5781 - mae: 7223.5781\n",
      "Epoch 75/100\n",
      "34/34 [==============================] - 0s 355us/step - loss: 7550.0109 - mae: 7550.0109\n",
      "Epoch 76/100\n",
      "34/34 [==============================] - 0s 345us/step - loss: 6973.7824 - mae: 6973.7824\n",
      "Epoch 77/100\n",
      "34/34 [==============================] - 0s 331us/step - loss: 7838.6837 - mae: 7838.6837\n",
      "Epoch 78/100\n",
      "34/34 [==============================] - 0s 339us/step - loss: 6711.9415 - mae: 6711.9415\n",
      "Epoch 79/100\n",
      "34/34 [==============================] - 0s 359us/step - loss: 6435.0988 - mae: 6435.0988\n",
      "Epoch 80/100\n"
     ]
    },
    {
     "name": "stdout",
     "output_type": "stream",
     "text": [
      "34/34 [==============================] - 0s 348us/step - loss: 6703.8756 - mae: 6703.8756\n",
      "Epoch 81/100\n",
      "34/34 [==============================] - 0s 338us/step - loss: 7450.5956 - mae: 7450.5956\n",
      "Epoch 82/100\n",
      "34/34 [==============================] - 0s 327us/step - loss: 7825.7128 - mae: 7825.7128\n",
      "Epoch 83/100\n",
      "34/34 [==============================] - 0s 345us/step - loss: 7220.8667 - mae: 7220.8667\n",
      "Epoch 84/100\n",
      "34/34 [==============================] - 0s 351us/step - loss: 7476.1115 - mae: 7476.1115\n",
      "Epoch 85/100\n",
      "34/34 [==============================] - 0s 344us/step - loss: 6684.3511 - mae: 6684.3511\n",
      "Epoch 86/100\n",
      "34/34 [==============================] - 0s 329us/step - loss: 7517.3490 - mae: 7517.3490\n",
      "Epoch 87/100\n",
      "34/34 [==============================] - 0s 345us/step - loss: 6953.5613 - mae: 6953.5613\n",
      "Epoch 88/100\n",
      "34/34 [==============================] - 0s 359us/step - loss: 7636.8830 - mae: 7636.8830\n",
      "Epoch 89/100\n",
      "34/34 [==============================] - 0s 361us/step - loss: 7437.8887 - mae: 7437.8887\n",
      "Epoch 90/100\n",
      "34/34 [==============================] - 0s 325us/step - loss: 7467.6806 - mae: 7467.6806\n",
      "Epoch 91/100\n",
      "34/34 [==============================] - 0s 332us/step - loss: 7413.2648 - mae: 7413.2648\n",
      "Epoch 92/100\n",
      "34/34 [==============================] - 0s 359us/step - loss: 7265.0886 - mae: 7265.0886\n",
      "Epoch 93/100\n",
      "34/34 [==============================] - 0s 359us/step - loss: 7297.2711 - mae: 7297.2711\n",
      "Epoch 94/100\n",
      "34/34 [==============================] - 0s 341us/step - loss: 6752.2045 - mae: 6752.2045\n",
      "Epoch 95/100\n",
      "34/34 [==============================] - 0s 332us/step - loss: 7813.5595 - mae: 7813.5595\n",
      "Epoch 96/100\n",
      "34/34 [==============================] - 0s 358us/step - loss: 7260.1978 - mae: 7260.1978\n",
      "Epoch 97/100\n",
      "34/34 [==============================] - 0s 367us/step - loss: 6826.8638 - mae: 6826.8638\n",
      "Epoch 98/100\n",
      "34/34 [==============================] - 0s 352us/step - loss: 7122.8492 - mae: 7122.8492\n",
      "Epoch 99/100\n",
      "34/34 [==============================] - 0s 333us/step - loss: 6896.5313 - mae: 6896.5313\n",
      "Epoch 100/100\n",
      "34/34 [==============================] - 0s 345us/step - loss: 7020.4755 - mae: 7020.4755\n"
     ]
    },
    {
     "data": {
      "text/plain": [
       "<tensorflow.python.keras.callbacks.History at 0x7f93e8ca3310>"
      ]
     },
     "execution_count": 70,
     "metadata": {},
     "output_type": "execute_result"
    }
   ],
   "source": [
    "# Set random seed\n",
    "tf.random.set_seed(42)\n",
    "\n",
    "# Create a new model (same as model_2)\n",
    "insurance_model = tf.keras.Sequential([\n",
    "  tf.keras.layers.Dense(1),\n",
    "  tf.keras.layers.Dense(1)\n",
    "])\n",
    "\n",
    "# Compile the model\n",
    "insurance_model.compile(loss=tf.keras.losses.mae,\n",
    "                        optimizer=tf.keras.optimizers.SGD(),\n",
    "                        metrics=['mae'])\n",
    "\n",
    "# Fit the model\n",
    "insurance_model.fit(X_train, y_train, epochs=100)"
   ]
  },
  {
   "cell_type": "code",
   "execution_count": 71,
   "metadata": {
    "colab": {
     "base_uri": "https://localhost:8080/"
    },
    "id": "B1U7LqpKid0r",
    "outputId": "22ebc7ed-ca8e-4d0d-cc49-b061e6ef019c"
   },
   "outputs": [
    {
     "name": "stdout",
     "output_type": "stream",
     "text": [
      "9/9 [==============================] - 0s 445us/step - loss: 8628.2422 - mae: 8628.2422\n"
     ]
    },
    {
     "data": {
      "text/plain": [
       "[8628.2421875, 8628.2421875]"
      ]
     },
     "execution_count": 71,
     "metadata": {},
     "output_type": "execute_result"
    }
   ],
   "source": [
    "# Check the results of the insurance model\n",
    "insurance_model.evaluate(X_test, y_test)"
   ]
  },
  {
   "cell_type": "markdown",
   "metadata": {
    "id": "H9doNDToqDru"
   },
   "source": [
    "Our model didn't perform very well, let's try a bigger model.\n",
    "\n",
    "We'll try 3 things:\n",
    "- Increasing the number of layers (2 -> 3).\n",
    "- Increasing the number of units in each layer (except for the output layer).\n",
    "- Changing the optimizer (from SGD to Adam).\n",
    "\n",
    "Everything else will stay the same."
   ]
  },
  {
   "cell_type": "code",
   "execution_count": 72,
   "metadata": {
    "colab": {
     "base_uri": "https://localhost:8080/"
    },
    "id": "W59EqfqYimnR",
    "outputId": "6887bbaa-2e32-40d9-a76c-f2377e95a29b"
   },
   "outputs": [],
   "source": [
    "# Set random seed\n",
    "tf.random.set_seed(42)\n",
    "\n",
    "# Add an extra layer and increase number of units\n",
    "insurance_model_2 = tf.keras.Sequential([\n",
    "  tf.keras.layers.Dense(100), # 100 units\n",
    "  tf.keras.layers.Dense(10), # 10 units\n",
    "  tf.keras.layers.Dense(1) # 1 unit (important for output layer)\n",
    "])\n",
    "\n",
    "# Compile the model\n",
    "insurance_model_2.compile(loss=tf.keras.losses.mae,\n",
    "                          optimizer=tf.keras.optimizers.Adam(), # Adam works but SGD doesn't \n",
    "                          metrics=['mae'])\n",
    "\n",
    "# Fit the model and save the history (we can plot this)\n",
    "history = insurance_model_2.fit(X_train, y_train, epochs=100, verbose=0)"
   ]
  },
  {
   "cell_type": "code",
   "execution_count": 73,
   "metadata": {
    "colab": {
     "base_uri": "https://localhost:8080/"
    },
    "id": "k9IbYWnOqmoT",
    "outputId": "047ae48a-92bb-4bb6-d01f-893202f05dd2"
   },
   "outputs": [
    {
     "name": "stdout",
     "output_type": "stream",
     "text": [
      "9/9 [==============================] - 0s 444us/step - loss: 4924.4961 - mae: 4924.4961\n"
     ]
    },
    {
     "data": {
      "text/plain": [
       "[4924.49609375, 4924.49609375]"
      ]
     },
     "execution_count": 73,
     "metadata": {},
     "output_type": "execute_result"
    }
   ],
   "source": [
    "# Evaluate our larger model\n",
    "insurance_model_2.evaluate(X_test, y_test)"
   ]
  },
  {
   "cell_type": "markdown",
   "metadata": {
    "id": "o9Rf3NosqriS"
   },
   "source": [
    "Much better! Using a larger model and the Adam optimizer results in almost half the error as the previous model.\n",
    "\n",
    "> 🔑 **Note:** For many problems, the [Adam optimizer](https://www.tensorflow.org/api_docs/python/tf/keras/optimizers/Adam) is a great starting choice. See Andrei Karpathy's \"Adam is safe\" point from [*A Recipe for Training Neural Networks*](http://karpathy.github.io/2019/04/25/recipe/) for more. \n",
    "\n",
    "Let's check out the loss curves of our model, we should see a downward trend."
   ]
  },
  {
   "cell_type": "code",
   "execution_count": 74,
   "metadata": {
    "colab": {
     "base_uri": "https://localhost:8080/",
     "height": 279
    },
    "id": "9SE55ANojcF_",
    "outputId": "52ac970a-5f56-4711-a561-329d3a802bbd"
   },
   "outputs": [
    {
     "data": {
      "image/png": "[encoded data removed]",
      "text/plain": [
       "<Figure size 432x288 with 1 Axes>"
      ]
     },
     "metadata": {
      "needs_background": "light"
     },
     "output_type": "display_data"
    }
   ],
   "source": [
    "# Plot history (also known as a loss curve)\n",
    "pd.DataFrame(history.history).plot()\n",
    "plt.ylabel(\"loss\")\n",
    "plt.xlabel(\"epochs\");"
   ]
  },
  {
   "cell_type": "markdown",
   "metadata": {
    "id": "ckHqtn0srQ5q"
   },
   "source": [
    "From this, it looks like our model's loss (and MAE) were both still decreasing (in our case, MAE and loss are the same, hence the lines in the plot overlap eachother).\n",
    "\n",
    "What this tells us is the loss might go down if we try training it for longer.\n",
    "\n",
    "> 🤔 **Question:** How long should you train for? \n",
    "\n",
    "> It depends on what problem you're working on. Sometimes training won't take very long, other times it'll take longer than you expect. A common method is to set your model training for a very long time (e.g. 1000's of epochs) but set it up with an [EarlyStopping callback](https://www.tensorflow.org/api_docs/python/tf/keras/callbacks/EarlyStopping) so it stops automatically when it stops improving. We'll see this in another module.\n",
    "\n",
    "Let's train the same model as above for a little longer. We can do this but calling fit on it again."
   ]
  },
  {
   "cell_type": "code",
   "execution_count": 75,
   "metadata": {
    "id": "Ucs62jV8jl6N"
   },
   "outputs": [],
   "source": [
    "# Try training for a little longer (100 more epochs)\n",
    "history_2 = insurance_model_2.fit(X_train, y_train, epochs=100, verbose=0)"
   ]
  },
  {
   "cell_type": "markdown",
   "metadata": {
    "id": "L2FZA1z1sxxs"
   },
   "source": [
    "How did the extra training go?"
   ]
  },
  {
   "cell_type": "code",
   "execution_count": 76,
   "metadata": {
    "colab": {
     "base_uri": "https://localhost:8080/"
    },
    "id": "cxtiYB3qs0PZ",
    "outputId": "8a110b4d-8d86-4345-99d3-aaad19d29830"
   },
   "outputs": [
    {
     "name": "stdout",
     "output_type": "stream",
     "text": [
      "9/9 [==============================] - 0s 429us/step - loss: 3493.5271 - mae: 3493.5271\n"
     ]
    },
    {
     "data": {
      "text/plain": [
       "(3493.527099609375, 3493.527099609375)"
      ]
     },
     "execution_count": 76,
     "metadata": {},
     "output_type": "execute_result"
    }
   ],
   "source": [
    "# Evaluate the model trained for 200 total epochs\n",
    "insurance_model_2_loss, insurance_model_2_mae = insurance_model_2.evaluate(X_test, y_test)\n",
    "insurance_model_2_loss, insurance_model_2_mae"
   ]
  },
  {
   "cell_type": "markdown",
   "metadata": {
    "id": "MzUySYEOs-O_"
   },
   "source": [
    "Boom! Training for an extra 100 epochs we see about a 10% decrease in error.\n",
    "\n",
    "How does the visual look?"
   ]
  },
  {
   "cell_type": "code",
   "execution_count": 77,
   "metadata": {
    "colab": {
     "base_uri": "https://localhost:8080/",
     "height": 279
    },
    "id": "BtYKSLeQjuzL",
    "outputId": "68e8d3c4-7252-40c4-e9e9-326a5a1df4cd"
   },
   "outputs": [
    {
     "data": {
      "image/png": "[encoded data removed]",
      "text/plain": [
       "<Figure size 432x288 with 1 Axes>"
      ]
     },
     "metadata": {
      "needs_background": "light"
     },
     "output_type": "display_data"
    }
   ],
   "source": [
    "# Plot the model trained for 200 total epochs loss curves\n",
    "pd.DataFrame(history_2.history).plot()\n",
    "plt.ylabel(\"loss\")\n",
    "plt.xlabel(\"epochs\"); # note: epochs will only show 100 since we overrid the history variable"
   ]
  },
  {
   "cell_type": "markdown",
   "metadata": {
    "id": "HS8xYkvIuVZZ"
   },
   "source": [
    "## Preprocessing data (normalization and standardization)\n",
    "\n",
    "A common practice when working with neural networks is to make sure all of the data you pass to them is in the range 0 to 1.\n",
    "\n",
    "This practice is called **normalization** (scaling all values from their original range to, e.g. between 0 and 100,000 to be between 0 and 1).\n",
    "\n",
    "There is another process call **standardization** which converts all of your data to unit variance and 0 mean.\n",
    "\n",
    "These two practices are often part of a preprocessing pipeline (a series of functions to prepare your data for use with neural networks).\n",
    "\n",
    "Knowing this, some of the major steps you'll take to preprocess your data for a neural network include:\n",
    "* Turning all of your data to numbers (a neural network can't handle strings).\n",
    "* Making sure your data is in the right shape (verifying input and output shapes).\n",
    "* [**Feature scaling**](https://scikit-learn.org/stable/modules/preprocessing.html#preprocessing-scaler):\n",
    "    * Normalizing data (making sure all values are between 0 and 1). This is done by subtracting the minimum value then dividing by the maximum value minus the minmum. This is also referred to as min-max scaling.\n",
    "    * Standardization (making sure all values have a mean of 0 and a variance of 1). This is done by substracting the mean value from the target feature and then dividing it by the standard deviation.\n",
    "    * Which one should you use?\n",
    "      * **With neural networks you'll tend to favour normalization** as they tend to prefer values between 0 and 1 (you'll see this espcially with image processing), however, you'll often find a neural network can perform pretty well with minimal feature scaling.\n",
    "\n",
    "> 📖 **Resource:** For more on preprocessing data, I'd recommend reading the following resources:\n",
    "* [Scikit-Learn's documentation on preprocessing data](https://scikit-learn.org/stable/modules/preprocessing.html#preprocessing-data).\n",
    "* [Scale, Standardize or Normalize with Scikit-Learn by Jeff Hale](https://towardsdatascience.com/scale-standardize-or-normalize-with-scikit-learn-6ccc7d176a02).\n",
    "\n",
    "We've already turned our data into numbers using `get_dummies()`, let's see how we'd normalize it as well."
   ]
  },
  {
   "cell_type": "code",
   "execution_count": 78,
   "metadata": {
    "id": "9v7P20A2d7H6"
   },
   "outputs": [],
   "source": [
    "import pandas as pd\n",
    "import matplotlib.pyplot as plt\n",
    "import tensorflow as tf\n",
    "\n",
    "# Read in the insurance dataset\n",
    "insurance = pd.read_csv(\"https://raw.githubusercontent.com/stedy/Machine-Learning-with-R-datasets/master/insurance.csv\")"
   ]
  },
  {
   "cell_type": "code",
   "execution_count": 79,
   "metadata": {
    "colab": {
     "base_uri": "https://localhost:8080/",
     "height": 195
    },
    "id": "vir8UAIwlUOo",
    "outputId": "f2b392b0-4e63-49a2-af35-248919293a21"
   },
   "outputs": [
    {
     "data": {
      "text/html": [
       "<div>\n",
       "<style scoped>\n",
       "    .dataframe tbody tr th:only-of-type {\n",
       "        vertical-align: middle;\n",
       "    }\n",
       "\n",
       "    .dataframe tbody tr th {\n",
       "        vertical-align: top;\n",
       "    }\n",
       "\n",
       "    .dataframe thead th {\n",
       "        text-align: right;\n",
       "    }\n",
       "</style>\n",
       "<table border=\"1\" class=\"dataframe\">\n",
       "  <thead>\n",
       "    <tr style=\"text-align: right;\">\n",
       "      <th></th>\n",
       "      <th>age</th>\n",
       "      <th>sex</th>\n",
       "      <th>bmi</th>\n",
       "      <th>children</th>\n",
       "      <th>smoker</th>\n",
       "      <th>region</th>\n",
       "      <th>charges</th>\n",
       "    </tr>\n",
       "  </thead>\n",
       "  <tbody>\n",
       "    <tr>\n",
       "      <th>0</th>\n",
       "      <td>19</td>\n",
       "      <td>female</td>\n",
       "      <td>27.900</td>\n",
       "      <td>0</td>\n",
       "      <td>yes</td>\n",
       "      <td>southwest</td>\n",
       "      <td>16884.92400</td>\n",
       "    </tr>\n",
       "    <tr>\n",
       "      <th>1</th>\n",
       "      <td>18</td>\n",
       "      <td>male</td>\n",
       "      <td>33.770</td>\n",
       "      <td>1</td>\n",
       "      <td>no</td>\n",
       "      <td>southeast</td>\n",
       "      <td>1725.55230</td>\n",
       "    </tr>\n",
       "    <tr>\n",
       "      <th>2</th>\n",
       "      <td>28</td>\n",
       "      <td>male</td>\n",
       "      <td>33.000</td>\n",
       "      <td>3</td>\n",
       "      <td>no</td>\n",
       "      <td>southeast</td>\n",
       "      <td>4449.46200</td>\n",
       "    </tr>\n",
       "    <tr>\n",
       "      <th>3</th>\n",
       "      <td>33</td>\n",
       "      <td>male</td>\n",
       "      <td>22.705</td>\n",
       "      <td>0</td>\n",
       "      <td>no</td>\n",
       "      <td>northwest</td>\n",
       "      <td>21984.47061</td>\n",
       "    </tr>\n",
       "    <tr>\n",
       "      <th>4</th>\n",
       "      <td>32</td>\n",
       "      <td>male</td>\n",
       "      <td>28.880</td>\n",
       "      <td>0</td>\n",
       "      <td>no</td>\n",
       "      <td>northwest</td>\n",
       "      <td>3866.85520</td>\n",
       "    </tr>\n",
       "  </tbody>\n",
       "</table>\n",
       "</div>"
      ],
      "text/plain": [
       "   age     sex     bmi  children smoker     region      charges\n",
       "0   19  female  27.900         0    yes  southwest  16884.92400\n",
       "1   18    male  33.770         1     no  southeast   1725.55230\n",
       "2   28    male  33.000         3     no  southeast   4449.46200\n",
       "3   33    male  22.705         0     no  northwest  21984.47061\n",
       "4   32    male  28.880         0     no  northwest   3866.85520"
      ]
     },
     "execution_count": 79,
     "metadata": {},
     "output_type": "execute_result"
    }
   ],
   "source": [
    "# Check out the data\n",
    "insurance.head()"
   ]
  },
  {
   "cell_type": "markdown",
   "metadata": {
    "id": "SHMQiNosg3J3"
   },
   "source": [
    "Now, just as before, we need to transform the non-numerical columns into numbers and this time we'll also be normalizing the numerical columns with different ranges (to make sure they're all between 0 and 1).\n",
    "\n",
    "To do this, we're going to use a few classes from Scikit-Learn:\n",
    "* [`make_column_transformer`](https://scikit-learn.org/stable/modules/generated/sklearn.compose.make_column_transformer.html) - build a multi-step data preprocessing function for the folllowing trnasformations:\n",
    "  * [`MinMaxScaler`](https://scikit-learn.org/stable/modules/generated/sklearn.preprocessing.MinMaxScaler.html) - make sure all numerical columns are normalized (between 0 and 1).\n",
    "  * [`OneHotEncoder`](https://scikit-learn.org/stable/modules/generated/sklearn.preprocessing.OneHotEncoder.html) - one hot encode the non-numerical columns.\n",
    "\n",
    "Let's see them in action."
   ]
  },
  {
   "cell_type": "code",
   "execution_count": 80,
   "metadata": {
    "id": "-x9JwbV0hqWh"
   },
   "outputs": [],
   "source": [
    "from sklearn.compose import make_column_transformer\n",
    "from sklearn.preprocessing import MinMaxScaler, OneHotEncoder\n",
    "\n",
    "# Create column transformer (this will help us normalize/preprocess our data)\n",
    "ct = make_column_transformer(\n",
    "    (MinMaxScaler(), [\"age\", \"bmi\", \"children\"]), # get all values between 0 and 1\n",
    "    (OneHotEncoder(handle_unknown=\"ignore\"), [\"sex\", \"smoker\", \"region\"])\n",
    ")\n",
    "\n",
    "# Create X & y\n",
    "X = insurance.drop(\"charges\", axis=1)\n",
    "y = insurance[\"charges\"]\n",
    "\n",
    "# Build our train and test sets (use random state to ensure same split as before)\n",
    "X_train, X_test, y_train, y_test = train_test_split(X, y, test_size=0.2, random_state=42)\n",
    "\n",
    "# Fit column transformer on the training data only (doing so on test data would result in data leakage)\n",
    "ct.fit(X_train)\n",
    "\n",
    "# Transform training and test data with normalization (MinMaxScalar) and one hot encoding (OneHotEncoder)\n",
    "X_train_normal = ct.transform(X_train)\n",
    "X_test_normal = ct.transform(X_test)"
   ]
  },
  {
   "cell_type": "markdown",
   "metadata": {
    "id": "Tz58y3nPiBJ-"
   },
   "source": [
    "Now we've normalized it and one-hot encoding it, what does our data look like now?"
   ]
  },
  {
   "cell_type": "code",
   "execution_count": 81,
   "metadata": {
    "colab": {
     "base_uri": "https://localhost:8080/"
    },
    "id": "VODt2YiziK45",
    "outputId": "0ffba739-63b8-4ccc-dcef-4b189c6162ee"
   },
   "outputs": [
    {
     "data": {
      "text/plain": [
       "age                19\n",
       "sex            female\n",
       "bmi              27.9\n",
       "children            0\n",
       "smoker            yes\n",
       "region      southwest\n",
       "Name: 0, dtype: object"
      ]
     },
     "execution_count": 81,
     "metadata": {},
     "output_type": "execute_result"
    }
   ],
   "source": [
    "# Non-normalized and non-one-hot encoded data example\n",
    "X_train.loc[0]"
   ]
  },
  {
   "cell_type": "code",
   "execution_count": 82,
   "metadata": {
    "colab": {
     "base_uri": "https://localhost:8080/"
    },
    "id": "mMYDXdwUnNVt",
    "outputId": "fb2ae984-9e0a-4cad-8475-c2ada4cfb7e6"
   },
   "outputs": [
    {
     "data": {
      "text/plain": [
       "array([0.60869565, 0.10734463, 0.4       , 1.        , 0.        ,\n",
       "       1.        , 0.        , 0.        , 1.        , 0.        ,\n",
       "       0.        ])"
      ]
     },
     "execution_count": 82,
     "metadata": {},
     "output_type": "execute_result"
    }
   ],
   "source": [
    "# Normalized and one-hot encoded example\n",
    "X_train_normal[0]"
   ]
  },
  {
   "cell_type": "markdown",
   "metadata": {
    "id": "9iI4KtfWib44"
   },
   "source": [
    "How about the shapes?"
   ]
  },
  {
   "cell_type": "code",
   "execution_count": 83,
   "metadata": {
    "colab": {
     "base_uri": "https://localhost:8080/"
    },
    "id": "SFmxzqrWntj7",
    "outputId": "739eed46-6edc-4487-820b-7c1317300161"
   },
   "outputs": [
    {
     "data": {
      "text/plain": [
       "((1070, 11), (1070, 6))"
      ]
     },
     "execution_count": 83,
     "metadata": {},
     "output_type": "execute_result"
    }
   ],
   "source": [
    "# Notice the normalized/one-hot encoded shape is larger because of the extra columns\n",
    "X_train_normal.shape, X_train.shape"
   ]
  },
  {
   "cell_type": "markdown",
   "metadata": {
    "id": "MST951aYijTS"
   },
   "source": [
    "Our data is normalized and numerical, let's model it.\n",
    "\n",
    "We'll use the same model as `insurance_model_2`."
   ]
  },
  {
   "cell_type": "code",
   "execution_count": 84,
   "metadata": {
    "colab": {
     "base_uri": "https://localhost:8080/"
    },
    "id": "TdHnIQqll83Y",
    "outputId": "cbebadf4-96e7-4353-edd5-d1b327f689e8"
   },
   "outputs": [
    {
     "data": {
      "text/plain": [
       "<tensorflow.python.keras.callbacks.History at 0x7f93b8f354c0>"
      ]
     },
     "execution_count": 84,
     "metadata": {},
     "output_type": "execute_result"
    }
   ],
   "source": [
    "# Set random seed\n",
    "tf.random.set_seed(42)\n",
    "\n",
    "# Build the model (3 layers, 100, 10, 1 units)\n",
    "insurance_model_3 = tf.keras.Sequential([\n",
    "  tf.keras.layers.Dense(100),\n",
    "  tf.keras.layers.Dense(10),\n",
    "  tf.keras.layers.Dense(1)\n",
    "])\n",
    "\n",
    "# Compile the model\n",
    "insurance_model_3.compile(loss=tf.keras.losses.mae,\n",
    "                          optimizer=tf.keras.optimizers.Adam(),\n",
    "                          metrics=['mae'])\n",
    "\n",
    "# Fit the model for 200 epochs (same as insurance_model_2)\n",
    "insurance_model_3.fit(X_train_normal, y_train, epochs=200, verbose=0) "
   ]
  },
  {
   "cell_type": "markdown",
   "metadata": {
    "id": "-DjwktO6jW41"
   },
   "source": [
    "Let's evaluate the model on normalized test set."
   ]
  },
  {
   "cell_type": "code",
   "execution_count": 85,
   "metadata": {
    "colab": {
     "base_uri": "https://localhost:8080/"
    },
    "id": "sBcXZu9AnZfP",
    "outputId": "4f815a32-198f-41df-8115-56b98beceec2"
   },
   "outputs": [
    {
     "name": "stdout",
     "output_type": "stream",
     "text": [
      "9/9 [==============================] - 0s 478us/step - loss: 3171.5771 - mae: 3171.5771\n"
     ]
    }
   ],
   "source": [
    "# Evaulate 3rd model\n",
    "insurance_model_3_loss, insurance_model_3_mae = insurance_model_3.evaluate(X_test_normal, y_test)"
   ]
  },
  {
   "cell_type": "markdown",
   "metadata": {
    "id": "ZlHro290jhtX"
   },
   "source": [
    "And finally, let's compare the results from `insurance_model_2` (trained on non-normalized data) and `insurance_model_3` (trained on normalized data)."
   ]
  },
  {
   "cell_type": "code",
   "execution_count": 86,
   "metadata": {
    "colab": {
     "base_uri": "https://localhost:8080/"
    },
    "id": "ybZtnVlNjCJO",
    "outputId": "88ebc44b-da7b-42b2-823a-2a81384be0bf"
   },
   "outputs": [
    {
     "data": {
      "text/plain": [
       "(3493.527099609375, 3171.5771484375)"
      ]
     },
     "execution_count": 86,
     "metadata": {},
     "output_type": "execute_result"
    }
   ],
   "source": [
    "# Compare modelling results from non-normalized data and normalized data\n",
    "insurance_model_2_mae, insurance_model_3_mae"
   ]
  },
  {
   "cell_type": "markdown",
   "metadata": {
    "id": "gUttViY4jzi8"
   },
   "source": [
    "From this we can see normalizing the data results in 10% less error using the same model than not normalizing the data.\n",
    "\n",
    "This is **one of the main benefits of normalization: faster convergence time** (a fancy way of saying, your model gets to better results faster).\n",
    "\n",
    "`insurance_model_2` may have eventually achieved the same results as `insurance_model_3` if we left it training for longer. \n",
    "\n",
    "Also, the results may change if we were to alter the architectures of the models, e.g. more hidden units per layer or more layers.\n",
    "\n",
    "But since our main goal as neural network practioners is to decrease the time between experiments, anything that helps us get better results sooner is a plus."
   ]
  },
  {
   "cell_type": "markdown",
   "metadata": {
    "id": "NhIPO_KqocHP"
   },
   "source": [
    "# 🛠 Exercises\n",
    "\n",
    "We've a covered a whole lot pretty quickly.\n",
    "\n",
    "So now it's time to have a **play around** with a few things and start to build up your initution.\n",
    "\n",
    "I emphasise the words play around because that's very important. Try a few things out, run the code and see what happens.\n",
    "\n",
    "1. Create your own regression dataset (or make the one we created in \"Create data to view and fit\" bigger) and build fit a model to it.\n",
    "2. Try building a neural network with 4 Dense layers and fitting it to your own regression dataset, how does it perform?\n",
    "3. Try and improve the results we got on the insurance dataset, some things you might want to try include:\n",
    "  * Building a larger model (how does one with 4 dense layers go?).\n",
    "  * Increasing the number of units in each layer.\n",
    "  * Lookup the documentation of [Adam](https://www.tensorflow.org/api_docs/python/tf/keras/optimizers/Adam) and find out what the first parameter is, what happens if you increase it by 10x?\n",
    "  * What happens if you train for longer (say 300 epochs instead of 200)? \n",
    "4. Import the [Boston pricing dataset](https://www.tensorflow.org/api_docs/python/tf/keras/datasets/boston_housing/load_data) from TensorFlow [`tf.keras.datasets`](https://www.tensorflow.org/api_docs/python/tf/keras/datasets) and model it.\n"
   ]
  },
  {
   "cell_type": "markdown",
   "metadata": {
    "id": "AyiHG2nubmu7"
   },
   "source": [
    "# 📖 Extra curriculum\n",
    "\n",
    "If you're looking for extra materials relating to this notebook, I'd check out the following:\n",
    "\n",
    "* [MIT introduction deep learning lecture 1](https://youtu.be/njKP3FqW3Sk) - gives a great overview of what's happening behind all of the code we're running.\n",
    "* Reading: 1-hour of [Chapter 1 of Neural Networks and Deep Learning](http://neuralnetworksanddeeplearning.com/chap1.html) by Michael Nielson - a great in-depth and hands-on example of the intuition behind neural networks.\n",
    "\n",
    "To practice your regression modelling with TensorFlow, I'd also encourage you to look through [Lion Bridge's collection of datasets](https://lionbridge.ai/datasets/) or [Kaggle's datasets](https://www.kaggle.com/data), find a regression dataset which sparks your interest and try to model."
   ]
  }
 ],
 "metadata": {
  "colab": {
   "authorship_tag": "ABX9TyPPxw7R1uummSYz+4VGsQ+p",
   "collapsed_sections": [],
   "include_colab_link": true,
   "name": "01_neural_network_regression_in_tensorflow.ipynb",
   "provenance": [],
   "toc_visible": true
  },
  "kernelspec": {
   "display_name": "Python 3",
   "language": "python",
   "name": "python3"
  },
  "language_info": {
   "codemirror_mode": {
    "name": "ipython",
    "version": 3
   },
   "file_extension": ".py",
   "mimetype": "text/x-python",
   "name": "python",
   "nbconvert_exporter": "python",
   "pygments_lexer": "ipython3",
   "version": "3.8.8"
  }
 },
 "nbformat": 4,
 "nbformat_minor": 1
}
