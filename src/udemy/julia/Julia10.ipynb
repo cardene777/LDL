{
 "cells": [
  {
   "cell_type": "code",
   "execution_count": 1,
   "id": "f1610ad3",
   "metadata": {},
   "outputs": [],
   "source": [
    "using Pkg"
   ]
  },
  {
   "cell_type": "code",
   "execution_count": 5,
   "id": "75c9d589",
   "metadata": {},
   "outputs": [],
   "source": [
    "Pkg.add(\"DataFrames\")"
   ]
  },
  {
   "cell_type": "code",
   "execution_count": 8,
   "id": "4846b577",
   "metadata": {},
   "outputs": [],
   "source": [
    "using DataFrames"
   ]
  },
  {
   "cell_type": "code",
   "execution_count": 10,
   "id": "d76c6eed",
   "metadata": {},
   "outputs": [
    {
     "data": {
      "text/html": [
       "<table class=\"data-frame\"><thead><tr><th></th><th>A</th><th>B</th></tr><tr><th></th><th>Int64</th><th>String</th></tr></thead><tbody><p>5 rows × 2 columns</p><tr><th>1</th><td>1</td><td>Apple</td></tr><tr><th>2</th><td>2</td><td>Banana</td></tr><tr><th>3</th><td>3</td><td>Apple</td></tr><tr><th>4</th><td>4</td><td>Banana</td></tr><tr><th>5</th><td>5</td><td>Orange</td></tr></tbody></table>"
      ],
      "text/latex": [
       "\\begin{tabular}{r|cc}\n",
       "\t& A & B\\\\\n",
       "\t\\hline\n",
       "\t& Int64 & String\\\\\n",
       "\t\\hline\n",
       "\t1 & 1 & Apple \\\\\n",
       "\t2 & 2 & Banana \\\\\n",
       "\t3 & 3 & Apple \\\\\n",
       "\t4 & 4 & Banana \\\\\n",
       "\t5 & 5 & Orange \\\\\n",
       "\\end{tabular}\n"
      ],
      "text/plain": [
       "\u001b[1m5×2 DataFrame\u001b[0m\n",
       "\u001b[1m Row \u001b[0m│\u001b[1m A     \u001b[0m\u001b[1m B      \u001b[0m\n",
       "\u001b[1m     \u001b[0m│\u001b[90m Int64 \u001b[0m\u001b[90m String \u001b[0m\n",
       "─────┼───────────────\n",
       "   1 │     1  Apple\n",
       "   2 │     2  Banana\n",
       "   3 │     3  Apple\n",
       "   4 │     4  Banana\n",
       "   5 │     5  Orange"
      ]
     },
     "execution_count": 10,
     "metadata": {},
     "output_type": "execute_result"
    }
   ],
   "source": [
    "df = DataFrame(A=1:5, B=[\"Apple\", \"Banana\", \"Apple\", \"Banana\", \"Orange\"])"
   ]
  },
  {
   "cell_type": "code",
   "execution_count": 11,
   "id": "4ba6bb64",
   "metadata": {},
   "outputs": [
    {
     "data": {
      "text/plain": [
       "5-element Vector{Int64}:\n",
       " 1\n",
       " 2\n",
       " 3\n",
       " 4\n",
       " 5"
      ]
     },
     "execution_count": 11,
     "metadata": {},
     "output_type": "execute_result"
    }
   ],
   "source": [
    "df.A"
   ]
  },
  {
   "cell_type": "code",
   "execution_count": 12,
   "id": "1dd6724e",
   "metadata": {},
   "outputs": [
    {
     "data": {
      "text/plain": [
       "5-element Vector{String}:\n",
       " \"Apple\"\n",
       " \"Banana\"\n",
       " \"Apple\"\n",
       " \"Banana\"\n",
       " \"Orange\""
      ]
     },
     "execution_count": 12,
     "metadata": {},
     "output_type": "execute_result"
    }
   ],
   "source": [
    "df.B"
   ]
  },
  {
   "cell_type": "code",
   "execution_count": 13,
   "id": "72def99c",
   "metadata": {},
   "outputs": [
    {
     "data": {
      "text/html": [
       "<table class=\"data-frame\"><thead><tr><th></th></tr><tr><th></th></tr></thead><tbody><p>0 rows × 0 columns</p></tbody></table>"
      ],
      "text/latex": [
       "\\begin{tabular}{r|}\n",
       "\t& \\\\\n",
       "\t\\hline\n",
       "\t& \\\\\n",
       "\t\\hline\n",
       "\\end{tabular}\n"
      ],
      "text/plain": [
       "\u001b[1m0×0 DataFrame\u001b[0m"
      ]
     },
     "execution_count": 13,
     "metadata": {},
     "output_type": "execute_result"
    }
   ],
   "source": [
    "df = DataFrame()"
   ]
  },
  {
   "cell_type": "code",
   "execution_count": 14,
   "id": "4eb84574",
   "metadata": {},
   "outputs": [
    {
     "data": {
      "text/plain": [
       "1:8"
      ]
     },
     "execution_count": 14,
     "metadata": {},
     "output_type": "execute_result"
    }
   ],
   "source": [
    "df.AA = 1:8"
   ]
  },
  {
   "cell_type": "code",
   "execution_count": 15,
   "id": "0532db49",
   "metadata": {},
   "outputs": [
    {
     "data": {
      "text/html": [
       "<table class=\"data-frame\"><thead><tr><th></th><th>AA</th></tr><tr><th></th><th>Int64</th></tr></thead><tbody><p>8 rows × 1 columns</p><tr><th>1</th><td>1</td></tr><tr><th>2</th><td>2</td></tr><tr><th>3</th><td>3</td></tr><tr><th>4</th><td>4</td></tr><tr><th>5</th><td>5</td></tr><tr><th>6</th><td>6</td></tr><tr><th>7</th><td>7</td></tr><tr><th>8</th><td>8</td></tr></tbody></table>"
      ],
      "text/latex": [
       "\\begin{tabular}{r|c}\n",
       "\t& AA\\\\\n",
       "\t\\hline\n",
       "\t& Int64\\\\\n",
       "\t\\hline\n",
       "\t1 & 1 \\\\\n",
       "\t2 & 2 \\\\\n",
       "\t3 & 3 \\\\\n",
       "\t4 & 4 \\\\\n",
       "\t5 & 5 \\\\\n",
       "\t6 & 6 \\\\\n",
       "\t7 & 7 \\\\\n",
       "\t8 & 8 \\\\\n",
       "\\end{tabular}\n"
      ],
      "text/plain": [
       "\u001b[1m8×1 DataFrame\u001b[0m\n",
       "\u001b[1m Row \u001b[0m│\u001b[1m AA    \u001b[0m\n",
       "\u001b[1m     \u001b[0m│\u001b[90m Int64 \u001b[0m\n",
       "─────┼───────\n",
       "   1 │     1\n",
       "   2 │     2\n",
       "   3 │     3\n",
       "   4 │     4\n",
       "   5 │     5\n",
       "   6 │     6\n",
       "   7 │     7\n",
       "   8 │     8"
      ]
     },
     "execution_count": 15,
     "metadata": {},
     "output_type": "execute_result"
    }
   ],
   "source": [
    "df"
   ]
  },
  {
   "cell_type": "code",
   "execution_count": 16,
   "id": "b8b6c79b",
   "metadata": {},
   "outputs": [
    {
     "data": {
      "text/plain": [
       "8-element Vector{String}:\n",
       " \"A\"\n",
       " \"B\"\n",
       " \"C\"\n",
       " \"D\"\n",
       " \"E\"\n",
       " \"F\"\n",
       " \"G\"\n",
       " \"H\""
      ]
     },
     "execution_count": 16,
     "metadata": {},
     "output_type": "execute_result"
    }
   ],
   "source": [
    "df.BB = [\"A\", \"B\", \"C\", \"D\", \"E\", \"F\", \"G\", \"H\"]"
   ]
  },
  {
   "cell_type": "code",
   "execution_count": 17,
   "id": "f3865647",
   "metadata": {},
   "outputs": [
    {
     "data": {
      "text/html": [
       "<table class=\"data-frame\"><thead><tr><th></th><th>AA</th><th>BB</th></tr><tr><th></th><th>Int64</th><th>String</th></tr></thead><tbody><p>8 rows × 2 columns</p><tr><th>1</th><td>1</td><td>A</td></tr><tr><th>2</th><td>2</td><td>B</td></tr><tr><th>3</th><td>3</td><td>C</td></tr><tr><th>4</th><td>4</td><td>D</td></tr><tr><th>5</th><td>5</td><td>E</td></tr><tr><th>6</th><td>6</td><td>F</td></tr><tr><th>7</th><td>7</td><td>G</td></tr><tr><th>8</th><td>8</td><td>H</td></tr></tbody></table>"
      ],
      "text/latex": [
       "\\begin{tabular}{r|cc}\n",
       "\t& AA & BB\\\\\n",
       "\t\\hline\n",
       "\t& Int64 & String\\\\\n",
       "\t\\hline\n",
       "\t1 & 1 & A \\\\\n",
       "\t2 & 2 & B \\\\\n",
       "\t3 & 3 & C \\\\\n",
       "\t4 & 4 & D \\\\\n",
       "\t5 & 5 & E \\\\\n",
       "\t6 & 6 & F \\\\\n",
       "\t7 & 7 & G \\\\\n",
       "\t8 & 8 & H \\\\\n",
       "\\end{tabular}\n"
      ],
      "text/plain": [
       "\u001b[1m8×2 DataFrame\u001b[0m\n",
       "\u001b[1m Row \u001b[0m│\u001b[1m AA    \u001b[0m\u001b[1m BB     \u001b[0m\n",
       "\u001b[1m     \u001b[0m│\u001b[90m Int64 \u001b[0m\u001b[90m String \u001b[0m\n",
       "─────┼───────────────\n",
       "   1 │     1  A\n",
       "   2 │     2  B\n",
       "   3 │     3  C\n",
       "   4 │     4  D\n",
       "   5 │     5  E\n",
       "   6 │     6  F\n",
       "   7 │     7  G\n",
       "   8 │     8  H"
      ]
     },
     "execution_count": 17,
     "metadata": {},
     "output_type": "execute_result"
    }
   ],
   "source": [
    "df"
   ]
  },
  {
   "cell_type": "code",
   "execution_count": 18,
   "id": "3195c22f",
   "metadata": {},
   "outputs": [
    {
     "data": {
      "text/plain": [
       "(8, 2)"
      ]
     },
     "execution_count": 18,
     "metadata": {},
     "output_type": "execute_result"
    }
   ],
   "source": [
    "size(df)"
   ]
  },
  {
   "cell_type": "code",
   "execution_count": 20,
   "id": "f93973f4",
   "metadata": {},
   "outputs": [
    {
     "data": {
      "text/plain": [
       "8"
      ]
     },
     "execution_count": 20,
     "metadata": {},
     "output_type": "execute_result"
    }
   ],
   "source": [
    "size(df, 1)"
   ]
  },
  {
   "cell_type": "code",
   "execution_count": 23,
   "id": "d5be178f",
   "metadata": {},
   "outputs": [
    {
     "data": {
      "text/html": [
       "<table class=\"data-frame\"><thead><tr><th></th><th>A</th><th>B</th></tr><tr><th></th><th>Int64</th><th>String</th></tr></thead><tbody><p>0 rows × 2 columns</p></tbody></table>"
      ],
      "text/latex": [
       "\\begin{tabular}{r|cc}\n",
       "\t& A & B\\\\\n",
       "\t\\hline\n",
       "\t& Int64 & String\\\\\n",
       "\t\\hline\n",
       "\\end{tabular}\n"
      ],
      "text/plain": [
       "\u001b[1m0×2 DataFrame\u001b[0m"
      ]
     },
     "execution_count": 23,
     "metadata": {},
     "output_type": "execute_result"
    }
   ],
   "source": [
    "df = DataFrame(A = Int[], B = String[])"
   ]
  },
  {
   "cell_type": "code",
   "execution_count": 25,
   "id": "47f33c7e",
   "metadata": {},
   "outputs": [
    {
     "data": {
      "text/html": [
       "<table class=\"data-frame\"><thead><tr><th></th><th>A</th><th>B</th></tr><tr><th></th><th>Int64</th><th>String</th></tr></thead><tbody><p>4 rows × 2 columns</p><tr><th>1</th><td>1</td><td>Apple</td></tr><tr><th>2</th><td>1</td><td>Apple</td></tr><tr><th>3</th><td>1</td><td>Banana</td></tr><tr><th>4</th><td>1</td><td>Mango</td></tr></tbody></table>"
      ],
      "text/latex": [
       "\\begin{tabular}{r|cc}\n",
       "\t& A & B\\\\\n",
       "\t\\hline\n",
       "\t& Int64 & String\\\\\n",
       "\t\\hline\n",
       "\t1 & 1 & Apple \\\\\n",
       "\t2 & 1 & Apple \\\\\n",
       "\t3 & 1 & Banana \\\\\n",
       "\t4 & 1 & Mango \\\\\n",
       "\\end{tabular}\n"
      ],
      "text/plain": [
       "\u001b[1m4×2 DataFrame\u001b[0m\n",
       "\u001b[1m Row \u001b[0m│\u001b[1m A     \u001b[0m\u001b[1m B      \u001b[0m\n",
       "\u001b[1m     \u001b[0m│\u001b[90m Int64 \u001b[0m\u001b[90m String \u001b[0m\n",
       "─────┼───────────────\n",
       "   1 │     1  Apple\n",
       "   2 │     1  Apple\n",
       "   3 │     1  Banana\n",
       "   4 │     1  Mango"
      ]
     },
     "execution_count": 25,
     "metadata": {},
     "output_type": "execute_result"
    }
   ],
   "source": [
    "push!(df, (1, \"Apple\"))\n",
    "push!(df, (1, \"Banana\"))\n",
    "push!(df, (1, \"Mango\"))"
   ]
  },
  {
   "cell_type": "code",
   "execution_count": 28,
   "id": "7670c132",
   "metadata": {},
   "outputs": [
    {
     "data": {
      "text/html": [
       "<table class=\"data-frame\"><thead><tr><th></th><th>A</th><th>B</th></tr><tr><th></th><th>Int64</th><th>String</th></tr></thead><tbody><p>3 rows × 2 columns</p><tr><th>1</th><td>1</td><td>Apple</td></tr><tr><th>2</th><td>1</td><td>Banana</td></tr><tr><th>3</th><td>1</td><td>Mango</td></tr></tbody></table>"
      ],
      "text/latex": [
       "\\begin{tabular}{r|cc}\n",
       "\t& A & B\\\\\n",
       "\t\\hline\n",
       "\t& Int64 & String\\\\\n",
       "\t\\hline\n",
       "\t1 & 1 & Apple \\\\\n",
       "\t2 & 1 & Banana \\\\\n",
       "\t3 & 1 & Mango \\\\\n",
       "\\end{tabular}\n"
      ],
      "text/plain": [
       "\u001b[1m3×2 DataFrame\u001b[0m\n",
       "\u001b[1m Row \u001b[0m│\u001b[1m A     \u001b[0m\u001b[1m B      \u001b[0m\n",
       "\u001b[1m     \u001b[0m│\u001b[90m Int64 \u001b[0m\u001b[90m String \u001b[0m\n",
       "─────┼───────────────\n",
       "   1 │     1  Apple\n",
       "   2 │     1  Banana\n",
       "   3 │     1  Mango"
      ]
     },
     "execution_count": 28,
     "metadata": {},
     "output_type": "execute_result"
    }
   ],
   "source": [
    "delete!(df, 1)"
   ]
  },
  {
   "cell_type": "code",
   "execution_count": 29,
   "id": "693b5785",
   "metadata": {},
   "outputs": [
    {
     "data": {
      "text/html": [
       "<table class=\"data-frame\"><thead><tr><th></th><th>A</th><th>B</th><th>C</th></tr><tr><th></th><th>Int64</th><th>Int64</th><th>Int64</th></tr></thead><tbody><p>20 rows × 3 columns</p><tr><th>1</th><td>0</td><td>1</td><td>1</td></tr><tr><th>2</th><td>5</td><td>1</td><td>2</td></tr><tr><th>3</th><td>10</td><td>2</td><td>3</td></tr><tr><th>4</th><td>15</td><td>2</td><td>4</td></tr><tr><th>5</th><td>20</td><td>3</td><td>5</td></tr><tr><th>6</th><td>25</td><td>3</td><td>6</td></tr><tr><th>7</th><td>30</td><td>4</td><td>7</td></tr><tr><th>8</th><td>35</td><td>4</td><td>8</td></tr><tr><th>9</th><td>40</td><td>5</td><td>9</td></tr><tr><th>10</th><td>45</td><td>5</td><td>10</td></tr><tr><th>11</th><td>50</td><td>6</td><td>11</td></tr><tr><th>12</th><td>55</td><td>6</td><td>12</td></tr><tr><th>13</th><td>60</td><td>7</td><td>13</td></tr><tr><th>14</th><td>65</td><td>7</td><td>14</td></tr><tr><th>15</th><td>70</td><td>8</td><td>15</td></tr><tr><th>16</th><td>75</td><td>8</td><td>16</td></tr><tr><th>17</th><td>80</td><td>9</td><td>17</td></tr><tr><th>18</th><td>85</td><td>9</td><td>18</td></tr><tr><th>19</th><td>90</td><td>10</td><td>19</td></tr><tr><th>20</th><td>95</td><td>10</td><td>20</td></tr></tbody></table>"
      ],
      "text/latex": [
       "\\begin{tabular}{r|ccc}\n",
       "\t& A & B & C\\\\\n",
       "\t\\hline\n",
       "\t& Int64 & Int64 & Int64\\\\\n",
       "\t\\hline\n",
       "\t1 & 0 & 1 & 1 \\\\\n",
       "\t2 & 5 & 1 & 2 \\\\\n",
       "\t3 & 10 & 2 & 3 \\\\\n",
       "\t4 & 15 & 2 & 4 \\\\\n",
       "\t5 & 20 & 3 & 5 \\\\\n",
       "\t6 & 25 & 3 & 6 \\\\\n",
       "\t7 & 30 & 4 & 7 \\\\\n",
       "\t8 & 35 & 4 & 8 \\\\\n",
       "\t9 & 40 & 5 & 9 \\\\\n",
       "\t10 & 45 & 5 & 10 \\\\\n",
       "\t11 & 50 & 6 & 11 \\\\\n",
       "\t12 & 55 & 6 & 12 \\\\\n",
       "\t13 & 60 & 7 & 13 \\\\\n",
       "\t14 & 65 & 7 & 14 \\\\\n",
       "\t15 & 70 & 8 & 15 \\\\\n",
       "\t16 & 75 & 8 & 16 \\\\\n",
       "\t17 & 80 & 9 & 17 \\\\\n",
       "\t18 & 85 & 9 & 18 \\\\\n",
       "\t19 & 90 & 10 & 19 \\\\\n",
       "\t20 & 95 & 10 & 20 \\\\\n",
       "\\end{tabular}\n"
      ],
      "text/plain": [
       "\u001b[1m20×3 DataFrame\u001b[0m\n",
       "\u001b[1m Row \u001b[0m│\u001b[1m A     \u001b[0m\u001b[1m B     \u001b[0m\u001b[1m C     \u001b[0m\n",
       "\u001b[1m     \u001b[0m│\u001b[90m Int64 \u001b[0m\u001b[90m Int64 \u001b[0m\u001b[90m Int64 \u001b[0m\n",
       "─────┼─────────────────────\n",
       "   1 │     0      1      1\n",
       "   2 │     5      1      2\n",
       "   3 │    10      2      3\n",
       "   4 │    15      2      4\n",
       "   5 │    20      3      5\n",
       "   6 │    25      3      6\n",
       "   7 │    30      4      7\n",
       "   8 │    35      4      8\n",
       "   9 │    40      5      9\n",
       "  10 │    45      5     10\n",
       "  11 │    50      6     11\n",
       "  12 │    55      6     12\n",
       "  13 │    60      7     13\n",
       "  14 │    65      7     14\n",
       "  15 │    70      8     15\n",
       "  16 │    75      8     16\n",
       "  17 │    80      9     17\n",
       "  18 │    85      9     18\n",
       "  19 │    90     10     19\n",
       "  20 │    95     10     20"
      ]
     },
     "execution_count": 29,
     "metadata": {},
     "output_type": "execute_result"
    }
   ],
   "source": [
    "df = DataFrame(A=0:5:95, B=repeat(1:10, inner=2), C=1:20)"
   ]
  },
  {
   "cell_type": "code",
   "execution_count": 30,
   "id": "1ff5ea43",
   "metadata": {},
   "outputs": [
    {
     "data": {
      "text/html": [
       "<table class=\"data-frame\"><thead><tr><th></th><th>A</th><th>B</th><th>C</th></tr><tr><th></th><th>Int64</th><th>Int64</th><th>Int64</th></tr></thead><tbody><p>3 rows × 3 columns</p><tr><th>1</th><td>0</td><td>1</td><td>1</td></tr><tr><th>2</th><td>5</td><td>1</td><td>2</td></tr><tr><th>3</th><td>10</td><td>2</td><td>3</td></tr></tbody></table>"
      ],
      "text/latex": [
       "\\begin{tabular}{r|ccc}\n",
       "\t& A & B & C\\\\\n",
       "\t\\hline\n",
       "\t& Int64 & Int64 & Int64\\\\\n",
       "\t\\hline\n",
       "\t1 & 0 & 1 & 1 \\\\\n",
       "\t2 & 5 & 1 & 2 \\\\\n",
       "\t3 & 10 & 2 & 3 \\\\\n",
       "\\end{tabular}\n"
      ],
      "text/plain": [
       "\u001b[1m3×3 DataFrame\u001b[0m\n",
       "\u001b[1m Row \u001b[0m│\u001b[1m A     \u001b[0m\u001b[1m B     \u001b[0m\u001b[1m C     \u001b[0m\n",
       "\u001b[1m     \u001b[0m│\u001b[90m Int64 \u001b[0m\u001b[90m Int64 \u001b[0m\u001b[90m Int64 \u001b[0m\n",
       "─────┼─────────────────────\n",
       "   1 │     0      1      1\n",
       "   2 │     5      1      2\n",
       "   3 │    10      2      3"
      ]
     },
     "execution_count": 30,
     "metadata": {},
     "output_type": "execute_result"
    }
   ],
   "source": [
    "first(df, 3)"
   ]
  },
  {
   "cell_type": "code",
   "execution_count": 31,
   "id": "b8649dab",
   "metadata": {},
   "outputs": [
    {
     "data": {
      "text/html": [
       "<table class=\"data-frame\"><thead><tr><th></th><th>A</th><th>B</th><th>C</th></tr><tr><th></th><th>Int64</th><th>Int64</th><th>Int64</th></tr></thead><tbody><p>3 rows × 3 columns</p><tr><th>1</th><td>85</td><td>9</td><td>18</td></tr><tr><th>2</th><td>90</td><td>10</td><td>19</td></tr><tr><th>3</th><td>95</td><td>10</td><td>20</td></tr></tbody></table>"
      ],
      "text/latex": [
       "\\begin{tabular}{r|ccc}\n",
       "\t& A & B & C\\\\\n",
       "\t\\hline\n",
       "\t& Int64 & Int64 & Int64\\\\\n",
       "\t\\hline\n",
       "\t1 & 85 & 9 & 18 \\\\\n",
       "\t2 & 90 & 10 & 19 \\\\\n",
       "\t3 & 95 & 10 & 20 \\\\\n",
       "\\end{tabular}\n"
      ],
      "text/plain": [
       "\u001b[1m3×3 DataFrame\u001b[0m\n",
       "\u001b[1m Row \u001b[0m│\u001b[1m A     \u001b[0m\u001b[1m B     \u001b[0m\u001b[1m C     \u001b[0m\n",
       "\u001b[1m     \u001b[0m│\u001b[90m Int64 \u001b[0m\u001b[90m Int64 \u001b[0m\u001b[90m Int64 \u001b[0m\n",
       "─────┼─────────────────────\n",
       "   1 │    85      9     18\n",
       "   2 │    90     10     19\n",
       "   3 │    95     10     20"
      ]
     },
     "execution_count": 31,
     "metadata": {},
     "output_type": "execute_result"
    }
   ],
   "source": [
    "last(df, 3)"
   ]
  },
  {
   "cell_type": "code",
   "execution_count": 33,
   "id": "0c16db3e",
   "metadata": {},
   "outputs": [
    {
     "data": {
      "text/html": [
       "<table class=\"data-frame\"><thead><tr><th></th><th>A</th><th>B</th><th>C</th></tr><tr><th></th><th>Int64</th><th>Int64</th><th>Int64</th></tr></thead><tbody><p>10 rows × 3 columns</p><tr><th>1</th><td>0</td><td>1</td><td>1</td></tr><tr><th>2</th><td>5</td><td>1</td><td>2</td></tr><tr><th>3</th><td>10</td><td>2</td><td>3</td></tr><tr><th>4</th><td>15</td><td>2</td><td>4</td></tr><tr><th>5</th><td>20</td><td>3</td><td>5</td></tr><tr><th>6</th><td>25</td><td>3</td><td>6</td></tr><tr><th>7</th><td>30</td><td>4</td><td>7</td></tr><tr><th>8</th><td>35</td><td>4</td><td>8</td></tr><tr><th>9</th><td>40</td><td>5</td><td>9</td></tr><tr><th>10</th><td>45</td><td>5</td><td>10</td></tr></tbody></table>"
      ],
      "text/latex": [
       "\\begin{tabular}{r|ccc}\n",
       "\t& A & B & C\\\\\n",
       "\t\\hline\n",
       "\t& Int64 & Int64 & Int64\\\\\n",
       "\t\\hline\n",
       "\t1 & 0 & 1 & 1 \\\\\n",
       "\t2 & 5 & 1 & 2 \\\\\n",
       "\t3 & 10 & 2 & 3 \\\\\n",
       "\t4 & 15 & 2 & 4 \\\\\n",
       "\t5 & 20 & 3 & 5 \\\\\n",
       "\t6 & 25 & 3 & 6 \\\\\n",
       "\t7 & 30 & 4 & 7 \\\\\n",
       "\t8 & 35 & 4 & 8 \\\\\n",
       "\t9 & 40 & 5 & 9 \\\\\n",
       "\t10 & 45 & 5 & 10 \\\\\n",
       "\\end{tabular}\n"
      ],
      "text/plain": [
       "\u001b[1m10×3 DataFrame\u001b[0m\n",
       "\u001b[1m Row \u001b[0m│\u001b[1m A     \u001b[0m\u001b[1m B     \u001b[0m\u001b[1m C     \u001b[0m\n",
       "\u001b[1m     \u001b[0m│\u001b[90m Int64 \u001b[0m\u001b[90m Int64 \u001b[0m\u001b[90m Int64 \u001b[0m\n",
       "─────┼─────────────────────\n",
       "   1 │     0      1      1\n",
       "   2 │     5      1      2\n",
       "   3 │    10      2      3\n",
       "   4 │    15      2      4\n",
       "   5 │    20      3      5\n",
       "   6 │    25      3      6\n",
       "   7 │    30      4      7\n",
       "   8 │    35      4      8\n",
       "   9 │    40      5      9\n",
       "  10 │    45      5     10"
      ]
     },
     "execution_count": 33,
     "metadata": {},
     "output_type": "execute_result"
    }
   ],
   "source": [
    "df[1:10, :]"
   ]
  },
  {
   "cell_type": "code",
   "execution_count": 34,
   "id": "e04f2692",
   "metadata": {},
   "outputs": [
    {
     "data": {
      "text/html": [
       "<table class=\"data-frame\"><thead><tr><th></th><th>A</th><th>B</th><th>C</th></tr><tr><th></th><th>Int64</th><th>Int64</th><th>Int64</th></tr></thead><tbody><p>9 rows × 3 columns</p><tr><th>1</th><td>55</td><td>6</td><td>12</td></tr><tr><th>2</th><td>60</td><td>7</td><td>13</td></tr><tr><th>3</th><td>65</td><td>7</td><td>14</td></tr><tr><th>4</th><td>70</td><td>8</td><td>15</td></tr><tr><th>5</th><td>75</td><td>8</td><td>16</td></tr><tr><th>6</th><td>80</td><td>9</td><td>17</td></tr><tr><th>7</th><td>85</td><td>9</td><td>18</td></tr><tr><th>8</th><td>90</td><td>10</td><td>19</td></tr><tr><th>9</th><td>95</td><td>10</td><td>20</td></tr></tbody></table>"
      ],
      "text/latex": [
       "\\begin{tabular}{r|ccc}\n",
       "\t& A & B & C\\\\\n",
       "\t\\hline\n",
       "\t& Int64 & Int64 & Int64\\\\\n",
       "\t\\hline\n",
       "\t1 & 55 & 6 & 12 \\\\\n",
       "\t2 & 60 & 7 & 13 \\\\\n",
       "\t3 & 65 & 7 & 14 \\\\\n",
       "\t4 & 70 & 8 & 15 \\\\\n",
       "\t5 & 75 & 8 & 16 \\\\\n",
       "\t6 & 80 & 9 & 17 \\\\\n",
       "\t7 & 85 & 9 & 18 \\\\\n",
       "\t8 & 90 & 10 & 19 \\\\\n",
       "\t9 & 95 & 10 & 20 \\\\\n",
       "\\end{tabular}\n"
      ],
      "text/plain": [
       "\u001b[1m9×3 DataFrame\u001b[0m\n",
       "\u001b[1m Row \u001b[0m│\u001b[1m A     \u001b[0m\u001b[1m B     \u001b[0m\u001b[1m C     \u001b[0m\n",
       "\u001b[1m     \u001b[0m│\u001b[90m Int64 \u001b[0m\u001b[90m Int64 \u001b[0m\u001b[90m Int64 \u001b[0m\n",
       "─────┼─────────────────────\n",
       "   1 │    55      6     12\n",
       "   2 │    60      7     13\n",
       "   3 │    65      7     14\n",
       "   4 │    70      8     15\n",
       "   5 │    75      8     16\n",
       "   6 │    80      9     17\n",
       "   7 │    85      9     18\n",
       "   8 │    90     10     19\n",
       "   9 │    95     10     20"
      ]
     },
     "execution_count": 34,
     "metadata": {},
     "output_type": "execute_result"
    }
   ],
   "source": [
    "df[df.A .> 50, :]"
   ]
  },
  {
   "cell_type": "code",
   "execution_count": 35,
   "id": "030af9df",
   "metadata": {},
   "outputs": [
    {
     "data": {
      "text/html": [
       "<table class=\"data-frame\"><thead><tr><th></th><th>variable</th><th>mean</th><th>min</th><th>median</th><th>max</th><th>nmissing</th><th>eltype</th></tr><tr><th></th><th>Symbol</th><th>Float64</th><th>Int64</th><th>Float64</th><th>Int64</th><th>Int64</th><th>DataType</th></tr></thead><tbody><p>3 rows × 7 columns</p><tr><th>1</th><td>A</td><td>47.5</td><td>0</td><td>47.5</td><td>95</td><td>0</td><td>Int64</td></tr><tr><th>2</th><td>B</td><td>5.5</td><td>1</td><td>5.5</td><td>10</td><td>0</td><td>Int64</td></tr><tr><th>3</th><td>C</td><td>10.5</td><td>1</td><td>10.5</td><td>20</td><td>0</td><td>Int64</td></tr></tbody></table>"
      ],
      "text/latex": [
       "\\begin{tabular}{r|ccccccc}\n",
       "\t& variable & mean & min & median & max & nmissing & eltype\\\\\n",
       "\t\\hline\n",
       "\t& Symbol & Float64 & Int64 & Float64 & Int64 & Int64 & DataType\\\\\n",
       "\t\\hline\n",
       "\t1 & A & 47.5 & 0 & 47.5 & 95 & 0 & Int64 \\\\\n",
       "\t2 & B & 5.5 & 1 & 5.5 & 10 & 0 & Int64 \\\\\n",
       "\t3 & C & 10.5 & 1 & 10.5 & 20 & 0 & Int64 \\\\\n",
       "\\end{tabular}\n"
      ],
      "text/plain": [
       "\u001b[1m3×7 DataFrame\u001b[0m\n",
       "\u001b[1m Row \u001b[0m│\u001b[1m variable \u001b[0m\u001b[1m mean    \u001b[0m\u001b[1m min   \u001b[0m\u001b[1m median  \u001b[0m\u001b[1m max   \u001b[0m\u001b[1m nmissing \u001b[0m\u001b[1m eltype   \u001b[0m\n",
       "\u001b[1m     \u001b[0m│\u001b[90m Symbol   \u001b[0m\u001b[90m Float64 \u001b[0m\u001b[90m Int64 \u001b[0m\u001b[90m Float64 \u001b[0m\u001b[90m Int64 \u001b[0m\u001b[90m Int64    \u001b[0m\u001b[90m DataType \u001b[0m\n",
       "─────┼──────────────────────────────────────────────────────────────\n",
       "   1 │ A            47.5      0     47.5     95         0  Int64\n",
       "   2 │ B             5.5      1      5.5     10         0  Int64\n",
       "   3 │ C            10.5      1     10.5     20         0  Int64"
      ]
     },
     "execution_count": 35,
     "metadata": {},
     "output_type": "execute_result"
    }
   ],
   "source": [
    "describe(df)"
   ]
  },
  {
   "cell_type": "code",
   "execution_count": 36,
   "id": "bac5853e",
   "metadata": {},
   "outputs": [
    {
     "data": {
      "text/html": [
       "<table class=\"data-frame\"><thead><tr><th></th><th>A</th><th>C</th></tr><tr><th></th><th>Int64</th><th>Int64</th></tr></thead><tbody><p>20 rows × 2 columns</p><tr><th>1</th><td>0</td><td>1</td></tr><tr><th>2</th><td>5</td><td>2</td></tr><tr><th>3</th><td>10</td><td>3</td></tr><tr><th>4</th><td>15</td><td>4</td></tr><tr><th>5</th><td>20</td><td>5</td></tr><tr><th>6</th><td>25</td><td>6</td></tr><tr><th>7</th><td>30</td><td>7</td></tr><tr><th>8</th><td>35</td><td>8</td></tr><tr><th>9</th><td>40</td><td>9</td></tr><tr><th>10</th><td>45</td><td>10</td></tr><tr><th>11</th><td>50</td><td>11</td></tr><tr><th>12</th><td>55</td><td>12</td></tr><tr><th>13</th><td>60</td><td>13</td></tr><tr><th>14</th><td>65</td><td>14</td></tr><tr><th>15</th><td>70</td><td>15</td></tr><tr><th>16</th><td>75</td><td>16</td></tr><tr><th>17</th><td>80</td><td>17</td></tr><tr><th>18</th><td>85</td><td>18</td></tr><tr><th>19</th><td>90</td><td>19</td></tr><tr><th>20</th><td>95</td><td>20</td></tr></tbody></table>"
      ],
      "text/latex": [
       "\\begin{tabular}{r|cc}\n",
       "\t& A & C\\\\\n",
       "\t\\hline\n",
       "\t& Int64 & Int64\\\\\n",
       "\t\\hline\n",
       "\t1 & 0 & 1 \\\\\n",
       "\t2 & 5 & 2 \\\\\n",
       "\t3 & 10 & 3 \\\\\n",
       "\t4 & 15 & 4 \\\\\n",
       "\t5 & 20 & 5 \\\\\n",
       "\t6 & 25 & 6 \\\\\n",
       "\t7 & 30 & 7 \\\\\n",
       "\t8 & 35 & 8 \\\\\n",
       "\t9 & 40 & 9 \\\\\n",
       "\t10 & 45 & 10 \\\\\n",
       "\t11 & 50 & 11 \\\\\n",
       "\t12 & 55 & 12 \\\\\n",
       "\t13 & 60 & 13 \\\\\n",
       "\t14 & 65 & 14 \\\\\n",
       "\t15 & 70 & 15 \\\\\n",
       "\t16 & 75 & 16 \\\\\n",
       "\t17 & 80 & 17 \\\\\n",
       "\t18 & 85 & 18 \\\\\n",
       "\t19 & 90 & 19 \\\\\n",
       "\t20 & 95 & 20 \\\\\n",
       "\\end{tabular}\n"
      ],
      "text/plain": [
       "\u001b[1m20×2 DataFrame\u001b[0m\n",
       "\u001b[1m Row \u001b[0m│\u001b[1m A     \u001b[0m\u001b[1m C     \u001b[0m\n",
       "\u001b[1m     \u001b[0m│\u001b[90m Int64 \u001b[0m\u001b[90m Int64 \u001b[0m\n",
       "─────┼──────────────\n",
       "   1 │     0      1\n",
       "   2 │     5      2\n",
       "   3 │    10      3\n",
       "   4 │    15      4\n",
       "   5 │    20      5\n",
       "   6 │    25      6\n",
       "   7 │    30      7\n",
       "   8 │    35      8\n",
       "   9 │    40      9\n",
       "  10 │    45     10\n",
       "  11 │    50     11\n",
       "  12 │    55     12\n",
       "  13 │    60     13\n",
       "  14 │    65     14\n",
       "  15 │    70     15\n",
       "  16 │    75     16\n",
       "  17 │    80     17\n",
       "  18 │    85     18\n",
       "  19 │    90     19\n",
       "  20 │    95     20"
      ]
     },
     "execution_count": 36,
     "metadata": {},
     "output_type": "execute_result"
    }
   ],
   "source": [
    "select(df, Not(:B))"
   ]
  },
  {
   "cell_type": "code",
   "execution_count": 38,
   "id": "e87b0bba",
   "metadata": {},
   "outputs": [
    {
     "data": {
      "text/html": [
       "<table class=\"data-frame\"><thead><tr><th></th><th>AA</th><th>CC</th></tr><tr><th></th><th>Int64</th><th>Int64</th></tr></thead><tbody><p>20 rows × 2 columns</p><tr><th>1</th><td>0</td><td>1</td></tr><tr><th>2</th><td>5</td><td>2</td></tr><tr><th>3</th><td>10</td><td>3</td></tr><tr><th>4</th><td>15</td><td>4</td></tr><tr><th>5</th><td>20</td><td>5</td></tr><tr><th>6</th><td>25</td><td>6</td></tr><tr><th>7</th><td>30</td><td>7</td></tr><tr><th>8</th><td>35</td><td>8</td></tr><tr><th>9</th><td>40</td><td>9</td></tr><tr><th>10</th><td>45</td><td>10</td></tr><tr><th>11</th><td>50</td><td>11</td></tr><tr><th>12</th><td>55</td><td>12</td></tr><tr><th>13</th><td>60</td><td>13</td></tr><tr><th>14</th><td>65</td><td>14</td></tr><tr><th>15</th><td>70</td><td>15</td></tr><tr><th>16</th><td>75</td><td>16</td></tr><tr><th>17</th><td>80</td><td>17</td></tr><tr><th>18</th><td>85</td><td>18</td></tr><tr><th>19</th><td>90</td><td>19</td></tr><tr><th>20</th><td>95</td><td>20</td></tr></tbody></table>"
      ],
      "text/latex": [
       "\\begin{tabular}{r|cc}\n",
       "\t& AA & CC\\\\\n",
       "\t\\hline\n",
       "\t& Int64 & Int64\\\\\n",
       "\t\\hline\n",
       "\t1 & 0 & 1 \\\\\n",
       "\t2 & 5 & 2 \\\\\n",
       "\t3 & 10 & 3 \\\\\n",
       "\t4 & 15 & 4 \\\\\n",
       "\t5 & 20 & 5 \\\\\n",
       "\t6 & 25 & 6 \\\\\n",
       "\t7 & 30 & 7 \\\\\n",
       "\t8 & 35 & 8 \\\\\n",
       "\t9 & 40 & 9 \\\\\n",
       "\t10 & 45 & 10 \\\\\n",
       "\t11 & 50 & 11 \\\\\n",
       "\t12 & 55 & 12 \\\\\n",
       "\t13 & 60 & 13 \\\\\n",
       "\t14 & 65 & 14 \\\\\n",
       "\t15 & 70 & 15 \\\\\n",
       "\t16 & 75 & 16 \\\\\n",
       "\t17 & 80 & 17 \\\\\n",
       "\t18 & 85 & 18 \\\\\n",
       "\t19 & 90 & 19 \\\\\n",
       "\t20 & 95 & 20 \\\\\n",
       "\\end{tabular}\n"
      ],
      "text/plain": [
       "\u001b[1m20×2 DataFrame\u001b[0m\n",
       "\u001b[1m Row \u001b[0m│\u001b[1m AA    \u001b[0m\u001b[1m CC    \u001b[0m\n",
       "\u001b[1m     \u001b[0m│\u001b[90m Int64 \u001b[0m\u001b[90m Int64 \u001b[0m\n",
       "─────┼──────────────\n",
       "   1 │     0      1\n",
       "   2 │     5      2\n",
       "   3 │    10      3\n",
       "   4 │    15      4\n",
       "   5 │    20      5\n",
       "   6 │    25      6\n",
       "   7 │    30      7\n",
       "   8 │    35      8\n",
       "   9 │    40      9\n",
       "  10 │    45     10\n",
       "  11 │    50     11\n",
       "  12 │    55     12\n",
       "  13 │    60     13\n",
       "  14 │    65     14\n",
       "  15 │    70     15\n",
       "  16 │    75     16\n",
       "  17 │    80     17\n",
       "  18 │    85     18\n",
       "  19 │    90     19\n",
       "  20 │    95     20"
      ]
     },
     "execution_count": 38,
     "metadata": {},
     "output_type": "execute_result"
    }
   ],
   "source": [
    "select(df, :A => :AA, :C => :CC)"
   ]
  },
  {
   "cell_type": "code",
   "execution_count": 39,
   "id": "db487739",
   "metadata": {},
   "outputs": [
    {
     "data": {
      "text/html": [
       "<table class=\"data-frame\"><thead><tr><th></th><th>A</th><th>C</th></tr><tr><th></th><th>Int64</th><th>Int64</th></tr></thead><tbody><p>20 rows × 2 columns</p><tr><th>1</th><td>0</td><td>1</td></tr><tr><th>2</th><td>5</td><td>2</td></tr><tr><th>3</th><td>10</td><td>3</td></tr><tr><th>4</th><td>15</td><td>4</td></tr><tr><th>5</th><td>20</td><td>5</td></tr><tr><th>6</th><td>25</td><td>6</td></tr><tr><th>7</th><td>30</td><td>7</td></tr><tr><th>8</th><td>35</td><td>8</td></tr><tr><th>9</th><td>40</td><td>9</td></tr><tr><th>10</th><td>45</td><td>10</td></tr><tr><th>11</th><td>50</td><td>11</td></tr><tr><th>12</th><td>55</td><td>12</td></tr><tr><th>13</th><td>60</td><td>13</td></tr><tr><th>14</th><td>65</td><td>14</td></tr><tr><th>15</th><td>70</td><td>15</td></tr><tr><th>16</th><td>75</td><td>16</td></tr><tr><th>17</th><td>80</td><td>17</td></tr><tr><th>18</th><td>85</td><td>18</td></tr><tr><th>19</th><td>90</td><td>19</td></tr><tr><th>20</th><td>95</td><td>20</td></tr></tbody></table>"
      ],
      "text/latex": [
       "\\begin{tabular}{r|cc}\n",
       "\t& A & C\\\\\n",
       "\t\\hline\n",
       "\t& Int64 & Int64\\\\\n",
       "\t\\hline\n",
       "\t1 & 0 & 1 \\\\\n",
       "\t2 & 5 & 2 \\\\\n",
       "\t3 & 10 & 3 \\\\\n",
       "\t4 & 15 & 4 \\\\\n",
       "\t5 & 20 & 5 \\\\\n",
       "\t6 & 25 & 6 \\\\\n",
       "\t7 & 30 & 7 \\\\\n",
       "\t8 & 35 & 8 \\\\\n",
       "\t9 & 40 & 9 \\\\\n",
       "\t10 & 45 & 10 \\\\\n",
       "\t11 & 50 & 11 \\\\\n",
       "\t12 & 55 & 12 \\\\\n",
       "\t13 & 60 & 13 \\\\\n",
       "\t14 & 65 & 14 \\\\\n",
       "\t15 & 70 & 15 \\\\\n",
       "\t16 & 75 & 16 \\\\\n",
       "\t17 & 80 & 17 \\\\\n",
       "\t18 & 85 & 18 \\\\\n",
       "\t19 & 90 & 19 \\\\\n",
       "\t20 & 95 & 20 \\\\\n",
       "\\end{tabular}\n"
      ],
      "text/plain": [
       "\u001b[1m20×2 DataFrame\u001b[0m\n",
       "\u001b[1m Row \u001b[0m│\u001b[1m A     \u001b[0m\u001b[1m C     \u001b[0m\n",
       "\u001b[1m     \u001b[0m│\u001b[90m Int64 \u001b[0m\u001b[90m Int64 \u001b[0m\n",
       "─────┼──────────────\n",
       "   1 │     0      1\n",
       "   2 │     5      2\n",
       "   3 │    10      3\n",
       "   4 │    15      4\n",
       "   5 │    20      5\n",
       "   6 │    25      6\n",
       "   7 │    30      7\n",
       "   8 │    35      8\n",
       "   9 │    40      9\n",
       "  10 │    45     10\n",
       "  11 │    50     11\n",
       "  12 │    55     12\n",
       "  13 │    60     13\n",
       "  14 │    65     14\n",
       "  15 │    70     15\n",
       "  16 │    75     16\n",
       "  17 │    80     17\n",
       "  18 │    85     18\n",
       "  19 │    90     19\n",
       "  20 │    95     20"
      ]
     },
     "execution_count": 39,
     "metadata": {},
     "output_type": "execute_result"
    }
   ],
   "source": [
    "select!(df, Not(:B))"
   ]
  },
  {
   "cell_type": "code",
   "execution_count": 40,
   "id": "b082fff5",
   "metadata": {},
   "outputs": [
    {
     "data": {
      "text/html": [
       "<table class=\"data-frame\"><thead><tr><th></th><th>A</th><th>C</th></tr><tr><th></th><th>Int64</th><th>Int64</th></tr></thead><tbody><p>20 rows × 2 columns</p><tr><th>1</th><td>0</td><td>1</td></tr><tr><th>2</th><td>5</td><td>2</td></tr><tr><th>3</th><td>10</td><td>3</td></tr><tr><th>4</th><td>15</td><td>4</td></tr><tr><th>5</th><td>20</td><td>5</td></tr><tr><th>6</th><td>25</td><td>6</td></tr><tr><th>7</th><td>30</td><td>7</td></tr><tr><th>8</th><td>35</td><td>8</td></tr><tr><th>9</th><td>40</td><td>9</td></tr><tr><th>10</th><td>45</td><td>10</td></tr><tr><th>11</th><td>50</td><td>11</td></tr><tr><th>12</th><td>55</td><td>12</td></tr><tr><th>13</th><td>60</td><td>13</td></tr><tr><th>14</th><td>65</td><td>14</td></tr><tr><th>15</th><td>70</td><td>15</td></tr><tr><th>16</th><td>75</td><td>16</td></tr><tr><th>17</th><td>80</td><td>17</td></tr><tr><th>18</th><td>85</td><td>18</td></tr><tr><th>19</th><td>90</td><td>19</td></tr><tr><th>20</th><td>95</td><td>20</td></tr></tbody></table>"
      ],
      "text/latex": [
       "\\begin{tabular}{r|cc}\n",
       "\t& A & C\\\\\n",
       "\t\\hline\n",
       "\t& Int64 & Int64\\\\\n",
       "\t\\hline\n",
       "\t1 & 0 & 1 \\\\\n",
       "\t2 & 5 & 2 \\\\\n",
       "\t3 & 10 & 3 \\\\\n",
       "\t4 & 15 & 4 \\\\\n",
       "\t5 & 20 & 5 \\\\\n",
       "\t6 & 25 & 6 \\\\\n",
       "\t7 & 30 & 7 \\\\\n",
       "\t8 & 35 & 8 \\\\\n",
       "\t9 & 40 & 9 \\\\\n",
       "\t10 & 45 & 10 \\\\\n",
       "\t11 & 50 & 11 \\\\\n",
       "\t12 & 55 & 12 \\\\\n",
       "\t13 & 60 & 13 \\\\\n",
       "\t14 & 65 & 14 \\\\\n",
       "\t15 & 70 & 15 \\\\\n",
       "\t16 & 75 & 16 \\\\\n",
       "\t17 & 80 & 17 \\\\\n",
       "\t18 & 85 & 18 \\\\\n",
       "\t19 & 90 & 19 \\\\\n",
       "\t20 & 95 & 20 \\\\\n",
       "\\end{tabular}\n"
      ],
      "text/plain": [
       "\u001b[1m20×2 DataFrame\u001b[0m\n",
       "\u001b[1m Row \u001b[0m│\u001b[1m A     \u001b[0m\u001b[1m C     \u001b[0m\n",
       "\u001b[1m     \u001b[0m│\u001b[90m Int64 \u001b[0m\u001b[90m Int64 \u001b[0m\n",
       "─────┼──────────────\n",
       "   1 │     0      1\n",
       "   2 │     5      2\n",
       "   3 │    10      3\n",
       "   4 │    15      4\n",
       "   5 │    20      5\n",
       "   6 │    25      6\n",
       "   7 │    30      7\n",
       "   8 │    35      8\n",
       "   9 │    40      9\n",
       "  10 │    45     10\n",
       "  11 │    50     11\n",
       "  12 │    55     12\n",
       "  13 │    60     13\n",
       "  14 │    65     14\n",
       "  15 │    70     15\n",
       "  16 │    75     16\n",
       "  17 │    80     17\n",
       "  18 │    85     18\n",
       "  19 │    90     19\n",
       "  20 │    95     20"
      ]
     },
     "execution_count": 40,
     "metadata": {},
     "output_type": "execute_result"
    }
   ],
   "source": [
    "df"
   ]
  },
  {
   "cell_type": "code",
   "execution_count": 41,
   "id": "30cd1b5e",
   "metadata": {},
   "outputs": [
    {
     "data": {
      "text/html": [
       "<table class=\"data-frame\"><thead><tr><th></th><th>AA</th><th>CC</th></tr><tr><th></th><th>Int64</th><th>Int64</th></tr></thead><tbody><p>20 rows × 2 columns</p><tr><th>1</th><td>0</td><td>1</td></tr><tr><th>2</th><td>5</td><td>2</td></tr><tr><th>3</th><td>10</td><td>3</td></tr><tr><th>4</th><td>15</td><td>4</td></tr><tr><th>5</th><td>20</td><td>5</td></tr><tr><th>6</th><td>25</td><td>6</td></tr><tr><th>7</th><td>30</td><td>7</td></tr><tr><th>8</th><td>35</td><td>8</td></tr><tr><th>9</th><td>40</td><td>9</td></tr><tr><th>10</th><td>45</td><td>10</td></tr><tr><th>11</th><td>50</td><td>11</td></tr><tr><th>12</th><td>55</td><td>12</td></tr><tr><th>13</th><td>60</td><td>13</td></tr><tr><th>14</th><td>65</td><td>14</td></tr><tr><th>15</th><td>70</td><td>15</td></tr><tr><th>16</th><td>75</td><td>16</td></tr><tr><th>17</th><td>80</td><td>17</td></tr><tr><th>18</th><td>85</td><td>18</td></tr><tr><th>19</th><td>90</td><td>19</td></tr><tr><th>20</th><td>95</td><td>20</td></tr></tbody></table>"
      ],
      "text/latex": [
       "\\begin{tabular}{r|cc}\n",
       "\t& AA & CC\\\\\n",
       "\t\\hline\n",
       "\t& Int64 & Int64\\\\\n",
       "\t\\hline\n",
       "\t1 & 0 & 1 \\\\\n",
       "\t2 & 5 & 2 \\\\\n",
       "\t3 & 10 & 3 \\\\\n",
       "\t4 & 15 & 4 \\\\\n",
       "\t5 & 20 & 5 \\\\\n",
       "\t6 & 25 & 6 \\\\\n",
       "\t7 & 30 & 7 \\\\\n",
       "\t8 & 35 & 8 \\\\\n",
       "\t9 & 40 & 9 \\\\\n",
       "\t10 & 45 & 10 \\\\\n",
       "\t11 & 50 & 11 \\\\\n",
       "\t12 & 55 & 12 \\\\\n",
       "\t13 & 60 & 13 \\\\\n",
       "\t14 & 65 & 14 \\\\\n",
       "\t15 & 70 & 15 \\\\\n",
       "\t16 & 75 & 16 \\\\\n",
       "\t17 & 80 & 17 \\\\\n",
       "\t18 & 85 & 18 \\\\\n",
       "\t19 & 90 & 19 \\\\\n",
       "\t20 & 95 & 20 \\\\\n",
       "\\end{tabular}\n"
      ],
      "text/plain": [
       "\u001b[1m20×2 DataFrame\u001b[0m\n",
       "\u001b[1m Row \u001b[0m│\u001b[1m AA    \u001b[0m\u001b[1m CC    \u001b[0m\n",
       "\u001b[1m     \u001b[0m│\u001b[90m Int64 \u001b[0m\u001b[90m Int64 \u001b[0m\n",
       "─────┼──────────────\n",
       "   1 │     0      1\n",
       "   2 │     5      2\n",
       "   3 │    10      3\n",
       "   4 │    15      4\n",
       "   5 │    20      5\n",
       "   6 │    25      6\n",
       "   7 │    30      7\n",
       "   8 │    35      8\n",
       "   9 │    40      9\n",
       "  10 │    45     10\n",
       "  11 │    50     11\n",
       "  12 │    55     12\n",
       "  13 │    60     13\n",
       "  14 │    65     14\n",
       "  15 │    70     15\n",
       "  16 │    75     16\n",
       "  17 │    80     17\n",
       "  18 │    85     18\n",
       "  19 │    90     19\n",
       "  20 │    95     20"
      ]
     },
     "execution_count": 41,
     "metadata": {},
     "output_type": "execute_result"
    }
   ],
   "source": [
    "select!(df, :A => :AA, :C => :CC)"
   ]
  },
  {
   "cell_type": "code",
   "execution_count": 42,
   "id": "ce3e1bcb",
   "metadata": {},
   "outputs": [
    {
     "data": {
      "text/html": [
       "<table class=\"data-frame\"><thead><tr><th></th><th>AA</th><th>CC</th></tr><tr><th></th><th>Int64</th><th>Int64</th></tr></thead><tbody><p>20 rows × 2 columns</p><tr><th>1</th><td>0</td><td>1</td></tr><tr><th>2</th><td>5</td><td>2</td></tr><tr><th>3</th><td>10</td><td>3</td></tr><tr><th>4</th><td>15</td><td>4</td></tr><tr><th>5</th><td>20</td><td>5</td></tr><tr><th>6</th><td>25</td><td>6</td></tr><tr><th>7</th><td>30</td><td>7</td></tr><tr><th>8</th><td>35</td><td>8</td></tr><tr><th>9</th><td>40</td><td>9</td></tr><tr><th>10</th><td>45</td><td>10</td></tr><tr><th>11</th><td>50</td><td>11</td></tr><tr><th>12</th><td>55</td><td>12</td></tr><tr><th>13</th><td>60</td><td>13</td></tr><tr><th>14</th><td>65</td><td>14</td></tr><tr><th>15</th><td>70</td><td>15</td></tr><tr><th>16</th><td>75</td><td>16</td></tr><tr><th>17</th><td>80</td><td>17</td></tr><tr><th>18</th><td>85</td><td>18</td></tr><tr><th>19</th><td>90</td><td>19</td></tr><tr><th>20</th><td>95</td><td>20</td></tr></tbody></table>"
      ],
      "text/latex": [
       "\\begin{tabular}{r|cc}\n",
       "\t& AA & CC\\\\\n",
       "\t\\hline\n",
       "\t& Int64 & Int64\\\\\n",
       "\t\\hline\n",
       "\t1 & 0 & 1 \\\\\n",
       "\t2 & 5 & 2 \\\\\n",
       "\t3 & 10 & 3 \\\\\n",
       "\t4 & 15 & 4 \\\\\n",
       "\t5 & 20 & 5 \\\\\n",
       "\t6 & 25 & 6 \\\\\n",
       "\t7 & 30 & 7 \\\\\n",
       "\t8 & 35 & 8 \\\\\n",
       "\t9 & 40 & 9 \\\\\n",
       "\t10 & 45 & 10 \\\\\n",
       "\t11 & 50 & 11 \\\\\n",
       "\t12 & 55 & 12 \\\\\n",
       "\t13 & 60 & 13 \\\\\n",
       "\t14 & 65 & 14 \\\\\n",
       "\t15 & 70 & 15 \\\\\n",
       "\t16 & 75 & 16 \\\\\n",
       "\t17 & 80 & 17 \\\\\n",
       "\t18 & 85 & 18 \\\\\n",
       "\t19 & 90 & 19 \\\\\n",
       "\t20 & 95 & 20 \\\\\n",
       "\\end{tabular}\n"
      ],
      "text/plain": [
       "\u001b[1m20×2 DataFrame\u001b[0m\n",
       "\u001b[1m Row \u001b[0m│\u001b[1m AA    \u001b[0m\u001b[1m CC    \u001b[0m\n",
       "\u001b[1m     \u001b[0m│\u001b[90m Int64 \u001b[0m\u001b[90m Int64 \u001b[0m\n",
       "─────┼──────────────\n",
       "   1 │     0      1\n",
       "   2 │     5      2\n",
       "   3 │    10      3\n",
       "   4 │    15      4\n",
       "   5 │    20      5\n",
       "   6 │    25      6\n",
       "   7 │    30      7\n",
       "   8 │    35      8\n",
       "   9 │    40      9\n",
       "  10 │    45     10\n",
       "  11 │    50     11\n",
       "  12 │    55     12\n",
       "  13 │    60     13\n",
       "  14 │    65     14\n",
       "  15 │    70     15\n",
       "  16 │    75     16\n",
       "  17 │    80     17\n",
       "  18 │    85     18\n",
       "  19 │    90     19\n",
       "  20 │    95     20"
      ]
     },
     "execution_count": 42,
     "metadata": {},
     "output_type": "execute_result"
    }
   ],
   "source": [
    "df"
   ]
  },
  {
   "cell_type": "code",
   "execution_count": 48,
   "id": "b0990525",
   "metadata": {},
   "outputs": [],
   "source": [
    "using Pkg\n",
    "Pkg.add(\"CSV\")"
   ]
  },
  {
   "cell_type": "code",
   "execution_count": 49,
   "id": "732b2ac8",
   "metadata": {},
   "outputs": [],
   "source": [
    "using CSV"
   ]
  },
  {
   "cell_type": "code",
   "execution_count": 51,
   "id": "396e92b1",
   "metadata": {},
   "outputs": [
    {
     "data": {
      "text/html": [
       "<table class=\"data-frame\"><thead><tr><th></th><th>月</th><th>平均気温</th><th>降水量の合計</th></tr><tr><th></th><th>Int64</th><th>Float64</th><th>Float64</th></tr></thead><tbody><p>12 rows × 3 columns</p><tr><th>1</th><td>1</td><td>5.6</td><td>16.0</td></tr><tr><th>2</th><td>2</td><td>7.2</td><td>42.0</td></tr><tr><th>3</th><td>3</td><td>10.6</td><td>117.5</td></tr><tr><th>4</th><td>4</td><td>13.6</td><td>90.5</td></tr><tr><th>5</th><td>5</td><td>20.0</td><td>120.5</td></tr><tr><th>6</th><td>6</td><td>21.8</td><td>225.0</td></tr><tr><th>7</th><td>7</td><td>24.1</td><td>193.0</td></tr><tr><th>8</th><td>8</td><td>28.4</td><td>110.0</td></tr><tr><th>9</th><td>9</td><td>25.1</td><td>197.0</td></tr><tr><th>10</th><td>10</td><td>19.4</td><td>529.5</td></tr><tr><th>11</th><td>11</td><td>13.1</td><td>156.5</td></tr><tr><th>12</th><td>12</td><td>8.5</td><td>76.5</td></tr></tbody></table>"
      ],
      "text/latex": [
       "\\begin{tabular}{r|ccc}\n",
       "\t& 月 & 平均気温 & 降水量の合計\\\\\n",
       "\t\\hline\n",
       "\t& Int64 & Float64 & Float64\\\\\n",
       "\t\\hline\n",
       "\t1 & 1 & 5.6 & 16.0 \\\\\n",
       "\t2 & 2 & 7.2 & 42.0 \\\\\n",
       "\t3 & 3 & 10.6 & 117.5 \\\\\n",
       "\t4 & 4 & 13.6 & 90.5 \\\\\n",
       "\t5 & 5 & 20.0 & 120.5 \\\\\n",
       "\t6 & 6 & 21.8 & 225.0 \\\\\n",
       "\t7 & 7 & 24.1 & 193.0 \\\\\n",
       "\t8 & 8 & 28.4 & 110.0 \\\\\n",
       "\t9 & 9 & 25.1 & 197.0 \\\\\n",
       "\t10 & 10 & 19.4 & 529.5 \\\\\n",
       "\t11 & 11 & 13.1 & 156.5 \\\\\n",
       "\t12 & 12 & 8.5 & 76.5 \\\\\n",
       "\\end{tabular}\n"
      ],
      "text/plain": [
       "\u001b[1m12×3 DataFrame\u001b[0m\n",
       "\u001b[1m Row \u001b[0m│\u001b[1m 月    \u001b[0m\u001b[1m 平均気温 \u001b[0m\u001b[1m 降水量の合計 \u001b[0m\n",
       "\u001b[1m     \u001b[0m│\u001b[90m Int64 \u001b[0m\u001b[90m Float64  \u001b[0m\u001b[90m Float64      \u001b[0m\n",
       "─────┼───────────────────────────────\n",
       "   1 │     1       5.6          16.0\n",
       "   2 │     2       7.2          42.0\n",
       "   3 │     3      10.6         117.5\n",
       "   4 │     4      13.6          90.5\n",
       "   5 │     5      20.0         120.5\n",
       "   6 │     6      21.8         225.0\n",
       "   7 │     7      24.1         193.0\n",
       "   8 │     8      28.4         110.0\n",
       "   9 │     9      25.1         197.0\n",
       "  10 │    10      19.4         529.5\n",
       "  11 │    11      13.1         156.5\n",
       "  12 │    12       8.5          76.5"
      ]
     },
     "execution_count": 51,
     "metadata": {},
     "output_type": "execute_result"
    }
   ],
   "source": [
    "filename = \"temp_2019_tokyo.csv\"\n",
    "df = CSV.read(filename, DataFrame)"
   ]
  },
  {
   "cell_type": "code",
   "execution_count": 52,
   "id": "342881a5",
   "metadata": {},
   "outputs": [
    {
     "data": {
      "text/html": [
       "<table class=\"data-frame\"><thead><tr><th></th><th>月</th><th>平均気温</th><th>降水量の合計</th></tr><tr><th></th><th>Int64</th><th>Float64</th><th>Float64</th></tr></thead><tbody><p>12 rows × 3 columns</p><tr><th>1</th><td>1</td><td>5.6</td><td>16.0</td></tr><tr><th>2</th><td>2</td><td>7.2</td><td>42.0</td></tr><tr><th>3</th><td>3</td><td>10.6</td><td>117.5</td></tr><tr><th>4</th><td>4</td><td>13.6</td><td>90.5</td></tr><tr><th>5</th><td>5</td><td>20.0</td><td>120.5</td></tr><tr><th>6</th><td>6</td><td>21.8</td><td>225.0</td></tr><tr><th>7</th><td>7</td><td>24.1</td><td>193.0</td></tr><tr><th>8</th><td>8</td><td>28.4</td><td>110.0</td></tr><tr><th>9</th><td>9</td><td>25.1</td><td>197.0</td></tr><tr><th>10</th><td>10</td><td>19.4</td><td>529.5</td></tr><tr><th>11</th><td>11</td><td>13.1</td><td>156.5</td></tr><tr><th>12</th><td>12</td><td>8.5</td><td>76.5</td></tr></tbody></table>"
      ],
      "text/latex": [
       "\\begin{tabular}{r|ccc}\n",
       "\t& 月 & 平均気温 & 降水量の合計\\\\\n",
       "\t\\hline\n",
       "\t& Int64 & Float64 & Float64\\\\\n",
       "\t\\hline\n",
       "\t1 & 1 & 5.6 & 16.0 \\\\\n",
       "\t2 & 2 & 7.2 & 42.0 \\\\\n",
       "\t3 & 3 & 10.6 & 117.5 \\\\\n",
       "\t4 & 4 & 13.6 & 90.5 \\\\\n",
       "\t5 & 5 & 20.0 & 120.5 \\\\\n",
       "\t6 & 6 & 21.8 & 225.0 \\\\\n",
       "\t7 & 7 & 24.1 & 193.0 \\\\\n",
       "\t8 & 8 & 28.4 & 110.0 \\\\\n",
       "\t9 & 9 & 25.1 & 197.0 \\\\\n",
       "\t10 & 10 & 19.4 & 529.5 \\\\\n",
       "\t11 & 11 & 13.1 & 156.5 \\\\\n",
       "\t12 & 12 & 8.5 & 76.5 \\\\\n",
       "\\end{tabular}\n"
      ],
      "text/plain": [
       "\u001b[1m12×3 DataFrame\u001b[0m\n",
       "\u001b[1m Row \u001b[0m│\u001b[1m 月    \u001b[0m\u001b[1m 平均気温 \u001b[0m\u001b[1m 降水量の合計 \u001b[0m\n",
       "\u001b[1m     \u001b[0m│\u001b[90m Int64 \u001b[0m\u001b[90m Float64  \u001b[0m\u001b[90m Float64      \u001b[0m\n",
       "─────┼───────────────────────────────\n",
       "   1 │     1       5.6          16.0\n",
       "   2 │     2       7.2          42.0\n",
       "   3 │     3      10.6         117.5\n",
       "   4 │     4      13.6          90.5\n",
       "   5 │     5      20.0         120.5\n",
       "   6 │     6      21.8         225.0\n",
       "   7 │     7      24.1         193.0\n",
       "   8 │     8      28.4         110.0\n",
       "   9 │     9      25.1         197.0\n",
       "  10 │    10      19.4         529.5\n",
       "  11 │    11      13.1         156.5\n",
       "  12 │    12       8.5          76.5"
      ]
     },
     "execution_count": 52,
     "metadata": {},
     "output_type": "execute_result"
    }
   ],
   "source": [
    "df"
   ]
  },
  {
   "cell_type": "code",
   "execution_count": 53,
   "id": "ee5d3206",
   "metadata": {},
   "outputs": [],
   "source": [
    "Pkg.add(\"StatsPlots\")"
   ]
  },
  {
   "cell_type": "code",
   "execution_count": 54,
   "id": "2ca58525",
   "metadata": {},
   "outputs": [],
   "source": [
    "using StatsPlots"
   ]
  },
  {
   "cell_type": "code",
   "execution_count": 55,
   "id": "737b925d",
   "metadata": {},
   "outputs": [
    {
     "data": {
      "image/svg+xml": [
       "<?xml version=\"1.0\" encoding=\"utf-8\"?>\n",
       "<svg xmlns=\"http://www.w3.org/2000/svg\" xmlns:xlink=\"http://www.w3.org/1999/xlink\" width=\"600\" height=\"400\" viewBox=\"0 0 2400 1600\">\n",
       "<defs>\n",
       "  <clipPath id=\"clip830\">\n",
       "    <rect x=\"0\" y=\"0\" width=\"2400\" height=\"1600\"/>\n",
       "  </clipPath>\n",
       "</defs>\n",
       "<path clip-path=\"url(#clip830)\" d=\"\n",
       "M0 1600 L2400 1600 L2400 0 L0 0  Z\n",
       "  \" fill=\"#ffffff\" fill-rule=\"evenodd\" fill-opacity=\"1\"/>\n",
       "<defs>\n",
       "  <clipPath id=\"clip831\">\n",
       "    <rect x=\"480\" y=\"0\" width=\"1681\" height=\"1600\"/>\n",
       "  </clipPath>\n",
       "</defs>\n",
       "<path clip-path=\"url(#clip830)\" d=\"\n",
       "M203.964 1423.18 L2352.76 1423.18 L2352.76 123.472 L203.964 123.472  Z\n",
       "  \" fill=\"#ffffff\" fill-rule=\"evenodd\" fill-opacity=\"1\"/>\n",
       "<defs>\n",
       "  <clipPath id=\"clip832\">\n",
       "    <rect x=\"203\" y=\"123\" width=\"2150\" height=\"1301\"/>\n",
       "  </clipPath>\n",
       "</defs>\n",
       "<polyline clip-path=\"url(#clip832)\" style=\"stroke:#000000; stroke-linecap:butt; stroke-linejoin:round; stroke-width:2; stroke-opacity:0.1; fill:none\" points=\"\n",
       "  264.778,1423.18 264.778,123.472 \n",
       "  \"/>\n",
       "<polyline clip-path=\"url(#clip832)\" style=\"stroke:#000000; stroke-linecap:butt; stroke-linejoin:round; stroke-width:2; stroke-opacity:0.1; fill:none\" points=\"\n",
       "  449.066,1423.18 449.066,123.472 \n",
       "  \"/>\n",
       "<polyline clip-path=\"url(#clip832)\" style=\"stroke:#000000; stroke-linecap:butt; stroke-linejoin:round; stroke-width:2; stroke-opacity:0.1; fill:none\" points=\"\n",
       "  633.353,1423.18 633.353,123.472 \n",
       "  \"/>\n",
       "<polyline clip-path=\"url(#clip832)\" style=\"stroke:#000000; stroke-linecap:butt; stroke-linejoin:round; stroke-width:2; stroke-opacity:0.1; fill:none\" points=\"\n",
       "  817.641,1423.18 817.641,123.472 \n",
       "  \"/>\n",
       "<polyline clip-path=\"url(#clip832)\" style=\"stroke:#000000; stroke-linecap:butt; stroke-linejoin:round; stroke-width:2; stroke-opacity:0.1; fill:none\" points=\"\n",
       "  1001.93,1423.18 1001.93,123.472 \n",
       "  \"/>\n",
       "<polyline clip-path=\"url(#clip832)\" style=\"stroke:#000000; stroke-linecap:butt; stroke-linejoin:round; stroke-width:2; stroke-opacity:0.1; fill:none\" points=\"\n",
       "  1186.22,1423.18 1186.22,123.472 \n",
       "  \"/>\n",
       "<polyline clip-path=\"url(#clip832)\" style=\"stroke:#000000; stroke-linecap:butt; stroke-linejoin:round; stroke-width:2; stroke-opacity:0.1; fill:none\" points=\"\n",
       "  1370.5,1423.18 1370.5,123.472 \n",
       "  \"/>\n",
       "<polyline clip-path=\"url(#clip832)\" style=\"stroke:#000000; stroke-linecap:butt; stroke-linejoin:round; stroke-width:2; stroke-opacity:0.1; fill:none\" points=\"\n",
       "  1554.79,1423.18 1554.79,123.472 \n",
       "  \"/>\n",
       "<polyline clip-path=\"url(#clip832)\" style=\"stroke:#000000; stroke-linecap:butt; stroke-linejoin:round; stroke-width:2; stroke-opacity:0.1; fill:none\" points=\"\n",
       "  1739.08,1423.18 1739.08,123.472 \n",
       "  \"/>\n",
       "<polyline clip-path=\"url(#clip832)\" style=\"stroke:#000000; stroke-linecap:butt; stroke-linejoin:round; stroke-width:2; stroke-opacity:0.1; fill:none\" points=\"\n",
       "  1923.37,1423.18 1923.37,123.472 \n",
       "  \"/>\n",
       "<polyline clip-path=\"url(#clip832)\" style=\"stroke:#000000; stroke-linecap:butt; stroke-linejoin:round; stroke-width:2; stroke-opacity:0.1; fill:none\" points=\"\n",
       "  2107.65,1423.18 2107.65,123.472 \n",
       "  \"/>\n",
       "<polyline clip-path=\"url(#clip832)\" style=\"stroke:#000000; stroke-linecap:butt; stroke-linejoin:round; stroke-width:2; stroke-opacity:0.1; fill:none\" points=\"\n",
       "  2291.94,1423.18 2291.94,123.472 \n",
       "  \"/>\n",
       "<polyline clip-path=\"url(#clip830)\" style=\"stroke:#000000; stroke-linecap:butt; stroke-linejoin:round; stroke-width:4; stroke-opacity:1; fill:none\" points=\"\n",
       "  203.964,1423.18 2352.76,1423.18 \n",
       "  \"/>\n",
       "<polyline clip-path=\"url(#clip830)\" style=\"stroke:#000000; stroke-linecap:butt; stroke-linejoin:round; stroke-width:4; stroke-opacity:1; fill:none\" points=\"\n",
       "  264.778,1423.18 264.778,1407.58 \n",
       "  \"/>\n",
       "<polyline clip-path=\"url(#clip830)\" style=\"stroke:#000000; stroke-linecap:butt; stroke-linejoin:round; stroke-width:4; stroke-opacity:1; fill:none\" points=\"\n",
       "  449.066,1423.18 449.066,1407.58 \n",
       "  \"/>\n",
       "<polyline clip-path=\"url(#clip830)\" style=\"stroke:#000000; stroke-linecap:butt; stroke-linejoin:round; stroke-width:4; stroke-opacity:1; fill:none\" points=\"\n",
       "  633.353,1423.18 633.353,1407.58 \n",
       "  \"/>\n",
       "<polyline clip-path=\"url(#clip830)\" style=\"stroke:#000000; stroke-linecap:butt; stroke-linejoin:round; stroke-width:4; stroke-opacity:1; fill:none\" points=\"\n",
       "  817.641,1423.18 817.641,1407.58 \n",
       "  \"/>\n",
       "<polyline clip-path=\"url(#clip830)\" style=\"stroke:#000000; stroke-linecap:butt; stroke-linejoin:round; stroke-width:4; stroke-opacity:1; fill:none\" points=\"\n",
       "  1001.93,1423.18 1001.93,1407.58 \n",
       "  \"/>\n",
       "<polyline clip-path=\"url(#clip830)\" style=\"stroke:#000000; stroke-linecap:butt; stroke-linejoin:round; stroke-width:4; stroke-opacity:1; fill:none\" points=\"\n",
       "  1186.22,1423.18 1186.22,1407.58 \n",
       "  \"/>\n",
       "<polyline clip-path=\"url(#clip830)\" style=\"stroke:#000000; stroke-linecap:butt; stroke-linejoin:round; stroke-width:4; stroke-opacity:1; fill:none\" points=\"\n",
       "  1370.5,1423.18 1370.5,1407.58 \n",
       "  \"/>\n",
       "<polyline clip-path=\"url(#clip830)\" style=\"stroke:#000000; stroke-linecap:butt; stroke-linejoin:round; stroke-width:4; stroke-opacity:1; fill:none\" points=\"\n",
       "  1554.79,1423.18 1554.79,1407.58 \n",
       "  \"/>\n",
       "<polyline clip-path=\"url(#clip830)\" style=\"stroke:#000000; stroke-linecap:butt; stroke-linejoin:round; stroke-width:4; stroke-opacity:1; fill:none\" points=\"\n",
       "  1739.08,1423.18 1739.08,1407.58 \n",
       "  \"/>\n",
       "<polyline clip-path=\"url(#clip830)\" style=\"stroke:#000000; stroke-linecap:butt; stroke-linejoin:round; stroke-width:4; stroke-opacity:1; fill:none\" points=\"\n",
       "  1923.37,1423.18 1923.37,1407.58 \n",
       "  \"/>\n",
       "<polyline clip-path=\"url(#clip830)\" style=\"stroke:#000000; stroke-linecap:butt; stroke-linejoin:round; stroke-width:4; stroke-opacity:1; fill:none\" points=\"\n",
       "  2107.65,1423.18 2107.65,1407.58 \n",
       "  \"/>\n",
       "<polyline clip-path=\"url(#clip830)\" style=\"stroke:#000000; stroke-linecap:butt; stroke-linejoin:round; stroke-width:4; stroke-opacity:1; fill:none\" points=\"\n",
       "  2291.94,1423.18 2291.94,1407.58 \n",
       "  \"/>\n",
       "<path clip-path=\"url(#clip830)\" d=\"M255.16 1479.92 L262.799 1479.92 L262.799 1453.55 L254.489 1455.22 L254.489 1450.96 L262.753 1449.29 L267.429 1449.29 L267.429 1479.92 L275.068 1479.92 L275.068 1483.85 L255.16 1483.85 L255.16 1479.92 Z\" fill=\"#000000\" fill-rule=\"evenodd\" fill-opacity=\"1\" /><path clip-path=\"url(#clip830)\" d=\"M443.719 1479.92 L460.038 1479.92 L460.038 1483.85 L438.094 1483.85 L438.094 1479.92 Q440.756 1477.16 445.339 1472.53 Q449.946 1467.88 451.126 1466.54 Q453.371 1464.01 454.251 1462.28 Q455.154 1460.52 455.154 1458.83 Q455.154 1456.07 453.209 1454.34 Q451.288 1452.6 448.186 1452.6 Q445.987 1452.6 443.534 1453.37 Q441.103 1454.13 438.325 1455.68 L438.325 1450.96 Q441.149 1449.82 443.603 1449.25 Q446.057 1448.67 448.094 1448.67 Q453.464 1448.67 456.659 1451.35 Q459.853 1454.04 459.853 1458.53 Q459.853 1460.66 459.043 1462.58 Q458.256 1464.48 456.149 1467.07 Q455.571 1467.74 452.469 1470.96 Q449.367 1474.15 443.719 1479.92 Z\" fill=\"#000000\" fill-rule=\"evenodd\" fill-opacity=\"1\" /><path clip-path=\"url(#clip830)\" d=\"M637.601 1465.22 Q640.958 1465.94 642.833 1468.2 Q644.731 1470.47 644.731 1473.81 Q644.731 1478.92 641.212 1481.72 Q637.694 1484.52 631.212 1484.52 Q629.036 1484.52 626.722 1484.08 Q624.43 1483.67 621.976 1482.81 L621.976 1478.3 Q623.921 1479.43 626.235 1480.01 Q628.55 1480.59 631.073 1480.59 Q635.472 1480.59 637.763 1478.85 Q640.078 1477.12 640.078 1473.81 Q640.078 1470.75 637.925 1469.04 Q635.796 1467.3 631.976 1467.3 L627.948 1467.3 L627.948 1463.46 L632.161 1463.46 Q635.61 1463.46 637.439 1462.09 Q639.268 1460.7 639.268 1458.11 Q639.268 1455.45 637.37 1454.04 Q635.495 1452.6 631.976 1452.6 Q630.055 1452.6 627.856 1453.02 Q625.657 1453.44 623.018 1454.31 L623.018 1450.15 Q625.68 1449.41 627.995 1449.04 Q630.333 1448.67 632.393 1448.67 Q637.717 1448.67 640.819 1451.1 Q643.921 1453.5 643.921 1457.63 Q643.921 1460.5 642.277 1462.49 Q640.634 1464.45 637.601 1465.22 Z\" fill=\"#000000\" fill-rule=\"evenodd\" fill-opacity=\"1\" /><path clip-path=\"url(#clip830)\" d=\"M820.65 1453.37 L808.845 1471.81 L820.65 1471.81 L820.65 1453.37 M819.423 1449.29 L825.303 1449.29 L825.303 1471.81 L830.233 1471.81 L830.233 1475.7 L825.303 1475.7 L825.303 1483.85 L820.65 1483.85 L820.65 1475.7 L805.048 1475.7 L805.048 1471.19 L819.423 1449.29 Z\" fill=\"#000000\" fill-rule=\"evenodd\" fill-opacity=\"1\" /><path clip-path=\"url(#clip830)\" d=\"M992.206 1449.29 L1010.56 1449.29 L1010.56 1453.23 L996.489 1453.23 L996.489 1461.7 Q997.507 1461.35 998.526 1461.19 Q999.544 1461 1000.56 1461 Q1006.35 1461 1009.73 1464.18 Q1013.11 1467.35 1013.11 1472.76 Q1013.11 1478.34 1009.64 1481.44 Q1006.16 1484.52 999.845 1484.52 Q997.669 1484.52 995.401 1484.15 Q993.155 1483.78 990.748 1483.04 L990.748 1478.34 Q992.831 1479.48 995.054 1480.03 Q997.276 1480.59 999.753 1480.59 Q1003.76 1480.59 1006.1 1478.48 Q1008.43 1476.38 1008.43 1472.76 Q1008.43 1469.15 1006.1 1467.05 Q1003.76 1464.94 999.753 1464.94 Q997.878 1464.94 996.003 1465.36 Q994.151 1465.77 992.206 1466.65 L992.206 1449.29 Z\" fill=\"#000000\" fill-rule=\"evenodd\" fill-opacity=\"1\" /><path clip-path=\"url(#clip830)\" d=\"M1186.62 1464.71 Q1183.47 1464.71 1181.62 1466.86 Q1179.79 1469.01 1179.79 1472.76 Q1179.79 1476.49 1181.62 1478.67 Q1183.47 1480.82 1186.62 1480.82 Q1189.77 1480.82 1191.6 1478.67 Q1193.45 1476.49 1193.45 1472.76 Q1193.45 1469.01 1191.6 1466.86 Q1189.77 1464.71 1186.62 1464.71 M1195.9 1450.06 L1195.9 1454.31 Q1194.14 1453.48 1192.34 1453.04 Q1190.56 1452.6 1188.8 1452.6 Q1184.17 1452.6 1181.71 1455.73 Q1179.28 1458.85 1178.94 1465.17 Q1180.3 1463.16 1182.36 1462.09 Q1184.42 1461 1186.9 1461 Q1192.11 1461 1195.12 1464.18 Q1198.15 1467.32 1198.15 1472.76 Q1198.15 1478.09 1195 1481.31 Q1191.85 1484.52 1186.62 1484.52 Q1180.63 1484.52 1177.45 1479.94 Q1174.28 1475.33 1174.28 1466.61 Q1174.28 1458.41 1178.17 1453.55 Q1182.06 1448.67 1188.61 1448.67 Q1190.37 1448.67 1192.15 1449.01 Q1193.96 1449.36 1195.9 1450.06 Z\" fill=\"#000000\" fill-rule=\"evenodd\" fill-opacity=\"1\" /><path clip-path=\"url(#clip830)\" d=\"M1359.39 1449.29 L1381.61 1449.29 L1381.61 1451.28 L1369.07 1483.85 L1364.18 1483.85 L1375.99 1453.23 L1359.39 1453.23 L1359.39 1449.29 Z\" fill=\"#000000\" fill-rule=\"evenodd\" fill-opacity=\"1\" /><path clip-path=\"url(#clip830)\" d=\"M1554.79 1467.44 Q1551.46 1467.44 1549.54 1469.22 Q1547.64 1471 1547.64 1474.13 Q1547.64 1477.25 1549.54 1479.04 Q1551.46 1480.82 1554.79 1480.82 Q1558.12 1480.82 1560.05 1479.04 Q1561.97 1477.23 1561.97 1474.13 Q1561.97 1471 1560.05 1469.22 Q1558.15 1467.44 1554.79 1467.44 M1550.12 1465.45 Q1547.11 1464.71 1545.42 1462.65 Q1543.75 1460.59 1543.75 1457.63 Q1543.75 1453.48 1546.69 1451.07 Q1549.65 1448.67 1554.79 1448.67 Q1559.95 1448.67 1562.89 1451.07 Q1565.83 1453.48 1565.83 1457.63 Q1565.83 1460.59 1564.14 1462.65 Q1562.48 1464.71 1559.49 1465.45 Q1562.87 1466.24 1564.74 1468.53 Q1566.64 1470.82 1566.64 1474.13 Q1566.64 1479.15 1563.56 1481.84 Q1560.51 1484.52 1554.79 1484.52 Q1549.07 1484.52 1545.99 1481.84 Q1542.94 1479.15 1542.94 1474.13 Q1542.94 1470.82 1544.84 1468.53 Q1546.74 1466.24 1550.12 1465.45 M1548.4 1458.06 Q1548.4 1460.75 1550.07 1462.25 Q1551.76 1463.76 1554.79 1463.76 Q1557.8 1463.76 1559.49 1462.25 Q1561.2 1460.75 1561.2 1458.06 Q1561.2 1455.38 1559.49 1453.88 Q1557.8 1452.37 1554.79 1452.37 Q1551.76 1452.37 1550.07 1453.88 Q1548.4 1455.38 1548.4 1458.06 Z\" fill=\"#000000\" fill-rule=\"evenodd\" fill-opacity=\"1\" /><path clip-path=\"url(#clip830)\" d=\"M1729.38 1483.13 L1729.38 1478.88 Q1731.14 1479.71 1732.94 1480.15 Q1734.75 1480.59 1736.49 1480.59 Q1741.12 1480.59 1743.55 1477.49 Q1746 1474.36 1746.35 1468.02 Q1745 1470.01 1742.94 1471.07 Q1740.88 1472.14 1738.38 1472.14 Q1733.2 1472.14 1730.17 1469.01 Q1727.16 1465.87 1727.16 1460.43 Q1727.16 1455.1 1730.31 1451.88 Q1733.45 1448.67 1738.68 1448.67 Q1744.68 1448.67 1747.83 1453.27 Q1751 1457.86 1751 1466.61 Q1751 1474.78 1747.11 1479.66 Q1743.25 1484.52 1736.69 1484.52 Q1734.94 1484.52 1733.13 1484.18 Q1731.32 1483.83 1729.38 1483.13 M1738.68 1468.48 Q1741.83 1468.48 1743.66 1466.33 Q1745.51 1464.18 1745.51 1460.43 Q1745.51 1456.7 1743.66 1454.55 Q1741.83 1452.37 1738.68 1452.37 Q1735.54 1452.37 1733.69 1454.55 Q1731.86 1456.7 1731.86 1460.43 Q1731.86 1464.18 1733.69 1466.33 Q1735.54 1468.48 1738.68 1468.48 Z\" fill=\"#000000\" fill-rule=\"evenodd\" fill-opacity=\"1\" /><path clip-path=\"url(#clip830)\" d=\"M1898.05 1479.92 L1905.69 1479.92 L1905.69 1453.55 L1897.38 1455.22 L1897.38 1450.96 L1905.65 1449.29 L1910.32 1449.29 L1910.32 1479.92 L1917.96 1479.92 L1917.96 1483.85 L1898.05 1483.85 L1898.05 1479.92 Z\" fill=\"#000000\" fill-rule=\"evenodd\" fill-opacity=\"1\" /><path clip-path=\"url(#clip830)\" d=\"M1937.41 1452.37 Q1933.79 1452.37 1931.97 1455.94 Q1930.16 1459.48 1930.16 1466.61 Q1930.16 1473.71 1931.97 1477.28 Q1933.79 1480.82 1937.41 1480.82 Q1941.04 1480.82 1942.85 1477.28 Q1944.67 1473.71 1944.67 1466.61 Q1944.67 1459.48 1942.85 1455.94 Q1941.04 1452.37 1937.41 1452.37 M1937.41 1448.67 Q1943.22 1448.67 1946.27 1453.27 Q1949.35 1457.86 1949.35 1466.61 Q1949.35 1475.33 1946.27 1479.94 Q1943.22 1484.52 1937.41 1484.52 Q1931.6 1484.52 1928.52 1479.94 Q1925.46 1475.33 1925.46 1466.61 Q1925.46 1457.86 1928.52 1453.27 Q1931.6 1448.67 1937.41 1448.67 Z\" fill=\"#000000\" fill-rule=\"evenodd\" fill-opacity=\"1\" /><path clip-path=\"url(#clip830)\" d=\"M2082.95 1479.92 L2090.59 1479.92 L2090.59 1453.55 L2082.28 1455.22 L2082.28 1450.96 L2090.55 1449.29 L2095.22 1449.29 L2095.22 1479.92 L2102.86 1479.92 L2102.86 1483.85 L2082.95 1483.85 L2082.95 1479.92 Z\" fill=\"#000000\" fill-rule=\"evenodd\" fill-opacity=\"1\" /><path clip-path=\"url(#clip830)\" d=\"M2113.12 1479.92 L2120.76 1479.92 L2120.76 1453.55 L2112.45 1455.22 L2112.45 1450.96 L2120.71 1449.29 L2125.38 1449.29 L2125.38 1479.92 L2133.02 1479.92 L2133.02 1483.85 L2113.12 1483.85 L2113.12 1479.92 Z\" fill=\"#000000\" fill-rule=\"evenodd\" fill-opacity=\"1\" /><path clip-path=\"url(#clip830)\" d=\"M2267.43 1479.92 L2275.07 1479.92 L2275.07 1453.55 L2266.76 1455.22 L2266.76 1450.96 L2275.02 1449.29 L2279.7 1449.29 L2279.7 1479.92 L2287.33 1479.92 L2287.33 1483.85 L2267.43 1483.85 L2267.43 1479.92 Z\" fill=\"#000000\" fill-rule=\"evenodd\" fill-opacity=\"1\" /><path clip-path=\"url(#clip830)\" d=\"M2300.81 1479.92 L2317.13 1479.92 L2317.13 1483.85 L2295.18 1483.85 L2295.18 1479.92 Q2297.84 1477.16 2302.43 1472.53 Q2307.03 1467.88 2308.21 1466.54 Q2310.46 1464.01 2311.34 1462.28 Q2312.24 1460.52 2312.24 1458.83 Q2312.24 1456.07 2310.3 1454.34 Q2308.38 1452.6 2305.27 1452.6 Q2303.08 1452.6 2300.62 1453.37 Q2298.19 1454.13 2295.41 1455.68 L2295.41 1450.96 Q2298.24 1449.82 2300.69 1449.25 Q2303.14 1448.67 2305.18 1448.67 Q2310.55 1448.67 2313.75 1451.35 Q2316.94 1454.04 2316.94 1458.53 Q2316.94 1460.66 2316.13 1462.58 Q2315.34 1464.48 2313.24 1467.07 Q2312.66 1467.74 2309.56 1470.96 Q2306.45 1474.15 2300.81 1479.92 Z\" fill=\"#000000\" fill-rule=\"evenodd\" fill-opacity=\"1\" /><path clip-path=\"url(#clip830)\" d=\"M1182.17 1520.52 L1191.75 1520.52 L1203.88 1552.86 L1216.07 1520.52 L1225.65 1520.52 L1225.65 1568.04 L1219.38 1568.04 L1219.38 1526.32 L1207.13 1558.91 L1200.67 1558.91 L1188.41 1526.32 L1188.41 1568.04 L1182.17 1568.04 L1182.17 1520.52 Z\" fill=\"#000000\" fill-rule=\"evenodd\" fill-opacity=\"1\" /><path clip-path=\"url(#clip830)\" d=\"M1251.97 1536.5 Q1247.26 1536.5 1244.53 1540.19 Q1241.79 1543.85 1241.79 1550.25 Q1241.79 1556.65 1244.49 1560.34 Q1247.23 1564 1251.97 1564 Q1256.65 1564 1259.39 1560.31 Q1262.13 1556.62 1262.13 1550.25 Q1262.13 1543.92 1259.39 1540.23 Q1256.65 1536.5 1251.97 1536.5 M1251.97 1531.54 Q1259.61 1531.54 1263.97 1536.5 Q1268.33 1541.47 1268.33 1550.25 Q1268.33 1559 1263.97 1564 Q1259.61 1568.97 1251.97 1568.97 Q1244.3 1568.97 1239.94 1564 Q1235.61 1559 1235.61 1550.25 Q1235.61 1541.47 1239.94 1536.5 Q1244.3 1531.54 1251.97 1531.54 Z\" fill=\"#000000\" fill-rule=\"evenodd\" fill-opacity=\"1\" /><path clip-path=\"url(#clip830)\" d=\"M1307.67 1546.53 L1307.67 1568.04 L1301.82 1568.04 L1301.82 1546.72 Q1301.82 1541.66 1299.84 1539.14 Q1297.87 1536.63 1293.92 1536.63 Q1289.18 1536.63 1286.44 1539.65 Q1283.71 1542.68 1283.71 1547.9 L1283.71 1568.04 L1277.82 1568.04 L1277.82 1532.4 L1283.71 1532.4 L1283.71 1537.93 Q1285.81 1534.72 1288.64 1533.13 Q1291.5 1531.54 1295.23 1531.54 Q1301.37 1531.54 1304.52 1535.36 Q1307.67 1539.14 1307.67 1546.53 Z\" fill=\"#000000\" fill-rule=\"evenodd\" fill-opacity=\"1\" /><path clip-path=\"url(#clip830)\" d=\"M1325.15 1522.27 L1325.15 1532.4 L1337.21 1532.4 L1337.21 1536.95 L1325.15 1536.95 L1325.15 1556.3 Q1325.15 1560.66 1326.33 1561.9 Q1327.53 1563.14 1331.2 1563.14 L1337.21 1563.14 L1337.21 1568.04 L1331.2 1568.04 Q1324.42 1568.04 1321.84 1565.53 Q1319.26 1562.98 1319.26 1556.3 L1319.26 1536.95 L1314.96 1536.95 L1314.96 1532.4 L1319.26 1532.4 L1319.26 1522.27 L1325.15 1522.27 Z\" fill=\"#000000\" fill-rule=\"evenodd\" fill-opacity=\"1\" /><path clip-path=\"url(#clip830)\" d=\"M1374.55 1546.53 L1374.55 1568.04 L1368.69 1568.04 L1368.69 1546.72 Q1368.69 1541.66 1366.72 1539.14 Q1364.74 1536.63 1360.8 1536.63 Q1356.05 1536.63 1353.32 1539.65 Q1350.58 1542.68 1350.58 1547.9 L1350.58 1568.04 L1344.69 1568.04 L1344.69 1518.52 L1350.58 1518.52 L1350.58 1537.93 Q1352.68 1534.72 1355.51 1533.13 Q1358.38 1531.54 1362.1 1531.54 Q1368.24 1531.54 1371.39 1535.36 Q1374.55 1539.14 1374.55 1546.53 Z\" fill=\"#000000\" fill-rule=\"evenodd\" fill-opacity=\"1\" /><polyline clip-path=\"url(#clip832)\" style=\"stroke:#000000; stroke-linecap:butt; stroke-linejoin:round; stroke-width:2; stroke-opacity:0.1; fill:none\" points=\"\n",
       "  203.964,1418.66 2352.76,1418.66 \n",
       "  \"/>\n",
       "<polyline clip-path=\"url(#clip832)\" style=\"stroke:#000000; stroke-linecap:butt; stroke-linejoin:round; stroke-width:2; stroke-opacity:0.1; fill:none\" points=\"\n",
       "  203.964,1149.77 2352.76,1149.77 \n",
       "  \"/>\n",
       "<polyline clip-path=\"url(#clip832)\" style=\"stroke:#000000; stroke-linecap:butt; stroke-linejoin:round; stroke-width:2; stroke-opacity:0.1; fill:none\" points=\"\n",
       "  203.964,880.882 2352.76,880.882 \n",
       "  \"/>\n",
       "<polyline clip-path=\"url(#clip832)\" style=\"stroke:#000000; stroke-linecap:butt; stroke-linejoin:round; stroke-width:2; stroke-opacity:0.1; fill:none\" points=\"\n",
       "  203.964,611.992 2352.76,611.992 \n",
       "  \"/>\n",
       "<polyline clip-path=\"url(#clip832)\" style=\"stroke:#000000; stroke-linecap:butt; stroke-linejoin:round; stroke-width:2; stroke-opacity:0.1; fill:none\" points=\"\n",
       "  203.964,343.102 2352.76,343.102 \n",
       "  \"/>\n",
       "<polyline clip-path=\"url(#clip830)\" style=\"stroke:#000000; stroke-linecap:butt; stroke-linejoin:round; stroke-width:4; stroke-opacity:1; fill:none\" points=\"\n",
       "  203.964,1423.18 203.964,123.472 \n",
       "  \"/>\n",
       "<polyline clip-path=\"url(#clip830)\" style=\"stroke:#000000; stroke-linecap:butt; stroke-linejoin:round; stroke-width:4; stroke-opacity:1; fill:none\" points=\"\n",
       "  203.964,1418.66 229.749,1418.66 \n",
       "  \"/>\n",
       "<polyline clip-path=\"url(#clip830)\" style=\"stroke:#000000; stroke-linecap:butt; stroke-linejoin:round; stroke-width:4; stroke-opacity:1; fill:none\" points=\"\n",
       "  203.964,1149.77 229.749,1149.77 \n",
       "  \"/>\n",
       "<polyline clip-path=\"url(#clip830)\" style=\"stroke:#000000; stroke-linecap:butt; stroke-linejoin:round; stroke-width:4; stroke-opacity:1; fill:none\" points=\"\n",
       "  203.964,880.882 229.749,880.882 \n",
       "  \"/>\n",
       "<polyline clip-path=\"url(#clip830)\" style=\"stroke:#000000; stroke-linecap:butt; stroke-linejoin:round; stroke-width:4; stroke-opacity:1; fill:none\" points=\"\n",
       "  203.964,611.992 229.749,611.992 \n",
       "  \"/>\n",
       "<polyline clip-path=\"url(#clip830)\" style=\"stroke:#000000; stroke-linecap:butt; stroke-linejoin:round; stroke-width:4; stroke-opacity:1; fill:none\" points=\"\n",
       "  203.964,343.102 229.749,343.102 \n",
       "  \"/>\n",
       "<path clip-path=\"url(#clip830)\" d=\"M147.061 1401.38 L165.417 1401.38 L165.417 1405.32 L151.343 1405.32 L151.343 1413.79 Q152.362 1413.44 153.38 1413.28 Q154.399 1413.1 155.417 1413.1 Q161.204 1413.1 164.584 1416.27 Q167.964 1419.44 167.964 1424.85 Q167.964 1430.43 164.491 1433.54 Q161.019 1436.61 154.7 1436.61 Q152.524 1436.61 150.255 1436.24 Q148.01 1435.87 145.603 1435.13 L145.603 1430.43 Q147.686 1431.57 149.908 1432.12 Q152.13 1432.68 154.607 1432.68 Q158.612 1432.68 160.95 1430.57 Q163.288 1428.47 163.288 1424.85 Q163.288 1421.24 160.95 1419.14 Q158.612 1417.03 154.607 1417.03 Q152.732 1417.03 150.857 1417.45 Q149.005 1417.86 147.061 1418.74 L147.061 1401.38 Z\" fill=\"#000000\" fill-rule=\"evenodd\" fill-opacity=\"1\" /><path clip-path=\"url(#clip830)\" d=\"M116.668 1163.12 L124.306 1163.12 L124.306 1136.75 L115.996 1138.42 L115.996 1134.16 L124.26 1132.49 L128.936 1132.49 L128.936 1163.12 L136.575 1163.12 L136.575 1167.05 L116.668 1167.05 L116.668 1163.12 Z\" fill=\"#000000\" fill-rule=\"evenodd\" fill-opacity=\"1\" /><path clip-path=\"url(#clip830)\" d=\"M156.019 1135.57 Q152.408 1135.57 150.579 1139.14 Q148.774 1142.68 148.774 1149.81 Q148.774 1156.91 150.579 1160.48 Q152.408 1164.02 156.019 1164.02 Q159.653 1164.02 161.459 1160.48 Q163.288 1156.91 163.288 1149.81 Q163.288 1142.68 161.459 1139.14 Q159.653 1135.57 156.019 1135.57 M156.019 1131.87 Q161.829 1131.87 164.885 1136.47 Q167.964 1141.06 167.964 1149.81 Q167.964 1158.53 164.885 1163.14 Q161.829 1167.72 156.019 1167.72 Q150.209 1167.72 147.13 1163.14 Q144.075 1158.53 144.075 1149.81 Q144.075 1141.06 147.13 1136.47 Q150.209 1131.87 156.019 1131.87 Z\" fill=\"#000000\" fill-rule=\"evenodd\" fill-opacity=\"1\" /><path clip-path=\"url(#clip830)\" d=\"M117.663 894.227 L125.302 894.227 L125.302 867.861 L116.992 869.528 L116.992 865.269 L125.255 863.602 L129.931 863.602 L129.931 894.227 L137.57 894.227 L137.57 898.162 L117.663 898.162 L117.663 894.227 Z\" fill=\"#000000\" fill-rule=\"evenodd\" fill-opacity=\"1\" /><path clip-path=\"url(#clip830)\" d=\"M147.061 863.602 L165.417 863.602 L165.417 867.537 L151.343 867.537 L151.343 876.009 Q152.362 875.662 153.38 875.5 Q154.399 875.315 155.417 875.315 Q161.204 875.315 164.584 878.486 Q167.964 881.658 167.964 887.074 Q167.964 892.653 164.491 895.755 Q161.019 898.833 154.7 898.833 Q152.524 898.833 150.255 898.463 Q148.01 898.093 145.603 897.352 L145.603 892.653 Q147.686 893.787 149.908 894.343 Q152.13 894.898 154.607 894.898 Q158.612 894.898 160.95 892.792 Q163.288 890.685 163.288 887.074 Q163.288 883.463 160.95 881.357 Q158.612 879.25 154.607 879.25 Q152.732 879.25 150.857 879.667 Q149.005 880.083 147.061 880.963 L147.061 863.602 Z\" fill=\"#000000\" fill-rule=\"evenodd\" fill-opacity=\"1\" /><path clip-path=\"url(#clip830)\" d=\"M119.885 625.337 L136.204 625.337 L136.204 629.272 L114.26 629.272 L114.26 625.337 Q116.922 622.582 121.505 617.952 Q126.112 613.3 127.292 611.957 Q129.538 609.434 130.417 607.698 Q131.32 605.939 131.32 604.249 Q131.32 601.494 129.376 599.758 Q127.455 598.022 124.353 598.022 Q122.154 598.022 119.7 598.786 Q117.269 599.55 114.492 601.101 L114.492 596.379 Q117.316 595.244 119.769 594.666 Q122.223 594.087 124.26 594.087 Q129.63 594.087 132.825 596.772 Q136.019 599.457 136.019 603.948 Q136.019 606.078 135.209 607.999 Q134.422 609.897 132.316 612.49 Q131.737 613.161 128.635 616.378 Q125.533 619.573 119.885 625.337 Z\" fill=\"#000000\" fill-rule=\"evenodd\" fill-opacity=\"1\" /><path clip-path=\"url(#clip830)\" d=\"M156.019 597.791 Q152.408 597.791 150.579 601.355 Q148.774 604.897 148.774 612.027 Q148.774 619.133 150.579 622.698 Q152.408 626.239 156.019 626.239 Q159.653 626.239 161.459 622.698 Q163.288 619.133 163.288 612.027 Q163.288 604.897 161.459 601.355 Q159.653 597.791 156.019 597.791 M156.019 594.087 Q161.829 594.087 164.885 598.693 Q167.964 603.277 167.964 612.027 Q167.964 620.753 164.885 625.36 Q161.829 629.943 156.019 629.943 Q150.209 629.943 147.13 625.36 Q144.075 620.753 144.075 612.027 Q144.075 603.277 147.13 598.693 Q150.209 594.087 156.019 594.087 Z\" fill=\"#000000\" fill-rule=\"evenodd\" fill-opacity=\"1\" /><path clip-path=\"url(#clip830)\" d=\"M120.88 356.446 L137.2 356.446 L137.2 360.382 L115.256 360.382 L115.256 356.446 Q117.918 353.692 122.501 349.062 Q127.107 344.41 128.288 343.067 Q130.533 340.544 131.413 338.808 Q132.316 337.048 132.316 335.359 Q132.316 332.604 130.371 330.868 Q128.45 329.132 125.348 329.132 Q123.149 329.132 120.695 329.896 Q118.265 330.66 115.487 332.211 L115.487 327.488 Q118.311 326.354 120.765 325.775 Q123.218 325.197 125.255 325.197 Q130.626 325.197 133.82 327.882 Q137.015 330.567 137.015 335.058 Q137.015 337.187 136.204 339.109 Q135.417 341.007 133.311 343.599 Q132.732 344.271 129.63 347.488 Q126.529 350.683 120.88 356.446 Z\" fill=\"#000000\" fill-rule=\"evenodd\" fill-opacity=\"1\" /><path clip-path=\"url(#clip830)\" d=\"M147.061 325.822 L165.417 325.822 L165.417 329.757 L151.343 329.757 L151.343 338.229 Q152.362 337.882 153.38 337.72 Q154.399 337.535 155.417 337.535 Q161.204 337.535 164.584 340.706 Q167.964 343.877 167.964 349.294 Q167.964 354.872 164.491 357.974 Q161.019 361.053 154.7 361.053 Q152.524 361.053 150.255 360.683 Q148.01 360.312 145.603 359.571 L145.603 354.872 Q147.686 356.007 149.908 356.562 Q152.13 357.118 154.607 357.118 Q158.612 357.118 160.95 355.011 Q163.288 352.905 163.288 349.294 Q163.288 345.683 160.95 343.576 Q158.612 341.47 154.607 341.47 Q152.732 341.47 150.857 341.886 Q149.005 342.303 147.061 343.183 L147.061 325.822 Z\" fill=\"#000000\" fill-rule=\"evenodd\" fill-opacity=\"1\" /><path clip-path=\"url(#clip830)\" d=\"M16.4842 978.143 L16.4842 937.943 L21.895 937.943 L21.895 954.812 L64.0042 954.812 L64.0042 961.273 L21.895 961.273 L21.895 978.143 L16.4842 978.143 Z\" fill=\"#000000\" fill-rule=\"evenodd\" fill-opacity=\"1\" /><path clip-path=\"url(#clip830)\" d=\"M44.7161 912.576 L47.5806 912.576 L47.5806 939.503 Q53.6281 939.121 56.8109 935.874 Q59.9619 932.596 59.9619 926.771 Q59.9619 923.398 59.1344 920.246 Q58.3069 917.064 56.6518 913.944 L62.1899 913.944 Q63.5267 917.095 64.227 920.406 Q64.9272 923.716 64.9272 927.121 Q64.9272 935.652 59.9619 940.649 Q54.9967 945.614 46.5303 945.614 Q37.7774 945.614 32.6531 940.903 Q27.4968 936.161 27.4968 928.14 Q27.4968 920.947 32.1438 916.777 Q36.7589 912.576 44.7161 912.576 M42.9973 918.432 Q38.1912 918.496 35.3266 921.138 Q32.4621 923.748 32.4621 928.076 Q32.4621 932.978 35.2312 935.938 Q38.0002 938.866 43.0292 939.312 L42.9973 918.432 Z\" fill=\"#000000\" fill-rule=\"evenodd\" fill-opacity=\"1\" /><path clip-path=\"url(#clip830)\" d=\"M35.1993 875.209 Q31.2526 873.013 29.3747 869.957 Q27.4968 866.902 27.4968 862.764 Q27.4968 857.194 31.4117 854.17 Q35.2948 851.147 42.4881 851.147 L64.0042 851.147 L64.0042 857.035 L42.679 857.035 Q37.5546 857.035 35.072 858.849 Q32.5894 860.663 32.5894 864.387 Q32.5894 868.939 35.6131 871.581 Q38.6368 874.222 43.8567 874.222 L64.0042 874.222 L64.0042 880.111 L42.679 880.111 Q37.5228 880.111 35.072 881.925 Q32.5894 883.739 32.5894 887.527 Q32.5894 892.015 35.6449 894.656 Q38.6686 897.298 43.8567 897.298 L64.0042 897.298 L64.0042 903.186 L28.3562 903.186 L28.3562 897.298 L33.8944 897.298 Q30.616 895.293 29.0564 892.492 Q27.4968 889.691 27.4968 885.84 Q27.4968 881.957 29.4702 879.251 Q31.4436 876.514 35.1993 875.209 Z\" fill=\"#000000\" fill-rule=\"evenodd\" fill-opacity=\"1\" /><path clip-path=\"url(#clip830)\" d=\"M58.657 833.8 L77.5631 833.8 L77.5631 839.688 L28.3562 839.688 L28.3562 833.8 L33.7671 833.8 Q30.5842 831.954 29.0564 829.153 Q27.4968 826.32 27.4968 822.406 Q27.4968 815.913 32.6531 811.87 Q37.8093 807.796 46.212 807.796 Q54.6147 807.796 59.771 811.87 Q64.9272 815.913 64.9272 822.406 Q64.9272 826.32 63.3994 829.153 Q61.8398 831.954 58.657 833.8 M46.212 813.876 Q39.7508 813.876 36.0905 816.549 Q32.3984 819.191 32.3984 823.838 Q32.3984 828.485 36.0905 831.158 Q39.7508 833.8 46.212 833.8 Q52.6732 833.8 56.3653 831.158 Q60.0256 828.485 60.0256 823.838 Q60.0256 819.191 56.3653 816.549 Q52.6732 813.876 46.212 813.876 Z\" fill=\"#000000\" fill-rule=\"evenodd\" fill-opacity=\"1\" /><path clip-path=\"url(#clip830)\" d=\"M44.7161 767.597 L47.5806 767.597 L47.5806 794.524 Q53.6281 794.142 56.8109 790.895 Q59.9619 787.617 59.9619 781.792 Q59.9619 778.419 59.1344 775.268 Q58.3069 772.085 56.6518 768.965 L62.1899 768.965 Q63.5267 772.116 64.227 775.427 Q64.9272 778.737 64.9272 782.142 Q64.9272 790.673 59.9619 795.67 Q54.9967 800.635 46.5303 800.635 Q37.7774 800.635 32.6531 795.924 Q27.4968 791.182 27.4968 783.161 Q27.4968 775.968 32.1438 771.798 Q36.7589 767.597 44.7161 767.597 M42.9973 773.453 Q38.1912 773.517 35.3266 776.159 Q32.4621 778.769 32.4621 783.097 Q32.4621 787.999 35.2312 790.959 Q38.0002 793.887 43.0292 794.333 L42.9973 773.453 Z\" fill=\"#000000\" fill-rule=\"evenodd\" fill-opacity=\"1\" /><path clip-path=\"url(#clip830)\" d=\"M33.8307 737.328 Q33.2578 738.315 33.0032 739.492 Q32.7167 740.638 32.7167 742.039 Q32.7167 747.004 35.9632 749.677 Q39.1779 752.319 45.2253 752.319 L64.0042 752.319 L64.0042 758.207 L28.3562 758.207 L28.3562 752.319 L33.8944 752.319 Q30.6479 750.473 29.0883 747.513 Q27.4968 744.553 27.4968 740.32 Q27.4968 739.715 27.5923 738.983 Q27.656 738.251 27.8151 737.36 L33.8307 737.328 Z\" fill=\"#000000\" fill-rule=\"evenodd\" fill-opacity=\"1\" /><path clip-path=\"url(#clip830)\" d=\"M46.0847 714.984 Q46.0847 722.082 47.7079 724.819 Q49.3312 727.557 53.2461 727.557 Q56.3653 727.557 58.2114 725.52 Q60.0256 723.451 60.0256 719.918 Q60.0256 715.048 56.5881 712.12 Q53.1188 709.16 47.3897 709.16 L46.0847 709.16 L46.0847 714.984 M43.6657 703.303 L64.0042 703.303 L64.0042 709.16 L58.5933 709.16 Q61.8398 711.165 63.3994 714.157 Q64.9272 717.149 64.9272 721.477 Q64.9272 726.952 61.8716 730.198 Q58.7843 733.413 53.6281 733.413 Q47.6125 733.413 44.5569 729.403 Q41.5014 725.36 41.5014 717.371 L41.5014 709.16 L40.9285 709.16 Q36.8862 709.16 34.6901 711.833 Q32.4621 714.475 32.4621 719.281 Q32.4621 722.337 33.1941 725.233 Q33.9262 728.129 35.3903 730.803 L29.9795 730.803 Q28.7381 727.588 28.1334 724.565 Q27.4968 721.541 27.4968 718.676 Q27.4968 710.942 31.5072 707.123 Q35.5176 703.303 43.6657 703.303 Z\" fill=\"#000000\" fill-rule=\"evenodd\" fill-opacity=\"1\" /><path clip-path=\"url(#clip830)\" d=\"M18.2347 685.447 L28.3562 685.447 L28.3562 673.384 L32.9077 673.384 L32.9077 685.447 L52.2594 685.447 Q56.6199 685.447 57.8613 684.27 Q59.1026 683.06 59.1026 679.4 L59.1026 673.384 L64.0042 673.384 L64.0042 679.4 Q64.0042 686.179 61.4897 688.758 Q58.9434 691.336 52.2594 691.336 L32.9077 691.336 L32.9077 695.633 L28.3562 695.633 L28.3562 691.336 L18.2347 691.336 L18.2347 685.447 Z\" fill=\"#000000\" fill-rule=\"evenodd\" fill-opacity=\"1\" /><path clip-path=\"url(#clip830)\" d=\"M49.9359 666.287 L28.3562 666.287 L28.3562 660.43 L49.7131 660.43 Q54.7739 660.43 57.3202 658.457 Q59.8346 656.483 59.8346 652.537 Q59.8346 647.794 56.8109 645.057 Q53.7872 642.288 48.5673 642.288 L28.3562 642.288 L28.3562 636.431 L64.0042 636.431 L64.0042 642.288 L58.5296 642.288 Q61.7762 644.42 63.3676 647.253 Q64.9272 650.054 64.9272 653.778 Q64.9272 659.921 61.1078 663.104 Q57.2883 666.287 49.9359 666.287 M27.4968 651.55 L27.4968 651.55 Z\" fill=\"#000000\" fill-rule=\"evenodd\" fill-opacity=\"1\" /><path clip-path=\"url(#clip830)\" d=\"M33.8307 603.712 Q33.2578 604.698 33.0032 605.876 Q32.7167 607.022 32.7167 608.422 Q32.7167 613.388 35.9632 616.061 Q39.1779 618.703 45.2253 618.703 L64.0042 618.703 L64.0042 624.591 L28.3562 624.591 L28.3562 618.703 L33.8944 618.703 Q30.6479 616.857 29.0883 613.897 Q27.4968 610.937 27.4968 606.704 Q27.4968 606.099 27.5923 605.367 Q27.656 604.635 27.8151 603.744 L33.8307 603.712 Z\" fill=\"#000000\" fill-rule=\"evenodd\" fill-opacity=\"1\" /><path clip-path=\"url(#clip830)\" d=\"M44.7161 568.509 L47.5806 568.509 L47.5806 595.436 Q53.6281 595.054 56.8109 591.808 Q59.9619 588.53 59.9619 582.705 Q59.9619 579.331 59.1344 576.18 Q58.3069 572.997 56.6518 569.878 L62.1899 569.878 Q63.5267 573.029 64.227 576.339 Q64.9272 579.649 64.9272 583.055 Q64.9272 591.585 59.9619 596.582 Q54.9967 601.547 46.5303 601.547 Q37.7774 601.547 32.6531 596.837 Q27.4968 592.094 27.4968 584.074 Q27.4968 576.88 32.1438 572.711 Q36.7589 568.509 44.7161 568.509 M42.9973 574.366 Q38.1912 574.429 35.3266 577.071 Q32.4621 579.681 32.4621 584.01 Q32.4621 588.911 35.2312 591.872 Q38.0002 594.8 43.0292 595.245 L42.9973 574.366 Z\" fill=\"#000000\" fill-rule=\"evenodd\" fill-opacity=\"1\" /><path clip-path=\"url(#clip830)\" d=\"M1017.68 12.096 L1068.85 12.096 L1068.85 18.9825 L1047.38 18.9825 L1047.38 72.576 L1039.15 72.576 L1039.15 18.9825 L1017.68 18.9825 L1017.68 12.096 Z\" fill=\"#000000\" fill-rule=\"evenodd\" fill-opacity=\"1\" /><path clip-path=\"url(#clip830)\" d=\"M1101.13 48.0275 L1101.13 51.6733 L1066.86 51.6733 Q1067.35 59.3701 1071.48 63.421 Q1075.65 67.4314 1083.07 67.4314 Q1087.36 67.4314 1091.37 66.3781 Q1095.42 65.3249 1099.39 63.2184 L1099.39 70.267 Q1095.38 71.9684 1091.17 72.8596 Q1086.95 73.7508 1082.62 73.7508 Q1071.76 73.7508 1065.4 67.4314 Q1059.08 61.1119 1059.08 50.3365 Q1059.08 39.1965 1065.08 32.6746 Q1071.12 26.1121 1081.32 26.1121 Q1090.48 26.1121 1095.79 32.0264 Q1101.13 37.9003 1101.13 48.0275 M1093.68 45.84 Q1093.6 39.7232 1090.24 36.0774 Q1086.91 32.4315 1081.4 32.4315 Q1075.17 32.4315 1071.4 35.9558 Q1067.67 39.4801 1067.11 45.8805 L1093.68 45.84 Z\" fill=\"#000000\" fill-rule=\"evenodd\" fill-opacity=\"1\" /><path clip-path=\"url(#clip830)\" d=\"M1148.69 35.9153 Q1151.49 30.8922 1155.37 28.5022 Q1159.26 26.1121 1164.53 26.1121 Q1171.62 26.1121 1175.47 31.0947 Q1179.32 36.0368 1179.32 45.1919 L1179.32 72.576 L1171.82 72.576 L1171.82 45.4349 Q1171.82 38.913 1169.51 35.7533 Q1167.2 32.5936 1162.46 32.5936 Q1156.67 32.5936 1153.31 36.4419 Q1149.95 40.2903 1149.95 46.9338 L1149.95 72.576 L1142.45 72.576 L1142.45 45.4349 Q1142.45 38.8725 1140.14 35.7533 Q1137.83 32.5936 1133.01 32.5936 Q1127.3 32.5936 1123.94 36.4824 Q1120.58 40.3308 1120.58 46.9338 L1120.58 72.576 L1113.08 72.576 L1113.08 27.2059 L1120.58 27.2059 L1120.58 34.2544 Q1123.13 30.082 1126.69 28.0971 Q1130.26 26.1121 1135.16 26.1121 Q1140.1 26.1121 1143.55 28.6237 Q1147.03 31.1352 1148.69 35.9153 Z\" fill=\"#000000\" fill-rule=\"evenodd\" fill-opacity=\"1\" /><path clip-path=\"url(#clip830)\" d=\"M1201.39 65.7705 L1201.39 89.8329 L1193.9 89.8329 L1193.9 27.2059 L1201.39 27.2059 L1201.39 34.0924 Q1203.74 30.0415 1207.31 28.0971 Q1210.91 26.1121 1215.89 26.1121 Q1224.16 26.1121 1229.3 32.6746 Q1234.49 39.2371 1234.49 49.9314 Q1234.49 60.6258 1229.3 67.1883 Q1224.16 73.7508 1215.89 73.7508 Q1210.91 73.7508 1207.31 71.8063 Q1203.74 69.8214 1201.39 65.7705 M1226.75 49.9314 Q1226.75 41.7081 1223.35 37.0496 Q1219.99 32.3505 1214.07 32.3505 Q1208.16 32.3505 1204.75 37.0496 Q1201.39 41.7081 1201.39 49.9314 Q1201.39 58.1548 1204.75 62.8538 Q1208.16 67.5124 1214.07 67.5124 Q1219.99 67.5124 1223.35 62.8538 Q1226.75 58.1548 1226.75 49.9314 Z\" fill=\"#000000\" fill-rule=\"evenodd\" fill-opacity=\"1\" /><path clip-path=\"url(#clip830)\" d=\"M1285.65 48.0275 L1285.65 51.6733 L1251.38 51.6733 Q1251.87 59.3701 1256 63.421 Q1260.17 67.4314 1267.58 67.4314 Q1271.88 67.4314 1275.89 66.3781 Q1279.94 65.3249 1283.91 63.2184 L1283.91 70.267 Q1279.9 71.9684 1275.69 72.8596 Q1271.47 73.7508 1267.14 73.7508 Q1256.28 73.7508 1249.92 67.4314 Q1243.6 61.1119 1243.6 50.3365 Q1243.6 39.1965 1249.6 32.6746 Q1255.63 26.1121 1265.84 26.1121 Q1275 26.1121 1280.3 32.0264 Q1285.65 37.9003 1285.65 48.0275 M1278.2 45.84 Q1278.12 39.7232 1274.75 36.0774 Q1271.43 32.4315 1265.92 32.4315 Q1259.69 32.4315 1255.92 35.9558 Q1252.19 39.4801 1251.62 45.8805 L1278.2 45.84 Z\" fill=\"#000000\" fill-rule=\"evenodd\" fill-opacity=\"1\" /><path clip-path=\"url(#clip830)\" d=\"M1324.18 34.1734 Q1322.92 33.4443 1321.42 33.1202 Q1319.96 32.7556 1318.18 32.7556 Q1311.86 32.7556 1308.46 36.8875 Q1305.1 40.9789 1305.1 48.6757 L1305.1 72.576 L1297.6 72.576 L1297.6 27.2059 L1305.1 27.2059 L1305.1 34.2544 Q1307.45 30.1225 1311.21 28.1376 Q1314.98 26.1121 1320.37 26.1121 Q1321.14 26.1121 1322.07 26.2337 Q1323 26.3147 1324.13 26.5172 L1324.18 34.1734 Z\" fill=\"#000000\" fill-rule=\"evenodd\" fill-opacity=\"1\" /><path clip-path=\"url(#clip830)\" d=\"M1352.61 49.7694 Q1343.58 49.7694 1340.1 51.8354 Q1336.61 53.9013 1336.61 58.8839 Q1336.61 62.8538 1339.2 65.2034 Q1341.84 67.5124 1346.33 67.5124 Q1352.53 67.5124 1356.26 63.1374 Q1360.03 58.7219 1360.03 51.4303 L1360.03 49.7694 L1352.61 49.7694 M1367.48 46.6907 L1367.48 72.576 L1360.03 72.576 L1360.03 65.6895 Q1357.47 69.8214 1353.67 71.8063 Q1349.86 73.7508 1344.35 73.7508 Q1337.38 73.7508 1333.25 69.8619 Q1329.16 65.9325 1329.16 59.3701 Q1329.16 51.7138 1334.26 47.825 Q1339.41 43.9361 1349.57 43.9361 L1360.03 43.9361 L1360.03 43.2069 Q1360.03 38.0623 1356.62 35.2672 Q1353.26 32.4315 1347.14 32.4315 Q1343.26 32.4315 1339.57 33.3632 Q1335.88 34.295 1332.48 36.1584 L1332.48 29.2718 Q1336.57 27.692 1340.42 26.9223 Q1344.27 26.1121 1347.91 26.1121 Q1357.76 26.1121 1362.62 31.2163 Q1367.48 36.3204 1367.48 46.6907 Z\" fill=\"#000000\" fill-rule=\"evenodd\" fill-opacity=\"1\" /><path clip-path=\"url(#clip830)\" d=\"M1390.21 14.324 L1390.21 27.2059 L1405.56 27.2059 L1405.56 32.9987 L1390.21 32.9987 L1390.21 57.6282 Q1390.21 63.1779 1391.7 64.7578 Q1393.24 66.3376 1397.9 66.3376 L1405.56 66.3376 L1405.56 72.576 L1397.9 72.576 Q1389.27 72.576 1385.99 69.3758 Q1382.71 66.1351 1382.71 57.6282 L1382.71 32.9987 L1377.24 32.9987 L1377.24 27.2059 L1382.71 27.2059 L1382.71 14.324 L1390.21 14.324 Z\" fill=\"#000000\" fill-rule=\"evenodd\" fill-opacity=\"1\" /><path clip-path=\"url(#clip830)\" d=\"M1414.59 54.671 L1414.59 27.2059 L1422.05 27.2059 L1422.05 54.3874 Q1422.05 60.8284 1424.56 64.0691 Q1427.07 67.2693 1432.09 67.2693 Q1438.13 67.2693 1441.61 63.421 Q1445.14 59.5726 1445.14 52.9291 L1445.14 27.2059 L1452.59 27.2059 L1452.59 72.576 L1445.14 72.576 L1445.14 65.6084 Q1442.42 69.7404 1438.82 71.7658 Q1435.25 73.7508 1430.51 73.7508 Q1422.69 73.7508 1418.64 68.8897 Q1414.59 64.0286 1414.59 54.671 M1433.35 26.1121 L1433.35 26.1121 Z\" fill=\"#000000\" fill-rule=\"evenodd\" fill-opacity=\"1\" /><path clip-path=\"url(#clip830)\" d=\"M1494.23 34.1734 Q1492.98 33.4443 1491.48 33.1202 Q1490.02 32.7556 1488.24 32.7556 Q1481.92 32.7556 1478.51 36.8875 Q1475.15 40.9789 1475.15 48.6757 L1475.15 72.576 L1467.66 72.576 L1467.66 27.2059 L1475.15 27.2059 L1475.15 34.2544 Q1477.5 30.1225 1481.27 28.1376 Q1485.04 26.1121 1490.42 26.1121 Q1491.19 26.1121 1492.13 26.2337 Q1493.06 26.3147 1494.19 26.5172 L1494.23 34.1734 Z\" fill=\"#000000\" fill-rule=\"evenodd\" fill-opacity=\"1\" /><path clip-path=\"url(#clip830)\" d=\"M1539.04 48.0275 L1539.04 51.6733 L1504.76 51.6733 Q1505.25 59.3701 1509.38 63.421 Q1513.56 67.4314 1520.97 67.4314 Q1525.26 67.4314 1529.27 66.3781 Q1533.32 65.3249 1537.29 63.2184 L1537.29 70.267 Q1533.28 71.9684 1529.07 72.8596 Q1524.86 73.7508 1520.52 73.7508 Q1509.67 73.7508 1503.31 67.4314 Q1496.99 61.1119 1496.99 50.3365 Q1496.99 39.1965 1502.98 32.6746 Q1509.02 26.1121 1519.23 26.1121 Q1528.38 26.1121 1533.69 32.0264 Q1539.04 37.9003 1539.04 48.0275 M1531.58 45.84 Q1531.5 39.7232 1528.14 36.0774 Q1524.82 32.4315 1519.31 32.4315 Q1513.07 32.4315 1509.3 35.9558 Q1505.57 39.4801 1505.01 45.8805 L1531.58 45.84 Z\" fill=\"#000000\" fill-rule=\"evenodd\" fill-opacity=\"1\" /><polyline clip-path=\"url(#clip832)\" style=\"stroke:#ff0000; stroke-linecap:butt; stroke-linejoin:round; stroke-width:4; stroke-opacity:1; fill:none\" points=\"\n",
       "  264.778,1386.4 449.066,1300.35 633.353,1117.51 817.641,956.171 1001.93,611.992 1186.22,515.191 1370.5,391.502 1554.79,160.256 1739.08,337.724 1923.37,644.259 \n",
       "  2107.65,983.06 2291.94,1230.44 \n",
       "  \"/>\n",
       "<circle clip-path=\"url(#clip832)\" cx=\"264.778\" cy=\"1386.4\" r=\"14\" fill=\"#ff0000\" fill-rule=\"evenodd\" fill-opacity=\"1\" stroke=\"#000000\" stroke-opacity=\"1\" stroke-width=\"3.2\"/>\n",
       "<circle clip-path=\"url(#clip832)\" cx=\"449.066\" cy=\"1300.35\" r=\"14\" fill=\"#ff0000\" fill-rule=\"evenodd\" fill-opacity=\"1\" stroke=\"#000000\" stroke-opacity=\"1\" stroke-width=\"3.2\"/>\n",
       "<circle clip-path=\"url(#clip832)\" cx=\"633.353\" cy=\"1117.51\" r=\"14\" fill=\"#ff0000\" fill-rule=\"evenodd\" fill-opacity=\"1\" stroke=\"#000000\" stroke-opacity=\"1\" stroke-width=\"3.2\"/>\n",
       "<circle clip-path=\"url(#clip832)\" cx=\"817.641\" cy=\"956.171\" r=\"14\" fill=\"#ff0000\" fill-rule=\"evenodd\" fill-opacity=\"1\" stroke=\"#000000\" stroke-opacity=\"1\" stroke-width=\"3.2\"/>\n",
       "<circle clip-path=\"url(#clip832)\" cx=\"1001.93\" cy=\"611.992\" r=\"14\" fill=\"#ff0000\" fill-rule=\"evenodd\" fill-opacity=\"1\" stroke=\"#000000\" stroke-opacity=\"1\" stroke-width=\"3.2\"/>\n",
       "<circle clip-path=\"url(#clip832)\" cx=\"1186.22\" cy=\"515.191\" r=\"14\" fill=\"#ff0000\" fill-rule=\"evenodd\" fill-opacity=\"1\" stroke=\"#000000\" stroke-opacity=\"1\" stroke-width=\"3.2\"/>\n",
       "<circle clip-path=\"url(#clip832)\" cx=\"1370.5\" cy=\"391.502\" r=\"14\" fill=\"#ff0000\" fill-rule=\"evenodd\" fill-opacity=\"1\" stroke=\"#000000\" stroke-opacity=\"1\" stroke-width=\"3.2\"/>\n",
       "<circle clip-path=\"url(#clip832)\" cx=\"1554.79\" cy=\"160.256\" r=\"14\" fill=\"#ff0000\" fill-rule=\"evenodd\" fill-opacity=\"1\" stroke=\"#000000\" stroke-opacity=\"1\" stroke-width=\"3.2\"/>\n",
       "<circle clip-path=\"url(#clip832)\" cx=\"1739.08\" cy=\"337.724\" r=\"14\" fill=\"#ff0000\" fill-rule=\"evenodd\" fill-opacity=\"1\" stroke=\"#000000\" stroke-opacity=\"1\" stroke-width=\"3.2\"/>\n",
       "<circle clip-path=\"url(#clip832)\" cx=\"1923.37\" cy=\"644.259\" r=\"14\" fill=\"#ff0000\" fill-rule=\"evenodd\" fill-opacity=\"1\" stroke=\"#000000\" stroke-opacity=\"1\" stroke-width=\"3.2\"/>\n",
       "<circle clip-path=\"url(#clip832)\" cx=\"2107.65\" cy=\"983.06\" r=\"14\" fill=\"#ff0000\" fill-rule=\"evenodd\" fill-opacity=\"1\" stroke=\"#000000\" stroke-opacity=\"1\" stroke-width=\"3.2\"/>\n",
       "<circle clip-path=\"url(#clip832)\" cx=\"2291.94\" cy=\"1230.44\" r=\"14\" fill=\"#ff0000\" fill-rule=\"evenodd\" fill-opacity=\"1\" stroke=\"#000000\" stroke-opacity=\"1\" stroke-width=\"3.2\"/>\n",
       "<path clip-path=\"url(#clip830)\" d=\"\n",
       "M1918.49 287.756 L2281.13 287.756 L2281.13 166.796 L1918.49 166.796  Z\n",
       "  \" fill=\"#ffffff\" fill-rule=\"evenodd\" fill-opacity=\"1\"/>\n",
       "<polyline clip-path=\"url(#clip830)\" style=\"stroke:#000000; stroke-linecap:butt; stroke-linejoin:round; stroke-width:4; stroke-opacity:1; fill:none\" points=\"\n",
       "  1918.49,287.756 2281.13,287.756 2281.13,166.796 1918.49,166.796 1918.49,287.756 \n",
       "  \"/>\n",
       "<polyline clip-path=\"url(#clip830)\" style=\"stroke:#ff0000; stroke-linecap:butt; stroke-linejoin:round; stroke-width:4; stroke-opacity:1; fill:none\" points=\"\n",
       "  1942.36,227.276 2085.61,227.276 \n",
       "  \"/>\n",
       "<circle clip-path=\"url(#clip830)\" cx=\"2013.99\" cy=\"227.276\" r=\"23\" fill=\"#ff0000\" fill-rule=\"evenodd\" fill-opacity=\"1\" stroke=\"#000000\" stroke-opacity=\"1\" stroke-width=\"5.12\"/>\n",
       "<path clip-path=\"url(#clip830)\" d=\"M2109.49 209.996 L2138.73 209.996 L2138.73 213.931 L2126.46 213.931 L2126.46 244.556 L2121.76 244.556 L2121.76 213.931 L2109.49 213.931 L2109.49 209.996 Z\" fill=\"#000000\" fill-rule=\"evenodd\" fill-opacity=\"1\" /><path clip-path=\"url(#clip830)\" d=\"M2157.18 230.528 L2157.18 232.611 L2137.59 232.611 Q2137.87 237.009 2140.23 239.324 Q2142.62 241.616 2146.85 241.616 Q2149.3 241.616 2151.6 241.014 Q2153.91 240.412 2156.18 239.209 L2156.18 243.236 Q2153.89 244.208 2151.48 244.718 Q2149.07 245.227 2146.6 245.227 Q2140.39 245.227 2136.76 241.616 Q2133.15 238.005 2133.15 231.847 Q2133.15 225.482 2136.57 221.755 Q2140.02 218.005 2145.86 218.005 Q2151.09 218.005 2154.12 221.385 Q2157.18 224.741 2157.18 230.528 M2152.92 229.278 Q2152.87 225.783 2150.95 223.699 Q2149.05 221.616 2145.9 221.616 Q2142.34 221.616 2140.18 223.63 Q2138.05 225.644 2137.73 229.301 L2152.92 229.278 Z\" fill=\"#000000\" fill-rule=\"evenodd\" fill-opacity=\"1\" /><path clip-path=\"url(#clip830)\" d=\"M2184.35 223.607 Q2185.95 220.736 2188.17 219.371 Q2190.39 218.005 2193.4 218.005 Q2197.45 218.005 2199.65 220.852 Q2201.85 223.676 2201.85 228.908 L2201.85 244.556 L2197.57 244.556 L2197.57 229.047 Q2197.57 225.32 2196.25 223.514 Q2194.93 221.709 2192.22 221.709 Q2188.91 221.709 2186.99 223.908 Q2185.07 226.107 2185.07 229.903 L2185.07 244.556 L2180.79 244.556 L2180.79 229.047 Q2180.79 225.297 2179.47 223.514 Q2178.15 221.709 2175.39 221.709 Q2172.13 221.709 2170.21 223.931 Q2168.29 226.13 2168.29 229.903 L2168.29 244.556 L2164 244.556 L2164 218.63 L2168.29 218.63 L2168.29 222.658 Q2169.74 220.273 2171.78 219.139 Q2173.82 218.005 2176.62 218.005 Q2179.44 218.005 2181.41 219.44 Q2183.4 220.875 2184.35 223.607 Z\" fill=\"#000000\" fill-rule=\"evenodd\" fill-opacity=\"1\" /><path clip-path=\"url(#clip830)\" d=\"M2214.47 240.667 L2214.47 254.417 L2210.18 254.417 L2210.18 218.63 L2214.47 218.63 L2214.47 222.565 Q2215.81 220.25 2217.85 219.139 Q2219.91 218.005 2222.75 218.005 Q2227.48 218.005 2230.42 221.755 Q2233.38 225.505 2233.38 231.616 Q2233.38 237.727 2230.42 241.477 Q2227.48 245.227 2222.75 245.227 Q2219.91 245.227 2217.85 244.116 Q2215.81 242.982 2214.47 240.667 M2228.96 231.616 Q2228.96 226.917 2227.01 224.255 Q2225.09 221.57 2221.71 221.57 Q2218.33 221.57 2216.39 224.255 Q2214.47 226.917 2214.47 231.616 Q2214.47 236.315 2216.39 239 Q2218.33 241.662 2221.71 241.662 Q2225.09 241.662 2227.01 239 Q2228.96 236.315 2228.96 231.616 Z\" fill=\"#000000\" fill-rule=\"evenodd\" fill-opacity=\"1\" /></svg>\n"
      ]
     },
     "execution_count": 55,
     "metadata": {},
     "output_type": "execute_result"
    }
   ],
   "source": [
    "@df df plot(:月, :平均気温, title=\"Temperature\", xlabel=\"Month\", \n",
    "    ylabel=\"Temperature\", xticks=0:1:12, yticks=0:5:30,\n",
    "    label=\"Temp\", color=:red, shape=:circle)"
   ]
  },
  {
   "cell_type": "code",
   "execution_count": 56,
   "id": "769d1c6e",
   "metadata": {},
   "outputs": [
    {
     "data": {
      "text/html": [
       "<table class=\"data-frame\"><thead><tr><th></th><th>A</th><th>B</th><th>C</th></tr><tr><th></th><th>Int64</th><th>Int64</th><th>Int64</th></tr></thead><tbody><p>20 rows × 3 columns</p><tr><th>1</th><td>0</td><td>1</td><td>1</td></tr><tr><th>2</th><td>5</td><td>1</td><td>2</td></tr><tr><th>3</th><td>10</td><td>2</td><td>3</td></tr><tr><th>4</th><td>15</td><td>2</td><td>4</td></tr><tr><th>5</th><td>20</td><td>3</td><td>5</td></tr><tr><th>6</th><td>25</td><td>3</td><td>6</td></tr><tr><th>7</th><td>30</td><td>4</td><td>7</td></tr><tr><th>8</th><td>35</td><td>4</td><td>8</td></tr><tr><th>9</th><td>40</td><td>5</td><td>9</td></tr><tr><th>10</th><td>45</td><td>5</td><td>10</td></tr><tr><th>11</th><td>50</td><td>6</td><td>11</td></tr><tr><th>12</th><td>55</td><td>6</td><td>12</td></tr><tr><th>13</th><td>60</td><td>7</td><td>13</td></tr><tr><th>14</th><td>65</td><td>7</td><td>14</td></tr><tr><th>15</th><td>70</td><td>8</td><td>15</td></tr><tr><th>16</th><td>75</td><td>8</td><td>16</td></tr><tr><th>17</th><td>80</td><td>9</td><td>17</td></tr><tr><th>18</th><td>85</td><td>9</td><td>18</td></tr><tr><th>19</th><td>90</td><td>10</td><td>19</td></tr><tr><th>20</th><td>95</td><td>10</td><td>20</td></tr></tbody></table>"
      ],
      "text/latex": [
       "\\begin{tabular}{r|ccc}\n",
       "\t& A & B & C\\\\\n",
       "\t\\hline\n",
       "\t& Int64 & Int64 & Int64\\\\\n",
       "\t\\hline\n",
       "\t1 & 0 & 1 & 1 \\\\\n",
       "\t2 & 5 & 1 & 2 \\\\\n",
       "\t3 & 10 & 2 & 3 \\\\\n",
       "\t4 & 15 & 2 & 4 \\\\\n",
       "\t5 & 20 & 3 & 5 \\\\\n",
       "\t6 & 25 & 3 & 6 \\\\\n",
       "\t7 & 30 & 4 & 7 \\\\\n",
       "\t8 & 35 & 4 & 8 \\\\\n",
       "\t9 & 40 & 5 & 9 \\\\\n",
       "\t10 & 45 & 5 & 10 \\\\\n",
       "\t11 & 50 & 6 & 11 \\\\\n",
       "\t12 & 55 & 6 & 12 \\\\\n",
       "\t13 & 60 & 7 & 13 \\\\\n",
       "\t14 & 65 & 7 & 14 \\\\\n",
       "\t15 & 70 & 8 & 15 \\\\\n",
       "\t16 & 75 & 8 & 16 \\\\\n",
       "\t17 & 80 & 9 & 17 \\\\\n",
       "\t18 & 85 & 9 & 18 \\\\\n",
       "\t19 & 90 & 10 & 19 \\\\\n",
       "\t20 & 95 & 10 & 20 \\\\\n",
       "\\end{tabular}\n"
      ],
      "text/plain": [
       "\u001b[1m20×3 DataFrame\u001b[0m\n",
       "\u001b[1m Row \u001b[0m│\u001b[1m A     \u001b[0m\u001b[1m B     \u001b[0m\u001b[1m C     \u001b[0m\n",
       "\u001b[1m     \u001b[0m│\u001b[90m Int64 \u001b[0m\u001b[90m Int64 \u001b[0m\u001b[90m Int64 \u001b[0m\n",
       "─────┼─────────────────────\n",
       "   1 │     0      1      1\n",
       "   2 │     5      1      2\n",
       "   3 │    10      2      3\n",
       "   4 │    15      2      4\n",
       "   5 │    20      3      5\n",
       "   6 │    25      3      6\n",
       "   7 │    30      4      7\n",
       "   8 │    35      4      8\n",
       "   9 │    40      5      9\n",
       "  10 │    45      5     10\n",
       "  11 │    50      6     11\n",
       "  12 │    55      6     12\n",
       "  13 │    60      7     13\n",
       "  14 │    65      7     14\n",
       "  15 │    70      8     15\n",
       "  16 │    75      8     16\n",
       "  17 │    80      9     17\n",
       "  18 │    85      9     18\n",
       "  19 │    90     10     19\n",
       "  20 │    95     10     20"
      ]
     },
     "execution_count": 56,
     "metadata": {},
     "output_type": "execute_result"
    }
   ],
   "source": [
    "# CSVに書き出し\n",
    "df = DataFrame(A=0:5:95, B=repeat(1:10, inner=2), C=1:20)"
   ]
  },
  {
   "cell_type": "code",
   "execution_count": 57,
   "id": "4b951588",
   "metadata": {},
   "outputs": [
    {
     "data": {
      "text/plain": [
       "\"out_csv.csv\""
      ]
     },
     "execution_count": 57,
     "metadata": {},
     "output_type": "execute_result"
    }
   ],
   "source": [
    "CSV.write(\"out_csv.csv\", df)"
   ]
  },
  {
   "cell_type": "code",
   "execution_count": null,
   "id": "c764bb0f",
   "metadata": {},
   "outputs": [],
   "source": []
  }
 ],
 "metadata": {
  "kernelspec": {
   "display_name": "Julia 1.6.1",
   "language": "julia",
   "name": "julia-1.6"
  },
  "language_info": {
   "file_extension": ".jl",
   "mimetype": "application/julia",
   "name": "julia",
   "version": "1.6.1"
  }
 },
 "nbformat": 4,
 "nbformat_minor": 5
}
