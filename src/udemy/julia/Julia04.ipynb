{
 "cells": [
  {
   "cell_type": "markdown",
   "id": "b7596982",
   "metadata": {},
   "source": [
    "# if文"
   ]
  },
  {
   "cell_type": "code",
   "execution_count": 1,
   "id": "6e9bf4e1",
   "metadata": {},
   "outputs": [
    {
     "name": "stdout",
     "output_type": "stream",
     "text": [
      "apple\n"
     ]
    }
   ],
   "source": [
    "name = \"apple\"\n",
    "if name == \"apple\"\n",
    "    println(\"apple\")\n",
    "else\n",
    "    println(\"else\")\n",
    "end"
   ]
  },
  {
   "cell_type": "code",
   "execution_count": 2,
   "id": "31a4bb51",
   "metadata": {},
   "outputs": [
    {
     "name": "stdout",
     "output_type": "stream",
     "text": [
      "x < y\n"
     ]
    }
   ],
   "source": [
    "x = 1\n",
    "y = 100\n",
    "\n",
    "if x < y\n",
    "    println(\"x < y\")\n",
    "elseif x > y\n",
    "    println(\"x > y\")\n",
    "else\n",
    "    println(\"x = y\")\n",
    "end"
   ]
  },
  {
   "cell_type": "markdown",
   "id": "df81b3b3",
   "metadata": {},
   "source": [
    "# 3項演算子"
   ]
  },
  {
   "cell_type": "code",
   "execution_count": 3,
   "id": "2d1ca2d7",
   "metadata": {},
   "outputs": [
    {
     "data": {
      "text/plain": [
       "false"
      ]
     },
     "execution_count": 3,
     "metadata": {},
     "output_type": "execute_result"
    }
   ],
   "source": [
    "name = \"banana\"\n",
    "name == \"apple\" ? true : false"
   ]
  },
  {
   "cell_type": "code",
   "execution_count": 4,
   "id": "cee56737",
   "metadata": {},
   "outputs": [
    {
     "name": "stdout",
     "output_type": "stream",
     "text": [
      "not apple"
     ]
    }
   ],
   "source": [
    "name = \"banana\"\n",
    "name == \"apple\" ? print(\"apple\") : print(\"not apple\")"
   ]
  },
  {
   "cell_type": "markdown",
   "id": "b6fd28e7",
   "metadata": {},
   "source": [
    "# 短絡評価"
   ]
  },
  {
   "cell_type": "code",
   "execution_count": 5,
   "id": "826928b8",
   "metadata": {},
   "outputs": [
    {
     "data": {
      "text/plain": [
       "100"
      ]
     },
     "execution_count": 5,
     "metadata": {},
     "output_type": "execute_result"
    }
   ],
   "source": [
    "a = 1\n",
    "b = 10\n",
    "c = 100"
   ]
  },
  {
   "cell_type": "code",
   "execution_count": 6,
   "id": "d0dcff50",
   "metadata": {},
   "outputs": [
    {
     "data": {
      "text/plain": [
       "true"
      ]
     },
     "execution_count": 6,
     "metadata": {},
     "output_type": "execute_result"
    }
   ],
   "source": [
    "a < b && b < c"
   ]
  },
  {
   "cell_type": "code",
   "execution_count": 7,
   "id": "d4fbe4a6",
   "metadata": {},
   "outputs": [
    {
     "data": {
      "text/plain": [
       "true"
      ]
     },
     "execution_count": 7,
     "metadata": {},
     "output_type": "execute_result"
    }
   ],
   "source": [
    "a < b || b < c"
   ]
  },
  {
   "cell_type": "code",
   "execution_count": 8,
   "id": "319fe1aa",
   "metadata": {},
   "outputs": [
    {
     "name": "stdout",
     "output_type": "stream",
     "text": [
      "x is larger than 0\n"
     ]
    }
   ],
   "source": [
    "x = 10\n",
    "x > 0 && println(\"x is larger than 0\")"
   ]
  },
  {
   "cell_type": "code",
   "execution_count": 9,
   "id": "7ac5aa43",
   "metadata": {},
   "outputs": [
    {
     "data": {
      "text/plain": [
       "false"
      ]
     },
     "execution_count": 9,
     "metadata": {},
     "output_type": "execute_result"
    }
   ],
   "source": [
    "x = -10\n",
    "x > 0 && println(\"x is larger than 0\")"
   ]
  },
  {
   "cell_type": "code",
   "execution_count": 10,
   "id": "178685df",
   "metadata": {},
   "outputs": [
    {
     "data": {
      "text/plain": [
       "true"
      ]
     },
     "execution_count": 10,
     "metadata": {},
     "output_type": "execute_result"
    }
   ],
   "source": [
    "x = 10\n",
    "x > 0 || println(\"x is larger than 0\")"
   ]
  },
  {
   "cell_type": "code",
   "execution_count": 11,
   "id": "5ebf639d",
   "metadata": {},
   "outputs": [
    {
     "name": "stdout",
     "output_type": "stream",
     "text": [
      "x is larger than 0\n"
     ]
    }
   ],
   "source": [
    "x = -10\n",
    "x > 0 || println(\"x is larger than 0\")"
   ]
  },
  {
   "cell_type": "markdown",
   "id": "237107c2",
   "metadata": {},
   "source": [
    "# forループ, whileループ"
   ]
  },
  {
   "cell_type": "code",
   "execution_count": 12,
   "id": "ed8e6cb3",
   "metadata": {},
   "outputs": [
    {
     "name": "stdout",
     "output_type": "stream",
     "text": [
      "a=0\n",
      "a=1\n",
      "a=3\n",
      "a=6\n",
      "a=10\n",
      "a=15\n",
      "a=21\n",
      "a=28\n",
      "a=36\n",
      "a=45\n",
      "a=55\n"
     ]
    }
   ],
   "source": [
    "a = 0\n",
    "for i = 0:10\n",
    "    a += i\n",
    "    println(\"a=\", a)\n",
    "end"
   ]
  },
  {
   "cell_type": "code",
   "execution_count": 13,
   "id": "b3ddb840",
   "metadata": {},
   "outputs": [
    {
     "name": "stdout",
     "output_type": "stream",
     "text": [
      "a=0\n",
      "a=1\n",
      "a=2\n",
      "a=3\n",
      "a=4\n",
      "a=5\n",
      "a=6\n",
      "a=7\n",
      "a=8\n",
      "a=9\n",
      "a=10\n"
     ]
    }
   ],
   "source": [
    "a = 0\n",
    "for i in 0:10\n",
    "    println(\"a=\", i)\n",
    "end"
   ]
  },
  {
   "cell_type": "code",
   "execution_count": 14,
   "id": "0ca6f4bf",
   "metadata": {},
   "outputs": [
    {
     "name": "stdout",
     "output_type": "stream",
     "text": [
      "0\n",
      "1\n",
      "2\n",
      "3\n",
      "4\n",
      "5\n",
      "6\n",
      "7\n",
      "8\n",
      "9\n"
     ]
    }
   ],
   "source": [
    "i = 0\n",
    "\n",
    "while i < 10\n",
    "    println(i)\n",
    "    i += 1\n",
    "end"
   ]
  },
  {
   "cell_type": "code",
   "execution_count": 15,
   "id": "acfd5312",
   "metadata": {},
   "outputs": [
    {
     "name": "stdout",
     "output_type": "stream",
     "text": [
      "a\n",
      "b\n",
      "c\n"
     ]
    }
   ],
   "source": [
    "a = (\"a\", \"b\", \"c\")\n",
    "\n",
    "for i in a\n",
    "    println(i)\n",
    "end"
   ]
  },
  {
   "cell_type": "code",
   "execution_count": 16,
   "id": "7568b018",
   "metadata": {},
   "outputs": [
    {
     "name": "stdout",
     "output_type": "stream",
     "text": [
      "2 がキーで、b が値です。\n",
      "3 がキーで、c が値です。\n",
      "1 がキーで、a が値です。\n"
     ]
    }
   ],
   "source": [
    "a = Dict(1 => \"a\", 2 => \"b\", 3 => \"c\")\n",
    "\n",
    "for (i, j) in a\n",
    "    println(\"$i がキーで、$j が値です。\")\n",
    "end"
   ]
  },
  {
   "cell_type": "code",
   "execution_count": 17,
   "id": "88815b20",
   "metadata": {},
   "outputs": [
    {
     "name": "stdout",
     "output_type": "stream",
     "text": [
      "1 とa\n",
      "2 とb\n",
      "3 とc\n"
     ]
    }
   ],
   "source": [
    "a = [1, 2, 3]\n",
    "b = [\"a\", \"b\", \"c\"]\n",
    "\n",
    "for (i, j) in zip(a, b)\n",
    "    println(\"$i と$j\")\n",
    "end"
   ]
  },
  {
   "cell_type": "code",
   "execution_count": 18,
   "id": "120df1d3",
   "metadata": {},
   "outputs": [
    {
     "name": "stdout",
     "output_type": "stream",
     "text": [
      "1 とa\n",
      "2 とb\n",
      "3 とc\n"
     ]
    }
   ],
   "source": [
    "for (index, i) in enumerate(b)\n",
    "    println(\"$index と$i\")\n",
    "end"
   ]
  },
  {
   "cell_type": "code",
   "execution_count": 19,
   "id": "82330327",
   "metadata": {},
   "outputs": [
    {
     "name": "stdout",
     "output_type": "stream",
     "text": [
      "1,10\n",
      "1,11\n",
      "1,12\n",
      "2,10\n",
      "2,11\n",
      "2,12\n",
      "3,10\n",
      "3,11\n",
      "3,12\n",
      "4,10\n",
      "4,11\n",
      "4,12\n",
      "5,10\n",
      "5,11\n",
      "5,12\n"
     ]
    }
   ],
   "source": [
    "for i = 1:5, j = 10:12\n",
    "    println(i, \",\",j )\n",
    "end"
   ]
  },
  {
   "cell_type": "code",
   "execution_count": 20,
   "id": "95c28d3d",
   "metadata": {},
   "outputs": [
    {
     "name": "stdout",
     "output_type": "stream",
     "text": [
      "0\n",
      "1\n",
      "2\n",
      "3\n",
      "4\n",
      "5\n"
     ]
    }
   ],
   "source": [
    "i = 0\n",
    "while true\n",
    "    println(i)\n",
    "    if i >= 5\n",
    "        break\n",
    "    end\n",
    "    i += 1\n",
    "end"
   ]
  },
  {
   "cell_type": "code",
   "execution_count": 21,
   "id": "29618cce",
   "metadata": {},
   "outputs": [
    {
     "name": "stdout",
     "output_type": "stream",
     "text": [
      "1\n",
      "2\n",
      "4\n",
      "5\n"
     ]
    }
   ],
   "source": [
    "for i = 1:5\n",
    "    if i == 3\n",
    "        continue\n",
    "    end\n",
    "    println(i)\n",
    "    i += 1\n",
    "end"
   ]
  },
  {
   "cell_type": "markdown",
   "id": "9c05185f",
   "metadata": {},
   "source": [
    "# 内包表記"
   ]
  },
  {
   "cell_type": "code",
   "execution_count": 22,
   "id": "5129f1a7",
   "metadata": {},
   "outputs": [
    {
     "data": {
      "text/plain": [
       "10-element Vector{Int64}:\n",
       "  1\n",
       "  2\n",
       "  3\n",
       "  4\n",
       "  5\n",
       "  6\n",
       "  7\n",
       "  8\n",
       "  9\n",
       " 10"
      ]
     },
     "execution_count": 22,
     "metadata": {},
     "output_type": "execute_result"
    }
   ],
   "source": [
    "arr = [n for n = 1:10]"
   ]
  },
  {
   "cell_type": "code",
   "execution_count": 23,
   "id": "95df1744",
   "metadata": {},
   "outputs": [
    {
     "data": {
      "text/plain": [
       "5-element Vector{Int64}:\n",
       "  2\n",
       "  4\n",
       "  6\n",
       "  8\n",
       " 10"
      ]
     },
     "execution_count": 23,
     "metadata": {},
     "output_type": "execute_result"
    }
   ],
   "source": [
    "arr = [n for n = 1:10 if n % 2 == 0]"
   ]
  },
  {
   "cell_type": "code",
   "execution_count": 24,
   "id": "ccfb54b2",
   "metadata": {},
   "outputs": [
    {
     "data": {
      "text/plain": [
       "Dict{String, Int64} with 3 entries:\n",
       "  \"orange\" => 2\n",
       "  \"banana\" => 1\n",
       "  \"apple\"  => 0"
      ]
     },
     "execution_count": 24,
     "metadata": {},
     "output_type": "execute_result"
    }
   ],
   "source": [
    "fruits = Dict(i for i = zip([\"apple\", \"banana\", \"orange\"], [0, 1, 2]))"
   ]
  },
  {
   "cell_type": "code",
   "execution_count": null,
   "id": "86fd9f2a",
   "metadata": {},
   "outputs": [],
   "source": []
  }
 ],
 "metadata": {
  "kernelspec": {
   "display_name": "Julia 1.6.1",
   "language": "julia",
   "name": "julia-1.6"
  },
  "language_info": {
   "file_extension": ".jl",
   "mimetype": "application/julia",
   "name": "julia",
   "version": "1.6.1"
  }
 },
 "nbformat": 4,
 "nbformat_minor": 5
}
