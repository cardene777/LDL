{
 "cells": [
  {
   "cell_type": "markdown",
   "id": "021e6138",
   "metadata": {},
   "source": [
    "# 可視化"
   ]
  },
  {
   "cell_type": "code",
   "execution_count": 1,
   "id": "11d895cb",
   "metadata": {},
   "outputs": [],
   "source": [
    "using Pkg"
   ]
  },
  {
   "cell_type": "code",
   "execution_count": 2,
   "id": "307fb50f",
   "metadata": {},
   "outputs": [],
   "source": [
    "Pkg.add(\"PyPlot\")"
   ]
  },
  {
   "cell_type": "code",
   "execution_count": 3,
   "id": "fcdb4dd8",
   "metadata": {},
   "outputs": [],
   "source": [
    "Pkg.add(\"FixedPointNumbers\")"
   ]
  },
  {
   "cell_type": "code",
   "execution_count": null,
   "id": "f3c24d2e",
   "metadata": {},
   "outputs": [],
   "source": [
    "using PyPlot\n",
    "using FixedPointNumbers, ColorTypes"
   ]
  },
  {
   "cell_type": "code",
   "execution_count": null,
   "id": "2fa9752b",
   "metadata": {},
   "outputs": [],
   "source": [
    "# データの読み込み\n",
    "filename = \"temp_2019_tokyo.csv\"\n",
    "\n",
    "f = open(filename)\n",
    "\n",
    "tt = zeros(Int64, 0)\n",
    "xx = zeros(Float64, 0)\n",
    "yy = zeros(Float64, 0)\n",
    "\n",
    "i = 0\n",
    "for line in eachline(f)\n",
    "    i += 1\n",
    "    i == 1 && continue\n",
    "    \n",
    "    s = split(line, \",\")\n",
    "    t = parse(Int64, s[1])\n",
    "    push!(tt, t)\n",
    "    \n",
    "    x = parse(Float64, s[2])\n",
    "    push!(xx, x)\n",
    "    \n",
    "    y = parse(Float64, s[3])\n",
    "    push!(yy, y)\n",
    "end\n",
    "\n",
    "println(tt)\n",
    "println(xx)\n",
    "println(yy)"
   ]
  },
  {
   "cell_type": "code",
   "execution_count": null,
   "id": "389175fa",
   "metadata": {},
   "outputs": [],
   "source": [
    "PyPlot.version"
   ]
  },
  {
   "cell_type": "code",
   "execution_count": null,
   "id": "4e47008c",
   "metadata": {},
   "outputs": [],
   "source": [
    "ax = PyPlot.axes()\n",
    "\n",
    "plot(tt, yy, color=:red)\n",
    "title(\"Precipitation\")\n",
    "xlabel(\"Month\")\n",
    "ylabel(\"Precipitation [mm]\")\n",
    "\n",
    "Mx = matplotlib.ticker.MultipleLocator(1)\n",
    "ax.xaxis.set_major_locator(Mx)"
   ]
  },
  {
   "cell_type": "code",
   "execution_count": null,
   "id": "034e4397",
   "metadata": {},
   "outputs": [],
   "source": [
    "ax = PyPlot.axes()\n",
    "\n",
    "b = bar(tt, xx, color=:blue)\n",
    "title(\"Temperature\")\n",
    "xlabel(\"Month\")\n",
    "ylabel(\"Temperature\")\n",
    "\n",
    "Mx = matplotlib.ticker.MultipleLocator(1)\n",
    "ax.xaxis.set_major_locator(Mx)\n",
    "\n",
    "ylim(0, 30)\n",
    "\n",
    "grid(\"on\")"
   ]
  },
  {
   "cell_type": "code",
   "execution_count": null,
   "id": "5915d6e1",
   "metadata": {},
   "outputs": [],
   "source": [
    "# 散布図\n",
    "ax = PyPlot.axes()\n",
    "\n",
    "scatter(xx, yy, color=:green)\n",
    "title(\"Scatter Plot\")\n",
    "xlabel(\"Temperature\")\n",
    "ylabel(\"Precipitation\")\n",
    "\n",
    "grid(\"on\")\n",
    "\n",
    "xlim(0, 30)\n",
    "ylim(0, 600)"
   ]
  },
  {
   "cell_type": "code",
   "execution_count": null,
   "id": "c0773df9",
   "metadata": {},
   "outputs": [],
   "source": [
    "# ヒストグラム\n",
    "x = randn(100)\n",
    "nbins = 10\n",
    "\n",
    "hist(x, nbins, color=:magenta)\n",
    "\n",
    "grid(\"on\")\n",
    "\n",
    "xlabel(\"X\")\n",
    "ylabel(\"Y\")\n",
    "\n",
    "title(\"title\")"
   ]
  },
  {
   "cell_type": "code",
   "execution_count": null,
   "id": "a505e7c1",
   "metadata": {},
   "outputs": [],
   "source": [
    "# 複数プロット\n",
    "x = range(0, 2pi, length=100)\n",
    "\n",
    "plot(x, sin.(x), \"-\", label=\"sine\", color=:purple)\n",
    "plot(x, cos.(x), \"--\", label=\"cosin\", color=:orange)\n",
    "legend()"
   ]
  },
  {
   "cell_type": "code",
   "execution_count": null,
   "id": "8b94080d",
   "metadata": {},
   "outputs": [],
   "source": [
    "# 3Dプロット\n",
    "n = 30\n",
    "x = range(-3, 3, length=n)\n",
    "y = range(-3, 3, length=n)\n",
    "\n",
    "xx = collect(x)\n",
    "yy = collect(y)\n",
    "\n",
    "z = zeros(n, n)\n",
    "\n",
    "for i in 1:n\n",
    "    for j in 1:n\n",
    "        z[i, j] = xx[i]^2+yy[j]^2\n",
    "    end\n",
    "end"
   ]
  },
  {
   "cell_type": "code",
   "execution_count": null,
   "id": "8ce2a45c",
   "metadata": {},
   "outputs": [],
   "source": [
    "fig = figure(\"pyplot-surfaceplot\", figsize=(10, 10))\n",
    "plot_surface(xx, yy, z, color=:yellow)\n",
    "xlabel(\"X\")\n",
    "ylabel(\"Y\")\n",
    "zlabel(\"Z\")"
   ]
  },
  {
   "cell_type": "code",
   "execution_count": null,
   "id": "eacd0c1e",
   "metadata": {},
   "outputs": [],
   "source": [
    "# 複数プロットと保存\n",
    "x = range(0, 2pi, length=100)\n",
    "\n",
    "subplot(2, 1, 1)\n",
    "plot(x, sin.(x), \"-\", label=\"sine\")\n",
    "legend()\n",
    "\n",
    "subplot(2, 1, 2)\n",
    "plot(x, cos.(x), \"--\", label=\"cosine\")\n",
    "legend()\n",
    "\n",
    "savefig(\"plot.png\")"
   ]
  },
  {
   "cell_type": "code",
   "execution_count": null,
   "id": "f26cd9a9",
   "metadata": {},
   "outputs": [],
   "source": []
  }
 ],
 "metadata": {
  "kernelspec": {
   "display_name": "Julia 1.6.1",
   "language": "julia",
   "name": "julia-1.6"
  },
  "language_info": {
   "file_extension": ".jl",
   "mimetype": "application/julia",
   "name": "julia",
   "version": "1.6.1"
  }
 },
 "nbformat": 4,
 "nbformat_minor": 5
}
