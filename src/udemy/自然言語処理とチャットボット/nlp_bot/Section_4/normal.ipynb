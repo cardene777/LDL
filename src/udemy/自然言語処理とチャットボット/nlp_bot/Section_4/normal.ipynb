{
 "cells": [
  {
   "cell_type": "markdown",
   "metadata": {},
   "source": [
    "# 正規分布\n",
    "正規分布（normal distribution）はガウス分布（Gaussian distribution）とも呼ばれ、自然界や人間の行動・性質など様々な現象に対してよく当てはまるデータの分布です。  \n",
    "例えば、製品のサイズやヒトの身長、テストの成績などは正規分布におおよそ従います。  \n",
    "ニューラルネトワークは多くの変動するパラメータを持っていますが、これらのパラメータの初期値は、しばしば正規分布に従ってランダムに決定されます。\n",
    "今回は、平均値、分散、標準偏差を学んだ上で、正規分布を解説します。"
   ]
  },
  {
   "cell_type": "markdown",
   "metadata": {},
   "source": [
    "## ●平均値\n",
    "**平均値**は、複数の値を足し合わせて値の数で割って求めます。  \n",
    "以下は、$n$個の値の平均を求める式です。  \n",
    "\n",
    "$$ \\begin{aligned} \\\\\n",
    "\\mu &= \\frac{x_1 + x_2 + \\cdots + x_n}{n} \\\\\n",
    "&= \\frac{1}{n}\\sum_{k=1}^n x_k\n",
    "\\end{aligned} $$\n",
    "\n",
    "例えば、Aさんの体重が55kg、Bさんは45kg、Cさんは60kg、Dさんが40kgであれば、4人の平均体重は以下の通りになります。\n",
    "\n",
    "$$\\frac{55 + 45 + 60 + 40}{4} = 50(kg)$$\n",
    "\n",
    "平均値は、複数の値からなるデータを代表する値の1つです。\n",
    "\n",
    "NumPyのaverage関数で、平均値を求めることができます。  "
   ]
  },
  {
   "cell_type": "code",
   "execution_count": 1,
   "metadata": {},
   "outputs": [
    {
     "name": "stdout",
     "output_type": "stream",
     "text": [
      "50.0\n"
     ]
    }
   ],
   "source": [
    "import numpy as np\n",
    "\n",
    "x = np.array([55, 45, 60, 40])  # 平均をとるデータ\n",
    "\n",
    "print(np.average(x))"
   ]
  },
  {
   "cell_type": "markdown",
   "metadata": {},
   "source": [
    "## ●分散\n",
    "\n",
    "分散は、以下の式の$V$で表されます。\n",
    "\n",
    "$$V=\\frac{1}{n}\\sum_{k=1}^n (x_k-\\mu)^2$$\n",
    "\n",
    "この式において、$n$は値の数、$x_k$は値、$\\mu$は平均値です。  \n",
    "平均値との差を2乗し、平均をとっています。  \n",
    "\n",
    "例えば、Aさんの体重が55kg、Bさんは45kg、Cさんは60kg、Dさんが40kgであれば分散は以下ように求めます。\n",
    "\n",
    "$$\\mu = \\frac{55+45+60+40}{4}=50(kg)$$\n",
    "\n",
    "$$V=\\frac{(55-50)^2+(45-50)^2+(60-50)^2+(40-50)^2}{4}=62.5(kg^2)$$\n",
    "\n",
    "次に、Aさんの体重が51kg、Bさんは49kg、Cさんは52kg、Dさんが48kgのケースで分散を求めます。  \n",
    "このケースでは、全体的に値のばらつきが小さくなっています。  \n",
    "\n",
    "$$\\mu = \\frac{51+49+52+48}{4}=50(kg)$$\n",
    "\n",
    "$$V=\\frac{(51-50)^2+(49-50)^2+(52-50)^2+(48-50)^2}{4}=2.5 (kg^2)$$\n",
    "\n",
    "こちらのケースの方が分散が小さくなりました。\n",
    "以上のように、分散は値のばらつき具合を表す指標です。\n",
    "\n",
    "NumPyのvar関数で、分散を求めることができます。  "
   ]
  },
  {
   "cell_type": "code",
   "execution_count": 2,
   "metadata": {},
   "outputs": [
    {
     "name": "stdout",
     "output_type": "stream",
     "text": [
      "62.5\n"
     ]
    }
   ],
   "source": [
    "import numpy as np\n",
    "\n",
    "x = np.array([55, 45, 60, 40])  # 分散をとるデータ\n",
    "\n",
    "print(np.var(x))"
   ]
  },
  {
   "cell_type": "markdown",
   "metadata": {},
   "source": [
    "## ●標準偏差\n",
    "\n",
    "標準偏差は、以下のように分散の平方根により求めます。\n",
    "\n",
    "$$\\sigma = \\sqrt V=\\sqrt{\\frac{1}{n}\\sum_{k=1}^n (x_k-\\mu)^2}$$\n",
    "\n",
    "例えば、Aさんの体重が55kg、Bさんは45kg、Cさんは60kg、Dさんが40kgであれば標準偏差は以下ように求めます。\n",
    "\n",
    "$$\\mu = \\frac{55+45+60+40}{4}=50 (kg)$$\n",
    "\n",
    "$$\\sigma=\\sqrt{\\frac{(55-50)^2+(45-50)^2+(60-50)^2+(40-50)^2}{4}}\\fallingdotseq7.91 (kg\n",
    ")$$\n",
    "\n",
    "標準偏差も、分散と同様に値のばらつき具合の指標です。  \n",
    "標準偏差は単位の次元が元の値と同じなので、値の散らばり具合を直感的に表現する際には標準偏差が適している場合が多いです。\n",
    "\n",
    "標準偏差は、Numpyのstd関数を用いて求めることができます。"
   ]
  },
  {
   "cell_type": "code",
   "execution_count": 3,
   "metadata": {},
   "outputs": [
    {
     "name": "stdout",
     "output_type": "stream",
     "text": [
      "7.905694150420948\n"
     ]
    }
   ],
   "source": [
    "import numpy as np\n",
    "\n",
    "x = np.array([55, 45, 60, 40])  # 標準偏差をとるデータ\n",
    "\n",
    "print(np.std(x))"
   ]
  },
  {
   "cell_type": "markdown",
   "metadata": {},
   "source": [
    "## ●正規分布\n",
    "正規分布は、以下のような釣鐘型のグラフで表されます。\n",
    "\n",
    "<img src=\"images/normal.png\">\n",
    "\n",
    "このグラフにおいて、横軸はある値を、縦軸はその値の頻度や確率を表します。  \n",
    "$\\mu$は平均値で分布の中央になり、$\\sigma$は標準偏差で分布の広がり具合を表します。  \n",
    "\n",
    "正規分布は、以下の確率密度関数と呼ばれる関数で表されます。  \n",
    "\n",
    "$$ y=\\frac{1}{ \\sigma\\sqrt{2\\pi}}\\exp(-\\frac{(x-\\mu)^2}{2\\sigma ^2}) $$ \n",
    "\n",
    "少々複雑な式ですが、平均が0、標準偏差が1とすると次の比較的シンプルな形になります。\n",
    "\n",
    "$$ y=\\frac{1}{\\sqrt{2\\pi}}\\exp(-\\frac{x^2}{2}) $$ \n",
    "\n",
    "確率密度関数を使って、正規分布を描画しましょう。  "
   ]
  },
  {
   "cell_type": "code",
   "execution_count": 4,
   "metadata": {},
   "outputs": [
    {
     "data": {
      "image/png": "[encoded data removed]",
      "text/plain": [
       "<Figure size 432x288 with 1 Axes>"
      ]
     },
     "metadata": {
      "needs_background": "light"
     },
     "output_type": "display_data"
    }
   ],
   "source": [
    "import numpy as np\n",
    "import matplotlib.pyplot as plt\n",
    " \n",
    "sigma = 1  # 標準偏差\n",
    "mu = 0  # 平均値\n",
    "\n",
    "x =np.linspace(-5, 5)\n",
    "y = 1/(sigma*np.sqrt(2*np.pi))*np.exp(-(x-mu)**2 / (2*sigma**2))  # 確率密度関数\n",
    "\n",
    "plt.plot(x, y)\n",
    "plt.show()"
   ]
  }
 ],
 "metadata": {
  "kernelspec": {
   "display_name": "Python 3",
   "language": "python",
   "name": "python3"
  },
  "language_info": {
   "codemirror_mode": {
    "name": "ipython",
    "version": 3
   },
   "file_extension": ".py",
   "mimetype": "text/x-python",
   "name": "python",
   "nbconvert_exporter": "python",
   "pygments_lexer": "ipython3",
   "version": "3.8.8"
  }
 },
 "nbformat": 4,
 "nbformat_minor": 2
}
