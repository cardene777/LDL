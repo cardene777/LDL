{
 "cells": [
  {
   "cell_type": "markdown",
   "metadata": {},
   "source": [
    "# 文章の類似度\n",
    "Doc2Vecは、任意の長さの文書をベクトル化する技術です。  \n",
    "この技術を使って、文書やテキストの分散表現を獲得し、類似度を計算します。"
   ]
  },
  {
   "cell_type": "markdown",
   "metadata": {},
   "source": [
    "## データの読み込み\n",
    "以前に作成したデータの読み込みを行います。"
   ]
  },
  {
   "cell_type": "code",
   "execution_count": 1,
   "metadata": {},
   "outputs": [],
   "source": [
    "import pickle\n",
    "\n",
    "with open('wagahai_words.pickle', mode='rb') as f:\n",
    "    wagahai_words = pickle.load(f)\n",
    "\n",
    "# print(wagahai_words)"
   ]
  },
  {
   "cell_type": "markdown",
   "metadata": {},
   "source": [
    "## doc2vecによる学習\n",
    "doc2vecを使って学習を行い、モデルを作成します。"
   ]
  },
  {
   "cell_type": "code",
   "execution_count": 2,
   "metadata": {},
   "outputs": [
    {
     "name": "stderr",
     "output_type": "stream",
     "text": [
      "/opt/anaconda3/envs/local/lib/python3.9/site-packages/gensim/similarities/__init__.py:15: UserWarning: The gensim.similarities.levenshtein submodule is disabled, because the optional Levenshtein package <https://pypi.org/project/python-Levenshtein/> is unavailable. Install Levenhstein (e.g. `pip install python-Levenshtein`) to suppress this warning.\n",
      "  warnings.warn(msg)\n"
     ]
    }
   ],
   "source": [
    "from gensim.models.doc2vec import Doc2Vec\n",
    "from gensim.models.doc2vec import TaggedDocument\n",
    "\n",
    "tagged_documents = []\n",
    "for i, sentence in enumerate(wagahai_words):\n",
    "    tagged_documents.append(TaggedDocument(sentence, [i]))  # TaggedDocument型のオブジェクトをリストに格納\n",
    "\n",
    "# size：分散表現の次元数\n",
    "# window：対象単語を中心とした前後の単語数\n",
    "# min_count：学習に使う単語の最低出現回数\n",
    "# epochs:epochs数\n",
    "# dm：学習モデル=DBOW（デフォルトはdm=1で、学習モデルはDM）\n",
    "model = Doc2Vec(documents=tagged_documents,\n",
    "                vector_size=100,\n",
    "                min_count=5,\n",
    "                window=5,\n",
    "                epochs=20,\n",
    "                dm=0)"
   ]
  },
  {
   "cell_type": "markdown",
   "metadata": {},
   "source": [
    "## 文章のベクトル\n",
    "最初の文章のベクトルを表示します。"
   ]
  },
  {
   "cell_type": "code",
   "execution_count": 3,
   "metadata": {},
   "outputs": [
    {
     "name": "stdout",
     "output_type": "stream",
     "text": [
      "吾輩\n",
      "[-0.12652503 -0.00385549 -0.07523972  0.1176073   0.05138084 -0.09120586\n",
      "  0.00547254  0.053505   -0.04280002  0.05100885  0.06203451 -0.00295064\n",
      "  0.0200424   0.00271868  0.02120576  0.02318654 -0.00442394 -0.00566555\n",
      "  0.03426312  0.02427356  0.06883296  0.07871117  0.00656776 -0.01189969\n",
      "  0.01036742 -0.05394462  0.01754485 -0.06838298  0.05042084 -0.03025869\n",
      "  0.04341919  0.06499478 -0.04808944  0.05710523 -0.08976676 -0.08546921\n",
      " -0.10231611 -0.04242787 -0.0239957  -0.03211273 -0.03885414 -0.06008976\n",
      "  0.01510375  0.01653096 -0.0264694  -0.00600664  0.01648737  0.06666256\n",
      "  0.01595819 -0.07497119 -0.00448522  0.08330217  0.01056159 -0.04591826\n",
      " -0.08747066 -0.09103087 -0.0363709   0.03018243 -0.05401651 -0.05355328\n",
      " -0.00792292  0.00905739  0.02903889 -0.05320918 -0.03124553  0.04319333\n",
      "  0.0246358   0.00775015 -0.01272339 -0.03792953 -0.0129639  -0.00941707\n",
      " -0.0104739  -0.06548921  0.0565795   0.07195204  0.06506717 -0.0093583\n",
      "  0.02156564  0.00853927  0.01583141 -0.05252754 -0.02621    -0.04405035\n",
      " -0.03682327  0.04575291 -0.00591031  0.05508913 -0.04650731  0.05114096\n",
      " -0.0623768  -0.04603188  0.0024483   0.02828803 -0.01619262 -0.04593148\n",
      " -0.00965488 -0.02703809 -0.05867291 -0.00650997]\n"
     ]
    },
    {
     "name": "stderr",
     "output_type": "stream",
     "text": [
      "<ipython-input-3-8250c164d3e4>:2: DeprecationWarning: Call to deprecated `docvecs` (The `docvecs` property has been renamed `dv`.).\n",
      "  print(model.docvecs[0])  # 最初の文章のベクトル\n"
     ]
    }
   ],
   "source": [
    "print(wagahai_words[0])  # 最初の文章を表示\n",
    "print(model.docvecs[0])  # 最初の文章のベクトル"
   ]
  },
  {
   "cell_type": "markdown",
   "metadata": {},
   "source": [
    "## 文章の類似度\n",
    "最も類似度の高い文章のIDと類似度を表示します。"
   ]
  },
  {
   "cell_type": "code",
   "execution_count": 4,
   "metadata": {},
   "outputs": [
    {
     "name": "stdout",
     "output_type": "stream",
     "text": [
      "[(53068, 0.9899663925170898), (48546, 0.9896218180656433), (171904, 0.9894869923591614), (5277, 0.9894448518753052), (34469, 0.9893892407417297), (3059, 0.9893085956573486), (15355, 0.9892138242721558), (24856, 0.9891346096992493), (110385, 0.9890791773796082), (102643, 0.9887331128120422)]\n"
     ]
    },
    {
     "name": "stderr",
     "output_type": "stream",
     "text": [
      "<ipython-input-4-030931fbab5d>:1: DeprecationWarning: Call to deprecated `docvecs` (The `docvecs` property has been renamed `dv`.).\n",
      "  print(model.docvecs.most_similar(0))\n"
     ]
    }
   ],
   "source": [
    "print(model.docvecs.most_similar(0))"
   ]
  },
  {
   "cell_type": "code",
   "execution_count": 5,
   "metadata": {},
   "outputs": [
    {
     "name": "stdout",
     "output_type": "stream",
     "text": [
      "吾輩\n",
      "吾輩\n",
      "吾輩\n",
      "吾輩\n",
      "吾輩\n",
      "吾輩\n",
      "吾輩\n",
      "吾輩\n",
      "吾輩\n",
      "吾輩\n"
     ]
    },
    {
     "name": "stderr",
     "output_type": "stream",
     "text": [
      "<ipython-input-5-80ef34d3bb87>:1: DeprecationWarning: Call to deprecated `docvecs` (The `docvecs` property has been renamed `dv`.).\n",
      "  for p in model.docvecs.most_similar(0):\n"
     ]
    }
   ],
   "source": [
    "for p in model.docvecs.most_similar(0):\n",
    "    print(wagahai_words[p[0]])"
   ]
  },
  {
   "cell_type": "markdown",
   "metadata": {},
   "source": [
    "類似度の高い文章が表示されました。  \n",
    "doc2vecにより、文書全体の類似度を計算することも可能です。"
   ]
  },
  {
   "cell_type": "markdown",
   "metadata": {},
   "source": [
    "## 課題:\n",
    "wagahai_wordsの中の適当な文章と、類似度の高い文章を表示してみましょう。"
   ]
  },
  {
   "cell_type": "code",
   "execution_count": null,
   "metadata": {},
   "outputs": [],
   "source": []
  }
 ],
 "metadata": {
  "kernelspec": {
   "display_name": "Python 3",
   "language": "python",
   "name": "python3"
  },
  "language_info": {
   "codemirror_mode": {
    "name": "ipython",
    "version": 3
   },
   "file_extension": ".py",
   "mimetype": "text/x-python",
   "name": "python",
   "nbconvert_exporter": "python",
   "pygments_lexer": "ipython3",
   "version": "3.9.5"
  }
 },
 "nbformat": 4,
 "nbformat_minor": 2
}
