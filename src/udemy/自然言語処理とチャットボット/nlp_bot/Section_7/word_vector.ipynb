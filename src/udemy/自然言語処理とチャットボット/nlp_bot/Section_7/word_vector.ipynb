{
 "cells": [
  {
   "cell_type": "markdown",
   "metadata": {},
   "source": [
    "# 単語間の演算\n",
    "単語ベクトルを使って、単語間の演算を行います。"
   ]
  },
  {
   "cell_type": "markdown",
   "metadata": {},
   "source": [
    "## データの読み込み、及びword2vecによる学習\n",
    "これまでと同様に、データの読み込み及びword2vecによる学習を行います。"
   ]
  },
  {
   "cell_type": "code",
   "execution_count": 1,
   "metadata": {},
   "outputs": [
    {
     "name": "stderr",
     "output_type": "stream",
     "text": [
      "/opt/anaconda3/envs/local/lib/python3.9/site-packages/gensim/similarities/__init__.py:15: UserWarning: The gensim.similarities.levenshtein submodule is disabled, because the optional Levenshtein package <https://pypi.org/project/python-Levenshtein/> is unavailable. Install Levenhstein (e.g. `pip install python-Levenshtein`) to suppress this warning.\n",
      "  warnings.warn(msg)\n"
     ]
    }
   ],
   "source": [
    "import pickle\n",
    "from gensim.models import word2vec\n",
    "\n",
    "with open('wagahai_words.pickle', mode='rb') as f:\n",
    "    wagahai_words = pickle.load(f)\n",
    "\n",
    "# print(wagahai_words)\n",
    "\n",
    "# size : 中間層のニューロン数\n",
    "# min_count : この値以下の出現回数の単語を無視\n",
    "# window : 対象単語を中心とした前後の単語数\n",
    "# iter : epochs数\n",
    "# sg : CBOWを使うかskip-gramを使うか 0:CBOW 1:skip-gram\n",
    "model = word2vec.Word2Vec(wagahai_words,\n",
    "                          vector_size=100,\n",
    "                          min_count=5,\n",
    "                          window=5,\n",
    "                          epochs=20,\n",
    "                          sg = 0)"
   ]
  },
  {
   "cell_type": "markdown",
   "metadata": {},
   "source": [
    "## 単語同士の演算\n",
    "word2vecにより、単語同士の足し算、引き算が可能になります。  \n",
    "以下は単語同士の演算の例ですが、単語のベクトル同士で演算が行われ、結果に最も近い単語が表示されます。"
   ]
  },
  {
   "cell_type": "code",
   "execution_count": 2,
   "metadata": {},
   "outputs": [
    {
     "data": {
      "text/plain": [
       "[('甲', 0.8473480343818665),\n",
       " ('庵', 0.8330943584442139),\n",
       " ('笹', 0.8268882036209106),\n",
       " ('亀', 0.8256972432136536),\n",
       " ('巣', 0.8232040405273438),\n",
       " ('按', 0.8229126930236816),\n",
       " ('鴨', 0.8215996026992798),\n",
       " ('匹', 0.8055710792541504),\n",
       " ('叮', 0.8024418950080872),\n",
       " ('之', 0.7996940612792969)]"
      ]
     },
     "execution_count": 2,
     "metadata": {},
     "output_type": "execute_result"
    }
   ],
   "source": [
    "model.wv.most_similar(positive=[\"猫\", \"蜂\"])"
   ]
  },
  {
   "cell_type": "markdown",
   "metadata": {},
   "source": [
    "positiveは足し合わせる単語のリストです。  \n",
    "従って、上記は\n",
    "**猫 + 人間**\n",
    "を計算しています。\n",
    "\n",
    "以下では、  \n",
    "**人間 + 猫 - 夢**  \n",
    "を演算しています。  "
   ]
  },
  {
   "cell_type": "code",
   "execution_count": 3,
   "metadata": {},
   "outputs": [
    {
     "data": {
      "text/plain": [
       "[('帽', 0.688755214214325),\n",
       " ('玉', 0.6557716131210327),\n",
       " ('硝', 0.6545644998550415),\n",
       " ('童', 0.6501428484916687),\n",
       " ('菓', 0.6467989087104797),\n",
       " ('庵', 0.6419408321380615),\n",
       " ('河', 0.6379307508468628),\n",
       " ('規', 0.635828971862793),\n",
       " ('蛮', 0.6288950443267822),\n",
       " ('妨', 0.6278883218765259)]"
      ]
     },
     "execution_count": 3,
     "metadata": {},
     "output_type": "execute_result"
    }
   ],
   "source": [
    "model.wv.most_similar(positive=[\"蜂\", \"猫\"], negative=[\"夢\"])"
   ]
  },
  {
   "cell_type": "markdown",
   "metadata": {},
   "source": [
    "negativeは引く単語のリストです。"
   ]
  },
  {
   "cell_type": "markdown",
   "metadata": {},
   "source": [
    "## 課題:\n",
    "以下に示す単語同士の演算を行い、結果に最も近い単語を表示しましょう。  \n",
    "**教師 - 夢**"
   ]
  },
  {
   "cell_type": "code",
   "execution_count": null,
   "metadata": {},
   "outputs": [],
   "source": []
  }
 ],
 "metadata": {
  "kernelspec": {
   "display_name": "Python 3",
   "language": "python",
   "name": "python3"
  },
  "language_info": {
   "codemirror_mode": {
    "name": "ipython",
    "version": 3
   },
   "file_extension": ".py",
   "mimetype": "text/x-python",
   "name": "python",
   "nbconvert_exporter": "python",
   "pygments_lexer": "ipython3",
   "version": "3.9.5"
  }
 },
 "nbformat": 4,
 "nbformat_minor": 2
}
