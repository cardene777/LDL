{
 "cells": [
  {
   "cell_type": "markdown",
   "metadata": {},
   "source": [
    "# 分散表現の確認\n",
    "word2vecによる分散表現について学びます。"
   ]
  },
  {
   "cell_type": "markdown",
   "metadata": {},
   "source": [
    "## コーパスの前処理\n",
    "前のセクションと同様に、コーパスに前処理を行います。"
   ]
  },
  {
   "cell_type": "code",
   "execution_count": 1,
   "metadata": {},
   "outputs": [],
   "source": [
    "import re\n",
    "import pickle\n",
    "from janome.tokenizer import Tokenizer\n",
    "\n",
    "with open(\"wagahaiwa_nekodearu.txt\", mode=\"r\", encoding=\"utf-8\") as f:  # ファイルの読み込み\n",
    "    wagahai_original = f.read()\n",
    "\n",
    "wagahai = re.sub(\"《[^》]+》\", \"\", wagahai_original) # ルビの削除\n",
    "wagahai = re.sub(\"［[^］]+］\", \"\", wagahai) # 読みの注意の削除\n",
    "wagahai = re.sub(\"[｜ 　「」\\n]\", \"\", wagahai) # | と全角半角スペース、「」と改行の削除\n",
    "\n",
    "seperator = \"。\"  # 。をセパレータに指定\n",
    "wagahai_list = wagahai.split(seperator)  # セパレーターを使って文章をリストに分割する\n",
    "wagahai_list.pop() # 最後の要素は空の文字列になるので、削除\n",
    "wagahai_list = [x+seperator for x in wagahai_list]  # 文章の最後に。を追加\n",
    "        \n",
    "t = Tokenizer()\n",
    "\n",
    "wagahai_words = []\n",
    "for sentence in wagahai_list:\n",
    "    wagahai_words.extend(list(t.tokenize(sentence, wakati=True)))\n",
    "   # 文章ごとに単語に分割し、リストに格納\n",
    "    \n",
    "with open('wagahai_words.pickle', mode='wb') as f:  # pickleに保存\n",
    "    pickle.dump(wagahai_words, f)"
   ]
  },
  {
   "cell_type": "markdown",
   "metadata": {},
   "source": [
    "保存できていることを確認します。"
   ]
  },
  {
   "cell_type": "code",
   "execution_count": 2,
   "metadata": {},
   "outputs": [],
   "source": [
    "with open('wagahai_words.pickle', mode='rb') as f:\n",
    "    wagahai_words = pickle.load(f)\n",
    "\n",
    "# print(wagahai_words)"
   ]
  },
  {
   "cell_type": "markdown",
   "metadata": {},
   "source": [
    "## word2vecを用いた学習\n",
    "今回はword2vecのためにライブラリgensimを使います。  \n",
    "gensimは、様々なトピックモデルを実装したPythonライブラリです。  \n",
    "トピックモデルとは、潜在的なトピックから文章が確率的に生成されると仮定したモデルです。\n",
    "\n",
    "gensimについて、詳細は以下のリンクを参考にどうぞ。  \n",
    "https://radimrehurek.com/gensim/\n",
    "\n",
    "以下では、word2vecを用いてコーパスの学習を行い、学習済みのモデルを作成します。"
   ]
  },
  {
   "cell_type": "code",
   "execution_count": 3,
   "metadata": {},
   "outputs": [
    {
     "name": "stderr",
     "output_type": "stream",
     "text": [
      "/opt/anaconda3/envs/local/lib/python3.9/site-packages/gensim/similarities/__init__.py:15: UserWarning: The gensim.similarities.levenshtein submodule is disabled, because the optional Levenshtein package <https://pypi.org/project/python-Levenshtein/> is unavailable. Install Levenhstein (e.g. `pip install python-Levenshtein`) to suppress this warning.\n",
      "  warnings.warn(msg)\n"
     ]
    }
   ],
   "source": [
    "from gensim.models import word2vec\n",
    "\n",
    "# size : 中間層のニューロン数\n",
    "# min_count : この値以下の出現回数の単語を無視\n",
    "# window : 対象単語を中心とした前後の単語数\n",
    "# iter : epochs数\n",
    "# sg : skip-gramを使うかどうか 0:CBOW 1:skip-gram\n",
    "model = word2vec.Word2Vec(wagahai_words, vector_size=100, min_count=5, window=5, epochs=20, sg = 0)"
   ]
  },
  {
   "cell_type": "markdown",
   "metadata": {},
   "source": [
    "分散表現を見ていきましょう。  \n",
    "重みを表す行列（分散表現）の形状と、行列そのものを表示します。"
   ]
  },
  {
   "cell_type": "code",
   "execution_count": 4,
   "metadata": {},
   "outputs": [
    {
     "name": "stdout",
     "output_type": "stream",
     "text": [
      "(1918, 100)\n",
      "[[ 0.1942895  -0.0501147  -0.12820184 ...  0.48983166 -0.19787253\n",
      "   0.44540128]\n",
      " [-0.7643005  -0.6531269   0.73792166 ...  0.93104035 -0.53917426\n",
      "  -0.40874007]\n",
      " [ 0.09456427  0.5060688  -0.35848436 ...  0.9517323   0.3165773\n",
      "  -0.10096911]\n",
      " ...\n",
      " [-0.0058881  -0.03270137 -0.00377174 ... -0.08479176 -0.06973612\n",
      "  -0.12364889]\n",
      " [-0.03240474 -0.01616859 -0.0747441  ... -0.12825122  0.19710721\n",
      "  -0.19638833]\n",
      " [-0.00867903  0.08252893 -0.01295252 ... -0.14270966  0.10225292\n",
      "  -0.13844164]]\n"
     ]
    }
   ],
   "source": [
    "print(model.wv.vectors.shape)  # 分散表現の形状\n",
    "print(model.wv.vectors)  # 分散表現"
   ]
  },
  {
   "cell_type": "markdown",
   "metadata": {},
   "source": [
    "語彙の数、および語彙の最初の10語を表示します。"
   ]
  },
  {
   "cell_type": "code",
   "execution_count": 5,
   "metadata": {},
   "outputs": [
    {
     "name": "stdout",
     "output_type": "stream",
     "text": [
      "1918\n",
      "['の', 'い', 'る', 'て', 'な', 'と', 'に', '。', 'か', 'し']\n"
     ]
    }
   ],
   "source": [
    "print(len(model.wv.index_to_key))  # 語彙の数\n",
    "print(model.wv.index_to_key[:10])  # 最初の10単語"
   ]
  },
  {
   "cell_type": "markdown",
   "metadata": {},
   "source": [
    "語彙における、最初の単語の単語ベクトルを2通りの方法で表示します。"
   ]
  },
  {
   "cell_type": "code",
   "execution_count": 6,
   "metadata": {},
   "outputs": [
    {
     "name": "stdout",
     "output_type": "stream",
     "text": [
      "[ 0.1942895  -0.0501147  -0.12820184  0.13635032 -0.6053373   0.5225144\n",
      " -0.01715966 -0.01865283 -0.9644791   0.18599837 -0.01022938 -0.33068272\n",
      "  0.8365034   0.57771134 -0.61078745 -0.45551297  0.9060428   0.6509636\n",
      " -0.7758635  -0.98626477  0.5622609  -0.60753447  0.27126592  0.21536641\n",
      "  0.2914974   0.10955942 -0.6375244   0.57521844 -0.4587857   0.14071426\n",
      "  0.18125032  0.18191835  0.00340088 -0.8161173  -0.39108387  0.42767632\n",
      "  0.3383727   0.6485365  -0.31963384 -0.91161525 -0.6085069   0.4520803\n",
      "  0.22863248  0.50233173 -0.4850589  -0.73530424 -0.20084564  0.2421846\n",
      "  0.18445009  0.56838685 -0.18230604  0.27157733 -0.81602454 -1.0407478\n",
      "  0.07344764  0.04872707 -0.2871886   0.25288028  0.05714323 -0.566729\n",
      " -0.16924308 -0.5878411   0.54115903  0.2743494  -0.4508098   0.9525985\n",
      "  0.08284912  0.11392804 -0.798441    0.14463887  0.25419617  0.450397\n",
      "  0.3117349   0.8645946   0.7458285   0.02277634  0.18972449  0.15366188\n",
      " -0.6390862  -0.00122656 -0.62477213 -0.58279526  0.4187462   0.44872996\n",
      " -1.1009064  -0.25239548  0.29624242  0.34437037 -0.39838925  0.0635768\n",
      " -0.36017916  0.19781032 -0.08996301  0.31518364  0.6633561  -0.10275354\n",
      " -0.5687178   0.48983166 -0.19787253  0.44540128]\n",
      "[ 0.1942895  -0.0501147  -0.12820184  0.13635032 -0.6053373   0.5225144\n",
      " -0.01715966 -0.01865283 -0.9644791   0.18599837 -0.01022938 -0.33068272\n",
      "  0.8365034   0.57771134 -0.61078745 -0.45551297  0.9060428   0.6509636\n",
      " -0.7758635  -0.98626477  0.5622609  -0.60753447  0.27126592  0.21536641\n",
      "  0.2914974   0.10955942 -0.6375244   0.57521844 -0.4587857   0.14071426\n",
      "  0.18125032  0.18191835  0.00340088 -0.8161173  -0.39108387  0.42767632\n",
      "  0.3383727   0.6485365  -0.31963384 -0.91161525 -0.6085069   0.4520803\n",
      "  0.22863248  0.50233173 -0.4850589  -0.73530424 -0.20084564  0.2421846\n",
      "  0.18445009  0.56838685 -0.18230604  0.27157733 -0.81602454 -1.0407478\n",
      "  0.07344764  0.04872707 -0.2871886   0.25288028  0.05714323 -0.566729\n",
      " -0.16924308 -0.5878411   0.54115903  0.2743494  -0.4508098   0.9525985\n",
      "  0.08284912  0.11392804 -0.798441    0.14463887  0.25419617  0.450397\n",
      "  0.3117349   0.8645946   0.7458285   0.02277634  0.18972449  0.15366188\n",
      " -0.6390862  -0.00122656 -0.62477213 -0.58279526  0.4187462   0.44872996\n",
      " -1.1009064  -0.25239548  0.29624242  0.34437037 -0.39838925  0.0635768\n",
      " -0.36017916  0.19781032 -0.08996301  0.31518364  0.6633561  -0.10275354\n",
      " -0.5687178   0.48983166 -0.19787253  0.44540128]\n"
     ]
    }
   ],
   "source": [
    "print(model.wv.vectors[0])  # 最初のベクトル\n",
    "print(model.wv.__getitem__(\"の\"))  # 最初の単語「の」のベクトル"
   ]
  },
  {
   "cell_type": "markdown",
   "metadata": {},
   "source": [
    "両者ともに同じベクトルですね。"
   ]
  },
  {
   "cell_type": "markdown",
   "metadata": {},
   "source": [
    "## 課題:\n",
    "単語「猫」を単語ベクトルで表してみましょう。  \n",
    "また、skip-gramも試して結果を比較してみましょう。"
   ]
  },
  {
   "cell_type": "code",
   "execution_count": null,
   "metadata": {},
   "outputs": [],
   "source": []
  }
 ],
 "metadata": {
  "kernelspec": {
   "display_name": "Python 3",
   "language": "python",
   "name": "python3"
  },
  "language_info": {
   "codemirror_mode": {
    "name": "ipython",
    "version": 3
   },
   "file_extension": ".py",
   "mimetype": "text/x-python",
   "name": "python",
   "nbconvert_exporter": "python",
   "pygments_lexer": "ipython3",
   "version": "3.9.5"
  }
 },
 "nbformat": 4,
 "nbformat_minor": 2
}
