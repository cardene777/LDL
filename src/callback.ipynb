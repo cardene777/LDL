{
 "cells": [
  {
   "cell_type": "markdown",
   "id": "dated-details",
   "metadata": {},
   "source": [
    "# callback\n",
    "\n",
    "- 学習中の所定の段階で適用される機能の集合。\n",
    "- 学習中の結果を保存したり、学習率を調整したり、過学習を抑えるために学習を止めたりすることができる。\n",
    "- 複数指定できる。"
   ]
  },
  {
   "cell_type": "code",
   "execution_count": null,
   "id": "junior-thomas",
   "metadata": {},
   "outputs": [],
   "source": [
    "keras.callbacks.EarlyStopping(monitor-\"val_loss\", min_delta=0, \n",
    "                             patience=0, verbose=0, mode=\"auto\")"
   ]
  },
  {
   "cell_type": "code",
   "execution_count": null,
   "id": "robust-flight",
   "metadata": {},
   "outputs": [],
   "source": [
    "# 損失履歴はコールバックを定義することで保存できる。\n",
    "class LossHistory(keras.callbacks.Callback):\n",
    "    def on_train_begin(self, logs={}):\n",
    "        self.losses = []\n",
    "        \n",
    "    def on_batch_end(self, batch, logs={}):\n",
    "        self.losses.append(logs.get(\"loss\"))\n",
    "        \n",
    "model = Sequential()\n",
    "model.add(Dense(10, input_dim=784, init=\"uniform\"))\n",
    "model.add(Activation(\"softmax\"))\n",
    "model.conpile(loss=\"categorical_crossentropy\", optimizer=\"rmsprop\")\n",
    "history = LossHistory()\n",
    "model.fit(X_train, Y_train, batch_size=128, nb_epoch=20, verbose=0, callbacks=[history])\n",
    "print(history.losses)"
   ]
  },
  {
   "cell_type": "markdown",
   "id": "built-belief",
   "metadata": {},
   "source": [
    "# チェックポイント\n",
    "- アプリケーションの状態のスナップショットを定期的に保存するプロセス。\n",
    "- 最後に保存された状態からアプリケーションを再開することができる。"
   ]
  },
  {
   "cell_type": "code",
   "execution_count": null,
   "id": "medical-sterling",
   "metadata": {},
   "outputs": [],
   "source": [
    "checkpoint = ModelCheckpoint(filepath=os.path.join(MODEL_DIR,\"model-{epoch:02d}.h5\"))\n",
    "model.fit(X_train, Y_train, batch_size=BATCH_SIZE, nb_epoch=NUM_EPOCHS, validation_split=0.1, callbacks=[checkpoint])"
   ]
  },
  {
   "cell_type": "markdown",
   "id": "informal-button",
   "metadata": {},
   "source": [
    "# TensorBoard\n",
    "- 学習とテストの評価値、及びモデル内の異なる層の活性化ヒストグラムを保存するためのコールバックを提供。"
   ]
  },
  {
   "cell_type": "code",
   "execution_count": null,
   "id": "unnecessary-procedure",
   "metadata": {},
   "outputs": [],
   "source": [
    "keras.callbacks.TensorBoard(log_dir=\"./logs\", histogram_freq=0, batch_size=32, write_graph=True, write_grads=False,\n",
    "                           write_images=False, embeddings_freq=0, embeddings_layer_names=None, embeddings_metadata=None)\n",
    "\n",
    "# TensorBoardをコマンドラインから起動\n",
    "$ tensorboard --logdir=/full_path_to_your_logs"
   ]
  },
  {
   "cell_type": "markdown",
   "id": "offensive-forth",
   "metadata": {},
   "source": [
    "# Quiver\n",
    "\n",
    "- 畳み込みニューラルネットワークの特徴をインタラクティブな方法で可視化できる。"
   ]
  },
  {
   "cell_type": "code",
   "execution_count": null,
   "id": "treated-tourism",
   "metadata": {},
   "outputs": [],
   "source": [
    "$ pip install quiver_engine\n",
    "\n",
    "from quiver_engine import server\n",
    "server.launch(model)\n",
    "\n",
    "# localhost:5000"
   ]
  }
 ],
 "metadata": {
  "kernelspec": {
   "display_name": "Python 3",
   "language": "python",
   "name": "python3"
  },
  "language_info": {
   "codemirror_mode": {
    "name": "ipython",
    "version": 3
   },
   "file_extension": ".py",
   "mimetype": "text/x-python",
   "name": "python",
   "nbconvert_exporter": "python",
   "pygments_lexer": "ipython3",
   "version": "3.7.10"
  }
 },
 "nbformat": 4,
 "nbformat_minor": 5
}
